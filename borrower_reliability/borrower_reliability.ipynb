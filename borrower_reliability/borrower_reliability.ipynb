{
 "cells": [
  {
   "cell_type": "markdown",
   "id": "936546d0",
   "metadata": {
    "lang": "en"
   },
   "source": [
    "# Study of borrower reliability"
   ]
  },
  {
   "cell_type": "markdown",
   "id": "a364a501",
   "metadata": {},
   "source": [
    "Here we make a small EDA project explaining which factors contribute to repaying the loan on time"
   ]
  },
  {
   "cell_type": "markdown",
   "id": "8a471805",
   "metadata": {
    "id": "744d7639"
   },
   "source": [
    "## Opening the file"
   ]
  },
  {
   "cell_type": "code",
   "execution_count": 3,
   "id": "595901af",
   "metadata": {
    "id": "7bcf75c9"
   },
   "outputs": [],
   "source": [
    "import pandas as pd\n",
    "\n",
    "try:\n",
    "    data = pd.read_csv('/datasets/data.csv')\n",
    "except:\n",
    "    data = pd.read_csv('https://code.s3.yandex.net/datasets/data.csv')"
   ]
  },
  {
   "cell_type": "code",
   "execution_count": 4,
   "id": "4aa1c3f8",
   "metadata": {
    "id": "2a7cab99",
    "outputId": "1a8f3ef2-d323-4ec2-ddf7-89670b5944c4"
   },
   "outputs": [
    {
     "data": {
      "text/html": [
       "<div>\n",
       "<style scoped>\n",
       "    .dataframe tbody tr th:only-of-type {\n",
       "        vertical-align: middle;\n",
       "    }\n",
       "\n",
       "    .dataframe tbody tr th {\n",
       "        vertical-align: top;\n",
       "    }\n",
       "\n",
       "    .dataframe thead th {\n",
       "        text-align: right;\n",
       "    }\n",
       "</style>\n",
       "<table border=\"1\" class=\"dataframe\">\n",
       "  <thead>\n",
       "    <tr style=\"text-align: right;\">\n",
       "      <th></th>\n",
       "      <th>children</th>\n",
       "      <th>days_employed</th>\n",
       "      <th>dob_years</th>\n",
       "      <th>education</th>\n",
       "      <th>education_id</th>\n",
       "      <th>family_status</th>\n",
       "      <th>family_status_id</th>\n",
       "      <th>gender</th>\n",
       "      <th>income_type</th>\n",
       "      <th>debt</th>\n",
       "      <th>total_income</th>\n",
       "      <th>purpose</th>\n",
       "    </tr>\n",
       "  </thead>\n",
       "  <tbody>\n",
       "    <tr>\n",
       "      <th>0</th>\n",
       "      <td>1</td>\n",
       "      <td>-8437.673028</td>\n",
       "      <td>42</td>\n",
       "      <td>высшее</td>\n",
       "      <td>0</td>\n",
       "      <td>женат / замужем</td>\n",
       "      <td>0</td>\n",
       "      <td>F</td>\n",
       "      <td>сотрудник</td>\n",
       "      <td>0</td>\n",
       "      <td>253875.639453</td>\n",
       "      <td>покупка жилья</td>\n",
       "    </tr>\n",
       "    <tr>\n",
       "      <th>1</th>\n",
       "      <td>1</td>\n",
       "      <td>-4024.803754</td>\n",
       "      <td>36</td>\n",
       "      <td>среднее</td>\n",
       "      <td>1</td>\n",
       "      <td>женат / замужем</td>\n",
       "      <td>0</td>\n",
       "      <td>F</td>\n",
       "      <td>сотрудник</td>\n",
       "      <td>0</td>\n",
       "      <td>112080.014102</td>\n",
       "      <td>приобретение автомобиля</td>\n",
       "    </tr>\n",
       "    <tr>\n",
       "      <th>2</th>\n",
       "      <td>0</td>\n",
       "      <td>-5623.422610</td>\n",
       "      <td>33</td>\n",
       "      <td>Среднее</td>\n",
       "      <td>1</td>\n",
       "      <td>женат / замужем</td>\n",
       "      <td>0</td>\n",
       "      <td>M</td>\n",
       "      <td>сотрудник</td>\n",
       "      <td>0</td>\n",
       "      <td>145885.952297</td>\n",
       "      <td>покупка жилья</td>\n",
       "    </tr>\n",
       "    <tr>\n",
       "      <th>3</th>\n",
       "      <td>3</td>\n",
       "      <td>-4124.747207</td>\n",
       "      <td>32</td>\n",
       "      <td>среднее</td>\n",
       "      <td>1</td>\n",
       "      <td>женат / замужем</td>\n",
       "      <td>0</td>\n",
       "      <td>M</td>\n",
       "      <td>сотрудник</td>\n",
       "      <td>0</td>\n",
       "      <td>267628.550329</td>\n",
       "      <td>дополнительное образование</td>\n",
       "    </tr>\n",
       "    <tr>\n",
       "      <th>4</th>\n",
       "      <td>0</td>\n",
       "      <td>340266.072047</td>\n",
       "      <td>53</td>\n",
       "      <td>среднее</td>\n",
       "      <td>1</td>\n",
       "      <td>гражданский брак</td>\n",
       "      <td>1</td>\n",
       "      <td>F</td>\n",
       "      <td>пенсионер</td>\n",
       "      <td>0</td>\n",
       "      <td>158616.077870</td>\n",
       "      <td>сыграть свадьбу</td>\n",
       "    </tr>\n",
       "    <tr>\n",
       "      <th>5</th>\n",
       "      <td>0</td>\n",
       "      <td>-926.185831</td>\n",
       "      <td>27</td>\n",
       "      <td>высшее</td>\n",
       "      <td>0</td>\n",
       "      <td>гражданский брак</td>\n",
       "      <td>1</td>\n",
       "      <td>M</td>\n",
       "      <td>компаньон</td>\n",
       "      <td>0</td>\n",
       "      <td>255763.565419</td>\n",
       "      <td>покупка жилья</td>\n",
       "    </tr>\n",
       "    <tr>\n",
       "      <th>6</th>\n",
       "      <td>0</td>\n",
       "      <td>-2879.202052</td>\n",
       "      <td>43</td>\n",
       "      <td>высшее</td>\n",
       "      <td>0</td>\n",
       "      <td>женат / замужем</td>\n",
       "      <td>0</td>\n",
       "      <td>F</td>\n",
       "      <td>компаньон</td>\n",
       "      <td>0</td>\n",
       "      <td>240525.971920</td>\n",
       "      <td>операции с жильем</td>\n",
       "    </tr>\n",
       "    <tr>\n",
       "      <th>7</th>\n",
       "      <td>0</td>\n",
       "      <td>-152.779569</td>\n",
       "      <td>50</td>\n",
       "      <td>СРЕДНЕЕ</td>\n",
       "      <td>1</td>\n",
       "      <td>женат / замужем</td>\n",
       "      <td>0</td>\n",
       "      <td>M</td>\n",
       "      <td>сотрудник</td>\n",
       "      <td>0</td>\n",
       "      <td>135823.934197</td>\n",
       "      <td>образование</td>\n",
       "    </tr>\n",
       "    <tr>\n",
       "      <th>8</th>\n",
       "      <td>2</td>\n",
       "      <td>-6929.865299</td>\n",
       "      <td>35</td>\n",
       "      <td>ВЫСШЕЕ</td>\n",
       "      <td>0</td>\n",
       "      <td>гражданский брак</td>\n",
       "      <td>1</td>\n",
       "      <td>F</td>\n",
       "      <td>сотрудник</td>\n",
       "      <td>0</td>\n",
       "      <td>95856.832424</td>\n",
       "      <td>на проведение свадьбы</td>\n",
       "    </tr>\n",
       "    <tr>\n",
       "      <th>9</th>\n",
       "      <td>0</td>\n",
       "      <td>-2188.756445</td>\n",
       "      <td>41</td>\n",
       "      <td>среднее</td>\n",
       "      <td>1</td>\n",
       "      <td>женат / замужем</td>\n",
       "      <td>0</td>\n",
       "      <td>M</td>\n",
       "      <td>сотрудник</td>\n",
       "      <td>0</td>\n",
       "      <td>144425.938277</td>\n",
       "      <td>покупка жилья для семьи</td>\n",
       "    </tr>\n",
       "    <tr>\n",
       "      <th>10</th>\n",
       "      <td>2</td>\n",
       "      <td>-4171.483647</td>\n",
       "      <td>36</td>\n",
       "      <td>высшее</td>\n",
       "      <td>0</td>\n",
       "      <td>женат / замужем</td>\n",
       "      <td>0</td>\n",
       "      <td>M</td>\n",
       "      <td>компаньон</td>\n",
       "      <td>0</td>\n",
       "      <td>113943.491460</td>\n",
       "      <td>покупка недвижимости</td>\n",
       "    </tr>\n",
       "    <tr>\n",
       "      <th>11</th>\n",
       "      <td>0</td>\n",
       "      <td>-792.701887</td>\n",
       "      <td>40</td>\n",
       "      <td>среднее</td>\n",
       "      <td>1</td>\n",
       "      <td>женат / замужем</td>\n",
       "      <td>0</td>\n",
       "      <td>F</td>\n",
       "      <td>сотрудник</td>\n",
       "      <td>0</td>\n",
       "      <td>77069.234271</td>\n",
       "      <td>покупка коммерческой недвижимости</td>\n",
       "    </tr>\n",
       "    <tr>\n",
       "      <th>12</th>\n",
       "      <td>0</td>\n",
       "      <td>NaN</td>\n",
       "      <td>65</td>\n",
       "      <td>среднее</td>\n",
       "      <td>1</td>\n",
       "      <td>гражданский брак</td>\n",
       "      <td>1</td>\n",
       "      <td>M</td>\n",
       "      <td>пенсионер</td>\n",
       "      <td>0</td>\n",
       "      <td>NaN</td>\n",
       "      <td>сыграть свадьбу</td>\n",
       "    </tr>\n",
       "    <tr>\n",
       "      <th>13</th>\n",
       "      <td>0</td>\n",
       "      <td>-1846.641941</td>\n",
       "      <td>54</td>\n",
       "      <td>неоконченное высшее</td>\n",
       "      <td>2</td>\n",
       "      <td>женат / замужем</td>\n",
       "      <td>0</td>\n",
       "      <td>F</td>\n",
       "      <td>сотрудник</td>\n",
       "      <td>0</td>\n",
       "      <td>130458.228857</td>\n",
       "      <td>приобретение автомобиля</td>\n",
       "    </tr>\n",
       "    <tr>\n",
       "      <th>14</th>\n",
       "      <td>0</td>\n",
       "      <td>-1844.956182</td>\n",
       "      <td>56</td>\n",
       "      <td>высшее</td>\n",
       "      <td>0</td>\n",
       "      <td>гражданский брак</td>\n",
       "      <td>1</td>\n",
       "      <td>F</td>\n",
       "      <td>компаньон</td>\n",
       "      <td>1</td>\n",
       "      <td>165127.911772</td>\n",
       "      <td>покупка жилой недвижимости</td>\n",
       "    </tr>\n",
       "    <tr>\n",
       "      <th>15</th>\n",
       "      <td>1</td>\n",
       "      <td>-972.364419</td>\n",
       "      <td>26</td>\n",
       "      <td>среднее</td>\n",
       "      <td>1</td>\n",
       "      <td>женат / замужем</td>\n",
       "      <td>0</td>\n",
       "      <td>F</td>\n",
       "      <td>сотрудник</td>\n",
       "      <td>0</td>\n",
       "      <td>116820.904450</td>\n",
       "      <td>строительство собственной недвижимости</td>\n",
       "    </tr>\n",
       "    <tr>\n",
       "      <th>16</th>\n",
       "      <td>0</td>\n",
       "      <td>-1719.934226</td>\n",
       "      <td>35</td>\n",
       "      <td>среднее</td>\n",
       "      <td>1</td>\n",
       "      <td>женат / замужем</td>\n",
       "      <td>0</td>\n",
       "      <td>F</td>\n",
       "      <td>сотрудник</td>\n",
       "      <td>0</td>\n",
       "      <td>289202.704229</td>\n",
       "      <td>недвижимость</td>\n",
       "    </tr>\n",
       "    <tr>\n",
       "      <th>17</th>\n",
       "      <td>0</td>\n",
       "      <td>-2369.999720</td>\n",
       "      <td>33</td>\n",
       "      <td>высшее</td>\n",
       "      <td>0</td>\n",
       "      <td>гражданский брак</td>\n",
       "      <td>1</td>\n",
       "      <td>M</td>\n",
       "      <td>сотрудник</td>\n",
       "      <td>0</td>\n",
       "      <td>90410.586745</td>\n",
       "      <td>строительство недвижимости</td>\n",
       "    </tr>\n",
       "    <tr>\n",
       "      <th>18</th>\n",
       "      <td>0</td>\n",
       "      <td>400281.136913</td>\n",
       "      <td>53</td>\n",
       "      <td>среднее</td>\n",
       "      <td>1</td>\n",
       "      <td>вдовец / вдова</td>\n",
       "      <td>2</td>\n",
       "      <td>F</td>\n",
       "      <td>пенсионер</td>\n",
       "      <td>0</td>\n",
       "      <td>56823.777243</td>\n",
       "      <td>на покупку подержанного автомобиля</td>\n",
       "    </tr>\n",
       "    <tr>\n",
       "      <th>19</th>\n",
       "      <td>0</td>\n",
       "      <td>-10038.818549</td>\n",
       "      <td>48</td>\n",
       "      <td>СРЕДНЕЕ</td>\n",
       "      <td>1</td>\n",
       "      <td>в разводе</td>\n",
       "      <td>3</td>\n",
       "      <td>F</td>\n",
       "      <td>сотрудник</td>\n",
       "      <td>0</td>\n",
       "      <td>242831.107982</td>\n",
       "      <td>на покупку своего автомобиля</td>\n",
       "    </tr>\n",
       "  </tbody>\n",
       "</table>\n",
       "</div>"
      ],
      "text/plain": [
       "    children  days_employed  dob_years            education  education_id  \\\n",
       "0          1   -8437.673028         42               высшее             0   \n",
       "1          1   -4024.803754         36              среднее             1   \n",
       "2          0   -5623.422610         33              Среднее             1   \n",
       "3          3   -4124.747207         32              среднее             1   \n",
       "4          0  340266.072047         53              среднее             1   \n",
       "5          0    -926.185831         27               высшее             0   \n",
       "6          0   -2879.202052         43               высшее             0   \n",
       "7          0    -152.779569         50              СРЕДНЕЕ             1   \n",
       "8          2   -6929.865299         35               ВЫСШЕЕ             0   \n",
       "9          0   -2188.756445         41              среднее             1   \n",
       "10         2   -4171.483647         36               высшее             0   \n",
       "11         0    -792.701887         40              среднее             1   \n",
       "12         0            NaN         65              среднее             1   \n",
       "13         0   -1846.641941         54  неоконченное высшее             2   \n",
       "14         0   -1844.956182         56               высшее             0   \n",
       "15         1    -972.364419         26              среднее             1   \n",
       "16         0   -1719.934226         35              среднее             1   \n",
       "17         0   -2369.999720         33               высшее             0   \n",
       "18         0  400281.136913         53              среднее             1   \n",
       "19         0  -10038.818549         48              СРЕДНЕЕ             1   \n",
       "\n",
       "       family_status  family_status_id gender income_type  debt  \\\n",
       "0    женат / замужем                 0      F   сотрудник     0   \n",
       "1    женат / замужем                 0      F   сотрудник     0   \n",
       "2    женат / замужем                 0      M   сотрудник     0   \n",
       "3    женат / замужем                 0      M   сотрудник     0   \n",
       "4   гражданский брак                 1      F   пенсионер     0   \n",
       "5   гражданский брак                 1      M   компаньон     0   \n",
       "6    женат / замужем                 0      F   компаньон     0   \n",
       "7    женат / замужем                 0      M   сотрудник     0   \n",
       "8   гражданский брак                 1      F   сотрудник     0   \n",
       "9    женат / замужем                 0      M   сотрудник     0   \n",
       "10   женат / замужем                 0      M   компаньон     0   \n",
       "11   женат / замужем                 0      F   сотрудник     0   \n",
       "12  гражданский брак                 1      M   пенсионер     0   \n",
       "13   женат / замужем                 0      F   сотрудник     0   \n",
       "14  гражданский брак                 1      F   компаньон     1   \n",
       "15   женат / замужем                 0      F   сотрудник     0   \n",
       "16   женат / замужем                 0      F   сотрудник     0   \n",
       "17  гражданский брак                 1      M   сотрудник     0   \n",
       "18    вдовец / вдова                 2      F   пенсионер     0   \n",
       "19         в разводе                 3      F   сотрудник     0   \n",
       "\n",
       "     total_income                                 purpose  \n",
       "0   253875.639453                           покупка жилья  \n",
       "1   112080.014102                 приобретение автомобиля  \n",
       "2   145885.952297                           покупка жилья  \n",
       "3   267628.550329              дополнительное образование  \n",
       "4   158616.077870                         сыграть свадьбу  \n",
       "5   255763.565419                           покупка жилья  \n",
       "6   240525.971920                       операции с жильем  \n",
       "7   135823.934197                             образование  \n",
       "8    95856.832424                   на проведение свадьбы  \n",
       "9   144425.938277                 покупка жилья для семьи  \n",
       "10  113943.491460                    покупка недвижимости  \n",
       "11   77069.234271       покупка коммерческой недвижимости  \n",
       "12            NaN                         сыграть свадьбу  \n",
       "13  130458.228857                 приобретение автомобиля  \n",
       "14  165127.911772              покупка жилой недвижимости  \n",
       "15  116820.904450  строительство собственной недвижимости  \n",
       "16  289202.704229                            недвижимость  \n",
       "17   90410.586745              строительство недвижимости  \n",
       "18   56823.777243      на покупку подержанного автомобиля  \n",
       "19  242831.107982            на покупку своего автомобиля  "
      ]
     },
     "execution_count": 4,
     "metadata": {},
     "output_type": "execute_result"
    }
   ],
   "source": [
    "data.head(20)"
   ]
  },
  {
   "cell_type": "code",
   "execution_count": 5,
   "id": "cbd253b5",
   "metadata": {
    "id": "2b757bca",
    "outputId": "15376089-8dad-46c9-b520-c05248d43158"
   },
   "outputs": [
    {
     "name": "stdout",
     "output_type": "stream",
     "text": [
      "<class 'pandas.core.frame.DataFrame'>\n",
      "RangeIndex: 21525 entries, 0 to 21524\n",
      "Data columns (total 12 columns):\n",
      " #   Column            Non-Null Count  Dtype  \n",
      "---  ------            --------------  -----  \n",
      " 0   children          21525 non-null  int64  \n",
      " 1   days_employed     19351 non-null  float64\n",
      " 2   dob_years         21525 non-null  int64  \n",
      " 3   education         21525 non-null  object \n",
      " 4   education_id      21525 non-null  int64  \n",
      " 5   family_status     21525 non-null  object \n",
      " 6   family_status_id  21525 non-null  int64  \n",
      " 7   gender            21525 non-null  object \n",
      " 8   income_type       21525 non-null  object \n",
      " 9   debt              21525 non-null  int64  \n",
      " 10  total_income      19351 non-null  float64\n",
      " 11  purpose           21525 non-null  object \n",
      "dtypes: float64(2), int64(5), object(5)\n",
      "memory usage: 2.0+ MB\n"
     ]
    }
   ],
   "source": [
    "data.info()"
   ]
  },
  {
   "cell_type": "markdown",
   "id": "6eb2732f",
   "metadata": {
    "lang": "en"
   },
   "source": [
    "## Data preprocessing"
   ]
  },
  {
   "cell_type": "markdown",
   "id": "5a1114be",
   "metadata": {
    "lang": "en"
   },
   "source": [
    "### Removing missing values"
   ]
  },
  {
   "cell_type": "code",
   "execution_count": 6,
   "id": "90314ee7",
   "metadata": {
    "id": "7f9b2309",
    "outputId": "81f4d817-781c-465c-ed15-91ce4446810d"
   },
   "outputs": [
    {
     "data": {
      "text/plain": [
       "children               0\n",
       "days_employed       2174\n",
       "dob_years              0\n",
       "education              0\n",
       "education_id           0\n",
       "family_status          0\n",
       "family_status_id       0\n",
       "gender                 0\n",
       "income_type            0\n",
       "debt                   0\n",
       "total_income        2174\n",
       "purpose                0\n",
       "dtype: int64"
      ]
     },
     "execution_count": 6,
     "metadata": {},
     "output_type": "execute_result"
    }
   ],
   "source": [
    "data.isna().sum()"
   ]
  },
  {
   "cell_type": "markdown",
   "id": "075074a1",
   "metadata": {},
   "source": [
    "Imputing by median"
   ]
  },
  {
   "cell_type": "code",
   "execution_count": 7,
   "id": "089f08ac",
   "metadata": {
    "id": "42006a93"
   },
   "outputs": [],
   "source": [
    "for t in data['income_type'].unique():\n",
    "    data.loc[(data['income_type'] == t) & (data['total_income'].isna()), 'total_income'] = \\\n",
    "    data.loc[(data['income_type'] == t), 'total_income'].median()"
   ]
  },
  {
   "cell_type": "markdown",
   "id": "c7ba7f94",
   "metadata": {
    "lang": "en"
   },
   "source": [
    "### Handling anomalous values"
   ]
  },
  {
   "cell_type": "code",
   "execution_count": 8,
   "id": "5dc5c536",
   "metadata": {
    "id": "f6f055bf"
   },
   "outputs": [],
   "source": [
    "data['days_employed'] = data['days_employed'].abs()"
   ]
  },
  {
   "cell_type": "code",
   "execution_count": 9,
   "id": "d2af3a69",
   "metadata": {
    "id": "85a5faf6",
    "outputId": "801ef80e-522b-4668-f34e-565af7432bcf"
   },
   "outputs": [
    {
     "data": {
      "text/plain": [
       "income_type\n",
       "безработный        366413.652744\n",
       "в декрете            3296.759962\n",
       "госслужащий          2689.368353\n",
       "компаньон            1547.382223\n",
       "пенсионер          365213.306266\n",
       "предприниматель       520.848083\n",
       "сотрудник            1574.202821\n",
       "студент               578.751554\n",
       "Name: days_employed, dtype: float64"
      ]
     },
     "execution_count": 9,
     "metadata": {},
     "output_type": "execute_result"
    }
   ],
   "source": [
    "data.groupby('income_type')['days_employed'].agg('median')"
   ]
  },
  {
   "cell_type": "markdown",
   "id": "9167d02a",
   "metadata": {
    "lang": "en"
   },
   "source": [
    "Two types (unemployed and pensioners) will have abnormally large values. These values are difficult to correct, so we will leave them as they are. Moreover, we will not need this column for research."
   ]
  },
  {
   "cell_type": "code",
   "execution_count": 10,
   "id": "3c1f327d",
   "metadata": {
    "id": "ef5056eb",
    "outputId": "6975b15c-7f95-4697-d16d-a0c79b657b03"
   },
   "outputs": [
    {
     "data": {
      "text/plain": [
       "array([ 1,  0,  3,  2, -1,  4, 20,  5])"
      ]
     },
     "execution_count": 10,
     "metadata": {},
     "output_type": "execute_result"
    }
   ],
   "source": [
    "data['children'].unique()"
   ]
  },
  {
   "cell_type": "code",
   "execution_count": 11,
   "id": "ded00108",
   "metadata": {
    "id": "3ff9801d"
   },
   "outputs": [],
   "source": [
    "data = data[(data['children'] != -1) & (data['children'] != 20)]"
   ]
  },
  {
   "cell_type": "code",
   "execution_count": 12,
   "id": "e7924e7f",
   "metadata": {
    "id": "ad4fa8b7",
    "outputId": "b2097101-d49d-44d9-901b-32a65c9463d1"
   },
   "outputs": [
    {
     "data": {
      "text/plain": [
       "array([1, 0, 3, 2, 4, 5])"
      ]
     },
     "execution_count": 12,
     "metadata": {},
     "output_type": "execute_result"
    }
   ],
   "source": [
    "data['children'].unique()"
   ]
  },
  {
   "cell_type": "markdown",
   "id": "ceba327b",
   "metadata": {
    "lang": "en"
   },
   "source": [
    "### Removing gaps (continued)"
   ]
  },
  {
   "cell_type": "code",
   "execution_count": 13,
   "id": "a7a3eaee",
   "metadata": {
    "id": "af6b1a7e"
   },
   "outputs": [],
   "source": [
    "for t in data['income_type'].unique():\n",
    "    data.loc[(data['income_type'] == t) & (data['days_employed'].isna()), 'days_employed'] = \\\n",
    "    data.loc[(data['income_type'] == t), 'days_employed'].median()"
   ]
  },
  {
   "cell_type": "code",
   "execution_count": 14,
   "id": "178e18a2",
   "metadata": {
    "id": "55f78bc2",
    "outputId": "8da1e4e1-358e-4e87-98c9-f261bce0a7b2"
   },
   "outputs": [
    {
     "data": {
      "text/plain": [
       "children            0\n",
       "days_employed       0\n",
       "dob_years           0\n",
       "education           0\n",
       "education_id        0\n",
       "family_status       0\n",
       "family_status_id    0\n",
       "gender              0\n",
       "income_type         0\n",
       "debt                0\n",
       "total_income        0\n",
       "purpose             0\n",
       "dtype: int64"
      ]
     },
     "execution_count": 14,
     "metadata": {},
     "output_type": "execute_result"
    }
   ],
   "source": [
    "data.isna().sum()"
   ]
  },
  {
   "cell_type": "markdown",
   "id": "d28e1d6c",
   "metadata": {
    "lang": "en"
   },
   "source": [
    "### Changing data types"
   ]
  },
  {
   "cell_type": "code",
   "execution_count": 15,
   "id": "3812a79e",
   "metadata": {
    "id": "920b65ad"
   },
   "outputs": [],
   "source": [
    "data['total_income'] = data['total_income'].astype(int)"
   ]
  },
  {
   "cell_type": "markdown",
   "id": "3c5c1a51",
   "metadata": {
    "lang": "en"
   },
   "source": [
    "### Handling duplicates"
   ]
  },
  {
   "cell_type": "code",
   "execution_count": 16,
   "id": "6bf031e9",
   "metadata": {},
   "outputs": [],
   "source": [
    "data['education'] = data['education'].str.lower()"
   ]
  },
  {
   "cell_type": "code",
   "execution_count": 17,
   "id": "b0a12156",
   "metadata": {
    "id": "3ee445e4",
    "outputId": "9684deba-1934-42d1-99e1-cda61740f822"
   },
   "outputs": [
    {
     "data": {
      "text/plain": [
       "71"
      ]
     },
     "execution_count": 17,
     "metadata": {},
     "output_type": "execute_result"
    }
   ],
   "source": [
    "data.duplicated().sum()"
   ]
  },
  {
   "cell_type": "code",
   "execution_count": 18,
   "id": "9f0133f9",
   "metadata": {
    "id": "8575fe05"
   },
   "outputs": [],
   "source": [
    "data = data.drop_duplicates()"
   ]
  },
  {
   "cell_type": "markdown",
   "id": "44decd7d",
   "metadata": {
    "lang": "en"
   },
   "source": [
    "### Data categorization"
   ]
  },
  {
   "cell_type": "markdown",
   "id": "61f0a3a2",
   "metadata": {
    "lang": "en"
   },
   "source": [
    "Based on the ranges indicated below, we create a column `total_income_category` with categories in the `data` dataframe:\n",
    "\n",
    "- 0–30000 — `'E'`;\n",
    "- 30001–50000 — `'D'`;\n",
    "- 50001–200000 — `'C'`;\n",
    "- 200001–1000000 — `'B'`;\n",
    "- 1000001 and above - `'A'`."
   ]
  },
  {
   "cell_type": "code",
   "execution_count": 19,
   "id": "9acf4dd6",
   "metadata": {
    "id": "e1771346"
   },
   "outputs": [],
   "source": [
    "def categorize_income(income):\n",
    "    try:\n",
    "        if 0 <= income <= 30000:\n",
    "            return 'E'\n",
    "        elif 30001 <= income <= 50000:\n",
    "            return 'D'\n",
    "        elif 50001 <= income <= 200000:\n",
    "            return 'C'\n",
    "        elif 200001 <= income <= 1000000:\n",
    "            return 'B'\n",
    "        elif income >= 1000001:\n",
    "            return 'A'\n",
    "    except:\n",
    "        pass"
   ]
  },
  {
   "cell_type": "code",
   "execution_count": 20,
   "id": "94c6c5db",
   "metadata": {
    "id": "d5f3586d"
   },
   "outputs": [],
   "source": [
    "data['total_income_category'] = data['total_income'].apply(categorize_income)"
   ]
  },
  {
   "cell_type": "code",
   "execution_count": 21,
   "id": "c96fd94a",
   "metadata": {
    "id": "f67ce9b3",
    "outputId": "673c12d9-7d7e-4ae0-9812-c622c89dd244"
   },
   "outputs": [
    {
     "data": {
      "text/plain": [
       "array(['покупка жилья', 'приобретение автомобиля',\n",
       "       'дополнительное образование', 'сыграть свадьбу',\n",
       "       'операции с жильем', 'образование', 'на проведение свадьбы',\n",
       "       'покупка жилья для семьи', 'покупка недвижимости',\n",
       "       'покупка коммерческой недвижимости', 'покупка жилой недвижимости',\n",
       "       'строительство собственной недвижимости', 'недвижимость',\n",
       "       'строительство недвижимости', 'на покупку подержанного автомобиля',\n",
       "       'на покупку своего автомобиля',\n",
       "       'операции с коммерческой недвижимостью',\n",
       "       'строительство жилой недвижимости', 'жилье',\n",
       "       'операции со своей недвижимостью', 'автомобили',\n",
       "       'заняться образованием', 'сделка с подержанным автомобилем',\n",
       "       'получение образования', 'автомобиль', 'свадьба',\n",
       "       'получение дополнительного образования', 'покупка своего жилья',\n",
       "       'операции с недвижимостью', 'получение высшего образования',\n",
       "       'свой автомобиль', 'сделка с автомобилем',\n",
       "       'профильное образование', 'высшее образование',\n",
       "       'покупка жилья для сдачи', 'на покупку автомобиля', 'ремонт жилью',\n",
       "       'заняться высшим образованием'], dtype=object)"
      ]
     },
     "execution_count": 21,
     "metadata": {},
     "output_type": "execute_result"
    }
   ],
   "source": [
    "data['purpose'].unique()"
   ]
  },
  {
   "cell_type": "code",
   "execution_count": 22,
   "id": "de1ffc85",
   "metadata": {
    "id": "e149fab4"
   },
   "outputs": [],
   "source": [
    "def categorize_purpose(row):\n",
    "    try:\n",
    "        if 'автом' in row:\n",
    "            return 'операции с автомобилем'\n",
    "        elif 'жил' in row or 'недвиж' in row:\n",
    "            return 'операции с недвижимостью'\n",
    "        elif 'свад' in row:\n",
    "            return 'проведение свадьбы'\n",
    "        elif 'образов' in row:\n",
    "            return 'получение образования'\n",
    "    except:\n",
    "        return 'нет категории'"
   ]
  },
  {
   "cell_type": "code",
   "execution_count": 23,
   "id": "26adda7d",
   "metadata": {
    "id": "bf36e69b"
   },
   "outputs": [],
   "source": [
    "data['purpose_category'] = data['purpose'].apply(categorize_purpose)"
   ]
  },
  {
   "cell_type": "markdown",
   "id": "310c52bf",
   "metadata": {
    "lang": "en"
   },
   "source": [
    "## Explore the data"
   ]
  },
  {
   "cell_type": "markdown",
   "id": "977fe80f",
   "metadata": {},
   "source": [
    "**Does the number of children affect borrower's ability to repay the loan on time?**"
   ]
  },
  {
   "cell_type": "markdown",
   "id": "16445410",
   "metadata": {
    "lang": "en"
   },
   "source": [
    "To understand whether the number of children in the borrower’s family affects the repayment of the loan on time, let’s calculate the ratio of debtors to bank clients depending on the number of children in the family.\n",
    "To do this, let's group the dataframe by the 'children' column and calculate the average number of debtors using the agg() method.\n",
    "The hypothesis is that this ratio increases with the number of children.\n",
    "If the data shows that this is indeed the case, then the hypothesis cannot be ruled out."
   ]
  },
  {
   "cell_type": "code",
   "execution_count": 24,
   "id": "cafd6ce0",
   "metadata": {
    "id": "2cacfc4a",
    "scrolled": true
   },
   "outputs": [
    {
     "data": {
      "text/html": [
       "<div>\n",
       "<style scoped>\n",
       "    .dataframe tbody tr th:only-of-type {\n",
       "        vertical-align: middle;\n",
       "    }\n",
       "\n",
       "    .dataframe tbody tr th {\n",
       "        vertical-align: top;\n",
       "    }\n",
       "\n",
       "    .dataframe thead tr th {\n",
       "        text-align: left;\n",
       "    }\n",
       "\n",
       "    .dataframe thead tr:last-of-type th {\n",
       "        text-align: right;\n",
       "    }\n",
       "</style>\n",
       "<table border=\"1\" class=\"dataframe\">\n",
       "  <thead>\n",
       "    <tr>\n",
       "      <th></th>\n",
       "      <th colspan=\"3\" halign=\"left\">debt</th>\n",
       "    </tr>\n",
       "    <tr>\n",
       "      <th></th>\n",
       "      <th>sum</th>\n",
       "      <th>count</th>\n",
       "      <th>mean</th>\n",
       "    </tr>\n",
       "    <tr>\n",
       "      <th>children</th>\n",
       "      <th></th>\n",
       "      <th></th>\n",
       "      <th></th>\n",
       "    </tr>\n",
       "  </thead>\n",
       "  <tbody>\n",
       "    <tr>\n",
       "      <th>0</th>\n",
       "      <td>1063</td>\n",
       "      <td>14091</td>\n",
       "      <td>0.075438</td>\n",
       "    </tr>\n",
       "    <tr>\n",
       "      <th>1</th>\n",
       "      <td>444</td>\n",
       "      <td>4808</td>\n",
       "      <td>0.092346</td>\n",
       "    </tr>\n",
       "    <tr>\n",
       "      <th>2</th>\n",
       "      <td>194</td>\n",
       "      <td>2052</td>\n",
       "      <td>0.094542</td>\n",
       "    </tr>\n",
       "    <tr>\n",
       "      <th>3</th>\n",
       "      <td>27</td>\n",
       "      <td>330</td>\n",
       "      <td>0.081818</td>\n",
       "    </tr>\n",
       "    <tr>\n",
       "      <th>4</th>\n",
       "      <td>4</td>\n",
       "      <td>41</td>\n",
       "      <td>0.097561</td>\n",
       "    </tr>\n",
       "    <tr>\n",
       "      <th>5</th>\n",
       "      <td>0</td>\n",
       "      <td>9</td>\n",
       "      <td>0.000000</td>\n",
       "    </tr>\n",
       "  </tbody>\n",
       "</table>\n",
       "</div>"
      ],
      "text/plain": [
       "          debt                 \n",
       "           sum  count      mean\n",
       "children                       \n",
       "0         1063  14091  0.075438\n",
       "1          444   4808  0.092346\n",
       "2          194   2052  0.094542\n",
       "3           27    330  0.081818\n",
       "4            4     41  0.097561\n",
       "5            0      9  0.000000"
      ]
     },
     "execution_count": 24,
     "metadata": {},
     "output_type": "execute_result"
    }
   ],
   "source": [
    "grouped_by_children = data.groupby('children').agg({'debt': ['sum', 'count', 'mean']})\n",
    "grouped_by_children\n"
   ]
  },
  {
   "cell_type": "code",
   "execution_count": 25,
   "id": "b3a139de",
   "metadata": {},
   "outputs": [
    {
     "data": {
      "text/plain": [
       "<AxesSubplot:ylabel='mean'>"
      ]
     },
     "execution_count": 25,
     "metadata": {},
     "output_type": "execute_result"
    },
    {
     "data": {
      "image/png": "[encoded data removed]",
      "text/plain": [
       "<Figure size 432x288 with 1 Axes>"
      ]
     },
     "metadata": {
      "needs_background": "light"
     },
     "output_type": "display_data"
    }
   ],
   "source": [
    "import seaborn as sns\n",
    "\n",
    "sns.scatterplot(x=list(range(6)), y=grouped_by_children['debt']['mean'])\n"
   ]
  },
  {
   "cell_type": "markdown",
   "id": "1248e589",
   "metadata": {
    "lang": "en"
   },
   "source": [
    "As can be seen in the graph, in general there is an increase in debtors depending on the number of children in the family. But debtors with three and five children are out of the trend. The reason may be that there is too little data on such debtors and they do not reflect reality. For example, if in the data there was one bank client with no debt and with six children, then his average would be equal to 0 and he would be out of the trend in the same way. If there were 5,000 of the same clients, then the average would be higher and, perhaps, would confirm the trend."
   ]
  },
  {
   "cell_type": "code",
   "execution_count": 26,
   "id": "d2f8548a",
   "metadata": {},
   "outputs": [
    {
     "name": "stdout",
     "output_type": "stream",
     "text": [
      "Действительно, таких данных всего 380, что составляет 1.78% от всей выборки.\n"
     ]
    }
   ],
   "source": [
    "large_family_count = len(data[data['children'].isin([3, 4, 5])])\n",
    "large_family_ratio = large_family_count / len(data)\n",
    "print('Действительно, таких данных всего {}, что составляет {:.2%} от всей выборки.'.format(large_family_count, large_family_ratio))\n"
   ]
  },
  {
   "cell_type": "markdown",
   "id": "96393600",
   "metadata": {
    "lang": "en"
   },
   "source": [
    "Perhaps the trend depends not only on the number of children in the family, but also on the type of family. To test this hypothesis, we first obtain a dictionary of family statuses and their ids. Then we will create a summary table on the average number of debtors in families of different statuses and number of children. Next, we’ll build a heatmap and check whether the trend continues. For accuracy, you can remove data on large families from the heatmap, since there are too few of them."
   ]
  },
  {
   "cell_type": "code",
   "execution_count": 27,
   "id": "23f119aa",
   "metadata": {},
   "outputs": [
    {
     "data": {
      "text/html": [
       "<div>\n",
       "<style scoped>\n",
       "    .dataframe tbody tr th:only-of-type {\n",
       "        vertical-align: middle;\n",
       "    }\n",
       "\n",
       "    .dataframe tbody tr th {\n",
       "        vertical-align: top;\n",
       "    }\n",
       "\n",
       "    .dataframe thead th {\n",
       "        text-align: right;\n",
       "    }\n",
       "</style>\n",
       "<table border=\"1\" class=\"dataframe\">\n",
       "  <thead>\n",
       "    <tr style=\"text-align: right;\">\n",
       "      <th>family_status_id</th>\n",
       "      <th>0</th>\n",
       "      <th>1</th>\n",
       "      <th>2</th>\n",
       "      <th>3</th>\n",
       "      <th>4</th>\n",
       "    </tr>\n",
       "    <tr>\n",
       "      <th>family_status</th>\n",
       "      <th></th>\n",
       "      <th></th>\n",
       "      <th></th>\n",
       "      <th></th>\n",
       "      <th></th>\n",
       "    </tr>\n",
       "  </thead>\n",
       "  <tbody>\n",
       "    <tr>\n",
       "      <th>Не женат / не замужем</th>\n",
       "      <td>0</td>\n",
       "      <td>0</td>\n",
       "      <td>0</td>\n",
       "      <td>0</td>\n",
       "      <td>2796</td>\n",
       "    </tr>\n",
       "    <tr>\n",
       "      <th>в разводе</th>\n",
       "      <td>0</td>\n",
       "      <td>0</td>\n",
       "      <td>0</td>\n",
       "      <td>1189</td>\n",
       "      <td>0</td>\n",
       "    </tr>\n",
       "    <tr>\n",
       "      <th>вдовец / вдова</th>\n",
       "      <td>0</td>\n",
       "      <td>0</td>\n",
       "      <td>951</td>\n",
       "      <td>0</td>\n",
       "      <td>0</td>\n",
       "    </tr>\n",
       "    <tr>\n",
       "      <th>гражданский брак</th>\n",
       "      <td>0</td>\n",
       "      <td>4134</td>\n",
       "      <td>0</td>\n",
       "      <td>0</td>\n",
       "      <td>0</td>\n",
       "    </tr>\n",
       "    <tr>\n",
       "      <th>женат / замужем</th>\n",
       "      <td>12261</td>\n",
       "      <td>0</td>\n",
       "      <td>0</td>\n",
       "      <td>0</td>\n",
       "      <td>0</td>\n",
       "    </tr>\n",
       "  </tbody>\n",
       "</table>\n",
       "</div>"
      ],
      "text/plain": [
       "family_status_id           0     1    2     3     4\n",
       "family_status                                      \n",
       "Не женат / не замужем      0     0    0     0  2796\n",
       "в разводе                  0     0    0  1189     0\n",
       "вдовец / вдова             0     0  951     0     0\n",
       "гражданский брак           0  4134    0     0     0\n",
       "женат / замужем        12261     0    0     0     0"
      ]
     },
     "execution_count": 27,
     "metadata": {},
     "output_type": "execute_result"
    }
   ],
   "source": [
    "status_dict = pd.crosstab(data['family_status'], data['family_status_id'])\n",
    "status_dict\n"
   ]
  },
  {
   "cell_type": "code",
   "execution_count": 28,
   "id": "d74fd9d9",
   "metadata": {},
   "outputs": [
    {
     "data": {
      "text/html": [
       "<div>\n",
       "<style scoped>\n",
       "    .dataframe tbody tr th:only-of-type {\n",
       "        vertical-align: middle;\n",
       "    }\n",
       "\n",
       "    .dataframe tbody tr th {\n",
       "        vertical-align: top;\n",
       "    }\n",
       "\n",
       "    .dataframe thead th {\n",
       "        text-align: right;\n",
       "    }\n",
       "</style>\n",
       "<table border=\"1\" class=\"dataframe\">\n",
       "  <thead>\n",
       "    <tr style=\"text-align: right;\">\n",
       "      <th>family_status_id</th>\n",
       "      <th>0</th>\n",
       "      <th>1</th>\n",
       "      <th>2</th>\n",
       "      <th>3</th>\n",
       "      <th>4</th>\n",
       "    </tr>\n",
       "    <tr>\n",
       "      <th>children</th>\n",
       "      <th></th>\n",
       "      <th></th>\n",
       "      <th></th>\n",
       "      <th></th>\n",
       "      <th></th>\n",
       "    </tr>\n",
       "  </thead>\n",
       "  <tbody>\n",
       "    <tr>\n",
       "      <th>0</th>\n",
       "      <td>0.069095</td>\n",
       "      <td>0.083883</td>\n",
       "      <td>0.062574</td>\n",
       "      <td>0.070153</td>\n",
       "      <td>0.092838</td>\n",
       "    </tr>\n",
       "    <tr>\n",
       "      <th>1</th>\n",
       "      <td>0.082689</td>\n",
       "      <td>0.118593</td>\n",
       "      <td>0.090909</td>\n",
       "      <td>0.067308</td>\n",
       "      <td>0.115813</td>\n",
       "    </tr>\n",
       "    <tr>\n",
       "      <th>2</th>\n",
       "      <td>0.094586</td>\n",
       "      <td>0.087464</td>\n",
       "      <td>0.150000</td>\n",
       "      <td>0.086420</td>\n",
       "      <td>0.120000</td>\n",
       "    </tr>\n",
       "  </tbody>\n",
       "</table>\n",
       "</div>"
      ],
      "text/plain": [
       "family_status_id         0         1         2         3         4\n",
       "children                                                          \n",
       "0                 0.069095  0.083883  0.062574  0.070153  0.092838\n",
       "1                 0.082689  0.118593  0.090909  0.067308  0.115813\n",
       "2                 0.094586  0.087464  0.150000  0.086420  0.120000"
      ]
     },
     "execution_count": 28,
     "metadata": {},
     "output_type": "execute_result"
    }
   ],
   "source": [
    "pivoted_by_children = data[data['children'].isin([0, 1, 2])].pivot_table(index='children', columns='family_status_id', values='debt', aggfunc='mean')\n",
    "pivoted_by_children\n"
   ]
  },
  {
   "cell_type": "code",
   "execution_count": 29,
   "id": "527c76d1",
   "metadata": {},
   "outputs": [
    {
     "data": {
      "text/plain": [
       "<AxesSubplot:xlabel='family_status_id', ylabel='children'>"
      ]
     },
     "execution_count": 29,
     "metadata": {},
     "output_type": "execute_result"
    },
    {
     "data": {
      "image/png": "[encoded data removed]",
      "text/plain": [
       "<Figure size 432x288 with 2 Axes>"
      ]
     },
     "metadata": {
      "needs_background": "light"
     },
     "output_type": "display_data"
    }
   ],
   "source": [
    "sns.heatmap(pivoted_by_children, annot=True)\n"
   ]
  },
  {
   "cell_type": "markdown",
   "id": "5301ea13",
   "metadata": {
    "lang": "en"
   },
   "source": [
    "Data on debtors with different numbers of children in the family are indeed a little heterogeneous depending on the status of the family.\n",
    "\n",
    "For married borrowers, the trend continues.\n",
    "\n",
    "For bank clients who are in a civil marriage, the percentage of debtors is higher for a family with one child than for a childless family or a family with two children.\n",
    "\n",
    "Widows/widowers with children are more likely to become debtors. For them, the trend also remains and is more clearly expressed.\n",
    "\n",
    "Divorced borrowers also have difficulty paying off debt, especially if they have children.\n",
    "\n",
    "For bank clients who are single or unmarried, the trend is clearly visible. Moreover, the shares of debtors in this category are significantly higher compared to other categories."
   ]
  },
  {
   "cell_type": "markdown",
   "id": "3d66c35e",
   "metadata": {
    "lang": "en"
   },
   "source": [
    "Let's check why, in this sample, bank clients with one child often become debtors. Perhaps they often take out a loan to celebrate their wedding and have difficulty repaying this particular debt."
   ]
  },
  {
   "cell_type": "code",
   "execution_count": 30,
   "id": "c817ca90",
   "metadata": {},
   "outputs": [
    {
     "data": {
      "text/html": [
       "<div>\n",
       "<style scoped>\n",
       "    .dataframe tbody tr th:only-of-type {\n",
       "        vertical-align: middle;\n",
       "    }\n",
       "\n",
       "    .dataframe tbody tr th {\n",
       "        vertical-align: top;\n",
       "    }\n",
       "\n",
       "    .dataframe thead tr th {\n",
       "        text-align: left;\n",
       "    }\n",
       "\n",
       "    .dataframe thead tr:last-of-type th {\n",
       "        text-align: right;\n",
       "    }\n",
       "</style>\n",
       "<table border=\"1\" class=\"dataframe\">\n",
       "  <thead>\n",
       "    <tr>\n",
       "      <th></th>\n",
       "      <th colspan=\"3\" halign=\"left\">sum</th>\n",
       "      <th colspan=\"3\" halign=\"left\">count</th>\n",
       "    </tr>\n",
       "    <tr>\n",
       "      <th>children</th>\n",
       "      <th>0</th>\n",
       "      <th>1</th>\n",
       "      <th>2</th>\n",
       "      <th>0</th>\n",
       "      <th>1</th>\n",
       "      <th>2</th>\n",
       "    </tr>\n",
       "    <tr>\n",
       "      <th>purpose_category</th>\n",
       "      <th></th>\n",
       "      <th></th>\n",
       "      <th></th>\n",
       "      <th></th>\n",
       "      <th></th>\n",
       "      <th></th>\n",
       "    </tr>\n",
       "  </thead>\n",
       "  <tbody>\n",
       "    <tr>\n",
       "      <th>операции с автомобилем</th>\n",
       "      <td>28</td>\n",
       "      <td>17</td>\n",
       "      <td>4</td>\n",
       "      <td>282</td>\n",
       "      <td>106</td>\n",
       "      <td>35</td>\n",
       "    </tr>\n",
       "    <tr>\n",
       "      <th>операции с недвижимостью</th>\n",
       "      <td>51</td>\n",
       "      <td>32</td>\n",
       "      <td>8</td>\n",
       "      <td>649</td>\n",
       "      <td>261</td>\n",
       "      <td>61</td>\n",
       "    </tr>\n",
       "    <tr>\n",
       "      <th>получение образования</th>\n",
       "      <td>35</td>\n",
       "      <td>18</td>\n",
       "      <td>6</td>\n",
       "      <td>269</td>\n",
       "      <td>96</td>\n",
       "      <td>32</td>\n",
       "    </tr>\n",
       "    <tr>\n",
       "      <th>проведение свадьбы</th>\n",
       "      <td>115</td>\n",
       "      <td>51</td>\n",
       "      <td>12</td>\n",
       "      <td>1530</td>\n",
       "      <td>532</td>\n",
       "      <td>215</td>\n",
       "    </tr>\n",
       "  </tbody>\n",
       "</table>\n",
       "</div>"
      ],
      "text/plain": [
       "                          sum         count          \n",
       "children                    0   1   2     0    1    2\n",
       "purpose_category                                     \n",
       "операции с автомобилем     28  17   4   282  106   35\n",
       "операции с недвижимостью   51  32   8   649  261   61\n",
       "получение образования      35  18   6   269   96   32\n",
       "проведение свадьбы        115  51  12  1530  532  215"
      ]
     },
     "execution_count": 30,
     "metadata": {},
     "output_type": "execute_result"
    }
   ],
   "source": [
    "data[(data['children'].isin([0, 1, 2])) & (data['family_status_id'] == 1)].pivot_table(\n",
    "                                        index='purpose_category', columns='children', values='debt', aggfunc=['sum', 'count'])\n"
   ]
  },
  {
   "cell_type": "markdown",
   "id": "a460a13e",
   "metadata": {
    "lang": "en"
   },
   "source": [
    "The most common loan among borrowers in a civil marriage with one child is actually holding a wedding. A larger number of debtors in a civil marriage took out a loan for the wedding."
   ]
  },
  {
   "cell_type": "markdown",
   "id": "cf790e04",
   "metadata": {
    "lang": "en"
   },
   "source": [
    "**Conclusion:** indeed, the more children in the borrower’s family, the higher the risk of not repaying the loan on time. This is especially pronounced among bank clients who are widowers or have never been married."
   ]
  },
  {
   "cell_type": "markdown",
   "id": "8d950060",
   "metadata": {
    "lang": "en"
   },
   "source": [
    "**Is there a relationship between marital status and repayment of the loan on time?**"
   ]
  },
  {
   "cell_type": "code",
   "execution_count": 31,
   "id": "4ca6f6a9",
   "metadata": {
    "id": "dc3f7ee8"
   },
   "outputs": [
    {
     "data": {
      "text/html": [
       "<div>\n",
       "<style scoped>\n",
       "    .dataframe tbody tr th:only-of-type {\n",
       "        vertical-align: middle;\n",
       "    }\n",
       "\n",
       "    .dataframe tbody tr th {\n",
       "        vertical-align: top;\n",
       "    }\n",
       "\n",
       "    .dataframe thead th {\n",
       "        text-align: right;\n",
       "    }\n",
       "</style>\n",
       "<table border=\"1\" class=\"dataframe\">\n",
       "  <thead>\n",
       "    <tr style=\"text-align: right;\">\n",
       "      <th></th>\n",
       "      <th>debt</th>\n",
       "    </tr>\n",
       "    <tr>\n",
       "      <th>family_status_id</th>\n",
       "      <th></th>\n",
       "    </tr>\n",
       "  </thead>\n",
       "  <tbody>\n",
       "    <tr>\n",
       "      <th>0</th>\n",
       "      <td>0.075606</td>\n",
       "    </tr>\n",
       "    <tr>\n",
       "      <th>1</th>\n",
       "      <td>0.093130</td>\n",
       "    </tr>\n",
       "    <tr>\n",
       "      <th>2</th>\n",
       "      <td>0.066246</td>\n",
       "    </tr>\n",
       "    <tr>\n",
       "      <th>3</th>\n",
       "      <td>0.070648</td>\n",
       "    </tr>\n",
       "    <tr>\n",
       "      <th>4</th>\n",
       "      <td>0.097639</td>\n",
       "    </tr>\n",
       "  </tbody>\n",
       "</table>\n",
       "</div>"
      ],
      "text/plain": [
       "                      debt\n",
       "family_status_id          \n",
       "0                 0.075606\n",
       "1                 0.093130\n",
       "2                 0.066246\n",
       "3                 0.070648\n",
       "4                 0.097639"
      ]
     },
     "execution_count": 31,
     "metadata": {},
     "output_type": "execute_result"
    }
   ],
   "source": [
    "grouped_by_family = data.groupby('family_status_id').agg({'debt': 'mean'})\n",
    "grouped_by_family\n"
   ]
  },
  {
   "cell_type": "code",
   "execution_count": 32,
   "id": "975d2a92",
   "metadata": {
    "scrolled": true
   },
   "outputs": [
    {
     "data": {
      "text/plain": [
       "<AxesSubplot:ylabel='debt'>"
      ]
     },
     "execution_count": 32,
     "metadata": {},
     "output_type": "execute_result"
    },
    {
     "data": {
      "image/png": "[encoded data removed]",
      "text/plain": [
       "<Figure size 432x288 with 1 Axes>"
      ]
     },
     "metadata": {
      "needs_background": "light"
     },
     "output_type": "display_data"
    }
   ],
   "source": [
    "sns.barplot(x=list(range(5)), y=grouped_by_family['debt'])\n"
   ]
  },
  {
   "cell_type": "markdown",
   "id": "753c0da8",
   "metadata": {
    "lang": "en"
   },
   "source": [
    "Above, the data has been grouped by borrower family category. For each category, the share of debtors was calculated. It turns out that the average number of debtors in each subgroup of the sample is different. Borrowers who are in a common-law marriage or who are single are more likely to become debtors than those who are or have been in a formal marriage."
   ]
  },
  {
   "cell_type": "markdown",
   "id": "c0cf3d05",
   "metadata": {
    "lang": "en"
   },
   "source": [
    "**Conclusion:** it is possible that there is a relationship between marital status and repayment of the loan on time. Sample data show that ever-married borrowers are less likely to become debtors."
   ]
  },
  {
   "cell_type": "markdown",
   "id": "1be5ad51",
   "metadata": {
    "lang": "en"
   },
   "source": [
    "**Is there a relationship between income level and loan repayment on time?**"
   ]
  },
  {
   "cell_type": "code",
   "execution_count": 33,
   "id": "d355a294",
   "metadata": {
    "id": "cd7e3720"
   },
   "outputs": [
    {
     "data": {
      "text/html": [
       "<div>\n",
       "<style scoped>\n",
       "    .dataframe tbody tr th:only-of-type {\n",
       "        vertical-align: middle;\n",
       "    }\n",
       "\n",
       "    .dataframe tbody tr th {\n",
       "        vertical-align: top;\n",
       "    }\n",
       "\n",
       "    .dataframe thead th {\n",
       "        text-align: right;\n",
       "    }\n",
       "</style>\n",
       "<table border=\"1\" class=\"dataframe\">\n",
       "  <thead>\n",
       "    <tr style=\"text-align: right;\">\n",
       "      <th></th>\n",
       "      <th>debt</th>\n",
       "    </tr>\n",
       "    <tr>\n",
       "      <th>total_income_category</th>\n",
       "      <th></th>\n",
       "    </tr>\n",
       "  </thead>\n",
       "  <tbody>\n",
       "    <tr>\n",
       "      <th>A</th>\n",
       "      <td>0.080000</td>\n",
       "    </tr>\n",
       "    <tr>\n",
       "      <th>B</th>\n",
       "      <td>0.070602</td>\n",
       "    </tr>\n",
       "    <tr>\n",
       "      <th>C</th>\n",
       "      <td>0.084982</td>\n",
       "    </tr>\n",
       "    <tr>\n",
       "      <th>D</th>\n",
       "      <td>0.060172</td>\n",
       "    </tr>\n",
       "    <tr>\n",
       "      <th>E</th>\n",
       "      <td>0.090909</td>\n",
       "    </tr>\n",
       "  </tbody>\n",
       "</table>\n",
       "</div>"
      ],
      "text/plain": [
       "                           debt\n",
       "total_income_category          \n",
       "A                      0.080000\n",
       "B                      0.070602\n",
       "C                      0.084982\n",
       "D                      0.060172\n",
       "E                      0.090909"
      ]
     },
     "execution_count": 33,
     "metadata": {},
     "output_type": "execute_result"
    }
   ],
   "source": [
    "grouped_by_income = data.groupby('total_income_category').agg({'debt': 'mean'})\n",
    "grouped_by_income\n"
   ]
  },
  {
   "cell_type": "code",
   "execution_count": 34,
   "id": "116f9b75",
   "metadata": {},
   "outputs": [
    {
     "data": {
      "text/plain": [
       "<AxesSubplot:ylabel='debt'>"
      ]
     },
     "execution_count": 34,
     "metadata": {},
     "output_type": "execute_result"
    },
    {
     "data": {
      "image/png": "[encoded data removed]",
      "text/plain": [
       "<Figure size 432x288 with 1 Axes>"
      ]
     },
     "metadata": {
      "needs_background": "light"
     },
     "output_type": "display_data"
    }
   ],
   "source": [
    "sns.barplot(x=['A', 'B', 'C', 'D', 'E'], y=grouped_by_income['debt'])\n"
   ]
  },
  {
   "cell_type": "markdown",
   "id": "15da6ee1",
   "metadata": {
    "lang": "en"
   },
   "source": [
    "Let's see how many borrowers and debtors are in each class. The table below shows that there are not many borrowers with high or low income in the sample. You could try to categorize the 'total_income' column so that there are approximately equal numbers of borrowers in each category. Below is a summary table of the changed categories. Indeed, in general, the risk of becoming a debtor is lower for clients with earnings of 170,000 or more"
   ]
  },
  {
   "cell_type": "code",
   "execution_count": 105,
   "id": "5be48bed",
   "metadata": {},
   "outputs": [
    {
     "data": {
      "text/html": [
       "<div>\n",
       "<style scoped>\n",
       "    .dataframe tbody tr th:only-of-type {\n",
       "        vertical-align: middle;\n",
       "    }\n",
       "\n",
       "    .dataframe tbody tr th {\n",
       "        vertical-align: top;\n",
       "    }\n",
       "\n",
       "    .dataframe thead tr th {\n",
       "        text-align: left;\n",
       "    }\n",
       "\n",
       "    .dataframe thead tr:last-of-type th {\n",
       "        text-align: right;\n",
       "    }\n",
       "</style>\n",
       "<table border=\"1\" class=\"dataframe\">\n",
       "  <thead>\n",
       "    <tr>\n",
       "      <th></th>\n",
       "      <th colspan=\"3\" halign=\"left\">debt</th>\n",
       "    </tr>\n",
       "    <tr>\n",
       "      <th></th>\n",
       "      <th>sum</th>\n",
       "      <th>count</th>\n",
       "      <th>mean</th>\n",
       "    </tr>\n",
       "    <tr>\n",
       "      <th>total_income_category</th>\n",
       "      <th></th>\n",
       "      <th></th>\n",
       "      <th></th>\n",
       "    </tr>\n",
       "  </thead>\n",
       "  <tbody>\n",
       "    <tr>\n",
       "      <th>A</th>\n",
       "      <td>2</td>\n",
       "      <td>25</td>\n",
       "      <td>0.080000</td>\n",
       "    </tr>\n",
       "    <tr>\n",
       "      <th>B</th>\n",
       "      <td>354</td>\n",
       "      <td>5014</td>\n",
       "      <td>0.070602</td>\n",
       "    </tr>\n",
       "    <tr>\n",
       "      <th>C</th>\n",
       "      <td>1353</td>\n",
       "      <td>15921</td>\n",
       "      <td>0.084982</td>\n",
       "    </tr>\n",
       "    <tr>\n",
       "      <th>D</th>\n",
       "      <td>21</td>\n",
       "      <td>349</td>\n",
       "      <td>0.060172</td>\n",
       "    </tr>\n",
       "    <tr>\n",
       "      <th>E</th>\n",
       "      <td>2</td>\n",
       "      <td>22</td>\n",
       "      <td>0.090909</td>\n",
       "    </tr>\n",
       "  </tbody>\n",
       "</table>\n",
       "</div>"
      ],
      "text/plain": [
       "                       debt                 \n",
       "                        sum  count      mean\n",
       "total_income_category                       \n",
       "A                         2     25  0.080000\n",
       "B                       354   5014  0.070602\n",
       "C                      1353  15921  0.084982\n",
       "D                        21    349  0.060172\n",
       "E                         2     22  0.090909"
      ]
     },
     "execution_count": 105,
     "metadata": {},
     "output_type": "execute_result"
    }
   ],
   "source": [
    "debtors_by_income = data.groupby('total_income_category').agg({'debt': ['sum', 'count', 'mean']})\n",
    "debtors_by_income"
   ]
  },
  {
   "cell_type": "code",
   "execution_count": 103,
   "id": "f769e33c",
   "metadata": {},
   "outputs": [
    {
     "data": {
      "text/html": [
       "<div>\n",
       "<style scoped>\n",
       "    .dataframe tbody tr th:only-of-type {\n",
       "        vertical-align: middle;\n",
       "    }\n",
       "\n",
       "    .dataframe tbody tr th {\n",
       "        vertical-align: top;\n",
       "    }\n",
       "\n",
       "    .dataframe thead tr th {\n",
       "        text-align: left;\n",
       "    }\n",
       "\n",
       "    .dataframe thead tr:last-of-type th {\n",
       "        text-align: right;\n",
       "    }\n",
       "</style>\n",
       "<table border=\"1\" class=\"dataframe\">\n",
       "  <thead>\n",
       "    <tr>\n",
       "      <th></th>\n",
       "      <th colspan=\"3\" halign=\"left\">debt</th>\n",
       "    </tr>\n",
       "    <tr>\n",
       "      <th></th>\n",
       "      <th>sum</th>\n",
       "      <th>count</th>\n",
       "      <th>mean</th>\n",
       "    </tr>\n",
       "    <tr>\n",
       "      <th>income_category</th>\n",
       "      <th></th>\n",
       "      <th></th>\n",
       "      <th></th>\n",
       "    </tr>\n",
       "  </thead>\n",
       "  <tbody>\n",
       "    <tr>\n",
       "      <th>a</th>\n",
       "      <td>243</td>\n",
       "      <td>3497</td>\n",
       "      <td>0.069488</td>\n",
       "    </tr>\n",
       "    <tr>\n",
       "      <th>b</th>\n",
       "      <td>331</td>\n",
       "      <td>4180</td>\n",
       "      <td>0.079187</td>\n",
       "    </tr>\n",
       "    <tr>\n",
       "      <th>e</th>\n",
       "      <td>354</td>\n",
       "      <td>4444</td>\n",
       "      <td>0.079658</td>\n",
       "    </tr>\n",
       "    <tr>\n",
       "      <th>d</th>\n",
       "      <td>373</td>\n",
       "      <td>4432</td>\n",
       "      <td>0.084161</td>\n",
       "    </tr>\n",
       "    <tr>\n",
       "      <th>c</th>\n",
       "      <td>431</td>\n",
       "      <td>4778</td>\n",
       "      <td>0.090205</td>\n",
       "    </tr>\n",
       "  </tbody>\n",
       "</table>\n",
       "</div>"
      ],
      "text/plain": [
       "                debt                \n",
       "                 sum count      mean\n",
       "income_category                     \n",
       "a                243  3497  0.069488\n",
       "b                331  4180  0.079187\n",
       "e                354  4444  0.079658\n",
       "d                373  4432  0.084161\n",
       "c                431  4778  0.090205"
      ]
     },
     "execution_count": 103,
     "metadata": {},
     "output_type": "execute_result"
    }
   ],
   "source": [
    "def income_category(income):\n",
    "    if 0 <= income <= 100000:\n",
    "        return 'e'\n",
    "    elif 100001 <= income <= 135000:\n",
    "        return 'd'\n",
    "    elif 135001 <= income <= 170000:\n",
    "        return 'c'\n",
    "    elif 170001 <= income <= 230000:\n",
    "        return 'b'\n",
    "    elif income >= 230001:\n",
    "        return 'a'\n",
    "\n",
    "data['income_category'] = data['total_income'].apply(income_category)\n",
    "debtors_by_income_upd = data.groupby('income_category').agg({'debt': ['sum', 'count', 'mean']})\n",
    "debtors_by_income_upd.sort_values(by=('debt', 'mean'))\n"
   ]
  },
  {
   "cell_type": "markdown",
   "id": "ccf8083d",
   "metadata": {
    "lang": "en"
   },
   "source": [
    "**How do different purposes of a loan affect its repayment on time?**"
   ]
  },
  {
   "cell_type": "code",
   "execution_count": 330,
   "id": "4ed29af8",
   "metadata": {
    "id": "2b687290"
   },
   "outputs": [
    {
     "data": {
      "text/html": [
       "<div>\n",
       "<style scoped>\n",
       "    .dataframe tbody tr th:only-of-type {\n",
       "        vertical-align: middle;\n",
       "    }\n",
       "\n",
       "    .dataframe tbody tr th {\n",
       "        vertical-align: top;\n",
       "    }\n",
       "\n",
       "    .dataframe thead th {\n",
       "        text-align: right;\n",
       "    }\n",
       "</style>\n",
       "<table border=\"1\" class=\"dataframe\">\n",
       "  <thead>\n",
       "    <tr style=\"text-align: right;\">\n",
       "      <th></th>\n",
       "      <th>debt</th>\n",
       "    </tr>\n",
       "    <tr>\n",
       "      <th>purpose_category</th>\n",
       "      <th></th>\n",
       "    </tr>\n",
       "  </thead>\n",
       "  <tbody>\n",
       "    <tr>\n",
       "      <th>операции с автомобилем</th>\n",
       "      <td>0.093480</td>\n",
       "    </tr>\n",
       "    <tr>\n",
       "      <th>операции с недвижимостью</th>\n",
       "      <td>0.072551</td>\n",
       "    </tr>\n",
       "    <tr>\n",
       "      <th>получение образования</th>\n",
       "      <td>0.092528</td>\n",
       "    </tr>\n",
       "    <tr>\n",
       "      <th>проведение свадьбы</th>\n",
       "      <td>0.079118</td>\n",
       "    </tr>\n",
       "  </tbody>\n",
       "</table>\n",
       "</div>"
      ],
      "text/plain": [
       "                              debt\n",
       "purpose_category                  \n",
       "операции с автомобилем    0.093480\n",
       "операции с недвижимостью  0.072551\n",
       "получение образования     0.092528\n",
       "проведение свадьбы        0.079118"
      ]
     },
     "execution_count": 330,
     "metadata": {},
     "output_type": "execute_result"
    }
   ],
   "source": [
    "grouped_by_purpose = data.groupby('purpose_category').agg({'debt': 'mean'})\n",
    "grouped_by_purpose\n"
   ]
  },
  {
   "cell_type": "code",
   "execution_count": 334,
   "id": "85d891ef",
   "metadata": {},
   "outputs": [
    {
     "data": {
      "text/plain": [
       "<AxesSubplot:ylabel='debt'>"
      ]
     },
     "execution_count": 334,
     "metadata": {},
     "output_type": "execute_result"
    },
    {
     "data": {
      "image/png": "[encoded data removed]",
      "text/plain": [
       "<Figure size 432x288 with 1 Axes>"
      ]
     },
     "metadata": {
      "needs_background": "light"
     },
     "output_type": "display_data"
    }
   ],
   "source": [
    "sns.barplot(x=['автомобиль', 'жилье', 'образование', 'свадьба'], y=grouped_by_purpose['debt'], )\n"
   ]
  },
  {
   "cell_type": "markdown",
   "id": "55697559",
   "metadata": {
    "lang": "en"
   },
   "source": [
    "**Conclusion:** the share of debtors is greatest in the categories of “transactions with a car” and “obtaining education”."
   ]
  },
  {
   "cell_type": "markdown",
   "id": "16658c07",
   "metadata": {
    "lang": "en"
   },
   "source": [
    "**Give possible reasons for the appearance of missing values in the source data**"
   ]
  },
  {
   "cell_type": "markdown",
   "id": "b0c1a7c2",
   "metadata": {
    "lang": "en"
   },
   "source": [
    "*Answer:* possible reasons for the appearance of gaps in the source data can be explained by human factor or an error when unloading data."
   ]
  },
  {
   "cell_type": "markdown",
   "id": "cc12cd85",
   "metadata": {
    "lang": "en"
   },
   "source": [
    "**Explain why imputing with the median is the best solution for quantitative variables**"
   ]
  },
  {
   "cell_type": "markdown",
   "id": "78bbee1d",
   "metadata": {
    "lang": "en"
   },
   "source": [
    "*Answer:* Imputing with the median value is the best solution for quantitative variables because it characterizes the sample better than others. The arithmetic mean is sensitive to outliers in the data, while the median is more robust."
   ]
  },
  {
   "cell_type": "markdown",
   "id": "75060ef2",
   "metadata": {
    "lang": "en"
   },
   "source": [
    "## Conclusion"
   ]
  },
  {
   "cell_type": "markdown",
   "id": "90deb8dc",
   "metadata": {
    "lang": "en"
   },
   "source": [
    "Repayment of the loan on time depends on the type of family and the number of children in the borrower’s family. The more children you have, the higher the risk of becoming a debtor. This is especially pronounced among such groups of borrowers as widows and singles. Bank clients who have ever been officially married are more likely to repay the loan on time. An income level of 170,000 or more in this sample reduced the risk of becoming a debtor. Loan purposes “operating with a car” and “education” more than others cause difficulties in repayment for borrowers."
   ]
  }
 ],
 "metadata": {
  "ExecuteTimeLog": [
   {
    "duration": 487,
    "start_time": "2023-01-02T23:06:52.973Z"
   },
   {
    "duration": 21,
    "start_time": "2023-01-02T23:06:53.462Z"
   },
   {
    "duration": 26,
    "start_time": "2023-01-02T23:06:53.485Z"
   },
   {
    "duration": 14,
    "start_time": "2023-01-02T23:06:53.513Z"
   },
   {
    "duration": 47,
    "start_time": "2023-01-02T23:06:53.528Z"
   },
   {
    "duration": 4,
    "start_time": "2023-01-02T23:06:53.576Z"
   },
   {
    "duration": 17,
    "start_time": "2023-01-02T23:06:53.581Z"
   },
   {
    "duration": 13,
    "start_time": "2023-01-02T23:06:53.599Z"
   },
   {
    "duration": 13,
    "start_time": "2023-01-02T23:06:53.614Z"
   },
   {
    "duration": 5,
    "start_time": "2023-01-02T23:06:53.629Z"
   },
   {
    "duration": 34,
    "start_time": "2023-01-02T23:06:53.635Z"
   },
   {
    "duration": 8,
    "start_time": "2023-01-02T23:06:53.671Z"
   },
   {
    "duration": 12,
    "start_time": "2023-01-02T23:06:53.680Z"
   },
   {
    "duration": 32,
    "start_time": "2023-01-02T23:06:53.693Z"
   },
   {
    "duration": 24,
    "start_time": "2023-01-02T23:06:53.727Z"
   },
   {
    "duration": 16,
    "start_time": "2023-01-02T23:06:53.752Z"
   },
   {
    "duration": 4,
    "start_time": "2023-01-02T23:06:53.770Z"
   },
   {
    "duration": 20,
    "start_time": "2023-01-02T23:06:53.775Z"
   },
   {
    "duration": 18,
    "start_time": "2023-01-02T23:06:53.796Z"
   },
   {
    "duration": 27,
    "start_time": "2023-01-02T23:06:53.815Z"
   },
   {
    "duration": 14,
    "start_time": "2023-01-02T23:06:53.844Z"
   },
   {
    "duration": 18,
    "start_time": "2023-01-02T23:08:10.532Z"
   },
   {
    "duration": 23,
    "start_time": "2023-01-02T23:09:20.417Z"
   },
   {
    "duration": 47,
    "start_time": "2023-01-02T23:10:19.874Z"
   },
   {
    "duration": 10,
    "start_time": "2023-01-02T23:10:33.085Z"
   },
   {
    "duration": 4,
    "start_time": "2023-01-02T23:10:48.082Z"
   },
   {
    "duration": 15,
    "start_time": "2023-01-02T23:10:53.428Z"
   },
   {
    "duration": 13,
    "start_time": "2023-01-02T23:12:07.129Z"
   },
   {
    "duration": 4,
    "start_time": "2023-01-02T23:14:13.191Z"
   },
   {
    "duration": 5,
    "start_time": "2023-01-02T23:14:24.693Z"
   },
   {
    "duration": 8,
    "start_time": "2023-01-02T23:14:33.833Z"
   },
   {
    "duration": 7,
    "start_time": "2023-01-02T23:17:02.373Z"
   },
   {
    "duration": 54,
    "start_time": "2023-01-02T23:18:26.065Z"
   },
   {
    "duration": 87,
    "start_time": "2023-01-02T23:18:36.828Z"
   },
   {
    "duration": 12,
    "start_time": "2023-01-02T23:19:55.737Z"
   },
   {
    "duration": 15,
    "start_time": "2023-01-02T23:20:23.796Z"
   },
   {
    "duration": 16,
    "start_time": "2023-01-02T23:22:14.088Z"
   },
   {
    "duration": 7,
    "start_time": "2023-01-02T23:22:46.908Z"
   },
   {
    "duration": 5,
    "start_time": "2023-01-02T23:22:58.818Z"
   },
   {
    "duration": 13,
    "start_time": "2023-01-02T23:23:18.296Z"
   },
   {
    "duration": 11,
    "start_time": "2023-01-02T23:23:33.982Z"
   },
   {
    "duration": 11,
    "start_time": "2023-01-02T23:23:41.969Z"
   },
   {
    "duration": 10,
    "start_time": "2023-01-02T23:23:49.599Z"
   },
   {
    "duration": 13,
    "start_time": "2023-01-02T23:24:42.542Z"
   },
   {
    "duration": 21,
    "start_time": "2023-01-02T23:25:01.422Z"
   },
   {
    "duration": 15,
    "start_time": "2023-01-02T23:25:12.469Z"
   },
   {
    "duration": 15,
    "start_time": "2023-01-02T23:26:48.101Z"
   },
   {
    "duration": 8,
    "start_time": "2023-01-02T23:26:55.686Z"
   },
   {
    "duration": 7,
    "start_time": "2023-01-02T23:27:17.593Z"
   },
   {
    "duration": 12,
    "start_time": "2023-01-02T23:28:45.379Z"
   },
   {
    "duration": 17,
    "start_time": "2023-01-02T23:29:05.573Z"
   },
   {
    "duration": 11,
    "start_time": "2023-01-02T23:29:39.817Z"
   },
   {
    "duration": 13,
    "start_time": "2023-01-02T23:29:44.219Z"
   },
   {
    "duration": 14,
    "start_time": "2023-01-02T23:37:45.283Z"
   },
   {
    "duration": 13,
    "start_time": "2023-01-02T23:38:24.995Z"
   },
   {
    "duration": 13,
    "start_time": "2023-01-02T23:44:08.643Z"
   },
   {
    "duration": 10,
    "start_time": "2023-01-02T23:44:22.772Z"
   },
   {
    "duration": 11,
    "start_time": "2023-01-02T23:44:40.296Z"
   },
   {
    "duration": 24,
    "start_time": "2023-01-02T23:45:13.443Z"
   },
   {
    "duration": 13,
    "start_time": "2023-01-02T23:45:30.406Z"
   },
   {
    "duration": 13,
    "start_time": "2023-01-02T23:46:36.287Z"
   },
   {
    "duration": 12,
    "start_time": "2023-01-02T23:46:55.090Z"
   },
   {
    "duration": 50,
    "start_time": "2023-01-02T23:48:12.775Z"
   },
   {
    "duration": 48,
    "start_time": "2023-01-02T23:48:43.676Z"
   },
   {
    "duration": 60,
    "start_time": "2023-01-02T23:49:01.589Z"
   },
   {
    "duration": 52,
    "start_time": "2023-01-02T23:49:05.189Z"
   },
   {
    "duration": 11,
    "start_time": "2023-01-02T23:49:11.252Z"
   },
   {
    "duration": 11,
    "start_time": "2023-01-02T23:49:33.113Z"
   },
   {
    "duration": 49,
    "start_time": "2023-01-02T23:49:46.903Z"
   },
   {
    "duration": 11,
    "start_time": "2023-01-02T23:49:57.597Z"
   },
   {
    "duration": 10,
    "start_time": "2023-01-02T23:50:08.495Z"
   },
   {
    "duration": 49,
    "start_time": "2023-01-02T23:50:48.820Z"
   },
   {
    "duration": 10,
    "start_time": "2023-01-02T23:50:52.547Z"
   },
   {
    "duration": 10,
    "start_time": "2023-01-02T23:51:57.265Z"
   },
   {
    "duration": 9,
    "start_time": "2023-01-02T23:52:32.384Z"
   },
   {
    "duration": 10,
    "start_time": "2023-01-02T23:52:50.535Z"
   },
   {
    "duration": 10,
    "start_time": "2023-01-02T23:52:53.263Z"
   },
   {
    "duration": 13,
    "start_time": "2023-01-02T23:55:06.847Z"
   },
   {
    "duration": 11,
    "start_time": "2023-01-02T23:56:35.652Z"
   },
   {
    "duration": 1835,
    "start_time": "2023-01-03T00:00:44.885Z"
   },
   {
    "duration": 852,
    "start_time": "2023-01-03T00:01:19.724Z"
   },
   {
    "duration": 887,
    "start_time": "2023-01-03T00:01:40.229Z"
   },
   {
    "duration": 17,
    "start_time": "2023-01-03T00:03:39.114Z"
   },
   {
    "duration": 19,
    "start_time": "2023-01-03T00:03:56.548Z"
   },
   {
    "duration": 127,
    "start_time": "2023-01-03T00:05:42.416Z"
   },
   {
    "duration": 121,
    "start_time": "2023-01-03T00:06:24.954Z"
   },
   {
    "duration": 16,
    "start_time": "2023-01-03T00:07:45.212Z"
   },
   {
    "duration": 15,
    "start_time": "2023-01-03T00:08:00.550Z"
   },
   {
    "duration": 16,
    "start_time": "2023-01-03T00:08:06.751Z"
   },
   {
    "duration": 132,
    "start_time": "2023-01-03T00:14:17.752Z"
   },
   {
    "duration": 133,
    "start_time": "2023-01-03T00:20:05.445Z"
   },
   {
    "duration": 141,
    "start_time": "2023-01-03T00:23:41.197Z"
   },
   {
    "duration": 136,
    "start_time": "2023-01-03T00:23:55.691Z"
   },
   {
    "duration": 131,
    "start_time": "2023-01-03T00:24:53.498Z"
   },
   {
    "duration": 195,
    "start_time": "2023-01-03T00:37:35.189Z"
   },
   {
    "duration": 139,
    "start_time": "2023-01-03T00:39:00.912Z"
   },
   {
    "duration": 135,
    "start_time": "2023-01-03T00:41:58.713Z"
   },
   {
    "duration": 131,
    "start_time": "2023-01-03T00:50:50.867Z"
   },
   {
    "duration": 135,
    "start_time": "2023-01-03T00:55:40.278Z"
   },
   {
    "duration": 134,
    "start_time": "2023-01-03T01:01:37.238Z"
   },
   {
    "duration": 137,
    "start_time": "2023-01-03T01:02:14.364Z"
   },
   {
    "duration": 132,
    "start_time": "2023-01-03T01:02:37.924Z"
   },
   {
    "duration": 47,
    "start_time": "2023-01-03T12:41:40.395Z"
   },
   {
    "duration": 675,
    "start_time": "2023-01-03T12:41:47.652Z"
   },
   {
    "duration": 21,
    "start_time": "2023-01-03T12:41:48.329Z"
   },
   {
    "duration": 14,
    "start_time": "2023-01-03T12:41:48.351Z"
   },
   {
    "duration": 9,
    "start_time": "2023-01-03T12:41:48.366Z"
   },
   {
    "duration": 46,
    "start_time": "2023-01-03T12:41:48.377Z"
   },
   {
    "duration": 3,
    "start_time": "2023-01-03T12:41:48.424Z"
   },
   {
    "duration": 12,
    "start_time": "2023-01-03T12:41:48.428Z"
   },
   {
    "duration": 4,
    "start_time": "2023-01-03T12:41:48.441Z"
   },
   {
    "duration": 11,
    "start_time": "2023-01-03T12:41:48.447Z"
   },
   {
    "duration": 5,
    "start_time": "2023-01-03T12:41:48.460Z"
   },
   {
    "duration": 35,
    "start_time": "2023-01-03T12:41:48.467Z"
   },
   {
    "duration": 23,
    "start_time": "2023-01-03T12:41:48.503Z"
   },
   {
    "duration": 4,
    "start_time": "2023-01-03T12:41:48.527Z"
   },
   {
    "duration": 16,
    "start_time": "2023-01-03T12:41:48.533Z"
   },
   {
    "duration": 26,
    "start_time": "2023-01-03T12:41:48.551Z"
   },
   {
    "duration": 20,
    "start_time": "2023-01-03T12:41:48.579Z"
   },
   {
    "duration": 6,
    "start_time": "2023-01-03T12:41:48.601Z"
   },
   {
    "duration": 23,
    "start_time": "2023-01-03T12:41:48.608Z"
   },
   {
    "duration": 8,
    "start_time": "2023-01-03T12:41:48.632Z"
   },
   {
    "duration": 12,
    "start_time": "2023-01-03T12:41:48.641Z"
   },
   {
    "duration": 18,
    "start_time": "2023-01-03T12:41:48.654Z"
   },
   {
    "duration": 16,
    "start_time": "2023-01-03T12:41:48.673Z"
   },
   {
    "duration": 1492,
    "start_time": "2023-01-03T12:41:52.032Z"
   },
   {
    "duration": 581,
    "start_time": "2023-01-03T12:42:17.006Z"
   },
   {
    "duration": 578,
    "start_time": "2023-01-03T12:43:34.590Z"
   },
   {
    "duration": 666,
    "start_time": "2023-01-03T12:43:41.075Z"
   },
   {
    "duration": 351,
    "start_time": "2023-01-03T12:43:52.178Z"
   },
   {
    "duration": 345,
    "start_time": "2023-01-03T12:44:04.388Z"
   },
   {
    "duration": 338,
    "start_time": "2023-01-03T12:44:14.328Z"
   },
   {
    "duration": 358,
    "start_time": "2023-01-03T12:44:34.551Z"
   },
   {
    "duration": 337,
    "start_time": "2023-01-03T12:44:57.916Z"
   },
   {
    "duration": 367,
    "start_time": "2023-01-03T12:46:05.192Z"
   },
   {
    "duration": 340,
    "start_time": "2023-01-03T12:47:49.419Z"
   },
   {
    "duration": 335,
    "start_time": "2023-01-03T12:48:08.600Z"
   },
   {
    "duration": 356,
    "start_time": "2023-01-03T12:48:21.376Z"
   },
   {
    "duration": 335,
    "start_time": "2023-01-03T12:48:32.613Z"
   },
   {
    "duration": 424,
    "start_time": "2023-01-03T12:48:34.216Z"
   },
   {
    "duration": 324,
    "start_time": "2023-01-03T12:51:42.840Z"
   },
   {
    "duration": 184,
    "start_time": "2023-01-03T12:53:50.707Z"
   },
   {
    "duration": 53,
    "start_time": "2023-01-03T12:54:39.252Z"
   },
   {
    "duration": 126,
    "start_time": "2023-01-03T12:54:58.269Z"
   },
   {
    "duration": 479,
    "start_time": "2023-01-03T12:55:09.942Z"
   },
   {
    "duration": 482,
    "start_time": "2023-01-03T12:55:31.626Z"
   },
   {
    "duration": 532,
    "start_time": "2023-01-03T12:56:12.746Z"
   },
   {
    "duration": 515,
    "start_time": "2023-01-03T12:56:48.607Z"
   },
   {
    "duration": 623,
    "start_time": "2023-01-03T12:58:35.461Z"
   },
   {
    "duration": 395,
    "start_time": "2023-01-03T12:58:55.353Z"
   },
   {
    "duration": 375,
    "start_time": "2023-01-03T12:59:33.920Z"
   },
   {
    "duration": 419,
    "start_time": "2023-01-03T13:02:14.798Z"
   },
   {
    "duration": 378,
    "start_time": "2023-01-03T13:14:27.240Z"
   },
   {
    "duration": 38,
    "start_time": "2023-01-03T13:23:43.579Z"
   },
   {
    "duration": 295,
    "start_time": "2023-01-03T13:24:46.539Z"
   },
   {
    "duration": 289,
    "start_time": "2023-01-03T13:24:54.761Z"
   },
   {
    "duration": 315,
    "start_time": "2023-01-03T13:25:01.223Z"
   },
   {
    "duration": 239,
    "start_time": "2023-01-03T13:26:41.051Z"
   },
   {
    "duration": 293,
    "start_time": "2023-01-03T13:31:24.263Z"
   },
   {
    "duration": 264,
    "start_time": "2023-01-03T13:31:49.933Z"
   },
   {
    "duration": 281,
    "start_time": "2023-01-03T13:32:17.844Z"
   },
   {
    "duration": 266,
    "start_time": "2023-01-03T13:32:36.242Z"
   },
   {
    "duration": 476,
    "start_time": "2023-01-03T13:34:09.756Z"
   },
   {
    "duration": 10,
    "start_time": "2023-01-03T13:41:15.412Z"
   },
   {
    "duration": 25,
    "start_time": "2023-01-03T13:41:21.819Z"
   },
   {
    "duration": 39,
    "start_time": "2023-01-03T13:41:57.056Z"
   },
   {
    "duration": 35,
    "start_time": "2023-01-03T13:42:23.192Z"
   },
   {
    "duration": 42,
    "start_time": "2023-01-03T13:43:19.455Z"
   },
   {
    "duration": 47,
    "start_time": "2023-01-03T13:44:25.593Z"
   },
   {
    "duration": 717,
    "start_time": "2023-01-03T13:46:56.819Z"
   },
   {
    "duration": 39,
    "start_time": "2023-01-03T13:47:14.793Z"
   },
   {
    "duration": 33,
    "start_time": "2023-01-03T13:47:57.236Z"
   },
   {
    "duration": 38,
    "start_time": "2023-01-03T13:48:07.822Z"
   },
   {
    "duration": 331,
    "start_time": "2023-01-03T13:49:06.590Z"
   },
   {
    "duration": 73,
    "start_time": "2023-01-03T13:49:53.523Z"
   },
   {
    "duration": 32,
    "start_time": "2023-01-03T13:50:29.177Z"
   },
   {
    "duration": 44,
    "start_time": "2023-01-03T13:50:46.873Z"
   },
   {
    "duration": 18,
    "start_time": "2023-01-03T13:54:19.527Z"
   },
   {
    "duration": 290,
    "start_time": "2023-01-03T13:54:37.477Z"
   },
   {
    "duration": 301,
    "start_time": "2023-01-03T13:56:12.393Z"
   },
   {
    "duration": 275,
    "start_time": "2023-01-03T13:56:26.526Z"
   },
   {
    "duration": 256,
    "start_time": "2023-01-03T13:56:37.345Z"
   },
   {
    "duration": 314,
    "start_time": "2023-01-03T13:56:51.504Z"
   },
   {
    "duration": 305,
    "start_time": "2023-01-03T13:57:00.401Z"
   },
   {
    "duration": 17,
    "start_time": "2023-01-03T13:59:03.157Z"
   },
   {
    "duration": 16,
    "start_time": "2023-01-03T13:59:42.371Z"
   },
   {
    "duration": 17,
    "start_time": "2023-01-03T13:59:59.389Z"
   },
   {
    "duration": 21,
    "start_time": "2023-01-03T14:03:22.329Z"
   },
   {
    "duration": 22,
    "start_time": "2023-01-03T14:03:38.752Z"
   },
   {
    "duration": 25,
    "start_time": "2023-01-03T14:04:16.024Z"
   },
   {
    "duration": 22,
    "start_time": "2023-01-03T14:04:23.739Z"
   },
   {
    "duration": 21,
    "start_time": "2023-01-03T14:05:30.001Z"
   },
   {
    "duration": 18,
    "start_time": "2023-01-03T14:05:55.887Z"
   },
   {
    "duration": 24,
    "start_time": "2023-01-03T14:06:39.099Z"
   },
   {
    "duration": 26,
    "start_time": "2023-01-03T14:08:42.790Z"
   },
   {
    "duration": 17,
    "start_time": "2023-01-03T14:09:01.279Z"
   },
   {
    "duration": 15,
    "start_time": "2023-01-03T14:09:10.526Z"
   },
   {
    "duration": 30,
    "start_time": "2023-01-03T14:09:46.729Z"
   },
   {
    "duration": 107,
    "start_time": "2023-01-03T14:10:36.189Z"
   },
   {
    "duration": 140,
    "start_time": "2023-01-03T14:12:22.526Z"
   },
   {
    "duration": 214,
    "start_time": "2023-01-03T14:19:15.365Z"
   },
   {
    "duration": 223,
    "start_time": "2023-01-03T14:19:50.430Z"
   },
   {
    "duration": 142,
    "start_time": "2023-01-03T14:20:27.360Z"
   },
   {
    "duration": 118,
    "start_time": "2023-01-03T14:20:34.163Z"
   },
   {
    "duration": 279,
    "start_time": "2023-01-03T14:20:59.583Z"
   },
   {
    "duration": 125,
    "start_time": "2023-01-03T14:21:12.529Z"
   },
   {
    "duration": 112,
    "start_time": "2023-01-03T14:21:36.359Z"
   },
   {
    "duration": 126,
    "start_time": "2023-01-03T14:21:46.567Z"
   },
   {
    "duration": 118,
    "start_time": "2023-01-03T14:22:02.352Z"
   },
   {
    "duration": 113,
    "start_time": "2023-01-03T14:22:15.840Z"
   },
   {
    "duration": 109,
    "start_time": "2023-01-03T14:22:29.602Z"
   },
   {
    "duration": 6,
    "start_time": "2023-01-03T14:23:05.378Z"
   },
   {
    "duration": 10,
    "start_time": "2023-01-03T14:23:15.583Z"
   },
   {
    "duration": 5,
    "start_time": "2023-01-03T14:23:24.204Z"
   },
   {
    "duration": 9,
    "start_time": "2023-01-03T14:23:29.239Z"
   },
   {
    "duration": 128,
    "start_time": "2023-01-03T14:26:46.831Z"
   },
   {
    "duration": 135,
    "start_time": "2023-01-03T14:27:00.807Z"
   },
   {
    "duration": 120,
    "start_time": "2023-01-03T14:27:14.927Z"
   },
   {
    "duration": 119,
    "start_time": "2023-01-03T14:28:31.626Z"
   },
   {
    "duration": 125,
    "start_time": "2023-01-03T14:28:42.658Z"
   },
   {
    "duration": 140,
    "start_time": "2023-01-03T14:29:17.603Z"
   },
   {
    "duration": 170,
    "start_time": "2023-01-03T14:29:39.116Z"
   },
   {
    "duration": 39,
    "start_time": "2023-01-03T14:31:26.678Z"
   },
   {
    "duration": 157,
    "start_time": "2023-01-03T14:31:50.136Z"
   },
   {
    "duration": 127,
    "start_time": "2023-01-03T14:32:24.041Z"
   },
   {
    "duration": 160,
    "start_time": "2023-01-03T14:32:34.088Z"
   },
   {
    "duration": 166,
    "start_time": "2023-01-03T14:35:26.321Z"
   },
   {
    "duration": 156,
    "start_time": "2023-01-03T14:36:33.992Z"
   },
   {
    "duration": 721,
    "start_time": "2023-01-03T14:37:26.183Z"
   },
   {
    "duration": 814,
    "start_time": "2023-01-03T14:37:51.989Z"
   },
   {
    "duration": 744,
    "start_time": "2023-01-03T14:38:20.153Z"
   },
   {
    "duration": 58,
    "start_time": "2023-01-03T14:38:54.156Z"
   },
   {
    "duration": 32,
    "start_time": "2023-01-03T14:39:16.836Z"
   },
   {
    "duration": 111,
    "start_time": "2023-01-03T14:39:23.449Z"
   },
   {
    "duration": 129,
    "start_time": "2023-01-03T14:40:16.537Z"
   },
   {
    "duration": 152,
    "start_time": "2023-01-03T14:40:29.769Z"
   },
   {
    "duration": 270,
    "start_time": "2023-01-03T14:40:48.531Z"
   },
   {
    "duration": 123,
    "start_time": "2023-01-03T14:40:58.466Z"
   },
   {
    "duration": 147,
    "start_time": "2023-01-03T14:44:11.958Z"
   },
   {
    "duration": 140,
    "start_time": "2023-01-03T14:48:06.873Z"
   },
   {
    "duration": 114,
    "start_time": "2023-01-03T14:48:40.390Z"
   },
   {
    "duration": 109,
    "start_time": "2023-01-03T14:48:56.604Z"
   },
   {
    "duration": 133,
    "start_time": "2023-01-03T14:53:31.117Z"
   },
   {
    "duration": 133,
    "start_time": "2023-01-03T14:54:35.989Z"
   },
   {
    "duration": 496,
    "start_time": "2023-01-03T14:56:00.876Z"
   },
   {
    "duration": 28,
    "start_time": "2023-01-03T14:56:16.405Z"
   },
   {
    "duration": 138,
    "start_time": "2023-01-03T14:56:35.037Z"
   },
   {
    "duration": 124,
    "start_time": "2023-01-03T14:57:23.046Z"
   },
   {
    "duration": 128,
    "start_time": "2023-01-03T14:57:29.984Z"
   },
   {
    "duration": 129,
    "start_time": "2023-01-03T14:57:37.822Z"
   },
   {
    "duration": 121,
    "start_time": "2023-01-03T14:57:43.738Z"
   },
   {
    "duration": 132,
    "start_time": "2023-01-03T14:58:03.559Z"
   },
   {
    "duration": 78,
    "start_time": "2023-01-03T15:15:13.949Z"
   },
   {
    "duration": 14,
    "start_time": "2023-01-03T15:15:14.029Z"
   },
   {
    "duration": 18,
    "start_time": "2023-01-03T15:15:14.045Z"
   },
   {
    "duration": 11,
    "start_time": "2023-01-03T15:15:14.064Z"
   },
   {
    "duration": 57,
    "start_time": "2023-01-03T15:15:14.077Z"
   },
   {
    "duration": 2,
    "start_time": "2023-01-03T15:15:14.136Z"
   },
   {
    "duration": 18,
    "start_time": "2023-01-03T15:15:14.140Z"
   },
   {
    "duration": 13,
    "start_time": "2023-01-03T15:15:14.159Z"
   },
   {
    "duration": 13,
    "start_time": "2023-01-03T15:15:14.173Z"
   },
   {
    "duration": 6,
    "start_time": "2023-01-03T15:15:14.187Z"
   },
   {
    "duration": 33,
    "start_time": "2023-01-03T15:15:14.195Z"
   },
   {
    "duration": 11,
    "start_time": "2023-01-03T15:15:14.229Z"
   },
   {
    "duration": 5,
    "start_time": "2023-01-03T15:15:14.241Z"
   },
   {
    "duration": 11,
    "start_time": "2023-01-03T15:15:14.248Z"
   },
   {
    "duration": 19,
    "start_time": "2023-01-03T15:15:14.260Z"
   },
   {
    "duration": 16,
    "start_time": "2023-01-03T15:15:14.280Z"
   },
   {
    "duration": 23,
    "start_time": "2023-01-03T15:15:14.298Z"
   },
   {
    "duration": 27,
    "start_time": "2023-01-03T15:15:14.323Z"
   },
   {
    "duration": 6,
    "start_time": "2023-01-03T15:15:14.351Z"
   },
   {
    "duration": 11,
    "start_time": "2023-01-03T15:15:14.358Z"
   },
   {
    "duration": 14,
    "start_time": "2023-01-03T15:15:14.370Z"
   },
   {
    "duration": 11,
    "start_time": "2023-01-03T15:17:16.428Z"
   },
   {
    "duration": 8,
    "start_time": "2023-01-03T15:17:43.053Z"
   },
   {
    "duration": 18,
    "start_time": "2023-01-03T15:19:22.696Z"
   },
   {
    "duration": 12,
    "start_time": "2023-01-03T15:20:22.512Z"
   },
   {
    "duration": 18,
    "start_time": "2023-01-03T15:20:34.682Z"
   },
   {
    "duration": 22,
    "start_time": "2023-01-03T15:22:20.409Z"
   },
   {
    "duration": 16,
    "start_time": "2023-01-03T15:22:52.624Z"
   },
   {
    "duration": 18,
    "start_time": "2023-01-03T15:22:58.345Z"
   },
   {
    "duration": 6,
    "start_time": "2023-01-03T15:27:01.595Z"
   },
   {
    "duration": 6,
    "start_time": "2023-01-03T15:27:33.331Z"
   },
   {
    "duration": 50,
    "start_time": "2023-01-03T15:28:16.226Z"
   },
   {
    "duration": 10,
    "start_time": "2023-01-03T15:28:28.110Z"
   },
   {
    "duration": 12,
    "start_time": "2023-01-03T15:30:33.170Z"
   },
   {
    "duration": 12,
    "start_time": "2023-01-03T15:31:01.037Z"
   },
   {
    "duration": 13,
    "start_time": "2023-01-03T15:31:20.515Z"
   },
   {
    "duration": 11,
    "start_time": "2023-01-03T15:33:27.336Z"
   },
   {
    "duration": 10,
    "start_time": "2023-01-03T15:33:40.326Z"
   },
   {
    "duration": 93,
    "start_time": "2023-01-03T15:34:28.232Z"
   },
   {
    "duration": 18,
    "start_time": "2023-01-03T15:35:07.719Z"
   },
   {
    "duration": 21,
    "start_time": "2023-01-03T15:35:24.893Z"
   },
   {
    "duration": 116,
    "start_time": "2023-01-03T15:35:34.055Z"
   },
   {
    "duration": 19,
    "start_time": "2023-01-03T15:35:42.414Z"
   },
   {
    "duration": 111,
    "start_time": "2023-01-03T15:35:53.306Z"
   },
   {
    "duration": 12,
    "start_time": "2023-01-03T16:00:16.200Z"
   },
   {
    "duration": 116,
    "start_time": "2023-01-03T16:00:25.439Z"
   },
   {
    "duration": 15,
    "start_time": "2023-01-03T16:17:15.296Z"
   },
   {
    "duration": 135,
    "start_time": "2023-01-03T16:18:06.968Z"
   },
   {
    "duration": 15,
    "start_time": "2023-01-03T16:21:43.669Z"
   },
   {
    "duration": 13,
    "start_time": "2023-01-03T16:24:37.423Z"
   },
   {
    "duration": 15,
    "start_time": "2023-01-03T16:25:01.533Z"
   },
   {
    "duration": 11,
    "start_time": "2023-01-03T16:28:36.369Z"
   },
   {
    "duration": 56,
    "start_time": "2023-01-03T16:38:06.939Z"
   },
   {
    "duration": 12,
    "start_time": "2023-01-03T16:38:19.159Z"
   },
   {
    "duration": 12,
    "start_time": "2023-01-03T16:38:36.632Z"
   },
   {
    "duration": 14,
    "start_time": "2023-01-03T16:38:37.471Z"
   },
   {
    "duration": 12,
    "start_time": "2023-01-03T16:38:38.066Z"
   },
   {
    "duration": 12,
    "start_time": "2023-01-03T16:38:38.791Z"
   },
   {
    "duration": 12,
    "start_time": "2023-01-03T16:38:38.944Z"
   },
   {
    "duration": 12,
    "start_time": "2023-01-03T16:38:39.106Z"
   },
   {
    "duration": 12,
    "start_time": "2023-01-03T16:38:41.400Z"
   },
   {
    "duration": 10,
    "start_time": "2023-01-03T16:39:00.449Z"
   },
   {
    "duration": 10,
    "start_time": "2023-01-03T16:39:07.174Z"
   },
   {
    "duration": 10,
    "start_time": "2023-01-03T16:39:13.343Z"
   },
   {
    "duration": 11,
    "start_time": "2023-01-03T16:39:22.171Z"
   },
   {
    "duration": 12,
    "start_time": "2023-01-03T16:39:43.327Z"
   },
   {
    "duration": 707,
    "start_time": "2023-01-03T16:47:09.909Z"
   },
   {
    "duration": 743,
    "start_time": "2023-01-03T16:47:28.402Z"
   },
   {
    "duration": 4,
    "start_time": "2023-01-03T16:49:02.690Z"
   },
   {
    "duration": 5,
    "start_time": "2023-01-03T16:49:16.104Z"
   },
   {
    "duration": 5,
    "start_time": "2023-01-03T16:49:27.928Z"
   },
   {
    "duration": 45,
    "start_time": "2023-01-03T16:49:55.054Z"
   },
   {
    "duration": 6,
    "start_time": "2023-01-03T16:50:05.360Z"
   },
   {
    "duration": 5,
    "start_time": "2023-01-03T16:50:33.976Z"
   },
   {
    "duration": 6,
    "start_time": "2023-01-03T16:50:58.579Z"
   },
   {
    "duration": 5,
    "start_time": "2023-01-03T16:51:05.997Z"
   },
   {
    "duration": 10,
    "start_time": "2023-01-03T16:54:56.020Z"
   },
   {
    "duration": 4,
    "start_time": "2023-01-03T16:55:24.629Z"
   },
   {
    "duration": 5,
    "start_time": "2023-01-03T16:55:37.133Z"
   },
   {
    "duration": 19,
    "start_time": "2023-01-03T17:07:43.117Z"
   },
   {
    "duration": 18,
    "start_time": "2023-01-03T17:08:06.768Z"
   },
   {
    "duration": 42,
    "start_time": "2023-01-03T17:08:51.583Z"
   },
   {
    "duration": 34,
    "start_time": "2023-01-03T17:09:39.125Z"
   },
   {
    "duration": 41,
    "start_time": "2023-01-03T17:09:42.691Z"
   },
   {
    "duration": 18,
    "start_time": "2023-01-03T17:10:31.733Z"
   },
   {
    "duration": 38,
    "start_time": "2023-01-03T17:12:33.988Z"
   },
   {
    "duration": 18,
    "start_time": "2023-01-03T17:12:54.447Z"
   },
   {
    "duration": 16,
    "start_time": "2023-01-03T17:16:13.825Z"
   },
   {
    "duration": 105,
    "start_time": "2023-01-03T17:16:29.024Z"
   },
   {
    "duration": 4,
    "start_time": "2023-01-03T17:17:00.062Z"
   },
   {
    "duration": 4,
    "start_time": "2023-01-03T17:17:17.409Z"
   },
   {
    "duration": 5,
    "start_time": "2023-01-03T17:17:20.290Z"
   },
   {
    "duration": 3,
    "start_time": "2023-01-03T17:17:43.884Z"
   },
   {
    "duration": 116,
    "start_time": "2023-01-03T17:18:14.482Z"
   },
   {
    "duration": 62,
    "start_time": "2023-01-03T17:18:38.098Z"
   },
   {
    "duration": 52,
    "start_time": "2023-01-03T17:18:47.649Z"
   },
   {
    "duration": 43,
    "start_time": "2023-01-03T17:18:53.038Z"
   },
   {
    "duration": 116,
    "start_time": "2023-01-03T17:18:57.921Z"
   },
   {
    "duration": 21,
    "start_time": "2023-01-03T17:29:50.865Z"
   },
   {
    "duration": 5,
    "start_time": "2023-01-03T17:30:39.973Z"
   },
   {
    "duration": 187,
    "start_time": "2023-01-03T17:31:28.398Z"
   },
   {
    "duration": 204,
    "start_time": "2023-01-03T17:31:33.840Z"
   },
   {
    "duration": 157,
    "start_time": "2023-01-03T17:34:07.841Z"
   },
   {
    "duration": 197,
    "start_time": "2023-01-03T17:34:32.707Z"
   },
   {
    "duration": 17,
    "start_time": "2023-01-03T17:34:38.934Z"
   },
   {
    "duration": 187,
    "start_time": "2023-01-03T17:36:18.487Z"
   },
   {
    "duration": 349,
    "start_time": "2023-01-03T17:39:49.132Z"
   },
   {
    "duration": 279,
    "start_time": "2023-01-03T17:41:14.683Z"
   },
   {
    "duration": 256,
    "start_time": "2023-01-03T17:41:39.499Z"
   },
   {
    "duration": 15,
    "start_time": "2023-01-03T17:41:56.717Z"
   },
   {
    "duration": 266,
    "start_time": "2023-01-03T17:42:02.329Z"
   },
   {
    "duration": 254,
    "start_time": "2023-01-03T17:42:17.724Z"
   },
   {
    "duration": 284,
    "start_time": "2023-01-03T17:44:07.561Z"
   },
   {
    "duration": 303,
    "start_time": "2023-01-03T17:44:16.606Z"
   },
   {
    "duration": 18,
    "start_time": "2023-01-03T17:45:00.601Z"
   },
   {
    "duration": 258,
    "start_time": "2023-01-03T17:47:29.228Z"
   },
   {
    "duration": 331,
    "start_time": "2023-01-03T17:48:12.751Z"
   },
   {
    "duration": 19,
    "start_time": "2023-01-03T18:02:13.890Z"
   },
   {
    "duration": 19,
    "start_time": "2023-01-03T18:02:37.472Z"
   },
   {
    "duration": 333,
    "start_time": "2023-01-03T18:02:40.735Z"
   },
   {
    "duration": 36,
    "start_time": "2023-01-03T18:03:12.409Z"
   },
   {
    "duration": 314,
    "start_time": "2023-01-03T18:04:02.140Z"
   },
   {
    "duration": 24,
    "start_time": "2023-01-03T18:10:35.318Z"
   },
   {
    "duration": 353,
    "start_time": "2023-01-03T18:10:40.279Z"
   },
   {
    "duration": 57,
    "start_time": "2023-01-03T18:15:05.963Z"
   },
   {
    "duration": 4,
    "start_time": "2023-01-03T18:15:13.536Z"
   },
   {
    "duration": 23,
    "start_time": "2023-01-03T18:15:19.492Z"
   },
   {
    "duration": 309,
    "start_time": "2023-01-03T18:15:26.144Z"
   },
   {
    "duration": 22,
    "start_time": "2023-01-03T18:42:41.743Z"
   },
   {
    "duration": 20,
    "start_time": "2023-01-03T18:50:50.036Z"
   },
   {
    "duration": 17,
    "start_time": "2023-01-03T18:51:02.656Z"
   },
   {
    "duration": 17,
    "start_time": "2023-01-03T18:51:38.281Z"
   },
   {
    "duration": 19,
    "start_time": "2023-01-03T18:59:56.104Z"
   },
   {
    "duration": 18,
    "start_time": "2023-01-03T19:02:01.234Z"
   },
   {
    "duration": 16,
    "start_time": "2023-01-03T19:02:36.357Z"
   },
   {
    "duration": 21,
    "start_time": "2023-01-03T19:02:44.471Z"
   },
   {
    "duration": 45,
    "start_time": "2023-01-03T19:03:05.574Z"
   },
   {
    "duration": 30,
    "start_time": "2023-01-03T19:08:48.197Z"
   },
   {
    "duration": 45,
    "start_time": "2023-01-03T19:27:38.049Z"
   },
   {
    "duration": 40,
    "start_time": "2023-01-03T19:29:50.093Z"
   },
   {
    "duration": 31,
    "start_time": "2023-01-03T19:30:06.054Z"
   },
   {
    "duration": 36,
    "start_time": "2023-01-03T19:32:19.668Z"
   },
   {
    "duration": 32,
    "start_time": "2023-01-03T19:43:23.403Z"
   },
   {
    "duration": 24,
    "start_time": "2023-01-03T19:48:05.444Z"
   },
   {
    "duration": 14,
    "start_time": "2023-01-03T19:49:05.269Z"
   },
   {
    "duration": 4,
    "start_time": "2023-01-03T19:49:27.544Z"
   },
   {
    "duration": 26,
    "start_time": "2023-01-03T19:49:35.063Z"
   },
   {
    "duration": 9,
    "start_time": "2023-01-03T19:53:10.648Z"
   },
   {
    "duration": 20,
    "start_time": "2023-01-03T19:53:45.804Z"
   },
   {
    "duration": 14,
    "start_time": "2023-01-03T19:54:19.896Z"
   },
   {
    "duration": 15,
    "start_time": "2023-01-03T19:54:40.685Z"
   },
   {
    "duration": 16,
    "start_time": "2023-01-03T19:55:35.249Z"
   },
   {
    "duration": 13,
    "start_time": "2023-01-03T20:02:02.828Z"
   },
   {
    "duration": 21,
    "start_time": "2023-01-03T20:02:08.106Z"
   },
   {
    "duration": 24,
    "start_time": "2023-01-03T20:04:39.530Z"
   },
   {
    "duration": 25,
    "start_time": "2023-01-03T20:05:11.455Z"
   },
   {
    "duration": 17,
    "start_time": "2023-01-03T20:05:26.239Z"
   },
   {
    "duration": 33,
    "start_time": "2023-01-03T20:07:14.275Z"
   },
   {
    "duration": 33,
    "start_time": "2023-01-03T20:13:32.341Z"
   },
   {
    "duration": 47,
    "start_time": "2023-01-03T20:13:59.287Z"
   },
   {
    "duration": 11,
    "start_time": "2023-01-03T20:29:42.621Z"
   },
   {
    "duration": 12,
    "start_time": "2023-01-03T20:30:07.171Z"
   },
   {
    "duration": 9,
    "start_time": "2023-01-03T20:31:16.716Z"
   },
   {
    "duration": 16,
    "start_time": "2023-01-03T20:32:25.113Z"
   },
   {
    "duration": 139,
    "start_time": "2023-01-03T20:32:35.471Z"
   },
   {
    "duration": 115,
    "start_time": "2023-01-03T20:33:09.426Z"
   },
   {
    "duration": 11,
    "start_time": "2023-01-03T21:07:56.114Z"
   },
   {
    "duration": 14,
    "start_time": "2023-01-03T21:08:01.526Z"
   },
   {
    "duration": 101,
    "start_time": "2023-01-03T21:08:03.863Z"
   },
   {
    "duration": 11,
    "start_time": "2023-01-03T21:08:19.269Z"
   },
   {
    "duration": 11,
    "start_time": "2023-01-03T21:08:35.888Z"
   },
   {
    "duration": 11,
    "start_time": "2023-01-03T21:08:38.256Z"
   },
   {
    "duration": 113,
    "start_time": "2023-01-03T21:08:39.396Z"
   },
   {
    "duration": 10,
    "start_time": "2023-01-03T21:08:52.872Z"
   },
   {
    "duration": 107,
    "start_time": "2023-01-03T21:08:53.779Z"
   },
   {
    "duration": 8,
    "start_time": "2023-01-03T21:12:43.920Z"
   },
   {
    "duration": 45,
    "start_time": "2023-01-03T21:13:10.311Z"
   },
   {
    "duration": 14,
    "start_time": "2023-01-03T21:13:26.048Z"
   },
   {
    "duration": 120,
    "start_time": "2023-01-03T21:15:01.135Z"
   },
   {
    "duration": 12,
    "start_time": "2023-01-03T21:26:42.920Z"
   },
   {
    "duration": 19,
    "start_time": "2023-01-03T21:28:51.573Z"
   },
   {
    "duration": 119,
    "start_time": "2023-01-03T21:29:00.703Z"
   },
   {
    "duration": 103,
    "start_time": "2023-01-03T21:31:24.738Z"
   },
   {
    "duration": 123,
    "start_time": "2023-01-03T21:31:38.336Z"
   },
   {
    "duration": 85,
    "start_time": "2023-01-04T15:45:32.319Z"
   },
   {
    "duration": 40,
    "start_time": "2023-01-04T15:45:52.424Z"
   },
   {
    "duration": 529,
    "start_time": "2023-01-04T15:46:09.296Z"
   },
   {
    "duration": 23,
    "start_time": "2023-01-04T15:46:09.827Z"
   },
   {
    "duration": 16,
    "start_time": "2023-01-04T15:46:09.852Z"
   },
   {
    "duration": 26,
    "start_time": "2023-01-04T15:46:09.871Z"
   },
   {
    "duration": 58,
    "start_time": "2023-01-04T15:46:09.898Z"
   },
   {
    "duration": 3,
    "start_time": "2023-01-04T15:46:09.958Z"
   },
   {
    "duration": 45,
    "start_time": "2023-01-04T15:46:09.963Z"
   },
   {
    "duration": 26,
    "start_time": "2023-01-04T15:46:10.009Z"
   },
   {
    "duration": 50,
    "start_time": "2023-01-04T15:46:10.037Z"
   },
   {
    "duration": 40,
    "start_time": "2023-01-04T15:46:10.089Z"
   },
   {
    "duration": 61,
    "start_time": "2023-01-04T15:46:10.130Z"
   },
   {
    "duration": 17,
    "start_time": "2023-01-04T15:46:10.193Z"
   },
   {
    "duration": 27,
    "start_time": "2023-01-04T15:46:10.212Z"
   },
   {
    "duration": 37,
    "start_time": "2023-01-04T15:46:10.241Z"
   },
   {
    "duration": 36,
    "start_time": "2023-01-04T15:46:10.280Z"
   },
   {
    "duration": 28,
    "start_time": "2023-01-04T15:46:10.318Z"
   },
   {
    "duration": 19,
    "start_time": "2023-01-04T15:46:10.348Z"
   },
   {
    "duration": 38,
    "start_time": "2023-01-04T15:46:10.368Z"
   },
   {
    "duration": 45,
    "start_time": "2023-01-04T15:46:10.408Z"
   },
   {
    "duration": 27,
    "start_time": "2023-01-04T15:46:10.455Z"
   },
   {
    "duration": 59,
    "start_time": "2023-01-04T15:46:10.485Z"
   },
   {
    "duration": 59,
    "start_time": "2023-01-04T15:46:10.547Z"
   },
   {
    "duration": 1210,
    "start_time": "2023-01-04T15:46:10.608Z"
   },
   {
    "duration": 11,
    "start_time": "2023-01-04T15:46:11.820Z"
   },
   {
    "duration": 40,
    "start_time": "2023-01-04T15:46:11.833Z"
   },
   {
    "duration": 41,
    "start_time": "2023-01-04T15:46:11.875Z"
   },
   {
    "duration": 436,
    "start_time": "2023-01-04T15:46:11.918Z"
   },
   {
    "duration": 58,
    "start_time": "2023-01-04T15:46:12.359Z"
   },
   {
    "duration": 11,
    "start_time": "2023-01-04T15:46:12.419Z"
   },
   {
    "duration": 155,
    "start_time": "2023-01-04T15:46:12.432Z"
   },
   {
    "duration": 12,
    "start_time": "2023-01-04T15:46:12.589Z"
   },
   {
    "duration": 175,
    "start_time": "2023-01-04T15:46:12.603Z"
   },
   {
    "duration": 14,
    "start_time": "2023-01-04T15:46:12.780Z"
   },
   {
    "duration": 15,
    "start_time": "2023-01-04T15:46:23.368Z"
   },
   {
    "duration": 13,
    "start_time": "2023-01-04T15:52:18.645Z"
   },
   {
    "duration": 14,
    "start_time": "2023-01-04T15:52:26.034Z"
   },
   {
    "duration": 11,
    "start_time": "2023-01-04T15:54:50.421Z"
   },
   {
    "duration": 15,
    "start_time": "2023-01-04T15:55:06.936Z"
   },
   {
    "duration": 13,
    "start_time": "2023-01-04T15:55:14.839Z"
   },
   {
    "duration": 19,
    "start_time": "2023-01-04T16:05:45.971Z"
   },
   {
    "duration": 20,
    "start_time": "2023-01-04T16:06:42.619Z"
   },
   {
    "duration": 18,
    "start_time": "2023-01-04T16:07:05.041Z"
   },
   {
    "duration": 19,
    "start_time": "2023-01-04T16:07:29.762Z"
   },
   {
    "duration": 18,
    "start_time": "2023-01-04T16:07:40.208Z"
   },
   {
    "duration": 19,
    "start_time": "2023-01-04T16:07:51.539Z"
   },
   {
    "duration": 20,
    "start_time": "2023-01-04T16:08:06.002Z"
   },
   {
    "duration": 21,
    "start_time": "2023-01-04T16:09:47.223Z"
   },
   {
    "duration": 19,
    "start_time": "2023-01-04T16:10:02.749Z"
   },
   {
    "duration": 19,
    "start_time": "2023-01-04T16:10:14.820Z"
   },
   {
    "duration": 19,
    "start_time": "2023-01-04T16:10:34.275Z"
   },
   {
    "duration": 19,
    "start_time": "2023-01-04T16:10:44.361Z"
   },
   {
    "duration": 24,
    "start_time": "2023-01-04T16:11:37.137Z"
   },
   {
    "duration": 22,
    "start_time": "2023-01-04T16:12:00.494Z"
   },
   {
    "duration": 20,
    "start_time": "2023-01-04T16:12:08.373Z"
   },
   {
    "duration": 21,
    "start_time": "2023-01-04T16:12:32.549Z"
   },
   {
    "duration": 19,
    "start_time": "2023-01-04T16:12:51.460Z"
   },
   {
    "duration": 22,
    "start_time": "2023-01-04T16:13:11.551Z"
   },
   {
    "duration": 20,
    "start_time": "2023-01-04T16:15:40.032Z"
   },
   {
    "duration": 20,
    "start_time": "2023-01-04T16:16:58.313Z"
   },
   {
    "duration": 19,
    "start_time": "2023-01-04T16:17:35.173Z"
   },
   {
    "duration": 120,
    "start_time": "2023-01-04T16:19:22.564Z"
   },
   {
    "duration": 119,
    "start_time": "2023-01-04T16:20:03.318Z"
   },
   {
    "duration": 22,
    "start_time": "2023-01-04T16:20:40.868Z"
   },
   {
    "duration": 34,
    "start_time": "2023-01-04T16:21:52.633Z"
   },
   {
    "duration": 21,
    "start_time": "2023-01-04T16:24:03.649Z"
   },
   {
    "duration": 97,
    "start_time": "2023-01-04T16:25:11.256Z"
   },
   {
    "duration": 21,
    "start_time": "2023-01-04T16:25:24.266Z"
   },
   {
    "duration": 21,
    "start_time": "2023-01-04T16:28:39.329Z"
   },
   {
    "duration": 28,
    "start_time": "2023-01-04T16:28:53.958Z"
   },
   {
    "duration": 99,
    "start_time": "2023-01-04T16:29:10.607Z"
   },
   {
    "duration": 23,
    "start_time": "2023-01-04T16:29:38.166Z"
   },
   {
    "duration": 22,
    "start_time": "2023-01-04T16:29:50.529Z"
   },
   {
    "duration": 22,
    "start_time": "2023-01-04T16:30:08.136Z"
   },
   {
    "duration": 27,
    "start_time": "2023-01-04T16:30:22.746Z"
   },
   {
    "duration": 28,
    "start_time": "2023-01-04T16:30:37.480Z"
   },
   {
    "duration": 24,
    "start_time": "2023-01-04T16:31:17.890Z"
   },
   {
    "duration": 24,
    "start_time": "2023-01-04T16:31:36.061Z"
   },
   {
    "duration": 28,
    "start_time": "2023-01-04T16:31:56.104Z"
   },
   {
    "duration": 22,
    "start_time": "2023-01-04T16:33:15.047Z"
   },
   {
    "duration": 21,
    "start_time": "2023-01-04T16:33:34.175Z"
   },
   {
    "duration": 24,
    "start_time": "2023-01-04T16:34:37.372Z"
   },
   {
    "duration": 25,
    "start_time": "2023-01-04T16:35:04.970Z"
   },
   {
    "duration": 21,
    "start_time": "2023-01-04T16:35:29.742Z"
   },
   {
    "duration": 25,
    "start_time": "2023-01-04T16:36:49.843Z"
   },
   {
    "duration": 26,
    "start_time": "2023-01-04T16:37:10.859Z"
   },
   {
    "duration": 22,
    "start_time": "2023-01-04T16:37:41.651Z"
   },
   {
    "duration": 23,
    "start_time": "2023-01-04T16:37:59.164Z"
   },
   {
    "duration": 22,
    "start_time": "2023-01-04T16:38:24.350Z"
   },
   {
    "duration": 22,
    "start_time": "2023-01-04T16:39:47.035Z"
   },
   {
    "duration": 26,
    "start_time": "2023-01-04T16:40:00.334Z"
   },
   {
    "duration": 23,
    "start_time": "2023-01-04T16:40:32.181Z"
   },
   {
    "duration": 25,
    "start_time": "2023-01-04T16:41:10.625Z"
   },
   {
    "duration": 20,
    "start_time": "2023-01-04T16:44:15.802Z"
   },
   {
    "duration": 22,
    "start_time": "2023-01-04T16:44:32.286Z"
   },
   {
    "duration": 24,
    "start_time": "2023-01-04T16:44:42.040Z"
   },
   {
    "duration": 20,
    "start_time": "2023-01-04T16:45:18.145Z"
   },
   {
    "duration": 30,
    "start_time": "2023-01-04T17:40:29.777Z"
   },
   {
    "duration": 22,
    "start_time": "2023-01-04T17:41:57.768Z"
   },
   {
    "duration": 22,
    "start_time": "2023-01-04T17:42:20.439Z"
   },
   {
    "duration": 20,
    "start_time": "2023-01-04T17:42:42.315Z"
   },
   {
    "duration": 21,
    "start_time": "2023-01-04T17:43:06.589Z"
   },
   {
    "duration": 69,
    "start_time": "2023-01-04T17:51:02.161Z"
   },
   {
    "duration": 14,
    "start_time": "2023-01-04T17:51:15.405Z"
   }
  ],
  "colab": {
   "name": "dpp_template_part2.ipynb",
   "provenance": []
  },
  "kernelspec": {
   "display_name": "Python 3 (ipykernel)",
   "language": "python",
   "name": "python3"
  },
  "language_info": {
   "codemirror_mode": {
    "name": "ipython",
    "version": 3
   },
   "file_extension": ".py",
   "mimetype": "text/x-python",
   "name": "python",
   "nbconvert_exporter": "python",
   "pygments_lexer": "ipython3",
   "version": "3.9.13"
  },
  "nbTranslate": {
   "displayLangs": [
    "en"
   ],
   "hotkey": "alt-t",
   "langInMainMenu": true,
   "sourceLang": "ru",
   "targetLang": "en",
   "useGoogleTranslate": true
  },
  "toc": {
   "base_numbering": 1,
   "nav_menu": {},
   "number_sections": true,
   "sideBar": true,
   "skip_h1_title": true,
   "title_cell": "Table of Contents",
   "title_sidebar": "Contents",
   "toc_cell": false,
   "toc_position": {
    "height": "calc(100% - 180px)",
    "left": "10px",
    "top": "150px",
    "width": "341.319px"
   },
   "toc_section_display": true,
   "toc_window_display": true
  }
 },
 "nbformat": 4,
 "nbformat_minor": 5
}
