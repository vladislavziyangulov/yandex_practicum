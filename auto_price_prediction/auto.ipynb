{
 "cells": [
  {
   "cell_type": "markdown",
   "metadata": {
    "lang": "en"
   },
   "source": [
    "# Determining the cost of cars"
   ]
  },
  {
   "cell_type": "markdown",
   "metadata": {
    "lang": "en"
   },
   "source": [
    "A service for selling used cars is developing an application to attract new customers, where you can quickly estimate the market value of your car. Historical data is at our disposal: technical characteristics, configurations and prices of cars. I need to build a model to determine the cost.\n",
    "\n",
    "The following are important to the customer:\n",
    "\n",
    "- quality of prediction;\n",
    "- prediction speed;\n",
    "- training time."
   ]
  },
  {
   "cell_type": "markdown",
   "metadata": {
    "lang": "en"
   },
   "source": [
    "## Data preparation"
   ]
  },
  {
   "cell_type": "code",
   "execution_count": 1,
   "metadata": {},
   "outputs": [],
   "source": [
    "import pandas as pd\n",
    "import numpy as np\n",
    "\n",
    "import seaborn as sns\n",
    "from matplotlib import pyplot as plt\n",
    "\n",
    "from sklearn.model_selection import train_test_split\n",
    "from sklearn.preprocessing import OrdinalEncoder, OneHotEncoder, StandardScaler, MinMaxScaler\n",
    "from sklearn.metrics import mean_squared_error\n",
    "\n",
    "from sklearn.ensemble import RandomForestRegressor\n",
    "import lightgbm as lgb\n",
    "\n",
    "from datetime import datetime"
   ]
  },
  {
   "cell_type": "code",
   "execution_count": 2,
   "metadata": {
    "scrolled": true
   },
   "outputs": [
    {
     "data": {
      "text/html": [
       "<div>\n",
       "<style scoped>\n",
       "    .dataframe tbody tr th:only-of-type {\n",
       "        vertical-align: middle;\n",
       "    }\n",
       "\n",
       "    .dataframe tbody tr th {\n",
       "        vertical-align: top;\n",
       "    }\n",
       "\n",
       "    .dataframe thead th {\n",
       "        text-align: right;\n",
       "    }\n",
       "</style>\n",
       "<table border=\"1\" class=\"dataframe\">\n",
       "  <thead>\n",
       "    <tr style=\"text-align: right;\">\n",
       "      <th></th>\n",
       "      <th>DateCrawled</th>\n",
       "      <th>Price</th>\n",
       "      <th>VehicleType</th>\n",
       "      <th>RegistrationYear</th>\n",
       "      <th>Gearbox</th>\n",
       "      <th>Power</th>\n",
       "      <th>Model</th>\n",
       "      <th>Kilometer</th>\n",
       "      <th>RegistrationMonth</th>\n",
       "      <th>FuelType</th>\n",
       "      <th>Brand</th>\n",
       "      <th>Repaired</th>\n",
       "      <th>DateCreated</th>\n",
       "      <th>NumberOfPictures</th>\n",
       "      <th>PostalCode</th>\n",
       "      <th>LastSeen</th>\n",
       "    </tr>\n",
       "  </thead>\n",
       "  <tbody>\n",
       "    <tr>\n",
       "      <th>0</th>\n",
       "      <td>2016-03-24 11:52:17</td>\n",
       "      <td>480</td>\n",
       "      <td>NaN</td>\n",
       "      <td>1993</td>\n",
       "      <td>manual</td>\n",
       "      <td>0</td>\n",
       "      <td>golf</td>\n",
       "      <td>150000</td>\n",
       "      <td>0</td>\n",
       "      <td>petrol</td>\n",
       "      <td>volkswagen</td>\n",
       "      <td>NaN</td>\n",
       "      <td>2016-03-24 00:00:00</td>\n",
       "      <td>0</td>\n",
       "      <td>70435</td>\n",
       "      <td>2016-04-07 03:16:57</td>\n",
       "    </tr>\n",
       "    <tr>\n",
       "      <th>1</th>\n",
       "      <td>2016-03-24 10:58:45</td>\n",
       "      <td>18300</td>\n",
       "      <td>coupe</td>\n",
       "      <td>2011</td>\n",
       "      <td>manual</td>\n",
       "      <td>190</td>\n",
       "      <td>NaN</td>\n",
       "      <td>125000</td>\n",
       "      <td>5</td>\n",
       "      <td>gasoline</td>\n",
       "      <td>audi</td>\n",
       "      <td>yes</td>\n",
       "      <td>2016-03-24 00:00:00</td>\n",
       "      <td>0</td>\n",
       "      <td>66954</td>\n",
       "      <td>2016-04-07 01:46:50</td>\n",
       "    </tr>\n",
       "    <tr>\n",
       "      <th>2</th>\n",
       "      <td>2016-03-14 12:52:21</td>\n",
       "      <td>9800</td>\n",
       "      <td>suv</td>\n",
       "      <td>2004</td>\n",
       "      <td>auto</td>\n",
       "      <td>163</td>\n",
       "      <td>grand</td>\n",
       "      <td>125000</td>\n",
       "      <td>8</td>\n",
       "      <td>gasoline</td>\n",
       "      <td>jeep</td>\n",
       "      <td>NaN</td>\n",
       "      <td>2016-03-14 00:00:00</td>\n",
       "      <td>0</td>\n",
       "      <td>90480</td>\n",
       "      <td>2016-04-05 12:47:46</td>\n",
       "    </tr>\n",
       "    <tr>\n",
       "      <th>3</th>\n",
       "      <td>2016-03-17 16:54:04</td>\n",
       "      <td>1500</td>\n",
       "      <td>small</td>\n",
       "      <td>2001</td>\n",
       "      <td>manual</td>\n",
       "      <td>75</td>\n",
       "      <td>golf</td>\n",
       "      <td>150000</td>\n",
       "      <td>6</td>\n",
       "      <td>petrol</td>\n",
       "      <td>volkswagen</td>\n",
       "      <td>no</td>\n",
       "      <td>2016-03-17 00:00:00</td>\n",
       "      <td>0</td>\n",
       "      <td>91074</td>\n",
       "      <td>2016-03-17 17:40:17</td>\n",
       "    </tr>\n",
       "    <tr>\n",
       "      <th>4</th>\n",
       "      <td>2016-03-31 17:25:20</td>\n",
       "      <td>3600</td>\n",
       "      <td>small</td>\n",
       "      <td>2008</td>\n",
       "      <td>manual</td>\n",
       "      <td>69</td>\n",
       "      <td>fabia</td>\n",
       "      <td>90000</td>\n",
       "      <td>7</td>\n",
       "      <td>gasoline</td>\n",
       "      <td>skoda</td>\n",
       "      <td>no</td>\n",
       "      <td>2016-03-31 00:00:00</td>\n",
       "      <td>0</td>\n",
       "      <td>60437</td>\n",
       "      <td>2016-04-06 10:17:21</td>\n",
       "    </tr>\n",
       "  </tbody>\n",
       "</table>\n",
       "</div>"
      ],
      "text/plain": [
       "          DateCrawled  Price VehicleType  RegistrationYear Gearbox  Power  \\\n",
       "0 2016-03-24 11:52:17    480         NaN              1993  manual      0   \n",
       "1 2016-03-24 10:58:45  18300       coupe              2011  manual    190   \n",
       "2 2016-03-14 12:52:21   9800         suv              2004    auto    163   \n",
       "3 2016-03-17 16:54:04   1500       small              2001  manual     75   \n",
       "4 2016-03-31 17:25:20   3600       small              2008  manual     69   \n",
       "\n",
       "   Model  Kilometer  RegistrationMonth  FuelType       Brand Repaired  \\\n",
       "0   golf     150000                  0    petrol  volkswagen      NaN   \n",
       "1    NaN     125000                  5  gasoline        audi      yes   \n",
       "2  grand     125000                  8  gasoline        jeep      NaN   \n",
       "3   golf     150000                  6    petrol  volkswagen       no   \n",
       "4  fabia      90000                  7  gasoline       skoda       no   \n",
       "\n",
       "           DateCreated  NumberOfPictures  PostalCode             LastSeen  \n",
       "0  2016-03-24 00:00:00                 0       70435  2016-04-07 03:16:57  \n",
       "1  2016-03-24 00:00:00                 0       66954  2016-04-07 01:46:50  \n",
       "2  2016-03-14 00:00:00                 0       90480  2016-04-05 12:47:46  \n",
       "3  2016-03-17 00:00:00                 0       91074  2016-03-17 17:40:17  \n",
       "4  2016-03-31 00:00:00                 0       60437  2016-04-06 10:17:21  "
      ]
     },
     "execution_count": 2,
     "metadata": {},
     "output_type": "execute_result"
    }
   ],
   "source": [
    "data = pd.read_csv('/datasets/autos.csv', parse_dates=[0])\n",
    "data.head()"
   ]
  },
  {
   "cell_type": "code",
   "execution_count": 3,
   "metadata": {},
   "outputs": [
    {
     "data": {
      "text/html": [
       "<div>\n",
       "<style scoped>\n",
       "    .dataframe tbody tr th:only-of-type {\n",
       "        vertical-align: middle;\n",
       "    }\n",
       "\n",
       "    .dataframe tbody tr th {\n",
       "        vertical-align: top;\n",
       "    }\n",
       "\n",
       "    .dataframe thead th {\n",
       "        text-align: right;\n",
       "    }\n",
       "</style>\n",
       "<table border=\"1\" class=\"dataframe\">\n",
       "  <thead>\n",
       "    <tr style=\"text-align: right;\">\n",
       "      <th></th>\n",
       "      <th>count</th>\n",
       "      <th>mean</th>\n",
       "      <th>std</th>\n",
       "      <th>min</th>\n",
       "      <th>25%</th>\n",
       "      <th>50%</th>\n",
       "      <th>75%</th>\n",
       "      <th>max</th>\n",
       "    </tr>\n",
       "  </thead>\n",
       "  <tbody>\n",
       "    <tr>\n",
       "      <th>Price</th>\n",
       "      <td>354369.0</td>\n",
       "      <td>4416.656776</td>\n",
       "      <td>4514.158514</td>\n",
       "      <td>0.0</td>\n",
       "      <td>1050.0</td>\n",
       "      <td>2700.0</td>\n",
       "      <td>6400.0</td>\n",
       "      <td>20000.0</td>\n",
       "    </tr>\n",
       "    <tr>\n",
       "      <th>RegistrationYear</th>\n",
       "      <td>354369.0</td>\n",
       "      <td>2004.234448</td>\n",
       "      <td>90.227958</td>\n",
       "      <td>1000.0</td>\n",
       "      <td>1999.0</td>\n",
       "      <td>2003.0</td>\n",
       "      <td>2008.0</td>\n",
       "      <td>9999.0</td>\n",
       "    </tr>\n",
       "    <tr>\n",
       "      <th>Power</th>\n",
       "      <td>354369.0</td>\n",
       "      <td>110.094337</td>\n",
       "      <td>189.850405</td>\n",
       "      <td>0.0</td>\n",
       "      <td>69.0</td>\n",
       "      <td>105.0</td>\n",
       "      <td>143.0</td>\n",
       "      <td>20000.0</td>\n",
       "    </tr>\n",
       "    <tr>\n",
       "      <th>Kilometer</th>\n",
       "      <td>354369.0</td>\n",
       "      <td>128211.172535</td>\n",
       "      <td>37905.341530</td>\n",
       "      <td>5000.0</td>\n",
       "      <td>125000.0</td>\n",
       "      <td>150000.0</td>\n",
       "      <td>150000.0</td>\n",
       "      <td>150000.0</td>\n",
       "    </tr>\n",
       "    <tr>\n",
       "      <th>RegistrationMonth</th>\n",
       "      <td>354369.0</td>\n",
       "      <td>5.714645</td>\n",
       "      <td>3.726421</td>\n",
       "      <td>0.0</td>\n",
       "      <td>3.0</td>\n",
       "      <td>6.0</td>\n",
       "      <td>9.0</td>\n",
       "      <td>12.0</td>\n",
       "    </tr>\n",
       "    <tr>\n",
       "      <th>NumberOfPictures</th>\n",
       "      <td>354369.0</td>\n",
       "      <td>0.000000</td>\n",
       "      <td>0.000000</td>\n",
       "      <td>0.0</td>\n",
       "      <td>0.0</td>\n",
       "      <td>0.0</td>\n",
       "      <td>0.0</td>\n",
       "      <td>0.0</td>\n",
       "    </tr>\n",
       "    <tr>\n",
       "      <th>PostalCode</th>\n",
       "      <td>354369.0</td>\n",
       "      <td>50508.689087</td>\n",
       "      <td>25783.096248</td>\n",
       "      <td>1067.0</td>\n",
       "      <td>30165.0</td>\n",
       "      <td>49413.0</td>\n",
       "      <td>71083.0</td>\n",
       "      <td>99998.0</td>\n",
       "    </tr>\n",
       "  </tbody>\n",
       "</table>\n",
       "</div>"
      ],
      "text/plain": [
       "                      count           mean           std     min       25%  \\\n",
       "Price              354369.0    4416.656776   4514.158514     0.0    1050.0   \n",
       "RegistrationYear   354369.0    2004.234448     90.227958  1000.0    1999.0   \n",
       "Power              354369.0     110.094337    189.850405     0.0      69.0   \n",
       "Kilometer          354369.0  128211.172535  37905.341530  5000.0  125000.0   \n",
       "RegistrationMonth  354369.0       5.714645      3.726421     0.0       3.0   \n",
       "NumberOfPictures   354369.0       0.000000      0.000000     0.0       0.0   \n",
       "PostalCode         354369.0   50508.689087  25783.096248  1067.0   30165.0   \n",
       "\n",
       "                        50%       75%       max  \n",
       "Price                2700.0    6400.0   20000.0  \n",
       "RegistrationYear     2003.0    2008.0    9999.0  \n",
       "Power                 105.0     143.0   20000.0  \n",
       "Kilometer          150000.0  150000.0  150000.0  \n",
       "RegistrationMonth       6.0       9.0      12.0  \n",
       "NumberOfPictures        0.0       0.0       0.0  \n",
       "PostalCode          49413.0   71083.0   99998.0  "
      ]
     },
     "execution_count": 3,
     "metadata": {},
     "output_type": "execute_result"
    }
   ],
   "source": [
    "data.describe().T"
   ]
  },
  {
   "cell_type": "code",
   "execution_count": 4,
   "metadata": {
    "scrolled": true
   },
   "outputs": [
    {
     "name": "stdout",
     "output_type": "stream",
     "text": [
      "<class 'pandas.core.frame.DataFrame'>\n",
      "RangeIndex: 354369 entries, 0 to 354368\n",
      "Data columns (total 16 columns):\n",
      " #   Column             Non-Null Count   Dtype         \n",
      "---  ------             --------------   -----         \n",
      " 0   DateCrawled        354369 non-null  datetime64[ns]\n",
      " 1   Price              354369 non-null  int64         \n",
      " 2   VehicleType        316879 non-null  object        \n",
      " 3   RegistrationYear   354369 non-null  int64         \n",
      " 4   Gearbox            334536 non-null  object        \n",
      " 5   Power              354369 non-null  int64         \n",
      " 6   Model              334664 non-null  object        \n",
      " 7   Kilometer          354369 non-null  int64         \n",
      " 8   RegistrationMonth  354369 non-null  int64         \n",
      " 9   FuelType           321474 non-null  object        \n",
      " 10  Brand              354369 non-null  object        \n",
      " 11  Repaired           283215 non-null  object        \n",
      " 12  DateCreated        354369 non-null  object        \n",
      " 13  NumberOfPictures   354369 non-null  int64         \n",
      " 14  PostalCode         354369 non-null  int64         \n",
      " 15  LastSeen           354369 non-null  object        \n",
      "dtypes: datetime64[ns](1), int64(7), object(8)\n",
      "memory usage: 43.3+ MB\n"
     ]
    }
   ],
   "source": [
    "data.info()"
   ]
  },
  {
   "cell_type": "code",
   "execution_count": 5,
   "metadata": {
    "scrolled": true
   },
   "outputs": [
    {
     "data": {
      "text/plain": [
       "DateCrawled          datetime64[ns]\n",
       "Price                         int64\n",
       "VehicleType                  object\n",
       "RegistrationYear              int64\n",
       "Gearbox                      object\n",
       "Power                         int64\n",
       "Model                        object\n",
       "Kilometer                     int64\n",
       "RegistrationMonth             int64\n",
       "FuelType                     object\n",
       "Brand                        object\n",
       "Repaired                     object\n",
       "DateCreated          datetime64[ns]\n",
       "NumberOfPictures              int64\n",
       "PostalCode                    int64\n",
       "LastSeen             datetime64[ns]\n",
       "dtype: object"
      ]
     },
     "execution_count": 5,
     "metadata": {},
     "output_type": "execute_result"
    }
   ],
   "source": [
    "data[['DateCreated', 'LastSeen']] = data[['DateCreated', 'LastSeen']].astype('datetime64')\n",
    "data.dtypes"
   ]
  },
  {
   "cell_type": "code",
   "execution_count": 6,
   "metadata": {},
   "outputs": [
    {
     "data": {
      "text/plain": [
       "VehicleType      8\n",
       "Gearbox          2\n",
       "FuelType         7\n",
       "Brand           40\n",
       "Repaired         2\n",
       "Model          250\n",
       "dtype: int64"
      ]
     },
     "execution_count": 6,
     "metadata": {},
     "output_type": "execute_result"
    }
   ],
   "source": [
    "data[['VehicleType', 'Gearbox', 'FuelType', 'Brand', 'Repaired', 'Model']].nunique()"
   ]
  },
  {
   "cell_type": "code",
   "execution_count": 7,
   "metadata": {},
   "outputs": [
    {
     "data": {
      "text/html": [
       "<style  type=\"text/css\" >\n",
       "#T_a0567_row0_col0{\n",
       "            background-color:  #023858;\n",
       "            color:  #f1f1f1;\n",
       "        }#T_a0567_row1_col0{\n",
       "            background-color:  #045b8e;\n",
       "            color:  #f1f1f1;\n",
       "        }#T_a0567_row2_col0{\n",
       "            background-color:  #187cb6;\n",
       "            color:  #000000;\n",
       "        }#T_a0567_row3_col0{\n",
       "            background-color:  #c2cbe2;\n",
       "            color:  #000000;\n",
       "        }#T_a0567_row4_col0{\n",
       "            background-color:  #dddbec;\n",
       "            color:  #000000;\n",
       "        }#T_a0567_row5_col0{\n",
       "            background-color:  #e7e3f0;\n",
       "            color:  #000000;\n",
       "        }#T_a0567_row6_col0{\n",
       "            background-color:  #f0eaf4;\n",
       "            color:  #000000;\n",
       "        }#T_a0567_row7_col0{\n",
       "            background-color:  #fff7fb;\n",
       "            color:  #000000;\n",
       "        }</style><table id=\"T_a0567_\" ><thead>    <tr>        <th class=\"blank level0\" ></th>        <th class=\"col_heading level0 col0\" >VehicleType</th>    </tr></thead><tbody>\n",
       "                <tr>\n",
       "                        <th id=\"T_a0567_level0_row0\" class=\"row_heading level0 row0\" >sedan</th>\n",
       "                        <td id=\"T_a0567_row0_col0\" class=\"data row0 col0\" >28.861805</td>\n",
       "            </tr>\n",
       "            <tr>\n",
       "                        <th id=\"T_a0567_level0_row1\" class=\"row_heading level0 row1\" >small</th>\n",
       "                        <td id=\"T_a0567_row1_col0\" class=\"data row1 col0\" >25.192897</td>\n",
       "            </tr>\n",
       "            <tr>\n",
       "                        <th id=\"T_a0567_level0_row2\" class=\"row_heading level0 row2\" >wagon</th>\n",
       "                        <td id=\"T_a0567_row2_col0\" class=\"data row2 col0\" >20.564948</td>\n",
       "            </tr>\n",
       "            <tr>\n",
       "                        <th id=\"T_a0567_level0_row3\" class=\"row_heading level0 row3\" >bus</th>\n",
       "                        <td id=\"T_a0567_row3_col0\" class=\"data row3 col0\" >9.080753</td>\n",
       "            </tr>\n",
       "            <tr>\n",
       "                        <th id=\"T_a0567_level0_row4\" class=\"row_heading level0 row4\" >convertible</th>\n",
       "                        <td id=\"T_a0567_row4_col0\" class=\"data row4 col0\" >6.375620</td>\n",
       "            </tr>\n",
       "            <tr>\n",
       "                        <th id=\"T_a0567_level0_row5\" class=\"row_heading level0 row5\" >coupe</th>\n",
       "                        <td id=\"T_a0567_row5_col0\" class=\"data row5 col0\" >5.100685</td>\n",
       "            </tr>\n",
       "            <tr>\n",
       "                        <th id=\"T_a0567_level0_row6\" class=\"row_heading level0 row6\" >suv</th>\n",
       "                        <td id=\"T_a0567_row6_col0\" class=\"data row6 col0\" >3.785672</td>\n",
       "            </tr>\n",
       "            <tr>\n",
       "                        <th id=\"T_a0567_level0_row7\" class=\"row_heading level0 row7\" >other</th>\n",
       "                        <td id=\"T_a0567_row7_col0\" class=\"data row7 col0\" >1.037620</td>\n",
       "            </tr>\n",
       "    </tbody></table>"
      ],
      "text/plain": [
       "<pandas.io.formats.style.Styler at 0x7fb387345100>"
      ]
     },
     "metadata": {},
     "output_type": "display_data"
    },
    {
     "data": {
      "text/html": [
       "<style  type=\"text/css\" >\n",
       "#T_f4bdb_row0_col0{\n",
       "            background-color:  #023858;\n",
       "            color:  #f1f1f1;\n",
       "        }#T_f4bdb_row1_col0{\n",
       "            background-color:  #fff7fb;\n",
       "            color:  #000000;\n",
       "        }</style><table id=\"T_f4bdb_\" ><thead>    <tr>        <th class=\"blank level0\" ></th>        <th class=\"col_heading level0 col0\" >Gearbox</th>    </tr></thead><tbody>\n",
       "                <tr>\n",
       "                        <th id=\"T_f4bdb_level0_row0\" class=\"row_heading level0 row0\" >manual</th>\n",
       "                        <td id=\"T_f4bdb_row0_col0\" class=\"data row0 col0\" >80.185989</td>\n",
       "            </tr>\n",
       "            <tr>\n",
       "                        <th id=\"T_f4bdb_level0_row1\" class=\"row_heading level0 row1\" >auto</th>\n",
       "                        <td id=\"T_f4bdb_row1_col0\" class=\"data row1 col0\" >19.814011</td>\n",
       "            </tr>\n",
       "    </tbody></table>"
      ],
      "text/plain": [
       "<pandas.io.formats.style.Styler at 0x7fb41032b430>"
      ]
     },
     "metadata": {},
     "output_type": "display_data"
    },
    {
     "data": {
      "text/html": [
       "<style  type=\"text/css\" >\n",
       "#T_2bf61_row0_col0{\n",
       "            background-color:  #023858;\n",
       "            color:  #f1f1f1;\n",
       "        }#T_2bf61_row1_col0{\n",
       "            background-color:  #86b0d3;\n",
       "            color:  #000000;\n",
       "        }#T_2bf61_row2_col0{\n",
       "            background-color:  #fbf4f9;\n",
       "            color:  #000000;\n",
       "        }#T_2bf61_row3_col0,#T_2bf61_row4_col0,#T_2bf61_row5_col0,#T_2bf61_row6_col0{\n",
       "            background-color:  #fff7fb;\n",
       "            color:  #000000;\n",
       "        }</style><table id=\"T_2bf61_\" ><thead>    <tr>        <th class=\"blank level0\" ></th>        <th class=\"col_heading level0 col0\" >FuelType</th>    </tr></thead><tbody>\n",
       "                <tr>\n",
       "                        <th id=\"T_2bf61_level0_row0\" class=\"row_heading level0 row0\" >petrol</th>\n",
       "                        <td id=\"T_2bf61_row0_col0\" class=\"data row0 col0\" >67.299999</td>\n",
       "            </tr>\n",
       "            <tr>\n",
       "                        <th id=\"T_2bf61_level0_row1\" class=\"row_heading level0 row1\" >gasoline</th>\n",
       "                        <td id=\"T_2bf61_row1_col0\" class=\"data row1 col0\" >30.708549</td>\n",
       "            </tr>\n",
       "            <tr>\n",
       "                        <th id=\"T_2bf61_level0_row2\" class=\"row_heading level0 row2\" >lpg</th>\n",
       "                        <td id=\"T_2bf61_row2_col0\" class=\"data row2 col0\" >1.651767</td>\n",
       "            </tr>\n",
       "            <tr>\n",
       "                        <th id=\"T_2bf61_level0_row3\" class=\"row_heading level0 row3\" >cng</th>\n",
       "                        <td id=\"T_2bf61_row3_col0\" class=\"data row3 col0\" >0.175753</td>\n",
       "            </tr>\n",
       "            <tr>\n",
       "                        <th id=\"T_2bf61_level0_row4\" class=\"row_heading level0 row4\" >hybrid</th>\n",
       "                        <td id=\"T_2bf61_row4_col0\" class=\"data row4 col0\" >0.072479</td>\n",
       "            </tr>\n",
       "            <tr>\n",
       "                        <th id=\"T_2bf61_level0_row5\" class=\"row_heading level0 row5\" >other</th>\n",
       "                        <td id=\"T_2bf61_row5_col0\" class=\"data row5 col0\" >0.063458</td>\n",
       "            </tr>\n",
       "            <tr>\n",
       "                        <th id=\"T_2bf61_level0_row6\" class=\"row_heading level0 row6\" >electric</th>\n",
       "                        <td id=\"T_2bf61_row6_col0\" class=\"data row6 col0\" >0.027996</td>\n",
       "            </tr>\n",
       "    </tbody></table>"
      ],
      "text/plain": [
       "<pandas.io.formats.style.Styler at 0x7fb39002e340>"
      ]
     },
     "metadata": {},
     "output_type": "display_data"
    },
    {
     "data": {
      "text/html": [
       "<style  type=\"text/css\" >\n",
       "#T_32c1a_row0_col0{\n",
       "            background-color:  #023858;\n",
       "            color:  #f1f1f1;\n",
       "        }#T_32c1a_row1_col0{\n",
       "            background-color:  #6ba5cd;\n",
       "            color:  #000000;\n",
       "        }#T_32c1a_row2_col0{\n",
       "            background-color:  #7dacd1;\n",
       "            color:  #000000;\n",
       "        }#T_32c1a_row3_col0{\n",
       "            background-color:  #96b6d7;\n",
       "            color:  #000000;\n",
       "        }#T_32c1a_row4_col0{\n",
       "            background-color:  #a4bcda;\n",
       "            color:  #000000;\n",
       "        }#T_32c1a_row5_col0{\n",
       "            background-color:  #b7c5df;\n",
       "            color:  #000000;\n",
       "        }#T_32c1a_row6_col0{\n",
       "            background-color:  #d4d4e8;\n",
       "            color:  #000000;\n",
       "        }#T_32c1a_row7_col0{\n",
       "            background-color:  #e9e5f1;\n",
       "            color:  #000000;\n",
       "        }#T_32c1a_row8_col0{\n",
       "            background-color:  #ede7f2;\n",
       "            color:  #000000;\n",
       "        }#T_32c1a_row9_col0{\n",
       "            background-color:  #f2ecf5;\n",
       "            color:  #000000;\n",
       "        }#T_32c1a_row10_col0,#T_32c1a_row11_col0{\n",
       "            background-color:  #f5eef6;\n",
       "            color:  #000000;\n",
       "        }#T_32c1a_row12_col0,#T_32c1a_row13_col0{\n",
       "            background-color:  #f5eff6;\n",
       "            color:  #000000;\n",
       "        }#T_32c1a_row14_col0{\n",
       "            background-color:  #f6eff7;\n",
       "            color:  #000000;\n",
       "        }#T_32c1a_row15_col0{\n",
       "            background-color:  #f7f0f7;\n",
       "            color:  #000000;\n",
       "        }#T_32c1a_row16_col0{\n",
       "            background-color:  #f8f1f8;\n",
       "            color:  #000000;\n",
       "        }#T_32c1a_row17_col0{\n",
       "            background-color:  #f9f2f8;\n",
       "            color:  #000000;\n",
       "        }#T_32c1a_row18_col0,#T_32c1a_row19_col0,#T_32c1a_row20_col0{\n",
       "            background-color:  #faf2f8;\n",
       "            color:  #000000;\n",
       "        }#T_32c1a_row21_col0{\n",
       "            background-color:  #faf3f9;\n",
       "            color:  #000000;\n",
       "        }#T_32c1a_row22_col0{\n",
       "            background-color:  #fbf3f9;\n",
       "            color:  #000000;\n",
       "        }#T_32c1a_row23_col0,#T_32c1a_row24_col0{\n",
       "            background-color:  #fbf4f9;\n",
       "            color:  #000000;\n",
       "        }#T_32c1a_row25_col0{\n",
       "            background-color:  #fcf4fa;\n",
       "            color:  #000000;\n",
       "        }#T_32c1a_row26_col0{\n",
       "            background-color:  #fdf5fa;\n",
       "            color:  #000000;\n",
       "        }#T_32c1a_row27_col0{\n",
       "            background-color:  #fef6fa;\n",
       "            color:  #000000;\n",
       "        }#T_32c1a_row28_col0,#T_32c1a_row29_col0,#T_32c1a_row30_col0,#T_32c1a_row31_col0,#T_32c1a_row32_col0,#T_32c1a_row33_col0,#T_32c1a_row34_col0,#T_32c1a_row35_col0{\n",
       "            background-color:  #fef6fb;\n",
       "            color:  #000000;\n",
       "        }#T_32c1a_row36_col0,#T_32c1a_row37_col0,#T_32c1a_row38_col0,#T_32c1a_row39_col0{\n",
       "            background-color:  #fff7fb;\n",
       "            color:  #000000;\n",
       "        }</style><table id=\"T_32c1a_\" ><thead>    <tr>        <th class=\"blank level0\" ></th>        <th class=\"col_heading level0 col0\" >Brand</th>    </tr></thead><tbody>\n",
       "                <tr>\n",
       "                        <th id=\"T_32c1a_level0_row0\" class=\"row_heading level0 row0\" >volkswagen</th>\n",
       "                        <td id=\"T_32c1a_row0_col0\" class=\"data row0 col0\" >21.732431</td>\n",
       "            </tr>\n",
       "            <tr>\n",
       "                        <th id=\"T_32c1a_level0_row1\" class=\"row_heading level0 row1\" >opel</th>\n",
       "                        <td id=\"T_32c1a_row1_col0\" class=\"data row1 col0\" >11.268198</td>\n",
       "            </tr>\n",
       "            <tr>\n",
       "                        <th id=\"T_32c1a_level0_row2\" class=\"row_heading level0 row2\" >bmw</th>\n",
       "                        <td id=\"T_32c1a_row2_col0\" class=\"data row2 col0\" >10.416825</td>\n",
       "            </tr>\n",
       "            <tr>\n",
       "                        <th id=\"T_32c1a_level0_row3\" class=\"row_heading level0 row3\" >mercedes_benz</th>\n",
       "                        <td id=\"T_32c1a_row3_col0\" class=\"data row3 col0\" >9.043116</td>\n",
       "            </tr>\n",
       "            <tr>\n",
       "                        <th id=\"T_32c1a_level0_row4\" class=\"row_heading level0 row4\" >audi</th>\n",
       "                        <td id=\"T_32c1a_row4_col0\" class=\"data row4 col0\" >8.312240</td>\n",
       "            </tr>\n",
       "            <tr>\n",
       "                        <th id=\"T_32c1a_level0_row5\" class=\"row_heading level0 row5\" >ford</th>\n",
       "                        <td id=\"T_32c1a_row5_col0\" class=\"data row5 col0\" >7.105305</td>\n",
       "            </tr>\n",
       "            <tr>\n",
       "                        <th id=\"T_32c1a_level0_row6\" class=\"row_heading level0 row6\" >renault</th>\n",
       "                        <td id=\"T_32c1a_row6_col0\" class=\"data row6 col0\" >5.058851</td>\n",
       "            </tr>\n",
       "            <tr>\n",
       "                        <th id=\"T_32c1a_level0_row7\" class=\"row_heading level0 row7\" >peugeot</th>\n",
       "                        <td id=\"T_32c1a_row7_col0\" class=\"data row7 col0\" >3.103545</td>\n",
       "            </tr>\n",
       "            <tr>\n",
       "                        <th id=\"T_32c1a_level0_row8\" class=\"row_heading level0 row8\" >fiat</th>\n",
       "                        <td id=\"T_32c1a_row8_col0\" class=\"data row8 col0\" >2.721175</td>\n",
       "            </tr>\n",
       "            <tr>\n",
       "                        <th id=\"T_32c1a_level0_row9\" class=\"row_heading level0 row9\" >seat</th>\n",
       "                        <td id=\"T_32c1a_row9_col0\" class=\"data row9 col0\" >1.949098</td>\n",
       "            </tr>\n",
       "            <tr>\n",
       "                        <th id=\"T_32c1a_level0_row10\" class=\"row_heading level0 row10\" >mazda</th>\n",
       "                        <td id=\"T_32c1a_row10_col0\" class=\"data row10 col0\" >1.584507</td>\n",
       "            </tr>\n",
       "            <tr>\n",
       "                        <th id=\"T_32c1a_level0_row11\" class=\"row_heading level0 row11\" >skoda</th>\n",
       "                        <td id=\"T_32c1a_row11_col0\" class=\"data row11 col0\" >1.552054</td>\n",
       "            </tr>\n",
       "            <tr>\n",
       "                        <th id=\"T_32c1a_level0_row12\" class=\"row_heading level0 row12\" >smart</th>\n",
       "                        <td id=\"T_32c1a_row12_col0\" class=\"data row12 col0\" >1.480378</td>\n",
       "            </tr>\n",
       "            <tr>\n",
       "                        <th id=\"T_32c1a_level0_row13\" class=\"row_heading level0 row13\" >citroen</th>\n",
       "                        <td id=\"T_32c1a_row13_col0\" class=\"data row13 col0\" >1.452723</td>\n",
       "            </tr>\n",
       "            <tr>\n",
       "                        <th id=\"T_32c1a_level0_row14\" class=\"row_heading level0 row14\" >nissan</th>\n",
       "                        <td id=\"T_32c1a_row14_col0\" class=\"data row14 col0\" >1.394309</td>\n",
       "            </tr>\n",
       "            <tr>\n",
       "                        <th id=\"T_32c1a_level0_row15\" class=\"row_heading level0 row15\" >toyota</th>\n",
       "                        <td id=\"T_32c1a_row15_col0\" class=\"data row15 col0\" >1.299775</td>\n",
       "            </tr>\n",
       "            <tr>\n",
       "                        <th id=\"T_32c1a_level0_row16\" class=\"row_heading level0 row16\" >hyundai</th>\n",
       "                        <td id=\"T_32c1a_row16_col0\" class=\"data row16 col0\" >1.012222</td>\n",
       "            </tr>\n",
       "            <tr>\n",
       "                        <th id=\"T_32c1a_level0_row17\" class=\"row_heading level0 row17\" >sonstige_autos</th>\n",
       "                        <td id=\"T_32c1a_row17_col0\" class=\"data row17 col0\" >0.952115</td>\n",
       "            </tr>\n",
       "            <tr>\n",
       "                        <th id=\"T_32c1a_level0_row18\" class=\"row_heading level0 row18\" >volvo</th>\n",
       "                        <td id=\"T_32c1a_row18_col0\" class=\"data row18 col0\" >0.905835</td>\n",
       "            </tr>\n",
       "            <tr>\n",
       "                        <th id=\"T_32c1a_level0_row19\" class=\"row_heading level0 row19\" >mini</th>\n",
       "                        <td id=\"T_32c1a_row19_col0\" class=\"data row19 col0\" >0.903578</td>\n",
       "            </tr>\n",
       "            <tr>\n",
       "                        <th id=\"T_32c1a_level0_row20\" class=\"row_heading level0 row20\" >mitsubishi</th>\n",
       "                        <td id=\"T_32c1a_row20_col0\" class=\"data row20 col0\" >0.852783</td>\n",
       "            </tr>\n",
       "            <tr>\n",
       "                        <th id=\"T_32c1a_level0_row21\" class=\"row_heading level0 row21\" >honda</th>\n",
       "                        <td id=\"T_32c1a_row21_col0\" class=\"data row21 col0\" >0.794934</td>\n",
       "            </tr>\n",
       "            <tr>\n",
       "                        <th id=\"T_32c1a_level0_row22\" class=\"row_heading level0 row22\" >kia</th>\n",
       "                        <td id=\"T_32c1a_row22_col0\" class=\"data row22 col0\" >0.695603</td>\n",
       "            </tr>\n",
       "            <tr>\n",
       "                        <th id=\"T_32c1a_level0_row23\" class=\"row_heading level0 row23\" >suzuki</th>\n",
       "                        <td id=\"T_32c1a_row23_col0\" class=\"data row23 col0\" >0.655531</td>\n",
       "            </tr>\n",
       "            <tr>\n",
       "                        <th id=\"T_32c1a_level0_row24\" class=\"row_heading level0 row24\" >alfa_romeo</th>\n",
       "                        <td id=\"T_32c1a_row24_col0\" class=\"data row24 col0\" >0.652992</td>\n",
       "            </tr>\n",
       "            <tr>\n",
       "                        <th id=\"T_32c1a_level0_row25\" class=\"row_heading level0 row25\" >chevrolet</th>\n",
       "                        <td id=\"T_32c1a_row25_col0\" class=\"data row25 col0\" >0.494964</td>\n",
       "            </tr>\n",
       "            <tr>\n",
       "                        <th id=\"T_32c1a_level0_row26\" class=\"row_heading level0 row26\" >chrysler</th>\n",
       "                        <td id=\"T_32c1a_row26_col0\" class=\"data row26 col0\" >0.406074</td>\n",
       "            </tr>\n",
       "            <tr>\n",
       "                        <th id=\"T_32c1a_level0_row27\" class=\"row_heading level0 row27\" >dacia</th>\n",
       "                        <td id=\"T_32c1a_row27_col0\" class=\"data row27 col0\" >0.253973</td>\n",
       "            </tr>\n",
       "            <tr>\n",
       "                        <th id=\"T_32c1a_level0_row28\" class=\"row_heading level0 row28\" >daihatsu</th>\n",
       "                        <td id=\"T_32c1a_row28_col0\" class=\"data row28 col0\" >0.227447</td>\n",
       "            </tr>\n",
       "            <tr>\n",
       "                        <th id=\"T_32c1a_level0_row29\" class=\"row_heading level0 row29\" >subaru</th>\n",
       "                        <td id=\"T_32c1a_row29_col0\" class=\"data row29 col0\" >0.215030</td>\n",
       "            </tr>\n",
       "            <tr>\n",
       "                        <th id=\"T_32c1a_level0_row30\" class=\"row_heading level0 row30\" >porsche</th>\n",
       "                        <td id=\"T_32c1a_row30_col0\" class=\"data row30 col0\" >0.213901</td>\n",
       "            </tr>\n",
       "            <tr>\n",
       "                        <th id=\"T_32c1a_level0_row31\" class=\"row_heading level0 row31\" >jeep</th>\n",
       "                        <td id=\"T_32c1a_row31_col0\" class=\"data row31 col0\" >0.191044</td>\n",
       "            </tr>\n",
       "            <tr>\n",
       "                        <th id=\"T_32c1a_level0_row32\" class=\"row_heading level0 row32\" >trabant</th>\n",
       "                        <td id=\"T_32c1a_row32_col0\" class=\"data row32 col0\" >0.166211</td>\n",
       "            </tr>\n",
       "            <tr>\n",
       "                        <th id=\"T_32c1a_level0_row33\" class=\"row_heading level0 row33\" >land_rover</th>\n",
       "                        <td id=\"T_32c1a_row33_col0\" class=\"data row33 col0\" >0.153794</td>\n",
       "            </tr>\n",
       "            <tr>\n",
       "                        <th id=\"T_32c1a_level0_row34\" class=\"row_heading level0 row34\" >daewoo</th>\n",
       "                        <td id=\"T_32c1a_row34_col0\" class=\"data row34 col0\" >0.152948</td>\n",
       "            </tr>\n",
       "            <tr>\n",
       "                        <th id=\"T_32c1a_level0_row35\" class=\"row_heading level0 row35\" >saab</th>\n",
       "                        <td id=\"T_32c1a_row35_col0\" class=\"data row35 col0\" >0.148433</td>\n",
       "            </tr>\n",
       "            <tr>\n",
       "                        <th id=\"T_32c1a_level0_row36\" class=\"row_heading level0 row36\" >jaguar</th>\n",
       "                        <td id=\"T_32c1a_row36_col0\" class=\"data row36 col0\" >0.142507</td>\n",
       "            </tr>\n",
       "            <tr>\n",
       "                        <th id=\"T_32c1a_level0_row37\" class=\"row_heading level0 row37\" >rover</th>\n",
       "                        <td id=\"T_32c1a_row37_col0\" class=\"data row37 col0\" >0.137145</td>\n",
       "            </tr>\n",
       "            <tr>\n",
       "                        <th id=\"T_32c1a_level0_row38\" class=\"row_heading level0 row38\" >lancia</th>\n",
       "                        <td id=\"T_32c1a_row38_col0\" class=\"data row38 col0\" >0.132912</td>\n",
       "            </tr>\n",
       "            <tr>\n",
       "                        <th id=\"T_32c1a_level0_row39\" class=\"row_heading level0 row39\" >lada</th>\n",
       "                        <td id=\"T_32c1a_row39_col0\" class=\"data row39 col0\" >0.063493</td>\n",
       "            </tr>\n",
       "    </tbody></table>"
      ],
      "text/plain": [
       "<pandas.io.formats.style.Styler at 0x7fb39002eeb0>"
      ]
     },
     "metadata": {},
     "output_type": "display_data"
    },
    {
     "data": {
      "text/html": [
       "<style  type=\"text/css\" >\n",
       "#T_32ba3_row0_col0{\n",
       "            background-color:  #023858;\n",
       "            color:  #f1f1f1;\n",
       "        }#T_32ba3_row1_col0{\n",
       "            background-color:  #fff7fb;\n",
       "            color:  #000000;\n",
       "        }</style><table id=\"T_32ba3_\" ><thead>    <tr>        <th class=\"blank level0\" ></th>        <th class=\"col_heading level0 col0\" >Repaired</th>    </tr></thead><tbody>\n",
       "                <tr>\n",
       "                        <th id=\"T_32ba3_level0_row0\" class=\"row_heading level0 row0\" >no</th>\n",
       "                        <td id=\"T_32ba3_row0_col0\" class=\"data row0 col0\" >87.269742</td>\n",
       "            </tr>\n",
       "            <tr>\n",
       "                        <th id=\"T_32ba3_level0_row1\" class=\"row_heading level0 row1\" >yes</th>\n",
       "                        <td id=\"T_32ba3_row1_col0\" class=\"data row1 col0\" >12.730258</td>\n",
       "            </tr>\n",
       "    </tbody></table>"
      ],
      "text/plain": [
       "<pandas.io.formats.style.Styler at 0x7fb39002ef40>"
      ]
     },
     "metadata": {},
     "output_type": "display_data"
    },
    {
     "data": {
      "text/html": [
       "<style  type=\"text/css\" >\n",
       "#T_35f7e_row0_col0{\n",
       "            background-color:  #023858;\n",
       "            color:  #f1f1f1;\n",
       "        }#T_35f7e_row1_col0{\n",
       "            background-color:  #046198;\n",
       "            color:  #f1f1f1;\n",
       "        }#T_35f7e_row2_col0{\n",
       "            background-color:  #2182b9;\n",
       "            color:  #000000;\n",
       "        }#T_35f7e_row3_col0{\n",
       "            background-color:  #89b1d4;\n",
       "            color:  #000000;\n",
       "        }#T_35f7e_row4_col0{\n",
       "            background-color:  #8fb4d6;\n",
       "            color:  #000000;\n",
       "        }#T_35f7e_row5_col0{\n",
       "            background-color:  #a8bedc;\n",
       "            color:  #000000;\n",
       "        }#T_35f7e_row6_col0{\n",
       "            background-color:  #b0c2de;\n",
       "            color:  #000000;\n",
       "        }#T_35f7e_row7_col0{\n",
       "            background-color:  #b3c3de;\n",
       "            color:  #000000;\n",
       "        }#T_35f7e_row8_col0{\n",
       "            background-color:  #c5cce3;\n",
       "            color:  #000000;\n",
       "        }#T_35f7e_row9_col0{\n",
       "            background-color:  #cacee5;\n",
       "            color:  #000000;\n",
       "        }#T_35f7e_row10_col0{\n",
       "            background-color:  #d4d4e8;\n",
       "            color:  #000000;\n",
       "        }#T_35f7e_row11_col0{\n",
       "            background-color:  #d9d8ea;\n",
       "            color:  #000000;\n",
       "        }#T_35f7e_row12_col0{\n",
       "            background-color:  #dbdaeb;\n",
       "            color:  #000000;\n",
       "        }#T_35f7e_row13_col0{\n",
       "            background-color:  #dcdaeb;\n",
       "            color:  #000000;\n",
       "        }#T_35f7e_row14_col0{\n",
       "            background-color:  #dedcec;\n",
       "            color:  #000000;\n",
       "        }#T_35f7e_row15_col0{\n",
       "            background-color:  #e2dfee;\n",
       "            color:  #000000;\n",
       "        }#T_35f7e_row16_col0,#T_35f7e_row17_col0{\n",
       "            background-color:  #e3e0ee;\n",
       "            color:  #000000;\n",
       "        }#T_35f7e_row18_col0,#T_35f7e_row19_col0{\n",
       "            background-color:  #e7e3f0;\n",
       "            color:  #000000;\n",
       "        }#T_35f7e_row20_col0{\n",
       "            background-color:  #e8e4f0;\n",
       "            color:  #000000;\n",
       "        }#T_35f7e_row21_col0,#T_35f7e_row22_col0{\n",
       "            background-color:  #ede7f2;\n",
       "            color:  #000000;\n",
       "        }#T_35f7e_row23_col0,#T_35f7e_row24_col0,#T_35f7e_row25_col0{\n",
       "            background-color:  #ede8f3;\n",
       "            color:  #000000;\n",
       "        }#T_35f7e_row26_col0{\n",
       "            background-color:  #eee8f3;\n",
       "            color:  #000000;\n",
       "        }#T_35f7e_row27_col0,#T_35f7e_row28_col0{\n",
       "            background-color:  #f0eaf4;\n",
       "            color:  #000000;\n",
       "        }#T_35f7e_row29_col0,#T_35f7e_row30_col0{\n",
       "            background-color:  #f1ebf5;\n",
       "            color:  #000000;\n",
       "        }#T_35f7e_row31_col0{\n",
       "            background-color:  #f2ecf5;\n",
       "            color:  #000000;\n",
       "        }#T_35f7e_row32_col0,#T_35f7e_row33_col0{\n",
       "            background-color:  #f4eef6;\n",
       "            color:  #000000;\n",
       "        }#T_35f7e_row34_col0{\n",
       "            background-color:  #f5eef6;\n",
       "            color:  #000000;\n",
       "        }#T_35f7e_row35_col0{\n",
       "            background-color:  #f5eff6;\n",
       "            color:  #000000;\n",
       "        }#T_35f7e_row36_col0{\n",
       "            background-color:  #f6eff7;\n",
       "            color:  #000000;\n",
       "        }#T_35f7e_row37_col0,#T_35f7e_row38_col0,#T_35f7e_row39_col0{\n",
       "            background-color:  #f7f0f7;\n",
       "            color:  #000000;\n",
       "        }#T_35f7e_row40_col0,#T_35f7e_row41_col0,#T_35f7e_row42_col0,#T_35f7e_row43_col0,#T_35f7e_row44_col0,#T_35f7e_row45_col0,#T_35f7e_row46_col0,#T_35f7e_row47_col0{\n",
       "            background-color:  #f8f1f8;\n",
       "            color:  #000000;\n",
       "        }#T_35f7e_row48_col0,#T_35f7e_row49_col0,#T_35f7e_row50_col0{\n",
       "            background-color:  #f9f2f8;\n",
       "            color:  #000000;\n",
       "        }#T_35f7e_row51_col0,#T_35f7e_row52_col0,#T_35f7e_row53_col0{\n",
       "            background-color:  #faf2f8;\n",
       "            color:  #000000;\n",
       "        }#T_35f7e_row54_col0,#T_35f7e_row55_col0,#T_35f7e_row56_col0,#T_35f7e_row57_col0,#T_35f7e_row58_col0{\n",
       "            background-color:  #faf3f9;\n",
       "            color:  #000000;\n",
       "        }#T_35f7e_row59_col0,#T_35f7e_row60_col0,#T_35f7e_row61_col0,#T_35f7e_row62_col0,#T_35f7e_row63_col0,#T_35f7e_row64_col0,#T_35f7e_row65_col0,#T_35f7e_row66_col0,#T_35f7e_row67_col0,#T_35f7e_row68_col0{\n",
       "            background-color:  #fbf3f9;\n",
       "            color:  #000000;\n",
       "        }#T_35f7e_row69_col0,#T_35f7e_row70_col0,#T_35f7e_row71_col0,#T_35f7e_row72_col0,#T_35f7e_row73_col0,#T_35f7e_row74_col0,#T_35f7e_row75_col0{\n",
       "            background-color:  #fbf4f9;\n",
       "            color:  #000000;\n",
       "        }#T_35f7e_row76_col0,#T_35f7e_row77_col0,#T_35f7e_row78_col0,#T_35f7e_row79_col0,#T_35f7e_row80_col0,#T_35f7e_row81_col0,#T_35f7e_row82_col0,#T_35f7e_row83_col0,#T_35f7e_row84_col0,#T_35f7e_row85_col0,#T_35f7e_row86_col0,#T_35f7e_row87_col0,#T_35f7e_row88_col0,#T_35f7e_row89_col0,#T_35f7e_row90_col0,#T_35f7e_row91_col0{\n",
       "            background-color:  #fcf4fa;\n",
       "            color:  #000000;\n",
       "        }#T_35f7e_row92_col0,#T_35f7e_row93_col0,#T_35f7e_row94_col0,#T_35f7e_row95_col0,#T_35f7e_row96_col0,#T_35f7e_row97_col0,#T_35f7e_row98_col0,#T_35f7e_row99_col0,#T_35f7e_row100_col0,#T_35f7e_row101_col0,#T_35f7e_row102_col0,#T_35f7e_row103_col0,#T_35f7e_row104_col0,#T_35f7e_row105_col0,#T_35f7e_row106_col0,#T_35f7e_row107_col0,#T_35f7e_row108_col0,#T_35f7e_row109_col0,#T_35f7e_row110_col0,#T_35f7e_row111_col0,#T_35f7e_row112_col0,#T_35f7e_row113_col0,#T_35f7e_row114_col0,#T_35f7e_row115_col0,#T_35f7e_row116_col0,#T_35f7e_row117_col0,#T_35f7e_row118_col0,#T_35f7e_row119_col0,#T_35f7e_row120_col0,#T_35f7e_row121_col0,#T_35f7e_row122_col0,#T_35f7e_row123_col0,#T_35f7e_row124_col0,#T_35f7e_row125_col0,#T_35f7e_row126_col0,#T_35f7e_row127_col0,#T_35f7e_row128_col0,#T_35f7e_row129_col0,#T_35f7e_row130_col0,#T_35f7e_row131_col0,#T_35f7e_row132_col0{\n",
       "            background-color:  #fdf5fa;\n",
       "            color:  #000000;\n",
       "        }#T_35f7e_row133_col0,#T_35f7e_row134_col0,#T_35f7e_row135_col0,#T_35f7e_row136_col0,#T_35f7e_row137_col0,#T_35f7e_row138_col0,#T_35f7e_row139_col0,#T_35f7e_row140_col0,#T_35f7e_row141_col0,#T_35f7e_row142_col0,#T_35f7e_row143_col0,#T_35f7e_row144_col0,#T_35f7e_row145_col0,#T_35f7e_row146_col0,#T_35f7e_row147_col0,#T_35f7e_row148_col0,#T_35f7e_row149_col0,#T_35f7e_row150_col0,#T_35f7e_row151_col0,#T_35f7e_row152_col0,#T_35f7e_row153_col0,#T_35f7e_row154_col0,#T_35f7e_row155_col0,#T_35f7e_row156_col0,#T_35f7e_row157_col0,#T_35f7e_row158_col0{\n",
       "            background-color:  #fef6fa;\n",
       "            color:  #000000;\n",
       "        }#T_35f7e_row159_col0,#T_35f7e_row160_col0,#T_35f7e_row161_col0,#T_35f7e_row162_col0,#T_35f7e_row163_col0,#T_35f7e_row164_col0,#T_35f7e_row165_col0,#T_35f7e_row166_col0,#T_35f7e_row167_col0,#T_35f7e_row168_col0,#T_35f7e_row169_col0,#T_35f7e_row170_col0,#T_35f7e_row171_col0,#T_35f7e_row172_col0,#T_35f7e_row173_col0,#T_35f7e_row174_col0,#T_35f7e_row175_col0,#T_35f7e_row176_col0,#T_35f7e_row177_col0,#T_35f7e_row178_col0,#T_35f7e_row179_col0,#T_35f7e_row180_col0,#T_35f7e_row181_col0,#T_35f7e_row182_col0,#T_35f7e_row183_col0,#T_35f7e_row184_col0,#T_35f7e_row185_col0,#T_35f7e_row186_col0,#T_35f7e_row187_col0,#T_35f7e_row188_col0,#T_35f7e_row189_col0,#T_35f7e_row190_col0,#T_35f7e_row191_col0,#T_35f7e_row192_col0,#T_35f7e_row193_col0,#T_35f7e_row194_col0,#T_35f7e_row195_col0,#T_35f7e_row196_col0,#T_35f7e_row197_col0,#T_35f7e_row198_col0,#T_35f7e_row199_col0,#T_35f7e_row200_col0{\n",
       "            background-color:  #fef6fb;\n",
       "            color:  #000000;\n",
       "        }#T_35f7e_row201_col0,#T_35f7e_row202_col0,#T_35f7e_row203_col0,#T_35f7e_row204_col0,#T_35f7e_row205_col0,#T_35f7e_row206_col0,#T_35f7e_row207_col0,#T_35f7e_row208_col0,#T_35f7e_row209_col0,#T_35f7e_row210_col0,#T_35f7e_row211_col0,#T_35f7e_row212_col0,#T_35f7e_row213_col0,#T_35f7e_row214_col0,#T_35f7e_row215_col0,#T_35f7e_row216_col0,#T_35f7e_row217_col0,#T_35f7e_row218_col0,#T_35f7e_row219_col0,#T_35f7e_row220_col0,#T_35f7e_row221_col0,#T_35f7e_row222_col0,#T_35f7e_row223_col0,#T_35f7e_row224_col0,#T_35f7e_row225_col0,#T_35f7e_row226_col0,#T_35f7e_row227_col0,#T_35f7e_row228_col0,#T_35f7e_row229_col0,#T_35f7e_row230_col0,#T_35f7e_row231_col0,#T_35f7e_row232_col0,#T_35f7e_row233_col0,#T_35f7e_row234_col0,#T_35f7e_row235_col0,#T_35f7e_row236_col0,#T_35f7e_row237_col0,#T_35f7e_row238_col0,#T_35f7e_row239_col0,#T_35f7e_row240_col0,#T_35f7e_row241_col0,#T_35f7e_row242_col0,#T_35f7e_row243_col0,#T_35f7e_row244_col0,#T_35f7e_row245_col0,#T_35f7e_row246_col0,#T_35f7e_row247_col0,#T_35f7e_row248_col0,#T_35f7e_row249_col0{\n",
       "            background-color:  #fff7fb;\n",
       "            color:  #000000;\n",
       "        }</style><table id=\"T_35f7e_\" ><thead>    <tr>        <th class=\"blank level0\" ></th>        <th class=\"col_heading level0 col0\" >Model</th>    </tr></thead><tbody>\n",
       "                <tr>\n",
       "                        <th id=\"T_35f7e_level0_row0\" class=\"row_heading level0 row0\" >golf</th>\n",
       "                        <td id=\"T_35f7e_row0_col0\" class=\"data row0 col0\" >8.734731</td>\n",
       "            </tr>\n",
       "            <tr>\n",
       "                        <th id=\"T_35f7e_level0_row1\" class=\"row_heading level0 row1\" >other</th>\n",
       "                        <td id=\"T_35f7e_row1_col0\" class=\"data row1 col0\" >7.297170</td>\n",
       "            </tr>\n",
       "            <tr>\n",
       "                        <th id=\"T_35f7e_level0_row2\" class=\"row_heading level0 row2\" >3er</th>\n",
       "                        <td id=\"T_35f7e_row2_col0\" class=\"data row2 col0\" >5.904728</td>\n",
       "            </tr>\n",
       "            <tr>\n",
       "                        <th id=\"T_35f7e_level0_row3\" class=\"row_heading level0 row3\" >polo</th>\n",
       "                        <td id=\"T_35f7e_row3_col0\" class=\"data row3 col0\" >3.904214</td>\n",
       "            </tr>\n",
       "            <tr>\n",
       "                        <th id=\"T_35f7e_level0_row4\" class=\"row_heading level0 row4\" >corsa</th>\n",
       "                        <td id=\"T_35f7e_row4_col0\" class=\"data row4 col0\" >3.756006</td>\n",
       "            </tr>\n",
       "            <tr>\n",
       "                        <th id=\"T_35f7e_level0_row5\" class=\"row_heading level0 row5\" >astra</th>\n",
       "                        <td id=\"T_35f7e_row5_col0\" class=\"data row5 col0\" >3.229807</td>\n",
       "            </tr>\n",
       "            <tr>\n",
       "                        <th id=\"T_35f7e_level0_row6\" class=\"row_heading level0 row6\" >passat</th>\n",
       "                        <td id=\"T_35f7e_row6_col0\" class=\"data row6 col0\" >3.031697</td>\n",
       "            </tr>\n",
       "            <tr>\n",
       "                        <th id=\"T_35f7e_level0_row7\" class=\"row_heading level0 row7\" >a4</th>\n",
       "                        <td id=\"T_35f7e_row7_col0\" class=\"data row7 col0\" >2.958191</td>\n",
       "            </tr>\n",
       "            <tr>\n",
       "                        <th id=\"T_35f7e_level0_row8\" class=\"row_heading level0 row8\" >c_klasse</th>\n",
       "                        <td id=\"T_35f7e_row8_col0\" class=\"data row8 col0\" >2.483685</td>\n",
       "            </tr>\n",
       "            <tr>\n",
       "                        <th id=\"T_35f7e_level0_row9\" class=\"row_heading level0 row9\" >5er</th>\n",
       "                        <td id=\"T_35f7e_row9_col0\" class=\"data row9 col0\" >2.351015</td>\n",
       "            </tr>\n",
       "            <tr>\n",
       "                        <th id=\"T_35f7e_level0_row10\" class=\"row_heading level0 row10\" >e_klasse</th>\n",
       "                        <td id=\"T_35f7e_row10_col0\" class=\"data row10 col0\" >2.027407</td>\n",
       "            </tr>\n",
       "            <tr>\n",
       "                        <th id=\"T_35f7e_level0_row11\" class=\"row_heading level0 row11\" >a3</th>\n",
       "                        <td id=\"T_35f7e_row11_col0\" class=\"data row11 col0\" >1.829297</td>\n",
       "            </tr>\n",
       "            <tr>\n",
       "                        <th id=\"T_35f7e_level0_row12\" class=\"row_heading level0 row12\" >focus</th>\n",
       "                        <td id=\"T_35f7e_row12_col0\" class=\"data row12 col0\" >1.755193</td>\n",
       "            </tr>\n",
       "            <tr>\n",
       "                        <th id=\"T_35f7e_level0_row13\" class=\"row_heading level0 row13\" >fiesta</th>\n",
       "                        <td id=\"T_35f7e_row13_col0\" class=\"data row13 col0\" >1.725313</td>\n",
       "            </tr>\n",
       "            <tr>\n",
       "                        <th id=\"T_35f7e_level0_row14\" class=\"row_heading level0 row14\" >a6</th>\n",
       "                        <td id=\"T_35f7e_row14_col0\" class=\"data row14 col0\" >1.655690</td>\n",
       "            </tr>\n",
       "            <tr>\n",
       "                        <th id=\"T_35f7e_level0_row15\" class=\"row_heading level0 row15\" >twingo</th>\n",
       "                        <td id=\"T_35f7e_row15_col0\" class=\"data row15 col0\" >1.479992</td>\n",
       "            </tr>\n",
       "            <tr>\n",
       "                        <th id=\"T_35f7e_level0_row16\" class=\"row_heading level0 row16\" >transporter</th>\n",
       "                        <td id=\"T_35f7e_row16_col0\" class=\"data row16 col0\" >1.440848</td>\n",
       "            </tr>\n",
       "            <tr>\n",
       "                        <th id=\"T_35f7e_level0_row17\" class=\"row_heading level0 row17\" >2_reihe</th>\n",
       "                        <td id=\"T_35f7e_row17_col0\" class=\"data row17 col0\" >1.439055</td>\n",
       "            </tr>\n",
       "            <tr>\n",
       "                        <th id=\"T_35f7e_level0_row18\" class=\"row_heading level0 row18\" >fortwo</th>\n",
       "                        <td id=\"T_35f7e_row18_col0\" class=\"data row18 col0\" >1.295927</td>\n",
       "            </tr>\n",
       "            <tr>\n",
       "                        <th id=\"T_35f7e_level0_row19\" class=\"row_heading level0 row19\" >vectra</th>\n",
       "                        <td id=\"T_35f7e_row19_col0\" class=\"data row19 col0\" >1.271126</td>\n",
       "            </tr>\n",
       "            <tr>\n",
       "                        <th id=\"T_35f7e_level0_row20\" class=\"row_heading level0 row20\" >a_klasse</th>\n",
       "                        <td id=\"T_35f7e_row20_col0\" class=\"data row20 col0\" >1.252898</td>\n",
       "            </tr>\n",
       "            <tr>\n",
       "                        <th id=\"T_35f7e_level0_row21\" class=\"row_heading level0 row21\" >mondeo</th>\n",
       "                        <td id=\"T_35f7e_row21_col0\" class=\"data row21 col0\" >1.076005</td>\n",
       "            </tr>\n",
       "            <tr>\n",
       "                        <th id=\"T_35f7e_level0_row22\" class=\"row_heading level0 row22\" >clio</th>\n",
       "                        <td id=\"T_35f7e_row22_col0\" class=\"data row22 col0\" >1.059570</td>\n",
       "            </tr>\n",
       "            <tr>\n",
       "                        <th id=\"T_35f7e_level0_row23\" class=\"row_heading level0 row23\" >1er</th>\n",
       "                        <td id=\"T_35f7e_row23_col0\" class=\"data row23 col0\" >1.050008</td>\n",
       "            </tr>\n",
       "            <tr>\n",
       "                        <th id=\"T_35f7e_level0_row24\" class=\"row_heading level0 row24\" >3_reihe</th>\n",
       "                        <td id=\"T_35f7e_row24_col0\" class=\"data row24 col0\" >1.043733</td>\n",
       "            </tr>\n",
       "            <tr>\n",
       "                        <th id=\"T_35f7e_level0_row25\" class=\"row_heading level0 row25\" >touran</th>\n",
       "                        <td id=\"T_35f7e_row25_col0\" class=\"data row25 col0\" >1.036861</td>\n",
       "            </tr>\n",
       "            <tr>\n",
       "                        <th id=\"T_35f7e_level0_row26\" class=\"row_heading level0 row26\" >punto</th>\n",
       "                        <td id=\"T_35f7e_row26_col0\" class=\"data row26 col0\" >1.000108</td>\n",
       "            </tr>\n",
       "            <tr>\n",
       "                        <th id=\"T_35f7e_level0_row27\" class=\"row_heading level0 row27\" >zafira</th>\n",
       "                        <td id=\"T_35f7e_row27_col0\" class=\"data row27 col0\" >0.909569</td>\n",
       "            </tr>\n",
       "            <tr>\n",
       "                        <th id=\"T_35f7e_level0_row28\" class=\"row_heading level0 row28\" >megane</th>\n",
       "                        <td id=\"T_35f7e_row28_col0\" class=\"data row28 col0\" >0.869529</td>\n",
       "            </tr>\n",
       "            <tr>\n",
       "                        <th id=\"T_35f7e_level0_row29\" class=\"row_heading level0 row29\" >ibiza</th>\n",
       "                        <td id=\"T_35f7e_row29_col0\" class=\"data row29 col0\" >0.807377</td>\n",
       "            </tr>\n",
       "            <tr>\n",
       "                        <th id=\"T_35f7e_level0_row30\" class=\"row_heading level0 row30\" >ka</th>\n",
       "                        <td id=\"T_35f7e_row30_col0\" class=\"data row30 col0\" >0.807377</td>\n",
       "            </tr>\n",
       "            <tr>\n",
       "                        <th id=\"T_35f7e_level0_row31\" class=\"row_heading level0 row31\" >lupo</th>\n",
       "                        <td id=\"T_35f7e_row31_col0\" class=\"data row31 col0\" >0.775106</td>\n",
       "            </tr>\n",
       "            <tr>\n",
       "                        <th id=\"T_35f7e_level0_row32\" class=\"row_heading level0 row32\" >octavia</th>\n",
       "                        <td id=\"T_35f7e_row32_col0\" class=\"data row32 col0\" >0.629885</td>\n",
       "            </tr>\n",
       "            <tr>\n",
       "                        <th id=\"T_35f7e_level0_row33\" class=\"row_heading level0 row33\" >fabia</th>\n",
       "                        <td id=\"T_35f7e_row33_col0\" class=\"data row33 col0\" >0.621519</td>\n",
       "            </tr>\n",
       "            <tr>\n",
       "                        <th id=\"T_35f7e_level0_row34\" class=\"row_heading level0 row34\" >cooper</th>\n",
       "                        <td id=\"T_35f7e_row34_col0\" class=\"data row34 col0\" >0.582674</td>\n",
       "            </tr>\n",
       "            <tr>\n",
       "                        <th id=\"T_35f7e_level0_row35\" class=\"row_heading level0 row35\" >clk</th>\n",
       "                        <td id=\"T_35f7e_row35_col0\" class=\"data row35 col0\" >0.546817</td>\n",
       "            </tr>\n",
       "            <tr>\n",
       "                        <th id=\"T_35f7e_level0_row36\" class=\"row_heading level0 row36\" >micra</th>\n",
       "                        <td id=\"T_35f7e_row36_col0\" class=\"data row36 col0\" >0.525303</td>\n",
       "            </tr>\n",
       "            <tr>\n",
       "                        <th id=\"T_35f7e_level0_row37\" class=\"row_heading level0 row37\" >80</th>\n",
       "                        <td id=\"T_35f7e_row37_col0\" class=\"data row37 col0\" >0.479287</td>\n",
       "            </tr>\n",
       "            <tr>\n",
       "                        <th id=\"T_35f7e_level0_row38\" class=\"row_heading level0 row38\" >caddy</th>\n",
       "                        <td id=\"T_35f7e_row38_col0\" class=\"data row38 col0\" >0.476597</td>\n",
       "            </tr>\n",
       "            <tr>\n",
       "                        <th id=\"T_35f7e_level0_row39\" class=\"row_heading level0 row39\" >x_reihe</th>\n",
       "                        <td id=\"T_35f7e_row39_col0\" class=\"data row39 col0\" >0.474805</td>\n",
       "            </tr>\n",
       "            <tr>\n",
       "                        <th id=\"T_35f7e_level0_row40\" class=\"row_heading level0 row40\" >sharan</th>\n",
       "                        <td id=\"T_35f7e_row40_col0\" class=\"data row40 col0\" >0.443131</td>\n",
       "            </tr>\n",
       "            <tr>\n",
       "                        <th id=\"T_35f7e_level0_row41\" class=\"row_heading level0 row41\" >scenic</th>\n",
       "                        <td id=\"T_35f7e_row41_col0\" class=\"data row41 col0\" >0.432075</td>\n",
       "            </tr>\n",
       "            <tr>\n",
       "                        <th id=\"T_35f7e_level0_row42\" class=\"row_heading level0 row42\" >omega</th>\n",
       "                        <td id=\"T_35f7e_row42_col0\" class=\"data row42 col0\" >0.423111</td>\n",
       "            </tr>\n",
       "            <tr>\n",
       "                        <th id=\"T_35f7e_level0_row43\" class=\"row_heading level0 row43\" >laguna</th>\n",
       "                        <td id=\"T_35f7e_row43_col0\" class=\"data row43 col0\" >0.407573</td>\n",
       "            </tr>\n",
       "            <tr>\n",
       "                        <th id=\"T_35f7e_level0_row44\" class=\"row_heading level0 row44\" >civic</th>\n",
       "                        <td id=\"T_35f7e_row44_col0\" class=\"data row44 col0\" >0.402493</td>\n",
       "            </tr>\n",
       "            <tr>\n",
       "                        <th id=\"T_35f7e_level0_row45\" class=\"row_heading level0 row45\" >1_reihe</th>\n",
       "                        <td id=\"T_35f7e_row45_col0\" class=\"data row45 col0\" >0.390242</td>\n",
       "            </tr>\n",
       "            <tr>\n",
       "                        <th id=\"T_35f7e_level0_row46\" class=\"row_heading level0 row46\" >leon</th>\n",
       "                        <td id=\"T_35f7e_row46_col0\" class=\"data row46 col0\" >0.389645</td>\n",
       "            </tr>\n",
       "            <tr>\n",
       "                        <th id=\"T_35f7e_level0_row47\" class=\"row_heading level0 row47\" >6_reihe</th>\n",
       "                        <td id=\"T_35f7e_row47_col0\" class=\"data row47 col0\" >0.381876</td>\n",
       "            </tr>\n",
       "            <tr>\n",
       "                        <th id=\"T_35f7e_level0_row48\" class=\"row_heading level0 row48\" >i_reihe</th>\n",
       "                        <td id=\"T_35f7e_row48_col0\" class=\"data row48 col0\" >0.366338</td>\n",
       "            </tr>\n",
       "            <tr>\n",
       "                        <th id=\"T_35f7e_level0_row49\" class=\"row_heading level0 row49\" >slk</th>\n",
       "                        <td id=\"T_35f7e_row49_col0\" class=\"data row49 col0\" >0.365441</td>\n",
       "            </tr>\n",
       "            <tr>\n",
       "                        <th id=\"T_35f7e_level0_row50\" class=\"row_heading level0 row50\" >galaxy</th>\n",
       "                        <td id=\"T_35f7e_row50_col0\" class=\"data row50 col0\" >0.345421</td>\n",
       "            </tr>\n",
       "            <tr>\n",
       "                        <th id=\"T_35f7e_level0_row51\" class=\"row_heading level0 row51\" >tt</th>\n",
       "                        <td id=\"T_35f7e_row51_col0\" class=\"data row51 col0\" >0.321517</td>\n",
       "            </tr>\n",
       "            <tr>\n",
       "                        <th id=\"T_35f7e_level0_row52\" class=\"row_heading level0 row52\" >meriva</th>\n",
       "                        <td id=\"T_35f7e_row52_col0\" class=\"data row52 col0\" >0.314345</td>\n",
       "            </tr>\n",
       "            <tr>\n",
       "                        <th id=\"T_35f7e_level0_row53\" class=\"row_heading level0 row53\" >yaris</th>\n",
       "                        <td id=\"T_35f7e_row53_col0\" class=\"data row53 col0\" >0.308668</td>\n",
       "            </tr>\n",
       "            <tr>\n",
       "                        <th id=\"T_35f7e_level0_row54\" class=\"row_heading level0 row54\" >7er</th>\n",
       "                        <td id=\"T_35f7e_row54_col0\" class=\"data row54 col0\" >0.303887</td>\n",
       "            </tr>\n",
       "            <tr>\n",
       "                        <th id=\"T_35f7e_level0_row55\" class=\"row_heading level0 row55\" >mx_reihe</th>\n",
       "                        <td id=\"T_35f7e_row55_col0\" class=\"data row55 col0\" >0.302990</td>\n",
       "            </tr>\n",
       "            <tr>\n",
       "                        <th id=\"T_35f7e_level0_row56\" class=\"row_heading level0 row56\" >kangoo</th>\n",
       "                        <td id=\"T_35f7e_row56_col0\" class=\"data row56 col0\" >0.286257</td>\n",
       "            </tr>\n",
       "            <tr>\n",
       "                        <th id=\"T_35f7e_level0_row57\" class=\"row_heading level0 row57\" >m_klasse</th>\n",
       "                        <td id=\"T_35f7e_row57_col0\" class=\"data row57 col0\" >0.284763</td>\n",
       "            </tr>\n",
       "            <tr>\n",
       "                        <th id=\"T_35f7e_level0_row58\" class=\"row_heading level0 row58\" >500</th>\n",
       "                        <td id=\"T_35f7e_row58_col0\" class=\"data row58 col0\" >0.274903</td>\n",
       "            </tr>\n",
       "            <tr>\n",
       "                        <th id=\"T_35f7e_level0_row59\" class=\"row_heading level0 row59\" >escort</th>\n",
       "                        <td id=\"T_35f7e_row59_col0\" class=\"data row59 col0\" >0.270420</td>\n",
       "            </tr>\n",
       "            <tr>\n",
       "                        <th id=\"T_35f7e_level0_row60\" class=\"row_heading level0 row60\" >arosa</th>\n",
       "                        <td id=\"T_35f7e_row60_col0\" class=\"data row60 col0\" >0.268628</td>\n",
       "            </tr>\n",
       "            <tr>\n",
       "                        <th id=\"T_35f7e_level0_row61\" class=\"row_heading level0 row61\" >one</th>\n",
       "                        <td id=\"T_35f7e_row61_col0\" class=\"data row61 col0\" >0.268030</td>\n",
       "            </tr>\n",
       "            <tr>\n",
       "                        <th id=\"T_35f7e_level0_row62\" class=\"row_heading level0 row62\" >s_klasse</th>\n",
       "                        <td id=\"T_35f7e_row62_col0\" class=\"data row62 col0\" >0.266536</td>\n",
       "            </tr>\n",
       "            <tr>\n",
       "                        <th id=\"T_35f7e_level0_row63\" class=\"row_heading level0 row63\" >vito</th>\n",
       "                        <td id=\"T_35f7e_row63_col0\" class=\"data row63 col0\" >0.262651</td>\n",
       "            </tr>\n",
       "            <tr>\n",
       "                        <th id=\"T_35f7e_level0_row64\" class=\"row_heading level0 row64\" >b_klasse</th>\n",
       "                        <td id=\"T_35f7e_row64_col0\" class=\"data row64 col0\" >0.260859</td>\n",
       "            </tr>\n",
       "            <tr>\n",
       "                        <th id=\"T_35f7e_level0_row65\" class=\"row_heading level0 row65\" >bora</th>\n",
       "                        <td id=\"T_35f7e_row65_col0\" class=\"data row65 col0\" >0.260560</td>\n",
       "            </tr>\n",
       "            <tr>\n",
       "                        <th id=\"T_35f7e_level0_row66\" class=\"row_heading level0 row66\" >colt</th>\n",
       "                        <td id=\"T_35f7e_row66_col0\" class=\"data row66 col0\" >0.259663</td>\n",
       "            </tr>\n",
       "            <tr>\n",
       "                        <th id=\"T_35f7e_level0_row67\" class=\"row_heading level0 row67\" >berlingo</th>\n",
       "                        <td id=\"T_35f7e_row67_col0\" class=\"data row67 col0\" >0.246217</td>\n",
       "            </tr>\n",
       "            <tr>\n",
       "                        <th id=\"T_35f7e_level0_row68\" class=\"row_heading level0 row68\" >beetle</th>\n",
       "                        <td id=\"T_35f7e_row68_col0\" class=\"data row68 col0\" >0.243528</td>\n",
       "            </tr>\n",
       "            <tr>\n",
       "                        <th id=\"T_35f7e_level0_row69\" class=\"row_heading level0 row69\" >tigra</th>\n",
       "                        <td id=\"T_35f7e_row69_col0\" class=\"data row69 col0\" >0.235759</td>\n",
       "            </tr>\n",
       "            <tr>\n",
       "                        <th id=\"T_35f7e_level0_row70\" class=\"row_heading level0 row70\" >v40</th>\n",
       "                        <td id=\"T_35f7e_row70_col0\" class=\"data row70 col0\" >0.231576</td>\n",
       "            </tr>\n",
       "            <tr>\n",
       "                        <th id=\"T_35f7e_level0_row71\" class=\"row_heading level0 row71\" >sprinter</th>\n",
       "                        <td id=\"T_35f7e_row71_col0\" class=\"data row71 col0\" >0.231277</td>\n",
       "            </tr>\n",
       "            <tr>\n",
       "                        <th id=\"T_35f7e_level0_row72\" class=\"row_heading level0 row72\" >transit</th>\n",
       "                        <td id=\"T_35f7e_row72_col0\" class=\"data row72 col0\" >0.225301</td>\n",
       "            </tr>\n",
       "            <tr>\n",
       "                        <th id=\"T_35f7e_level0_row73\" class=\"row_heading level0 row73\" >fox</th>\n",
       "                        <td id=\"T_35f7e_row73_col0\" class=\"data row73 col0\" >0.222313</td>\n",
       "            </tr>\n",
       "            <tr>\n",
       "                        <th id=\"T_35f7e_level0_row74\" class=\"row_heading level0 row74\" >z_reihe</th>\n",
       "                        <td id=\"T_35f7e_row74_col0\" class=\"data row74 col0\" >0.214245</td>\n",
       "            </tr>\n",
       "            <tr>\n",
       "                        <th id=\"T_35f7e_level0_row75\" class=\"row_heading level0 row75\" >swift</th>\n",
       "                        <td id=\"T_35f7e_row75_col0\" class=\"data row75 col0\" >0.210659</td>\n",
       "            </tr>\n",
       "            <tr>\n",
       "                        <th id=\"T_35f7e_level0_row76\" class=\"row_heading level0 row76\" >c_max</th>\n",
       "                        <td id=\"T_35f7e_row76_col0\" class=\"data row76 col0\" >0.204982</td>\n",
       "            </tr>\n",
       "            <tr>\n",
       "                        <th id=\"T_35f7e_level0_row77\" class=\"row_heading level0 row77\" >corolla</th>\n",
       "                        <td id=\"T_35f7e_row77_col0\" class=\"data row77 col0\" >0.204384</td>\n",
       "            </tr>\n",
       "            <tr>\n",
       "                        <th id=\"T_35f7e_level0_row78\" class=\"row_heading level0 row78\" >panda</th>\n",
       "                        <td id=\"T_35f7e_row78_col0\" class=\"data row78 col0\" >0.201994</td>\n",
       "            </tr>\n",
       "            <tr>\n",
       "                        <th id=\"T_35f7e_level0_row79\" class=\"row_heading level0 row79\" >seicento</th>\n",
       "                        <td id=\"T_35f7e_row79_col0\" class=\"data row79 col0\" >0.200201</td>\n",
       "            </tr>\n",
       "            <tr>\n",
       "                        <th id=\"T_35f7e_level0_row80\" class=\"row_heading level0 row80\" >tiguan</th>\n",
       "                        <td id=\"T_35f7e_row80_col0\" class=\"data row80 col0\" >0.197810</td>\n",
       "            </tr>\n",
       "            <tr>\n",
       "                        <th id=\"T_35f7e_level0_row81\" class=\"row_heading level0 row81\" >insignia</th>\n",
       "                        <td id=\"T_35f7e_row81_col0\" class=\"data row81 col0\" >0.191535</td>\n",
       "            </tr>\n",
       "            <tr>\n",
       "                        <th id=\"T_35f7e_level0_row82\" class=\"row_heading level0 row82\" >4_reihe</th>\n",
       "                        <td id=\"T_35f7e_row82_col0\" class=\"data row82 col0\" >0.190639</td>\n",
       "            </tr>\n",
       "            <tr>\n",
       "                        <th id=\"T_35f7e_level0_row83\" class=\"row_heading level0 row83\" >v70</th>\n",
       "                        <td id=\"T_35f7e_row83_col0\" class=\"data row83 col0\" >0.189145</td>\n",
       "            </tr>\n",
       "            <tr>\n",
       "                        <th id=\"T_35f7e_level0_row84\" class=\"row_heading level0 row84\" >156</th>\n",
       "                        <td id=\"T_35f7e_row84_col0\" class=\"data row84 col0\" >0.187950</td>\n",
       "            </tr>\n",
       "            <tr>\n",
       "                        <th id=\"T_35f7e_level0_row85\" class=\"row_heading level0 row85\" >primera</th>\n",
       "                        <td id=\"T_35f7e_row85_col0\" class=\"data row85 col0\" >0.185559</td>\n",
       "            </tr>\n",
       "            <tr>\n",
       "                        <th id=\"T_35f7e_level0_row86\" class=\"row_heading level0 row86\" >espace</th>\n",
       "                        <td id=\"T_35f7e_row86_col0\" class=\"data row86 col0\" >0.184065</td>\n",
       "            </tr>\n",
       "            <tr>\n",
       "                        <th id=\"T_35f7e_level0_row87\" class=\"row_heading level0 row87\" >scirocco</th>\n",
       "                        <td id=\"T_35f7e_row87_col0\" class=\"data row87 col0\" >0.180778</td>\n",
       "            </tr>\n",
       "            <tr>\n",
       "                        <th id=\"T_35f7e_level0_row88\" class=\"row_heading level0 row88\" >stilo</th>\n",
       "                        <td id=\"T_35f7e_row88_col0\" class=\"data row88 col0\" >0.180181</td>\n",
       "            </tr>\n",
       "            <tr>\n",
       "                        <th id=\"T_35f7e_level0_row89\" class=\"row_heading level0 row89\" >a1</th>\n",
       "                        <td id=\"T_35f7e_row89_col0\" class=\"data row89 col0\" >0.177790</td>\n",
       "            </tr>\n",
       "            <tr>\n",
       "                        <th id=\"T_35f7e_level0_row90\" class=\"row_heading level0 row90\" >touareg</th>\n",
       "                        <td id=\"T_35f7e_row90_col0\" class=\"data row90 col0\" >0.175101</td>\n",
       "            </tr>\n",
       "            <tr>\n",
       "                        <th id=\"T_35f7e_level0_row91\" class=\"row_heading level0 row91\" >almera</th>\n",
       "                        <td id=\"T_35f7e_row91_col0\" class=\"data row91 col0\" >0.174503</td>\n",
       "            </tr>\n",
       "            <tr>\n",
       "                        <th id=\"T_35f7e_level0_row92\" class=\"row_heading level0 row92\" >147</th>\n",
       "                        <td id=\"T_35f7e_row92_col0\" class=\"data row92 col0\" >0.170918</td>\n",
       "            </tr>\n",
       "            <tr>\n",
       "                        <th id=\"T_35f7e_level0_row93\" class=\"row_heading level0 row93\" >avensis</th>\n",
       "                        <td id=\"T_35f7e_row93_col0\" class=\"data row93 col0\" >0.168826</td>\n",
       "            </tr>\n",
       "            <tr>\n",
       "                        <th id=\"T_35f7e_level0_row94\" class=\"row_heading level0 row94\" >grand</th>\n",
       "                        <td id=\"T_35f7e_row94_col0\" class=\"data row94 col0\" >0.167631</td>\n",
       "            </tr>\n",
       "            <tr>\n",
       "                        <th id=\"T_35f7e_level0_row95\" class=\"row_heading level0 row95\" >a5</th>\n",
       "                        <td id=\"T_35f7e_row95_col0\" class=\"data row95 col0\" >0.162850</td>\n",
       "            </tr>\n",
       "            <tr>\n",
       "                        <th id=\"T_35f7e_level0_row96\" class=\"row_heading level0 row96\" >qashqai</th>\n",
       "                        <td id=\"T_35f7e_row96_col0\" class=\"data row96 col0\" >0.158667</td>\n",
       "            </tr>\n",
       "            <tr>\n",
       "                        <th id=\"T_35f7e_level0_row97\" class=\"row_heading level0 row97\" >a8</th>\n",
       "                        <td id=\"T_35f7e_row97_col0\" class=\"data row97 col0\" >0.158069</td>\n",
       "            </tr>\n",
       "            <tr>\n",
       "                        <th id=\"T_35f7e_level0_row98\" class=\"row_heading level0 row98\" >eos</th>\n",
       "                        <td id=\"T_35f7e_row98_col0\" class=\"data row98 col0\" >0.154184</td>\n",
       "            </tr>\n",
       "            <tr>\n",
       "                        <th id=\"T_35f7e_level0_row99\" class=\"row_heading level0 row99\" >c3</th>\n",
       "                        <td id=\"T_35f7e_row99_col0\" class=\"data row99 col0\" >0.151196</td>\n",
       "            </tr>\n",
       "            <tr>\n",
       "                        <th id=\"T_35f7e_level0_row100\" class=\"row_heading level0 row100\" >signum</th>\n",
       "                        <td id=\"T_35f7e_row100_col0\" class=\"data row100 col0\" >0.147312</td>\n",
       "            </tr>\n",
       "            <tr>\n",
       "                        <th id=\"T_35f7e_level0_row101\" class=\"row_heading level0 row101\" >c5</th>\n",
       "                        <td id=\"T_35f7e_row101_col0\" class=\"data row101 col0\" >0.146416</td>\n",
       "            </tr>\n",
       "            <tr>\n",
       "                        <th id=\"T_35f7e_level0_row102\" class=\"row_heading level0 row102\" >c4</th>\n",
       "                        <td id=\"T_35f7e_row102_col0\" class=\"data row102 col0\" >0.132670</td>\n",
       "            </tr>\n",
       "            <tr>\n",
       "                        <th id=\"T_35f7e_level0_row103\" class=\"row_heading level0 row103\" >matiz</th>\n",
       "                        <td id=\"T_35f7e_row103_col0\" class=\"data row103 col0\" >0.132372</td>\n",
       "            </tr>\n",
       "            <tr>\n",
       "                        <th id=\"T_35f7e_level0_row104\" class=\"row_heading level0 row104\" >5_reihe</th>\n",
       "                        <td id=\"T_35f7e_row104_col0\" class=\"data row104 col0\" >0.132073</td>\n",
       "            </tr>\n",
       "            <tr>\n",
       "                        <th id=\"T_35f7e_level0_row105\" class=\"row_heading level0 row105\" >kaefer</th>\n",
       "                        <td id=\"T_35f7e_row105_col0\" class=\"data row105 col0\" >0.132073</td>\n",
       "            </tr>\n",
       "            <tr>\n",
       "                        <th id=\"T_35f7e_level0_row106\" class=\"row_heading level0 row106\" >ducato</th>\n",
       "                        <td id=\"T_35f7e_row106_col0\" class=\"data row106 col0\" >0.129981</td>\n",
       "            </tr>\n",
       "            <tr>\n",
       "                        <th id=\"T_35f7e_level0_row107\" class=\"row_heading level0 row107\" >s_max</th>\n",
       "                        <td id=\"T_35f7e_row107_col0\" class=\"data row107 col0\" >0.129085</td>\n",
       "            </tr>\n",
       "            <tr>\n",
       "                        <th id=\"T_35f7e_level0_row108\" class=\"row_heading level0 row108\" >aygo</th>\n",
       "                        <td id=\"T_35f7e_row108_col0\" class=\"data row108 col0\" >0.128487</td>\n",
       "            </tr>\n",
       "            <tr>\n",
       "                        <th id=\"T_35f7e_level0_row109\" class=\"row_heading level0 row109\" >agila</th>\n",
       "                        <td id=\"T_35f7e_row109_col0\" class=\"data row109 col0\" >0.128487</td>\n",
       "            </tr>\n",
       "            <tr>\n",
       "                        <th id=\"T_35f7e_level0_row110\" class=\"row_heading level0 row110\" >getz</th>\n",
       "                        <td id=\"T_35f7e_row110_col0\" class=\"data row110 col0\" >0.126097</td>\n",
       "            </tr>\n",
       "            <tr>\n",
       "                        <th id=\"T_35f7e_level0_row111\" class=\"row_heading level0 row111\" >601</th>\n",
       "                        <td id=\"T_35f7e_row111_col0\" class=\"data row111 col0\" >0.125200</td>\n",
       "            </tr>\n",
       "            <tr>\n",
       "                        <th id=\"T_35f7e_level0_row112\" class=\"row_heading level0 row112\" >combo</th>\n",
       "                        <td id=\"T_35f7e_row112_col0\" class=\"data row112 col0\" >0.124603</td>\n",
       "            </tr>\n",
       "            <tr>\n",
       "                        <th id=\"T_35f7e_level0_row113\" class=\"row_heading level0 row113\" >100</th>\n",
       "                        <td id=\"T_35f7e_row113_col0\" class=\"data row113 col0\" >0.124603</td>\n",
       "            </tr>\n",
       "            <tr>\n",
       "                        <th id=\"T_35f7e_level0_row114\" class=\"row_heading level0 row114\" >carisma</th>\n",
       "                        <td id=\"T_35f7e_row114_col0\" class=\"data row114 col0\" >0.123706</td>\n",
       "            </tr>\n",
       "            <tr>\n",
       "                        <th id=\"T_35f7e_level0_row115\" class=\"row_heading level0 row115\" >sl</th>\n",
       "                        <td id=\"T_35f7e_row115_col0\" class=\"data row115 col0\" >0.120419</td>\n",
       "            </tr>\n",
       "            <tr>\n",
       "                        <th id=\"T_35f7e_level0_row116\" class=\"row_heading level0 row116\" >cordoba</th>\n",
       "                        <td id=\"T_35f7e_row116_col0\" class=\"data row116 col0\" >0.119224</td>\n",
       "            </tr>\n",
       "            <tr>\n",
       "                        <th id=\"T_35f7e_level0_row117\" class=\"row_heading level0 row117\" >c2</th>\n",
       "                        <td id=\"T_35f7e_row117_col0\" class=\"data row117 col0\" >0.118029</td>\n",
       "            </tr>\n",
       "            <tr>\n",
       "                        <th id=\"T_35f7e_level0_row118\" class=\"row_heading level0 row118\" >c1</th>\n",
       "                        <td id=\"T_35f7e_row118_col0\" class=\"data row118 col0\" >0.116834</td>\n",
       "            </tr>\n",
       "            <tr>\n",
       "                        <th id=\"T_35f7e_level0_row119\" class=\"row_heading level0 row119\" >forfour</th>\n",
       "                        <td id=\"T_35f7e_row119_col0\" class=\"data row119 col0\" >0.115340</td>\n",
       "            </tr>\n",
       "            <tr>\n",
       "                        <th id=\"T_35f7e_level0_row120\" class=\"row_heading level0 row120\" >rio</th>\n",
       "                        <td id=\"T_35f7e_row120_col0\" class=\"data row120 col0\" >0.112650</td>\n",
       "            </tr>\n",
       "            <tr>\n",
       "                        <th id=\"T_35f7e_level0_row121\" class=\"row_heading level0 row121\" >jetta</th>\n",
       "                        <td id=\"T_35f7e_row121_col0\" class=\"data row121 col0\" >0.112053</td>\n",
       "            </tr>\n",
       "            <tr>\n",
       "                        <th id=\"T_35f7e_level0_row122\" class=\"row_heading level0 row122\" >cuore</th>\n",
       "                        <td id=\"T_35f7e_row122_col0\" class=\"data row122 col0\" >0.111754</td>\n",
       "            </tr>\n",
       "            <tr>\n",
       "                        <th id=\"T_35f7e_level0_row123\" class=\"row_heading level0 row123\" >a2</th>\n",
       "                        <td id=\"T_35f7e_row123_col0\" class=\"data row123 col0\" >0.111455</td>\n",
       "            </tr>\n",
       "            <tr>\n",
       "                        <th id=\"T_35f7e_level0_row124\" class=\"row_heading level0 row124\" >altea</th>\n",
       "                        <td id=\"T_35f7e_row124_col0\" class=\"data row124 col0\" >0.111156</td>\n",
       "            </tr>\n",
       "            <tr>\n",
       "                        <th id=\"T_35f7e_level0_row125\" class=\"row_heading level0 row125\" >superb</th>\n",
       "                        <td id=\"T_35f7e_row125_col0\" class=\"data row125 col0\" >0.109363</td>\n",
       "            </tr>\n",
       "            <tr>\n",
       "                        <th id=\"T_35f7e_level0_row126\" class=\"row_heading level0 row126\" >kadett</th>\n",
       "                        <td id=\"T_35f7e_row126_col0\" class=\"data row126 col0\" >0.108766</td>\n",
       "            </tr>\n",
       "            <tr>\n",
       "                        <th id=\"T_35f7e_level0_row127\" class=\"row_heading level0 row127\" >picanto</th>\n",
       "                        <td id=\"T_35f7e_row127_col0\" class=\"data row127 col0\" >0.108168</td>\n",
       "            </tr>\n",
       "            <tr>\n",
       "                        <th id=\"T_35f7e_level0_row128\" class=\"row_heading level0 row128\" >alhambra</th>\n",
       "                        <td id=\"T_35f7e_row128_col0\" class=\"data row128 col0\" >0.106674</td>\n",
       "            </tr>\n",
       "            <tr>\n",
       "                        <th id=\"T_35f7e_level0_row129\" class=\"row_heading level0 row129\" >accord</th>\n",
       "                        <td id=\"T_35f7e_row129_col0\" class=\"data row129 col0\" >0.104881</td>\n",
       "            </tr>\n",
       "            <tr>\n",
       "                        <th id=\"T_35f7e_level0_row130\" class=\"row_heading level0 row130\" >rav</th>\n",
       "                        <td id=\"T_35f7e_row130_col0\" class=\"data row130 col0\" >0.104583</td>\n",
       "            </tr>\n",
       "            <tr>\n",
       "                        <th id=\"T_35f7e_level0_row131\" class=\"row_heading level0 row131\" >up</th>\n",
       "                        <td id=\"T_35f7e_row131_col0\" class=\"data row131 col0\" >0.103985</td>\n",
       "            </tr>\n",
       "            <tr>\n",
       "                        <th id=\"T_35f7e_level0_row132\" class=\"row_heading level0 row132\" >cr_reihe</th>\n",
       "                        <td id=\"T_35f7e_row132_col0\" class=\"data row132 col0\" >0.103088</td>\n",
       "            </tr>\n",
       "            <tr>\n",
       "                        <th id=\"T_35f7e_level0_row133\" class=\"row_heading level0 row133\" >toledo</th>\n",
       "                        <td id=\"T_35f7e_row133_col0\" class=\"data row133 col0\" >0.102491</td>\n",
       "            </tr>\n",
       "            <tr>\n",
       "                        <th id=\"T_35f7e_level0_row134\" class=\"row_heading level0 row134\" >voyager</th>\n",
       "                        <td id=\"T_35f7e_row134_col0\" class=\"data row134 col0\" >0.102192</td>\n",
       "            </tr>\n",
       "            <tr>\n",
       "                        <th id=\"T_35f7e_level0_row135\" class=\"row_heading level0 row135\" >sorento</th>\n",
       "                        <td id=\"T_35f7e_row135_col0\" class=\"data row135 col0\" >0.101893</td>\n",
       "            </tr>\n",
       "            <tr>\n",
       "                        <th id=\"T_35f7e_level0_row136\" class=\"row_heading level0 row136\" >bravo</th>\n",
       "                        <td id=\"T_35f7e_row136_col0\" class=\"data row136 col0\" >0.098905</td>\n",
       "            </tr>\n",
       "            <tr>\n",
       "                        <th id=\"T_35f7e_level0_row137\" class=\"row_heading level0 row137\" >doblo</th>\n",
       "                        <td id=\"T_35f7e_row137_col0\" class=\"data row137 col0\" >0.097112</td>\n",
       "            </tr>\n",
       "            <tr>\n",
       "                        <th id=\"T_35f7e_level0_row138\" class=\"row_heading level0 row138\" >logan</th>\n",
       "                        <td id=\"T_35f7e_row138_col0\" class=\"data row138 col0\" >0.096216</td>\n",
       "            </tr>\n",
       "            <tr>\n",
       "                        <th id=\"T_35f7e_level0_row139\" class=\"row_heading level0 row139\" >vivaro</th>\n",
       "                        <td id=\"T_35f7e_row139_col0\" class=\"data row139 col0\" >0.095917</td>\n",
       "            </tr>\n",
       "            <tr>\n",
       "                        <th id=\"T_35f7e_level0_row140\" class=\"row_heading level0 row140\" >modus</th>\n",
       "                        <td id=\"T_35f7e_row140_col0\" class=\"data row140 col0\" >0.095917</td>\n",
       "            </tr>\n",
       "            <tr>\n",
       "                        <th id=\"T_35f7e_level0_row141\" class=\"row_heading level0 row141\" >kuga</th>\n",
       "                        <td id=\"T_35f7e_row141_col0\" class=\"data row141 col0\" >0.095618</td>\n",
       "            </tr>\n",
       "            <tr>\n",
       "                        <th id=\"T_35f7e_level0_row142\" class=\"row_heading level0 row142\" >santa</th>\n",
       "                        <td id=\"T_35f7e_row142_col0\" class=\"data row142 col0\" >0.093527</td>\n",
       "            </tr>\n",
       "            <tr>\n",
       "                        <th id=\"T_35f7e_level0_row143\" class=\"row_heading level0 row143\" >verso</th>\n",
       "                        <td id=\"T_35f7e_row143_col0\" class=\"data row143 col0\" >0.092331</td>\n",
       "            </tr>\n",
       "            <tr>\n",
       "                        <th id=\"T_35f7e_level0_row144\" class=\"row_heading level0 row144\" >ptcruiser</th>\n",
       "                        <td id=\"T_35f7e_row144_col0\" class=\"data row144 col0\" >0.092033</td>\n",
       "            </tr>\n",
       "            <tr>\n",
       "                        <th id=\"T_35f7e_level0_row145\" class=\"row_heading level0 row145\" >jazz</th>\n",
       "                        <td id=\"T_35f7e_row145_col0\" class=\"data row145 col0\" >0.090240</td>\n",
       "            </tr>\n",
       "            <tr>\n",
       "                        <th id=\"T_35f7e_level0_row146\" class=\"row_heading level0 row146\" >fusion</th>\n",
       "                        <td id=\"T_35f7e_row146_col0\" class=\"data row146 col0\" >0.089642</td>\n",
       "            </tr>\n",
       "            <tr>\n",
       "                        <th id=\"T_35f7e_level0_row147\" class=\"row_heading level0 row147\" >sandero</th>\n",
       "                        <td id=\"T_35f7e_row147_col0\" class=\"data row147 col0\" >0.088148</td>\n",
       "            </tr>\n",
       "            <tr>\n",
       "                        <th id=\"T_35f7e_level0_row148\" class=\"row_heading level0 row148\" >roomster</th>\n",
       "                        <td id=\"T_35f7e_row148_col0\" class=\"data row148 col0\" >0.082471</td>\n",
       "            </tr>\n",
       "            <tr>\n",
       "                        <th id=\"T_35f7e_level0_row149\" class=\"row_heading level0 row149\" >carnival</th>\n",
       "                        <td id=\"T_35f7e_row149_col0\" class=\"data row149 col0\" >0.081574</td>\n",
       "            </tr>\n",
       "            <tr>\n",
       "                        <th id=\"T_35f7e_level0_row150\" class=\"row_heading level0 row150\" >xc_reihe</th>\n",
       "                        <td id=\"T_35f7e_row150_col0\" class=\"data row150 col0\" >0.079782</td>\n",
       "            </tr>\n",
       "            <tr>\n",
       "                        <th id=\"T_35f7e_level0_row151\" class=\"row_heading level0 row151\" >viano</th>\n",
       "                        <td id=\"T_35f7e_row151_col0\" class=\"data row151 col0\" >0.077989</td>\n",
       "            </tr>\n",
       "            <tr>\n",
       "                        <th id=\"T_35f7e_level0_row152\" class=\"row_heading level0 row152\" >galant</th>\n",
       "                        <td id=\"T_35f7e_row152_col0\" class=\"data row152 col0\" >0.076793</td>\n",
       "            </tr>\n",
       "            <tr>\n",
       "                        <th id=\"T_35f7e_level0_row153\" class=\"row_heading level0 row153\" >v50</th>\n",
       "                        <td id=\"T_35f7e_row153_col0\" class=\"data row153 col0\" >0.076196</td>\n",
       "            </tr>\n",
       "            <tr>\n",
       "                        <th id=\"T_35f7e_level0_row154\" class=\"row_heading level0 row154\" >ceed</th>\n",
       "                        <td id=\"T_35f7e_row154_col0\" class=\"data row154 col0\" >0.075299</td>\n",
       "            </tr>\n",
       "            <tr>\n",
       "                        <th id=\"T_35f7e_level0_row155\" class=\"row_heading level0 row155\" >sportage</th>\n",
       "                        <td id=\"T_35f7e_row155_col0\" class=\"data row155 col0\" >0.074104</td>\n",
       "            </tr>\n",
       "            <tr>\n",
       "                        <th id=\"T_35f7e_level0_row156\" class=\"row_heading level0 row156\" >auris</th>\n",
       "                        <td id=\"T_35f7e_row156_col0\" class=\"data row156 col0\" >0.069921</td>\n",
       "            </tr>\n",
       "            <tr>\n",
       "                        <th id=\"T_35f7e_level0_row157\" class=\"row_heading level0 row157\" >cayenne</th>\n",
       "                        <td id=\"T_35f7e_row157_col0\" class=\"data row157 col0\" >0.069323</td>\n",
       "            </tr>\n",
       "            <tr>\n",
       "                        <th id=\"T_35f7e_level0_row158\" class=\"row_heading level0 row158\" >tucson</th>\n",
       "                        <td id=\"T_35f7e_row158_col0\" class=\"data row158 col0\" >0.069024</td>\n",
       "            </tr>\n",
       "            <tr>\n",
       "                        <th id=\"T_35f7e_level0_row159\" class=\"row_heading level0 row159\" >cl</th>\n",
       "                        <td id=\"T_35f7e_row159_col0\" class=\"data row159 col0\" >0.068726</td>\n",
       "            </tr>\n",
       "            <tr>\n",
       "                        <th id=\"T_35f7e_level0_row160\" class=\"row_heading level0 row160\" >impreza</th>\n",
       "                        <td id=\"T_35f7e_row160_col0\" class=\"data row160 col0\" >0.067232</td>\n",
       "            </tr>\n",
       "            <tr>\n",
       "                        <th id=\"T_35f7e_level0_row161\" class=\"row_heading level0 row161\" >lancer</th>\n",
       "                        <td id=\"T_35f7e_row161_col0\" class=\"data row161 col0\" >0.066335</td>\n",
       "            </tr>\n",
       "            <tr>\n",
       "                        <th id=\"T_35f7e_level0_row162\" class=\"row_heading level0 row162\" >boxster</th>\n",
       "                        <td id=\"T_35f7e_row162_col0\" class=\"data row162 col0\" >0.066036</td>\n",
       "            </tr>\n",
       "            <tr>\n",
       "                        <th id=\"T_35f7e_level0_row163\" class=\"row_heading level0 row163\" >freelander</th>\n",
       "                        <td id=\"T_35f7e_row163_col0\" class=\"data row163 col0\" >0.065140</td>\n",
       "            </tr>\n",
       "            <tr>\n",
       "                        <th id=\"T_35f7e_level0_row164\" class=\"row_heading level0 row164\" >calibra</th>\n",
       "                        <td id=\"T_35f7e_row164_col0\" class=\"data row164 col0\" >0.064841</td>\n",
       "            </tr>\n",
       "            <tr>\n",
       "                        <th id=\"T_35f7e_level0_row165\" class=\"row_heading level0 row165\" >phaeton</th>\n",
       "                        <td id=\"T_35f7e_row165_col0\" class=\"data row165 col0\" >0.063945</td>\n",
       "            </tr>\n",
       "            <tr>\n",
       "                        <th id=\"T_35f7e_level0_row166\" class=\"row_heading level0 row166\" >jimny</th>\n",
       "                        <td id=\"T_35f7e_row166_col0\" class=\"data row166 col0\" >0.063347</td>\n",
       "            </tr>\n",
       "            <tr>\n",
       "                        <th id=\"T_35f7e_level0_row167\" class=\"row_heading level0 row167\" >159</th>\n",
       "                        <td id=\"T_35f7e_row167_col0\" class=\"data row167 col0\" >0.063347</td>\n",
       "            </tr>\n",
       "            <tr>\n",
       "                        <th id=\"T_35f7e_level0_row168\" class=\"row_heading level0 row168\" >850</th>\n",
       "                        <td id=\"T_35f7e_row168_col0\" class=\"data row168 col0\" >0.063347</td>\n",
       "            </tr>\n",
       "            <tr>\n",
       "                        <th id=\"T_35f7e_level0_row169\" class=\"row_heading level0 row169\" >ypsilon</th>\n",
       "                        <td id=\"T_35f7e_row169_col0\" class=\"data row169 col0\" >0.062451</td>\n",
       "            </tr>\n",
       "            <tr>\n",
       "                        <th id=\"T_35f7e_level0_row170\" class=\"row_heading level0 row170\" >x_trail</th>\n",
       "                        <td id=\"T_35f7e_row170_col0\" class=\"data row170 col0\" >0.062152</td>\n",
       "            </tr>\n",
       "            <tr>\n",
       "                        <th id=\"T_35f7e_level0_row171\" class=\"row_heading level0 row171\" >pajero</th>\n",
       "                        <td id=\"T_35f7e_row171_col0\" class=\"data row171 col0\" >0.062152</td>\n",
       "            </tr>\n",
       "            <tr>\n",
       "                        <th id=\"T_35f7e_level0_row172\" class=\"row_heading level0 row172\" >q7</th>\n",
       "                        <td id=\"T_35f7e_row172_col0\" class=\"data row172 col0\" >0.061255</td>\n",
       "            </tr>\n",
       "            <tr>\n",
       "                        <th id=\"T_35f7e_level0_row173\" class=\"row_heading level0 row173\" >duster</th>\n",
       "                        <td id=\"T_35f7e_row173_col0\" class=\"data row173 col0\" >0.060957</td>\n",
       "            </tr>\n",
       "            <tr>\n",
       "                        <th id=\"T_35f7e_level0_row174\" class=\"row_heading level0 row174\" >clubman</th>\n",
       "                        <td id=\"T_35f7e_row174_col0\" class=\"data row174 col0\" >0.060060</td>\n",
       "            </tr>\n",
       "            <tr>\n",
       "                        <th id=\"T_35f7e_level0_row175\" class=\"row_heading level0 row175\" >spider</th>\n",
       "                        <td id=\"T_35f7e_row175_col0\" class=\"data row175 col0\" >0.057969</td>\n",
       "            </tr>\n",
       "            <tr>\n",
       "                        <th id=\"T_35f7e_level0_row176\" class=\"row_heading level0 row176\" >c_reihe</th>\n",
       "                        <td id=\"T_35f7e_row176_col0\" class=\"data row176 col0\" >0.057670</td>\n",
       "            </tr>\n",
       "            <tr>\n",
       "                        <th id=\"T_35f7e_level0_row177\" class=\"row_heading level0 row177\" >roadster</th>\n",
       "                        <td id=\"T_35f7e_row177_col0\" class=\"data row177 col0\" >0.054084</td>\n",
       "            </tr>\n",
       "            <tr>\n",
       "                        <th id=\"T_35f7e_level0_row178\" class=\"row_heading level0 row178\" >mustang</th>\n",
       "                        <td id=\"T_35f7e_row178_col0\" class=\"data row178 col0\" >0.052889</td>\n",
       "            </tr>\n",
       "            <tr>\n",
       "                        <th id=\"T_35f7e_level0_row179\" class=\"row_heading level0 row179\" >yeti</th>\n",
       "                        <td id=\"T_35f7e_row179_col0\" class=\"data row179 col0\" >0.051992</td>\n",
       "            </tr>\n",
       "            <tr>\n",
       "                        <th id=\"T_35f7e_level0_row180\" class=\"row_heading level0 row180\" >x_type</th>\n",
       "                        <td id=\"T_35f7e_row180_col0\" class=\"data row180 col0\" >0.051694</td>\n",
       "            </tr>\n",
       "            <tr>\n",
       "                        <th id=\"T_35f7e_level0_row181\" class=\"row_heading level0 row181\" >cherokee</th>\n",
       "                        <td id=\"T_35f7e_row181_col0\" class=\"data row181 col0\" >0.050498</td>\n",
       "            </tr>\n",
       "            <tr>\n",
       "                        <th id=\"T_35f7e_level0_row182\" class=\"row_heading level0 row182\" >captiva</th>\n",
       "                        <td id=\"T_35f7e_row182_col0\" class=\"data row182 col0\" >0.050200</td>\n",
       "            </tr>\n",
       "            <tr>\n",
       "                        <th id=\"T_35f7e_level0_row183\" class=\"row_heading level0 row183\" >legacy</th>\n",
       "                        <td id=\"T_35f7e_row183_col0\" class=\"data row183 col0\" >0.047809</td>\n",
       "            </tr>\n",
       "            <tr>\n",
       "                        <th id=\"T_35f7e_level0_row184\" class=\"row_heading level0 row184\" >6er</th>\n",
       "                        <td id=\"T_35f7e_row184_col0\" class=\"data row184 col0\" >0.046614</td>\n",
       "            </tr>\n",
       "            <tr>\n",
       "                        <th id=\"T_35f7e_level0_row185\" class=\"row_heading level0 row185\" >v_klasse</th>\n",
       "                        <td id=\"T_35f7e_row185_col0\" class=\"data row185 col0\" >0.045120</td>\n",
       "            </tr>\n",
       "            <tr>\n",
       "                        <th id=\"T_35f7e_level0_row186\" class=\"row_heading level0 row186\" >s60</th>\n",
       "                        <td id=\"T_35f7e_row186_col0\" class=\"data row186 col0\" >0.043626</td>\n",
       "            </tr>\n",
       "            <tr>\n",
       "                        <th id=\"T_35f7e_level0_row187\" class=\"row_heading level0 row187\" >300c</th>\n",
       "                        <td id=\"T_35f7e_row187_col0\" class=\"data row187 col0\" >0.043327</td>\n",
       "            </tr>\n",
       "            <tr>\n",
       "                        <th id=\"T_35f7e_level0_row188\" class=\"row_heading level0 row188\" >rx_reihe</th>\n",
       "                        <td id=\"T_35f7e_row188_col0\" class=\"data row188 col0\" >0.042431</td>\n",
       "            </tr>\n",
       "            <tr>\n",
       "                        <th id=\"T_35f7e_level0_row189\" class=\"row_heading level0 row189\" >sirion</th>\n",
       "                        <td id=\"T_35f7e_row189_col0\" class=\"data row189 col0\" >0.041534</td>\n",
       "            </tr>\n",
       "            <tr>\n",
       "                        <th id=\"T_35f7e_level0_row190\" class=\"row_heading level0 row190\" >justy</th>\n",
       "                        <td id=\"T_35f7e_row190_col0\" class=\"data row190 col0\" >0.041534</td>\n",
       "            </tr>\n",
       "            <tr>\n",
       "                        <th id=\"T_35f7e_level0_row191\" class=\"row_heading level0 row191\" >cc</th>\n",
       "                        <td id=\"T_35f7e_row191_col0\" class=\"data row191 col0\" >0.040937</td>\n",
       "            </tr>\n",
       "            <tr>\n",
       "                        <th id=\"T_35f7e_level0_row192\" class=\"row_heading level0 row192\" >m_reihe</th>\n",
       "                        <td id=\"T_35f7e_row192_col0\" class=\"data row192 col0\" >0.039443</td>\n",
       "            </tr>\n",
       "            <tr>\n",
       "                        <th id=\"T_35f7e_level0_row193\" class=\"row_heading level0 row193\" >note</th>\n",
       "                        <td id=\"T_35f7e_row193_col0\" class=\"data row193 col0\" >0.038845</td>\n",
       "            </tr>\n",
       "            <tr>\n",
       "                        <th id=\"T_35f7e_level0_row194\" class=\"row_heading level0 row194\" >forester</th>\n",
       "                        <td id=\"T_35f7e_row194_col0\" class=\"data row194 col0\" >0.038845</td>\n",
       "            </tr>\n",
       "            <tr>\n",
       "                        <th id=\"T_35f7e_level0_row195\" class=\"row_heading level0 row195\" >niva</th>\n",
       "                        <td id=\"T_35f7e_row195_col0\" class=\"data row195 col0\" >0.038546</td>\n",
       "            </tr>\n",
       "            <tr>\n",
       "                        <th id=\"T_35f7e_level0_row196\" class=\"row_heading level0 row196\" >s_type</th>\n",
       "                        <td id=\"T_35f7e_row196_col0\" class=\"data row196 col0\" >0.038247</td>\n",
       "            </tr>\n",
       "            <tr>\n",
       "                        <th id=\"T_35f7e_level0_row197\" class=\"row_heading level0 row197\" >spark</th>\n",
       "                        <td id=\"T_35f7e_row197_col0\" class=\"data row197 col0\" >0.037351</td>\n",
       "            </tr>\n",
       "            <tr>\n",
       "                        <th id=\"T_35f7e_level0_row198\" class=\"row_heading level0 row198\" >r19</th>\n",
       "                        <td id=\"T_35f7e_row198_col0\" class=\"data row198 col0\" >0.036753</td>\n",
       "            </tr>\n",
       "            <tr>\n",
       "                        <th id=\"T_35f7e_level0_row199\" class=\"row_heading level0 row199\" >outlander</th>\n",
       "                        <td id=\"T_35f7e_row199_col0\" class=\"data row199 col0\" >0.036753</td>\n",
       "            </tr>\n",
       "            <tr>\n",
       "                        <th id=\"T_35f7e_level0_row200\" class=\"row_heading level0 row200\" >aveo</th>\n",
       "                        <td id=\"T_35f7e_row200_col0\" class=\"data row200 col0\" >0.034960</td>\n",
       "            </tr>\n",
       "            <tr>\n",
       "                        <th id=\"T_35f7e_level0_row201\" class=\"row_heading level0 row201\" >900</th>\n",
       "                        <td id=\"T_35f7e_row201_col0\" class=\"data row201 col0\" >0.034662</td>\n",
       "            </tr>\n",
       "            <tr>\n",
       "                        <th id=\"T_35f7e_level0_row202\" class=\"row_heading level0 row202\" >antara</th>\n",
       "                        <td id=\"T_35f7e_row202_col0\" class=\"data row202 col0\" >0.032271</td>\n",
       "            </tr>\n",
       "            <tr>\n",
       "                        <th id=\"T_35f7e_level0_row203\" class=\"row_heading level0 row203\" >90</th>\n",
       "                        <td id=\"T_35f7e_row203_col0\" class=\"data row203 col0\" >0.030777</td>\n",
       "            </tr>\n",
       "            <tr>\n",
       "                        <th id=\"T_35f7e_level0_row204\" class=\"row_heading level0 row204\" >wrangler</th>\n",
       "                        <td id=\"T_35f7e_row204_col0\" class=\"data row204 col0\" >0.030777</td>\n",
       "            </tr>\n",
       "            <tr>\n",
       "                        <th id=\"T_35f7e_level0_row205\" class=\"row_heading level0 row205\" >juke</th>\n",
       "                        <td id=\"T_35f7e_row205_col0\" class=\"data row205 col0\" >0.030478</td>\n",
       "            </tr>\n",
       "            <tr>\n",
       "                        <th id=\"T_35f7e_level0_row206\" class=\"row_heading level0 row206\" >exeo</th>\n",
       "                        <td id=\"T_35f7e_row206_col0\" class=\"data row206 col0\" >0.029881</td>\n",
       "            </tr>\n",
       "            <tr>\n",
       "                        <th id=\"T_35f7e_level0_row207\" class=\"row_heading level0 row207\" >navara</th>\n",
       "                        <td id=\"T_35f7e_row207_col0\" class=\"data row207 col0\" >0.029283</td>\n",
       "            </tr>\n",
       "            <tr>\n",
       "                        <th id=\"T_35f7e_level0_row208\" class=\"row_heading level0 row208\" >q5</th>\n",
       "                        <td id=\"T_35f7e_row208_col0\" class=\"data row208 col0\" >0.028984</td>\n",
       "            </tr>\n",
       "            <tr>\n",
       "                        <th id=\"T_35f7e_level0_row209\" class=\"row_heading level0 row209\" >g_klasse</th>\n",
       "                        <td id=\"T_35f7e_row209_col0\" class=\"data row209 col0\" >0.028984</td>\n",
       "            </tr>\n",
       "            <tr>\n",
       "                        <th id=\"T_35f7e_level0_row210\" class=\"row_heading level0 row210\" >kalos</th>\n",
       "                        <td id=\"T_35f7e_row210_col0\" class=\"data row210 col0\" >0.028387</td>\n",
       "            </tr>\n",
       "            <tr>\n",
       "                        <th id=\"T_35f7e_level0_row211\" class=\"row_heading level0 row211\" >citigo</th>\n",
       "                        <td id=\"T_35f7e_row211_col0\" class=\"data row211 col0\" >0.027191</td>\n",
       "            </tr>\n",
       "            <tr>\n",
       "                        <th id=\"T_35f7e_level0_row212\" class=\"row_heading level0 row212\" >lanos</th>\n",
       "                        <td id=\"T_35f7e_row212_col0\" class=\"data row212 col0\" >0.026594</td>\n",
       "            </tr>\n",
       "            <tr>\n",
       "                        <th id=\"T_35f7e_level0_row213\" class=\"row_heading level0 row213\" >911</th>\n",
       "                        <td id=\"T_35f7e_row213_col0\" class=\"data row213 col0\" >0.025100</td>\n",
       "            </tr>\n",
       "            <tr>\n",
       "                        <th id=\"T_35f7e_level0_row214\" class=\"row_heading level0 row214\" >mii</th>\n",
       "                        <td id=\"T_35f7e_row214_col0\" class=\"data row214 col0\" >0.024203</td>\n",
       "            </tr>\n",
       "            <tr>\n",
       "                        <th id=\"T_35f7e_level0_row215\" class=\"row_heading level0 row215\" >discovery</th>\n",
       "                        <td id=\"T_35f7e_row215_col0\" class=\"data row215 col0\" >0.023606</td>\n",
       "            </tr>\n",
       "            <tr>\n",
       "                        <th id=\"T_35f7e_level0_row216\" class=\"row_heading level0 row216\" >range_rover</th>\n",
       "                        <td id=\"T_35f7e_row216_col0\" class=\"data row216 col0\" >0.023008</td>\n",
       "            </tr>\n",
       "            <tr>\n",
       "                        <th id=\"T_35f7e_level0_row217\" class=\"row_heading level0 row217\" >defender</th>\n",
       "                        <td id=\"T_35f7e_row217_col0\" class=\"data row217 col0\" >0.022709</td>\n",
       "            </tr>\n",
       "            <tr>\n",
       "                        <th id=\"T_35f7e_level0_row218\" class=\"row_heading level0 row218\" >cx_reihe</th>\n",
       "                        <td id=\"T_35f7e_row218_col0\" class=\"data row218 col0\" >0.019721</td>\n",
       "            </tr>\n",
       "            <tr>\n",
       "                        <th id=\"T_35f7e_level0_row219\" class=\"row_heading level0 row219\" >crossfire</th>\n",
       "                        <td id=\"T_35f7e_row219_col0\" class=\"data row219 col0\" >0.019124</td>\n",
       "            </tr>\n",
       "            <tr>\n",
       "                        <th id=\"T_35f7e_level0_row220\" class=\"row_heading level0 row220\" >glk</th>\n",
       "                        <td id=\"T_35f7e_row220_col0\" class=\"data row220 col0\" >0.019124</td>\n",
       "            </tr>\n",
       "            <tr>\n",
       "                        <th id=\"T_35f7e_level0_row221\" class=\"row_heading level0 row221\" >nubira</th>\n",
       "                        <td id=\"T_35f7e_row221_col0\" class=\"data row221 col0\" >0.018526</td>\n",
       "            </tr>\n",
       "            <tr>\n",
       "                        <th id=\"T_35f7e_level0_row222\" class=\"row_heading level0 row222\" >move</th>\n",
       "                        <td id=\"T_35f7e_row222_col0\" class=\"data row222 col0\" >0.017928</td>\n",
       "            </tr>\n",
       "            <tr>\n",
       "                        <th id=\"T_35f7e_level0_row223\" class=\"row_heading level0 row223\" >lybra</th>\n",
       "                        <td id=\"T_35f7e_row223_col0\" class=\"data row223 col0\" >0.016136</td>\n",
       "            </tr>\n",
       "            <tr>\n",
       "                        <th id=\"T_35f7e_level0_row224\" class=\"row_heading level0 row224\" >range_rover_sport</th>\n",
       "                        <td id=\"T_35f7e_row224_col0\" class=\"data row224 col0\" >0.016136</td>\n",
       "            </tr>\n",
       "            <tr>\n",
       "                        <th id=\"T_35f7e_level0_row225\" class=\"row_heading level0 row225\" >145</th>\n",
       "                        <td id=\"T_35f7e_row225_col0\" class=\"data row225 col0\" >0.014642</td>\n",
       "            </tr>\n",
       "            <tr>\n",
       "                        <th id=\"T_35f7e_level0_row226\" class=\"row_heading level0 row226\" >croma</th>\n",
       "                        <td id=\"T_35f7e_row226_col0\" class=\"data row226 col0\" >0.013446</td>\n",
       "            </tr>\n",
       "            <tr>\n",
       "                        <th id=\"T_35f7e_level0_row227\" class=\"row_heading level0 row227\" >v60</th>\n",
       "                        <td id=\"T_35f7e_row227_col0\" class=\"data row227 col0\" >0.012550</td>\n",
       "            </tr>\n",
       "            <tr>\n",
       "                        <th id=\"T_35f7e_level0_row228\" class=\"row_heading level0 row228\" >lodgy</th>\n",
       "                        <td id=\"T_35f7e_row228_col0\" class=\"data row228 col0\" >0.010458</td>\n",
       "            </tr>\n",
       "            <tr>\n",
       "                        <th id=\"T_35f7e_level0_row229\" class=\"row_heading level0 row229\" >terios</th>\n",
       "                        <td id=\"T_35f7e_row229_col0\" class=\"data row229 col0\" >0.010458</td>\n",
       "            </tr>\n",
       "            <tr>\n",
       "                        <th id=\"T_35f7e_level0_row230\" class=\"row_heading level0 row230\" >delta</th>\n",
       "                        <td id=\"T_35f7e_row230_col0\" class=\"data row230 col0\" >0.010458</td>\n",
       "            </tr>\n",
       "            <tr>\n",
       "                        <th id=\"T_35f7e_level0_row231\" class=\"row_heading level0 row231\" >9000</th>\n",
       "                        <td id=\"T_35f7e_row231_col0\" class=\"data row231 col0\" >0.009263</td>\n",
       "            </tr>\n",
       "            <tr>\n",
       "                        <th id=\"T_35f7e_level0_row232\" class=\"row_heading level0 row232\" >charade</th>\n",
       "                        <td id=\"T_35f7e_row232_col0\" class=\"data row232 col0\" >0.008068</td>\n",
       "            </tr>\n",
       "            <tr>\n",
       "                        <th id=\"T_35f7e_level0_row233\" class=\"row_heading level0 row233\" >b_max</th>\n",
       "                        <td id=\"T_35f7e_row233_col0\" class=\"data row233 col0\" >0.007769</td>\n",
       "            </tr>\n",
       "            <tr>\n",
       "                        <th id=\"T_35f7e_level0_row234\" class=\"row_heading level0 row234\" >musa</th>\n",
       "                        <td id=\"T_35f7e_row234_col0\" class=\"data row234 col0\" >0.007470</td>\n",
       "            </tr>\n",
       "            <tr>\n",
       "                        <th id=\"T_35f7e_level0_row235\" class=\"row_heading level0 row235\" >200</th>\n",
       "                        <td id=\"T_35f7e_row235_col0\" class=\"data row235 col0\" >0.005379</td>\n",
       "            </tr>\n",
       "            <tr>\n",
       "                        <th id=\"T_35f7e_level0_row236\" class=\"row_heading level0 row236\" >materia</th>\n",
       "                        <td id=\"T_35f7e_row236_col0\" class=\"data row236 col0\" >0.005379</td>\n",
       "            </tr>\n",
       "            <tr>\n",
       "                        <th id=\"T_35f7e_level0_row237\" class=\"row_heading level0 row237\" >amarok</th>\n",
       "                        <td id=\"T_35f7e_row237_col0\" class=\"data row237 col0\" >0.004781</td>\n",
       "            </tr>\n",
       "            <tr>\n",
       "                        <th id=\"T_35f7e_level0_row238\" class=\"row_heading level0 row238\" >q3</th>\n",
       "                        <td id=\"T_35f7e_row238_col0\" class=\"data row238 col0\" >0.004482</td>\n",
       "            </tr>\n",
       "            <tr>\n",
       "                        <th id=\"T_35f7e_level0_row239\" class=\"row_heading level0 row239\" >kappa</th>\n",
       "                        <td id=\"T_35f7e_row239_col0\" class=\"data row239 col0\" >0.004482</td>\n",
       "            </tr>\n",
       "            <tr>\n",
       "                        <th id=\"T_35f7e_level0_row240\" class=\"row_heading level0 row240\" >gl</th>\n",
       "                        <td id=\"T_35f7e_row240_col0\" class=\"data row240 col0\" >0.003884</td>\n",
       "            </tr>\n",
       "            <tr>\n",
       "                        <th id=\"T_35f7e_level0_row241\" class=\"row_heading level0 row241\" >samara</th>\n",
       "                        <td id=\"T_35f7e_row241_col0\" class=\"data row241 col0\" >0.003884</td>\n",
       "            </tr>\n",
       "            <tr>\n",
       "                        <th id=\"T_35f7e_level0_row242\" class=\"row_heading level0 row242\" >elefantino</th>\n",
       "                        <td id=\"T_35f7e_row242_col0\" class=\"data row242 col0\" >0.003287</td>\n",
       "            </tr>\n",
       "            <tr>\n",
       "                        <th id=\"T_35f7e_level0_row243\" class=\"row_heading level0 row243\" >kalina</th>\n",
       "                        <td id=\"T_35f7e_row243_col0\" class=\"data row243 col0\" >0.002689</td>\n",
       "            </tr>\n",
       "            <tr>\n",
       "                        <th id=\"T_35f7e_level0_row244\" class=\"row_heading level0 row244\" >i3</th>\n",
       "                        <td id=\"T_35f7e_row244_col0\" class=\"data row244 col0\" >0.002390</td>\n",
       "            </tr>\n",
       "            <tr>\n",
       "                        <th id=\"T_35f7e_level0_row245\" class=\"row_heading level0 row245\" >serie_2</th>\n",
       "                        <td id=\"T_35f7e_row245_col0\" class=\"data row245 col0\" >0.002390</td>\n",
       "            </tr>\n",
       "            <tr>\n",
       "                        <th id=\"T_35f7e_level0_row246\" class=\"row_heading level0 row246\" >rangerover</th>\n",
       "                        <td id=\"T_35f7e_row246_col0\" class=\"data row246 col0\" >0.001195</td>\n",
       "            </tr>\n",
       "            <tr>\n",
       "                        <th id=\"T_35f7e_level0_row247\" class=\"row_heading level0 row247\" >serie_3</th>\n",
       "                        <td id=\"T_35f7e_row247_col0\" class=\"data row247 col0\" >0.001195</td>\n",
       "            </tr>\n",
       "            <tr>\n",
       "                        <th id=\"T_35f7e_level0_row248\" class=\"row_heading level0 row248\" >range_rover_evoque</th>\n",
       "                        <td id=\"T_35f7e_row248_col0\" class=\"data row248 col0\" >0.000598</td>\n",
       "            </tr>\n",
       "            <tr>\n",
       "                        <th id=\"T_35f7e_level0_row249\" class=\"row_heading level0 row249\" >serie_1</th>\n",
       "                        <td id=\"T_35f7e_row249_col0\" class=\"data row249 col0\" >0.000598</td>\n",
       "            </tr>\n",
       "    </tbody></table>"
      ],
      "text/plain": [
       "<pandas.io.formats.style.Styler at 0x7fb39002eee0>"
      ]
     },
     "metadata": {},
     "output_type": "display_data"
    }
   ],
   "source": [
    "for column in ['VehicleType', 'Gearbox', 'FuelType', 'Brand', 'Repaired', 'Model']:\n",
    "    display(pd.DataFrame(data[column].value_counts(normalize=True).mul(100)).style.background_gradient())"
   ]
  },
  {
   "cell_type": "code",
   "execution_count": 8,
   "metadata": {},
   "outputs": [
    {
     "data": {
      "text/plain": [
       "['100',\n",
       " '145',\n",
       " '147',\n",
       " '156',\n",
       " '159',\n",
       " '1_reihe',\n",
       " '1er',\n",
       " '200',\n",
       " '2_reihe',\n",
       " '300c',\n",
       " '3_reihe',\n",
       " '3er',\n",
       " '4_reihe',\n",
       " '500',\n",
       " '5_reihe',\n",
       " '5er',\n",
       " '601',\n",
       " '6_reihe',\n",
       " '6er',\n",
       " '7er',\n",
       " '80',\n",
       " '850',\n",
       " '90',\n",
       " '900',\n",
       " '9000',\n",
       " '911',\n",
       " 'a1',\n",
       " 'a2',\n",
       " 'a3',\n",
       " 'a4',\n",
       " 'a5',\n",
       " 'a6',\n",
       " 'a8',\n",
       " 'a_klasse',\n",
       " 'accord',\n",
       " 'agila',\n",
       " 'alhambra',\n",
       " 'almera',\n",
       " 'altea',\n",
       " 'amarok',\n",
       " 'antara',\n",
       " 'arosa',\n",
       " 'astra',\n",
       " 'auris',\n",
       " 'avensis',\n",
       " 'aveo',\n",
       " 'aygo',\n",
       " 'b_klasse',\n",
       " 'b_max',\n",
       " 'beetle',\n",
       " 'berlingo',\n",
       " 'bora',\n",
       " 'boxster',\n",
       " 'bravo',\n",
       " 'c1',\n",
       " 'c2',\n",
       " 'c3',\n",
       " 'c4',\n",
       " 'c5',\n",
       " 'c_klasse',\n",
       " 'c_max',\n",
       " 'c_reihe',\n",
       " 'caddy',\n",
       " 'calibra',\n",
       " 'captiva',\n",
       " 'carisma',\n",
       " 'carnival',\n",
       " 'cayenne',\n",
       " 'cc',\n",
       " 'ceed',\n",
       " 'charade',\n",
       " 'cherokee',\n",
       " 'citigo',\n",
       " 'civic',\n",
       " 'cl',\n",
       " 'clio',\n",
       " 'clk',\n",
       " 'clubman',\n",
       " 'colt',\n",
       " 'combo',\n",
       " 'cooper',\n",
       " 'cordoba',\n",
       " 'corolla',\n",
       " 'corsa',\n",
       " 'cr_reihe',\n",
       " 'croma',\n",
       " 'crossfire',\n",
       " 'cuore',\n",
       " 'cx_reihe',\n",
       " 'defender',\n",
       " 'delta',\n",
       " 'discovery',\n",
       " 'doblo',\n",
       " 'ducato',\n",
       " 'duster',\n",
       " 'e_klasse',\n",
       " 'elefantino',\n",
       " 'eos',\n",
       " 'escort',\n",
       " 'espace',\n",
       " 'exeo',\n",
       " 'fabia',\n",
       " 'fiesta',\n",
       " 'focus',\n",
       " 'forester',\n",
       " 'forfour',\n",
       " 'fortwo',\n",
       " 'fox',\n",
       " 'freelander',\n",
       " 'fusion',\n",
       " 'g_klasse',\n",
       " 'galant',\n",
       " 'galaxy',\n",
       " 'getz',\n",
       " 'gl',\n",
       " 'glk',\n",
       " 'golf',\n",
       " 'grand',\n",
       " 'i3',\n",
       " 'i_reihe',\n",
       " 'ibiza',\n",
       " 'impreza',\n",
       " 'insignia',\n",
       " 'jazz',\n",
       " 'jetta',\n",
       " 'jimny',\n",
       " 'juke',\n",
       " 'justy',\n",
       " 'ka',\n",
       " 'kadett',\n",
       " 'kaefer',\n",
       " 'kalina',\n",
       " 'kalos',\n",
       " 'kangoo',\n",
       " 'kappa',\n",
       " 'kuga',\n",
       " 'laguna',\n",
       " 'lancer',\n",
       " 'lanos',\n",
       " 'legacy',\n",
       " 'leon',\n",
       " 'lodgy',\n",
       " 'logan',\n",
       " 'lupo',\n",
       " 'lybra',\n",
       " 'm_klasse',\n",
       " 'm_reihe',\n",
       " 'materia',\n",
       " 'matiz',\n",
       " 'megane',\n",
       " 'meriva',\n",
       " 'micra',\n",
       " 'mii',\n",
       " 'modus',\n",
       " 'mondeo',\n",
       " 'move',\n",
       " 'musa',\n",
       " 'mustang',\n",
       " 'mx_reihe',\n",
       " 'navara',\n",
       " 'niva',\n",
       " 'note',\n",
       " 'nubira',\n",
       " 'octavia',\n",
       " 'omega',\n",
       " 'one',\n",
       " 'other',\n",
       " 'outlander',\n",
       " 'pajero',\n",
       " 'panda',\n",
       " 'passat',\n",
       " 'phaeton',\n",
       " 'picanto',\n",
       " 'polo',\n",
       " 'primera',\n",
       " 'ptcruiser',\n",
       " 'punto',\n",
       " 'q3',\n",
       " 'q5',\n",
       " 'q7',\n",
       " 'qashqai',\n",
       " 'r19',\n",
       " 'range_rover',\n",
       " 'range_rover_evoque',\n",
       " 'range_rover_sport',\n",
       " 'rangerover',\n",
       " 'rav',\n",
       " 'rio',\n",
       " 'roadster',\n",
       " 'roomster',\n",
       " 'rx_reihe',\n",
       " 's60',\n",
       " 's_klasse',\n",
       " 's_max',\n",
       " 's_type',\n",
       " 'samara',\n",
       " 'sandero',\n",
       " 'santa',\n",
       " 'scenic',\n",
       " 'scirocco',\n",
       " 'seicento',\n",
       " 'serie_1',\n",
       " 'serie_2',\n",
       " 'serie_3',\n",
       " 'sharan',\n",
       " 'signum',\n",
       " 'sirion',\n",
       " 'sl',\n",
       " 'slk',\n",
       " 'sorento',\n",
       " 'spark',\n",
       " 'spider',\n",
       " 'sportage',\n",
       " 'sprinter',\n",
       " 'stilo',\n",
       " 'superb',\n",
       " 'swift',\n",
       " 'terios',\n",
       " 'tigra',\n",
       " 'tiguan',\n",
       " 'toledo',\n",
       " 'touareg',\n",
       " 'touran',\n",
       " 'transit',\n",
       " 'transporter',\n",
       " 'tt',\n",
       " 'tucson',\n",
       " 'twingo',\n",
       " 'up',\n",
       " 'v40',\n",
       " 'v50',\n",
       " 'v60',\n",
       " 'v70',\n",
       " 'v_klasse',\n",
       " 'vectra',\n",
       " 'verso',\n",
       " 'viano',\n",
       " 'vito',\n",
       " 'vivaro',\n",
       " 'voyager',\n",
       " 'wrangler',\n",
       " 'x_reihe',\n",
       " 'x_trail',\n",
       " 'x_type',\n",
       " 'xc_reihe',\n",
       " 'yaris',\n",
       " 'yeti',\n",
       " 'ypsilon',\n",
       " 'z_reihe',\n",
       " 'zafira']"
      ]
     },
     "execution_count": 8,
     "metadata": {},
     "output_type": "execute_result"
    }
   ],
   "source": [
    "sorted(data['Model'].dropna().unique())"
   ]
  },
  {
   "cell_type": "code",
   "execution_count": 9,
   "metadata": {
    "scrolled": true
   },
   "outputs": [
    {
     "data": {
      "text/html": [
       "<div>\n",
       "<style scoped>\n",
       "    .dataframe tbody tr th:only-of-type {\n",
       "        vertical-align: middle;\n",
       "    }\n",
       "\n",
       "    .dataframe tbody tr th {\n",
       "        vertical-align: top;\n",
       "    }\n",
       "\n",
       "    .dataframe thead tr th {\n",
       "        text-align: left;\n",
       "    }\n",
       "\n",
       "    .dataframe thead tr:last-of-type th {\n",
       "        text-align: right;\n",
       "    }\n",
       "</style>\n",
       "<table border=\"1\" class=\"dataframe\">\n",
       "  <thead>\n",
       "    <tr>\n",
       "      <th></th>\n",
       "      <th colspan=\"3\" halign=\"left\">Price</th>\n",
       "    </tr>\n",
       "    <tr>\n",
       "      <th></th>\n",
       "      <th>count</th>\n",
       "      <th>median</th>\n",
       "      <th>mean</th>\n",
       "    </tr>\n",
       "    <tr>\n",
       "      <th>Model</th>\n",
       "      <th></th>\n",
       "      <th></th>\n",
       "      <th></th>\n",
       "    </tr>\n",
       "  </thead>\n",
       "  <tbody>\n",
       "    <tr>\n",
       "      <th>range_rover</th>\n",
       "      <td>77</td>\n",
       "      <td>5999</td>\n",
       "      <td>7401.935065</td>\n",
       "    </tr>\n",
       "    <tr>\n",
       "      <th>range_rover_evoque</th>\n",
       "      <td>2</td>\n",
       "      <td>12500</td>\n",
       "      <td>12500.000000</td>\n",
       "    </tr>\n",
       "    <tr>\n",
       "      <th>range_rover_sport</th>\n",
       "      <td>54</td>\n",
       "      <td>15350</td>\n",
       "      <td>15332.796296</td>\n",
       "    </tr>\n",
       "    <tr>\n",
       "      <th>rangerover</th>\n",
       "      <td>4</td>\n",
       "      <td>2900</td>\n",
       "      <td>5937.500000</td>\n",
       "    </tr>\n",
       "  </tbody>\n",
       "</table>\n",
       "</div>"
      ],
      "text/plain": [
       "                   Price                     \n",
       "                   count median          mean\n",
       "Model                                        \n",
       "range_rover           77   5999   7401.935065\n",
       "range_rover_evoque     2  12500  12500.000000\n",
       "range_rover_sport     54  15350  15332.796296\n",
       "rangerover             4   2900   5937.500000"
      ]
     },
     "execution_count": 9,
     "metadata": {},
     "output_type": "execute_result"
    }
   ],
   "source": [
    "(data\n",
    " .loc[data['Model'].isin(['range_rover', 'range_rover_evoque', 'range_rover_sport', 'rangerover']), ['Model', 'Price']]\n",
    " .groupby('Model')\n",
    " .agg({'count', 'mean', 'median'})\n",
    ")"
   ]
  },
  {
   "cell_type": "code",
   "execution_count": 10,
   "metadata": {},
   "outputs": [],
   "source": [
    "data['Model'].where(data['Model'] != 'rangerover', 'range_rover', inplace=True)"
   ]
  },
  {
   "cell_type": "code",
   "execution_count": 11,
   "metadata": {
    "scrolled": true
   },
   "outputs": [
    {
     "data": {
      "text/plain": [
       "DateCrawled              0\n",
       "Price                    0\n",
       "VehicleType          37490\n",
       "RegistrationYear         0\n",
       "Gearbox              19833\n",
       "Power                    0\n",
       "Model                19705\n",
       "Kilometer                0\n",
       "RegistrationMonth        0\n",
       "FuelType             32895\n",
       "Brand                    0\n",
       "Repaired             71154\n",
       "DateCreated              0\n",
       "NumberOfPictures         0\n",
       "PostalCode               0\n",
       "LastSeen                 0\n",
       "dtype: int64"
      ]
     },
     "execution_count": 11,
     "metadata": {},
     "output_type": "execute_result"
    }
   ],
   "source": [
    "data.isna().sum()"
   ]
  },
  {
   "cell_type": "code",
   "execution_count": 12,
   "metadata": {
    "scrolled": true
   },
   "outputs": [
    {
     "data": {
      "text/plain": [
       "DateCrawled          0\n",
       "Price                0\n",
       "VehicleType          0\n",
       "RegistrationYear     0\n",
       "Gearbox              0\n",
       "Power                0\n",
       "Model                0\n",
       "Kilometer            0\n",
       "RegistrationMonth    0\n",
       "FuelType             0\n",
       "Brand                0\n",
       "Repaired             0\n",
       "DateCreated          0\n",
       "NumberOfPictures     0\n",
       "PostalCode           0\n",
       "LastSeen             0\n",
       "dtype: int64"
      ]
     },
     "execution_count": 12,
     "metadata": {},
     "output_type": "execute_result"
    }
   ],
   "source": [
    "for column in ['VehicleType', 'Gearbox', 'Model', 'FuelType', 'Repaired']:\n",
    "    data[column].fillna(data[column].mode().iloc[0], inplace=True)\n",
    "data.isna().sum()"
   ]
  },
  {
   "cell_type": "code",
   "execution_count": 13,
   "metadata": {
    "scrolled": true
   },
   "outputs": [
    {
     "data": {
      "image/png": "[encoded data removed]",
      "text/plain": [
       "<Figure size 432x288 with 1 Axes>"
      ]
     },
     "metadata": {
      "needs_background": "light"
     },
     "output_type": "display_data"
    },
    {
     "data": {
      "image/png": "[encoded data removed]",
      "text/plain": [
       "<Figure size 432x288 with 1 Axes>"
      ]
     },
     "metadata": {
      "needs_background": "light"
     },
     "output_type": "display_data"
    },
    {
     "data": {
      "image/png": "[encoded data removed]",
      "text/plain": [
       "<Figure size 432x288 with 1 Axes>"
      ]
     },
     "metadata": {
      "needs_background": "light"
     },
     "output_type": "display_data"
    },
    {
     "data": {
      "image/png": "[encoded data removed]",
      "text/plain": [
       "<Figure size 432x288 with 1 Axes>"
      ]
     },
     "metadata": {
      "needs_background": "light"
     },
     "output_type": "display_data"
    }
   ],
   "source": [
    "for column in ['VehicleType', 'Gearbox', 'FuelType', 'Repaired']:\n",
    "    pd.DataFrame(data[column].value_counts()).plot(kind='bar', legend=None)\n",
    "    plt.title(column)\n",
    "    plt.show()"
   ]
  },
  {
   "cell_type": "code",
   "execution_count": 14,
   "metadata": {
    "scrolled": true
   },
   "outputs": [
    {
     "data": {
      "text/plain": [
       "DateCrawled          datetime64[ns]\n",
       "Price                         int64\n",
       "VehicleType                  object\n",
       "RegistrationYear              int64\n",
       "Gearbox                      object\n",
       "Power                         int64\n",
       "Model                        object\n",
       "Kilometer                     int64\n",
       "RegistrationMonth             int64\n",
       "FuelType                     object\n",
       "Brand                        object\n",
       "Repaired                     object\n",
       "DateCreated          datetime64[ns]\n",
       "NumberOfPictures              int64\n",
       "PostalCode                    int64\n",
       "LastSeen             datetime64[ns]\n",
       "dtype: object"
      ]
     },
     "execution_count": 14,
     "metadata": {},
     "output_type": "execute_result"
    }
   ],
   "source": [
    "data.dtypes"
   ]
  },
  {
   "cell_type": "code",
   "execution_count": 15,
   "metadata": {
    "scrolled": true
   },
   "outputs": [
    {
     "data": {
      "text/html": [
       "<div>\n",
       "<style scoped>\n",
       "    .dataframe tbody tr th:only-of-type {\n",
       "        vertical-align: middle;\n",
       "    }\n",
       "\n",
       "    .dataframe tbody tr th {\n",
       "        vertical-align: top;\n",
       "    }\n",
       "\n",
       "    .dataframe thead th {\n",
       "        text-align: right;\n",
       "    }\n",
       "</style>\n",
       "<table border=\"1\" class=\"dataframe\">\n",
       "  <thead>\n",
       "    <tr style=\"text-align: right;\">\n",
       "      <th></th>\n",
       "      <th>count</th>\n",
       "      <th>mean</th>\n",
       "      <th>std</th>\n",
       "      <th>min</th>\n",
       "      <th>25%</th>\n",
       "      <th>50%</th>\n",
       "      <th>75%</th>\n",
       "      <th>max</th>\n",
       "    </tr>\n",
       "  </thead>\n",
       "  <tbody>\n",
       "    <tr>\n",
       "      <th>Price</th>\n",
       "      <td>354369.0</td>\n",
       "      <td>4416.656776</td>\n",
       "      <td>4514.158514</td>\n",
       "      <td>0.0</td>\n",
       "      <td>1050.0</td>\n",
       "      <td>2700.0</td>\n",
       "      <td>6400.0</td>\n",
       "      <td>20000.0</td>\n",
       "    </tr>\n",
       "    <tr>\n",
       "      <th>RegistrationYear</th>\n",
       "      <td>354369.0</td>\n",
       "      <td>2004.234448</td>\n",
       "      <td>90.227958</td>\n",
       "      <td>1000.0</td>\n",
       "      <td>1999.0</td>\n",
       "      <td>2003.0</td>\n",
       "      <td>2008.0</td>\n",
       "      <td>9999.0</td>\n",
       "    </tr>\n",
       "    <tr>\n",
       "      <th>Power</th>\n",
       "      <td>354369.0</td>\n",
       "      <td>110.094337</td>\n",
       "      <td>189.850405</td>\n",
       "      <td>0.0</td>\n",
       "      <td>69.0</td>\n",
       "      <td>105.0</td>\n",
       "      <td>143.0</td>\n",
       "      <td>20000.0</td>\n",
       "    </tr>\n",
       "    <tr>\n",
       "      <th>Kilometer</th>\n",
       "      <td>354369.0</td>\n",
       "      <td>128211.172535</td>\n",
       "      <td>37905.341530</td>\n",
       "      <td>5000.0</td>\n",
       "      <td>125000.0</td>\n",
       "      <td>150000.0</td>\n",
       "      <td>150000.0</td>\n",
       "      <td>150000.0</td>\n",
       "    </tr>\n",
       "    <tr>\n",
       "      <th>RegistrationMonth</th>\n",
       "      <td>354369.0</td>\n",
       "      <td>5.714645</td>\n",
       "      <td>3.726421</td>\n",
       "      <td>0.0</td>\n",
       "      <td>3.0</td>\n",
       "      <td>6.0</td>\n",
       "      <td>9.0</td>\n",
       "      <td>12.0</td>\n",
       "    </tr>\n",
       "    <tr>\n",
       "      <th>NumberOfPictures</th>\n",
       "      <td>354369.0</td>\n",
       "      <td>0.000000</td>\n",
       "      <td>0.000000</td>\n",
       "      <td>0.0</td>\n",
       "      <td>0.0</td>\n",
       "      <td>0.0</td>\n",
       "      <td>0.0</td>\n",
       "      <td>0.0</td>\n",
       "    </tr>\n",
       "    <tr>\n",
       "      <th>PostalCode</th>\n",
       "      <td>354369.0</td>\n",
       "      <td>50508.689087</td>\n",
       "      <td>25783.096248</td>\n",
       "      <td>1067.0</td>\n",
       "      <td>30165.0</td>\n",
       "      <td>49413.0</td>\n",
       "      <td>71083.0</td>\n",
       "      <td>99998.0</td>\n",
       "    </tr>\n",
       "  </tbody>\n",
       "</table>\n",
       "</div>"
      ],
      "text/plain": [
       "                      count           mean           std     min       25%  \\\n",
       "Price              354369.0    4416.656776   4514.158514     0.0    1050.0   \n",
       "RegistrationYear   354369.0    2004.234448     90.227958  1000.0    1999.0   \n",
       "Power              354369.0     110.094337    189.850405     0.0      69.0   \n",
       "Kilometer          354369.0  128211.172535  37905.341530  5000.0  125000.0   \n",
       "RegistrationMonth  354369.0       5.714645      3.726421     0.0       3.0   \n",
       "NumberOfPictures   354369.0       0.000000      0.000000     0.0       0.0   \n",
       "PostalCode         354369.0   50508.689087  25783.096248  1067.0   30165.0   \n",
       "\n",
       "                        50%       75%       max  \n",
       "Price                2700.0    6400.0   20000.0  \n",
       "RegistrationYear     2003.0    2008.0    9999.0  \n",
       "Power                 105.0     143.0   20000.0  \n",
       "Kilometer          150000.0  150000.0  150000.0  \n",
       "RegistrationMonth       6.0       9.0      12.0  \n",
       "NumberOfPictures        0.0       0.0       0.0  \n",
       "PostalCode          49413.0   71083.0   99998.0  "
      ]
     },
     "execution_count": 15,
     "metadata": {},
     "output_type": "execute_result"
    }
   ],
   "source": [
    "data.describe().T"
   ]
  },
  {
   "cell_type": "code",
   "execution_count": 16,
   "metadata": {},
   "outputs": [],
   "source": [
    "data.drop(columns=['RegistrationMonth', 'NumberOfPictures'], inplace=True)"
   ]
  },
  {
   "cell_type": "code",
   "execution_count": 17,
   "metadata": {
    "scrolled": true
   },
   "outputs": [
    {
     "data": {
      "text/plain": [
       "<AxesSubplot:xlabel='Price', ylabel='Density'>"
      ]
     },
     "execution_count": 17,
     "metadata": {},
     "output_type": "execute_result"
    },
    {
     "data": {
      "image/png": "[encoded data removed]",
      "text/plain": [
       "<Figure size 720x360 with 1 Axes>"
      ]
     },
     "metadata": {
      "needs_background": "light"
     },
     "output_type": "display_data"
    }
   ],
   "source": [
    "plt.figure(figsize=(10, 5))\n",
    "\n",
    "ax = sns.histplot(data['Price'], stat='density')\n",
    "sns.kdeplot(data['Price'], color='red', ax=ax);"
   ]
  },
  {
   "cell_type": "code",
   "execution_count": 18,
   "metadata": {
    "scrolled": false
   },
   "outputs": [
    {
     "data": {
      "text/plain": [
       "Price                1.430609\n",
       "RegistrationYear    74.621005\n",
       "Power               60.157196\n",
       "Kilometer           -1.724119\n",
       "PostalCode           0.077054\n",
       "dtype: float64"
      ]
     },
     "execution_count": 18,
     "metadata": {},
     "output_type": "execute_result"
    }
   ],
   "source": [
    "data.skew()"
   ]
  },
  {
   "cell_type": "code",
   "execution_count": 19,
   "metadata": {},
   "outputs": [
    {
     "data": {
      "text/plain": [
       "200.0"
      ]
     },
     "execution_count": 19,
     "metadata": {},
     "output_type": "execute_result"
    }
   ],
   "source": [
    "data['Price'].quantile(0.05)"
   ]
  },
  {
   "cell_type": "code",
   "execution_count": 20,
   "metadata": {
    "scrolled": false
   },
   "outputs": [
    {
     "data": {
      "image/png": "[encoded data removed]",
      "text/plain": [
       "<Figure size 1080x720 with 2 Axes>"
      ]
     },
     "metadata": {
      "needs_background": "light"
     },
     "output_type": "display_data"
    },
    {
     "data": {
      "image/png": "[encoded data removed]",
      "text/plain": [
       "<Figure size 1080x720 with 2 Axes>"
      ]
     },
     "metadata": {
      "needs_background": "light"
     },
     "output_type": "display_data"
    },
    {
     "data": {
      "image/png": "[encoded data removed]",
      "text/plain": [
       "<Figure size 1080x720 with 2 Axes>"
      ]
     },
     "metadata": {
      "needs_background": "light"
     },
     "output_type": "display_data"
    },
    {
     "data": {
      "image/png": "[encoded data removed]",
      "text/plain": [
       "<Figure size 1080x720 with 2 Axes>"
      ]
     },
     "metadata": {
      "needs_background": "light"
     },
     "output_type": "display_data"
    }
   ],
   "source": [
    "for index in ['Brand', 'VehicleType', 'FuelType', 'Gearbox']:\n",
    "    plt.figure(figsize=(15, 10))\n",
    "    sns.heatmap(\n",
    "        data[data['Price'] <= data['Price'].quantile(0.05)]\n",
    "        .pivot_table(\n",
    "            index=index, \n",
    "            columns='Repaired', \n",
    "            values='Price', \n",
    "            aggfunc='count'),\n",
    "         annot=True, fmt='g',\n",
    "         linewidth=0.5, linecolor='black', cmap=sns.color_palette(\"dark:salmon_r\", as_cmap=True)\n",
    "    )\n",
    "    plt.show()"
   ]
  },
  {
   "cell_type": "code",
   "execution_count": 21,
   "metadata": {},
   "outputs": [],
   "source": [
    "data = data[data['Price'] > data['Price'].quantile(0.05)]"
   ]
  },
  {
   "cell_type": "code",
   "execution_count": 22,
   "metadata": {},
   "outputs": [
    {
     "data": {
      "text/plain": [
       "(334921, 14)"
      ]
     },
     "execution_count": 22,
     "metadata": {},
     "output_type": "execute_result"
    }
   ],
   "source": [
    "data.shape"
   ]
  },
  {
   "cell_type": "code",
   "execution_count": 23,
   "metadata": {},
   "outputs": [
    {
     "name": "stdout",
     "output_type": "stream",
     "text": [
      "1985.5 2021.5\n"
     ]
    }
   ],
   "source": [
    "def iqr(column):\n",
    "    iqr = data[column].quantile(0.75) - data[column].quantile(0.25)\n",
    "    lower = data[column].quantile(0.25) - 1.5*iqr\n",
    "    upper = data[column].quantile(0.75) + 1.5*iqr\n",
    "    return lower, upper\n",
    "\n",
    "\n",
    "lower, upper = iqr('RegistrationYear')\n",
    "print(lower, upper)"
   ]
  },
  {
   "cell_type": "code",
   "execution_count": 24,
   "metadata": {},
   "outputs": [],
   "source": [
    "data = data[(data['RegistrationYear'] >= lower) & (data['RegistrationYear'] <= upper)]"
   ]
  },
  {
   "cell_type": "code",
   "execution_count": 25,
   "metadata": {},
   "outputs": [
    {
     "data": {
      "text/plain": [
       "329440"
      ]
     },
     "execution_count": 25,
     "metadata": {},
     "output_type": "execute_result"
    }
   ],
   "source": [
    "len(data)"
   ]
  },
  {
   "cell_type": "code",
   "execution_count": 26,
   "metadata": {},
   "outputs": [
    {
     "name": "stdout",
     "output_type": "stream",
     "text": [
      "-27.0 245.0\n"
     ]
    }
   ],
   "source": [
    "lower, upper = iqr('Power')\n",
    "print(lower, upper)"
   ]
  },
  {
   "cell_type": "code",
   "execution_count": 27,
   "metadata": {},
   "outputs": [],
   "source": [
    "data = data[(data['Power'] != 0) & (data['Power'] <= 245)]"
   ]
  },
  {
   "cell_type": "code",
   "execution_count": 28,
   "metadata": {},
   "outputs": [
    {
     "data": {
      "text/plain": [
       "289947"
      ]
     },
     "execution_count": 28,
     "metadata": {},
     "output_type": "execute_result"
    }
   ],
   "source": [
    "len(data)"
   ]
  },
  {
   "cell_type": "code",
   "execution_count": 29,
   "metadata": {},
   "outputs": [
    {
     "name": "stdout",
     "output_type": "stream",
     "text": [
      "Spearman\n"
     ]
    },
    {
     "data": {
      "text/html": [
       "<div>\n",
       "<style scoped>\n",
       "    .dataframe tbody tr th:only-of-type {\n",
       "        vertical-align: middle;\n",
       "    }\n",
       "\n",
       "    .dataframe tbody tr th {\n",
       "        vertical-align: top;\n",
       "    }\n",
       "\n",
       "    .dataframe thead th {\n",
       "        text-align: right;\n",
       "    }\n",
       "</style>\n",
       "<table border=\"1\" class=\"dataframe\">\n",
       "  <thead>\n",
       "    <tr style=\"text-align: right;\">\n",
       "      <th></th>\n",
       "      <th>Price</th>\n",
       "      <th>RegistrationYear</th>\n",
       "      <th>Power</th>\n",
       "      <th>Kilometer</th>\n",
       "      <th>PostalCode</th>\n",
       "    </tr>\n",
       "  </thead>\n",
       "  <tbody>\n",
       "    <tr>\n",
       "      <th>Price</th>\n",
       "      <td>1.000000</td>\n",
       "      <td>0.645320</td>\n",
       "      <td>0.506092</td>\n",
       "      <td>-0.381637</td>\n",
       "      <td>0.062117</td>\n",
       "    </tr>\n",
       "    <tr>\n",
       "      <th>RegistrationYear</th>\n",
       "      <td>0.645320</td>\n",
       "      <td>1.000000</td>\n",
       "      <td>0.150855</td>\n",
       "      <td>-0.382371</td>\n",
       "      <td>0.029301</td>\n",
       "    </tr>\n",
       "    <tr>\n",
       "      <th>Power</th>\n",
       "      <td>0.506092</td>\n",
       "      <td>0.150855</td>\n",
       "      <td>1.000000</td>\n",
       "      <td>0.121345</td>\n",
       "      <td>0.063797</td>\n",
       "    </tr>\n",
       "    <tr>\n",
       "      <th>Kilometer</th>\n",
       "      <td>-0.381637</td>\n",
       "      <td>-0.382371</td>\n",
       "      <td>0.121345</td>\n",
       "      <td>1.000000</td>\n",
       "      <td>-0.018616</td>\n",
       "    </tr>\n",
       "    <tr>\n",
       "      <th>PostalCode</th>\n",
       "      <td>0.062117</td>\n",
       "      <td>0.029301</td>\n",
       "      <td>0.063797</td>\n",
       "      <td>-0.018616</td>\n",
       "      <td>1.000000</td>\n",
       "    </tr>\n",
       "  </tbody>\n",
       "</table>\n",
       "</div>"
      ],
      "text/plain": [
       "                     Price  RegistrationYear     Power  Kilometer  PostalCode\n",
       "Price             1.000000          0.645320  0.506092  -0.381637    0.062117\n",
       "RegistrationYear  0.645320          1.000000  0.150855  -0.382371    0.029301\n",
       "Power             0.506092          0.150855  1.000000   0.121345    0.063797\n",
       "Kilometer        -0.381637         -0.382371  0.121345   1.000000   -0.018616\n",
       "PostalCode        0.062117          0.029301  0.063797  -0.018616    1.000000"
      ]
     },
     "metadata": {},
     "output_type": "display_data"
    },
    {
     "name": "stdout",
     "output_type": "stream",
     "text": [
      "Pearson\n"
     ]
    },
    {
     "data": {
      "text/html": [
       "<div>\n",
       "<style scoped>\n",
       "    .dataframe tbody tr th:only-of-type {\n",
       "        vertical-align: middle;\n",
       "    }\n",
       "\n",
       "    .dataframe tbody tr th {\n",
       "        vertical-align: top;\n",
       "    }\n",
       "\n",
       "    .dataframe thead th {\n",
       "        text-align: right;\n",
       "    }\n",
       "</style>\n",
       "<table border=\"1\" class=\"dataframe\">\n",
       "  <thead>\n",
       "    <tr style=\"text-align: right;\">\n",
       "      <th></th>\n",
       "      <th>Price</th>\n",
       "      <th>RegistrationYear</th>\n",
       "      <th>Power</th>\n",
       "      <th>Kilometer</th>\n",
       "      <th>PostalCode</th>\n",
       "    </tr>\n",
       "  </thead>\n",
       "  <tbody>\n",
       "    <tr>\n",
       "      <th>Price</th>\n",
       "      <td>1.000000</td>\n",
       "      <td>0.529967</td>\n",
       "      <td>0.489080</td>\n",
       "      <td>-0.410741</td>\n",
       "      <td>0.062961</td>\n",
       "    </tr>\n",
       "    <tr>\n",
       "      <th>RegistrationYear</th>\n",
       "      <td>0.529967</td>\n",
       "      <td>1.000000</td>\n",
       "      <td>0.112437</td>\n",
       "      <td>-0.349737</td>\n",
       "      <td>0.021161</td>\n",
       "    </tr>\n",
       "    <tr>\n",
       "      <th>Power</th>\n",
       "      <td>0.489080</td>\n",
       "      <td>0.112437</td>\n",
       "      <td>1.000000</td>\n",
       "      <td>0.111525</td>\n",
       "      <td>0.060992</td>\n",
       "    </tr>\n",
       "    <tr>\n",
       "      <th>Kilometer</th>\n",
       "      <td>-0.410741</td>\n",
       "      <td>-0.349737</td>\n",
       "      <td>0.111525</td>\n",
       "      <td>1.000000</td>\n",
       "      <td>-0.012492</td>\n",
       "    </tr>\n",
       "    <tr>\n",
       "      <th>PostalCode</th>\n",
       "      <td>0.062961</td>\n",
       "      <td>0.021161</td>\n",
       "      <td>0.060992</td>\n",
       "      <td>-0.012492</td>\n",
       "      <td>1.000000</td>\n",
       "    </tr>\n",
       "  </tbody>\n",
       "</table>\n",
       "</div>"
      ],
      "text/plain": [
       "                     Price  RegistrationYear     Power  Kilometer  PostalCode\n",
       "Price             1.000000          0.529967  0.489080  -0.410741    0.062961\n",
       "RegistrationYear  0.529967          1.000000  0.112437  -0.349737    0.021161\n",
       "Power             0.489080          0.112437  1.000000   0.111525    0.060992\n",
       "Kilometer        -0.410741         -0.349737  0.111525   1.000000   -0.012492\n",
       "PostalCode        0.062961          0.021161  0.060992  -0.012492    1.000000"
      ]
     },
     "execution_count": 29,
     "metadata": {},
     "output_type": "execute_result"
    }
   ],
   "source": [
    "print('Spearman')\n",
    "display(data.corr(method='spearman'))\n",
    "print('Pearson')\n",
    "data.corr()"
   ]
  },
  {
   "cell_type": "code",
   "execution_count": 30,
   "metadata": {},
   "outputs": [],
   "source": [
    "data = data.drop(columns='PostalCode')"
   ]
  },
  {
   "cell_type": "code",
   "execution_count": 31,
   "metadata": {
    "scrolled": true
   },
   "outputs": [
    {
     "data": {
      "text/plain": [
       "<Figure size 1080x720 with 0 Axes>"
      ]
     },
     "metadata": {},
     "output_type": "display_data"
    },
    {
     "data": {
      "image/png": "[encoded data removed]",
      "text/plain": [
       "<Figure size 432x288 with 1 Axes>"
      ]
     },
     "metadata": {
      "needs_background": "light"
     },
     "output_type": "display_data"
    },
    {
     "data": {
      "text/plain": [
       "<Figure size 1080x720 with 0 Axes>"
      ]
     },
     "metadata": {},
     "output_type": "display_data"
    },
    {
     "data": {
      "image/png": "[encoded data removed]",
      "text/plain": [
       "<Figure size 432x288 with 1 Axes>"
      ]
     },
     "metadata": {
      "needs_background": "light"
     },
     "output_type": "display_data"
    },
    {
     "data": {
      "text/plain": [
       "<Figure size 1080x720 with 0 Axes>"
      ]
     },
     "metadata": {},
     "output_type": "display_data"
    },
    {
     "data": {
      "image/png": "[encoded data removed]",
      "text/plain": [
       "<Figure size 432x288 with 1 Axes>"
      ]
     },
     "metadata": {
      "needs_background": "light"
     },
     "output_type": "display_data"
    }
   ],
   "source": [
    "for column in ['DateCreated', 'DateCrawled', 'LastSeen']:\n",
    "    plt.figure(figsize=(15, 10))\n",
    "    data[[column, 'Price']].set_index(column).sort_index()['2016': ].resample('1D').mean().plot()\n",
    "    plt.show()"
   ]
  },
  {
   "cell_type": "code",
   "execution_count": 32,
   "metadata": {},
   "outputs": [],
   "source": [
    "data.drop(columns=['DateCreated', 'DateCrawled', 'LastSeen'], inplace=True)"
   ]
  },
  {
   "cell_type": "code",
   "execution_count": 33,
   "metadata": {},
   "outputs": [
    {
     "data": {
      "text/plain": [
       "47896"
      ]
     },
     "execution_count": 33,
     "metadata": {},
     "output_type": "execute_result"
    }
   ],
   "source": [
    "data.duplicated().sum()"
   ]
  },
  {
   "cell_type": "code",
   "execution_count": 34,
   "metadata": {},
   "outputs": [
    {
     "data": {
      "text/plain": [
       "(242051, 10)"
      ]
     },
     "execution_count": 34,
     "metadata": {},
     "output_type": "execute_result"
    }
   ],
   "source": [
    "data.drop_duplicates(inplace=True)\n",
    "data.shape"
   ]
  },
  {
   "cell_type": "code",
   "execution_count": 35,
   "metadata": {},
   "outputs": [],
   "source": [
    "data.reset_index(drop=True, inplace=True)"
   ]
  },
  {
   "cell_type": "code",
   "execution_count": 36,
   "metadata": {
    "scrolled": true
   },
   "outputs": [
    {
     "data": {
      "text/html": [
       "<div>\n",
       "<style scoped>\n",
       "    .dataframe tbody tr th:only-of-type {\n",
       "        vertical-align: middle;\n",
       "    }\n",
       "\n",
       "    .dataframe tbody tr th {\n",
       "        vertical-align: top;\n",
       "    }\n",
       "\n",
       "    .dataframe thead th {\n",
       "        text-align: right;\n",
       "    }\n",
       "</style>\n",
       "<table border=\"1\" class=\"dataframe\">\n",
       "  <thead>\n",
       "    <tr style=\"text-align: right;\">\n",
       "      <th></th>\n",
       "      <th>count</th>\n",
       "      <th>mean</th>\n",
       "      <th>std</th>\n",
       "      <th>min</th>\n",
       "      <th>25%</th>\n",
       "      <th>50%</th>\n",
       "      <th>75%</th>\n",
       "      <th>max</th>\n",
       "    </tr>\n",
       "  </thead>\n",
       "  <tbody>\n",
       "    <tr>\n",
       "      <th>Price</th>\n",
       "      <td>242051.0</td>\n",
       "      <td>4859.626525</td>\n",
       "      <td>4513.064098</td>\n",
       "      <td>202.0</td>\n",
       "      <td>1450.0</td>\n",
       "      <td>3250.0</td>\n",
       "      <td>6950.0</td>\n",
       "      <td>20000.0</td>\n",
       "    </tr>\n",
       "    <tr>\n",
       "      <th>RegistrationYear</th>\n",
       "      <td>242051.0</td>\n",
       "      <td>2003.932915</td>\n",
       "      <td>6.233800</td>\n",
       "      <td>1986.0</td>\n",
       "      <td>2000.0</td>\n",
       "      <td>2004.0</td>\n",
       "      <td>2008.0</td>\n",
       "      <td>2019.0</td>\n",
       "    </tr>\n",
       "    <tr>\n",
       "      <th>Power</th>\n",
       "      <td>242051.0</td>\n",
       "      <td>117.820715</td>\n",
       "      <td>44.864393</td>\n",
       "      <td>1.0</td>\n",
       "      <td>80.0</td>\n",
       "      <td>113.0</td>\n",
       "      <td>147.0</td>\n",
       "      <td>245.0</td>\n",
       "    </tr>\n",
       "    <tr>\n",
       "      <th>Kilometer</th>\n",
       "      <td>242051.0</td>\n",
       "      <td>126978.033555</td>\n",
       "      <td>37475.474164</td>\n",
       "      <td>5000.0</td>\n",
       "      <td>125000.0</td>\n",
       "      <td>150000.0</td>\n",
       "      <td>150000.0</td>\n",
       "      <td>150000.0</td>\n",
       "    </tr>\n",
       "  </tbody>\n",
       "</table>\n",
       "</div>"
      ],
      "text/plain": [
       "                     count           mean           std     min       25%  \\\n",
       "Price             242051.0    4859.626525   4513.064098   202.0    1450.0   \n",
       "RegistrationYear  242051.0    2003.932915      6.233800  1986.0    2000.0   \n",
       "Power             242051.0     117.820715     44.864393     1.0      80.0   \n",
       "Kilometer         242051.0  126978.033555  37475.474164  5000.0  125000.0   \n",
       "\n",
       "                       50%       75%       max  \n",
       "Price               3250.0    6950.0   20000.0  \n",
       "RegistrationYear    2004.0    2008.0    2019.0  \n",
       "Power                113.0     147.0     245.0  \n",
       "Kilometer         150000.0  150000.0  150000.0  "
      ]
     },
     "execution_count": 36,
     "metadata": {},
     "output_type": "execute_result"
    }
   ],
   "source": [
    "data.describe().T"
   ]
  },
  {
   "cell_type": "code",
   "execution_count": 37,
   "metadata": {
    "scrolled": true
   },
   "outputs": [
    {
     "data": {
      "text/plain": [
       "Price               1.328982\n",
       "RegistrationYear    0.056316\n",
       "Power               0.537402\n",
       "Kilometer          -1.552133\n",
       "dtype: float64"
      ]
     },
     "execution_count": 37,
     "metadata": {},
     "output_type": "execute_result"
    }
   ],
   "source": [
    "data.skew()"
   ]
  },
  {
   "cell_type": "code",
   "execution_count": 38,
   "metadata": {},
   "outputs": [
    {
     "data": {
      "image/png": "[encoded data removed]",
      "text/plain": [
       "<Figure size 720x360 with 1 Axes>"
      ]
     },
     "metadata": {
      "needs_background": "light"
     },
     "output_type": "display_data"
    },
    {
     "data": {
      "image/png": "[encoded data removed]",
      "text/plain": [
       "<Figure size 720x360 with 1 Axes>"
      ]
     },
     "metadata": {
      "needs_background": "light"
     },
     "output_type": "display_data"
    },
    {
     "data": {
      "image/png": "[encoded data removed]",
      "text/plain": [
       "<Figure size 720x360 with 1 Axes>"
      ]
     },
     "metadata": {
      "needs_background": "light"
     },
     "output_type": "display_data"
    },
    {
     "data": {
      "image/png": "[encoded data removed]",
      "text/plain": [
       "<Figure size 720x360 with 1 Axes>"
      ]
     },
     "metadata": {
      "needs_background": "light"
     },
     "output_type": "display_data"
    }
   ],
   "source": [
    "for column in ['RegistrationYear', 'Power', 'Kilometer', 'Price']:\n",
    "    plt.figure(figsize=(10, 5))\n",
    "    ax = sns.histplot(data[column], stat='density')\n",
    "    sns.kdeplot(data[column], color='red', ax=ax)\n",
    "    plt.show()"
   ]
  },
  {
   "cell_type": "code",
   "execution_count": 39,
   "metadata": {},
   "outputs": [],
   "source": [
    "features = data.drop(columns='Price')\n",
    "target = data['Price']\n",
    "\n",
    "features_train, features_valid, target_train, target_valid =\\\n",
    "    train_test_split(features, target, test_size=0.4, random_state=12345)\n",
    "features_valid, features_test, target_valid, target_test =\\\n",
    "    train_test_split(features_valid, target_valid, test_size=0.5, random_state=12345)"
   ]
  },
  {
   "cell_type": "code",
   "execution_count": 40,
   "metadata": {},
   "outputs": [
    {
     "name": "stderr",
     "output_type": "stream",
     "text": [
      "/opt/conda/lib/python3.9/site-packages/pandas/core/indexing.py:1738: SettingWithCopyWarning: \n",
      "A value is trying to be set on a copy of a slice from a DataFrame.\n",
      "Try using .loc[row_indexer,col_indexer] = value instead\n",
      "\n",
      "See the caveats in the documentation: https://pandas.pydata.org/pandas-docs/stable/user_guide/indexing.html#returning-a-view-versus-a-copy\n",
      "  self._setitem_single_column(loc, value[:, i].tolist(), pi)\n",
      "/opt/conda/lib/python3.9/site-packages/pandas/core/indexing.py:1738: SettingWithCopyWarning: \n",
      "A value is trying to be set on a copy of a slice from a DataFrame.\n",
      "Try using .loc[row_indexer,col_indexer] = value instead\n",
      "\n",
      "See the caveats in the documentation: https://pandas.pydata.org/pandas-docs/stable/user_guide/indexing.html#returning-a-view-versus-a-copy\n",
      "  self._setitem_single_column(loc, value[:, i].tolist(), pi)\n"
     ]
    }
   ],
   "source": [
    "encoder = OrdinalEncoder(handle_unknown='use_encoded_value', unknown_value=-1)\n",
    "features_train.loc[:, ['Model', 'Brand', 'VehicleType', 'FuelType', 'Gearbox', 'Repaired']] =\\\n",
    "    encoder.fit_transform(features_train[['Model', 'Brand', 'VehicleType', 'FuelType', 'Gearbox', 'Repaired']])\n",
    "features_valid.loc[:, ['Model', 'Brand', 'VehicleType', 'FuelType', 'Gearbox', 'Repaired']] =\\\n",
    "    encoder.transform(features_valid[['Model', 'Brand', 'VehicleType', 'FuelType', 'Gearbox', 'Repaired']])\n",
    "features_test.loc[:, ['Model', 'Brand', 'VehicleType', 'FuelType', 'Gearbox', 'Repaired']] =\\\n",
    "    encoder.transform(features_test[['Model', 'Brand', 'VehicleType', 'FuelType', 'Gearbox', 'Repaired']])\n",
    "\n",
    "\n",
    "#scaler = StandardScaler()\n",
    "#target_train = scaler.fit_transform(target_train.values.reshape(-1, 1))\n",
    "#target_valid = scaler.transform(target_valid.values.reshape(-1, 1))\n",
    "#target_test = scaler.transform(target_test.values.reshape(-1, 1))\n",
    "\n",
    "\n",
    "minmax = MinMaxScaler()\n",
    "features_train.loc[:, ['RegistrationYear', 'Power', 'Kilometer']] =\\\n",
    "    minmax.fit_transform(features_train[['RegistrationYear', 'Power', 'Kilometer']])\n",
    "features_valid.loc[:, ['RegistrationYear', 'Power', 'Kilometer']] =\\\n",
    "    minmax.transform(features_valid[['RegistrationYear', 'Power', 'Kilometer']])\n",
    "features_test.loc[:, ['RegistrationYear', 'Power', 'Kilometer']] =\\\n",
    "    minmax.transform(features_test[['RegistrationYear', 'Power', 'Kilometer']])"
   ]
  },
  {
   "cell_type": "markdown",
   "metadata": {
    "lang": "en"
   },
   "source": [
    "**Description of the first stage:**\n",
    "\n",
    "1. A total of 6 columns were deleted:\n",
    "\n",
    "    RegistrationMonth: Column values ​​range from 0 to 12, meaning some months were recorded from 0 to 11 and others were recorded from 1 to 12. There is no explicit way to clean the data of such inaccuracies that could negatively impact the model. Moreover, there is no reason to believe that the month a car is registered affects its price today. Therefore, it was decided to remove this column.\n",
    "    \n",
    "    DateCreated, DateCrawled and LastSeen do not explain either annual or seasonal trends, as they only cover a few months of 2016. Moreover, it is impossible to explain the dependence of price on such parameters.\n",
    "    \n",
    "    PostalCode correlates very weakly with the price of the car. Pearson and Spearman correlation coefficients are only 6%.\n",
    "    \n",
    "    NumberOfPictures only accepts zero values, so it does not carry additional information.\n",
    "    \n",
    "    \n",
    "2. RegistrationYear has been cleared of such absurd values as 9999 registration year.\n",
    "\n",
    "\n",
    "3. Power and Price were cleaned of near-zero values. Additionally, only cars with no more than 245 hp were kept, since the rest are outside the normal limits.\n",
    "\n",
    "\n",
    "4. Missing values for categorical variables were replaced by mode in the corresponding column.\n",
    "\n",
    "\n",
    "5. Duplicates in the data were removed and re-indexed. The implicit duplicates of rangerover and range_rover have also been processed.\n",
    "\n",
    "\n",
    "6. The following are most represented in the sample\n",
    "\n",
    "    car body types: sedan, small, wagon;\n",
    "    \n",
    "    models: golf, 3er, polo;\n",
    "    \n",
    "    brands: volkswagen, opel, bmw.\n",
    "    \n",
    "    Most of these cars run on gasoline, have a manual transmission and have not been repaired.\n",
    "    \n",
    "    \n",
    "7. Prices for the presented cars are normally distributed with a mean of 4075, a median of 2550, a standard deviation of 4041 and a skewness coefficient of 1.62. The remaining features are not normally distributed.\n",
    "\n",
    "\n",
    "8. The sample is divided into training, validation and test samples in a ratio of 60:20:20. Categorical features were coded ordinally, quantitative features were scaled."
   ]
  },
  {
   "cell_type": "markdown",
   "metadata": {
    "lang": "en"
   },
   "source": [
    "## Model training"
   ]
  },
  {
   "cell_type": "code",
   "execution_count": 41,
   "metadata": {},
   "outputs": [
    {
     "name": "stderr",
     "output_type": "stream",
     "text": [
      "/opt/conda/lib/python3.9/site-packages/lightgbm/engine.py:181: UserWarning: 'early_stopping_rounds' argument is deprecated and will be removed in a future release of LightGBM. Pass 'early_stopping()' callback via 'callbacks' argument instead.\n",
      "  _log_warning(\"'early_stopping_rounds' argument is deprecated and will be removed in a future release of LightGBM. \"\n"
     ]
    },
    {
     "name": "stdout",
     "output_type": "stream",
     "text": [
      "[1]\tvalid_0's rmse: 4365.58\n",
      "Training until validation scores don't improve for 30 rounds\n",
      "[2]\tvalid_0's rmse: 4235\n",
      "[3]\tvalid_0's rmse: 4113.31\n",
      "[4]\tvalid_0's rmse: 3995.58\n",
      "[5]\tvalid_0's rmse: 3888.49\n",
      "[6]\tvalid_0's rmse: 3775.3\n",
      "[7]\tvalid_0's rmse: 3675.65\n",
      "[8]\tvalid_0's rmse: 3574.57\n",
      "[9]\tvalid_0's rmse: 3480.24\n",
      "[10]\tvalid_0's rmse: 3396.63\n",
      "[11]\tvalid_0's rmse: 3314.78\n",
      "[12]\tvalid_0's rmse: 3242.37\n",
      "[13]\tvalid_0's rmse: 3169.66\n",
      "[14]\tvalid_0's rmse: 3106.33\n",
      "[15]\tvalid_0's rmse: 3042.73\n",
      "[16]\tvalid_0's rmse: 2983.42\n",
      "[17]\tvalid_0's rmse: 2930.22\n",
      "[18]\tvalid_0's rmse: 2876.01\n",
      "[19]\tvalid_0's rmse: 2825.44\n",
      "[20]\tvalid_0's rmse: 2781.88\n",
      "[21]\tvalid_0's rmse: 2741.03\n",
      "[22]\tvalid_0's rmse: 2699.5\n",
      "[23]\tvalid_0's rmse: 2657.53\n",
      "[24]\tvalid_0's rmse: 2623.27\n",
      "[25]\tvalid_0's rmse: 2586.89\n",
      "[26]\tvalid_0's rmse: 2556.33\n",
      "[27]\tvalid_0's rmse: 2525.96\n",
      "[28]\tvalid_0's rmse: 2498.27\n",
      "[29]\tvalid_0's rmse: 2469.31\n",
      "[30]\tvalid_0's rmse: 2446.69\n",
      "[31]\tvalid_0's rmse: 2421.21\n",
      "[32]\tvalid_0's rmse: 2400.48\n",
      "[33]\tvalid_0's rmse: 2380.42\n",
      "[34]\tvalid_0's rmse: 2358.87\n",
      "[35]\tvalid_0's rmse: 2339.39\n",
      "[36]\tvalid_0's rmse: 2322.68\n",
      "[37]\tvalid_0's rmse: 2303.89\n",
      "[38]\tvalid_0's rmse: 2288.01\n",
      "[39]\tvalid_0's rmse: 2271.62\n",
      "[40]\tvalid_0's rmse: 2255.64\n",
      "[41]\tvalid_0's rmse: 2241.61\n",
      "[42]\tvalid_0's rmse: 2227.95\n",
      "[43]\tvalid_0's rmse: 2213.81\n",
      "[44]\tvalid_0's rmse: 2199.29\n",
      "[45]\tvalid_0's rmse: 2187.37\n",
      "[46]\tvalid_0's rmse: 2176.13\n",
      "[47]\tvalid_0's rmse: 2164.64\n",
      "[48]\tvalid_0's rmse: 2152.74\n",
      "[49]\tvalid_0's rmse: 2141.26\n",
      "[50]\tvalid_0's rmse: 2129.75\n",
      "[51]\tvalid_0's rmse: 2120.36\n",
      "[52]\tvalid_0's rmse: 2111.35\n",
      "[53]\tvalid_0's rmse: 2101.14\n",
      "[54]\tvalid_0's rmse: 2093.48\n",
      "[55]\tvalid_0's rmse: 2085.18\n",
      "[56]\tvalid_0's rmse: 2077.18\n",
      "[57]\tvalid_0's rmse: 2069.28\n",
      "[58]\tvalid_0's rmse: 2060.43\n",
      "[59]\tvalid_0's rmse: 2055.11\n",
      "[60]\tvalid_0's rmse: 2048.24\n",
      "[61]\tvalid_0's rmse: 2041.22\n",
      "[62]\tvalid_0's rmse: 2034.57\n",
      "[63]\tvalid_0's rmse: 2028.3\n",
      "[64]\tvalid_0's rmse: 2021.53\n",
      "[65]\tvalid_0's rmse: 2014.24\n",
      "[66]\tvalid_0's rmse: 2007.71\n",
      "[67]\tvalid_0's rmse: 2003.11\n",
      "[68]\tvalid_0's rmse: 1996.88\n",
      "[69]\tvalid_0's rmse: 1991.94\n",
      "[70]\tvalid_0's rmse: 1986.24\n",
      "[71]\tvalid_0's rmse: 1978.23\n",
      "[72]\tvalid_0's rmse: 1973.21\n",
      "[73]\tvalid_0's rmse: 1968.45\n",
      "[74]\tvalid_0's rmse: 1962.72\n",
      "[75]\tvalid_0's rmse: 1959.26\n",
      "[76]\tvalid_0's rmse: 1955.14\n",
      "[77]\tvalid_0's rmse: 1950.24\n",
      "[78]\tvalid_0's rmse: 1945.67\n",
      "[79]\tvalid_0's rmse: 1941.69\n",
      "[80]\tvalid_0's rmse: 1937.73\n",
      "[81]\tvalid_0's rmse: 1934.57\n",
      "[82]\tvalid_0's rmse: 1930.9\n",
      "[83]\tvalid_0's rmse: 1928.14\n",
      "[84]\tvalid_0's rmse: 1924.82\n",
      "[85]\tvalid_0's rmse: 1919.77\n",
      "[86]\tvalid_0's rmse: 1916.36\n",
      "[87]\tvalid_0's rmse: 1913.45\n",
      "[88]\tvalid_0's rmse: 1910.79\n",
      "[89]\tvalid_0's rmse: 1907.27\n",
      "[90]\tvalid_0's rmse: 1904.58\n",
      "[91]\tvalid_0's rmse: 1902.32\n",
      "[92]\tvalid_0's rmse: 1899.19\n",
      "[93]\tvalid_0's rmse: 1895.3\n",
      "[94]\tvalid_0's rmse: 1892.82\n",
      "[95]\tvalid_0's rmse: 1889.37\n",
      "[96]\tvalid_0's rmse: 1885.73\n",
      "[97]\tvalid_0's rmse: 1883.51\n",
      "[98]\tvalid_0's rmse: 1881.19\n",
      "[99]\tvalid_0's rmse: 1877.97\n",
      "[100]\tvalid_0's rmse: 1875.83\n",
      "Did not meet early stopping. Best iteration is:\n",
      "[100]\tvalid_0's rmse: 1875.83\n",
      "Время обучения: 0:02:56.696938\n"
     ]
    }
   ],
   "source": [
    "params = {\n",
    "    'task': 'train', \n",
    "    'boosting': 'gbdt',\n",
    "    'objective': 'regression',\n",
    "    'num_leaves': 10,\n",
    "    'learning_rate': 0.05,\n",
    "    'metric': 'rmse',\n",
    "    'verbose': -1\n",
    "}\n",
    "\n",
    "\n",
    "lgb_train = lgb.Dataset(features_train, target_train)\n",
    "lgb_eval = lgb.Dataset(features_valid, target_valid, reference=lgb_train)\n",
    "\n",
    "start = datetime.now()\n",
    "model_gbdt = lgb.train(params,\n",
    "                 train_set=lgb_train,\n",
    "                 valid_sets=lgb_eval,\n",
    "                 early_stopping_rounds=30)\n",
    "stop = datetime.now()\n",
    "execution_time = stop - start\n",
    "\n",
    "print('Время обучения:', execution_time)"
   ]
  },
  {
   "cell_type": "code",
   "execution_count": 42,
   "metadata": {
    "scrolled": true
   },
   "outputs": [
    {
     "name": "stdout",
     "output_type": "stream",
     "text": [
      "[1]\tvalid_0's rmse: 4365.58\n",
      "[2]\tvalid_0's rmse: 4235\n",
      "[3]\tvalid_0's rmse: 4113.31\n",
      "[4]\tvalid_0's rmse: 3995.58\n",
      "[5]\tvalid_0's rmse: 3888.49\n",
      "[6]\tvalid_0's rmse: 3775.3\n",
      "[7]\tvalid_0's rmse: 3675.65\n",
      "[8]\tvalid_0's rmse: 3717.86\n",
      "[9]\tvalid_0's rmse: 3613.22\n",
      "[10]\tvalid_0's rmse: 3516.66\n",
      "[11]\tvalid_0's rmse: 3434.82\n",
      "[12]\tvalid_0's rmse: 3466.05\n",
      "[13]\tvalid_0's rmse: 3379.11\n",
      "[14]\tvalid_0's rmse: 3302.9\n",
      "[15]\tvalid_0's rmse: 3226.06\n",
      "[16]\tvalid_0's rmse: 3158.18\n",
      "[17]\tvalid_0's rmse: 3090.24\n",
      "[18]\tvalid_0's rmse: 3030.31\n",
      "[19]\tvalid_0's rmse: 2970.24\n",
      "[20]\tvalid_0's rmse: 2916.36\n",
      "[21]\tvalid_0's rmse: 2934.06\n",
      "[22]\tvalid_0's rmse: 2883.87\n",
      "[23]\tvalid_0's rmse: 2833.96\n",
      "[24]\tvalid_0's rmse: 2785.72\n",
      "[25]\tvalid_0's rmse: 2743.92\n",
      "[26]\tvalid_0's rmse: 2702.44\n",
      "[27]\tvalid_0's rmse: 2665.47\n",
      "[28]\tvalid_0's rmse: 2684.23\n",
      "[29]\tvalid_0's rmse: 2644.32\n",
      "[30]\tvalid_0's rmse: 2610.6\n",
      "[31]\tvalid_0's rmse: 2619.39\n",
      "[32]\tvalid_0's rmse: 2582.04\n",
      "[33]\tvalid_0's rmse: 2552.1\n",
      "[34]\tvalid_0's rmse: 2520.76\n",
      "[35]\tvalid_0's rmse: 2540.48\n",
      "[36]\tvalid_0's rmse: 2573.48\n",
      "[37]\tvalid_0's rmse: 2544.05\n",
      "[38]\tvalid_0's rmse: 2512.78\n",
      "[39]\tvalid_0's rmse: 2486.93\n",
      "[40]\tvalid_0's rmse: 2484.33\n",
      "[41]\tvalid_0's rmse: 2507.05\n",
      "[42]\tvalid_0's rmse: 2480.89\n",
      "[43]\tvalid_0's rmse: 2499.81\n",
      "[44]\tvalid_0's rmse: 2471.59\n",
      "[45]\tvalid_0's rmse: 2444.43\n",
      "[46]\tvalid_0's rmse: 2545.19\n",
      "[47]\tvalid_0's rmse: 2514.84\n",
      "[48]\tvalid_0's rmse: 2515.48\n",
      "[49]\tvalid_0's rmse: 2536.94\n",
      "[50]\tvalid_0's rmse: 2559.71\n",
      "[51]\tvalid_0's rmse: 2527.36\n",
      "[52]\tvalid_0's rmse: 2498.54\n",
      "[53]\tvalid_0's rmse: 2518.01\n",
      "[54]\tvalid_0's rmse: 2487.55\n",
      "[55]\tvalid_0's rmse: 2460.76\n",
      "[56]\tvalid_0's rmse: 2485.73\n",
      "[57]\tvalid_0's rmse: 2460.24\n",
      "[58]\tvalid_0's rmse: 2644.82\n",
      "[59]\tvalid_0's rmse: 2667.75\n",
      "[60]\tvalid_0's rmse: 2625.03\n",
      "[61]\tvalid_0's rmse: 2853.69\n",
      "[62]\tvalid_0's rmse: 2797.87\n",
      "[63]\tvalid_0's rmse: 2745.03\n",
      "[64]\tvalid_0's rmse: 2756.19\n",
      "[65]\tvalid_0's rmse: 2770.89\n",
      "[66]\tvalid_0's rmse: 2720.89\n",
      "[67]\tvalid_0's rmse: 2671.93\n",
      "[68]\tvalid_0's rmse: 2624.58\n",
      "[69]\tvalid_0's rmse: 2639.06\n",
      "[70]\tvalid_0's rmse: 2645.6\n",
      "[71]\tvalid_0's rmse: 2657.24\n",
      "[72]\tvalid_0's rmse: 2614.43\n",
      "[73]\tvalid_0's rmse: 2575.5\n",
      "[74]\tvalid_0's rmse: 2588.03\n",
      "[75]\tvalid_0's rmse: 2550.1\n",
      "[76]\tvalid_0's rmse: 2552.73\n",
      "[77]\tvalid_0's rmse: 2563.72\n",
      "[78]\tvalid_0's rmse: 2578.83\n",
      "[79]\tvalid_0's rmse: 2542.11\n",
      "[80]\tvalid_0's rmse: 2508.34\n",
      "[81]\tvalid_0's rmse: 2524.28\n",
      "[82]\tvalid_0's rmse: 2489.45\n",
      "[83]\tvalid_0's rmse: 2508.38\n",
      "[84]\tvalid_0's rmse: 2523.2\n",
      "[85]\tvalid_0's rmse: 2541.23\n",
      "[86]\tvalid_0's rmse: 2506.99\n",
      "[87]\tvalid_0's rmse: 2476.2\n",
      "[88]\tvalid_0's rmse: 2496.2\n",
      "[89]\tvalid_0's rmse: 2507.87\n",
      "[90]\tvalid_0's rmse: 2524.75\n",
      "[91]\tvalid_0's rmse: 2698.82\n",
      "[92]\tvalid_0's rmse: 2653.63\n",
      "[93]\tvalid_0's rmse: 2607.72\n",
      "[94]\tvalid_0's rmse: 2627.14\n",
      "[95]\tvalid_0's rmse: 2640.59\n",
      "[96]\tvalid_0's rmse: 2655.71\n",
      "[97]\tvalid_0's rmse: 2613.24\n",
      "[98]\tvalid_0's rmse: 2627.1\n",
      "[99]\tvalid_0's rmse: 2585.62\n",
      "[100]\tvalid_0's rmse: 2548.33\n",
      "0:01:48.983822\n"
     ]
    }
   ],
   "source": [
    "params = {\n",
    "    'task': 'train', \n",
    "    'boosting': 'dart',\n",
    "    'objective': 'regression',\n",
    "    'num_leaves': 10,\n",
    "    'learning_rate': 0.05,\n",
    "    'metric': 'rmse',\n",
    "    'verbose': -1\n",
    "}\n",
    "\n",
    "\n",
    "lgb_train = lgb.Dataset(features_train, target_train)\n",
    "lgb_eval = lgb.Dataset(features_valid, target_valid, reference=lgb_train)\n",
    "\n",
    "start = datetime.now()\n",
    "model_dart = lgb.train(params,\n",
    "                 train_set=lgb_train,\n",
    "                 valid_sets=lgb_eval)\n",
    "stop = datetime.now()\n",
    "execution_time = stop - start\n",
    "print(execution_time)"
   ]
  },
  {
   "cell_type": "code",
   "execution_count": 43,
   "metadata": {
    "scrolled": true
   },
   "outputs": [
    {
     "name": "stdout",
     "output_type": "stream",
     "text": [
      "[1]\tvalid_0's rmse: 4365.58\n",
      "[2]\tvalid_0's rmse: 4235\n",
      "[3]\tvalid_0's rmse: 4113.31\n",
      "[4]\tvalid_0's rmse: 3995.58\n",
      "[5]\tvalid_0's rmse: 3888.49\n",
      "[6]\tvalid_0's rmse: 3775.3\n",
      "[7]\tvalid_0's rmse: 3675.65\n",
      "[8]\tvalid_0's rmse: 3574.57\n",
      "[9]\tvalid_0's rmse: 3480.24\n",
      "[10]\tvalid_0's rmse: 3396.63\n",
      "[11]\tvalid_0's rmse: 3314.78\n",
      "[12]\tvalid_0's rmse: 3242.37\n",
      "[13]\tvalid_0's rmse: 3169.66\n",
      "[14]\tvalid_0's rmse: 3106.33\n",
      "[15]\tvalid_0's rmse: 3042.73\n",
      "[16]\tvalid_0's rmse: 2983.42\n",
      "[17]\tvalid_0's rmse: 2930.22\n",
      "[18]\tvalid_0's rmse: 2876.01\n",
      "[19]\tvalid_0's rmse: 2825.44\n",
      "[20]\tvalid_0's rmse: 2781.88\n",
      "[21]\tvalid_0's rmse: 2735.87\n",
      "[22]\tvalid_0's rmse: 2696.8\n",
      "[23]\tvalid_0's rmse: 2657.73\n",
      "[24]\tvalid_0's rmse: 2618.04\n",
      "[25]\tvalid_0's rmse: 2586.37\n",
      "[26]\tvalid_0's rmse: 2552.76\n",
      "[27]\tvalid_0's rmse: 2523.14\n",
      "[28]\tvalid_0's rmse: 2495.72\n",
      "[29]\tvalid_0's rmse: 2470.84\n",
      "[30]\tvalid_0's rmse: 2443.77\n",
      "[31]\tvalid_0's rmse: 2421.32\n",
      "[32]\tvalid_0's rmse: 2400.25\n",
      "[33]\tvalid_0's rmse: 2377.83\n",
      "[34]\tvalid_0's rmse: 2358.02\n",
      "[35]\tvalid_0's rmse: 2337.32\n",
      "[36]\tvalid_0's rmse: 2317.28\n",
      "[37]\tvalid_0's rmse: 2298.61\n",
      "[38]\tvalid_0's rmse: 2282.16\n",
      "[39]\tvalid_0's rmse: 2265.89\n",
      "[40]\tvalid_0's rmse: 2250.52\n",
      "[41]\tvalid_0's rmse: 2236.89\n",
      "[42]\tvalid_0's rmse: 2223.48\n",
      "[43]\tvalid_0's rmse: 2210.59\n",
      "[44]\tvalid_0's rmse: 2196.86\n",
      "[45]\tvalid_0's rmse: 2183.83\n",
      "[46]\tvalid_0's rmse: 2171.55\n",
      "[47]\tvalid_0's rmse: 2159.74\n",
      "[48]\tvalid_0's rmse: 2148.77\n",
      "[49]\tvalid_0's rmse: 2137.02\n",
      "[50]\tvalid_0's rmse: 2126.57\n",
      "[51]\tvalid_0's rmse: 2116.93\n",
      "[52]\tvalid_0's rmse: 2109\n",
      "[53]\tvalid_0's rmse: 2098.96\n",
      "[54]\tvalid_0's rmse: 2090.43\n",
      "[55]\tvalid_0's rmse: 2081.76\n",
      "[56]\tvalid_0's rmse: 2072.68\n",
      "[57]\tvalid_0's rmse: 2065.27\n",
      "[58]\tvalid_0's rmse: 2057.47\n",
      "[59]\tvalid_0's rmse: 2050.63\n",
      "[60]\tvalid_0's rmse: 2043.55\n",
      "[61]\tvalid_0's rmse: 2036.94\n",
      "[62]\tvalid_0's rmse: 2026.44\n",
      "[63]\tvalid_0's rmse: 2020.3\n",
      "[64]\tvalid_0's rmse: 2015.19\n",
      "[65]\tvalid_0's rmse: 2009.95\n",
      "[66]\tvalid_0's rmse: 2004.85\n",
      "[67]\tvalid_0's rmse: 1999.32\n",
      "[68]\tvalid_0's rmse: 1992.78\n",
      "[69]\tvalid_0's rmse: 1986.48\n",
      "[70]\tvalid_0's rmse: 1982.02\n",
      "[71]\tvalid_0's rmse: 1975.75\n",
      "[72]\tvalid_0's rmse: 1971.08\n",
      "[73]\tvalid_0's rmse: 1966.2\n",
      "[74]\tvalid_0's rmse: 1962.56\n",
      "[75]\tvalid_0's rmse: 1958.02\n",
      "[76]\tvalid_0's rmse: 1951.61\n",
      "[77]\tvalid_0's rmse: 1946.82\n",
      "[78]\tvalid_0's rmse: 1940.64\n",
      "[79]\tvalid_0's rmse: 1934.38\n",
      "[80]\tvalid_0's rmse: 1930.39\n",
      "[81]\tvalid_0's rmse: 1927\n",
      "[82]\tvalid_0's rmse: 1922.41\n",
      "[83]\tvalid_0's rmse: 1919.22\n",
      "[84]\tvalid_0's rmse: 1916.03\n",
      "[85]\tvalid_0's rmse: 1911.45\n",
      "[86]\tvalid_0's rmse: 1908.29\n",
      "[87]\tvalid_0's rmse: 1904.75\n",
      "[88]\tvalid_0's rmse: 1900.72\n",
      "[89]\tvalid_0's rmse: 1898.12\n",
      "[90]\tvalid_0's rmse: 1894.68\n",
      "[91]\tvalid_0's rmse: 1891.51\n",
      "[92]\tvalid_0's rmse: 1889.23\n",
      "[93]\tvalid_0's rmse: 1886.8\n",
      "[94]\tvalid_0's rmse: 1884.15\n",
      "[95]\tvalid_0's rmse: 1881.26\n",
      "[96]\tvalid_0's rmse: 1879.36\n",
      "[97]\tvalid_0's rmse: 1877.36\n",
      "[98]\tvalid_0's rmse: 1874.53\n",
      "[99]\tvalid_0's rmse: 1872.15\n",
      "[100]\tvalid_0's rmse: 1870.51\n",
      "0:00:04.786573\n"
     ]
    }
   ],
   "source": [
    "params = {\n",
    "    'task': 'train', \n",
    "    'boosting': 'goss',\n",
    "    'objective': 'regression',\n",
    "    'num_leaves': 10,\n",
    "    'top_rate': 0.1,\n",
    "    'learning_rate': 0.05,\n",
    "    'metric': 'rmse',\n",
    "    'verbose': -1\n",
    "}\n",
    "\n",
    "\n",
    "lgb_train = lgb.Dataset(features_train, target_train)\n",
    "lgb_eval = lgb.Dataset(features_valid, target_valid, reference=lgb_train)\n",
    "\n",
    "start = datetime.now()\n",
    "model_goss = lgb.train(params,\n",
    "                 train_set=lgb_train,\n",
    "                 valid_sets=lgb_eval)\n",
    "stop = datetime.now()\n",
    "execution_time = stop - start\n",
    "print(execution_time)"
   ]
  },
  {
   "cell_type": "code",
   "execution_count": 44,
   "metadata": {
    "scrolled": true
   },
   "outputs": [
    {
     "name": "stdout",
     "output_type": "stream",
     "text": [
      "[1]\tvalid_0's rmse: 3282.95\n",
      "[2]\tvalid_0's rmse: 2640.82\n",
      "[3]\tvalid_0's rmse: 2386.78\n",
      "[4]\tvalid_0's rmse: 2254.96\n",
      "[5]\tvalid_0's rmse: 2164.17\n",
      "[6]\tvalid_0's rmse: 2077.7\n",
      "[7]\tvalid_0's rmse: 2038.09\n",
      "[8]\tvalid_0's rmse: 1997.31\n",
      "[9]\tvalid_0's rmse: 1966.49\n",
      "[10]\tvalid_0's rmse: 1946.2\n",
      "[11]\tvalid_0's rmse: 1927.43\n",
      "[12]\tvalid_0's rmse: 1915.48\n",
      "[13]\tvalid_0's rmse: 1900.58\n",
      "[14]\tvalid_0's rmse: 1891.4\n",
      "[15]\tvalid_0's rmse: 1885.19\n",
      "[16]\tvalid_0's rmse: 1877.43\n",
      "[17]\tvalid_0's rmse: 1864.26\n",
      "[18]\tvalid_0's rmse: 1857.77\n",
      "[19]\tvalid_0's rmse: 1847.03\n",
      "[20]\tvalid_0's rmse: 1838.08\n",
      "[21]\tvalid_0's rmse: 1831.53\n",
      "[22]\tvalid_0's rmse: 1826.32\n",
      "[23]\tvalid_0's rmse: 1814.66\n",
      "[24]\tvalid_0's rmse: 1807.04\n",
      "[25]\tvalid_0's rmse: 1801.44\n",
      "[26]\tvalid_0's rmse: 1796.69\n",
      "[27]\tvalid_0's rmse: 1792.21\n",
      "[28]\tvalid_0's rmse: 1789.98\n",
      "[29]\tvalid_0's rmse: 1784.46\n",
      "[30]\tvalid_0's rmse: 1780.66\n",
      "[31]\tvalid_0's rmse: 1779.61\n",
      "[32]\tvalid_0's rmse: 1776.77\n",
      "[33]\tvalid_0's rmse: 1772.35\n",
      "[34]\tvalid_0's rmse: 1766.07\n",
      "[35]\tvalid_0's rmse: 1759.44\n",
      "[36]\tvalid_0's rmse: 1756.43\n",
      "[37]\tvalid_0's rmse: 1752.91\n",
      "[38]\tvalid_0's rmse: 1745.83\n",
      "[39]\tvalid_0's rmse: 1743.48\n",
      "[40]\tvalid_0's rmse: 1742.07\n",
      "[41]\tvalid_0's rmse: 1741.04\n",
      "[42]\tvalid_0's rmse: 1740.42\n",
      "[43]\tvalid_0's rmse: 1739\n",
      "[44]\tvalid_0's rmse: 1735.77\n",
      "[45]\tvalid_0's rmse: 1728.37\n",
      "[46]\tvalid_0's rmse: 1726.07\n",
      "[47]\tvalid_0's rmse: 1723.79\n",
      "[48]\tvalid_0's rmse: 1723.11\n",
      "[49]\tvalid_0's rmse: 1720.47\n",
      "[50]\tvalid_0's rmse: 1718.04\n",
      "[51]\tvalid_0's rmse: 1716.34\n",
      "[52]\tvalid_0's rmse: 1714.35\n",
      "[53]\tvalid_0's rmse: 1713.44\n",
      "[54]\tvalid_0's rmse: 1713.57\n",
      "[55]\tvalid_0's rmse: 1711.02\n",
      "[56]\tvalid_0's rmse: 1707.99\n",
      "[57]\tvalid_0's rmse: 1703.82\n",
      "[58]\tvalid_0's rmse: 1702.29\n",
      "[59]\tvalid_0's rmse: 1700\n",
      "[60]\tvalid_0's rmse: 1699.2\n",
      "[61]\tvalid_0's rmse: 1698.66\n",
      "[62]\tvalid_0's rmse: 1694.5\n",
      "[63]\tvalid_0's rmse: 1690.43\n",
      "[64]\tvalid_0's rmse: 1687.56\n",
      "[65]\tvalid_0's rmse: 1686.21\n",
      "[66]\tvalid_0's rmse: 1684.65\n",
      "[67]\tvalid_0's rmse: 1682.67\n",
      "[68]\tvalid_0's rmse: 1678.88\n",
      "[69]\tvalid_0's rmse: 1676.01\n",
      "[70]\tvalid_0's rmse: 1674.93\n",
      "[71]\tvalid_0's rmse: 1674.23\n",
      "[72]\tvalid_0's rmse: 1672.65\n",
      "[73]\tvalid_0's rmse: 1671.65\n",
      "[74]\tvalid_0's rmse: 1670.21\n",
      "[75]\tvalid_0's rmse: 1669.21\n",
      "[76]\tvalid_0's rmse: 1668.52\n",
      "[77]\tvalid_0's rmse: 1665.61\n",
      "[78]\tvalid_0's rmse: 1665.44\n",
      "[79]\tvalid_0's rmse: 1664.53\n",
      "[80]\tvalid_0's rmse: 1662.83\n",
      "[81]\tvalid_0's rmse: 1661.93\n",
      "[82]\tvalid_0's rmse: 1661.39\n",
      "[83]\tvalid_0's rmse: 1659.5\n",
      "[84]\tvalid_0's rmse: 1658.67\n",
      "[85]\tvalid_0's rmse: 1657.5\n",
      "[86]\tvalid_0's rmse: 1656.25\n",
      "[87]\tvalid_0's rmse: 1655.41\n",
      "[88]\tvalid_0's rmse: 1655.01\n",
      "[89]\tvalid_0's rmse: 1653.21\n",
      "[90]\tvalid_0's rmse: 1651.76\n",
      "[91]\tvalid_0's rmse: 1650.71\n",
      "[92]\tvalid_0's rmse: 1649.13\n",
      "[93]\tvalid_0's rmse: 1648.62\n",
      "[94]\tvalid_0's rmse: 1648.68\n",
      "[95]\tvalid_0's rmse: 1648.32\n",
      "[96]\tvalid_0's rmse: 1647.72\n",
      "[97]\tvalid_0's rmse: 1647.18\n",
      "[98]\tvalid_0's rmse: 1646.19\n",
      "[99]\tvalid_0's rmse: 1645.46\n",
      "[100]\tvalid_0's rmse: 1645.35\n",
      "0:00:08.100660\n"
     ]
    }
   ],
   "source": [
    "params = {\n",
    "    'task': 'train', \n",
    "    'boosting': 'goss',\n",
    "    'objective': 'regression',\n",
    "    'num_leaves': 10,\n",
    "    'top_rate': 0.3,\n",
    "    'learning_rate': 0.5,\n",
    "    'metric': 'rmse',\n",
    "    'verbose': -1\n",
    "}\n",
    "\n",
    "\n",
    "lgb_train = lgb.Dataset(features_train, target_train)\n",
    "lgb_eval = lgb.Dataset(features_valid, target_valid, reference=lgb_train)\n",
    "\n",
    "start = datetime.now()\n",
    "model_goss_1 = lgb.train(params,\n",
    "                 train_set=lgb_train,\n",
    "                 valid_sets=lgb_eval)\n",
    "stop = datetime.now()\n",
    "execution_time = stop - start\n",
    "print(execution_time)"
   ]
  },
  {
   "cell_type": "code",
   "execution_count": 45,
   "metadata": {
    "scrolled": true
   },
   "outputs": [
    {
     "name": "stdout",
     "output_type": "stream",
     "text": [
      "0:00:03.298735\n"
     ]
    }
   ],
   "source": [
    "forest_best = None\n",
    "max_depth = 0\n",
    "n_est = 0\n",
    "leaf = 0\n",
    "rmse = 5000\n",
    "execution_time = 0\n",
    "for est in [10, 20]:\n",
    "    for depth in [5, 10]:\n",
    "        for samples in [5, 15]:\n",
    "            start = datetime.now()\n",
    "            forest = RandomForestRegressor(random_state=12345, n_estimators=est, max_depth=depth, min_samples_leaf=samples)\n",
    "            forest.fit(features_train, target_train)\n",
    "            stop = datetime.now()                \n",
    "            predicted_valid = forest.predict(features_valid)\n",
    "            result = mean_squared_error(target_valid, predicted_valid) ** 0.5\n",
    "            execution = stop - start\n",
    "            \n",
    "            if result < rmse:\n",
    "                rmse = result\n",
    "                n_est = est\n",
    "                max_depth = depth\n",
    "                leaf = samples\n",
    "                forest_best = forest\n",
    "                execution_time = execution\n",
    "\n",
    "                \n",
    "stop = datetime.now()                \n",
    "execution_time = stop - start\n",
    "print(execution_time)"
   ]
  },
  {
   "cell_type": "code",
   "execution_count": 46,
   "metadata": {},
   "outputs": [
    {
     "data": {
      "text/plain": [
       "RandomForestRegressor(max_depth=10, min_samples_leaf=5, n_estimators=20,\n",
       "                      random_state=12345)"
      ]
     },
     "execution_count": 46,
     "metadata": {},
     "output_type": "execute_result"
    }
   ],
   "source": [
    "forest_best"
   ]
  },
  {
   "cell_type": "markdown",
   "metadata": {
    "lang": "en"
   },
   "source": [
    "**Description of the second stage:**\n",
    "\n",
    "Two models for predicting the price of a car with different parameters were described:\n",
    "\n",
    "1. LightGBM with hyperparameters and metrics\n",
    "\n",
    "    | Hyperparameter | Model 1 | Model 2 | Model 3 | Model 4 |\n",
    "    | ---------------| --------| --------| --------| ------ --|\n",
    "    | boosting | gbdt | dart | goss | goss |\n",
    "    | num_leaves | 10 | 10 | 10 | 10 |\n",
    "    | learning_rate | 0.05 | 0.05 | 0.05 | 0.05 |\n",
    "    | top_rate | - | - | 0.1 | 0.3 |\n",
    "    | metrics = RMSE | 1875 | 2548 | 1870 | 1645 |\n",
    "    | training time | 1:08 | 0:10 | 2:41 | 0:04 |\n",
    "    \n",
    "    Model 4 performed best on the validation set in terms of quality metrics and training time.\n",
    "    \n",
    "    \n",
    "2. RandomForestRegressor with hyperparameter search\n",
    "\n",
    "    - n_estimators: [10, 20]\n",
    "    - max_depth: [5, 10]\n",
    "    - min_samples_leaf: [5, 15]\n",
    "    \n",
    "    The best quality metric (1816) for a random forest with parameters n_estimators=20, max_depth=10, min_samples_leaf=5. The training lasted 3 seconds."
   ]
  },
  {
   "cell_type": "markdown",
   "metadata": {
    "lang": "en"
   },
   "source": [
    "## Model evaluation"
   ]
  },
  {
   "cell_type": "code",
   "execution_count": 47,
   "metadata": {},
   "outputs": [
    {
     "name": "stdout",
     "output_type": "stream",
     "text": [
      "Время предсказания на валидационной выборке: 0:00:00.300315\n",
      "RMSE валидационной выборки: 1875.8343809934815\n"
     ]
    }
   ],
   "source": [
    "start = datetime.now()\n",
    "predictions = model_gbdt.predict(features_valid)\n",
    "stop = datetime.now()\n",
    "prediction_time = stop - start\n",
    "print('Время предсказания на валидационной выборке:', prediction_time)\n",
    "\n",
    "rmse_gbdt = mean_squared_error(target_valid, predictions) ** 0.5\n",
    "print('RMSE валидационной выборки:', rmse_gbdt)"
   ]
  },
  {
   "cell_type": "code",
   "execution_count": 48,
   "metadata": {},
   "outputs": [
    {
     "name": "stdout",
     "output_type": "stream",
     "text": [
      "Время предсказания на валидационной выборке: 0:00:00.221112\n",
      "RMSE валидационной выборки: 2548.3337905539843\n"
     ]
    }
   ],
   "source": [
    "start = datetime.now()\n",
    "predictions = model_dart.predict(features_valid)\n",
    "stop = datetime.now()\n",
    "prediction_time = stop - start\n",
    "print('Время предсказания на валидационной выборке:', prediction_time)\n",
    "\n",
    "rmse_dart = mean_squared_error(target_valid, predictions) ** 0.5\n",
    "print('RMSE валидационной выборки:', rmse_dart)"
   ]
  },
  {
   "cell_type": "code",
   "execution_count": 49,
   "metadata": {},
   "outputs": [
    {
     "name": "stdout",
     "output_type": "stream",
     "text": [
      "Время предсказания на валидационной выборке: 0:00:00.323350\n",
      "RMSE валидационной выборки: 1870.5142900601102\n"
     ]
    }
   ],
   "source": [
    "start = datetime.now()\n",
    "predictions = model_goss.predict(features_valid)\n",
    "stop = datetime.now()\n",
    "prediction_time = stop - start\n",
    "print('Время предсказания на валидационной выборке:', prediction_time)\n",
    "\n",
    "rmse_goss = mean_squared_error(target_valid, predictions) ** 0.5\n",
    "print('RMSE валидационной выборки:', rmse_goss)"
   ]
  },
  {
   "cell_type": "code",
   "execution_count": 50,
   "metadata": {},
   "outputs": [
    {
     "name": "stdout",
     "output_type": "stream",
     "text": [
      "Время предсказания на валидационной выборке: 0:00:00.149854\n",
      "RMSE валидационной выборки: 1645.3512146713579\n"
     ]
    }
   ],
   "source": [
    "start = datetime.now()\n",
    "predictions = model_goss_1.predict(features_valid)\n",
    "stop = datetime.now()\n",
    "prediction_time = stop - start\n",
    "print('Время предсказания на валидационной выборке:', prediction_time)\n",
    "\n",
    "rmse_goss_1 = mean_squared_error(target_valid, predictions) ** 0.5\n",
    "print('RMSE валидационной выборки:', rmse_goss_1)"
   ]
  },
  {
   "cell_type": "code",
   "execution_count": 51,
   "metadata": {},
   "outputs": [
    {
     "name": "stdout",
     "output_type": "stream",
     "text": [
      "Время предсказания на валидационной выборке: 0:00:00.107735\n",
      "RMSE валидационной выборки: 1850.36076839845\n"
     ]
    }
   ],
   "source": [
    "start = datetime.now()\n",
    "predictions = forest_best.predict(features_valid)\n",
    "stop = datetime.now()\n",
    "prediction_time = stop - start\n",
    "print('Время предсказания на валидационной выборке:', prediction_time)\n",
    "\n",
    "rmse_forest = mean_squared_error(target_valid, predictions) ** 0.5\n",
    "print('RMSE валидационной выборки:', rmse_forest)"
   ]
  },
  {
   "cell_type": "markdown",
   "metadata": {
    "lang": "en"
   },
   "source": [
    "Of all the models, model 2 with dart boosting and RMSE > 2500 is least accurate.\n",
    "\n",
    "Model 4 outperforms other gradient boosting models in terms of training time, prediction speed, and accuracy.\n",
    "\n",
    "Random forest is less accurate than the goss boosting model, but makes predictions slightly faster.\n",
    "\n",
    "For these reasons, a more appropriate model is Model 2"
   ]
  },
  {
   "cell_type": "markdown",
   "metadata": {},
   "source": [
    "Checking the chosen model on test data:"
   ]
  },
  {
   "cell_type": "code",
   "execution_count": 52,
   "metadata": {},
   "outputs": [
    {
     "name": "stdout",
     "output_type": "stream",
     "text": [
      "RMSE тестовой выборки: 1622.273165040651\n"
     ]
    }
   ],
   "source": [
    "predictions = model_goss_1.predict(features_test)\n",
    "\n",
    "rmse_goss_1 = mean_squared_error(target_test, predictions) ** 0.5\n",
    "print('RMSE тестовой выборки:', rmse_goss_1)"
   ]
  },
  {
   "cell_type": "markdown",
   "metadata": {
    "lang": "en"
   },
   "source": [
    "**Conclusion:**\n",
    "\n",
    "The highest quality model, depending on the customer’s preferences, can be either model 4 or random forest. The first model is the most accurate (RMSE=1645), and the second one predicts the fastest (0.09 ms), but is less accurate. Both models learn quite quickly."
   ]
  }
 ],
 "metadata": {
  "ExecuteTimeLog": [
   {
    "duration": 370,
    "start_time": "2023-05-12T20:55:44.698Z"
   },
   {
    "duration": 3695,
    "start_time": "2023-05-12T20:56:34.864Z"
   },
   {
    "duration": 151,
    "start_time": "2023-05-12T20:56:46.922Z"
   },
   {
    "duration": 983,
    "start_time": "2023-05-12T20:57:44.446Z"
   },
   {
    "duration": 130,
    "start_time": "2023-05-12T20:57:56.957Z"
   },
   {
    "duration": 417,
    "start_time": "2023-05-12T21:03:44.032Z"
   },
   {
    "duration": 661,
    "start_time": "2023-05-12T21:08:58.982Z"
   },
   {
    "duration": 105,
    "start_time": "2023-05-12T21:09:33.514Z"
   },
   {
    "duration": 114,
    "start_time": "2023-05-12T21:10:43.796Z"
   },
   {
    "duration": 9,
    "start_time": "2023-05-12T21:10:57.349Z"
   },
   {
    "duration": 39,
    "start_time": "2023-05-12T21:11:00.685Z"
   },
   {
    "duration": 37,
    "start_time": "2023-05-12T21:11:08.482Z"
   },
   {
    "duration": 54,
    "start_time": "2023-05-12T21:11:15.081Z"
   },
   {
    "duration": 69,
    "start_time": "2023-05-12T21:11:31.132Z"
   },
   {
    "duration": 216,
    "start_time": "2023-05-12T21:14:31.294Z"
   },
   {
    "duration": 212,
    "start_time": "2023-05-12T21:14:47.382Z"
   },
   {
    "duration": 49,
    "start_time": "2023-05-12T21:15:35.315Z"
   },
   {
    "duration": 42,
    "start_time": "2023-05-12T21:15:50.907Z"
   },
   {
    "duration": 848,
    "start_time": "2023-05-12T21:16:08.858Z"
   },
   {
    "duration": 454,
    "start_time": "2023-05-12T21:18:16.413Z"
   },
   {
    "duration": 4,
    "start_time": "2023-05-12T21:19:00.734Z"
   },
   {
    "duration": 1122,
    "start_time": "2023-05-12T21:19:04.882Z"
   },
   {
    "duration": 60,
    "start_time": "2023-05-12T21:19:14.837Z"
   },
   {
    "duration": 4852,
    "start_time": "2023-05-12T21:19:18.621Z"
   },
   {
    "duration": 4706,
    "start_time": "2023-05-12T21:19:58.734Z"
   },
   {
    "duration": 1099,
    "start_time": "2023-05-12T21:20:38.434Z"
   },
   {
    "duration": 1518,
    "start_time": "2023-05-12T21:21:11.159Z"
   },
   {
    "duration": 1656,
    "start_time": "2023-05-12T21:21:22.634Z"
   },
   {
    "duration": 1654,
    "start_time": "2023-05-12T21:21:36.821Z"
   },
   {
    "duration": 1077,
    "start_time": "2023-05-12T21:21:58.859Z"
   },
   {
    "duration": 318,
    "start_time": "2023-05-12T21:22:40.136Z"
   },
   {
    "duration": 239,
    "start_time": "2023-05-12T21:24:17.983Z"
   },
   {
    "duration": 19,
    "start_time": "2023-05-12T21:27:43.482Z"
   },
   {
    "duration": 97,
    "start_time": "2023-05-12T21:28:07.602Z"
   },
   {
    "duration": 137,
    "start_time": "2023-05-12T21:29:52.594Z"
   },
   {
    "duration": 103,
    "start_time": "2023-05-12T21:29:55.594Z"
   },
   {
    "duration": 3,
    "start_time": "2023-05-12T21:31:39.610Z"
   },
   {
    "duration": 1017,
    "start_time": "2023-05-12T21:31:39.615Z"
   },
   {
    "duration": 152,
    "start_time": "2023-05-12T21:31:40.634Z"
   },
   {
    "duration": 359,
    "start_time": "2023-05-12T21:31:40.787Z"
   },
   {
    "duration": 251,
    "start_time": "2023-05-12T21:31:41.149Z"
   },
   {
    "duration": 285,
    "start_time": "2023-05-12T21:31:41.401Z"
   },
   {
    "duration": 112,
    "start_time": "2023-05-12T21:31:41.688Z"
   },
   {
    "duration": 213,
    "start_time": "2023-05-12T21:31:58.395Z"
   },
   {
    "duration": 994,
    "start_time": "2023-05-12T21:32:27.482Z"
   },
   {
    "duration": 199,
    "start_time": "2023-05-12T21:36:52.292Z"
   },
   {
    "duration": 47,
    "start_time": "2023-05-12T21:37:23.053Z"
   },
   {
    "duration": 43,
    "start_time": "2023-05-12T21:37:42.107Z"
   },
   {
    "duration": 203,
    "start_time": "2023-05-12T21:40:02.404Z"
   },
   {
    "duration": 170,
    "start_time": "2023-05-12T21:40:21.854Z"
   },
   {
    "duration": 170,
    "start_time": "2023-05-12T21:40:25.446Z"
   },
   {
    "duration": 695,
    "start_time": "2023-05-12T21:41:20.094Z"
   },
   {
    "duration": 549,
    "start_time": "2023-05-12T21:47:17.597Z"
   },
   {
    "duration": 580,
    "start_time": "2023-05-12T21:49:24.664Z"
   },
   {
    "duration": 737,
    "start_time": "2023-05-12T21:49:46.013Z"
   },
   {
    "duration": 202,
    "start_time": "2023-05-12T21:50:15.072Z"
   },
   {
    "duration": 584,
    "start_time": "2023-05-12T21:51:04.946Z"
   },
   {
    "duration": 169,
    "start_time": "2023-05-12T21:52:25.371Z"
   },
   {
    "duration": 179,
    "start_time": "2023-05-12T21:52:30.617Z"
   },
   {
    "duration": 165,
    "start_time": "2023-05-12T21:52:55.301Z"
   },
   {
    "duration": 666,
    "start_time": "2023-05-12T21:53:38.851Z"
   },
   {
    "duration": 169,
    "start_time": "2023-05-12T21:53:49.056Z"
   },
   {
    "duration": 555,
    "start_time": "2023-05-12T21:56:15.116Z"
   },
   {
    "duration": 1186,
    "start_time": "2023-05-12T21:57:54.082Z"
   },
   {
    "duration": 1176,
    "start_time": "2023-05-12T21:58:33.454Z"
   },
   {
    "duration": 3,
    "start_time": "2023-05-12T21:58:52.395Z"
   },
   {
    "duration": 861,
    "start_time": "2023-05-12T21:58:52.401Z"
   },
   {
    "duration": 128,
    "start_time": "2023-05-12T21:58:53.264Z"
   },
   {
    "duration": 325,
    "start_time": "2023-05-12T21:58:53.394Z"
   },
   {
    "duration": 217,
    "start_time": "2023-05-12T21:58:53.721Z"
   },
   {
    "duration": 247,
    "start_time": "2023-05-12T21:58:53.940Z"
   },
   {
    "duration": 90,
    "start_time": "2023-05-12T21:58:54.188Z"
   },
   {
    "duration": 204,
    "start_time": "2023-05-12T21:58:54.280Z"
   },
   {
    "duration": 564,
    "start_time": "2023-05-12T21:58:54.485Z"
   },
   {
    "duration": 1247,
    "start_time": "2023-05-12T21:59:53.472Z"
   },
   {
    "duration": 1152,
    "start_time": "2023-05-12T22:00:15.835Z"
   },
   {
    "duration": 6,
    "start_time": "2023-05-12T22:01:25.032Z"
   },
   {
    "duration": 191,
    "start_time": "2023-05-12T22:01:36.925Z"
   },
   {
    "duration": 172,
    "start_time": "2023-05-12T22:04:38.373Z"
   },
   {
    "duration": 3,
    "start_time": "2023-05-12T22:04:50.803Z"
   },
   {
    "duration": 883,
    "start_time": "2023-05-12T22:04:50.808Z"
   },
   {
    "duration": 85,
    "start_time": "2023-05-12T22:04:51.692Z"
   },
   {
    "duration": 125,
    "start_time": "2023-05-12T22:04:51.779Z"
   },
   {
    "duration": 294,
    "start_time": "2023-05-12T22:04:51.905Z"
   },
   {
    "duration": 221,
    "start_time": "2023-05-12T22:04:52.201Z"
   },
   {
    "duration": 283,
    "start_time": "2023-05-12T22:04:52.425Z"
   },
   {
    "duration": 98,
    "start_time": "2023-05-12T22:04:52.710Z"
   },
   {
    "duration": 213,
    "start_time": "2023-05-12T22:04:52.810Z"
   },
   {
    "duration": 621,
    "start_time": "2023-05-12T22:04:53.025Z"
   },
   {
    "duration": 1130,
    "start_time": "2023-05-12T22:04:53.647Z"
   },
   {
    "duration": 5,
    "start_time": "2023-05-12T22:04:54.779Z"
   },
   {
    "duration": 191,
    "start_time": "2023-05-12T22:05:07.544Z"
   },
   {
    "duration": 47,
    "start_time": "2023-05-13T07:19:52.323Z"
   },
   {
    "duration": 1736,
    "start_time": "2023-05-13T07:20:00.026Z"
   },
   {
    "duration": 3428,
    "start_time": "2023-05-13T07:20:01.764Z"
   },
   {
    "duration": 119,
    "start_time": "2023-05-13T07:20:05.196Z"
   },
   {
    "duration": 133,
    "start_time": "2023-05-13T07:20:05.317Z"
   },
   {
    "duration": 377,
    "start_time": "2023-05-13T07:20:05.452Z"
   },
   {
    "duration": 241,
    "start_time": "2023-05-13T07:20:05.830Z"
   },
   {
    "duration": 351,
    "start_time": "2023-05-13T07:20:06.073Z"
   },
   {
    "duration": 108,
    "start_time": "2023-05-13T07:20:06.425Z"
   },
   {
    "duration": 279,
    "start_time": "2023-05-13T07:20:06.544Z"
   },
   {
    "duration": 622,
    "start_time": "2023-05-13T07:20:06.824Z"
   },
   {
    "duration": 1280,
    "start_time": "2023-05-13T07:20:07.448Z"
   },
   {
    "duration": 5,
    "start_time": "2023-05-13T07:20:08.729Z"
   },
   {
    "duration": 204,
    "start_time": "2023-05-13T07:20:08.736Z"
   },
   {
    "duration": 13,
    "start_time": "2023-05-13T07:20:14.114Z"
   },
   {
    "duration": 7,
    "start_time": "2023-05-13T07:23:01.834Z"
   },
   {
    "duration": 70,
    "start_time": "2023-05-13T07:30:10.189Z"
   },
   {
    "duration": 10,
    "start_time": "2023-05-13T07:30:16.221Z"
   },
   {
    "duration": 8,
    "start_time": "2023-05-13T07:30:30.877Z"
   },
   {
    "duration": 9,
    "start_time": "2023-05-13T07:30:36.275Z"
   },
   {
    "duration": 4,
    "start_time": "2023-05-13T07:33:59.223Z"
   },
   {
    "duration": 19,
    "start_time": "2023-05-13T07:34:32.192Z"
   },
   {
    "duration": 11,
    "start_time": "2023-05-13T07:35:00.081Z"
   },
   {
    "duration": 4,
    "start_time": "2023-05-13T07:38:58.641Z"
   },
   {
    "duration": 825,
    "start_time": "2023-05-13T07:38:58.649Z"
   },
   {
    "duration": 95,
    "start_time": "2023-05-13T07:38:59.476Z"
   },
   {
    "duration": 132,
    "start_time": "2023-05-13T07:38:59.573Z"
   },
   {
    "duration": 306,
    "start_time": "2023-05-13T07:38:59.706Z"
   },
   {
    "duration": 218,
    "start_time": "2023-05-13T07:39:00.014Z"
   },
   {
    "duration": 287,
    "start_time": "2023-05-13T07:39:00.233Z"
   },
   {
    "duration": 103,
    "start_time": "2023-05-13T07:39:00.521Z"
   },
   {
    "duration": 225,
    "start_time": "2023-05-13T07:39:00.625Z"
   },
   {
    "duration": 638,
    "start_time": "2023-05-13T07:39:00.851Z"
   },
   {
    "duration": 14,
    "start_time": "2023-05-13T07:39:01.491Z"
   },
   {
    "duration": 176,
    "start_time": "2023-05-13T07:39:01.506Z"
   },
   {
    "duration": 18,
    "start_time": "2023-05-13T07:39:01.684Z"
   },
   {
    "duration": 61,
    "start_time": "2023-05-13T07:39:01.704Z"
   },
   {
    "duration": 12,
    "start_time": "2023-05-13T07:39:53.724Z"
   },
   {
    "duration": 16,
    "start_time": "2023-05-13T07:39:58.208Z"
   },
   {
    "duration": 14,
    "start_time": "2023-05-13T07:44:08.553Z"
   },
   {
    "duration": 15,
    "start_time": "2023-05-13T07:47:15.848Z"
   },
   {
    "duration": 7,
    "start_time": "2023-05-13T07:47:19.062Z"
   },
   {
    "duration": 8,
    "start_time": "2023-05-13T07:47:40.063Z"
   },
   {
    "duration": 8,
    "start_time": "2023-05-13T07:47:44.946Z"
   },
   {
    "duration": 7,
    "start_time": "2023-05-13T07:47:55.419Z"
   },
   {
    "duration": 7,
    "start_time": "2023-05-13T07:47:58.220Z"
   },
   {
    "duration": 8,
    "start_time": "2023-05-13T07:48:03.272Z"
   },
   {
    "duration": 7,
    "start_time": "2023-05-13T07:48:19.826Z"
   },
   {
    "duration": 14,
    "start_time": "2023-05-13T07:48:31.928Z"
   },
   {
    "duration": 20,
    "start_time": "2023-05-13T07:48:34.960Z"
   },
   {
    "duration": 24,
    "start_time": "2023-05-13T07:48:39.180Z"
   },
   {
    "duration": 10,
    "start_time": "2023-05-13T07:49:10.312Z"
   },
   {
    "duration": 167,
    "start_time": "2023-05-13T07:49:14.462Z"
   },
   {
    "duration": 748,
    "start_time": "2023-05-13T07:50:23.485Z"
   },
   {
    "duration": 17,
    "start_time": "2023-05-13T07:50:28.632Z"
   },
   {
    "duration": 12,
    "start_time": "2023-05-13T07:50:41.756Z"
   },
   {
    "duration": 0,
    "start_time": "2023-05-13T07:51:42.558Z"
   },
   {
    "duration": 26,
    "start_time": "2023-05-13T07:51:47.885Z"
   },
   {
    "duration": 14,
    "start_time": "2023-05-13T07:52:05.892Z"
   },
   {
    "duration": 11,
    "start_time": "2023-05-13T07:52:12.627Z"
   },
   {
    "duration": 7610,
    "start_time": "2023-05-13T07:52:40.915Z"
   },
   {
    "duration": 17,
    "start_time": "2023-05-13T07:52:57.666Z"
   },
   {
    "duration": 141,
    "start_time": "2023-05-13T07:53:02.510Z"
   },
   {
    "duration": 15,
    "start_time": "2023-05-13T07:53:37.152Z"
   },
   {
    "duration": 25,
    "start_time": "2023-05-13T07:53:53.082Z"
   },
   {
    "duration": 17,
    "start_time": "2023-05-13T07:53:56.649Z"
   },
   {
    "duration": 11,
    "start_time": "2023-05-13T07:54:17.148Z"
   },
   {
    "duration": 144,
    "start_time": "2023-05-13T07:54:30.216Z"
   },
   {
    "duration": 138,
    "start_time": "2023-05-13T07:54:51.340Z"
   },
   {
    "duration": 140,
    "start_time": "2023-05-13T07:55:07.537Z"
   },
   {
    "duration": 195,
    "start_time": "2023-05-13T07:55:15.427Z"
   },
   {
    "duration": 12,
    "start_time": "2023-05-13T07:55:56.370Z"
   },
   {
    "duration": 14,
    "start_time": "2023-05-13T07:56:06.918Z"
   },
   {
    "duration": 5,
    "start_time": "2023-05-13T07:56:14.777Z"
   },
   {
    "duration": 146,
    "start_time": "2023-05-13T07:56:18.828Z"
   },
   {
    "duration": 788,
    "start_time": "2023-05-13T07:57:00.276Z"
   },
   {
    "duration": 104,
    "start_time": "2023-05-13T07:57:15.958Z"
   },
   {
    "duration": 140,
    "start_time": "2023-05-13T07:57:24.133Z"
   },
   {
    "duration": 146,
    "start_time": "2023-05-13T07:58:19.826Z"
   },
   {
    "duration": 151,
    "start_time": "2023-05-13T07:58:26.409Z"
   },
   {
    "duration": 148,
    "start_time": "2023-05-13T07:58:40.066Z"
   },
   {
    "duration": 165,
    "start_time": "2023-05-13T07:58:45.408Z"
   },
   {
    "duration": 181,
    "start_time": "2023-05-13T07:59:01.312Z"
   },
   {
    "duration": 169,
    "start_time": "2023-05-13T07:59:14.167Z"
   },
   {
    "duration": 164,
    "start_time": "2023-05-13T07:59:27.156Z"
   },
   {
    "duration": 58,
    "start_time": "2023-05-13T08:05:10.522Z"
   },
   {
    "duration": 1399,
    "start_time": "2023-05-13T08:05:52.535Z"
   },
   {
    "duration": 1560,
    "start_time": "2023-05-13T08:07:35.566Z"
   },
   {
    "duration": 1751,
    "start_time": "2023-05-13T08:07:58.614Z"
   },
   {
    "duration": 1871,
    "start_time": "2023-05-13T08:09:09.267Z"
   },
   {
    "duration": 1945,
    "start_time": "2023-05-13T08:09:31.746Z"
   },
   {
    "duration": 1736,
    "start_time": "2023-05-13T08:11:55.534Z"
   },
   {
    "duration": 479,
    "start_time": "2023-05-13T08:13:55.692Z"
   },
   {
    "duration": 1841,
    "start_time": "2023-05-13T08:14:59.882Z"
   },
   {
    "duration": 1722,
    "start_time": "2023-05-13T08:15:22.815Z"
   },
   {
    "duration": 2052,
    "start_time": "2023-05-13T08:15:33.015Z"
   },
   {
    "duration": 1753,
    "start_time": "2023-05-13T08:15:49.892Z"
   },
   {
    "duration": 1780,
    "start_time": "2023-05-13T08:15:58.083Z"
   },
   {
    "duration": 1801,
    "start_time": "2023-05-13T08:18:14.544Z"
   },
   {
    "duration": 1735,
    "start_time": "2023-05-13T08:20:21.112Z"
   },
   {
    "duration": 168,
    "start_time": "2023-05-13T08:21:07.279Z"
   },
   {
    "duration": 10,
    "start_time": "2023-05-13T08:21:41.748Z"
   },
   {
    "duration": 9,
    "start_time": "2023-05-13T08:28:00.663Z"
   },
   {
    "duration": 11,
    "start_time": "2023-05-13T08:28:06.721Z"
   },
   {
    "duration": 11,
    "start_time": "2023-05-13T08:28:11.512Z"
   },
   {
    "duration": 12,
    "start_time": "2023-05-13T08:28:14.323Z"
   },
   {
    "duration": 10,
    "start_time": "2023-05-13T08:28:20.557Z"
   },
   {
    "duration": 117,
    "start_time": "2023-05-13T08:29:27.032Z"
   },
   {
    "duration": 96,
    "start_time": "2023-05-13T08:31:43.411Z"
   },
   {
    "duration": 59,
    "start_time": "2023-05-13T08:32:29.236Z"
   },
   {
    "duration": 57,
    "start_time": "2023-05-13T08:32:37.314Z"
   },
   {
    "duration": 60,
    "start_time": "2023-05-13T08:32:57.068Z"
   },
   {
    "duration": 43,
    "start_time": "2023-05-13T08:38:10.531Z"
   },
   {
    "duration": 415,
    "start_time": "2023-05-13T08:38:22.959Z"
   },
   {
    "duration": 616,
    "start_time": "2023-05-13T08:38:42.611Z"
   },
   {
    "duration": 637,
    "start_time": "2023-05-13T08:38:53.476Z"
   },
   {
    "duration": 1311,
    "start_time": "2023-05-13T08:40:09.713Z"
   },
   {
    "duration": 1349,
    "start_time": "2023-05-13T08:43:55.828Z"
   },
   {
    "duration": 1326,
    "start_time": "2023-05-13T08:44:19.060Z"
   },
   {
    "duration": 1472,
    "start_time": "2023-05-13T08:45:35.455Z"
   },
   {
    "duration": 1296,
    "start_time": "2023-05-13T08:46:19.382Z"
   },
   {
    "duration": 68,
    "start_time": "2023-05-13T08:48:32.239Z"
   },
   {
    "duration": 1361,
    "start_time": "2023-05-13T08:48:51.962Z"
   },
   {
    "duration": 1391,
    "start_time": "2023-05-13T08:49:13.323Z"
   },
   {
    "duration": 60,
    "start_time": "2023-05-13T08:49:39.553Z"
   },
   {
    "duration": 1473,
    "start_time": "2023-05-13T08:50:00.846Z"
   },
   {
    "duration": 693,
    "start_time": "2023-05-13T08:51:03.269Z"
   },
   {
    "duration": 739,
    "start_time": "2023-05-13T08:55:59.381Z"
   },
   {
    "duration": 2493,
    "start_time": "2023-05-13T09:00:43.084Z"
   },
   {
    "duration": 4402,
    "start_time": "2023-05-13T09:03:00.713Z"
   },
   {
    "duration": 3183,
    "start_time": "2023-05-13T09:05:46.227Z"
   },
   {
    "duration": 5133,
    "start_time": "2023-05-13T09:06:28.621Z"
   },
   {
    "duration": 1931,
    "start_time": "2023-05-13T09:09:39.412Z"
   },
   {
    "duration": 2748,
    "start_time": "2023-05-13T09:10:08.751Z"
   },
   {
    "duration": 2670,
    "start_time": "2023-05-13T09:10:40.012Z"
   },
   {
    "duration": 2858,
    "start_time": "2023-05-13T09:11:00.375Z"
   },
   {
    "duration": 2997,
    "start_time": "2023-05-13T09:11:31.362Z"
   },
   {
    "duration": 2658,
    "start_time": "2023-05-13T09:15:45.184Z"
   },
   {
    "duration": 22,
    "start_time": "2023-05-13T09:16:58.905Z"
   },
   {
    "duration": 2319,
    "start_time": "2023-05-13T09:18:53.514Z"
   },
   {
    "duration": 2292,
    "start_time": "2023-05-13T09:20:02.311Z"
   },
   {
    "duration": 2601,
    "start_time": "2023-05-13T09:20:58.859Z"
   },
   {
    "duration": 2669,
    "start_time": "2023-05-13T09:23:48.767Z"
   },
   {
    "duration": 647,
    "start_time": "2023-05-13T09:24:03.220Z"
   },
   {
    "duration": 2677,
    "start_time": "2023-05-13T09:24:13.823Z"
   },
   {
    "duration": 2596,
    "start_time": "2023-05-13T09:24:22.655Z"
   },
   {
    "duration": 2602,
    "start_time": "2023-05-13T09:24:47.634Z"
   },
   {
    "duration": 2569,
    "start_time": "2023-05-13T09:24:55.959Z"
   },
   {
    "duration": 2496,
    "start_time": "2023-05-13T09:26:24.755Z"
   },
   {
    "duration": 2451,
    "start_time": "2023-05-13T09:30:29.326Z"
   },
   {
    "duration": 2607,
    "start_time": "2023-05-13T09:30:40.128Z"
   },
   {
    "duration": 7,
    "start_time": "2023-05-13T09:32:27.837Z"
   },
   {
    "duration": 33,
    "start_time": "2023-05-13T09:32:46.728Z"
   },
   {
    "duration": 2354,
    "start_time": "2023-05-13T09:34:10.189Z"
   },
   {
    "duration": 71,
    "start_time": "2023-05-13T09:35:24.658Z"
   },
   {
    "duration": 2720,
    "start_time": "2023-05-13T09:35:59.866Z"
   },
   {
    "duration": 2655,
    "start_time": "2023-05-13T09:36:09.885Z"
   },
   {
    "duration": 73,
    "start_time": "2023-05-13T09:36:26.182Z"
   },
   {
    "duration": 2464,
    "start_time": "2023-05-13T09:36:38.766Z"
   },
   {
    "duration": 2551,
    "start_time": "2023-05-13T09:38:27.070Z"
   },
   {
    "duration": 2362,
    "start_time": "2023-05-13T09:38:59.089Z"
   },
   {
    "duration": 2522,
    "start_time": "2023-05-13T09:39:09.925Z"
   },
   {
    "duration": 6342,
    "start_time": "2023-05-13T09:39:23.262Z"
   },
   {
    "duration": 2603,
    "start_time": "2023-05-13T09:39:38.642Z"
   },
   {
    "duration": 16,
    "start_time": "2023-05-13T09:40:51.358Z"
   },
   {
    "duration": 48,
    "start_time": "2023-05-13T09:42:13.874Z"
   },
   {
    "duration": 39,
    "start_time": "2023-05-13T09:42:27.877Z"
   },
   {
    "duration": 2513,
    "start_time": "2023-05-13T09:42:43.851Z"
   },
   {
    "duration": 5,
    "start_time": "2023-05-13T09:44:02.479Z"
   },
   {
    "duration": 30,
    "start_time": "2023-05-13T09:44:04.225Z"
   },
   {
    "duration": 5,
    "start_time": "2023-05-13T09:44:06.166Z"
   },
   {
    "duration": 1864,
    "start_time": "2023-05-13T09:45:13.854Z"
   },
   {
    "duration": 3,
    "start_time": "2023-05-13T09:47:08.956Z"
   },
   {
    "duration": 848,
    "start_time": "2023-05-13T09:47:08.962Z"
   },
   {
    "duration": 103,
    "start_time": "2023-05-13T09:47:09.814Z"
   },
   {
    "duration": 132,
    "start_time": "2023-05-13T09:47:09.920Z"
   },
   {
    "duration": 336,
    "start_time": "2023-05-13T09:47:10.054Z"
   },
   {
    "duration": 228,
    "start_time": "2023-05-13T09:47:10.394Z"
   },
   {
    "duration": 297,
    "start_time": "2023-05-13T09:47:10.624Z"
   },
   {
    "duration": 115,
    "start_time": "2023-05-13T09:47:10.923Z"
   },
   {
    "duration": 208,
    "start_time": "2023-05-13T09:47:11.040Z"
   },
   {
    "duration": 583,
    "start_time": "2023-05-13T09:47:11.250Z"
   },
   {
    "duration": 5,
    "start_time": "2023-05-13T09:47:11.835Z"
   },
   {
    "duration": 141,
    "start_time": "2023-05-13T09:47:11.841Z"
   },
   {
    "duration": 1838,
    "start_time": "2023-05-13T09:47:11.984Z"
   },
   {
    "duration": 2605,
    "start_time": "2023-05-13T09:47:13.825Z"
   },
   {
    "duration": 9,
    "start_time": "2023-05-13T09:47:25.858Z"
   },
   {
    "duration": 10,
    "start_time": "2023-05-13T09:47:30.521Z"
   },
   {
    "duration": 10,
    "start_time": "2023-05-13T09:54:10.577Z"
   },
   {
    "duration": 7,
    "start_time": "2023-05-13T09:54:43.317Z"
   },
   {
    "duration": 8,
    "start_time": "2023-05-13T09:54:51.685Z"
   },
   {
    "duration": 3,
    "start_time": "2023-05-13T09:56:05.721Z"
   },
   {
    "duration": 868,
    "start_time": "2023-05-13T09:56:05.726Z"
   },
   {
    "duration": 109,
    "start_time": "2023-05-13T09:56:06.596Z"
   },
   {
    "duration": 147,
    "start_time": "2023-05-13T09:56:06.707Z"
   },
   {
    "duration": 403,
    "start_time": "2023-05-13T09:56:06.857Z"
   },
   {
    "duration": 274,
    "start_time": "2023-05-13T09:56:07.262Z"
   },
   {
    "duration": 364,
    "start_time": "2023-05-13T09:56:07.538Z"
   },
   {
    "duration": 101,
    "start_time": "2023-05-13T09:56:07.904Z"
   },
   {
    "duration": 213,
    "start_time": "2023-05-13T09:56:08.011Z"
   },
   {
    "duration": 1016,
    "start_time": "2023-05-13T09:56:08.226Z"
   },
   {
    "duration": 5,
    "start_time": "2023-05-13T09:56:09.244Z"
   },
   {
    "duration": 165,
    "start_time": "2023-05-13T09:56:09.251Z"
   },
   {
    "duration": 1896,
    "start_time": "2023-05-13T09:56:09.418Z"
   },
   {
    "duration": 2518,
    "start_time": "2023-05-13T09:56:11.317Z"
   },
   {
    "duration": 37,
    "start_time": "2023-05-13T09:56:20.970Z"
   },
   {
    "duration": 6,
    "start_time": "2023-05-13T09:56:26.527Z"
   },
   {
    "duration": 15,
    "start_time": "2023-05-13T09:56:52.519Z"
   },
   {
    "duration": 859,
    "start_time": "2023-05-13T09:56:54.872Z"
   },
   {
    "duration": 2163,
    "start_time": "2023-05-13T09:57:31.123Z"
   },
   {
    "duration": 11,
    "start_time": "2023-05-13T09:58:03.161Z"
   },
   {
    "duration": 13,
    "start_time": "2023-05-13T09:58:09.722Z"
   },
   {
    "duration": 28,
    "start_time": "2023-05-13T10:02:47.519Z"
   },
   {
    "duration": 120,
    "start_time": "2023-05-13T10:05:34.865Z"
   },
   {
    "duration": 148,
    "start_time": "2023-05-13T10:06:59.534Z"
   },
   {
    "duration": 185,
    "start_time": "2023-05-13T10:07:03.977Z"
   },
   {
    "duration": 32,
    "start_time": "2023-05-13T10:08:11.282Z"
   },
   {
    "duration": 35,
    "start_time": "2023-05-13T10:09:56.629Z"
   },
   {
    "duration": 5,
    "start_time": "2023-05-13T10:10:04.234Z"
   },
   {
    "duration": 126,
    "start_time": "2023-05-13T10:10:09.062Z"
   },
   {
    "duration": 15,
    "start_time": "2023-05-13T10:21:04.234Z"
   },
   {
    "duration": 10187,
    "start_time": "2023-05-13T10:21:17.872Z"
   },
   {
    "duration": 13,
    "start_time": "2023-05-13T10:22:01.192Z"
   },
   {
    "duration": 42,
    "start_time": "2023-05-13T10:22:06.962Z"
   },
   {
    "duration": 36,
    "start_time": "2023-05-13T10:24:19.921Z"
   },
   {
    "duration": 26,
    "start_time": "2023-05-13T10:24:28.078Z"
   },
   {
    "duration": 29,
    "start_time": "2023-05-13T10:24:37.213Z"
   },
   {
    "duration": 46,
    "start_time": "2023-05-13T10:24:41.876Z"
   },
   {
    "duration": 27,
    "start_time": "2023-05-13T10:24:47.116Z"
   },
   {
    "duration": 13,
    "start_time": "2023-05-13T10:25:09.485Z"
   },
   {
    "duration": 27,
    "start_time": "2023-05-13T10:25:12.679Z"
   },
   {
    "duration": 3,
    "start_time": "2023-05-13T10:28:09.664Z"
   },
   {
    "duration": 1811,
    "start_time": "2023-05-13T10:31:31.267Z"
   },
   {
    "duration": 14,
    "start_time": "2023-05-13T10:31:46.463Z"
   },
   {
    "duration": 17,
    "start_time": "2023-05-13T10:32:23.121Z"
   },
   {
    "duration": 21,
    "start_time": "2023-05-13T10:32:42.511Z"
   },
   {
    "duration": 23,
    "start_time": "2023-05-13T10:33:40.271Z"
   },
   {
    "duration": 29,
    "start_time": "2023-05-13T10:34:17.583Z"
   },
   {
    "duration": 29,
    "start_time": "2023-05-13T10:36:01.879Z"
   },
   {
    "duration": 30,
    "start_time": "2023-05-13T10:36:07.819Z"
   },
   {
    "duration": 46,
    "start_time": "2023-05-13T10:36:14.888Z"
   },
   {
    "duration": 11,
    "start_time": "2023-05-13T10:38:46.332Z"
   },
   {
    "duration": 27,
    "start_time": "2023-05-13T10:40:54.149Z"
   },
   {
    "duration": 21,
    "start_time": "2023-05-13T10:41:20.763Z"
   },
   {
    "duration": 7,
    "start_time": "2023-05-13T10:43:04.165Z"
   },
   {
    "duration": 9,
    "start_time": "2023-05-13T10:43:43.740Z"
   },
   {
    "duration": 176,
    "start_time": "2023-05-13T10:44:20.665Z"
   },
   {
    "duration": 48,
    "start_time": "2023-05-13T10:44:55.291Z"
   },
   {
    "duration": 14,
    "start_time": "2023-05-13T10:45:23.755Z"
   },
   {
    "duration": 15,
    "start_time": "2023-05-13T10:45:37.829Z"
   },
   {
    "duration": 15,
    "start_time": "2023-05-13T10:45:56.178Z"
   },
   {
    "duration": 15,
    "start_time": "2023-05-13T10:46:41.720Z"
   },
   {
    "duration": 2,
    "start_time": "2023-05-13T10:47:01.627Z"
   },
   {
    "duration": 878,
    "start_time": "2023-05-13T10:47:01.631Z"
   },
   {
    "duration": 108,
    "start_time": "2023-05-13T10:47:02.510Z"
   },
   {
    "duration": 124,
    "start_time": "2023-05-13T10:47:02.620Z"
   },
   {
    "duration": 376,
    "start_time": "2023-05-13T10:47:02.746Z"
   },
   {
    "duration": 245,
    "start_time": "2023-05-13T10:47:03.124Z"
   },
   {
    "duration": 298,
    "start_time": "2023-05-13T10:47:03.371Z"
   },
   {
    "duration": 41,
    "start_time": "2023-05-13T10:47:03.671Z"
   },
   {
    "duration": 0,
    "start_time": "2023-05-13T10:47:03.714Z"
   },
   {
    "duration": 0,
    "start_time": "2023-05-13T10:47:03.716Z"
   },
   {
    "duration": 0,
    "start_time": "2023-05-13T10:47:03.717Z"
   },
   {
    "duration": 0,
    "start_time": "2023-05-13T10:47:03.718Z"
   },
   {
    "duration": 0,
    "start_time": "2023-05-13T10:47:03.719Z"
   },
   {
    "duration": 0,
    "start_time": "2023-05-13T10:47:03.720Z"
   },
   {
    "duration": 0,
    "start_time": "2023-05-13T10:47:03.721Z"
   },
   {
    "duration": 0,
    "start_time": "2023-05-13T10:47:03.722Z"
   },
   {
    "duration": 1,
    "start_time": "2023-05-13T10:47:03.723Z"
   },
   {
    "duration": 0,
    "start_time": "2023-05-13T10:47:03.725Z"
   },
   {
    "duration": 0,
    "start_time": "2023-05-13T10:47:03.726Z"
   },
   {
    "duration": 13,
    "start_time": "2023-05-13T10:47:59.854Z"
   },
   {
    "duration": 34,
    "start_time": "2023-05-13T10:48:08.190Z"
   },
   {
    "duration": 26,
    "start_time": "2023-05-13T10:48:10.961Z"
   },
   {
    "duration": 25,
    "start_time": "2023-05-13T10:48:16.129Z"
   },
   {
    "duration": 25,
    "start_time": "2023-05-13T10:48:27.358Z"
   },
   {
    "duration": 26,
    "start_time": "2023-05-13T10:48:40.667Z"
   },
   {
    "duration": 33,
    "start_time": "2023-05-13T10:49:02.959Z"
   },
   {
    "duration": 33,
    "start_time": "2023-05-13T10:49:39.432Z"
   },
   {
    "duration": 42,
    "start_time": "2023-05-13T10:49:49.516Z"
   },
   {
    "duration": 28,
    "start_time": "2023-05-13T10:50:01.969Z"
   },
   {
    "duration": 38,
    "start_time": "2023-05-13T10:50:14.189Z"
   },
   {
    "duration": 32,
    "start_time": "2023-05-13T10:50:39.010Z"
   },
   {
    "duration": 26,
    "start_time": "2023-05-13T10:50:56.057Z"
   },
   {
    "duration": 25,
    "start_time": "2023-05-13T10:51:02.528Z"
   },
   {
    "duration": 59,
    "start_time": "2023-05-13T10:51:56.059Z"
   },
   {
    "duration": 27,
    "start_time": "2023-05-13T10:52:07.764Z"
   },
   {
    "duration": 40,
    "start_time": "2023-05-13T10:52:09.381Z"
   },
   {
    "duration": 103,
    "start_time": "2023-05-13T10:52:10.176Z"
   },
   {
    "duration": 227,
    "start_time": "2023-05-13T10:52:13.260Z"
   },
   {
    "duration": 635,
    "start_time": "2023-05-13T10:52:14.771Z"
   },
   {
    "duration": 6,
    "start_time": "2023-05-13T10:52:17.175Z"
   },
   {
    "duration": 157,
    "start_time": "2023-05-13T10:52:17.859Z"
   },
   {
    "duration": 1728,
    "start_time": "2023-05-13T10:52:18.659Z"
   },
   {
    "duration": 166,
    "start_time": "2023-05-13T10:52:21.885Z"
   },
   {
    "duration": 2532,
    "start_time": "2023-05-13T10:53:45.482Z"
   },
   {
    "duration": 42,
    "start_time": "2023-05-13T10:54:03.762Z"
   },
   {
    "duration": 128,
    "start_time": "2023-05-13T10:54:07.617Z"
   },
   {
    "duration": 14,
    "start_time": "2023-05-13T10:54:11.061Z"
   },
   {
    "duration": 10,
    "start_time": "2023-05-13T10:56:45.664Z"
   },
   {
    "duration": 4,
    "start_time": "2023-05-13T10:56:50.017Z"
   },
   {
    "duration": 11,
    "start_time": "2023-05-13T11:03:54.917Z"
   },
   {
    "duration": 10,
    "start_time": "2023-05-13T11:04:03.926Z"
   },
   {
    "duration": 3,
    "start_time": "2023-05-13T11:04:09.523Z"
   },
   {
    "duration": 862,
    "start_time": "2023-05-13T11:04:09.529Z"
   },
   {
    "duration": 93,
    "start_time": "2023-05-13T11:04:10.394Z"
   },
   {
    "duration": 131,
    "start_time": "2023-05-13T11:04:10.499Z"
   },
   {
    "duration": 403,
    "start_time": "2023-05-13T11:04:10.633Z"
   },
   {
    "duration": 235,
    "start_time": "2023-05-13T11:04:11.038Z"
   },
   {
    "duration": 279,
    "start_time": "2023-05-13T11:04:11.275Z"
   },
   {
    "duration": 61,
    "start_time": "2023-05-13T11:04:11.555Z"
   },
   {
    "duration": 25,
    "start_time": "2023-05-13T11:04:11.618Z"
   },
   {
    "duration": 26,
    "start_time": "2023-05-13T11:04:11.644Z"
   },
   {
    "duration": 102,
    "start_time": "2023-05-13T11:04:11.671Z"
   },
   {
    "duration": 214,
    "start_time": "2023-05-13T11:04:11.775Z"
   },
   {
    "duration": 647,
    "start_time": "2023-05-13T11:04:11.994Z"
   },
   {
    "duration": 6,
    "start_time": "2023-05-13T11:04:12.644Z"
   },
   {
    "duration": 152,
    "start_time": "2023-05-13T11:04:12.651Z"
   },
   {
    "duration": 1833,
    "start_time": "2023-05-13T11:04:12.807Z"
   },
   {
    "duration": 8,
    "start_time": "2023-05-13T11:04:20.512Z"
   },
   {
    "duration": 9,
    "start_time": "2023-05-13T11:04:24.519Z"
   },
   {
    "duration": 10,
    "start_time": "2023-05-13T11:04:35.048Z"
   },
   {
    "duration": 10,
    "start_time": "2023-05-13T11:04:38.442Z"
   },
   {
    "duration": 8,
    "start_time": "2023-05-13T11:04:43.630Z"
   },
   {
    "duration": 2725,
    "start_time": "2023-05-13T11:18:22.986Z"
   },
   {
    "duration": 30,
    "start_time": "2023-05-13T11:18:31.265Z"
   },
   {
    "duration": 109,
    "start_time": "2023-05-13T11:18:32.478Z"
   },
   {
    "duration": 3,
    "start_time": "2023-05-13T11:18:58.678Z"
   },
   {
    "duration": 808,
    "start_time": "2023-05-13T11:18:58.683Z"
   },
   {
    "duration": 87,
    "start_time": "2023-05-13T11:18:59.494Z"
   },
   {
    "duration": 141,
    "start_time": "2023-05-13T11:18:59.583Z"
   },
   {
    "duration": 309,
    "start_time": "2023-05-13T11:18:59.727Z"
   },
   {
    "duration": 220,
    "start_time": "2023-05-13T11:19:00.038Z"
   },
   {
    "duration": 280,
    "start_time": "2023-05-13T11:19:00.260Z"
   },
   {
    "duration": 38,
    "start_time": "2023-05-13T11:19:00.542Z"
   },
   {
    "duration": 30,
    "start_time": "2023-05-13T11:19:00.598Z"
   },
   {
    "duration": 47,
    "start_time": "2023-05-13T11:19:00.629Z"
   },
   {
    "duration": 149,
    "start_time": "2023-05-13T11:19:00.677Z"
   },
   {
    "duration": 229,
    "start_time": "2023-05-13T11:19:00.828Z"
   },
   {
    "duration": 579,
    "start_time": "2023-05-13T11:19:01.059Z"
   },
   {
    "duration": 6,
    "start_time": "2023-05-13T11:19:01.640Z"
   },
   {
    "duration": 194,
    "start_time": "2023-05-13T11:19:01.648Z"
   },
   {
    "duration": 1899,
    "start_time": "2023-05-13T11:19:01.844Z"
   },
   {
    "duration": 9,
    "start_time": "2023-05-13T11:19:03.745Z"
   },
   {
    "duration": 2607,
    "start_time": "2023-05-13T11:19:03.756Z"
   },
   {
    "duration": 47,
    "start_time": "2023-05-13T11:19:06.365Z"
   },
   {
    "duration": 4,
    "start_time": "2023-05-13T11:19:06.416Z"
   },
   {
    "duration": 129,
    "start_time": "2023-05-13T11:19:06.444Z"
   },
   {
    "duration": 5,
    "start_time": "2023-05-13T11:23:27.640Z"
   },
   {
    "duration": 6,
    "start_time": "2023-05-13T11:24:00.154Z"
   },
   {
    "duration": 7,
    "start_time": "2023-05-13T11:24:09.523Z"
   },
   {
    "duration": 7,
    "start_time": "2023-05-13T11:24:31.253Z"
   },
   {
    "duration": 10,
    "start_time": "2023-05-13T11:25:00.480Z"
   },
   {
    "duration": 11,
    "start_time": "2023-05-13T11:25:09.042Z"
   },
   {
    "duration": 1733,
    "start_time": "2023-05-13T11:25:47.484Z"
   },
   {
    "duration": 12,
    "start_time": "2023-05-13T11:25:56.273Z"
   },
   {
    "duration": 115,
    "start_time": "2023-05-13T11:26:17.675Z"
   },
   {
    "duration": 141,
    "start_time": "2023-05-13T11:26:44.724Z"
   },
   {
    "duration": 148,
    "start_time": "2023-05-13T11:27:00.067Z"
   },
   {
    "duration": 192,
    "start_time": "2023-05-13T11:27:07.180Z"
   },
   {
    "duration": 13,
    "start_time": "2023-05-13T11:27:33.270Z"
   },
   {
    "duration": 75,
    "start_time": "2023-05-13T11:33:23.514Z"
   },
   {
    "duration": 27,
    "start_time": "2023-05-13T11:33:28.322Z"
   },
   {
    "duration": 28,
    "start_time": "2023-05-13T11:33:50.944Z"
   },
   {
    "duration": 46,
    "start_time": "2023-05-13T11:35:53.717Z"
   },
   {
    "duration": 36,
    "start_time": "2023-05-13T11:36:12.712Z"
   },
   {
    "duration": 33,
    "start_time": "2023-05-13T11:38:01.287Z"
   },
   {
    "duration": 5,
    "start_time": "2023-05-13T11:38:08.010Z"
   },
   {
    "duration": 30,
    "start_time": "2023-05-13T11:38:49.908Z"
   },
   {
    "duration": 4,
    "start_time": "2023-05-13T11:38:51.146Z"
   },
   {
    "duration": 14,
    "start_time": "2023-05-13T11:39:17.744Z"
   },
   {
    "duration": 15,
    "start_time": "2023-05-13T11:39:25.608Z"
   },
   {
    "duration": 33,
    "start_time": "2023-05-13T11:39:33.790Z"
   },
   {
    "duration": 27,
    "start_time": "2023-05-13T11:40:02.239Z"
   },
   {
    "duration": 5,
    "start_time": "2023-05-13T11:40:05.879Z"
   },
   {
    "duration": 144,
    "start_time": "2023-05-13T11:40:23.451Z"
   },
   {
    "duration": 143,
    "start_time": "2023-05-13T11:41:59.701Z"
   },
   {
    "duration": 134,
    "start_time": "2023-05-13T11:42:27.683Z"
   },
   {
    "duration": 27,
    "start_time": "2023-05-13T11:47:18.447Z"
   },
   {
    "duration": 22,
    "start_time": "2023-05-13T11:47:43.022Z"
   },
   {
    "duration": 26,
    "start_time": "2023-05-13T11:48:29.668Z"
   },
   {
    "duration": 27,
    "start_time": "2023-05-13T11:48:37.669Z"
   },
   {
    "duration": 37,
    "start_time": "2023-05-13T11:55:07.586Z"
   },
   {
    "duration": 34,
    "start_time": "2023-05-13T11:55:22.825Z"
   },
   {
    "duration": 28,
    "start_time": "2023-05-13T12:02:02.641Z"
   },
   {
    "duration": 9,
    "start_time": "2023-05-13T12:07:02.493Z"
   },
   {
    "duration": 10,
    "start_time": "2023-05-13T12:07:17.627Z"
   },
   {
    "duration": 11,
    "start_time": "2023-05-13T12:07:35.245Z"
   },
   {
    "duration": 10,
    "start_time": "2023-05-13T12:09:52.484Z"
   },
   {
    "duration": 11,
    "start_time": "2023-05-13T12:09:57.571Z"
   },
   {
    "duration": 11,
    "start_time": "2023-05-13T12:10:01.701Z"
   },
   {
    "duration": 9,
    "start_time": "2023-05-13T12:10:05.833Z"
   },
   {
    "duration": 8,
    "start_time": "2023-05-13T12:10:13.017Z"
   },
   {
    "duration": 9,
    "start_time": "2023-05-13T12:10:18.648Z"
   },
   {
    "duration": 8,
    "start_time": "2023-05-13T12:10:23.531Z"
   },
   {
    "duration": 9,
    "start_time": "2023-05-13T12:10:28.699Z"
   },
   {
    "duration": 53,
    "start_time": "2023-05-13T12:10:58.756Z"
   },
   {
    "duration": 40,
    "start_time": "2023-05-13T12:11:27.328Z"
   },
   {
    "duration": 17,
    "start_time": "2023-05-13T12:17:16.637Z"
   },
   {
    "duration": 151,
    "start_time": "2023-05-13T12:17:53.882Z"
   },
   {
    "duration": 1902,
    "start_time": "2023-05-13T12:18:22.915Z"
   },
   {
    "duration": 2324,
    "start_time": "2023-05-13T12:19:12.633Z"
   },
   {
    "duration": 1529,
    "start_time": "2023-05-13T12:19:28.129Z"
   },
   {
    "duration": 1651,
    "start_time": "2023-05-13T12:19:40.773Z"
   },
   {
    "duration": 46,
    "start_time": "2023-05-13T12:20:42.328Z"
   },
   {
    "duration": 33,
    "start_time": "2023-05-13T12:21:42.556Z"
   },
   {
    "duration": 4,
    "start_time": "2023-05-13T12:21:48.833Z"
   },
   {
    "duration": 100,
    "start_time": "2023-05-13T12:22:26.329Z"
   },
   {
    "duration": 40,
    "start_time": "2023-05-13T12:22:36.008Z"
   },
   {
    "duration": 11,
    "start_time": "2023-05-13T12:26:10.732Z"
   },
   {
    "duration": 11,
    "start_time": "2023-05-13T12:26:17.359Z"
   },
   {
    "duration": 33,
    "start_time": "2023-05-13T12:27:29.713Z"
   },
   {
    "duration": 166,
    "start_time": "2023-05-13T12:30:25.531Z"
   },
   {
    "duration": 218,
    "start_time": "2023-05-13T12:31:22.651Z"
   },
   {
    "duration": 215,
    "start_time": "2023-05-13T12:31:56.301Z"
   },
   {
    "duration": 32,
    "start_time": "2023-05-13T12:32:38.707Z"
   },
   {
    "duration": 31,
    "start_time": "2023-05-13T12:32:47.405Z"
   },
   {
    "duration": 87,
    "start_time": "2023-05-13T13:33:25.048Z"
   },
   {
    "duration": 66,
    "start_time": "2023-05-13T13:33:50.720Z"
   },
   {
    "duration": 12,
    "start_time": "2023-05-13T13:34:06.759Z"
   },
   {
    "duration": 11,
    "start_time": "2023-05-13T13:34:13.018Z"
   },
   {
    "duration": 81,
    "start_time": "2023-05-13T13:34:25.748Z"
   },
   {
    "duration": 79,
    "start_time": "2023-05-13T13:35:10.533Z"
   },
   {
    "duration": 79,
    "start_time": "2023-05-13T13:35:23.911Z"
   },
   {
    "duration": 87,
    "start_time": "2023-05-13T13:36:21.915Z"
   },
   {
    "duration": 663,
    "start_time": "2023-05-13T13:37:22.022Z"
   },
   {
    "duration": 911,
    "start_time": "2023-05-13T13:37:45.124Z"
   },
   {
    "duration": 2070,
    "start_time": "2023-05-13T13:41:07.301Z"
   },
   {
    "duration": 12,
    "start_time": "2023-05-13T13:47:30.319Z"
   },
   {
    "duration": 101,
    "start_time": "2023-05-13T13:47:50.366Z"
   },
   {
    "duration": 111,
    "start_time": "2023-05-13T13:47:56.072Z"
   },
   {
    "duration": 107,
    "start_time": "2023-05-13T13:48:36.307Z"
   },
   {
    "duration": 323,
    "start_time": "2023-05-13T13:49:21.708Z"
   },
   {
    "duration": 250,
    "start_time": "2023-05-13T13:49:40.682Z"
   },
   {
    "duration": 306,
    "start_time": "2023-05-13T13:49:45.049Z"
   },
   {
    "duration": 897,
    "start_time": "2023-05-13T13:51:52.871Z"
   },
   {
    "duration": 35,
    "start_time": "2023-05-13T13:53:15.094Z"
   },
   {
    "duration": 22,
    "start_time": "2023-05-13T13:53:58.341Z"
   },
   {
    "duration": 27,
    "start_time": "2023-05-13T13:54:42.424Z"
   },
   {
    "duration": 792,
    "start_time": "2023-05-13T13:55:05.008Z"
   },
   {
    "duration": 835,
    "start_time": "2023-05-13T13:55:32.392Z"
   },
   {
    "duration": 842,
    "start_time": "2023-05-13T13:55:41.424Z"
   },
   {
    "duration": 755,
    "start_time": "2023-05-13T13:56:41.313Z"
   },
   {
    "duration": 58,
    "start_time": "2023-05-13T13:57:00.197Z"
   },
   {
    "duration": 768,
    "start_time": "2023-05-13T13:57:05.198Z"
   },
   {
    "duration": 32,
    "start_time": "2023-05-13T14:05:05.790Z"
   },
   {
    "duration": 21,
    "start_time": "2023-05-13T14:05:41.359Z"
   },
   {
    "duration": 189,
    "start_time": "2023-05-13T14:26:15.687Z"
   },
   {
    "duration": 191,
    "start_time": "2023-05-13T14:26:19.646Z"
   },
   {
    "duration": 204,
    "start_time": "2023-05-13T14:26:55.523Z"
   },
   {
    "duration": 12,
    "start_time": "2023-05-13T14:27:15.178Z"
   },
   {
    "duration": 30,
    "start_time": "2023-05-13T14:27:18.220Z"
   },
   {
    "duration": 26,
    "start_time": "2023-05-13T14:27:21.425Z"
   },
   {
    "duration": 6,
    "start_time": "2023-05-13T15:04:33.498Z"
   },
   {
    "duration": 52,
    "start_time": "2023-05-13T15:22:34.731Z"
   },
   {
    "duration": 67,
    "start_time": "2023-05-13T15:22:39.680Z"
   },
   {
    "duration": 79,
    "start_time": "2023-05-13T15:24:42.788Z"
   },
   {
    "duration": 39,
    "start_time": "2023-05-13T15:52:05.249Z"
   },
   {
    "duration": 3,
    "start_time": "2023-05-13T15:52:25.828Z"
   },
   {
    "duration": 23,
    "start_time": "2023-05-13T15:52:48.014Z"
   },
   {
    "duration": 111,
    "start_time": "2023-05-13T16:05:58.294Z"
   },
   {
    "duration": 18539,
    "start_time": "2023-05-13T16:10:39.103Z"
   },
   {
    "duration": 14,
    "start_time": "2023-05-13T16:14:06.934Z"
   },
   {
    "duration": 4,
    "start_time": "2023-05-13T16:14:20.723Z"
   },
   {
    "duration": 4,
    "start_time": "2023-05-13T16:14:48.249Z"
   },
   {
    "duration": 968,
    "start_time": "2023-05-13T16:14:48.256Z"
   },
   {
    "duration": 104,
    "start_time": "2023-05-13T16:14:49.225Z"
   },
   {
    "duration": 133,
    "start_time": "2023-05-13T16:14:49.334Z"
   },
   {
    "duration": 360,
    "start_time": "2023-05-13T16:14:49.470Z"
   },
   {
    "duration": 260,
    "start_time": "2023-05-13T16:14:49.832Z"
   },
   {
    "duration": 296,
    "start_time": "2023-05-13T16:14:50.095Z"
   },
   {
    "duration": 65,
    "start_time": "2023-05-13T16:14:50.396Z"
   },
   {
    "duration": 41,
    "start_time": "2023-05-13T16:14:50.463Z"
   },
   {
    "duration": 63,
    "start_time": "2023-05-13T16:14:50.505Z"
   },
   {
    "duration": 104,
    "start_time": "2023-05-13T16:14:50.569Z"
   },
   {
    "duration": 235,
    "start_time": "2023-05-13T16:14:50.675Z"
   },
   {
    "duration": 640,
    "start_time": "2023-05-13T16:14:50.913Z"
   },
   {
    "duration": 5,
    "start_time": "2023-05-13T16:14:51.557Z"
   },
   {
    "duration": 120,
    "start_time": "2023-05-13T16:14:51.564Z"
   },
   {
    "duration": 41,
    "start_time": "2023-05-13T16:14:51.686Z"
   },
   {
    "duration": 1857,
    "start_time": "2023-05-13T16:14:51.729Z"
   },
   {
    "duration": 108,
    "start_time": "2023-05-13T16:14:53.588Z"
   },
   {
    "duration": 13,
    "start_time": "2023-05-13T16:14:53.706Z"
   },
   {
    "duration": 2503,
    "start_time": "2023-05-13T16:14:53.724Z"
   },
   {
    "duration": 32,
    "start_time": "2023-05-13T16:14:56.228Z"
   },
   {
    "duration": 4,
    "start_time": "2023-05-13T16:14:56.262Z"
   },
   {
    "duration": 78,
    "start_time": "2023-05-13T16:14:56.268Z"
   },
   {
    "duration": 30,
    "start_time": "2023-05-13T16:14:56.348Z"
   },
   {
    "duration": 5,
    "start_time": "2023-05-13T16:14:56.379Z"
   },
   {
    "duration": 60,
    "start_time": "2023-05-13T16:14:56.385Z"
   },
   {
    "duration": 26,
    "start_time": "2023-05-13T16:14:56.447Z"
   },
   {
    "duration": 5,
    "start_time": "2023-05-13T16:14:56.474Z"
   },
   {
    "duration": 258,
    "start_time": "2023-05-13T16:14:56.480Z"
   },
   {
    "duration": 17,
    "start_time": "2023-05-13T16:14:56.740Z"
   },
   {
    "duration": 2063,
    "start_time": "2023-05-13T16:14:56.758Z"
   },
   {
    "duration": 19,
    "start_time": "2023-05-13T16:14:58.824Z"
   },
   {
    "duration": 140,
    "start_time": "2023-05-13T16:14:58.844Z"
   },
   {
    "duration": 169,
    "start_time": "2023-05-13T16:14:58.986Z"
   },
   {
    "duration": 4,
    "start_time": "2023-05-13T16:14:59.156Z"
   },
   {
    "duration": 66,
    "start_time": "2023-05-13T16:14:59.162Z"
   },
   {
    "duration": 77,
    "start_time": "2023-05-13T16:14:59.230Z"
   },
   {
    "duration": 6178,
    "start_time": "2023-05-13T16:14:59.311Z"
   },
   {
    "duration": 3,
    "start_time": "2023-05-13T16:17:31.034Z"
   },
   {
    "duration": 4,
    "start_time": "2023-05-13T16:40:28.212Z"
   },
   {
    "duration": 2,
    "start_time": "2023-05-13T16:44:05.328Z"
   },
   {
    "duration": 3,
    "start_time": "2023-05-13T16:49:55.825Z"
   },
   {
    "duration": 798,
    "start_time": "2023-05-13T16:49:55.831Z"
   },
   {
    "duration": 93,
    "start_time": "2023-05-13T16:49:56.631Z"
   },
   {
    "duration": 125,
    "start_time": "2023-05-13T16:49:56.725Z"
   },
   {
    "duration": 336,
    "start_time": "2023-05-13T16:49:56.852Z"
   },
   {
    "duration": 220,
    "start_time": "2023-05-13T16:49:57.194Z"
   },
   {
    "duration": 251,
    "start_time": "2023-05-13T16:49:57.416Z"
   },
   {
    "duration": 59,
    "start_time": "2023-05-13T16:49:57.669Z"
   },
   {
    "duration": 24,
    "start_time": "2023-05-13T16:49:57.730Z"
   },
   {
    "duration": 27,
    "start_time": "2023-05-13T16:49:57.756Z"
   },
   {
    "duration": 93,
    "start_time": "2023-05-13T16:49:57.795Z"
   },
   {
    "duration": 340,
    "start_time": "2023-05-13T16:50:07.171Z"
   },
   {
    "duration": 296,
    "start_time": "2023-05-13T16:51:27.313Z"
   },
   {
    "duration": 298,
    "start_time": "2023-05-13T16:52:03.533Z"
   },
   {
    "duration": 344,
    "start_time": "2023-05-13T16:52:37.938Z"
   },
   {
    "duration": 24,
    "start_time": "2023-05-13T16:53:02.779Z"
   },
   {
    "duration": 20,
    "start_time": "2023-05-13T16:53:20.839Z"
   },
   {
    "duration": 30,
    "start_time": "2023-05-13T16:53:26.963Z"
   },
   {
    "duration": 33,
    "start_time": "2023-05-13T16:53:32.688Z"
   },
   {
    "duration": 34,
    "start_time": "2023-05-13T16:53:44.415Z"
   },
   {
    "duration": 28,
    "start_time": "2023-05-13T16:53:49.772Z"
   },
   {
    "duration": 18,
    "start_time": "2023-05-13T16:53:57.125Z"
   },
   {
    "duration": 236,
    "start_time": "2023-05-13T16:54:07.845Z"
   },
   {
    "duration": 562,
    "start_time": "2023-05-13T16:54:19.351Z"
   },
   {
    "duration": 5,
    "start_time": "2023-05-13T16:54:37.459Z"
   },
   {
    "duration": 90,
    "start_time": "2023-05-13T16:54:38.969Z"
   },
   {
    "duration": 27,
    "start_time": "2023-05-13T16:54:42.377Z"
   },
   {
    "duration": 1830,
    "start_time": "2023-05-13T16:54:43.936Z"
   },
   {
    "duration": 108,
    "start_time": "2023-05-13T16:54:47.016Z"
   },
   {
    "duration": 9,
    "start_time": "2023-05-13T16:54:49.621Z"
   },
   {
    "duration": 2114,
    "start_time": "2023-05-13T16:54:50.476Z"
   },
   {
    "duration": 34,
    "start_time": "2023-05-13T16:54:59.684Z"
   },
   {
    "duration": 5,
    "start_time": "2023-05-13T16:55:00.212Z"
   },
   {
    "duration": 23,
    "start_time": "2023-05-13T16:55:01.060Z"
   },
   {
    "duration": 33,
    "start_time": "2023-05-13T16:55:02.276Z"
   },
   {
    "duration": 5,
    "start_time": "2023-05-13T16:55:03.144Z"
   },
   {
    "duration": 21,
    "start_time": "2023-05-13T16:55:04.944Z"
   },
   {
    "duration": 23,
    "start_time": "2023-05-13T16:55:05.713Z"
   },
   {
    "duration": 6,
    "start_time": "2023-05-13T16:55:06.421Z"
   },
   {
    "duration": 229,
    "start_time": "2023-05-13T16:55:08.981Z"
   },
   {
    "duration": 17,
    "start_time": "2023-05-13T16:55:16.913Z"
   },
   {
    "duration": 746,
    "start_time": "2023-05-13T16:55:17.568Z"
   },
   {
    "duration": 18,
    "start_time": "2023-05-13T16:55:26.212Z"
   },
   {
    "duration": 125,
    "start_time": "2023-05-13T16:55:26.920Z"
   },
   {
    "duration": 135,
    "start_time": "2023-05-13T16:55:27.550Z"
   },
   {
    "duration": 3,
    "start_time": "2023-05-13T16:55:28.512Z"
   },
   {
    "duration": 48,
    "start_time": "2023-05-13T16:55:30.687Z"
   },
   {
    "duration": 62,
    "start_time": "2023-05-13T16:55:31.327Z"
   },
   {
    "duration": 5716,
    "start_time": "2023-05-13T16:55:33.980Z"
   },
   {
    "duration": 75,
    "start_time": "2023-05-13T17:00:11.175Z"
   },
   {
    "duration": 4,
    "start_time": "2023-05-13T17:08:30.886Z"
   },
   {
    "duration": 868,
    "start_time": "2023-05-13T18:14:50.882Z"
   },
   {
    "duration": 385,
    "start_time": "2023-05-13T18:22:30.254Z"
   },
   {
    "duration": 354,
    "start_time": "2023-05-13T18:24:10.801Z"
   },
   {
    "duration": 368,
    "start_time": "2023-05-13T18:24:52.662Z"
   },
   {
    "duration": 407,
    "start_time": "2023-05-13T18:26:01.733Z"
   },
   {
    "duration": 375,
    "start_time": "2023-05-13T18:27:35.793Z"
   },
   {
    "duration": 345,
    "start_time": "2023-05-13T18:27:57.608Z"
   },
   {
    "duration": 360,
    "start_time": "2023-05-13T18:28:26.068Z"
   },
   {
    "duration": 343,
    "start_time": "2023-05-13T18:29:20.200Z"
   },
   {
    "duration": 5,
    "start_time": "2023-05-13T18:29:49.254Z"
   },
   {
    "duration": 736,
    "start_time": "2023-05-13T18:29:49.260Z"
   },
   {
    "duration": 97,
    "start_time": "2023-05-13T18:29:49.998Z"
   },
   {
    "duration": 115,
    "start_time": "2023-05-13T18:29:50.098Z"
   },
   {
    "duration": 306,
    "start_time": "2023-05-13T18:29:50.214Z"
   },
   {
    "duration": 196,
    "start_time": "2023-05-13T18:29:50.522Z"
   },
   {
    "duration": 239,
    "start_time": "2023-05-13T18:29:50.719Z"
   },
   {
    "duration": 44,
    "start_time": "2023-05-13T18:29:50.960Z"
   },
   {
    "duration": 23,
    "start_time": "2023-05-13T18:29:51.005Z"
   },
   {
    "duration": 27,
    "start_time": "2023-05-13T18:29:51.030Z"
   },
   {
    "duration": 88,
    "start_time": "2023-05-13T18:29:51.059Z"
   },
   {
    "duration": 220,
    "start_time": "2023-05-13T18:29:51.148Z"
   },
   {
    "duration": 517,
    "start_time": "2023-05-13T18:29:51.369Z"
   },
   {
    "duration": 9,
    "start_time": "2023-05-13T18:29:51.887Z"
   },
   {
    "duration": 103,
    "start_time": "2023-05-13T18:29:51.898Z"
   },
   {
    "duration": 26,
    "start_time": "2023-05-13T18:29:52.003Z"
   },
   {
    "duration": 1615,
    "start_time": "2023-05-13T18:29:52.030Z"
   },
   {
    "duration": 102,
    "start_time": "2023-05-13T18:29:53.647Z"
   },
   {
    "duration": 9,
    "start_time": "2023-05-13T18:29:53.751Z"
   },
   {
    "duration": 2023,
    "start_time": "2023-05-13T18:29:53.762Z"
   },
   {
    "duration": 32,
    "start_time": "2023-05-13T18:29:55.787Z"
   },
   {
    "duration": 3,
    "start_time": "2023-05-13T18:29:55.821Z"
   },
   {
    "duration": 38,
    "start_time": "2023-05-13T18:29:55.826Z"
   },
   {
    "duration": 37,
    "start_time": "2023-05-13T18:29:55.865Z"
   },
   {
    "duration": 4,
    "start_time": "2023-05-13T18:29:55.904Z"
   },
   {
    "duration": 26,
    "start_time": "2023-05-13T18:29:55.909Z"
   },
   {
    "duration": 23,
    "start_time": "2023-05-13T18:29:55.937Z"
   },
   {
    "duration": 4,
    "start_time": "2023-05-13T18:29:55.963Z"
   },
   {
    "duration": 225,
    "start_time": "2023-05-13T18:29:55.969Z"
   },
   {
    "duration": 17,
    "start_time": "2023-05-13T18:29:56.196Z"
   },
   {
    "duration": 689,
    "start_time": "2023-05-13T18:29:56.215Z"
   },
   {
    "duration": 15,
    "start_time": "2023-05-13T18:29:56.906Z"
   },
   {
    "duration": 124,
    "start_time": "2023-05-13T18:29:56.923Z"
   },
   {
    "duration": 135,
    "start_time": "2023-05-13T18:29:57.049Z"
   },
   {
    "duration": 3,
    "start_time": "2023-05-13T18:29:57.185Z"
   },
   {
    "duration": 44,
    "start_time": "2023-05-13T18:29:57.195Z"
   },
   {
    "duration": 71,
    "start_time": "2023-05-13T18:29:57.240Z"
   },
   {
    "duration": 4941,
    "start_time": "2023-05-13T18:29:57.312Z"
   },
   {
    "duration": 80,
    "start_time": "2023-05-13T18:30:02.255Z"
   },
   {
    "duration": 466,
    "start_time": "2023-05-13T18:30:23.671Z"
   },
   {
    "duration": 387,
    "start_time": "2023-05-13T18:31:32.621Z"
   },
   {
    "duration": 404,
    "start_time": "2023-05-13T18:32:13.497Z"
   },
   {
    "duration": 19,
    "start_time": "2023-05-13T18:33:52.996Z"
   },
   {
    "duration": 5,
    "start_time": "2023-05-13T18:39:09.343Z"
   },
   {
    "duration": 916,
    "start_time": "2023-05-13T18:39:09.351Z"
   },
   {
    "duration": 98,
    "start_time": "2023-05-13T18:39:10.269Z"
   },
   {
    "duration": 155,
    "start_time": "2023-05-13T18:39:10.368Z"
   },
   {
    "duration": 328,
    "start_time": "2023-05-13T18:39:10.524Z"
   },
   {
    "duration": 242,
    "start_time": "2023-05-13T18:39:10.854Z"
   },
   {
    "duration": 272,
    "start_time": "2023-05-13T18:39:11.098Z"
   },
   {
    "duration": 54,
    "start_time": "2023-05-13T18:39:11.372Z"
   },
   {
    "duration": 27,
    "start_time": "2023-05-13T18:39:11.427Z"
   },
   {
    "duration": 47,
    "start_time": "2023-05-13T18:39:11.457Z"
   },
   {
    "duration": 99,
    "start_time": "2023-05-13T18:39:11.506Z"
   },
   {
    "duration": 260,
    "start_time": "2023-05-13T18:39:11.608Z"
   },
   {
    "duration": 606,
    "start_time": "2023-05-13T18:39:11.870Z"
   },
   {
    "duration": 18,
    "start_time": "2023-05-13T18:39:12.477Z"
   },
   {
    "duration": 104,
    "start_time": "2023-05-13T18:39:12.498Z"
   },
   {
    "duration": 27,
    "start_time": "2023-05-13T18:39:12.604Z"
   },
   {
    "duration": 1708,
    "start_time": "2023-05-13T18:39:12.633Z"
   },
   {
    "duration": 102,
    "start_time": "2023-05-13T18:39:14.343Z"
   },
   {
    "duration": 11,
    "start_time": "2023-05-13T18:39:14.448Z"
   },
   {
    "duration": 2013,
    "start_time": "2023-05-13T18:39:14.462Z"
   },
   {
    "duration": 41,
    "start_time": "2023-05-13T18:39:16.476Z"
   },
   {
    "duration": 5,
    "start_time": "2023-05-13T18:39:16.519Z"
   },
   {
    "duration": 33,
    "start_time": "2023-05-13T18:39:16.526Z"
   },
   {
    "duration": 37,
    "start_time": "2023-05-13T18:39:16.561Z"
   },
   {
    "duration": 5,
    "start_time": "2023-05-13T18:39:16.600Z"
   },
   {
    "duration": 31,
    "start_time": "2023-05-13T18:39:16.607Z"
   },
   {
    "duration": 25,
    "start_time": "2023-05-13T18:39:16.640Z"
   },
   {
    "duration": 3,
    "start_time": "2023-05-13T18:39:16.668Z"
   },
   {
    "duration": 247,
    "start_time": "2023-05-13T18:39:16.673Z"
   },
   {
    "duration": 18,
    "start_time": "2023-05-13T18:39:16.922Z"
   },
   {
    "duration": 726,
    "start_time": "2023-05-13T18:39:16.941Z"
   },
   {
    "duration": 21,
    "start_time": "2023-05-13T18:39:17.669Z"
   },
   {
    "duration": 136,
    "start_time": "2023-05-13T18:39:17.696Z"
   },
   {
    "duration": 135,
    "start_time": "2023-05-13T18:39:17.834Z"
   },
   {
    "duration": 3,
    "start_time": "2023-05-13T18:39:17.970Z"
   },
   {
    "duration": 57,
    "start_time": "2023-05-13T18:39:17.975Z"
   },
   {
    "duration": 68,
    "start_time": "2023-05-13T18:39:18.034Z"
   },
   {
    "duration": 5959,
    "start_time": "2023-05-13T18:39:18.104Z"
   },
   {
    "duration": 83,
    "start_time": "2023-05-13T18:39:24.065Z"
   },
   {
    "duration": 183,
    "start_time": "2023-05-13T18:39:32.734Z"
   },
   {
    "duration": 1478,
    "start_time": "2023-05-13T18:40:31.218Z"
   },
   {
    "duration": 938,
    "start_time": "2023-05-13T18:40:32.697Z"
   },
   {
    "duration": 109,
    "start_time": "2023-05-13T18:40:33.636Z"
   },
   {
    "duration": 125,
    "start_time": "2023-05-13T18:40:33.747Z"
   },
   {
    "duration": 366,
    "start_time": "2023-05-13T18:40:33.874Z"
   },
   {
    "duration": 221,
    "start_time": "2023-05-13T18:40:34.242Z"
   },
   {
    "duration": 370,
    "start_time": "2023-05-13T18:40:34.465Z"
   },
   {
    "duration": 47,
    "start_time": "2023-05-13T18:40:34.837Z"
   },
   {
    "duration": 28,
    "start_time": "2023-05-13T18:40:34.886Z"
   },
   {
    "duration": 24,
    "start_time": "2023-05-13T18:40:34.916Z"
   },
   {
    "duration": 100,
    "start_time": "2023-05-13T18:40:34.942Z"
   },
   {
    "duration": 239,
    "start_time": "2023-05-13T18:40:35.043Z"
   },
   {
    "duration": 581,
    "start_time": "2023-05-13T18:40:35.284Z"
   },
   {
    "duration": 5,
    "start_time": "2023-05-13T18:40:35.866Z"
   },
   {
    "duration": 105,
    "start_time": "2023-05-13T18:40:35.872Z"
   },
   {
    "duration": 29,
    "start_time": "2023-05-13T18:40:35.978Z"
   },
   {
    "duration": 1765,
    "start_time": "2023-05-13T18:40:36.009Z"
   },
   {
    "duration": 113,
    "start_time": "2023-05-13T18:40:37.776Z"
   },
   {
    "duration": 9,
    "start_time": "2023-05-13T18:40:37.891Z"
   },
   {
    "duration": 1965,
    "start_time": "2023-05-13T18:40:37.901Z"
   },
   {
    "duration": 42,
    "start_time": "2023-05-13T18:40:39.867Z"
   },
   {
    "duration": 5,
    "start_time": "2023-05-13T18:40:39.911Z"
   },
   {
    "duration": 24,
    "start_time": "2023-05-13T18:40:39.917Z"
   },
   {
    "duration": 52,
    "start_time": "2023-05-13T18:40:39.943Z"
   },
   {
    "duration": 4,
    "start_time": "2023-05-13T18:40:39.997Z"
   },
   {
    "duration": 38,
    "start_time": "2023-05-13T18:40:40.002Z"
   },
   {
    "duration": 35,
    "start_time": "2023-05-13T18:40:40.041Z"
   },
   {
    "duration": 3,
    "start_time": "2023-05-13T18:40:40.080Z"
   },
   {
    "duration": 221,
    "start_time": "2023-05-13T18:40:40.085Z"
   },
   {
    "duration": 17,
    "start_time": "2023-05-13T18:40:40.307Z"
   },
   {
    "duration": 736,
    "start_time": "2023-05-13T18:40:40.326Z"
   },
   {
    "duration": 17,
    "start_time": "2023-05-13T18:40:41.064Z"
   },
   {
    "duration": 125,
    "start_time": "2023-05-13T18:40:41.095Z"
   },
   {
    "duration": 142,
    "start_time": "2023-05-13T18:40:41.222Z"
   },
   {
    "duration": 3,
    "start_time": "2023-05-13T18:40:41.366Z"
   },
   {
    "duration": 55,
    "start_time": "2023-05-13T18:40:41.371Z"
   },
   {
    "duration": 74,
    "start_time": "2023-05-13T18:40:41.428Z"
   },
   {
    "duration": 5205,
    "start_time": "2023-05-13T18:40:41.503Z"
   },
   {
    "duration": 87,
    "start_time": "2023-05-13T18:40:46.710Z"
   },
   {
    "duration": 297,
    "start_time": "2023-05-13T18:40:46.799Z"
   },
   {
    "duration": 0,
    "start_time": "2023-05-13T18:40:47.098Z"
   },
   {
    "duration": 17,
    "start_time": "2023-05-13T18:42:02.213Z"
   },
   {
    "duration": 42,
    "start_time": "2023-05-13T18:42:48.705Z"
   },
   {
    "duration": 13,
    "start_time": "2023-05-13T18:42:53.300Z"
   },
   {
    "duration": 17,
    "start_time": "2023-05-13T18:43:01.193Z"
   },
   {
    "duration": 1192,
    "start_time": "2023-05-13T18:43:21.881Z"
   },
   {
    "duration": 76,
    "start_time": "2023-05-13T18:43:44.585Z"
   },
   {
    "duration": 15,
    "start_time": "2023-05-13T18:43:50.294Z"
   },
   {
    "duration": 23,
    "start_time": "2023-05-13T18:44:09.737Z"
   },
   {
    "duration": 574,
    "start_time": "2023-05-13T18:45:00.191Z"
   },
   {
    "duration": 299,
    "start_time": "2023-05-13T18:46:07.834Z"
   },
   {
    "duration": 4,
    "start_time": "2023-05-13T18:46:23.108Z"
   },
   {
    "duration": 806,
    "start_time": "2023-05-13T18:46:23.114Z"
   },
   {
    "duration": 89,
    "start_time": "2023-05-13T18:46:23.921Z"
   },
   {
    "duration": 121,
    "start_time": "2023-05-13T18:46:24.012Z"
   },
   {
    "duration": 290,
    "start_time": "2023-05-13T18:46:24.135Z"
   },
   {
    "duration": 209,
    "start_time": "2023-05-13T18:46:24.427Z"
   },
   {
    "duration": 246,
    "start_time": "2023-05-13T18:46:24.638Z"
   },
   {
    "duration": 47,
    "start_time": "2023-05-13T18:46:24.886Z"
   },
   {
    "duration": 28,
    "start_time": "2023-05-13T18:46:24.934Z"
   },
   {
    "duration": 53,
    "start_time": "2023-05-13T18:46:24.963Z"
   },
   {
    "duration": 93,
    "start_time": "2023-05-13T18:46:25.018Z"
   },
   {
    "duration": 221,
    "start_time": "2023-05-13T18:46:25.113Z"
   },
   {
    "duration": 618,
    "start_time": "2023-05-13T18:46:25.336Z"
   },
   {
    "duration": 5,
    "start_time": "2023-05-13T18:46:25.957Z"
   },
   {
    "duration": 93,
    "start_time": "2023-05-13T18:46:25.963Z"
   },
   {
    "duration": 23,
    "start_time": "2023-05-13T18:46:26.058Z"
   },
   {
    "duration": 1664,
    "start_time": "2023-05-13T18:46:26.083Z"
   },
   {
    "duration": 103,
    "start_time": "2023-05-13T18:46:27.749Z"
   },
   {
    "duration": 8,
    "start_time": "2023-05-13T18:46:27.853Z"
   },
   {
    "duration": 1910,
    "start_time": "2023-05-13T18:46:27.863Z"
   },
   {
    "duration": 43,
    "start_time": "2023-05-13T18:46:29.775Z"
   },
   {
    "duration": 3,
    "start_time": "2023-05-13T18:46:29.820Z"
   },
   {
    "duration": 24,
    "start_time": "2023-05-13T18:46:29.825Z"
   },
   {
    "duration": 25,
    "start_time": "2023-05-13T18:46:29.851Z"
   },
   {
    "duration": 17,
    "start_time": "2023-05-13T18:46:29.878Z"
   },
   {
    "duration": 25,
    "start_time": "2023-05-13T18:46:29.897Z"
   },
   {
    "duration": 23,
    "start_time": "2023-05-13T18:46:29.925Z"
   },
   {
    "duration": 4,
    "start_time": "2023-05-13T18:46:29.950Z"
   },
   {
    "duration": 242,
    "start_time": "2023-05-13T18:46:29.955Z"
   },
   {
    "duration": 17,
    "start_time": "2023-05-13T18:46:30.198Z"
   },
   {
    "duration": 834,
    "start_time": "2023-05-13T18:46:30.217Z"
   },
   {
    "duration": 17,
    "start_time": "2023-05-13T18:46:31.052Z"
   },
   {
    "duration": 133,
    "start_time": "2023-05-13T18:46:31.070Z"
   },
   {
    "duration": 135,
    "start_time": "2023-05-13T18:46:31.205Z"
   },
   {
    "duration": 2,
    "start_time": "2023-05-13T18:46:31.342Z"
   },
   {
    "duration": 89,
    "start_time": "2023-05-13T18:46:31.346Z"
   },
   {
    "duration": 68,
    "start_time": "2023-05-13T18:46:31.437Z"
   },
   {
    "duration": 5144,
    "start_time": "2023-05-13T18:46:31.506Z"
   },
   {
    "duration": 79,
    "start_time": "2023-05-13T18:46:36.651Z"
   },
   {
    "duration": 644,
    "start_time": "2023-05-13T18:48:03.638Z"
   },
   {
    "duration": 88,
    "start_time": "2023-05-13T18:50:59.088Z"
   },
   {
    "duration": 94,
    "start_time": "2023-05-13T18:52:32.290Z"
   },
   {
    "duration": 82,
    "start_time": "2023-05-13T18:52:44.200Z"
   },
   {
    "duration": 79,
    "start_time": "2023-05-13T18:52:50.719Z"
   },
   {
    "duration": 93,
    "start_time": "2023-05-13T18:53:08.866Z"
   },
   {
    "duration": 525,
    "start_time": "2023-05-13T18:54:45.960Z"
   },
   {
    "duration": 4,
    "start_time": "2023-05-13T18:55:04.778Z"
   },
   {
    "duration": 810,
    "start_time": "2023-05-13T18:55:04.785Z"
   },
   {
    "duration": 100,
    "start_time": "2023-05-13T18:55:05.597Z"
   },
   {
    "duration": 134,
    "start_time": "2023-05-13T18:55:05.698Z"
   },
   {
    "duration": 335,
    "start_time": "2023-05-13T18:55:05.835Z"
   },
   {
    "duration": 227,
    "start_time": "2023-05-13T18:55:06.172Z"
   },
   {
    "duration": 277,
    "start_time": "2023-05-13T18:55:06.401Z"
   },
   {
    "duration": 40,
    "start_time": "2023-05-13T18:55:06.680Z"
   },
   {
    "duration": 23,
    "start_time": "2023-05-13T18:55:06.722Z"
   },
   {
    "duration": 48,
    "start_time": "2023-05-13T18:55:06.747Z"
   },
   {
    "duration": 87,
    "start_time": "2023-05-13T18:55:06.796Z"
   },
   {
    "duration": 225,
    "start_time": "2023-05-13T18:55:06.894Z"
   },
   {
    "duration": 668,
    "start_time": "2023-05-13T18:55:07.120Z"
   },
   {
    "duration": 5,
    "start_time": "2023-05-13T18:55:07.795Z"
   },
   {
    "duration": 100,
    "start_time": "2023-05-13T18:55:07.802Z"
   },
   {
    "duration": 21,
    "start_time": "2023-05-13T18:55:07.904Z"
   },
   {
    "duration": 1899,
    "start_time": "2023-05-13T18:55:07.927Z"
   },
   {
    "duration": 125,
    "start_time": "2023-05-13T18:55:09.828Z"
   },
   {
    "duration": 9,
    "start_time": "2023-05-13T18:55:09.955Z"
   },
   {
    "duration": 2101,
    "start_time": "2023-05-13T18:55:09.965Z"
   },
   {
    "duration": 46,
    "start_time": "2023-05-13T18:55:12.068Z"
   },
   {
    "duration": 5,
    "start_time": "2023-05-13T18:55:12.116Z"
   },
   {
    "duration": 43,
    "start_time": "2023-05-13T18:55:12.123Z"
   },
   {
    "duration": 26,
    "start_time": "2023-05-13T18:55:12.168Z"
   },
   {
    "duration": 5,
    "start_time": "2023-05-13T18:55:12.196Z"
   },
   {
    "duration": 27,
    "start_time": "2023-05-13T18:55:12.202Z"
   },
   {
    "duration": 22,
    "start_time": "2023-05-13T18:55:12.231Z"
   },
   {
    "duration": 5,
    "start_time": "2023-05-13T18:55:12.254Z"
   },
   {
    "duration": 258,
    "start_time": "2023-05-13T18:55:12.260Z"
   },
   {
    "duration": 18,
    "start_time": "2023-05-13T18:55:12.520Z"
   },
   {
    "duration": 880,
    "start_time": "2023-05-13T18:55:12.540Z"
   },
   {
    "duration": 16,
    "start_time": "2023-05-13T18:55:13.422Z"
   },
   {
    "duration": 143,
    "start_time": "2023-05-13T18:55:13.440Z"
   },
   {
    "duration": 142,
    "start_time": "2023-05-13T18:55:13.584Z"
   },
   {
    "duration": 3,
    "start_time": "2023-05-13T18:55:13.727Z"
   },
   {
    "duration": 64,
    "start_time": "2023-05-13T18:55:13.732Z"
   },
   {
    "duration": 64,
    "start_time": "2023-05-13T18:55:13.797Z"
   },
   {
    "duration": 5164,
    "start_time": "2023-05-13T18:55:13.863Z"
   },
   {
    "duration": 81,
    "start_time": "2023-05-13T18:55:19.028Z"
   },
   {
    "duration": 824,
    "start_time": "2023-05-13T18:55:19.110Z"
   },
   {
    "duration": 23,
    "start_time": "2023-05-13T18:55:25.720Z"
   },
   {
    "duration": 19,
    "start_time": "2023-05-13T18:55:31.592Z"
   },
   {
    "duration": 3,
    "start_time": "2023-05-13T19:14:42.751Z"
   },
   {
    "duration": 44,
    "start_time": "2023-05-13T19:16:23.404Z"
   },
   {
    "duration": 5,
    "start_time": "2023-05-13T19:21:47.083Z"
   },
   {
    "duration": 200,
    "start_time": "2023-05-13T19:45:19.828Z"
   },
   {
    "duration": 38,
    "start_time": "2023-05-13T19:45:25.976Z"
   },
   {
    "duration": 22,
    "start_time": "2023-05-13T19:46:22.084Z"
   },
   {
    "duration": 5345,
    "start_time": "2023-05-13T19:55:28.283Z"
   },
   {
    "duration": 37171,
    "start_time": "2023-05-13T19:58:46.342Z"
   },
   {
    "duration": 159,
    "start_time": "2023-05-13T20:07:49.816Z"
   },
   {
    "duration": 96938,
    "start_time": "2023-05-13T20:07:55.865Z"
   },
   {
    "duration": 4,
    "start_time": "2023-05-13T20:09:49.943Z"
   },
   {
    "duration": 764,
    "start_time": "2023-05-13T20:09:49.948Z"
   },
   {
    "duration": 86,
    "start_time": "2023-05-13T20:09:50.713Z"
   },
   {
    "duration": 119,
    "start_time": "2023-05-13T20:09:50.801Z"
   },
   {
    "duration": 289,
    "start_time": "2023-05-13T20:09:50.922Z"
   },
   {
    "duration": 201,
    "start_time": "2023-05-13T20:09:51.213Z"
   },
   {
    "duration": 242,
    "start_time": "2023-05-13T20:09:51.416Z"
   },
   {
    "duration": 45,
    "start_time": "2023-05-13T20:09:51.660Z"
   },
   {
    "duration": 23,
    "start_time": "2023-05-13T20:09:51.706Z"
   },
   {
    "duration": 35,
    "start_time": "2023-05-13T20:09:51.731Z"
   },
   {
    "duration": 84,
    "start_time": "2023-05-13T20:09:51.768Z"
   },
   {
    "duration": 232,
    "start_time": "2023-05-13T20:09:51.853Z"
   },
   {
    "duration": 551,
    "start_time": "2023-05-13T20:09:52.087Z"
   },
   {
    "duration": 5,
    "start_time": "2023-05-13T20:09:52.641Z"
   },
   {
    "duration": 105,
    "start_time": "2023-05-13T20:09:52.647Z"
   },
   {
    "duration": 19,
    "start_time": "2023-05-13T20:09:52.754Z"
   },
   {
    "duration": 1702,
    "start_time": "2023-05-13T20:09:52.775Z"
   },
   {
    "duration": 107,
    "start_time": "2023-05-13T20:09:54.479Z"
   },
   {
    "duration": 12,
    "start_time": "2023-05-13T20:09:54.588Z"
   },
   {
    "duration": 1985,
    "start_time": "2023-05-13T20:09:54.601Z"
   },
   {
    "duration": 38,
    "start_time": "2023-05-13T20:09:56.594Z"
   },
   {
    "duration": 4,
    "start_time": "2023-05-13T20:09:56.634Z"
   },
   {
    "duration": 28,
    "start_time": "2023-05-13T20:09:56.639Z"
   },
   {
    "duration": 39,
    "start_time": "2023-05-13T20:09:56.669Z"
   },
   {
    "duration": 3,
    "start_time": "2023-05-13T20:09:56.710Z"
   },
   {
    "duration": 23,
    "start_time": "2023-05-13T20:09:56.714Z"
   },
   {
    "duration": 23,
    "start_time": "2023-05-13T20:09:56.738Z"
   },
   {
    "duration": 4,
    "start_time": "2023-05-13T20:09:56.762Z"
   },
   {
    "duration": 219,
    "start_time": "2023-05-13T20:09:56.795Z"
   },
   {
    "duration": 15,
    "start_time": "2023-05-13T20:09:57.016Z"
   },
   {
    "duration": 833,
    "start_time": "2023-05-13T20:09:57.033Z"
   },
   {
    "duration": 14,
    "start_time": "2023-05-13T20:09:57.868Z"
   },
   {
    "duration": 117,
    "start_time": "2023-05-13T20:09:57.895Z"
   },
   {
    "duration": 133,
    "start_time": "2023-05-13T20:09:58.014Z"
   },
   {
    "duration": 4,
    "start_time": "2023-05-13T20:09:58.149Z"
   },
   {
    "duration": 50,
    "start_time": "2023-05-13T20:09:58.154Z"
   },
   {
    "duration": 63,
    "start_time": "2023-05-13T20:09:58.205Z"
   },
   {
    "duration": 5173,
    "start_time": "2023-05-13T20:09:58.270Z"
   },
   {
    "duration": 88,
    "start_time": "2023-05-13T20:10:03.447Z"
   },
   {
    "duration": 782,
    "start_time": "2023-05-13T20:10:03.537Z"
   },
   {
    "duration": 68576,
    "start_time": "2023-05-13T20:10:04.322Z"
   },
   {
    "duration": 233,
    "start_time": "2023-05-13T20:12:39.679Z"
   },
   {
    "duration": 5,
    "start_time": "2023-05-13T20:12:50.691Z"
   },
   {
    "duration": 213003,
    "start_time": "2023-05-13T20:16:22.801Z"
   },
   {
    "duration": 156589,
    "start_time": "2023-05-13T20:23:00.407Z"
   },
   {
    "duration": 161460,
    "start_time": "2023-05-13T20:34:27.559Z"
   },
   {
    "duration": 272,
    "start_time": "2023-05-13T20:49:11.629Z"
   },
   {
    "duration": 4,
    "start_time": "2023-05-13T20:49:34.914Z"
   },
   {
    "duration": 167852,
    "start_time": "2023-05-13T21:06:46.777Z"
   },
   {
    "duration": 14562,
    "start_time": "2023-05-13T21:27:43.250Z"
   },
   {
    "duration": 6,
    "start_time": "2023-05-13T21:28:19.896Z"
   },
   {
    "duration": 15212,
    "start_time": "2023-05-13T21:30:51.639Z"
   },
   {
    "duration": 4,
    "start_time": "2023-05-13T21:31:19.653Z"
   },
   {
    "duration": 14803,
    "start_time": "2023-05-13T21:33:39.372Z"
   },
   {
    "duration": 14854,
    "start_time": "2023-05-13T21:35:17.800Z"
   },
   {
    "duration": 6,
    "start_time": "2023-05-13T21:37:19.604Z"
   },
   {
    "duration": 10920,
    "start_time": "2023-05-13T21:42:37.881Z"
   },
   {
    "duration": 5128,
    "start_time": "2023-05-13T21:45:12.975Z"
   },
   {
    "duration": 4736,
    "start_time": "2023-05-13T21:45:28.862Z"
   },
   {
    "duration": 4690,
    "start_time": "2023-05-13T21:45:51.313Z"
   },
   {
    "duration": 4708,
    "start_time": "2023-05-13T21:46:07.792Z"
   },
   {
    "duration": 10,
    "start_time": "2023-05-13T22:09:44.892Z"
   },
   {
    "duration": 4,
    "start_time": "2023-05-13T22:09:48.077Z"
   },
   {
    "duration": 10,
    "start_time": "2023-05-13T22:16:45.640Z"
   },
   {
    "duration": 4,
    "start_time": "2023-05-13T22:17:18.641Z"
   },
   {
    "duration": 738,
    "start_time": "2023-05-13T22:17:18.646Z"
   },
   {
    "duration": 80,
    "start_time": "2023-05-13T22:17:19.386Z"
   },
   {
    "duration": 121,
    "start_time": "2023-05-13T22:17:19.468Z"
   },
   {
    "duration": 286,
    "start_time": "2023-05-13T22:17:19.591Z"
   },
   {
    "duration": 200,
    "start_time": "2023-05-13T22:17:19.879Z"
   },
   {
    "duration": 236,
    "start_time": "2023-05-13T22:17:20.080Z"
   },
   {
    "duration": 47,
    "start_time": "2023-05-13T22:17:20.317Z"
   },
   {
    "duration": 36,
    "start_time": "2023-05-13T22:17:20.366Z"
   },
   {
    "duration": 20,
    "start_time": "2023-05-13T22:17:20.404Z"
   },
   {
    "duration": 101,
    "start_time": "2023-05-13T22:17:20.425Z"
   },
   {
    "duration": 228,
    "start_time": "2023-05-13T22:17:20.527Z"
   },
   {
    "duration": 522,
    "start_time": "2023-05-13T22:17:20.757Z"
   },
   {
    "duration": 5,
    "start_time": "2023-05-13T22:17:21.281Z"
   },
   {
    "duration": 80,
    "start_time": "2023-05-13T22:17:21.294Z"
   },
   {
    "duration": 26,
    "start_time": "2023-05-13T22:17:21.376Z"
   },
   {
    "duration": 1668,
    "start_time": "2023-05-13T22:17:21.404Z"
   },
   {
    "duration": 100,
    "start_time": "2023-05-13T22:17:23.073Z"
   },
   {
    "duration": 8,
    "start_time": "2023-05-13T22:17:23.174Z"
   },
   {
    "duration": 1928,
    "start_time": "2023-05-13T22:17:23.183Z"
   },
   {
    "duration": 46,
    "start_time": "2023-05-13T22:17:25.115Z"
   },
   {
    "duration": 5,
    "start_time": "2023-05-13T22:17:25.163Z"
   },
   {
    "duration": 41,
    "start_time": "2023-05-13T22:17:25.170Z"
   },
   {
    "duration": 29,
    "start_time": "2023-05-13T22:17:25.213Z"
   },
   {
    "duration": 8,
    "start_time": "2023-05-13T22:17:25.245Z"
   },
   {
    "duration": 30,
    "start_time": "2023-05-13T22:17:25.255Z"
   },
   {
    "duration": 23,
    "start_time": "2023-05-13T22:17:25.295Z"
   },
   {
    "duration": 4,
    "start_time": "2023-05-13T22:17:25.320Z"
   },
   {
    "duration": 217,
    "start_time": "2023-05-13T22:17:25.325Z"
   },
   {
    "duration": 17,
    "start_time": "2023-05-13T22:17:25.544Z"
   },
   {
    "duration": 820,
    "start_time": "2023-05-13T22:17:25.563Z"
   },
   {
    "duration": 23,
    "start_time": "2023-05-13T22:17:26.384Z"
   },
   {
    "duration": 138,
    "start_time": "2023-05-13T22:17:26.408Z"
   },
   {
    "duration": 164,
    "start_time": "2023-05-13T22:17:26.549Z"
   },
   {
    "duration": 3,
    "start_time": "2023-05-13T22:17:26.714Z"
   },
   {
    "duration": 49,
    "start_time": "2023-05-13T22:17:26.719Z"
   },
   {
    "duration": 71,
    "start_time": "2023-05-13T22:17:26.769Z"
   },
   {
    "duration": 5125,
    "start_time": "2023-05-13T22:17:26.841Z"
   },
   {
    "duration": 77,
    "start_time": "2023-05-13T22:17:31.968Z"
   },
   {
    "duration": 793,
    "start_time": "2023-05-13T22:17:32.047Z"
   },
   {
    "duration": 91656,
    "start_time": "2023-05-13T22:17:32.844Z"
   },
   {
    "duration": 126205,
    "start_time": "2023-05-13T22:19:04.501Z"
   },
   {
    "duration": 96099,
    "start_time": "2023-05-13T22:21:10.707Z"
   },
   {
    "duration": 5091,
    "start_time": "2023-05-13T22:22:46.807Z"
   },
   {
    "duration": 15153,
    "start_time": "2023-05-13T22:22:51.899Z"
   },
   {
    "duration": 4,
    "start_time": "2023-05-13T22:23:07.054Z"
   },
   {
    "duration": 220,
    "start_time": "2023-05-13T22:23:49.276Z"
   },
   {
    "duration": 167,
    "start_time": "2023-05-13T22:23:55.135Z"
   },
   {
    "duration": 211,
    "start_time": "2023-05-13T22:24:27.702Z"
   },
   {
    "duration": 166,
    "start_time": "2023-05-13T22:24:37.338Z"
   },
   {
    "duration": 95,
    "start_time": "2023-05-13T22:24:51.407Z"
   },
   {
    "duration": 174,
    "start_time": "2023-05-13T22:28:29.045Z"
   },
   {
    "duration": 260,
    "start_time": "2023-05-13T22:29:42.449Z"
   },
   {
    "duration": 3,
    "start_time": "2023-05-13T22:29:54.893Z"
   },
   {
    "duration": 1812,
    "start_time": "2023-05-14T19:05:47.012Z"
   },
   {
    "duration": 3047,
    "start_time": "2023-05-14T19:05:48.826Z"
   },
   {
    "duration": 94,
    "start_time": "2023-05-14T19:05:51.875Z"
   },
   {
    "duration": 131,
    "start_time": "2023-05-14T19:05:51.970Z"
   },
   {
    "duration": 382,
    "start_time": "2023-05-14T19:05:52.103Z"
   },
   {
    "duration": 298,
    "start_time": "2023-05-14T19:05:52.488Z"
   },
   {
    "duration": 424,
    "start_time": "2023-05-14T19:05:52.788Z"
   },
   {
    "duration": 58,
    "start_time": "2023-05-14T19:05:53.214Z"
   },
   {
    "duration": 28,
    "start_time": "2023-05-14T19:05:53.274Z"
   },
   {
    "duration": 46,
    "start_time": "2023-05-14T19:05:53.304Z"
   },
   {
    "duration": 112,
    "start_time": "2023-05-14T19:05:53.352Z"
   },
   {
    "duration": 260,
    "start_time": "2023-05-14T19:05:53.466Z"
   },
   {
    "duration": 678,
    "start_time": "2023-05-14T19:05:53.728Z"
   },
   {
    "duration": 5,
    "start_time": "2023-05-14T19:05:54.409Z"
   },
   {
    "duration": 136,
    "start_time": "2023-05-14T19:05:54.415Z"
   },
   {
    "duration": 26,
    "start_time": "2023-05-14T19:05:54.553Z"
   },
   {
    "duration": 1936,
    "start_time": "2023-05-14T19:05:54.580Z"
   },
   {
    "duration": 117,
    "start_time": "2023-05-14T19:05:56.518Z"
   },
   {
    "duration": 11,
    "start_time": "2023-05-14T19:05:56.637Z"
   },
   {
    "duration": 2198,
    "start_time": "2023-05-14T19:05:56.650Z"
   },
   {
    "duration": 41,
    "start_time": "2023-05-14T19:05:58.850Z"
   },
   {
    "duration": 4,
    "start_time": "2023-05-14T19:05:58.893Z"
   },
   {
    "duration": 30,
    "start_time": "2023-05-14T19:05:58.899Z"
   },
   {
    "duration": 33,
    "start_time": "2023-05-14T19:05:58.947Z"
   },
   {
    "duration": 4,
    "start_time": "2023-05-14T19:05:58.981Z"
   },
   {
    "duration": 28,
    "start_time": "2023-05-14T19:05:58.987Z"
   },
   {
    "duration": 48,
    "start_time": "2023-05-14T19:05:59.017Z"
   },
   {
    "duration": 4,
    "start_time": "2023-05-14T19:05:59.066Z"
   },
   {
    "duration": 239,
    "start_time": "2023-05-14T19:05:59.072Z"
   },
   {
    "duration": 18,
    "start_time": "2023-05-14T19:05:59.312Z"
   },
   {
    "duration": 889,
    "start_time": "2023-05-14T19:05:59.345Z"
   },
   {
    "duration": 23,
    "start_time": "2023-05-14T19:06:00.236Z"
   },
   {
    "duration": 143,
    "start_time": "2023-05-14T19:06:00.261Z"
   },
   {
    "duration": 158,
    "start_time": "2023-05-14T19:06:00.406Z"
   },
   {
    "duration": 4,
    "start_time": "2023-05-14T19:06:00.565Z"
   },
   {
    "duration": 73,
    "start_time": "2023-05-14T19:06:00.570Z"
   },
   {
    "duration": 69,
    "start_time": "2023-05-14T19:06:00.645Z"
   },
   {
    "duration": 5427,
    "start_time": "2023-05-14T19:06:00.715Z"
   },
   {
    "duration": 89,
    "start_time": "2023-05-14T19:06:06.144Z"
   },
   {
    "duration": 822,
    "start_time": "2023-05-14T19:06:06.235Z"
   },
   {
    "duration": 176703,
    "start_time": "2023-05-14T19:06:07.061Z"
   },
   {
    "duration": 108990,
    "start_time": "2023-05-14T19:09:03.766Z"
   },
   {
    "duration": 4792,
    "start_time": "2023-05-14T19:10:52.757Z"
   },
   {
    "duration": 8106,
    "start_time": "2023-05-14T19:10:57.551Z"
   },
   {
    "duration": 15944,
    "start_time": "2023-05-14T19:11:05.658Z"
   },
   {
    "duration": 4,
    "start_time": "2023-05-14T19:11:21.604Z"
   },
   {
    "duration": 306,
    "start_time": "2023-05-14T19:38:12.373Z"
   },
   {
    "duration": 229,
    "start_time": "2023-05-14T19:39:03.243Z"
   },
   {
    "duration": 331,
    "start_time": "2023-05-14T19:39:49.440Z"
   },
   {
    "duration": 156,
    "start_time": "2023-05-14T19:40:34.615Z"
   },
   {
    "duration": 113,
    "start_time": "2023-05-14T19:41:08.269Z"
   },
   {
    "duration": 145,
    "start_time": "2023-05-14T19:55:34.911Z"
   }
  ],
  "kernelspec": {
   "display_name": "Python 3 (ipykernel)",
   "language": "python",
   "name": "python3"
  },
  "language_info": {
   "codemirror_mode": {
    "name": "ipython",
    "version": 3
   },
   "file_extension": ".py",
   "mimetype": "text/x-python",
   "name": "python",
   "nbconvert_exporter": "python",
   "pygments_lexer": "ipython3",
   "version": "3.9.13"
  },
  "nbTranslate": {
   "displayLangs": [],
   "hotkey": "alt-t",
   "langInMainMenu": true,
   "sourceLang": "ru",
   "targetLang": "en",
   "useGoogleTranslate": true
  },
  "toc": {
   "base_numbering": 1,
   "nav_menu": {},
   "number_sections": true,
   "sideBar": true,
   "skip_h1_title": true,
   "title_cell": "Table of Contents",
   "title_sidebar": "Contents",
   "toc_cell": false,
   "toc_position": {
    "height": "calc(100% - 180px)",
    "left": "10px",
    "top": "150px",
    "width": "341.333px"
   },
   "toc_section_display": true,
   "toc_window_display": false
  }
 },
 "nbformat": 4,
 "nbformat_minor": 2
}
