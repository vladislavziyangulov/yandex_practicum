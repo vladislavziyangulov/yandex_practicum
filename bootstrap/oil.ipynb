{
 "cells": [
  {
   "cell_type": "markdown",
   "metadata": {
    "lang": "en"
   },
   "source": [
    "# Selecting a location for a well"
   ]
  },
  {
   "cell_type": "markdown",
   "metadata": {
    "lang": "en"
   },
   "source": [
    "Let's say you work for the mining company GlavRosGosNeft. We need to decide where to drill a new well.\n",
    "\n",
    "You were provided with oil samples in three regions: in each 10,000 fields, where the quality of oil and the volume of its reserves were measured. Build a machine learning model that will help determine the region where mining will bring the greatest profit. Analyze the possible profits and risks using *Bootstrap*\n",
    "\n",
    "Steps to select a location:\n",
    "\n",
    "- Deposits are searched for in the selected region, and the feature values are determined for each;\n",
    "- Build a model and estimate the volume of reserves;\n",
    "- Deposits with the highest estimated values of reserves are selected. The number of fields depends on the company’s budget and the cost of developing one well;\n",
    "- Profit is equal to the total profit of the selected fields."
   ]
  },
  {
   "cell_type": "markdown",
   "metadata": {
    "lang": "en"
   },
   "source": [
    "## Loading and preparing data"
   ]
  },
  {
   "cell_type": "code",
   "execution_count": 1,
   "metadata": {},
   "outputs": [],
   "source": [
    "import pandas as pd\n",
    "from sklearn.linear_model import LinearRegression\n",
    "from sklearn.metrics import mean_squared_error\n",
    "from sklearn.model_selection import train_test_split\n",
    "from sklearn.preprocessing import StandardScaler\n",
    "from numpy.random import RandomState"
   ]
  },
  {
   "cell_type": "code",
   "execution_count": 2,
   "metadata": {},
   "outputs": [],
   "source": [
    "df0 = pd.read_csv('/datasets/geo_data_0.csv')\n",
    "df1 = pd.read_csv('/datasets/geo_data_1.csv')\n",
    "df2 = pd.read_csv('/datasets/geo_data_2.csv')"
   ]
  },
  {
   "cell_type": "code",
   "execution_count": 3,
   "metadata": {},
   "outputs": [
    {
     "name": "stdout",
     "output_type": "stream",
     "text": [
      "      id        f0        f1        f2     product\n",
      "0  txEyH  0.705745 -0.497823  1.221170  105.280062\n",
      "1  2acmU  1.334711 -0.340164  4.365080   73.037750\n",
      "2  409Wp  1.022732  0.151990  1.419926   85.265647\n",
      "3  iJLyR -0.032172  0.139033  2.978566  168.620776\n",
      "4  Xdl7t  1.988431  0.155413  4.751769  154.036647\n",
      "      id         f0         f1        f2     product\n",
      "0  kBEdx -15.001348  -8.276000 -0.005876    3.179103\n",
      "1  62mP7  14.272088  -3.475083  0.999183   26.953261\n",
      "2  vyE1P   6.263187  -5.948386  5.001160  134.766305\n",
      "3  KcrkZ -13.081196 -11.506057  4.999415  137.945408\n",
      "4  AHL4O  12.702195  -8.147433  5.004363  134.766305\n"
     ]
    },
    {
     "data": {
      "text/html": [
       "<div>\n",
       "<style scoped>\n",
       "    .dataframe tbody tr th:only-of-type {\n",
       "        vertical-align: middle;\n",
       "    }\n",
       "\n",
       "    .dataframe tbody tr th {\n",
       "        vertical-align: top;\n",
       "    }\n",
       "\n",
       "    .dataframe thead th {\n",
       "        text-align: right;\n",
       "    }\n",
       "</style>\n",
       "<table border=\"1\" class=\"dataframe\">\n",
       "  <thead>\n",
       "    <tr style=\"text-align: right;\">\n",
       "      <th></th>\n",
       "      <th>id</th>\n",
       "      <th>f0</th>\n",
       "      <th>f1</th>\n",
       "      <th>f2</th>\n",
       "      <th>product</th>\n",
       "    </tr>\n",
       "  </thead>\n",
       "  <tbody>\n",
       "    <tr>\n",
       "      <th>0</th>\n",
       "      <td>fwXo0</td>\n",
       "      <td>-1.146987</td>\n",
       "      <td>0.963328</td>\n",
       "      <td>-0.828965</td>\n",
       "      <td>27.758673</td>\n",
       "    </tr>\n",
       "    <tr>\n",
       "      <th>1</th>\n",
       "      <td>WJtFt</td>\n",
       "      <td>0.262778</td>\n",
       "      <td>0.269839</td>\n",
       "      <td>-2.530187</td>\n",
       "      <td>56.069697</td>\n",
       "    </tr>\n",
       "    <tr>\n",
       "      <th>2</th>\n",
       "      <td>ovLUW</td>\n",
       "      <td>0.194587</td>\n",
       "      <td>0.289035</td>\n",
       "      <td>-5.586433</td>\n",
       "      <td>62.871910</td>\n",
       "    </tr>\n",
       "    <tr>\n",
       "      <th>3</th>\n",
       "      <td>q6cA6</td>\n",
       "      <td>2.236060</td>\n",
       "      <td>-0.553760</td>\n",
       "      <td>0.930038</td>\n",
       "      <td>114.572842</td>\n",
       "    </tr>\n",
       "    <tr>\n",
       "      <th>4</th>\n",
       "      <td>WPMUX</td>\n",
       "      <td>-0.515993</td>\n",
       "      <td>1.716266</td>\n",
       "      <td>5.899011</td>\n",
       "      <td>149.600746</td>\n",
       "    </tr>\n",
       "  </tbody>\n",
       "</table>\n",
       "</div>"
      ],
      "text/plain": [
       "      id        f0        f1        f2     product\n",
       "0  fwXo0 -1.146987  0.963328 -0.828965   27.758673\n",
       "1  WJtFt  0.262778  0.269839 -2.530187   56.069697\n",
       "2  ovLUW  0.194587  0.289035 -5.586433   62.871910\n",
       "3  q6cA6  2.236060 -0.553760  0.930038  114.572842\n",
       "4  WPMUX -0.515993  1.716266  5.899011  149.600746"
      ]
     },
     "execution_count": 3,
     "metadata": {},
     "output_type": "execute_result"
    }
   ],
   "source": [
    "print(df0.head())\n",
    "print(df1.head())\n",
    "df2.head()"
   ]
  },
  {
   "cell_type": "code",
   "execution_count": 4,
   "metadata": {},
   "outputs": [
    {
     "data": {
      "text/html": [
       "<div>\n",
       "<style scoped>\n",
       "    .dataframe tbody tr th:only-of-type {\n",
       "        vertical-align: middle;\n",
       "    }\n",
       "\n",
       "    .dataframe tbody tr th {\n",
       "        vertical-align: top;\n",
       "    }\n",
       "\n",
       "    .dataframe thead th {\n",
       "        text-align: right;\n",
       "    }\n",
       "</style>\n",
       "<table border=\"1\" class=\"dataframe\">\n",
       "  <thead>\n",
       "    <tr style=\"text-align: right;\">\n",
       "      <th></th>\n",
       "      <th>count</th>\n",
       "      <th>mean</th>\n",
       "      <th>std</th>\n",
       "      <th>min</th>\n",
       "      <th>25%</th>\n",
       "      <th>50%</th>\n",
       "      <th>75%</th>\n",
       "      <th>max</th>\n",
       "    </tr>\n",
       "  </thead>\n",
       "  <tbody>\n",
       "    <tr>\n",
       "      <th>f0</th>\n",
       "      <td>100000.0</td>\n",
       "      <td>0.500419</td>\n",
       "      <td>0.871832</td>\n",
       "      <td>-1.408605</td>\n",
       "      <td>-0.072580</td>\n",
       "      <td>0.502360</td>\n",
       "      <td>1.073581</td>\n",
       "      <td>2.362331</td>\n",
       "    </tr>\n",
       "    <tr>\n",
       "      <th>f1</th>\n",
       "      <td>100000.0</td>\n",
       "      <td>0.250143</td>\n",
       "      <td>0.504433</td>\n",
       "      <td>-0.848218</td>\n",
       "      <td>-0.200881</td>\n",
       "      <td>0.250252</td>\n",
       "      <td>0.700646</td>\n",
       "      <td>1.343769</td>\n",
       "    </tr>\n",
       "    <tr>\n",
       "      <th>f2</th>\n",
       "      <td>100000.0</td>\n",
       "      <td>2.502647</td>\n",
       "      <td>3.248248</td>\n",
       "      <td>-12.088328</td>\n",
       "      <td>0.287748</td>\n",
       "      <td>2.515969</td>\n",
       "      <td>4.715088</td>\n",
       "      <td>16.003790</td>\n",
       "    </tr>\n",
       "    <tr>\n",
       "      <th>product</th>\n",
       "      <td>100000.0</td>\n",
       "      <td>92.500000</td>\n",
       "      <td>44.288691</td>\n",
       "      <td>0.000000</td>\n",
       "      <td>56.497507</td>\n",
       "      <td>91.849972</td>\n",
       "      <td>128.564089</td>\n",
       "      <td>185.364347</td>\n",
       "    </tr>\n",
       "  </tbody>\n",
       "</table>\n",
       "</div>"
      ],
      "text/plain": [
       "            count       mean        std        min        25%        50%  \\\n",
       "f0       100000.0   0.500419   0.871832  -1.408605  -0.072580   0.502360   \n",
       "f1       100000.0   0.250143   0.504433  -0.848218  -0.200881   0.250252   \n",
       "f2       100000.0   2.502647   3.248248 -12.088328   0.287748   2.515969   \n",
       "product  100000.0  92.500000  44.288691   0.000000  56.497507  91.849972   \n",
       "\n",
       "                75%         max  \n",
       "f0         1.073581    2.362331  \n",
       "f1         0.700646    1.343769  \n",
       "f2         4.715088   16.003790  \n",
       "product  128.564089  185.364347  "
      ]
     },
     "execution_count": 4,
     "metadata": {},
     "output_type": "execute_result"
    }
   ],
   "source": [
    "df0.describe().T"
   ]
  },
  {
   "cell_type": "code",
   "execution_count": 5,
   "metadata": {},
   "outputs": [
    {
     "data": {
      "text/html": [
       "<div>\n",
       "<style scoped>\n",
       "    .dataframe tbody tr th:only-of-type {\n",
       "        vertical-align: middle;\n",
       "    }\n",
       "\n",
       "    .dataframe tbody tr th {\n",
       "        vertical-align: top;\n",
       "    }\n",
       "\n",
       "    .dataframe thead th {\n",
       "        text-align: right;\n",
       "    }\n",
       "</style>\n",
       "<table border=\"1\" class=\"dataframe\">\n",
       "  <thead>\n",
       "    <tr style=\"text-align: right;\">\n",
       "      <th></th>\n",
       "      <th>count</th>\n",
       "      <th>mean</th>\n",
       "      <th>std</th>\n",
       "      <th>min</th>\n",
       "      <th>25%</th>\n",
       "      <th>50%</th>\n",
       "      <th>75%</th>\n",
       "      <th>max</th>\n",
       "    </tr>\n",
       "  </thead>\n",
       "  <tbody>\n",
       "    <tr>\n",
       "      <th>f0</th>\n",
       "      <td>100000.0</td>\n",
       "      <td>1.141296</td>\n",
       "      <td>8.965932</td>\n",
       "      <td>-31.609576</td>\n",
       "      <td>-6.298551</td>\n",
       "      <td>1.153055</td>\n",
       "      <td>8.621015</td>\n",
       "      <td>29.421755</td>\n",
       "    </tr>\n",
       "    <tr>\n",
       "      <th>f1</th>\n",
       "      <td>100000.0</td>\n",
       "      <td>-4.796579</td>\n",
       "      <td>5.119872</td>\n",
       "      <td>-26.358598</td>\n",
       "      <td>-8.267985</td>\n",
       "      <td>-4.813172</td>\n",
       "      <td>-1.332816</td>\n",
       "      <td>18.734063</td>\n",
       "    </tr>\n",
       "    <tr>\n",
       "      <th>f2</th>\n",
       "      <td>100000.0</td>\n",
       "      <td>2.494541</td>\n",
       "      <td>1.703572</td>\n",
       "      <td>-0.018144</td>\n",
       "      <td>1.000021</td>\n",
       "      <td>2.011479</td>\n",
       "      <td>3.999904</td>\n",
       "      <td>5.019721</td>\n",
       "    </tr>\n",
       "    <tr>\n",
       "      <th>product</th>\n",
       "      <td>100000.0</td>\n",
       "      <td>68.825000</td>\n",
       "      <td>45.944423</td>\n",
       "      <td>0.000000</td>\n",
       "      <td>26.953261</td>\n",
       "      <td>57.085625</td>\n",
       "      <td>107.813044</td>\n",
       "      <td>137.945408</td>\n",
       "    </tr>\n",
       "  </tbody>\n",
       "</table>\n",
       "</div>"
      ],
      "text/plain": [
       "            count       mean        std        min        25%        50%  \\\n",
       "f0       100000.0   1.141296   8.965932 -31.609576  -6.298551   1.153055   \n",
       "f1       100000.0  -4.796579   5.119872 -26.358598  -8.267985  -4.813172   \n",
       "f2       100000.0   2.494541   1.703572  -0.018144   1.000021   2.011479   \n",
       "product  100000.0  68.825000  45.944423   0.000000  26.953261  57.085625   \n",
       "\n",
       "                75%         max  \n",
       "f0         8.621015   29.421755  \n",
       "f1        -1.332816   18.734063  \n",
       "f2         3.999904    5.019721  \n",
       "product  107.813044  137.945408  "
      ]
     },
     "execution_count": 5,
     "metadata": {},
     "output_type": "execute_result"
    }
   ],
   "source": [
    "df1.describe().T"
   ]
  },
  {
   "cell_type": "code",
   "execution_count": 6,
   "metadata": {
    "scrolled": true
   },
   "outputs": [
    {
     "data": {
      "text/html": [
       "<div>\n",
       "<style scoped>\n",
       "    .dataframe tbody tr th:only-of-type {\n",
       "        vertical-align: middle;\n",
       "    }\n",
       "\n",
       "    .dataframe tbody tr th {\n",
       "        vertical-align: top;\n",
       "    }\n",
       "\n",
       "    .dataframe thead th {\n",
       "        text-align: right;\n",
       "    }\n",
       "</style>\n",
       "<table border=\"1\" class=\"dataframe\">\n",
       "  <thead>\n",
       "    <tr style=\"text-align: right;\">\n",
       "      <th></th>\n",
       "      <th>count</th>\n",
       "      <th>mean</th>\n",
       "      <th>std</th>\n",
       "      <th>min</th>\n",
       "      <th>25%</th>\n",
       "      <th>50%</th>\n",
       "      <th>75%</th>\n",
       "      <th>max</th>\n",
       "    </tr>\n",
       "  </thead>\n",
       "  <tbody>\n",
       "    <tr>\n",
       "      <th>f0</th>\n",
       "      <td>100000.0</td>\n",
       "      <td>0.002023</td>\n",
       "      <td>1.732045</td>\n",
       "      <td>-8.760004</td>\n",
       "      <td>-1.162288</td>\n",
       "      <td>0.009424</td>\n",
       "      <td>1.158535</td>\n",
       "      <td>7.238262</td>\n",
       "    </tr>\n",
       "    <tr>\n",
       "      <th>f1</th>\n",
       "      <td>100000.0</td>\n",
       "      <td>-0.002081</td>\n",
       "      <td>1.730417</td>\n",
       "      <td>-7.084020</td>\n",
       "      <td>-1.174820</td>\n",
       "      <td>-0.009482</td>\n",
       "      <td>1.163678</td>\n",
       "      <td>7.844801</td>\n",
       "    </tr>\n",
       "    <tr>\n",
       "      <th>f2</th>\n",
       "      <td>100000.0</td>\n",
       "      <td>2.495128</td>\n",
       "      <td>3.473445</td>\n",
       "      <td>-11.970335</td>\n",
       "      <td>0.130359</td>\n",
       "      <td>2.484236</td>\n",
       "      <td>4.858794</td>\n",
       "      <td>16.739402</td>\n",
       "    </tr>\n",
       "    <tr>\n",
       "      <th>product</th>\n",
       "      <td>100000.0</td>\n",
       "      <td>95.000000</td>\n",
       "      <td>44.749921</td>\n",
       "      <td>0.000000</td>\n",
       "      <td>59.450441</td>\n",
       "      <td>94.925613</td>\n",
       "      <td>130.595027</td>\n",
       "      <td>190.029838</td>\n",
       "    </tr>\n",
       "  </tbody>\n",
       "</table>\n",
       "</div>"
      ],
      "text/plain": [
       "            count       mean        std        min        25%        50%  \\\n",
       "f0       100000.0   0.002023   1.732045  -8.760004  -1.162288   0.009424   \n",
       "f1       100000.0  -0.002081   1.730417  -7.084020  -1.174820  -0.009482   \n",
       "f2       100000.0   2.495128   3.473445 -11.970335   0.130359   2.484236   \n",
       "product  100000.0  95.000000  44.749921   0.000000  59.450441  94.925613   \n",
       "\n",
       "                75%         max  \n",
       "f0         1.158535    7.238262  \n",
       "f1         1.163678    7.844801  \n",
       "f2         4.858794   16.739402  \n",
       "product  130.595027  190.029838  "
      ]
     },
     "execution_count": 6,
     "metadata": {},
     "output_type": "execute_result"
    }
   ],
   "source": [
    "df2.describe().T"
   ]
  },
  {
   "cell_type": "code",
   "execution_count": 7,
   "metadata": {},
   "outputs": [
    {
     "name": "stdout",
     "output_type": "stream",
     "text": [
      "<class 'pandas.core.frame.DataFrame'>\n",
      "RangeIndex: 100000 entries, 0 to 99999\n",
      "Data columns (total 5 columns):\n",
      " #   Column   Non-Null Count   Dtype  \n",
      "---  ------   --------------   -----  \n",
      " 0   id       100000 non-null  object \n",
      " 1   f0       100000 non-null  float64\n",
      " 2   f1       100000 non-null  float64\n",
      " 3   f2       100000 non-null  float64\n",
      " 4   product  100000 non-null  float64\n",
      "dtypes: float64(4), object(1)\n",
      "memory usage: 3.8+ MB\n"
     ]
    }
   ],
   "source": [
    "df0.info()"
   ]
  },
  {
   "cell_type": "code",
   "execution_count": 8,
   "metadata": {},
   "outputs": [
    {
     "name": "stdout",
     "output_type": "stream",
     "text": [
      "<class 'pandas.core.frame.DataFrame'>\n",
      "RangeIndex: 100000 entries, 0 to 99999\n",
      "Data columns (total 5 columns):\n",
      " #   Column   Non-Null Count   Dtype  \n",
      "---  ------   --------------   -----  \n",
      " 0   id       100000 non-null  object \n",
      " 1   f0       100000 non-null  float64\n",
      " 2   f1       100000 non-null  float64\n",
      " 3   f2       100000 non-null  float64\n",
      " 4   product  100000 non-null  float64\n",
      "dtypes: float64(4), object(1)\n",
      "memory usage: 3.8+ MB\n"
     ]
    }
   ],
   "source": [
    "df1.info()"
   ]
  },
  {
   "cell_type": "code",
   "execution_count": 9,
   "metadata": {},
   "outputs": [
    {
     "name": "stdout",
     "output_type": "stream",
     "text": [
      "<class 'pandas.core.frame.DataFrame'>\n",
      "RangeIndex: 100000 entries, 0 to 99999\n",
      "Data columns (total 5 columns):\n",
      " #   Column   Non-Null Count   Dtype  \n",
      "---  ------   --------------   -----  \n",
      " 0   id       100000 non-null  object \n",
      " 1   f0       100000 non-null  float64\n",
      " 2   f1       100000 non-null  float64\n",
      " 3   f2       100000 non-null  float64\n",
      " 4   product  100000 non-null  float64\n",
      "dtypes: float64(4), object(1)\n",
      "memory usage: 3.8+ MB\n"
     ]
    }
   ],
   "source": [
    "df2.info()"
   ]
  },
  {
   "cell_type": "code",
   "execution_count": 10,
   "metadata": {},
   "outputs": [
    {
     "data": {
      "text/plain": [
       "10"
      ]
     },
     "execution_count": 10,
     "metadata": {},
     "output_type": "execute_result"
    }
   ],
   "source": [
    "df0['id'].duplicated().sum()"
   ]
  },
  {
   "cell_type": "code",
   "execution_count": 11,
   "metadata": {},
   "outputs": [],
   "source": [
    "duplicated_ids_0 = df0.loc[df0['id'].duplicated(), 'id'].values"
   ]
  },
  {
   "cell_type": "code",
   "execution_count": 12,
   "metadata": {},
   "outputs": [
    {
     "data": {
      "text/html": [
       "<div>\n",
       "<style scoped>\n",
       "    .dataframe tbody tr th:only-of-type {\n",
       "        vertical-align: middle;\n",
       "    }\n",
       "\n",
       "    .dataframe tbody tr th {\n",
       "        vertical-align: top;\n",
       "    }\n",
       "\n",
       "    .dataframe thead th {\n",
       "        text-align: right;\n",
       "    }\n",
       "</style>\n",
       "<table border=\"1\" class=\"dataframe\">\n",
       "  <thead>\n",
       "    <tr style=\"text-align: right;\">\n",
       "      <th></th>\n",
       "      <th>id</th>\n",
       "      <th>f0</th>\n",
       "      <th>f1</th>\n",
       "      <th>f2</th>\n",
       "      <th>product</th>\n",
       "    </tr>\n",
       "  </thead>\n",
       "  <tbody>\n",
       "    <tr>\n",
       "      <th>931</th>\n",
       "      <td>HZww2</td>\n",
       "      <td>0.755284</td>\n",
       "      <td>0.368511</td>\n",
       "      <td>1.863211</td>\n",
       "      <td>30.681774</td>\n",
       "    </tr>\n",
       "    <tr>\n",
       "      <th>1364</th>\n",
       "      <td>bxg6G</td>\n",
       "      <td>0.411645</td>\n",
       "      <td>0.856830</td>\n",
       "      <td>-3.653440</td>\n",
       "      <td>73.604260</td>\n",
       "    </tr>\n",
       "    <tr>\n",
       "      <th>1949</th>\n",
       "      <td>QcMuo</td>\n",
       "      <td>0.506563</td>\n",
       "      <td>-0.323775</td>\n",
       "      <td>-2.215583</td>\n",
       "      <td>75.496502</td>\n",
       "    </tr>\n",
       "    <tr>\n",
       "      <th>3389</th>\n",
       "      <td>A5aEY</td>\n",
       "      <td>-0.039949</td>\n",
       "      <td>0.156872</td>\n",
       "      <td>0.209861</td>\n",
       "      <td>89.249364</td>\n",
       "    </tr>\n",
       "    <tr>\n",
       "      <th>7530</th>\n",
       "      <td>HZww2</td>\n",
       "      <td>1.061194</td>\n",
       "      <td>-0.373969</td>\n",
       "      <td>10.430210</td>\n",
       "      <td>158.828695</td>\n",
       "    </tr>\n",
       "    <tr>\n",
       "      <th>16633</th>\n",
       "      <td>fiKDv</td>\n",
       "      <td>0.157341</td>\n",
       "      <td>1.028359</td>\n",
       "      <td>5.585586</td>\n",
       "      <td>95.817889</td>\n",
       "    </tr>\n",
       "    <tr>\n",
       "      <th>21426</th>\n",
       "      <td>Tdehs</td>\n",
       "      <td>0.829407</td>\n",
       "      <td>0.298807</td>\n",
       "      <td>-0.049563</td>\n",
       "      <td>96.035308</td>\n",
       "    </tr>\n",
       "    <tr>\n",
       "      <th>41724</th>\n",
       "      <td>bxg6G</td>\n",
       "      <td>-0.823752</td>\n",
       "      <td>0.546319</td>\n",
       "      <td>3.630479</td>\n",
       "      <td>93.007798</td>\n",
       "    </tr>\n",
       "    <tr>\n",
       "      <th>42529</th>\n",
       "      <td>AGS9W</td>\n",
       "      <td>1.454747</td>\n",
       "      <td>-0.479651</td>\n",
       "      <td>0.683380</td>\n",
       "      <td>126.370504</td>\n",
       "    </tr>\n",
       "    <tr>\n",
       "      <th>51970</th>\n",
       "      <td>A5aEY</td>\n",
       "      <td>-0.180335</td>\n",
       "      <td>0.935548</td>\n",
       "      <td>-2.094773</td>\n",
       "      <td>33.020205</td>\n",
       "    </tr>\n",
       "    <tr>\n",
       "      <th>60140</th>\n",
       "      <td>TtcGQ</td>\n",
       "      <td>0.569276</td>\n",
       "      <td>-0.104876</td>\n",
       "      <td>6.440215</td>\n",
       "      <td>85.350186</td>\n",
       "    </tr>\n",
       "    <tr>\n",
       "      <th>63593</th>\n",
       "      <td>QcMuo</td>\n",
       "      <td>0.635635</td>\n",
       "      <td>-0.473422</td>\n",
       "      <td>0.862670</td>\n",
       "      <td>64.578675</td>\n",
       "    </tr>\n",
       "    <tr>\n",
       "      <th>64022</th>\n",
       "      <td>74z30</td>\n",
       "      <td>0.741456</td>\n",
       "      <td>0.459229</td>\n",
       "      <td>5.153109</td>\n",
       "      <td>140.771492</td>\n",
       "    </tr>\n",
       "    <tr>\n",
       "      <th>66136</th>\n",
       "      <td>74z30</td>\n",
       "      <td>1.084962</td>\n",
       "      <td>-0.312358</td>\n",
       "      <td>6.990771</td>\n",
       "      <td>127.643327</td>\n",
       "    </tr>\n",
       "    <tr>\n",
       "      <th>69163</th>\n",
       "      <td>AGS9W</td>\n",
       "      <td>-0.933795</td>\n",
       "      <td>0.116194</td>\n",
       "      <td>-3.655896</td>\n",
       "      <td>19.230453</td>\n",
       "    </tr>\n",
       "    <tr>\n",
       "      <th>75715</th>\n",
       "      <td>Tdehs</td>\n",
       "      <td>0.112079</td>\n",
       "      <td>0.430296</td>\n",
       "      <td>3.218993</td>\n",
       "      <td>60.964018</td>\n",
       "    </tr>\n",
       "    <tr>\n",
       "      <th>89582</th>\n",
       "      <td>bsk9y</td>\n",
       "      <td>0.398908</td>\n",
       "      <td>-0.400253</td>\n",
       "      <td>10.122376</td>\n",
       "      <td>163.433078</td>\n",
       "    </tr>\n",
       "    <tr>\n",
       "      <th>90815</th>\n",
       "      <td>fiKDv</td>\n",
       "      <td>0.049883</td>\n",
       "      <td>0.841313</td>\n",
       "      <td>6.394613</td>\n",
       "      <td>137.346586</td>\n",
       "    </tr>\n",
       "    <tr>\n",
       "      <th>92341</th>\n",
       "      <td>TtcGQ</td>\n",
       "      <td>0.110711</td>\n",
       "      <td>1.022689</td>\n",
       "      <td>0.911381</td>\n",
       "      <td>101.318008</td>\n",
       "    </tr>\n",
       "    <tr>\n",
       "      <th>97785</th>\n",
       "      <td>bsk9y</td>\n",
       "      <td>0.378429</td>\n",
       "      <td>0.005837</td>\n",
       "      <td>0.160827</td>\n",
       "      <td>160.637302</td>\n",
       "    </tr>\n",
       "  </tbody>\n",
       "</table>\n",
       "</div>"
      ],
      "text/plain": [
       "          id        f0        f1         f2     product\n",
       "931    HZww2  0.755284  0.368511   1.863211   30.681774\n",
       "1364   bxg6G  0.411645  0.856830  -3.653440   73.604260\n",
       "1949   QcMuo  0.506563 -0.323775  -2.215583   75.496502\n",
       "3389   A5aEY -0.039949  0.156872   0.209861   89.249364\n",
       "7530   HZww2  1.061194 -0.373969  10.430210  158.828695\n",
       "16633  fiKDv  0.157341  1.028359   5.585586   95.817889\n",
       "21426  Tdehs  0.829407  0.298807  -0.049563   96.035308\n",
       "41724  bxg6G -0.823752  0.546319   3.630479   93.007798\n",
       "42529  AGS9W  1.454747 -0.479651   0.683380  126.370504\n",
       "51970  A5aEY -0.180335  0.935548  -2.094773   33.020205\n",
       "60140  TtcGQ  0.569276 -0.104876   6.440215   85.350186\n",
       "63593  QcMuo  0.635635 -0.473422   0.862670   64.578675\n",
       "64022  74z30  0.741456  0.459229   5.153109  140.771492\n",
       "66136  74z30  1.084962 -0.312358   6.990771  127.643327\n",
       "69163  AGS9W -0.933795  0.116194  -3.655896   19.230453\n",
       "75715  Tdehs  0.112079  0.430296   3.218993   60.964018\n",
       "89582  bsk9y  0.398908 -0.400253  10.122376  163.433078\n",
       "90815  fiKDv  0.049883  0.841313   6.394613  137.346586\n",
       "92341  TtcGQ  0.110711  1.022689   0.911381  101.318008\n",
       "97785  bsk9y  0.378429  0.005837   0.160827  160.637302"
      ]
     },
     "execution_count": 12,
     "metadata": {},
     "output_type": "execute_result"
    }
   ],
   "source": [
    "df0[df0['id'].isin(duplicated_ids_0)]"
   ]
  },
  {
   "cell_type": "code",
   "execution_count": 13,
   "metadata": {},
   "outputs": [
    {
     "data": {
      "text/plain": [
       "4"
      ]
     },
     "execution_count": 13,
     "metadata": {},
     "output_type": "execute_result"
    }
   ],
   "source": [
    "df1['id'].duplicated().sum()"
   ]
  },
  {
   "cell_type": "code",
   "execution_count": 14,
   "metadata": {},
   "outputs": [
    {
     "data": {
      "text/plain": [
       "0"
      ]
     },
     "execution_count": 14,
     "metadata": {},
     "output_type": "execute_result"
    }
   ],
   "source": [
    "df1.duplicated().sum()"
   ]
  },
  {
   "cell_type": "code",
   "execution_count": 15,
   "metadata": {},
   "outputs": [
    {
     "data": {
      "text/plain": [
       "4"
      ]
     },
     "execution_count": 15,
     "metadata": {},
     "output_type": "execute_result"
    }
   ],
   "source": [
    "df2['id'].duplicated().sum()"
   ]
  },
  {
   "cell_type": "code",
   "execution_count": 16,
   "metadata": {},
   "outputs": [
    {
     "data": {
      "text/plain": [
       "0"
      ]
     },
     "execution_count": 16,
     "metadata": {},
     "output_type": "execute_result"
    }
   ],
   "source": [
    "df2.duplicated().sum()"
   ]
  },
  {
   "cell_type": "markdown",
   "metadata": {
    "lang": "en"
   },
   "source": [
    "Duplicates in well IDs are most likely due to erroneous data entry, since there are no duplicates among entire rows. Therefore, it was decided not to delete them"
   ]
  },
  {
   "cell_type": "code",
   "execution_count": 17,
   "metadata": {},
   "outputs": [
    {
     "name": "stdout",
     "output_type": "stream",
     "text": [
      "id         0\n",
      "f0         0\n",
      "f1         0\n",
      "f2         0\n",
      "product    0\n",
      "dtype: int64\n",
      "id         0\n",
      "f0         0\n",
      "f1         0\n",
      "f2         0\n",
      "product    0\n",
      "dtype: int64\n",
      "id         0\n",
      "f0         0\n",
      "f1         0\n",
      "f2         0\n",
      "product    0\n",
      "dtype: int64\n"
     ]
    }
   ],
   "source": [
    "print(df0.isna().sum())\n",
    "print(df1.isna().sum())\n",
    "print(df2.isna().sum())"
   ]
  },
  {
   "cell_type": "markdown",
   "metadata": {
    "lang": "en"
   },
   "source": [
    "## Model training and testing"
   ]
  },
  {
   "cell_type": "code",
   "execution_count": 18,
   "metadata": {},
   "outputs": [],
   "source": [
    "def model(df):\n",
    "    features = df.drop(columns=['id', 'product'])\n",
    "    target = df['product']\n",
    "\n",
    "    features_train, features_valid, target_train, target_valid = train_test_split(features, target, \n",
    "                                                                                  random_state=12345, test_size=0.25)\n",
    "    scaler = StandardScaler()\n",
    "    scaler.fit(features_train)\n",
    "    features_train_scaled = scaler.transform(features_train)\n",
    "    features_valid_scaled = scaler.transform(features_valid)\n",
    "    \n",
    "    model = LinearRegression()\n",
    "    model.fit(features_train_scaled, target_train)\n",
    "    \n",
    "    predictions = model.predict(features_valid_scaled)\n",
    "    rmse = mean_squared_error(target_valid, predictions)**0.5\n",
    "    average_predicted_product = predictions.mean()\n",
    "\n",
    "    return average_predicted_product, rmse, predictions, target_valid"
   ]
  },
  {
   "cell_type": "code",
   "execution_count": 19,
   "metadata": {},
   "outputs": [
    {
     "name": "stdout",
     "output_type": "stream",
     "text": [
      "Средний запас сырья в первом регионе: 92.59256778438035\n",
      "RMSE: 37.5794217150813\n"
     ]
    }
   ],
   "source": [
    "df0_product, df0_rmse, df0_predictions, target0 = model(df0)\n",
    "print('Средний запас сырья в первом регионе:', df0_product)\n",
    "print('RMSE:', df0_rmse)"
   ]
  },
  {
   "cell_type": "code",
   "execution_count": 20,
   "metadata": {},
   "outputs": [
    {
     "name": "stdout",
     "output_type": "stream",
     "text": [
      "Средний запас сырья в первом регионе: 68.728546895446\n",
      "RMSE: 0.893099286775617\n"
     ]
    }
   ],
   "source": [
    "df1_product, df1_rmse, df1_predictions, target1 = model(df1)\n",
    "print('Средний запас сырья в первом регионе:', df1_product)\n",
    "print('RMSE:', df1_rmse)"
   ]
  },
  {
   "cell_type": "code",
   "execution_count": 21,
   "metadata": {},
   "outputs": [
    {
     "name": "stdout",
     "output_type": "stream",
     "text": [
      "Средний запас сырья в первом регионе: 94.96504596800489\n",
      "RMSE: 40.02970873393434\n"
     ]
    }
   ],
   "source": [
    "df2_product, df2_rmse, df2_predictions, target2 = model(df2)\n",
    "print('Средний запас сырья в первом регионе:', df2_product)\n",
    "print('RMSE:', df2_rmse)"
   ]
  },
  {
   "cell_type": "markdown",
   "metadata": {
    "lang": "en"
   },
   "source": [
    "The average reserves in the first region, as predicted by the model, are 93 +-38 thousand barrels of standard error. That is, the model is wrong in predicting the average stock of raw materials by an average of 38 thousand barrels.\n",
    "\n",
    "Similarly, in the second region, the average stock of raw materials is 69 +-0.9 thousand barrels.\n",
    "\n",
    "In the third - 95 +-40 thousand barrels.\n",
    "\n",
    "The second region has the smallest spread in the predicted average stock of raw materials, but it is less than in other regions."
   ]
  },
  {
   "cell_type": "markdown",
   "metadata": {
    "lang": "en"
   },
   "source": [
    "## Preparation for profit calculation"
   ]
  },
  {
   "cell_type": "code",
   "execution_count": 22,
   "metadata": {},
   "outputs": [
    {
     "name": "stdout",
     "output_type": "stream",
     "text": [
      "50.0\n",
      "111.11111111111111\n"
     ]
    }
   ],
   "source": [
    "budget = 10000\n",
    "number_of_wells_in_region = 200\n",
    "budget_per_well = budget/number_of_wells_in_region\n",
    "price = 0.45\n",
    "min_product = budget_per_well/price\n",
    "print(budget_per_well)\n",
    "print(min_product)"
   ]
  },
  {
   "cell_type": "code",
   "execution_count": 23,
   "metadata": {},
   "outputs": [
    {
     "name": "stdout",
     "output_type": "stream",
     "text": [
      "18.518543326730764\n",
      "42.38256421566511\n",
      "16.146065143106227\n"
     ]
    }
   ],
   "source": [
    "print(min_product-df0_product)\n",
    "print(min_product-df1_product)\n",
    "print(min_product-df2_product)"
   ]
  },
  {
   "cell_type": "markdown",
   "metadata": {
    "lang": "en"
   },
   "source": [
    "10,000 million rubles are allocated for the region. In the region it is necessary to select 200 wells, therefore, on average, one well costs 50 million rubles. budget. Knowing that at current prices per thousand barrels we will receive 0.450 million rubles of profit, on average there should be more than 50/0.45~111 thousand barrels of raw material in a well. This is 18 thousand more than the average in the first region, 42 more than in the second and 16 more than in the third. This means that wells chosen at random are more likely to cause losses."
   ]
  },
  {
   "cell_type": "code",
   "execution_count": 24,
   "metadata": {},
   "outputs": [],
   "source": [
    "def profit(predictions, target):\n",
    "    index = pd.Series(predictions).sort_values(ascending=False).head(200).index\n",
    "    profit = price*target.iloc[index].sum() - budget\n",
    "    return profit"
   ]
  },
  {
   "cell_type": "code",
   "execution_count": 25,
   "metadata": {
    "scrolled": true
   },
   "outputs": [
    {
     "data": {
      "text/plain": [
       "3320.8260431398503"
      ]
     },
     "execution_count": 25,
     "metadata": {},
     "output_type": "execute_result"
    }
   ],
   "source": [
    "profit(df0_predictions, target0)"
   ]
  },
  {
   "cell_type": "code",
   "execution_count": 26,
   "metadata": {},
   "outputs": [
    {
     "data": {
      "text/plain": [
       "2415.086696681512"
      ]
     },
     "execution_count": 26,
     "metadata": {},
     "output_type": "execute_result"
    }
   ],
   "source": [
    "profit(df1_predictions, target1)"
   ]
  },
  {
   "cell_type": "code",
   "execution_count": 27,
   "metadata": {
    "scrolled": true
   },
   "outputs": [
    {
     "data": {
      "text/plain": [
       "2710.3499635998323"
      ]
     },
     "execution_count": 27,
     "metadata": {},
     "output_type": "execute_result"
    }
   ],
   "source": [
    "profit(df2_predictions, target2)"
   ]
  },
  {
   "cell_type": "markdown",
   "metadata": {
    "lang": "en"
   },
   "source": [
    "## Calculation of profits and risks"
   ]
  },
  {
   "cell_type": "code",
   "execution_count": 28,
   "metadata": {},
   "outputs": [],
   "source": [
    "def bootstrap(predictions, target, number):\n",
    "    state = RandomState(12345)\n",
    "    values = []\n",
    "    for i in range(number):\n",
    "        predicted_subsample = pd.Series(predictions).sample(n=500, replace=True, random_state=state)\n",
    "        profits = profit(predicted_subsample, target)\n",
    "        values.append(profits)\n",
    "    \n",
    "    values = pd.Series(values)\n",
    "    average_profit = values.mean()\n",
    "    lower = values.quantile(0.025)\n",
    "    upper = values.quantile(0.975)\n",
    "    risk = (values<0).sum()/number\n",
    "    \n",
    "    return average_profit, lower, upper, risk"
   ]
  },
  {
   "cell_type": "code",
   "execution_count": 29,
   "metadata": {
    "scrolled": true
   },
   "outputs": [
    {
     "data": {
      "text/plain": [
       "(396.16498480237146, -111.21554589049533, 909.7669415534222, 0.069)"
      ]
     },
     "execution_count": 29,
     "metadata": {},
     "output_type": "execute_result"
    }
   ],
   "source": [
    "bootstrap(df0_predictions, target0, 1000)"
   ]
  },
  {
   "cell_type": "code",
   "execution_count": 30,
   "metadata": {},
   "outputs": [
    {
     "data": {
      "text/plain": [
       "(456.04510578666105, 33.82050939898541, 852.2894538660361, 0.015)"
      ]
     },
     "execution_count": 30,
     "metadata": {},
     "output_type": "execute_result"
    }
   ],
   "source": [
    "bootstrap(df1_predictions, target1, 1000)"
   ]
  },
  {
   "cell_type": "code",
   "execution_count": 31,
   "metadata": {
    "scrolled": true
   },
   "outputs": [
    {
     "data": {
      "text/plain": [
       "(404.4038665683571, -163.35041339560078, 950.3595749238001, 0.076)"
      ]
     },
     "execution_count": 31,
     "metadata": {},
     "output_type": "execute_result"
    }
   ],
   "source": [
    "bootstrap(df2_predictions, target2, 1000)"
   ]
  },
  {
   "cell_type": "markdown",
   "metadata": {
    "lang": "en"
   },
   "source": [
    "Of all the regions, only the second one has a risk of loss of less than 2.5%, as well as the highest average profit. Therefore, the second region is recommended for drilling."
   ]
  }
 ],
 "metadata": {
  "ExecuteTimeLog": [
   {
    "duration": 1031,
    "start_time": "2023-03-20T18:23:42.729Z"
   },
   {
    "duration": 102,
    "start_time": "2023-03-20T18:25:10.555Z"
   },
   {
    "duration": 1600,
    "start_time": "2023-03-20T18:25:14.716Z"
   },
   {
    "duration": 22,
    "start_time": "2023-03-20T18:25:17.495Z"
   },
   {
    "duration": 47,
    "start_time": "2023-03-20T22:30:35.076Z"
   },
   {
    "duration": 1067,
    "start_time": "2023-03-20T22:30:41.879Z"
   },
   {
    "duration": 1656,
    "start_time": "2023-03-20T22:30:42.948Z"
   },
   {
    "duration": 23,
    "start_time": "2023-03-20T22:30:44.605Z"
   },
   {
    "duration": 43,
    "start_time": "2023-03-20T22:30:44.629Z"
   },
   {
    "duration": 40,
    "start_time": "2023-03-20T22:31:00.627Z"
   },
   {
    "duration": 42,
    "start_time": "2023-03-20T22:31:08.290Z"
   },
   {
    "duration": 15,
    "start_time": "2023-03-20T22:33:00.716Z"
   },
   {
    "duration": 15,
    "start_time": "2023-03-20T22:33:10.650Z"
   },
   {
    "duration": 16,
    "start_time": "2023-03-20T22:33:31.836Z"
   },
   {
    "duration": 19,
    "start_time": "2023-03-20T22:39:24.587Z"
   },
   {
    "duration": 16,
    "start_time": "2023-03-20T22:40:10.736Z"
   },
   {
    "duration": 16,
    "start_time": "2023-03-20T22:40:29.283Z"
   },
   {
    "duration": 18,
    "start_time": "2023-03-20T22:40:40.967Z"
   },
   {
    "duration": 17,
    "start_time": "2023-03-20T22:40:42.701Z"
   },
   {
    "duration": 15,
    "start_time": "2023-03-20T22:40:43.430Z"
   },
   {
    "duration": 22,
    "start_time": "2023-03-20T22:41:10.999Z"
   },
   {
    "duration": 15,
    "start_time": "2023-03-20T22:41:12.656Z"
   },
   {
    "duration": 22,
    "start_time": "2023-03-20T22:41:14.960Z"
   },
   {
    "duration": 17,
    "start_time": "2023-03-20T22:41:16.322Z"
   },
   {
    "duration": 15,
    "start_time": "2023-03-20T22:41:16.836Z"
   },
   {
    "duration": 16,
    "start_time": "2023-03-20T22:41:17.216Z"
   },
   {
    "duration": 16,
    "start_time": "2023-03-20T22:41:17.410Z"
   },
   {
    "duration": 16,
    "start_time": "2023-03-20T22:41:17.588Z"
   },
   {
    "duration": 23,
    "start_time": "2023-03-20T22:41:39.706Z"
   },
   {
    "duration": 3,
    "start_time": "2023-03-20T22:41:56.290Z"
   },
   {
    "duration": 383,
    "start_time": "2023-03-20T22:41:56.295Z"
   },
   {
    "duration": 20,
    "start_time": "2023-03-20T22:41:56.679Z"
   },
   {
    "duration": 60,
    "start_time": "2023-03-20T22:41:56.702Z"
   },
   {
    "duration": 38,
    "start_time": "2023-03-20T22:41:56.764Z"
   },
   {
    "duration": 38,
    "start_time": "2023-03-20T22:41:56.804Z"
   },
   {
    "duration": 28,
    "start_time": "2023-03-20T22:41:56.844Z"
   },
   {
    "duration": 14,
    "start_time": "2023-03-20T22:41:56.874Z"
   },
   {
    "duration": 14,
    "start_time": "2023-03-20T22:41:56.890Z"
   },
   {
    "duration": 20,
    "start_time": "2023-03-20T22:41:56.906Z"
   },
   {
    "duration": 23,
    "start_time": "2023-03-20T22:41:59.428Z"
   },
   {
    "duration": 18,
    "start_time": "2023-03-20T22:43:14.605Z"
   },
   {
    "duration": 16,
    "start_time": "2023-03-20T22:43:40.143Z"
   },
   {
    "duration": 64,
    "start_time": "2023-03-20T22:44:50.493Z"
   },
   {
    "duration": 9,
    "start_time": "2023-03-20T22:44:54.634Z"
   },
   {
    "duration": 14,
    "start_time": "2023-03-20T22:45:06.996Z"
   },
   {
    "duration": 17,
    "start_time": "2023-03-20T22:45:08.804Z"
   },
   {
    "duration": 18,
    "start_time": "2023-03-20T22:45:36.574Z"
   },
   {
    "duration": 20,
    "start_time": "2023-03-20T22:47:17.837Z"
   },
   {
    "duration": 44,
    "start_time": "2023-03-20T22:47:27.408Z"
   },
   {
    "duration": 22,
    "start_time": "2023-03-20T22:47:41.465Z"
   },
   {
    "duration": 45,
    "start_time": "2023-03-20T22:47:53.024Z"
   },
   {
    "duration": 3,
    "start_time": "2023-03-20T22:53:05.906Z"
   },
   {
    "duration": 9,
    "start_time": "2023-03-20T22:53:48.009Z"
   },
   {
    "duration": 20,
    "start_time": "2023-03-20T22:54:01.563Z"
   },
   {
    "duration": 3,
    "start_time": "2023-03-20T23:03:19.597Z"
   },
   {
    "duration": 4,
    "start_time": "2023-03-20T23:22:26.966Z"
   },
   {
    "duration": 13,
    "start_time": "2023-03-20T23:24:28.026Z"
   },
   {
    "duration": 5,
    "start_time": "2023-03-20T23:24:44.172Z"
   },
   {
    "duration": 20,
    "start_time": "2023-03-20T23:24:45.811Z"
   },
   {
    "duration": 4,
    "start_time": "2023-03-20T23:25:00.067Z"
   },
   {
    "duration": 89,
    "start_time": "2023-03-20T23:25:02.379Z"
   },
   {
    "duration": 35,
    "start_time": "2023-03-20T23:25:27.897Z"
   },
   {
    "duration": 36,
    "start_time": "2023-03-20T23:26:20.300Z"
   },
   {
    "duration": 43,
    "start_time": "2023-03-20T23:26:43.521Z"
   },
   {
    "duration": 4,
    "start_time": "2023-03-20T23:50:13.189Z"
   },
   {
    "duration": 54,
    "start_time": "2023-03-20T23:50:14.913Z"
   },
   {
    "duration": 93,
    "start_time": "2023-03-20T23:50:25.870Z"
   },
   {
    "duration": 44,
    "start_time": "2023-03-20T23:50:29.848Z"
   },
   {
    "duration": 6,
    "start_time": "2023-03-20T23:52:04.051Z"
   },
   {
    "duration": 27,
    "start_time": "2023-03-20T23:52:07.254Z"
   },
   {
    "duration": 28,
    "start_time": "2023-03-20T23:52:09.709Z"
   },
   {
    "duration": 26,
    "start_time": "2023-03-20T23:52:11.845Z"
   },
   {
    "duration": 4,
    "start_time": "2023-03-20T23:52:34.032Z"
   },
   {
    "duration": 364,
    "start_time": "2023-03-20T23:52:34.037Z"
   },
   {
    "duration": 15,
    "start_time": "2023-03-20T23:52:34.403Z"
   },
   {
    "duration": 45,
    "start_time": "2023-03-20T23:52:34.420Z"
   },
   {
    "duration": 36,
    "start_time": "2023-03-20T23:52:34.467Z"
   },
   {
    "duration": 36,
    "start_time": "2023-03-20T23:52:34.505Z"
   },
   {
    "duration": 14,
    "start_time": "2023-03-20T23:52:34.561Z"
   },
   {
    "duration": 15,
    "start_time": "2023-03-20T23:52:34.577Z"
   },
   {
    "duration": 13,
    "start_time": "2023-03-20T23:52:34.594Z"
   },
   {
    "duration": 19,
    "start_time": "2023-03-20T23:52:34.609Z"
   },
   {
    "duration": 43,
    "start_time": "2023-03-20T23:52:34.630Z"
   },
   {
    "duration": 17,
    "start_time": "2023-03-20T23:52:34.675Z"
   },
   {
    "duration": 20,
    "start_time": "2023-03-20T23:52:34.693Z"
   },
   {
    "duration": 62,
    "start_time": "2023-03-20T23:52:34.716Z"
   },
   {
    "duration": 19,
    "start_time": "2023-03-20T23:52:34.780Z"
   },
   {
    "duration": 61,
    "start_time": "2023-03-20T23:52:34.801Z"
   },
   {
    "duration": 19,
    "start_time": "2023-03-20T23:52:34.864Z"
   },
   {
    "duration": 4,
    "start_time": "2023-03-20T23:52:34.885Z"
   },
   {
    "duration": 82,
    "start_time": "2023-03-20T23:52:34.890Z"
   },
   {
    "duration": 30,
    "start_time": "2023-03-20T23:52:35.062Z"
   },
   {
    "duration": 180,
    "start_time": "2023-03-20T23:52:35.093Z"
   },
   {
    "duration": 5,
    "start_time": "2023-03-21T00:18:47.361Z"
   },
   {
    "duration": 32,
    "start_time": "2023-03-21T00:18:49.045Z"
   },
   {
    "duration": 28,
    "start_time": "2023-03-21T00:18:50.700Z"
   },
   {
    "duration": 28,
    "start_time": "2023-03-21T00:18:54.180Z"
   },
   {
    "duration": 8,
    "start_time": "2023-03-21T00:37:27.083Z"
   },
   {
    "duration": 9,
    "start_time": "2023-03-21T00:37:34.144Z"
   },
   {
    "duration": 10,
    "start_time": "2023-03-21T00:37:44.201Z"
   },
   {
    "duration": 4,
    "start_time": "2023-03-21T00:37:54.587Z"
   },
   {
    "duration": 9,
    "start_time": "2023-03-21T00:38:03.325Z"
   },
   {
    "duration": 8,
    "start_time": "2023-03-21T00:38:17.591Z"
   },
   {
    "duration": 8,
    "start_time": "2023-03-21T00:38:27.160Z"
   },
   {
    "duration": 8,
    "start_time": "2023-03-21T00:38:54.745Z"
   },
   {
    "duration": 12,
    "start_time": "2023-03-21T00:39:18.717Z"
   },
   {
    "duration": 16,
    "start_time": "2023-03-21T00:39:25.136Z"
   },
   {
    "duration": 15,
    "start_time": "2023-03-21T00:39:37.628Z"
   },
   {
    "duration": 6,
    "start_time": "2023-03-21T00:42:43.152Z"
   },
   {
    "duration": 9,
    "start_time": "2023-03-21T00:42:55.309Z"
   },
   {
    "duration": 9,
    "start_time": "2023-03-21T00:43:05.901Z"
   },
   {
    "duration": 17,
    "start_time": "2023-03-21T00:43:21.112Z"
   },
   {
    "duration": 10,
    "start_time": "2023-03-21T00:45:28.420Z"
   },
   {
    "duration": 8,
    "start_time": "2023-03-21T00:45:32.715Z"
   },
   {
    "duration": 9,
    "start_time": "2023-03-21T00:47:34.664Z"
   },
   {
    "duration": 8,
    "start_time": "2023-03-21T00:48:11.968Z"
   },
   {
    "duration": 9,
    "start_time": "2023-03-21T00:48:43.095Z"
   },
   {
    "duration": 7,
    "start_time": "2023-03-21T00:48:54.985Z"
   },
   {
    "duration": 8,
    "start_time": "2023-03-21T00:49:02.796Z"
   },
   {
    "duration": 8,
    "start_time": "2023-03-21T00:58:11.937Z"
   },
   {
    "duration": 10,
    "start_time": "2023-03-21T00:58:46.107Z"
   },
   {
    "duration": 3,
    "start_time": "2023-03-21T01:00:29.488Z"
   },
   {
    "duration": 42,
    "start_time": "2023-03-21T01:01:25.736Z"
   },
   {
    "duration": 13,
    "start_time": "2023-03-21T01:02:20.524Z"
   },
   {
    "duration": 9,
    "start_time": "2023-03-21T01:02:27.472Z"
   },
   {
    "duration": 20,
    "start_time": "2023-03-21T01:02:41.614Z"
   },
   {
    "duration": 13,
    "start_time": "2023-03-21T01:02:46.929Z"
   },
   {
    "duration": 3,
    "start_time": "2023-03-21T01:08:41.068Z"
   },
   {
    "duration": 12,
    "start_time": "2023-03-21T01:09:16.696Z"
   },
   {
    "duration": 3,
    "start_time": "2023-03-21T01:09:41.464Z"
   },
   {
    "duration": 11,
    "start_time": "2023-03-21T01:09:43.383Z"
   },
   {
    "duration": 5,
    "start_time": "2023-03-21T01:14:59.395Z"
   },
   {
    "duration": 35,
    "start_time": "2023-03-21T01:15:00.659Z"
   },
   {
    "duration": 42,
    "start_time": "2023-03-21T01:15:01.922Z"
   },
   {
    "duration": 34,
    "start_time": "2023-03-21T01:15:02.745Z"
   },
   {
    "duration": 3,
    "start_time": "2023-03-21T01:15:15.981Z"
   },
   {
    "duration": 11,
    "start_time": "2023-03-21T01:15:17.056Z"
   },
   {
    "duration": 4,
    "start_time": "2023-03-21T01:16:22.896Z"
   },
   {
    "duration": 29,
    "start_time": "2023-03-21T01:16:24.796Z"
   },
   {
    "duration": 3,
    "start_time": "2023-03-21T01:16:41.994Z"
   },
   {
    "duration": 8,
    "start_time": "2023-03-21T01:16:43.695Z"
   },
   {
    "duration": 2,
    "start_time": "2023-03-21T01:18:03.837Z"
   },
   {
    "duration": 8,
    "start_time": "2023-03-21T01:18:05.353Z"
   },
   {
    "duration": 3,
    "start_time": "2023-03-21T01:18:25.428Z"
   },
   {
    "duration": 7,
    "start_time": "2023-03-21T01:18:26.586Z"
   },
   {
    "duration": 8,
    "start_time": "2023-03-21T01:18:56.428Z"
   },
   {
    "duration": 10,
    "start_time": "2023-03-21T01:19:15.166Z"
   },
   {
    "duration": 4,
    "start_time": "2023-03-21T01:25:12.698Z"
   },
   {
    "duration": 4,
    "start_time": "2023-03-21T01:49:12.498Z"
   },
   {
    "duration": 15,
    "start_time": "2023-03-21T01:50:08.304Z"
   },
   {
    "duration": 5,
    "start_time": "2023-03-21T01:50:37.704Z"
   },
   {
    "duration": 13,
    "start_time": "2023-03-21T01:50:39.071Z"
   },
   {
    "duration": 3,
    "start_time": "2023-03-21T01:57:42.811Z"
   },
   {
    "duration": 4,
    "start_time": "2023-03-21T01:57:47.399Z"
   },
   {
    "duration": 15,
    "start_time": "2023-03-21T01:57:49.389Z"
   },
   {
    "duration": 5,
    "start_time": "2023-03-21T01:58:20.313Z"
   },
   {
    "duration": 3808,
    "start_time": "2023-03-21T01:58:23.638Z"
   },
   {
    "duration": 3855,
    "start_time": "2023-03-21T01:59:13.681Z"
   },
   {
    "duration": 3758,
    "start_time": "2023-03-21T01:59:29.428Z"
   },
   {
    "duration": 11,
    "start_time": "2023-03-21T02:02:55.604Z"
   },
   {
    "duration": 9,
    "start_time": "2023-03-21T02:03:11.403Z"
   },
   {
    "duration": 4,
    "start_time": "2023-03-21T02:14:11.164Z"
   },
   {
    "duration": 25,
    "start_time": "2023-03-21T02:14:13.143Z"
   },
   {
    "duration": 4,
    "start_time": "2023-03-21T02:18:36.465Z"
   },
   {
    "duration": 5,
    "start_time": "2023-03-21T02:18:38.809Z"
   },
   {
    "duration": 5,
    "start_time": "2023-03-21T02:18:41.367Z"
   },
   {
    "duration": 524,
    "start_time": "2023-03-21T02:18:43.195Z"
   },
   {
    "duration": 548,
    "start_time": "2023-03-21T02:18:47.884Z"
   },
   {
    "duration": 564,
    "start_time": "2023-03-21T02:18:49.599Z"
   },
   {
    "duration": 5,
    "start_time": "2023-03-21T02:23:13.279Z"
   },
   {
    "duration": 508,
    "start_time": "2023-03-21T02:23:20.391Z"
   },
   {
    "duration": 4,
    "start_time": "2023-03-21T02:24:31.402Z"
   },
   {
    "duration": 576,
    "start_time": "2023-03-21T02:24:32.828Z"
   },
   {
    "duration": 646,
    "start_time": "2023-03-21T02:24:34.768Z"
   },
   {
    "duration": 604,
    "start_time": "2023-03-21T02:24:36.917Z"
   },
   {
    "duration": 3,
    "start_time": "2023-03-21T02:25:56.584Z"
   },
   {
    "duration": 8,
    "start_time": "2023-03-21T02:25:58.506Z"
   },
   {
    "duration": 7,
    "start_time": "2023-03-21T02:26:01.727Z"
   },
   {
    "duration": 8,
    "start_time": "2023-03-21T02:26:03.762Z"
   },
   {
    "duration": 6,
    "start_time": "2023-03-21T02:26:06.166Z"
   },
   {
    "duration": 643,
    "start_time": "2023-03-21T02:26:08.353Z"
   },
   {
    "duration": 576,
    "start_time": "2023-03-21T02:26:21.546Z"
   },
   {
    "duration": 608,
    "start_time": "2023-03-21T02:26:24.094Z"
   },
   {
    "duration": 3,
    "start_time": "2023-03-21T02:43:45.102Z"
   },
   {
    "duration": 4,
    "start_time": "2023-03-21T02:45:38.381Z"
   },
   {
    "duration": 4,
    "start_time": "2023-03-21T02:46:29.612Z"
   },
   {
    "duration": 3,
    "start_time": "2023-03-21T02:49:14.587Z"
   },
   {
    "duration": 356,
    "start_time": "2023-03-21T02:49:14.592Z"
   },
   {
    "duration": 15,
    "start_time": "2023-03-21T02:49:14.949Z"
   },
   {
    "duration": 42,
    "start_time": "2023-03-21T02:49:14.966Z"
   },
   {
    "duration": 55,
    "start_time": "2023-03-21T02:49:15.009Z"
   },
   {
    "duration": 44,
    "start_time": "2023-03-21T02:49:15.066Z"
   },
   {
    "duration": 15,
    "start_time": "2023-03-21T02:49:15.111Z"
   },
   {
    "duration": 36,
    "start_time": "2023-03-21T02:49:15.127Z"
   },
   {
    "duration": 14,
    "start_time": "2023-03-21T02:49:15.165Z"
   },
   {
    "duration": 19,
    "start_time": "2023-03-21T02:49:15.181Z"
   },
   {
    "duration": 14,
    "start_time": "2023-03-21T02:49:15.202Z"
   },
   {
    "duration": 43,
    "start_time": "2023-03-21T02:49:15.218Z"
   },
   {
    "duration": 21,
    "start_time": "2023-03-21T02:49:15.263Z"
   },
   {
    "duration": 43,
    "start_time": "2023-03-21T02:49:15.285Z"
   },
   {
    "duration": 34,
    "start_time": "2023-03-21T02:49:15.330Z"
   },
   {
    "duration": 46,
    "start_time": "2023-03-21T02:49:15.366Z"
   },
   {
    "duration": 20,
    "start_time": "2023-03-21T02:49:15.413Z"
   },
   {
    "duration": 27,
    "start_time": "2023-03-21T02:49:15.435Z"
   },
   {
    "duration": 28,
    "start_time": "2023-03-21T02:49:15.464Z"
   },
   {
    "duration": 183,
    "start_time": "2023-03-21T02:49:15.493Z"
   },
   {
    "duration": 192,
    "start_time": "2023-03-21T02:49:15.679Z"
   },
   {
    "duration": 5,
    "start_time": "2023-03-21T02:49:15.873Z"
   },
   {
    "duration": 5,
    "start_time": "2023-03-21T02:49:15.963Z"
   },
   {
    "duration": 92,
    "start_time": "2023-03-21T02:49:15.970Z"
   },
   {
    "duration": 9,
    "start_time": "2023-03-21T02:49:16.063Z"
   },
   {
    "duration": 8,
    "start_time": "2023-03-21T02:49:16.074Z"
   },
   {
    "duration": 7,
    "start_time": "2023-03-21T02:49:16.084Z"
   },
   {
    "duration": 4,
    "start_time": "2023-03-21T02:49:16.095Z"
   },
   {
    "duration": 675,
    "start_time": "2023-03-21T02:49:16.101Z"
   },
   {
    "duration": 610,
    "start_time": "2023-03-21T02:49:16.778Z"
   },
   {
    "duration": 643,
    "start_time": "2023-03-21T02:49:17.389Z"
   },
   {
    "duration": 1829,
    "start_time": "2023-03-21T18:59:18.855Z"
   },
   {
    "duration": 399,
    "start_time": "2023-03-21T18:59:20.686Z"
   },
   {
    "duration": 21,
    "start_time": "2023-03-21T18:59:21.086Z"
   },
   {
    "duration": 50,
    "start_time": "2023-03-21T18:59:21.109Z"
   },
   {
    "duration": 37,
    "start_time": "2023-03-21T18:59:21.161Z"
   },
   {
    "duration": 60,
    "start_time": "2023-03-21T18:59:21.200Z"
   },
   {
    "duration": 14,
    "start_time": "2023-03-21T18:59:21.261Z"
   },
   {
    "duration": 13,
    "start_time": "2023-03-21T18:59:21.276Z"
   },
   {
    "duration": 38,
    "start_time": "2023-03-21T18:59:21.290Z"
   },
   {
    "duration": 18,
    "start_time": "2023-03-21T18:59:21.345Z"
   },
   {
    "duration": 10,
    "start_time": "2023-03-21T18:59:21.365Z"
   },
   {
    "duration": 19,
    "start_time": "2023-03-21T18:59:21.376Z"
   },
   {
    "duration": 16,
    "start_time": "2023-03-21T18:59:21.397Z"
   },
   {
    "duration": 56,
    "start_time": "2023-03-21T18:59:21.415Z"
   },
   {
    "duration": 14,
    "start_time": "2023-03-21T18:59:21.473Z"
   },
   {
    "duration": 72,
    "start_time": "2023-03-21T18:59:21.489Z"
   },
   {
    "duration": 19,
    "start_time": "2023-03-21T18:59:21.563Z"
   },
   {
    "duration": 4,
    "start_time": "2023-03-21T18:59:21.584Z"
   },
   {
    "duration": 67,
    "start_time": "2023-03-21T18:59:21.590Z"
   },
   {
    "duration": 182,
    "start_time": "2023-03-21T18:59:21.660Z"
   },
   {
    "duration": 188,
    "start_time": "2023-03-21T18:59:21.843Z"
   },
   {
    "duration": 7,
    "start_time": "2023-03-21T18:59:22.033Z"
   },
   {
    "duration": 114,
    "start_time": "2023-03-21T18:59:22.042Z"
   },
   {
    "duration": 7,
    "start_time": "2023-03-21T18:59:22.157Z"
   },
   {
    "duration": 8,
    "start_time": "2023-03-21T18:59:22.165Z"
   },
   {
    "duration": 7,
    "start_time": "2023-03-21T18:59:22.174Z"
   },
   {
    "duration": 7,
    "start_time": "2023-03-21T18:59:22.182Z"
   },
   {
    "duration": 5,
    "start_time": "2023-03-21T18:59:22.221Z"
   },
   {
    "duration": 542,
    "start_time": "2023-03-21T18:59:22.228Z"
   },
   {
    "duration": 469,
    "start_time": "2023-03-21T18:59:22.772Z"
   },
   {
    "duration": 456,
    "start_time": "2023-03-21T18:59:23.243Z"
   }
  ],
  "kernelspec": {
   "display_name": "Python 3 (ipykernel)",
   "language": "python",
   "name": "python3"
  },
  "language_info": {
   "codemirror_mode": {
    "name": "ipython",
    "version": 3
   },
   "file_extension": ".py",
   "mimetype": "text/x-python",
   "name": "python",
   "nbconvert_exporter": "python",
   "pygments_lexer": "ipython3",
   "version": "3.9.13"
  },
  "nbTranslate": {
   "displayLangs": [],
   "hotkey": "alt-t",
   "langInMainMenu": true,
   "sourceLang": "ru",
   "targetLang": "en",
   "useGoogleTranslate": true
  },
  "toc": {
   "base_numbering": 1,
   "nav_menu": {},
   "number_sections": true,
   "sideBar": true,
   "skip_h1_title": true,
   "title_cell": "Table of Contents",
   "title_sidebar": "Contents",
   "toc_cell": false,
   "toc_position": {
    "height": "calc(100% - 180px)",
    "left": "10px",
    "top": "150px",
    "width": "307.181px"
   },
   "toc_section_display": true,
   "toc_window_display": true
  }
 },
 "nbformat": 4,
 "nbformat_minor": 2
}
