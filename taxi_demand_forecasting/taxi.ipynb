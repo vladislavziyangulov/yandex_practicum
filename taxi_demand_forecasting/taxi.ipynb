{
 "cells": [
  {
   "cell_type": "markdown",
   "metadata": {
    "lang": "en"
   },
   "source": [
    "# Forecasting taxi orders"
   ]
  },
  {
   "cell_type": "markdown",
   "metadata": {
    "lang": "en"
   },
   "source": [
    "A taxi company has collected historical data on taxi orders at airports. To attract more drivers during peak periods, we need to predict the number of taxi orders for the next hour. We build a model to make this prediction.\n",
    "\n",
    "The value of the *RMSE* metric on the test sample should be no more than 48.\n",
    "\n",
    "We need to:\n",
    "\n",
    "1. Load the data and resample it by hour.\n",
    "2. Analyze the data.\n",
    "3. Train different models with different hyperparameters. Make a test sample of 10% of the original data.\n",
    "4. Check the data on a test sample and draw conclusions."
   ]
  },
  {
   "cell_type": "markdown",
   "metadata": {
    "lang": "en"
   },
   "source": [
    "## Preparation"
   ]
  },
  {
   "cell_type": "code",
   "execution_count": 1,
   "metadata": {
    "execution": {
     "iopub.execute_input": "2023-05-17T09:32:01.321201Z",
     "iopub.status.busy": "2023-05-17T09:32:01.320765Z",
     "iopub.status.idle": "2023-05-17T09:32:01.326839Z",
     "shell.execute_reply": "2023-05-17T09:32:01.326038Z",
     "shell.execute_reply.started": "2023-05-17T09:32:01.321167Z"
    }
   },
   "outputs": [],
   "source": [
    "import pandas as pd\n",
    "import numpy as np\n",
    "import seaborn as sns\n",
    "from matplotlib import pyplot as plt\n",
    "from statsmodels.tsa.seasonal import seasonal_decompose\n",
    "from sklearn.model_selection import train_test_split, TimeSeriesSplit, cross_val_score, GridSearchCV\n",
    "from sklearn.ensemble import RandomForestRegressor\n",
    "import lightgbm as lgb\n",
    "from sklearn.metrics import mean_absolute_error, mean_squared_error"
   ]
  },
  {
   "cell_type": "code",
   "execution_count": 2,
   "metadata": {
    "execution": {
     "iopub.execute_input": "2023-05-17T09:32:01.328765Z",
     "iopub.status.busy": "2023-05-17T09:32:01.328146Z",
     "iopub.status.idle": "2023-05-17T09:32:01.402559Z",
     "shell.execute_reply": "2023-05-17T09:32:01.401422Z",
     "shell.execute_reply.started": "2023-05-17T09:32:01.328734Z"
    }
   },
   "outputs": [],
   "source": [
    "data = pd.read_csv('/datasets/taxi.csv', parse_dates=[0], index_col=[0])"
   ]
  },
  {
   "cell_type": "code",
   "execution_count": 3,
   "metadata": {
    "execution": {
     "iopub.execute_input": "2023-05-17T09:32:01.404183Z",
     "iopub.status.busy": "2023-05-17T09:32:01.403833Z",
     "iopub.status.idle": "2023-05-17T09:32:01.408934Z",
     "shell.execute_reply": "2023-05-17T09:32:01.407969Z",
     "shell.execute_reply.started": "2023-05-17T09:32:01.404148Z"
    }
   },
   "outputs": [],
   "source": [
    "data.index.name = None"
   ]
  },
  {
   "cell_type": "code",
   "execution_count": 4,
   "metadata": {
    "execution": {
     "iopub.execute_input": "2023-05-17T09:32:01.411771Z",
     "iopub.status.busy": "2023-05-17T09:32:01.411149Z",
     "iopub.status.idle": "2023-05-17T09:32:01.451396Z",
     "shell.execute_reply": "2023-05-17T09:32:01.450193Z",
     "shell.execute_reply.started": "2023-05-17T09:32:01.411736Z"
    }
   },
   "outputs": [],
   "source": [
    "data = data.resample('1H').sum()"
   ]
  },
  {
   "cell_type": "code",
   "execution_count": 5,
   "metadata": {
    "execution": {
     "iopub.execute_input": "2023-05-17T09:32:01.453374Z",
     "iopub.status.busy": "2023-05-17T09:32:01.452961Z",
     "iopub.status.idle": "2023-05-17T09:32:01.465578Z",
     "shell.execute_reply": "2023-05-17T09:32:01.464508Z",
     "shell.execute_reply.started": "2023-05-17T09:32:01.453317Z"
    }
   },
   "outputs": [
    {
     "data": {
      "text/plain": [
       "2018-03-01 00:00:00    124\n",
       "2018-03-01 01:00:00     85\n",
       "2018-03-01 02:00:00     71\n",
       "2018-03-01 03:00:00     66\n",
       "2018-03-01 04:00:00     43\n",
       "                      ... \n",
       "2018-08-31 19:00:00    136\n",
       "2018-08-31 20:00:00    154\n",
       "2018-08-31 21:00:00    159\n",
       "2018-08-31 22:00:00    223\n",
       "2018-08-31 23:00:00    205\n",
       "Freq: H, Name: num_orders, Length: 4416, dtype: int64"
      ]
     },
     "execution_count": 5,
     "metadata": {},
     "output_type": "execute_result"
    }
   ],
   "source": [
    "data['num_orders']"
   ]
  },
  {
   "cell_type": "code",
   "execution_count": 6,
   "metadata": {
    "execution": {
     "iopub.execute_input": "2023-05-17T09:32:01.467485Z",
     "iopub.status.busy": "2023-05-17T09:32:01.467108Z",
     "iopub.status.idle": "2023-05-17T09:32:01.476905Z",
     "shell.execute_reply": "2023-05-17T09:32:01.475818Z",
     "shell.execute_reply.started": "2023-05-17T09:32:01.467454Z"
    }
   },
   "outputs": [
    {
     "data": {
      "text/plain": [
       "True"
      ]
     },
     "execution_count": 6,
     "metadata": {},
     "output_type": "execute_result"
    }
   ],
   "source": [
    "data.index.is_monotonic"
   ]
  },
  {
   "cell_type": "code",
   "execution_count": 7,
   "metadata": {
    "execution": {
     "iopub.execute_input": "2023-05-17T09:32:01.479192Z",
     "iopub.status.busy": "2023-05-17T09:32:01.478521Z",
     "iopub.status.idle": "2023-05-17T09:32:01.495580Z",
     "shell.execute_reply": "2023-05-17T09:32:01.494315Z",
     "shell.execute_reply.started": "2023-05-17T09:32:01.479151Z"
    }
   },
   "outputs": [
    {
     "data": {
      "text/plain": [
       "Int64Index([2018], dtype='int64')"
      ]
     },
     "execution_count": 7,
     "metadata": {},
     "output_type": "execute_result"
    }
   ],
   "source": [
    "data.index.year.unique()"
   ]
  },
  {
   "cell_type": "code",
   "execution_count": 8,
   "metadata": {
    "execution": {
     "iopub.execute_input": "2023-05-17T09:32:01.497377Z",
     "iopub.status.busy": "2023-05-17T09:32:01.497020Z",
     "iopub.status.idle": "2023-05-17T09:32:01.512644Z",
     "shell.execute_reply": "2023-05-17T09:32:01.511570Z",
     "shell.execute_reply.started": "2023-05-17T09:32:01.497345Z"
    }
   },
   "outputs": [
    {
     "name": "stderr",
     "output_type": "stream",
     "text": [
      "/tmp/ipykernel_81/424865700.py:2: FutureWarning: weekofyear and week have been deprecated, please use DatetimeIndex.isocalendar().week instead, which returns a Series.  To exactly reproduce the behavior of week and weekofyear and return an Index, you may call pd.Int64Index(idx.isocalendar().week)\n",
      "  data['week'] = data.index.week\n"
     ]
    }
   ],
   "source": [
    "data['month'] = data.index.month\n",
    "data['week'] = data.index.week\n",
    "data['dayofweek'] = data.index.dayofweek\n",
    "data['hour'] = data.index.hour"
   ]
  },
  {
   "cell_type": "code",
   "execution_count": 9,
   "metadata": {
    "execution": {
     "iopub.execute_input": "2023-05-17T09:32:01.514321Z",
     "iopub.status.busy": "2023-05-17T09:32:01.513963Z",
     "iopub.status.idle": "2023-05-17T09:32:01.537390Z",
     "shell.execute_reply": "2023-05-17T09:32:01.536363Z",
     "shell.execute_reply.started": "2023-05-17T09:32:01.514290Z"
    }
   },
   "outputs": [
    {
     "data": {
      "text/html": [
       "<div>\n",
       "<style scoped>\n",
       "    .dataframe tbody tr th:only-of-type {\n",
       "        vertical-align: middle;\n",
       "    }\n",
       "\n",
       "    .dataframe tbody tr th {\n",
       "        vertical-align: top;\n",
       "    }\n",
       "\n",
       "    .dataframe thead th {\n",
       "        text-align: right;\n",
       "    }\n",
       "</style>\n",
       "<table border=\"1\" class=\"dataframe\">\n",
       "  <thead>\n",
       "    <tr style=\"text-align: right;\">\n",
       "      <th></th>\n",
       "      <th>num_orders</th>\n",
       "      <th>month</th>\n",
       "      <th>week</th>\n",
       "      <th>dayofweek</th>\n",
       "      <th>hour</th>\n",
       "    </tr>\n",
       "  </thead>\n",
       "  <tbody>\n",
       "    <tr>\n",
       "      <th>2018-03-01 00:00:00</th>\n",
       "      <td>124</td>\n",
       "      <td>3</td>\n",
       "      <td>9</td>\n",
       "      <td>3</td>\n",
       "      <td>0</td>\n",
       "    </tr>\n",
       "    <tr>\n",
       "      <th>2018-03-01 01:00:00</th>\n",
       "      <td>85</td>\n",
       "      <td>3</td>\n",
       "      <td>9</td>\n",
       "      <td>3</td>\n",
       "      <td>1</td>\n",
       "    </tr>\n",
       "    <tr>\n",
       "      <th>2018-03-01 02:00:00</th>\n",
       "      <td>71</td>\n",
       "      <td>3</td>\n",
       "      <td>9</td>\n",
       "      <td>3</td>\n",
       "      <td>2</td>\n",
       "    </tr>\n",
       "    <tr>\n",
       "      <th>2018-03-01 03:00:00</th>\n",
       "      <td>66</td>\n",
       "      <td>3</td>\n",
       "      <td>9</td>\n",
       "      <td>3</td>\n",
       "      <td>3</td>\n",
       "    </tr>\n",
       "    <tr>\n",
       "      <th>2018-03-01 04:00:00</th>\n",
       "      <td>43</td>\n",
       "      <td>3</td>\n",
       "      <td>9</td>\n",
       "      <td>3</td>\n",
       "      <td>4</td>\n",
       "    </tr>\n",
       "  </tbody>\n",
       "</table>\n",
       "</div>"
      ],
      "text/plain": [
       "                     num_orders  month  week  dayofweek  hour\n",
       "2018-03-01 00:00:00         124      3     9          3     0\n",
       "2018-03-01 01:00:00          85      3     9          3     1\n",
       "2018-03-01 02:00:00          71      3     9          3     2\n",
       "2018-03-01 03:00:00          66      3     9          3     3\n",
       "2018-03-01 04:00:00          43      3     9          3     4"
      ]
     },
     "execution_count": 9,
     "metadata": {},
     "output_type": "execute_result"
    }
   ],
   "source": [
    "data.head()"
   ]
  },
  {
   "cell_type": "code",
   "execution_count": 10,
   "metadata": {
    "execution": {
     "iopub.execute_input": "2023-05-17T09:32:01.540551Z",
     "iopub.status.busy": "2023-05-17T09:32:01.539934Z",
     "iopub.status.idle": "2023-05-17T09:32:01.556035Z",
     "shell.execute_reply": "2023-05-17T09:32:01.555016Z",
     "shell.execute_reply.started": "2023-05-17T09:32:01.540515Z"
    }
   },
   "outputs": [
    {
     "name": "stdout",
     "output_type": "stream",
     "text": [
      "<class 'pandas.core.frame.DataFrame'>\n",
      "DatetimeIndex: 4416 entries, 2018-03-01 00:00:00 to 2018-08-31 23:00:00\n",
      "Freq: H\n",
      "Data columns (total 5 columns):\n",
      " #   Column      Non-Null Count  Dtype\n",
      "---  ------      --------------  -----\n",
      " 0   num_orders  4416 non-null   int64\n",
      " 1   month       4416 non-null   int64\n",
      " 2   week        4416 non-null   int64\n",
      " 3   dayofweek   4416 non-null   int64\n",
      " 4   hour        4416 non-null   int64\n",
      "dtypes: int64(5)\n",
      "memory usage: 207.0 KB\n"
     ]
    }
   ],
   "source": [
    "data.info()"
   ]
  },
  {
   "cell_type": "markdown",
   "metadata": {
    "lang": "en"
   },
   "source": [
    "**Description of preprocessing:**\n",
    "\n",
    "The data was re-indexed and resampled hourly. The following characteristics were created: quarter of the year, month, week number of the year, day of the week and hour of travel."
   ]
  },
  {
   "cell_type": "markdown",
   "metadata": {
    "lang": "en"
   },
   "source": [
    "## Analysis"
   ]
  },
  {
   "cell_type": "code",
   "execution_count": 11,
   "metadata": {
    "execution": {
     "iopub.execute_input": "2023-05-17T09:32:01.558147Z",
     "iopub.status.busy": "2023-05-17T09:32:01.557775Z",
     "iopub.status.idle": "2023-05-17T09:32:02.685991Z",
     "shell.execute_reply": "2023-05-17T09:32:02.684896Z",
     "shell.execute_reply.started": "2023-05-17T09:32:01.558094Z"
    },
    "scrolled": false
   },
   "outputs": [
    {
     "data": {
      "image/png": "[encoded data removed]",
      "text/plain": [
       "<Figure size 1080x720 with 1 Axes>"
      ]
     },
     "metadata": {
      "needs_background": "light"
     },
     "output_type": "display_data"
    },
    {
     "data": {
      "image/png": "[encoded data removed]",
      "text/plain": [
       "<Figure size 1080x720 with 1 Axes>"
      ]
     },
     "metadata": {
      "needs_background": "light"
     },
     "output_type": "display_data"
    },
    {
     "data": {
      "image/png": "[encoded data removed]",
      "text/plain": [
       "<Figure size 1080x720 with 1 Axes>"
      ]
     },
     "metadata": {
      "needs_background": "light"
     },
     "output_type": "display_data"
    }
   ],
   "source": [
    "for sample in [['1D', 'Суммарное количество поездок за день'],\n",
    "               ['1W', 'Суммарное количество поездок за неделю'],\n",
    "               ['1M', 'Суммарное количество поездок за месяц']]:\n",
    "    \n",
    "    data['num_orders'].resample(sample[0]).sum().plot(figsize=(15, 10))\n",
    "    plt.title(sample[1])\n",
    "    plt.show()"
   ]
  },
  {
   "cell_type": "code",
   "execution_count": 12,
   "metadata": {
    "execution": {
     "iopub.execute_input": "2023-05-17T09:32:02.689885Z",
     "iopub.status.busy": "2023-05-17T09:32:02.688639Z",
     "iopub.status.idle": "2023-05-17T09:32:03.086337Z",
     "shell.execute_reply": "2023-05-17T09:32:03.085219Z",
     "shell.execute_reply.started": "2023-05-17T09:32:02.689851Z"
    }
   },
   "outputs": [
    {
     "data": {
      "text/plain": [
       "Text(0.5, 1.0, 'Скользящее среднее количество заказов в день')"
      ]
     },
     "execution_count": 12,
     "metadata": {},
     "output_type": "execute_result"
    },
    {
     "data": {
      "image/png": "[encoded data removed]",
      "text/plain": [
       "<Figure size 1080x720 with 1 Axes>"
      ]
     },
     "metadata": {
      "needs_background": "light"
     },
     "output_type": "display_data"
    }
   ],
   "source": [
    "data['num_orders'].resample('1D').sum().rolling(7).mean().plot(figsize=(15, 10))\n",
    "plt.title('Скользящее среднее количество заказов в день')"
   ]
  },
  {
   "cell_type": "code",
   "execution_count": 13,
   "metadata": {
    "execution": {
     "iopub.execute_input": "2023-05-17T09:32:03.088808Z",
     "iopub.status.busy": "2023-05-17T09:32:03.088032Z",
     "iopub.status.idle": "2023-05-17T09:32:04.167851Z",
     "shell.execute_reply": "2023-05-17T09:32:04.166851Z",
     "shell.execute_reply.started": "2023-05-17T09:32:03.088772Z"
    }
   },
   "outputs": [
    {
     "data": {
      "text/plain": [
       "<AxesSubplot:xlabel='dayofweek', ylabel='hour'>"
      ]
     },
     "execution_count": 13,
     "metadata": {},
     "output_type": "execute_result"
    },
    {
     "data": {
      "image/png": "[encoded data removed]",
      "text/plain": [
       "<Figure size 720x720 with 2 Axes>"
      ]
     },
     "metadata": {
      "needs_background": "light"
     },
     "output_type": "display_data"
    }
   ],
   "source": [
    "plt.figure(figsize=(10, 10))\n",
    "sns.heatmap(data\n",
    "            .query('month == 5')\n",
    "            .pivot_table(index='hour', \n",
    "                         columns='dayofweek', \n",
    "                         values='num_orders', \n",
    "                         aggfunc='median'),\n",
    "#            .apply(lambda x: (x-x.mean())/x.std(), axis=1),\n",
    "           annot=True, fmt='g',\n",
    "           linewidth=0.5, linecolor='black', cmap=sns.color_palette(\"dark:salmon_r\", as_cmap=True))"
   ]
  },
  {
   "cell_type": "code",
   "execution_count": 14,
   "metadata": {
    "execution": {
     "iopub.execute_input": "2023-05-17T09:32:04.169261Z",
     "iopub.status.busy": "2023-05-17T09:32:04.168955Z",
     "iopub.status.idle": "2023-05-17T09:32:04.645765Z",
     "shell.execute_reply": "2023-05-17T09:32:04.644626Z",
     "shell.execute_reply.started": "2023-05-17T09:32:04.169235Z"
    },
    "scrolled": false
   },
   "outputs": [
    {
     "data": {
      "text/plain": [
       "<AxesSubplot:xlabel='dayofweek', ylabel='month'>"
      ]
     },
     "execution_count": 14,
     "metadata": {},
     "output_type": "execute_result"
    },
    {
     "data": {
      "image/png": "[encoded data removed]",
      "text/plain": [
       "<Figure size 720x720 with 2 Axes>"
      ]
     },
     "metadata": {
      "needs_background": "light"
     },
     "output_type": "display_data"
    }
   ],
   "source": [
    "plt.figure(figsize=(10, 10))\n",
    "sns.heatmap(data\n",
    "            .pivot_table(index='month', \n",
    "                         columns='dayofweek', \n",
    "                         values='num_orders', \n",
    "                         aggfunc='median')\n",
    "            .apply(lambda x: (x-x.mean())/x.std(), axis=1),\n",
    "           annot=True, fmt='.2g',\n",
    "           linewidth=0.5, linecolor='black', cmap=sns.color_palette(\"dark:salmon_r\", as_cmap=True))"
   ]
  },
  {
   "cell_type": "code",
   "execution_count": 15,
   "metadata": {
    "execution": {
     "iopub.execute_input": "2023-05-17T09:32:04.647462Z",
     "iopub.status.busy": "2023-05-17T09:32:04.647109Z",
     "iopub.status.idle": "2023-05-17T09:32:04.916585Z",
     "shell.execute_reply": "2023-05-17T09:32:04.915195Z",
     "shell.execute_reply.started": "2023-05-17T09:32:04.647432Z"
    }
   },
   "outputs": [
    {
     "data": {
      "text/plain": [
       "<AxesSubplot:title={'center':'Количество поездок по неделям'}, xlabel='dayofweek'>"
      ]
     },
     "execution_count": 15,
     "metadata": {},
     "output_type": "execute_result"
    },
    {
     "data": {
      "image/png": "[encoded data removed]",
      "text/plain": [
       "<Figure size 432x288 with 1 Axes>"
      ]
     },
     "metadata": {
      "needs_background": "light"
     },
     "output_type": "display_data"
    }
   ],
   "source": [
    "(data\n",
    " .pivot_table(index='dayofweek', values='num_orders', aggfunc='mean')\n",
    " .plot(kind='bar', title='Количество поездок по неделям')\n",
    ")"
   ]
  },
  {
   "cell_type": "code",
   "execution_count": 16,
   "metadata": {
    "execution": {
     "iopub.execute_input": "2023-05-17T09:32:04.922651Z",
     "iopub.status.busy": "2023-05-17T09:32:04.921330Z",
     "iopub.status.idle": "2023-05-17T09:32:05.334377Z",
     "shell.execute_reply": "2023-05-17T09:32:05.333277Z",
     "shell.execute_reply.started": "2023-05-17T09:32:04.922597Z"
    }
   },
   "outputs": [
    {
     "data": {
      "text/plain": [
       "<AxesSubplot:title={'center':'Количество поездок по часам'}, xlabel='hour'>"
      ]
     },
     "execution_count": 16,
     "metadata": {},
     "output_type": "execute_result"
    },
    {
     "data": {
      "image/png": "[encoded data removed]",
      "text/plain": [
       "<Figure size 432x288 with 1 Axes>"
      ]
     },
     "metadata": {
      "needs_background": "light"
     },
     "output_type": "display_data"
    }
   ],
   "source": [
    "(data\n",
    " .pivot_table(index='hour', values='num_orders', aggfunc='mean')\n",
    " .plot(kind='bar', title='Количество поездок по часам')\n",
    ")"
   ]
  },
  {
   "cell_type": "code",
   "execution_count": 17,
   "metadata": {
    "execution": {
     "iopub.execute_input": "2023-05-17T09:32:05.336319Z",
     "iopub.status.busy": "2023-05-17T09:32:05.335728Z",
     "iopub.status.idle": "2023-05-17T09:32:06.018614Z",
     "shell.execute_reply": "2023-05-17T09:32:06.017764Z",
     "shell.execute_reply.started": "2023-05-17T09:32:05.336288Z"
    }
   },
   "outputs": [
    {
     "data": {
      "image/png": "[encoded data removed]",
      "text/plain": [
       "<Figure size 1080x720 with 3 Axes>"
      ]
     },
     "metadata": {
      "needs_background": "light"
     },
     "output_type": "display_data"
    }
   ],
   "source": [
    "decomposed = seasonal_decompose(data['num_orders'].resample('1D').sum())\n",
    "\n",
    "plt.figure(figsize=(15, 10))\n",
    "\n",
    "plt.subplot(411)\n",
    "decomposed.trend.plot()\n",
    "plt.legend()\n",
    "\n",
    "plt.subplot(412)\n",
    "decomposed.seasonal.plot()\n",
    "plt.legend()\n",
    "\n",
    "plt.subplot(413)\n",
    "decomposed.resid.plot()\n",
    "plt.legend()\n",
    "\n",
    "plt.show()"
   ]
  },
  {
   "cell_type": "code",
   "execution_count": 18,
   "metadata": {
    "execution": {
     "iopub.execute_input": "2023-05-17T09:32:06.020740Z",
     "iopub.status.busy": "2023-05-17T09:32:06.019789Z",
     "iopub.status.idle": "2023-05-17T09:32:06.724068Z",
     "shell.execute_reply": "2023-05-17T09:32:06.722920Z",
     "shell.execute_reply.started": "2023-05-17T09:32:06.020706Z"
    },
    "scrolled": false
   },
   "outputs": [
    {
     "data": {
      "image/png": "[encoded data removed]",
      "text/plain": [
       "<Figure size 1080x720 with 3 Axes>"
      ]
     },
     "metadata": {
      "needs_background": "light"
     },
     "output_type": "display_data"
    }
   ],
   "source": [
    "decomposed_hour = seasonal_decompose(data['num_orders']['2018-04':'2018-04'])\n",
    "\n",
    "plt.figure(figsize=(15, 10))\n",
    "\n",
    "plt.subplot(411)\n",
    "decomposed_hour.trend.plot()\n",
    "plt.legend()\n",
    "\n",
    "plt.subplot(412)\n",
    "decomposed_hour.seasonal.plot()\n",
    "plt.legend()\n",
    "\n",
    "plt.subplot(413)\n",
    "decomposed_hour.resid.plot()\n",
    "plt.legend()\n",
    "\n",
    "plt.show()"
   ]
  },
  {
   "cell_type": "markdown",
   "metadata": {
    "lang": "en"
   },
   "source": [
    "**Description of research analysis:**\n",
    "\n",
    "On average, there are more trips on Mondays and Fridays, as well as at 24:00 - 03:00. The least - on Tuesdays and Sundays and in the morning from 5 o'clock until 7 o'clock.\n",
    "\n",
    "In general, in 2018 there was a strong trend towards an increase in the number of trips."
   ]
  },
  {
   "cell_type": "markdown",
   "metadata": {
    "lang": "en"
   },
   "source": [
    "## Training"
   ]
  },
  {
   "cell_type": "code",
   "execution_count": 19,
   "metadata": {
    "execution": {
     "iopub.execute_input": "2023-05-17T09:32:06.725709Z",
     "iopub.status.busy": "2023-05-17T09:32:06.725347Z",
     "iopub.status.idle": "2023-05-17T09:32:06.732060Z",
     "shell.execute_reply": "2023-05-17T09:32:06.730603Z",
     "shell.execute_reply.started": "2023-05-17T09:32:06.725653Z"
    }
   },
   "outputs": [],
   "source": [
    "data.drop(columns='month', inplace=True)"
   ]
  },
  {
   "cell_type": "code",
   "execution_count": 20,
   "metadata": {
    "execution": {
     "iopub.execute_input": "2023-05-17T09:32:06.734171Z",
     "iopub.status.busy": "2023-05-17T09:32:06.733520Z",
     "iopub.status.idle": "2023-05-17T09:32:06.752379Z",
     "shell.execute_reply": "2023-05-17T09:32:06.751081Z",
     "shell.execute_reply.started": "2023-05-17T09:32:06.734109Z"
    }
   },
   "outputs": [],
   "source": [
    "data['lag_1'] = data['num_orders'].shift(1)\n",
    "data['lag_2'] = data['num_orders'].shift(2)\n",
    "data['rolling_mean'] = data['num_orders'].shift().rolling(24).mean()\n",
    "data.dropna(inplace=True)"
   ]
  },
  {
   "cell_type": "code",
   "execution_count": 21,
   "metadata": {
    "execution": {
     "iopub.execute_input": "2023-05-17T09:32:06.754570Z",
     "iopub.status.busy": "2023-05-17T09:32:06.754071Z",
     "iopub.status.idle": "2023-05-17T09:32:06.763212Z",
     "shell.execute_reply": "2023-05-17T09:32:06.761921Z",
     "shell.execute_reply.started": "2023-05-17T09:32:06.754524Z"
    }
   },
   "outputs": [
    {
     "data": {
      "text/plain": [
       "Index(['num_orders', 'week', 'dayofweek', 'hour', 'lag_1', 'lag_2',\n",
       "       'rolling_mean'],\n",
       "      dtype='object')"
      ]
     },
     "execution_count": 21,
     "metadata": {},
     "output_type": "execute_result"
    }
   ],
   "source": [
    "data.columns"
   ]
  },
  {
   "cell_type": "code",
   "execution_count": 22,
   "metadata": {
    "execution": {
     "iopub.execute_input": "2023-05-17T09:32:06.765489Z",
     "iopub.status.busy": "2023-05-17T09:32:06.765109Z",
     "iopub.status.idle": "2023-05-17T09:32:06.785475Z",
     "shell.execute_reply": "2023-05-17T09:32:06.784568Z",
     "shell.execute_reply.started": "2023-05-17T09:32:06.765457Z"
    }
   },
   "outputs": [
    {
     "data": {
      "text/html": [
       "<div>\n",
       "<style scoped>\n",
       "    .dataframe tbody tr th:only-of-type {\n",
       "        vertical-align: middle;\n",
       "    }\n",
       "\n",
       "    .dataframe tbody tr th {\n",
       "        vertical-align: top;\n",
       "    }\n",
       "\n",
       "    .dataframe thead th {\n",
       "        text-align: right;\n",
       "    }\n",
       "</style>\n",
       "<table border=\"1\" class=\"dataframe\">\n",
       "  <thead>\n",
       "    <tr style=\"text-align: right;\">\n",
       "      <th></th>\n",
       "      <th>num_orders</th>\n",
       "      <th>week</th>\n",
       "      <th>dayofweek</th>\n",
       "      <th>hour</th>\n",
       "      <th>lag_1</th>\n",
       "      <th>lag_2</th>\n",
       "      <th>rolling_mean</th>\n",
       "    </tr>\n",
       "  </thead>\n",
       "  <tbody>\n",
       "    <tr>\n",
       "      <th>2018-03-02 00:00:00</th>\n",
       "      <td>90</td>\n",
       "      <td>9</td>\n",
       "      <td>4</td>\n",
       "      <td>0</td>\n",
       "      <td>58.0</td>\n",
       "      <td>113.0</td>\n",
       "      <td>56.833333</td>\n",
       "    </tr>\n",
       "    <tr>\n",
       "      <th>2018-03-02 01:00:00</th>\n",
       "      <td>120</td>\n",
       "      <td>9</td>\n",
       "      <td>4</td>\n",
       "      <td>1</td>\n",
       "      <td>90.0</td>\n",
       "      <td>58.0</td>\n",
       "      <td>55.416667</td>\n",
       "    </tr>\n",
       "    <tr>\n",
       "      <th>2018-03-02 02:00:00</th>\n",
       "      <td>75</td>\n",
       "      <td>9</td>\n",
       "      <td>4</td>\n",
       "      <td>2</td>\n",
       "      <td>120.0</td>\n",
       "      <td>90.0</td>\n",
       "      <td>56.875000</td>\n",
       "    </tr>\n",
       "    <tr>\n",
       "      <th>2018-03-02 03:00:00</th>\n",
       "      <td>64</td>\n",
       "      <td>9</td>\n",
       "      <td>4</td>\n",
       "      <td>3</td>\n",
       "      <td>75.0</td>\n",
       "      <td>120.0</td>\n",
       "      <td>57.041667</td>\n",
       "    </tr>\n",
       "    <tr>\n",
       "      <th>2018-03-02 04:00:00</th>\n",
       "      <td>20</td>\n",
       "      <td>9</td>\n",
       "      <td>4</td>\n",
       "      <td>4</td>\n",
       "      <td>64.0</td>\n",
       "      <td>75.0</td>\n",
       "      <td>56.958333</td>\n",
       "    </tr>\n",
       "  </tbody>\n",
       "</table>\n",
       "</div>"
      ],
      "text/plain": [
       "                     num_orders  week  dayofweek  hour  lag_1  lag_2  \\\n",
       "2018-03-02 00:00:00          90     9          4     0   58.0  113.0   \n",
       "2018-03-02 01:00:00         120     9          4     1   90.0   58.0   \n",
       "2018-03-02 02:00:00          75     9          4     2  120.0   90.0   \n",
       "2018-03-02 03:00:00          64     9          4     3   75.0  120.0   \n",
       "2018-03-02 04:00:00          20     9          4     4   64.0   75.0   \n",
       "\n",
       "                     rolling_mean  \n",
       "2018-03-02 00:00:00     56.833333  \n",
       "2018-03-02 01:00:00     55.416667  \n",
       "2018-03-02 02:00:00     56.875000  \n",
       "2018-03-02 03:00:00     57.041667  \n",
       "2018-03-02 04:00:00     56.958333  "
      ]
     },
     "execution_count": 22,
     "metadata": {},
     "output_type": "execute_result"
    }
   ],
   "source": [
    "data.head()"
   ]
  },
  {
   "cell_type": "code",
   "execution_count": 23,
   "metadata": {
    "execution": {
     "iopub.execute_input": "2023-05-17T09:32:06.786666Z",
     "iopub.status.busy": "2023-05-17T09:32:06.786370Z",
     "iopub.status.idle": "2023-05-17T09:32:06.796503Z",
     "shell.execute_reply": "2023-05-17T09:32:06.795692Z",
     "shell.execute_reply.started": "2023-05-17T09:32:06.786640Z"
    }
   },
   "outputs": [],
   "source": [
    "features = data.drop(columns='num_orders')\n",
    "target = data['num_orders']\n",
    "\n",
    "tscv = TimeSeriesSplit(n_splits=3, test_size=round(0.1*len(data))) # Test sample of 10% as required"
   ]
  },
  {
   "cell_type": "code",
   "execution_count": 24,
   "metadata": {
    "execution": {
     "iopub.execute_input": "2023-05-17T09:32:06.797748Z",
     "iopub.status.busy": "2023-05-17T09:32:06.797425Z",
     "iopub.status.idle": "2023-05-17T09:32:06.817570Z",
     "shell.execute_reply": "2023-05-17T09:32:06.816279Z",
     "shell.execute_reply.started": "2023-05-17T09:32:06.797720Z"
    }
   },
   "outputs": [
    {
     "data": {
      "text/html": [
       "<div>\n",
       "<style scoped>\n",
       "    .dataframe tbody tr th:only-of-type {\n",
       "        vertical-align: middle;\n",
       "    }\n",
       "\n",
       "    .dataframe tbody tr th {\n",
       "        vertical-align: top;\n",
       "    }\n",
       "\n",
       "    .dataframe thead th {\n",
       "        text-align: right;\n",
       "    }\n",
       "</style>\n",
       "<table border=\"1\" class=\"dataframe\">\n",
       "  <thead>\n",
       "    <tr style=\"text-align: right;\">\n",
       "      <th></th>\n",
       "      <th>num_orders</th>\n",
       "      <th>week</th>\n",
       "      <th>dayofweek</th>\n",
       "      <th>hour</th>\n",
       "      <th>lag_1</th>\n",
       "      <th>lag_2</th>\n",
       "      <th>rolling_mean</th>\n",
       "    </tr>\n",
       "  </thead>\n",
       "  <tbody>\n",
       "    <tr>\n",
       "      <th>2018-03-02 00:00:00</th>\n",
       "      <td>90</td>\n",
       "      <td>9</td>\n",
       "      <td>4</td>\n",
       "      <td>0</td>\n",
       "      <td>58.0</td>\n",
       "      <td>113.0</td>\n",
       "      <td>56.833333</td>\n",
       "    </tr>\n",
       "    <tr>\n",
       "      <th>2018-03-02 01:00:00</th>\n",
       "      <td>120</td>\n",
       "      <td>9</td>\n",
       "      <td>4</td>\n",
       "      <td>1</td>\n",
       "      <td>90.0</td>\n",
       "      <td>58.0</td>\n",
       "      <td>55.416667</td>\n",
       "    </tr>\n",
       "    <tr>\n",
       "      <th>2018-03-02 02:00:00</th>\n",
       "      <td>75</td>\n",
       "      <td>9</td>\n",
       "      <td>4</td>\n",
       "      <td>2</td>\n",
       "      <td>120.0</td>\n",
       "      <td>90.0</td>\n",
       "      <td>56.875000</td>\n",
       "    </tr>\n",
       "    <tr>\n",
       "      <th>2018-03-02 03:00:00</th>\n",
       "      <td>64</td>\n",
       "      <td>9</td>\n",
       "      <td>4</td>\n",
       "      <td>3</td>\n",
       "      <td>75.0</td>\n",
       "      <td>120.0</td>\n",
       "      <td>57.041667</td>\n",
       "    </tr>\n",
       "    <tr>\n",
       "      <th>2018-03-02 04:00:00</th>\n",
       "      <td>20</td>\n",
       "      <td>9</td>\n",
       "      <td>4</td>\n",
       "      <td>4</td>\n",
       "      <td>64.0</td>\n",
       "      <td>75.0</td>\n",
       "      <td>56.958333</td>\n",
       "    </tr>\n",
       "  </tbody>\n",
       "</table>\n",
       "</div>"
      ],
      "text/plain": [
       "                     num_orders  week  dayofweek  hour  lag_1  lag_2  \\\n",
       "2018-03-02 00:00:00          90     9          4     0   58.0  113.0   \n",
       "2018-03-02 01:00:00         120     9          4     1   90.0   58.0   \n",
       "2018-03-02 02:00:00          75     9          4     2  120.0   90.0   \n",
       "2018-03-02 03:00:00          64     9          4     3   75.0  120.0   \n",
       "2018-03-02 04:00:00          20     9          4     4   64.0   75.0   \n",
       "\n",
       "                     rolling_mean  \n",
       "2018-03-02 00:00:00     56.833333  \n",
       "2018-03-02 01:00:00     55.416667  \n",
       "2018-03-02 02:00:00     56.875000  \n",
       "2018-03-02 03:00:00     57.041667  \n",
       "2018-03-02 04:00:00     56.958333  "
      ]
     },
     "execution_count": 24,
     "metadata": {},
     "output_type": "execute_result"
    }
   ],
   "source": [
    "data.head()"
   ]
  },
  {
   "cell_type": "code",
   "execution_count": 25,
   "metadata": {
    "execution": {
     "iopub.execute_input": "2023-05-17T09:32:06.819905Z",
     "iopub.status.busy": "2023-05-17T09:32:06.819459Z",
     "iopub.status.idle": "2023-05-17T09:32:06.837559Z",
     "shell.execute_reply": "2023-05-17T09:32:06.836678Z",
     "shell.execute_reply.started": "2023-05-17T09:32:06.819864Z"
    }
   },
   "outputs": [
    {
     "data": {
      "text/html": [
       "<div>\n",
       "<style scoped>\n",
       "    .dataframe tbody tr th:only-of-type {\n",
       "        vertical-align: middle;\n",
       "    }\n",
       "\n",
       "    .dataframe tbody tr th {\n",
       "        vertical-align: top;\n",
       "    }\n",
       "\n",
       "    .dataframe thead th {\n",
       "        text-align: right;\n",
       "    }\n",
       "</style>\n",
       "<table border=\"1\" class=\"dataframe\">\n",
       "  <thead>\n",
       "    <tr style=\"text-align: right;\">\n",
       "      <th></th>\n",
       "      <th>num_orders</th>\n",
       "      <th>week</th>\n",
       "      <th>dayofweek</th>\n",
       "      <th>hour</th>\n",
       "      <th>lag_1</th>\n",
       "      <th>lag_2</th>\n",
       "      <th>rolling_mean</th>\n",
       "    </tr>\n",
       "  </thead>\n",
       "  <tbody>\n",
       "    <tr>\n",
       "      <th>2018-08-31 19:00:00</th>\n",
       "      <td>136</td>\n",
       "      <td>35</td>\n",
       "      <td>4</td>\n",
       "      <td>19</td>\n",
       "      <td>207.0</td>\n",
       "      <td>217.0</td>\n",
       "      <td>164.875000</td>\n",
       "    </tr>\n",
       "    <tr>\n",
       "      <th>2018-08-31 20:00:00</th>\n",
       "      <td>154</td>\n",
       "      <td>35</td>\n",
       "      <td>4</td>\n",
       "      <td>20</td>\n",
       "      <td>136.0</td>\n",
       "      <td>207.0</td>\n",
       "      <td>167.541667</td>\n",
       "    </tr>\n",
       "    <tr>\n",
       "      <th>2018-08-31 21:00:00</th>\n",
       "      <td>159</td>\n",
       "      <td>35</td>\n",
       "      <td>4</td>\n",
       "      <td>21</td>\n",
       "      <td>154.0</td>\n",
       "      <td>136.0</td>\n",
       "      <td>168.041667</td>\n",
       "    </tr>\n",
       "    <tr>\n",
       "      <th>2018-08-31 22:00:00</th>\n",
       "      <td>223</td>\n",
       "      <td>35</td>\n",
       "      <td>4</td>\n",
       "      <td>22</td>\n",
       "      <td>159.0</td>\n",
       "      <td>154.0</td>\n",
       "      <td>166.416667</td>\n",
       "    </tr>\n",
       "    <tr>\n",
       "      <th>2018-08-31 23:00:00</th>\n",
       "      <td>205</td>\n",
       "      <td>35</td>\n",
       "      <td>4</td>\n",
       "      <td>23</td>\n",
       "      <td>223.0</td>\n",
       "      <td>159.0</td>\n",
       "      <td>169.125000</td>\n",
       "    </tr>\n",
       "  </tbody>\n",
       "</table>\n",
       "</div>"
      ],
      "text/plain": [
       "                     num_orders  week  dayofweek  hour  lag_1  lag_2  \\\n",
       "2018-08-31 19:00:00         136    35          4    19  207.0  217.0   \n",
       "2018-08-31 20:00:00         154    35          4    20  136.0  207.0   \n",
       "2018-08-31 21:00:00         159    35          4    21  154.0  136.0   \n",
       "2018-08-31 22:00:00         223    35          4    22  159.0  154.0   \n",
       "2018-08-31 23:00:00         205    35          4    23  223.0  159.0   \n",
       "\n",
       "                     rolling_mean  \n",
       "2018-08-31 19:00:00    164.875000  \n",
       "2018-08-31 20:00:00    167.541667  \n",
       "2018-08-31 21:00:00    168.041667  \n",
       "2018-08-31 22:00:00    166.416667  \n",
       "2018-08-31 23:00:00    169.125000  "
      ]
     },
     "execution_count": 25,
     "metadata": {},
     "output_type": "execute_result"
    }
   ],
   "source": [
    "data.tail()"
   ]
  },
  {
   "cell_type": "code",
   "execution_count": 26,
   "metadata": {
    "execution": {
     "iopub.execute_input": "2023-05-17T09:32:06.839132Z",
     "iopub.status.busy": "2023-05-17T09:32:06.838802Z",
     "iopub.status.idle": "2023-05-17T09:32:06.918497Z",
     "shell.execute_reply": "2023-05-17T09:32:06.917346Z",
     "shell.execute_reply.started": "2023-05-17T09:32:06.839089Z"
    },
    "scrolled": false
   },
   "outputs": [
    {
     "data": {
      "text/html": [
       "<div>\n",
       "<style scoped>\n",
       "    .dataframe tbody tr th:only-of-type {\n",
       "        vertical-align: middle;\n",
       "    }\n",
       "\n",
       "    .dataframe tbody tr th {\n",
       "        vertical-align: top;\n",
       "    }\n",
       "\n",
       "    .dataframe thead th {\n",
       "        text-align: right;\n",
       "    }\n",
       "</style>\n",
       "<table border=\"1\" class=\"dataframe\">\n",
       "  <thead>\n",
       "    <tr style=\"text-align: right;\">\n",
       "      <th></th>\n",
       "      <th>week</th>\n",
       "      <th>dayofweek</th>\n",
       "      <th>hour</th>\n",
       "      <th>lag_1</th>\n",
       "      <th>lag_2</th>\n",
       "      <th>rolling_mean</th>\n",
       "    </tr>\n",
       "  </thead>\n",
       "  <tbody>\n",
       "    <tr>\n",
       "      <th>2018-03-02 00:00:00</th>\n",
       "      <td>9</td>\n",
       "      <td>4</td>\n",
       "      <td>0</td>\n",
       "      <td>58.0</td>\n",
       "      <td>113.0</td>\n",
       "      <td>56.833333</td>\n",
       "    </tr>\n",
       "    <tr>\n",
       "      <th>2018-03-02 01:00:00</th>\n",
       "      <td>9</td>\n",
       "      <td>4</td>\n",
       "      <td>1</td>\n",
       "      <td>90.0</td>\n",
       "      <td>58.0</td>\n",
       "      <td>55.416667</td>\n",
       "    </tr>\n",
       "    <tr>\n",
       "      <th>2018-03-02 02:00:00</th>\n",
       "      <td>9</td>\n",
       "      <td>4</td>\n",
       "      <td>2</td>\n",
       "      <td>120.0</td>\n",
       "      <td>90.0</td>\n",
       "      <td>56.875000</td>\n",
       "    </tr>\n",
       "    <tr>\n",
       "      <th>2018-03-02 03:00:00</th>\n",
       "      <td>9</td>\n",
       "      <td>4</td>\n",
       "      <td>3</td>\n",
       "      <td>75.0</td>\n",
       "      <td>120.0</td>\n",
       "      <td>57.041667</td>\n",
       "    </tr>\n",
       "    <tr>\n",
       "      <th>2018-03-02 04:00:00</th>\n",
       "      <td>9</td>\n",
       "      <td>4</td>\n",
       "      <td>4</td>\n",
       "      <td>64.0</td>\n",
       "      <td>75.0</td>\n",
       "      <td>56.958333</td>\n",
       "    </tr>\n",
       "    <tr>\n",
       "      <th>...</th>\n",
       "      <td>...</td>\n",
       "      <td>...</td>\n",
       "      <td>...</td>\n",
       "      <td>...</td>\n",
       "      <td>...</td>\n",
       "      <td>...</td>\n",
       "    </tr>\n",
       "    <tr>\n",
       "      <th>2018-07-07 22:00:00</th>\n",
       "      <td>27</td>\n",
       "      <td>5</td>\n",
       "      <td>22</td>\n",
       "      <td>72.0</td>\n",
       "      <td>76.0</td>\n",
       "      <td>93.541667</td>\n",
       "    </tr>\n",
       "    <tr>\n",
       "      <th>2018-07-07 23:00:00</th>\n",
       "      <td>27</td>\n",
       "      <td>5</td>\n",
       "      <td>23</td>\n",
       "      <td>91.0</td>\n",
       "      <td>72.0</td>\n",
       "      <td>92.041667</td>\n",
       "    </tr>\n",
       "    <tr>\n",
       "      <th>2018-07-08 00:00:00</th>\n",
       "      <td>27</td>\n",
       "      <td>6</td>\n",
       "      <td>0</td>\n",
       "      <td>119.0</td>\n",
       "      <td>91.0</td>\n",
       "      <td>92.541667</td>\n",
       "    </tr>\n",
       "    <tr>\n",
       "      <th>2018-07-08 01:00:00</th>\n",
       "      <td>27</td>\n",
       "      <td>6</td>\n",
       "      <td>1</td>\n",
       "      <td>99.0</td>\n",
       "      <td>119.0</td>\n",
       "      <td>88.750000</td>\n",
       "    </tr>\n",
       "    <tr>\n",
       "      <th>2018-07-08 02:00:00</th>\n",
       "      <td>27</td>\n",
       "      <td>6</td>\n",
       "      <td>2</td>\n",
       "      <td>94.0</td>\n",
       "      <td>99.0</td>\n",
       "      <td>87.375000</td>\n",
       "    </tr>\n",
       "  </tbody>\n",
       "</table>\n",
       "<p>3075 rows × 6 columns</p>\n",
       "</div>"
      ],
      "text/plain": [
       "                     week  dayofweek  hour  lag_1  lag_2  rolling_mean\n",
       "2018-03-02 00:00:00     9          4     0   58.0  113.0     56.833333\n",
       "2018-03-02 01:00:00     9          4     1   90.0   58.0     55.416667\n",
       "2018-03-02 02:00:00     9          4     2  120.0   90.0     56.875000\n",
       "2018-03-02 03:00:00     9          4     3   75.0  120.0     57.041667\n",
       "2018-03-02 04:00:00     9          4     4   64.0   75.0     56.958333\n",
       "...                   ...        ...   ...    ...    ...           ...\n",
       "2018-07-07 22:00:00    27          5    22   72.0   76.0     93.541667\n",
       "2018-07-07 23:00:00    27          5    23   91.0   72.0     92.041667\n",
       "2018-07-08 00:00:00    27          6     0  119.0   91.0     92.541667\n",
       "2018-07-08 01:00:00    27          6     1   99.0  119.0     88.750000\n",
       "2018-07-08 02:00:00    27          6     2   94.0   99.0     87.375000\n",
       "\n",
       "[3075 rows x 6 columns]"
      ]
     },
     "metadata": {},
     "output_type": "display_data"
    },
    {
     "data": {
      "text/html": [
       "<div>\n",
       "<style scoped>\n",
       "    .dataframe tbody tr th:only-of-type {\n",
       "        vertical-align: middle;\n",
       "    }\n",
       "\n",
       "    .dataframe tbody tr th {\n",
       "        vertical-align: top;\n",
       "    }\n",
       "\n",
       "    .dataframe thead th {\n",
       "        text-align: right;\n",
       "    }\n",
       "</style>\n",
       "<table border=\"1\" class=\"dataframe\">\n",
       "  <thead>\n",
       "    <tr style=\"text-align: right;\">\n",
       "      <th></th>\n",
       "      <th>week</th>\n",
       "      <th>dayofweek</th>\n",
       "      <th>hour</th>\n",
       "      <th>lag_1</th>\n",
       "      <th>lag_2</th>\n",
       "      <th>rolling_mean</th>\n",
       "    </tr>\n",
       "  </thead>\n",
       "  <tbody>\n",
       "    <tr>\n",
       "      <th>2018-07-08 03:00:00</th>\n",
       "      <td>27</td>\n",
       "      <td>6</td>\n",
       "      <td>3</td>\n",
       "      <td>109.0</td>\n",
       "      <td>94.0</td>\n",
       "      <td>85.500000</td>\n",
       "    </tr>\n",
       "    <tr>\n",
       "      <th>2018-07-08 04:00:00</th>\n",
       "      <td>27</td>\n",
       "      <td>6</td>\n",
       "      <td>4</td>\n",
       "      <td>192.0</td>\n",
       "      <td>109.0</td>\n",
       "      <td>88.750000</td>\n",
       "    </tr>\n",
       "    <tr>\n",
       "      <th>2018-07-08 05:00:00</th>\n",
       "      <td>27</td>\n",
       "      <td>6</td>\n",
       "      <td>5</td>\n",
       "      <td>82.0</td>\n",
       "      <td>192.0</td>\n",
       "      <td>86.041667</td>\n",
       "    </tr>\n",
       "    <tr>\n",
       "      <th>2018-07-08 06:00:00</th>\n",
       "      <td>27</td>\n",
       "      <td>6</td>\n",
       "      <td>6</td>\n",
       "      <td>73.0</td>\n",
       "      <td>82.0</td>\n",
       "      <td>87.083333</td>\n",
       "    </tr>\n",
       "    <tr>\n",
       "      <th>2018-07-08 07:00:00</th>\n",
       "      <td>27</td>\n",
       "      <td>6</td>\n",
       "      <td>7</td>\n",
       "      <td>44.0</td>\n",
       "      <td>73.0</td>\n",
       "      <td>87.916667</td>\n",
       "    </tr>\n",
       "    <tr>\n",
       "      <th>...</th>\n",
       "      <td>...</td>\n",
       "      <td>...</td>\n",
       "      <td>...</td>\n",
       "      <td>...</td>\n",
       "      <td>...</td>\n",
       "      <td>...</td>\n",
       "    </tr>\n",
       "    <tr>\n",
       "      <th>2018-07-26 05:00:00</th>\n",
       "      <td>30</td>\n",
       "      <td>3</td>\n",
       "      <td>5</td>\n",
       "      <td>131.0</td>\n",
       "      <td>141.0</td>\n",
       "      <td>106.666667</td>\n",
       "    </tr>\n",
       "    <tr>\n",
       "      <th>2018-07-26 06:00:00</th>\n",
       "      <td>30</td>\n",
       "      <td>3</td>\n",
       "      <td>6</td>\n",
       "      <td>83.0</td>\n",
       "      <td>131.0</td>\n",
       "      <td>107.250000</td>\n",
       "    </tr>\n",
       "    <tr>\n",
       "      <th>2018-07-26 07:00:00</th>\n",
       "      <td>30</td>\n",
       "      <td>3</td>\n",
       "      <td>7</td>\n",
       "      <td>21.0</td>\n",
       "      <td>83.0</td>\n",
       "      <td>105.416667</td>\n",
       "    </tr>\n",
       "    <tr>\n",
       "      <th>2018-07-26 08:00:00</th>\n",
       "      <td>30</td>\n",
       "      <td>3</td>\n",
       "      <td>8</td>\n",
       "      <td>39.0</td>\n",
       "      <td>21.0</td>\n",
       "      <td>104.541667</td>\n",
       "    </tr>\n",
       "    <tr>\n",
       "      <th>2018-07-26 09:00:00</th>\n",
       "      <td>30</td>\n",
       "      <td>3</td>\n",
       "      <td>9</td>\n",
       "      <td>80.0</td>\n",
       "      <td>39.0</td>\n",
       "      <td>105.125000</td>\n",
       "    </tr>\n",
       "  </tbody>\n",
       "</table>\n",
       "<p>439 rows × 6 columns</p>\n",
       "</div>"
      ],
      "text/plain": [
       "                     week  dayofweek  hour  lag_1  lag_2  rolling_mean\n",
       "2018-07-08 03:00:00    27          6     3  109.0   94.0     85.500000\n",
       "2018-07-08 04:00:00    27          6     4  192.0  109.0     88.750000\n",
       "2018-07-08 05:00:00    27          6     5   82.0  192.0     86.041667\n",
       "2018-07-08 06:00:00    27          6     6   73.0   82.0     87.083333\n",
       "2018-07-08 07:00:00    27          6     7   44.0   73.0     87.916667\n",
       "...                   ...        ...   ...    ...    ...           ...\n",
       "2018-07-26 05:00:00    30          3     5  131.0  141.0    106.666667\n",
       "2018-07-26 06:00:00    30          3     6   83.0  131.0    107.250000\n",
       "2018-07-26 07:00:00    30          3     7   21.0   83.0    105.416667\n",
       "2018-07-26 08:00:00    30          3     8   39.0   21.0    104.541667\n",
       "2018-07-26 09:00:00    30          3     9   80.0   39.0    105.125000\n",
       "\n",
       "[439 rows x 6 columns]"
      ]
     },
     "metadata": {},
     "output_type": "display_data"
    },
    {
     "data": {
      "text/html": [
       "<div>\n",
       "<style scoped>\n",
       "    .dataframe tbody tr th:only-of-type {\n",
       "        vertical-align: middle;\n",
       "    }\n",
       "\n",
       "    .dataframe tbody tr th {\n",
       "        vertical-align: top;\n",
       "    }\n",
       "\n",
       "    .dataframe thead th {\n",
       "        text-align: right;\n",
       "    }\n",
       "</style>\n",
       "<table border=\"1\" class=\"dataframe\">\n",
       "  <thead>\n",
       "    <tr style=\"text-align: right;\">\n",
       "      <th></th>\n",
       "      <th>week</th>\n",
       "      <th>dayofweek</th>\n",
       "      <th>hour</th>\n",
       "      <th>lag_1</th>\n",
       "      <th>lag_2</th>\n",
       "      <th>rolling_mean</th>\n",
       "    </tr>\n",
       "  </thead>\n",
       "  <tbody>\n",
       "    <tr>\n",
       "      <th>2018-03-02 00:00:00</th>\n",
       "      <td>9</td>\n",
       "      <td>4</td>\n",
       "      <td>0</td>\n",
       "      <td>58.0</td>\n",
       "      <td>113.0</td>\n",
       "      <td>56.833333</td>\n",
       "    </tr>\n",
       "    <tr>\n",
       "      <th>2018-03-02 01:00:00</th>\n",
       "      <td>9</td>\n",
       "      <td>4</td>\n",
       "      <td>1</td>\n",
       "      <td>90.0</td>\n",
       "      <td>58.0</td>\n",
       "      <td>55.416667</td>\n",
       "    </tr>\n",
       "    <tr>\n",
       "      <th>2018-03-02 02:00:00</th>\n",
       "      <td>9</td>\n",
       "      <td>4</td>\n",
       "      <td>2</td>\n",
       "      <td>120.0</td>\n",
       "      <td>90.0</td>\n",
       "      <td>56.875000</td>\n",
       "    </tr>\n",
       "    <tr>\n",
       "      <th>2018-03-02 03:00:00</th>\n",
       "      <td>9</td>\n",
       "      <td>4</td>\n",
       "      <td>3</td>\n",
       "      <td>75.0</td>\n",
       "      <td>120.0</td>\n",
       "      <td>57.041667</td>\n",
       "    </tr>\n",
       "    <tr>\n",
       "      <th>2018-03-02 04:00:00</th>\n",
       "      <td>9</td>\n",
       "      <td>4</td>\n",
       "      <td>4</td>\n",
       "      <td>64.0</td>\n",
       "      <td>75.0</td>\n",
       "      <td>56.958333</td>\n",
       "    </tr>\n",
       "    <tr>\n",
       "      <th>...</th>\n",
       "      <td>...</td>\n",
       "      <td>...</td>\n",
       "      <td>...</td>\n",
       "      <td>...</td>\n",
       "      <td>...</td>\n",
       "      <td>...</td>\n",
       "    </tr>\n",
       "    <tr>\n",
       "      <th>2018-07-26 05:00:00</th>\n",
       "      <td>30</td>\n",
       "      <td>3</td>\n",
       "      <td>5</td>\n",
       "      <td>131.0</td>\n",
       "      <td>141.0</td>\n",
       "      <td>106.666667</td>\n",
       "    </tr>\n",
       "    <tr>\n",
       "      <th>2018-07-26 06:00:00</th>\n",
       "      <td>30</td>\n",
       "      <td>3</td>\n",
       "      <td>6</td>\n",
       "      <td>83.0</td>\n",
       "      <td>131.0</td>\n",
       "      <td>107.250000</td>\n",
       "    </tr>\n",
       "    <tr>\n",
       "      <th>2018-07-26 07:00:00</th>\n",
       "      <td>30</td>\n",
       "      <td>3</td>\n",
       "      <td>7</td>\n",
       "      <td>21.0</td>\n",
       "      <td>83.0</td>\n",
       "      <td>105.416667</td>\n",
       "    </tr>\n",
       "    <tr>\n",
       "      <th>2018-07-26 08:00:00</th>\n",
       "      <td>30</td>\n",
       "      <td>3</td>\n",
       "      <td>8</td>\n",
       "      <td>39.0</td>\n",
       "      <td>21.0</td>\n",
       "      <td>104.541667</td>\n",
       "    </tr>\n",
       "    <tr>\n",
       "      <th>2018-07-26 09:00:00</th>\n",
       "      <td>30</td>\n",
       "      <td>3</td>\n",
       "      <td>9</td>\n",
       "      <td>80.0</td>\n",
       "      <td>39.0</td>\n",
       "      <td>105.125000</td>\n",
       "    </tr>\n",
       "  </tbody>\n",
       "</table>\n",
       "<p>3514 rows × 6 columns</p>\n",
       "</div>"
      ],
      "text/plain": [
       "                     week  dayofweek  hour  lag_1  lag_2  rolling_mean\n",
       "2018-03-02 00:00:00     9          4     0   58.0  113.0     56.833333\n",
       "2018-03-02 01:00:00     9          4     1   90.0   58.0     55.416667\n",
       "2018-03-02 02:00:00     9          4     2  120.0   90.0     56.875000\n",
       "2018-03-02 03:00:00     9          4     3   75.0  120.0     57.041667\n",
       "2018-03-02 04:00:00     9          4     4   64.0   75.0     56.958333\n",
       "...                   ...        ...   ...    ...    ...           ...\n",
       "2018-07-26 05:00:00    30          3     5  131.0  141.0    106.666667\n",
       "2018-07-26 06:00:00    30          3     6   83.0  131.0    107.250000\n",
       "2018-07-26 07:00:00    30          3     7   21.0   83.0    105.416667\n",
       "2018-07-26 08:00:00    30          3     8   39.0   21.0    104.541667\n",
       "2018-07-26 09:00:00    30          3     9   80.0   39.0    105.125000\n",
       "\n",
       "[3514 rows x 6 columns]"
      ]
     },
     "metadata": {},
     "output_type": "display_data"
    },
    {
     "data": {
      "text/html": [
       "<div>\n",
       "<style scoped>\n",
       "    .dataframe tbody tr th:only-of-type {\n",
       "        vertical-align: middle;\n",
       "    }\n",
       "\n",
       "    .dataframe tbody tr th {\n",
       "        vertical-align: top;\n",
       "    }\n",
       "\n",
       "    .dataframe thead th {\n",
       "        text-align: right;\n",
       "    }\n",
       "</style>\n",
       "<table border=\"1\" class=\"dataframe\">\n",
       "  <thead>\n",
       "    <tr style=\"text-align: right;\">\n",
       "      <th></th>\n",
       "      <th>week</th>\n",
       "      <th>dayofweek</th>\n",
       "      <th>hour</th>\n",
       "      <th>lag_1</th>\n",
       "      <th>lag_2</th>\n",
       "      <th>rolling_mean</th>\n",
       "    </tr>\n",
       "  </thead>\n",
       "  <tbody>\n",
       "    <tr>\n",
       "      <th>2018-07-26 10:00:00</th>\n",
       "      <td>30</td>\n",
       "      <td>3</td>\n",
       "      <td>10</td>\n",
       "      <td>138.0</td>\n",
       "      <td>80.0</td>\n",
       "      <td>105.791667</td>\n",
       "    </tr>\n",
       "    <tr>\n",
       "      <th>2018-07-26 11:00:00</th>\n",
       "      <td>30</td>\n",
       "      <td>3</td>\n",
       "      <td>11</td>\n",
       "      <td>142.0</td>\n",
       "      <td>138.0</td>\n",
       "      <td>107.750000</td>\n",
       "    </tr>\n",
       "    <tr>\n",
       "      <th>2018-07-26 12:00:00</th>\n",
       "      <td>30</td>\n",
       "      <td>3</td>\n",
       "      <td>12</td>\n",
       "      <td>86.0</td>\n",
       "      <td>142.0</td>\n",
       "      <td>107.458333</td>\n",
       "    </tr>\n",
       "    <tr>\n",
       "      <th>2018-07-26 13:00:00</th>\n",
       "      <td>30</td>\n",
       "      <td>3</td>\n",
       "      <td>13</td>\n",
       "      <td>102.0</td>\n",
       "      <td>86.0</td>\n",
       "      <td>108.250000</td>\n",
       "    </tr>\n",
       "    <tr>\n",
       "      <th>2018-07-26 14:00:00</th>\n",
       "      <td>30</td>\n",
       "      <td>3</td>\n",
       "      <td>14</td>\n",
       "      <td>70.0</td>\n",
       "      <td>102.0</td>\n",
       "      <td>107.041667</td>\n",
       "    </tr>\n",
       "    <tr>\n",
       "      <th>...</th>\n",
       "      <td>...</td>\n",
       "      <td>...</td>\n",
       "      <td>...</td>\n",
       "      <td>...</td>\n",
       "      <td>...</td>\n",
       "      <td>...</td>\n",
       "    </tr>\n",
       "    <tr>\n",
       "      <th>2018-08-13 12:00:00</th>\n",
       "      <td>33</td>\n",
       "      <td>0</td>\n",
       "      <td>12</td>\n",
       "      <td>144.0</td>\n",
       "      <td>156.0</td>\n",
       "      <td>139.875000</td>\n",
       "    </tr>\n",
       "    <tr>\n",
       "      <th>2018-08-13 13:00:00</th>\n",
       "      <td>33</td>\n",
       "      <td>0</td>\n",
       "      <td>13</td>\n",
       "      <td>92.0</td>\n",
       "      <td>144.0</td>\n",
       "      <td>138.583333</td>\n",
       "    </tr>\n",
       "    <tr>\n",
       "      <th>2018-08-13 14:00:00</th>\n",
       "      <td>33</td>\n",
       "      <td>0</td>\n",
       "      <td>14</td>\n",
       "      <td>119.0</td>\n",
       "      <td>92.0</td>\n",
       "      <td>138.541667</td>\n",
       "    </tr>\n",
       "    <tr>\n",
       "      <th>2018-08-13 15:00:00</th>\n",
       "      <td>33</td>\n",
       "      <td>0</td>\n",
       "      <td>15</td>\n",
       "      <td>102.0</td>\n",
       "      <td>119.0</td>\n",
       "      <td>138.458333</td>\n",
       "    </tr>\n",
       "    <tr>\n",
       "      <th>2018-08-13 16:00:00</th>\n",
       "      <td>33</td>\n",
       "      <td>0</td>\n",
       "      <td>16</td>\n",
       "      <td>175.0</td>\n",
       "      <td>102.0</td>\n",
       "      <td>139.541667</td>\n",
       "    </tr>\n",
       "  </tbody>\n",
       "</table>\n",
       "<p>439 rows × 6 columns</p>\n",
       "</div>"
      ],
      "text/plain": [
       "                     week  dayofweek  hour  lag_1  lag_2  rolling_mean\n",
       "2018-07-26 10:00:00    30          3    10  138.0   80.0    105.791667\n",
       "2018-07-26 11:00:00    30          3    11  142.0  138.0    107.750000\n",
       "2018-07-26 12:00:00    30          3    12   86.0  142.0    107.458333\n",
       "2018-07-26 13:00:00    30          3    13  102.0   86.0    108.250000\n",
       "2018-07-26 14:00:00    30          3    14   70.0  102.0    107.041667\n",
       "...                   ...        ...   ...    ...    ...           ...\n",
       "2018-08-13 12:00:00    33          0    12  144.0  156.0    139.875000\n",
       "2018-08-13 13:00:00    33          0    13   92.0  144.0    138.583333\n",
       "2018-08-13 14:00:00    33          0    14  119.0   92.0    138.541667\n",
       "2018-08-13 15:00:00    33          0    15  102.0  119.0    138.458333\n",
       "2018-08-13 16:00:00    33          0    16  175.0  102.0    139.541667\n",
       "\n",
       "[439 rows x 6 columns]"
      ]
     },
     "metadata": {},
     "output_type": "display_data"
    },
    {
     "data": {
      "text/html": [
       "<div>\n",
       "<style scoped>\n",
       "    .dataframe tbody tr th:only-of-type {\n",
       "        vertical-align: middle;\n",
       "    }\n",
       "\n",
       "    .dataframe tbody tr th {\n",
       "        vertical-align: top;\n",
       "    }\n",
       "\n",
       "    .dataframe thead th {\n",
       "        text-align: right;\n",
       "    }\n",
       "</style>\n",
       "<table border=\"1\" class=\"dataframe\">\n",
       "  <thead>\n",
       "    <tr style=\"text-align: right;\">\n",
       "      <th></th>\n",
       "      <th>week</th>\n",
       "      <th>dayofweek</th>\n",
       "      <th>hour</th>\n",
       "      <th>lag_1</th>\n",
       "      <th>lag_2</th>\n",
       "      <th>rolling_mean</th>\n",
       "    </tr>\n",
       "  </thead>\n",
       "  <tbody>\n",
       "    <tr>\n",
       "      <th>2018-03-02 00:00:00</th>\n",
       "      <td>9</td>\n",
       "      <td>4</td>\n",
       "      <td>0</td>\n",
       "      <td>58.0</td>\n",
       "      <td>113.0</td>\n",
       "      <td>56.833333</td>\n",
       "    </tr>\n",
       "    <tr>\n",
       "      <th>2018-03-02 01:00:00</th>\n",
       "      <td>9</td>\n",
       "      <td>4</td>\n",
       "      <td>1</td>\n",
       "      <td>90.0</td>\n",
       "      <td>58.0</td>\n",
       "      <td>55.416667</td>\n",
       "    </tr>\n",
       "    <tr>\n",
       "      <th>2018-03-02 02:00:00</th>\n",
       "      <td>9</td>\n",
       "      <td>4</td>\n",
       "      <td>2</td>\n",
       "      <td>120.0</td>\n",
       "      <td>90.0</td>\n",
       "      <td>56.875000</td>\n",
       "    </tr>\n",
       "    <tr>\n",
       "      <th>2018-03-02 03:00:00</th>\n",
       "      <td>9</td>\n",
       "      <td>4</td>\n",
       "      <td>3</td>\n",
       "      <td>75.0</td>\n",
       "      <td>120.0</td>\n",
       "      <td>57.041667</td>\n",
       "    </tr>\n",
       "    <tr>\n",
       "      <th>2018-03-02 04:00:00</th>\n",
       "      <td>9</td>\n",
       "      <td>4</td>\n",
       "      <td>4</td>\n",
       "      <td>64.0</td>\n",
       "      <td>75.0</td>\n",
       "      <td>56.958333</td>\n",
       "    </tr>\n",
       "    <tr>\n",
       "      <th>...</th>\n",
       "      <td>...</td>\n",
       "      <td>...</td>\n",
       "      <td>...</td>\n",
       "      <td>...</td>\n",
       "      <td>...</td>\n",
       "      <td>...</td>\n",
       "    </tr>\n",
       "    <tr>\n",
       "      <th>2018-08-13 12:00:00</th>\n",
       "      <td>33</td>\n",
       "      <td>0</td>\n",
       "      <td>12</td>\n",
       "      <td>144.0</td>\n",
       "      <td>156.0</td>\n",
       "      <td>139.875000</td>\n",
       "    </tr>\n",
       "    <tr>\n",
       "      <th>2018-08-13 13:00:00</th>\n",
       "      <td>33</td>\n",
       "      <td>0</td>\n",
       "      <td>13</td>\n",
       "      <td>92.0</td>\n",
       "      <td>144.0</td>\n",
       "      <td>138.583333</td>\n",
       "    </tr>\n",
       "    <tr>\n",
       "      <th>2018-08-13 14:00:00</th>\n",
       "      <td>33</td>\n",
       "      <td>0</td>\n",
       "      <td>14</td>\n",
       "      <td>119.0</td>\n",
       "      <td>92.0</td>\n",
       "      <td>138.541667</td>\n",
       "    </tr>\n",
       "    <tr>\n",
       "      <th>2018-08-13 15:00:00</th>\n",
       "      <td>33</td>\n",
       "      <td>0</td>\n",
       "      <td>15</td>\n",
       "      <td>102.0</td>\n",
       "      <td>119.0</td>\n",
       "      <td>138.458333</td>\n",
       "    </tr>\n",
       "    <tr>\n",
       "      <th>2018-08-13 16:00:00</th>\n",
       "      <td>33</td>\n",
       "      <td>0</td>\n",
       "      <td>16</td>\n",
       "      <td>175.0</td>\n",
       "      <td>102.0</td>\n",
       "      <td>139.541667</td>\n",
       "    </tr>\n",
       "  </tbody>\n",
       "</table>\n",
       "<p>3953 rows × 6 columns</p>\n",
       "</div>"
      ],
      "text/plain": [
       "                     week  dayofweek  hour  lag_1  lag_2  rolling_mean\n",
       "2018-03-02 00:00:00     9          4     0   58.0  113.0     56.833333\n",
       "2018-03-02 01:00:00     9          4     1   90.0   58.0     55.416667\n",
       "2018-03-02 02:00:00     9          4     2  120.0   90.0     56.875000\n",
       "2018-03-02 03:00:00     9          4     3   75.0  120.0     57.041667\n",
       "2018-03-02 04:00:00     9          4     4   64.0   75.0     56.958333\n",
       "...                   ...        ...   ...    ...    ...           ...\n",
       "2018-08-13 12:00:00    33          0    12  144.0  156.0    139.875000\n",
       "2018-08-13 13:00:00    33          0    13   92.0  144.0    138.583333\n",
       "2018-08-13 14:00:00    33          0    14  119.0   92.0    138.541667\n",
       "2018-08-13 15:00:00    33          0    15  102.0  119.0    138.458333\n",
       "2018-08-13 16:00:00    33          0    16  175.0  102.0    139.541667\n",
       "\n",
       "[3953 rows x 6 columns]"
      ]
     },
     "metadata": {},
     "output_type": "display_data"
    },
    {
     "data": {
      "text/html": [
       "<div>\n",
       "<style scoped>\n",
       "    .dataframe tbody tr th:only-of-type {\n",
       "        vertical-align: middle;\n",
       "    }\n",
       "\n",
       "    .dataframe tbody tr th {\n",
       "        vertical-align: top;\n",
       "    }\n",
       "\n",
       "    .dataframe thead th {\n",
       "        text-align: right;\n",
       "    }\n",
       "</style>\n",
       "<table border=\"1\" class=\"dataframe\">\n",
       "  <thead>\n",
       "    <tr style=\"text-align: right;\">\n",
       "      <th></th>\n",
       "      <th>week</th>\n",
       "      <th>dayofweek</th>\n",
       "      <th>hour</th>\n",
       "      <th>lag_1</th>\n",
       "      <th>lag_2</th>\n",
       "      <th>rolling_mean</th>\n",
       "    </tr>\n",
       "  </thead>\n",
       "  <tbody>\n",
       "    <tr>\n",
       "      <th>2018-08-13 17:00:00</th>\n",
       "      <td>33</td>\n",
       "      <td>0</td>\n",
       "      <td>17</td>\n",
       "      <td>144.0</td>\n",
       "      <td>175.0</td>\n",
       "      <td>139.166667</td>\n",
       "    </tr>\n",
       "    <tr>\n",
       "      <th>2018-08-13 18:00:00</th>\n",
       "      <td>33</td>\n",
       "      <td>0</td>\n",
       "      <td>18</td>\n",
       "      <td>152.0</td>\n",
       "      <td>144.0</td>\n",
       "      <td>140.708333</td>\n",
       "    </tr>\n",
       "    <tr>\n",
       "      <th>2018-08-13 19:00:00</th>\n",
       "      <td>33</td>\n",
       "      <td>0</td>\n",
       "      <td>19</td>\n",
       "      <td>104.0</td>\n",
       "      <td>152.0</td>\n",
       "      <td>141.791667</td>\n",
       "    </tr>\n",
       "    <tr>\n",
       "      <th>2018-08-13 20:00:00</th>\n",
       "      <td>33</td>\n",
       "      <td>0</td>\n",
       "      <td>20</td>\n",
       "      <td>91.0</td>\n",
       "      <td>104.0</td>\n",
       "      <td>142.166667</td>\n",
       "    </tr>\n",
       "    <tr>\n",
       "      <th>2018-08-13 21:00:00</th>\n",
       "      <td>33</td>\n",
       "      <td>0</td>\n",
       "      <td>21</td>\n",
       "      <td>82.0</td>\n",
       "      <td>91.0</td>\n",
       "      <td>141.500000</td>\n",
       "    </tr>\n",
       "    <tr>\n",
       "      <th>...</th>\n",
       "      <td>...</td>\n",
       "      <td>...</td>\n",
       "      <td>...</td>\n",
       "      <td>...</td>\n",
       "      <td>...</td>\n",
       "      <td>...</td>\n",
       "    </tr>\n",
       "    <tr>\n",
       "      <th>2018-08-31 19:00:00</th>\n",
       "      <td>35</td>\n",
       "      <td>4</td>\n",
       "      <td>19</td>\n",
       "      <td>207.0</td>\n",
       "      <td>217.0</td>\n",
       "      <td>164.875000</td>\n",
       "    </tr>\n",
       "    <tr>\n",
       "      <th>2018-08-31 20:00:00</th>\n",
       "      <td>35</td>\n",
       "      <td>4</td>\n",
       "      <td>20</td>\n",
       "      <td>136.0</td>\n",
       "      <td>207.0</td>\n",
       "      <td>167.541667</td>\n",
       "    </tr>\n",
       "    <tr>\n",
       "      <th>2018-08-31 21:00:00</th>\n",
       "      <td>35</td>\n",
       "      <td>4</td>\n",
       "      <td>21</td>\n",
       "      <td>154.0</td>\n",
       "      <td>136.0</td>\n",
       "      <td>168.041667</td>\n",
       "    </tr>\n",
       "    <tr>\n",
       "      <th>2018-08-31 22:00:00</th>\n",
       "      <td>35</td>\n",
       "      <td>4</td>\n",
       "      <td>22</td>\n",
       "      <td>159.0</td>\n",
       "      <td>154.0</td>\n",
       "      <td>166.416667</td>\n",
       "    </tr>\n",
       "    <tr>\n",
       "      <th>2018-08-31 23:00:00</th>\n",
       "      <td>35</td>\n",
       "      <td>4</td>\n",
       "      <td>23</td>\n",
       "      <td>223.0</td>\n",
       "      <td>159.0</td>\n",
       "      <td>169.125000</td>\n",
       "    </tr>\n",
       "  </tbody>\n",
       "</table>\n",
       "<p>439 rows × 6 columns</p>\n",
       "</div>"
      ],
      "text/plain": [
       "                     week  dayofweek  hour  lag_1  lag_2  rolling_mean\n",
       "2018-08-13 17:00:00    33          0    17  144.0  175.0    139.166667\n",
       "2018-08-13 18:00:00    33          0    18  152.0  144.0    140.708333\n",
       "2018-08-13 19:00:00    33          0    19  104.0  152.0    141.791667\n",
       "2018-08-13 20:00:00    33          0    20   91.0  104.0    142.166667\n",
       "2018-08-13 21:00:00    33          0    21   82.0   91.0    141.500000\n",
       "...                   ...        ...   ...    ...    ...           ...\n",
       "2018-08-31 19:00:00    35          4    19  207.0  217.0    164.875000\n",
       "2018-08-31 20:00:00    35          4    20  136.0  207.0    167.541667\n",
       "2018-08-31 21:00:00    35          4    21  154.0  136.0    168.041667\n",
       "2018-08-31 22:00:00    35          4    22  159.0  154.0    166.416667\n",
       "2018-08-31 23:00:00    35          4    23  223.0  159.0    169.125000\n",
       "\n",
       "[439 rows x 6 columns]"
      ]
     },
     "metadata": {},
     "output_type": "display_data"
    }
   ],
   "source": [
    "all_splits = list(tscv.split(features, target))\n",
    "\n",
    "train_0, test_0 = all_splits[0]\n",
    "train_1, test_1 = all_splits[1]\n",
    "train_2, test_2 = all_splits[2]\n",
    "\n",
    "display(features.iloc[train_0])\n",
    "display(features.iloc[test_0])\n",
    "\n",
    "display(features.iloc[train_1])\n",
    "display(features.iloc[test_1])\n",
    "\n",
    "display(features.iloc[train_2])\n",
    "display(features.iloc[test_2])"
   ]
  },
  {
   "cell_type": "code",
   "execution_count": 27,
   "metadata": {
    "execution": {
     "iopub.execute_input": "2023-05-17T09:38:19.768631Z",
     "iopub.status.busy": "2023-05-17T09:38:19.768258Z",
     "iopub.status.idle": "2023-05-17T09:38:20.560674Z",
     "shell.execute_reply": "2023-05-17T09:38:20.559221Z",
     "shell.execute_reply.started": "2023-05-17T09:38:19.768603Z"
    },
    "scrolled": true
   },
   "outputs": [
    {
     "name": "stdout",
     "output_type": "stream",
     "text": [
      "[LightGBM] [Warning] boosting is set=gbdt, boosting_type=gbdt will be ignored. Current value: boosting=gbdt\n",
      "[LightGBM] [Warning] min_gain_to_split is set=0.5, min_split_gain=0.0 will be ignored. Current value: min_gain_to_split=0.5\n",
      "[LightGBM] [Warning] boosting is set=gbdt, boosting_type=gbdt will be ignored. Current value: boosting=gbdt\n",
      "[LightGBM] [Warning] min_gain_to_split is set=0.5, min_split_gain=0.0 will be ignored. Current value: min_gain_to_split=0.5\n",
      "[LightGBM] [Warning] boosting is set=gbdt, boosting_type=gbdt will be ignored. Current value: boosting=gbdt\n",
      "[LightGBM] [Warning] min_gain_to_split is set=0.5, min_split_gain=0.0 will be ignored. Current value: min_gain_to_split=0.5\n",
      "-33.53114930308015\n"
     ]
    }
   ],
   "source": [
    "gbdt = lgb.LGBMRegressor(\n",
    "    task = 'train',\n",
    "    objective = \"regression\",\n",
    "    boosting = \"gbdt\",\n",
    "    num_leaves = 32,\n",
    "    learning_rate = 0.15,\n",
    "    max_depth = 5,\n",
    "    min_gain_to_split = 0.5,\n",
    "    verbose= -1)\n",
    "score_gbdt = cross_val_score(gbdt, features, target, cv=tscv, scoring='neg_root_mean_squared_error').mean() \n",
    "print(score_gbdt)"
   ]
  },
  {
   "cell_type": "code",
   "execution_count": 28,
   "metadata": {
    "execution": {
     "iopub.execute_input": "2023-05-17T09:38:57.258828Z",
     "iopub.status.busy": "2023-05-17T09:38:57.258398Z",
     "iopub.status.idle": "2023-05-17T09:38:57.271063Z",
     "shell.execute_reply": "2023-05-17T09:38:57.269804Z",
     "shell.execute_reply.started": "2023-05-17T09:38:57.258794Z"
    }
   },
   "outputs": [
    {
     "data": {
      "text/plain": [
       "LGBMRegressor(boosting='gbdt', learning_rate=0.15, max_depth=5,\n",
       "              min_gain_to_split=0.5, num_leaves=32, objective='regression',\n",
       "              task='train', verbose=-1)"
      ]
     },
     "execution_count": 28,
     "metadata": {},
     "output_type": "execute_result"
    }
   ],
   "source": [
    "gbdt"
   ]
  },
  {
   "cell_type": "code",
   "execution_count": 29,
   "metadata": {
    "execution": {
     "iopub.execute_input": "2023-05-17T09:41:00.347188Z",
     "iopub.status.busy": "2023-05-17T09:41:00.346645Z",
     "iopub.status.idle": "2023-05-17T09:41:02.580098Z",
     "shell.execute_reply": "2023-05-17T09:41:02.578931Z",
     "shell.execute_reply.started": "2023-05-17T09:41:00.347143Z"
    },
    "scrolled": true
   },
   "outputs": [
    {
     "name": "stdout",
     "output_type": "stream",
     "text": [
      "[LightGBM] [Warning] boosting is set=dart, boosting_type=gbdt will be ignored. Current value: boosting=dart\n",
      "[LightGBM] [Warning] min_gain_to_split is set=0.01, min_split_gain=0.0 will be ignored. Current value: min_gain_to_split=0.01\n",
      "[LightGBM] [Warning] boosting is set=dart, boosting_type=gbdt will be ignored. Current value: boosting=dart\n",
      "[LightGBM] [Warning] min_gain_to_split is set=0.01, min_split_gain=0.0 will be ignored. Current value: min_gain_to_split=0.01\n",
      "[LightGBM] [Warning] boosting is set=dart, boosting_type=gbdt will be ignored. Current value: boosting=dart\n",
      "[LightGBM] [Warning] min_gain_to_split is set=0.01, min_split_gain=0.0 will be ignored. Current value: min_gain_to_split=0.01\n",
      "-34.8056944914548\n"
     ]
    }
   ],
   "source": [
    "dart = lgb.LGBMRegressor(\n",
    "    task = 'train',\n",
    "    objective = \"regression\",\n",
    "    boosting = \"dart\",\n",
    "    num_leaves = 40,\n",
    "    learning_rate = 0.5,\n",
    "    max_depth = 6,\n",
    "    min_gain_to_split = 0.01,\n",
    "    verbose= -1)\n",
    "score_dart = cross_val_score(dart, features, target, cv=tscv, scoring='neg_root_mean_squared_error').mean() \n",
    "print(score_dart)"
   ]
  },
  {
   "cell_type": "code",
   "execution_count": 30,
   "metadata": {
    "execution": {
     "iopub.execute_input": "2023-05-17T09:41:14.876611Z",
     "iopub.status.busy": "2023-05-17T09:41:14.876197Z",
     "iopub.status.idle": "2023-05-17T09:41:14.885785Z",
     "shell.execute_reply": "2023-05-17T09:41:14.884528Z",
     "shell.execute_reply.started": "2023-05-17T09:41:14.876578Z"
    }
   },
   "outputs": [
    {
     "data": {
      "text/plain": [
       "LGBMRegressor(boosting='dart', learning_rate=0.5, max_depth=6,\n",
       "              min_gain_to_split=0.01, num_leaves=40, objective='regression',\n",
       "              task='train', verbose=-1)"
      ]
     },
     "execution_count": 30,
     "metadata": {},
     "output_type": "execute_result"
    }
   ],
   "source": [
    "dart"
   ]
  },
  {
   "cell_type": "code",
   "execution_count": 31,
   "metadata": {
    "execution": {
     "iopub.execute_input": "2023-05-17T10:01:10.982833Z",
     "iopub.status.busy": "2023-05-17T10:01:10.982418Z",
     "iopub.status.idle": "2023-05-17T10:01:12.822812Z",
     "shell.execute_reply": "2023-05-17T10:01:12.821608Z",
     "shell.execute_reply.started": "2023-05-17T10:01:10.982801Z"
    },
    "scrolled": true
   },
   "outputs": [
    {
     "name": "stdout",
     "output_type": "stream",
     "text": [
      "[LightGBM] [Warning] boosting is set=goss, boosting_type=gbdt will be ignored. Current value: boosting=goss\n",
      "[LightGBM] [Warning] boosting is set=goss, boosting_type=gbdt will be ignored. Current value: boosting=goss\n",
      "[LightGBM] [Warning] boosting is set=goss, boosting_type=gbdt will be ignored. Current value: boosting=goss\n",
      "-34.28916093402963\n"
     ]
    }
   ],
   "source": [
    "goss = lgb.LGBMRegressor(\n",
    "    task = 'train',\n",
    "    objective = \"regression\",\n",
    "    boosting = \"goss\",\n",
    "    num_leaves = 40,\n",
    "    learning_rate = 0.05,\n",
    "    top_rate = 0.2,               \n",
    "    other_rate = 0.2,\n",
    "    verbose= -1)\n",
    "score_goss = cross_val_score(goss, features, target, cv=tscv, scoring='neg_root_mean_squared_error').mean() \n",
    "print(score_goss)"
   ]
  },
  {
   "cell_type": "code",
   "execution_count": 32,
   "metadata": {
    "execution": {
     "iopub.execute_input": "2023-05-17T09:59:33.538356Z",
     "iopub.status.busy": "2023-05-17T09:59:33.537712Z",
     "iopub.status.idle": "2023-05-17T09:59:33.549216Z",
     "shell.execute_reply": "2023-05-17T09:59:33.547940Z",
     "shell.execute_reply.started": "2023-05-17T09:59:33.538311Z"
    }
   },
   "outputs": [
    {
     "data": {
      "text/plain": [
       "LGBMRegressor(boosting='goss', learning_rate=0.05, num_leaves=40,\n",
       "              objective='regression', other_rate=0.2, task='train',\n",
       "              top_rate=0.2, verbose=-1)"
      ]
     },
     "execution_count": 32,
     "metadata": {},
     "output_type": "execute_result"
    }
   ],
   "source": [
    "goss"
   ]
  },
  {
   "cell_type": "code",
   "execution_count": 33,
   "metadata": {
    "execution": {
     "iopub.execute_input": "2023-05-17T10:01:36.867017Z",
     "iopub.status.busy": "2023-05-17T10:01:36.866384Z",
     "iopub.status.idle": "2023-05-17T10:01:39.397437Z",
     "shell.execute_reply": "2023-05-17T10:01:39.396622Z",
     "shell.execute_reply.started": "2023-05-17T10:01:36.866982Z"
    }
   },
   "outputs": [
    {
     "name": "stdout",
     "output_type": "stream",
     "text": [
      "-35.02370212953883\n"
     ]
    }
   ],
   "source": [
    "forest = None\n",
    "score = -5000\n",
    "\n",
    "for est in [10, 20]:\n",
    "    for depth in [5, 10]:\n",
    "        for samples in [5, 15]:\n",
    "            \n",
    "            forest_0 = RandomForestRegressor(random_state=12345, n_estimators=est, max_depth=depth, min_samples_leaf=samples)\n",
    "            score_0 = cross_val_score(forest_0, features, target, cv=tscv, scoring='neg_root_mean_squared_error').mean()\n",
    "            \n",
    "            if score_0 > score:\n",
    "                score = score_0\n",
    "                forest = forest_0\n",
    "\n",
    "print(score)"
   ]
  },
  {
   "cell_type": "code",
   "execution_count": 34,
   "metadata": {
    "execution": {
     "iopub.execute_input": "2023-05-17T10:01:51.226205Z",
     "iopub.status.busy": "2023-05-17T10:01:51.225457Z",
     "iopub.status.idle": "2023-05-17T10:01:51.234891Z",
     "shell.execute_reply": "2023-05-17T10:01:51.233444Z",
     "shell.execute_reply.started": "2023-05-17T10:01:51.226161Z"
    }
   },
   "outputs": [
    {
     "data": {
      "text/plain": [
       "RandomForestRegressor(max_depth=10, min_samples_leaf=5, n_estimators=20,\n",
       "                      random_state=12345)"
      ]
     },
     "execution_count": 34,
     "metadata": {},
     "output_type": "execute_result"
    }
   ],
   "source": [
    "forest"
   ]
  },
  {
   "cell_type": "code",
   "execution_count": 35,
   "metadata": {
    "execution": {
     "iopub.execute_input": "2023-05-17T10:03:05.773740Z",
     "iopub.status.busy": "2023-05-17T10:03:05.773326Z",
     "iopub.status.idle": "2023-05-17T10:03:07.513902Z",
     "shell.execute_reply": "2023-05-17T10:03:07.512721Z",
     "shell.execute_reply.started": "2023-05-17T10:03:05.773708Z"
    }
   },
   "outputs": [
    {
     "name": "stdout",
     "output_type": "stream",
     "text": [
      "[LightGBM] [Warning] boosting is set=gbdt, boosting_type=gbdt will be ignored. Current value: boosting=gbdt\n",
      "[LightGBM] [Warning] min_gain_to_split is set=0.5, min_split_gain=0.0 will be ignored. Current value: min_gain_to_split=0.5\n",
      "RMSE модели LightGBM с бустингом gbdt: 18.33533088493222\n",
      "MAE модели LightGBM с бустингом gbdt: 13.895824648727881\n",
      "\n",
      "RMSE модели LightGBM с бустингом dart: 15.850727625247616\n",
      "MAE модели LightGBM с бустингом dart: 11.996873870977373\n",
      "\n",
      "RMSE модели LightGBM с бустингом goss: 19.73285859855423\n",
      "MAE модели LightGBM с бустингом goss: 14.60656653307604\n",
      "\n",
      "RMSE модели случайного леса: 19.73187542561329\n",
      "MAE модели случайного леса: 14.39042581638237\n"
     ]
    }
   ],
   "source": [
    "gbdt.fit(features, target)\n",
    "dart.fit(features, target)\n",
    "goss.fit(features, target)\n",
    "forest.fit(features, target)\n",
    "\n",
    "predictions_gbdt = gbdt.predict(features)\n",
    "predictions_dart = dart.predict(features)\n",
    "predictions_goss = goss.predict(features)\n",
    "predictions_forest = forest.predict(features)\n",
    "\n",
    "rmse_gbdt = mean_squared_error(target, predictions_gbdt)**0.5\n",
    "mae_gbdt = mean_absolute_error(target, predictions_gbdt)\n",
    "\n",
    "rmse_dart = mean_squared_error(target, predictions_dart)**0.5\n",
    "mae_dart = mean_absolute_error(target, predictions_dart)\n",
    "\n",
    "rmse_goss = mean_squared_error(target, predictions_goss)**0.5\n",
    "mae_goss = mean_absolute_error(target, predictions_goss)\n",
    "\n",
    "rmse_forest = mean_squared_error(target, predictions_forest)**0.5\n",
    "mae_forest = mean_absolute_error(target, predictions_forest)\n",
    "\n",
    "print('RMSE модели LightGBM с бустингом gbdt:', rmse_gbdt)\n",
    "print('MAE модели LightGBM с бустингом gbdt:', mae_gbdt)\n",
    "print()\n",
    "\n",
    "print('RMSE модели LightGBM с бустингом dart:', rmse_dart)\n",
    "print('MAE модели LightGBM с бустингом dart:', mae_dart)\n",
    "print()\n",
    "\n",
    "print('RMSE модели LightGBM с бустингом goss:', rmse_goss)\n",
    "print('MAE модели LightGBM с бустингом goss:', mae_goss)\n",
    "print()\n",
    "\n",
    "print('RMSE модели случайного леса:', rmse_forest)\n",
    "print('MAE модели случайного леса:', mae_forest)"
   ]
  },
  {
   "cell_type": "markdown",
   "metadata": {
    "lang": "en"
   },
   "source": [
    "**Model training summary:**\n",
    "\n",
    "Since the taxi demand forecast is only needed for an hour, the column with the month is not informative, so it was removed. New features have also been added. lag_1 and lag_2 show the models how much demand in the previous 2 hours affects current demand. A daily moving average of demand was also added. Missing values were removed. The sample is divided into 3 consecutive training and test samples in a ratio of 90:10 for further cross-validation. We used LightGBM models with different types of boosting and other hyperparameters (num_leaves, learning_rate, top_rate, other_rate), as well as a random forest model with hyperparameter tuning. The gbdt model performed best on cross-validation."
   ]
  },
  {
   "cell_type": "markdown",
   "metadata": {
    "lang": "en"
   },
   "source": [
    "## Testing"
   ]
  },
  {
   "cell_type": "code",
   "execution_count": 36,
   "metadata": {},
   "outputs": [
    {
     "data": {
      "text/plain": [
       "2018-08-13 17:00:00    152\n",
       "2018-08-13 18:00:00    104\n",
       "2018-08-13 19:00:00     91\n",
       "2018-08-13 20:00:00     82\n",
       "2018-08-13 21:00:00    160\n",
       "                      ... \n",
       "2018-08-31 19:00:00    136\n",
       "2018-08-31 20:00:00    154\n",
       "2018-08-31 21:00:00    159\n",
       "2018-08-31 22:00:00    223\n",
       "2018-08-31 23:00:00    205\n",
       "Freq: H, Name: num_orders, Length: 439, dtype: int64"
      ]
     },
     "execution_count": 36,
     "metadata": {},
     "output_type": "execute_result"
    }
   ],
   "source": [
    "target.iloc[-round(0.1*len(data)):]"
   ]
  },
  {
   "cell_type": "code",
   "execution_count": 37,
   "metadata": {
    "execution": {
     "iopub.execute_input": "2023-05-17T10:58:30.680560Z",
     "iopub.status.busy": "2023-05-17T10:58:30.680175Z",
     "iopub.status.idle": "2023-05-17T10:58:31.402699Z",
     "shell.execute_reply": "2023-05-17T10:58:31.401572Z",
     "shell.execute_reply.started": "2023-05-17T10:58:30.680530Z"
    },
    "scrolled": false
   },
   "outputs": [
    {
     "name": "stdout",
     "output_type": "stream",
     "text": [
      "[LightGBM] [Warning] boosting is set=gbdt, boosting_type=gbdt will be ignored. Current value: boosting=gbdt\n",
      "[LightGBM] [Warning] min_gain_to_split is set=0.5, min_split_gain=0.0 will be ignored. Current value: min_gain_to_split=0.5\n"
     ]
    },
    {
     "data": {
      "text/plain": [
       "Text(0.5, 1.0, 'Количество заказов за последние 18 суток')"
      ]
     },
     "execution_count": 37,
     "metadata": {},
     "output_type": "execute_result"
    },
    {
     "data": {
      "image/png": "[encoded data removed]",
      "text/plain": [
       "<Figure size 1080x720 with 1 Axes>"
      ]
     },
     "metadata": {
      "needs_background": "light"
     },
     "output_type": "display_data"
    }
   ],
   "source": [
    "gbdt.fit(features.iloc[:-round(0.1*len(data))], target.iloc[:-round(0.1*len(data))])\n",
    "\n",
    "plt.figure(figsize=(15, 10))\n",
    "plt.axes().set_facecolor(\"black\")\n",
    "\n",
    "target.iloc[-round(0.1*len(data)):].plot(legend=True, color='g')\n",
    "pd.DataFrame(gbdt\n",
    "             .predict(features.iloc[-round(0.1*len(data)):]),\n",
    "             index=target.iloc[-round(0.1*len(data)):].index, \n",
    "             columns=['predicted']).plot(color='r', ax=plt.gca())\n",
    "plt.title('Количество заказов за последние 18 суток')"
   ]
  },
  {
   "cell_type": "markdown",
   "metadata": {
    "lang": "en"
   },
   "source": [
    "Based on the results of cross-validation, the gbdt model was selected. Its average RMSE was 33.5 < 48"
   ]
  }
 ],
 "metadata": {
  "ExecuteTimeLog": [
   {
    "duration": 1263,
    "start_time": "2023-05-15T08:09:39.619Z"
   },
   {
    "duration": 138,
    "start_time": "2023-05-15T08:10:01.993Z"
   },
   {
    "duration": 11,
    "start_time": "2023-05-15T08:10:07.160Z"
   },
   {
    "duration": 104,
    "start_time": "2023-05-15T08:10:47.305Z"
   },
   {
    "duration": 3,
    "start_time": "2023-05-15T08:11:05.293Z"
   },
   {
    "duration": 3,
    "start_time": "2023-05-15T08:11:11.770Z"
   },
   {
    "duration": 45,
    "start_time": "2023-05-15T08:11:18.181Z"
   },
   {
    "duration": 44,
    "start_time": "2023-05-15T08:11:24.256Z"
   },
   {
    "duration": 6,
    "start_time": "2023-05-15T08:11:28.110Z"
   },
   {
    "duration": 40,
    "start_time": "2023-05-15T08:11:49.397Z"
   },
   {
    "duration": 6,
    "start_time": "2023-05-15T08:11:51.454Z"
   },
   {
    "duration": 50,
    "start_time": "2023-05-15T08:12:23.875Z"
   },
   {
    "duration": 6,
    "start_time": "2023-05-15T08:12:25.861Z"
   },
   {
    "duration": 9,
    "start_time": "2023-05-15T08:12:47.223Z"
   },
   {
    "duration": 6,
    "start_time": "2023-05-15T08:13:22.127Z"
   },
   {
    "duration": 8,
    "start_time": "2023-05-15T08:13:40.020Z"
   },
   {
    "duration": 7,
    "start_time": "2023-05-15T08:14:05.401Z"
   },
   {
    "duration": 41,
    "start_time": "2023-05-15T08:14:09.208Z"
   },
   {
    "duration": 7,
    "start_time": "2023-05-15T08:14:12.018Z"
   },
   {
    "duration": 3,
    "start_time": "2023-05-15T08:14:39.194Z"
   },
   {
    "duration": 19,
    "start_time": "2023-05-15T08:15:00.378Z"
   },
   {
    "duration": 6,
    "start_time": "2023-05-15T08:15:06.977Z"
   },
   {
    "duration": 8,
    "start_time": "2023-05-15T08:15:14.231Z"
   },
   {
    "duration": 6,
    "start_time": "2023-05-15T08:15:17.296Z"
   },
   {
    "duration": 6,
    "start_time": "2023-05-15T08:15:38.757Z"
   },
   {
    "duration": 38,
    "start_time": "2023-05-15T08:18:07.849Z"
   },
   {
    "duration": 5,
    "start_time": "2023-05-15T08:18:13.373Z"
   },
   {
    "duration": 4,
    "start_time": "2023-05-15T08:18:20.999Z"
   },
   {
    "duration": 2,
    "start_time": "2023-05-15T08:18:26.552Z"
   },
   {
    "duration": 7,
    "start_time": "2023-05-15T08:18:33.419Z"
   },
   {
    "duration": 5,
    "start_time": "2023-05-15T08:18:45.657Z"
   },
   {
    "duration": 6,
    "start_time": "2023-05-15T08:19:01.193Z"
   },
   {
    "duration": 5,
    "start_time": "2023-05-15T08:19:02.288Z"
   },
   {
    "duration": 9,
    "start_time": "2023-05-15T08:19:17.619Z"
   },
   {
    "duration": 10,
    "start_time": "2023-05-15T08:20:33.249Z"
   },
   {
    "duration": 38,
    "start_time": "2023-05-15T08:20:49.776Z"
   },
   {
    "duration": 2,
    "start_time": "2023-05-15T08:20:50.357Z"
   },
   {
    "duration": 5,
    "start_time": "2023-05-15T08:20:50.960Z"
   },
   {
    "duration": 11,
    "start_time": "2023-05-15T08:20:52.490Z"
   },
   {
    "duration": 9,
    "start_time": "2023-05-15T08:21:03.315Z"
   },
   {
    "duration": 7,
    "start_time": "2023-05-15T08:21:32.594Z"
   },
   {
    "duration": 3,
    "start_time": "2023-05-15T08:22:14.318Z"
   },
   {
    "duration": 7,
    "start_time": "2023-05-15T08:28:16.324Z"
   },
   {
    "duration": 5,
    "start_time": "2023-05-15T08:28:28.889Z"
   },
   {
    "duration": 7,
    "start_time": "2023-05-15T08:30:31.731Z"
   },
   {
    "duration": 8,
    "start_time": "2023-05-15T08:30:44.865Z"
   },
   {
    "duration": 6,
    "start_time": "2023-05-15T08:31:24.081Z"
   },
   {
    "duration": 5,
    "start_time": "2023-05-15T08:31:42.628Z"
   },
   {
    "duration": 5,
    "start_time": "2023-05-15T08:32:16.042Z"
   },
   {
    "duration": 3,
    "start_time": "2023-05-15T08:32:18.583Z"
   },
   {
    "duration": 1240,
    "start_time": "2023-05-15T08:32:58.346Z"
   },
   {
    "duration": 5,
    "start_time": "2023-05-15T08:33:04.677Z"
   },
   {
    "duration": 3,
    "start_time": "2023-05-15T08:33:17.453Z"
   },
   {
    "duration": 46,
    "start_time": "2023-05-15T08:33:17.458Z"
   },
   {
    "duration": 5,
    "start_time": "2023-05-15T08:33:17.511Z"
   },
   {
    "duration": 18,
    "start_time": "2023-05-15T08:33:17.518Z"
   },
   {
    "duration": 6,
    "start_time": "2023-05-15T08:33:21.054Z"
   },
   {
    "duration": 3,
    "start_time": "2023-05-15T08:33:54.018Z"
   },
   {
    "duration": 42,
    "start_time": "2023-05-15T08:33:54.023Z"
   },
   {
    "duration": 3,
    "start_time": "2023-05-15T08:33:54.066Z"
   },
   {
    "duration": 12,
    "start_time": "2023-05-15T08:33:56.007Z"
   },
   {
    "duration": 9,
    "start_time": "2023-05-15T08:34:04.988Z"
   },
   {
    "duration": 5,
    "start_time": "2023-05-15T08:34:13.937Z"
   },
   {
    "duration": 6,
    "start_time": "2023-05-15T08:34:38.899Z"
   },
   {
    "duration": 7,
    "start_time": "2023-05-15T08:34:40.500Z"
   },
   {
    "duration": 10,
    "start_time": "2023-05-15T08:34:55.917Z"
   },
   {
    "duration": 3,
    "start_time": "2023-05-15T08:35:27.124Z"
   },
   {
    "duration": 42,
    "start_time": "2023-05-15T08:35:28.024Z"
   },
   {
    "duration": 3,
    "start_time": "2023-05-15T08:35:28.990Z"
   },
   {
    "duration": 8,
    "start_time": "2023-05-15T08:35:30.424Z"
   },
   {
    "duration": 6,
    "start_time": "2023-05-15T08:42:36.043Z"
   },
   {
    "duration": 5,
    "start_time": "2023-05-15T08:42:38.185Z"
   },
   {
    "duration": 4,
    "start_time": "2023-05-15T08:42:41.757Z"
   },
   {
    "duration": 5,
    "start_time": "2023-05-15T08:42:45.060Z"
   },
   {
    "duration": 1163,
    "start_time": "2023-05-15T08:43:20.873Z"
   },
   {
    "duration": 15,
    "start_time": "2023-05-15T08:43:31.893Z"
   },
   {
    "duration": 7,
    "start_time": "2023-05-15T08:43:40.023Z"
   },
   {
    "duration": 6,
    "start_time": "2023-05-15T08:44:26.746Z"
   },
   {
    "duration": 7,
    "start_time": "2023-05-15T08:44:27.994Z"
   },
   {
    "duration": 7,
    "start_time": "2023-05-15T08:44:28.560Z"
   },
   {
    "duration": 6,
    "start_time": "2023-05-15T08:44:29.092Z"
   },
   {
    "duration": 7,
    "start_time": "2023-05-15T08:44:29.552Z"
   },
   {
    "duration": 6,
    "start_time": "2023-05-15T08:44:29.994Z"
   },
   {
    "duration": 7,
    "start_time": "2023-05-15T08:44:30.418Z"
   },
   {
    "duration": 7,
    "start_time": "2023-05-15T08:44:30.852Z"
   },
   {
    "duration": 6,
    "start_time": "2023-05-15T08:44:31.520Z"
   },
   {
    "duration": 7,
    "start_time": "2023-05-15T08:44:32.036Z"
   },
   {
    "duration": 6,
    "start_time": "2023-05-15T08:44:32.517Z"
   },
   {
    "duration": 7,
    "start_time": "2023-05-15T08:44:32.996Z"
   },
   {
    "duration": 7,
    "start_time": "2023-05-15T08:44:33.458Z"
   },
   {
    "duration": 8,
    "start_time": "2023-05-15T08:44:33.957Z"
   },
   {
    "duration": 6,
    "start_time": "2023-05-15T08:44:34.535Z"
   },
   {
    "duration": 6,
    "start_time": "2023-05-15T08:44:34.953Z"
   },
   {
    "duration": 7,
    "start_time": "2023-05-15T08:44:35.333Z"
   },
   {
    "duration": 6,
    "start_time": "2023-05-15T08:44:35.685Z"
   },
   {
    "duration": 8,
    "start_time": "2023-05-15T08:44:36.077Z"
   },
   {
    "duration": 6,
    "start_time": "2023-05-15T08:44:36.419Z"
   },
   {
    "duration": 8,
    "start_time": "2023-05-15T08:44:36.857Z"
   },
   {
    "duration": 7,
    "start_time": "2023-05-15T08:44:37.280Z"
   },
   {
    "duration": 6,
    "start_time": "2023-05-15T08:44:37.732Z"
   },
   {
    "duration": 7,
    "start_time": "2023-05-15T08:44:38.422Z"
   },
   {
    "duration": 8,
    "start_time": "2023-05-15T08:44:38.786Z"
   },
   {
    "duration": 6,
    "start_time": "2023-05-15T08:44:39.190Z"
   },
   {
    "duration": 6,
    "start_time": "2023-05-15T08:44:39.576Z"
   },
   {
    "duration": 6,
    "start_time": "2023-05-15T08:44:39.956Z"
   },
   {
    "duration": 7,
    "start_time": "2023-05-15T08:44:51.876Z"
   },
   {
    "duration": 7,
    "start_time": "2023-05-15T08:45:05.847Z"
   },
   {
    "duration": 4,
    "start_time": "2023-05-15T08:47:42.280Z"
   },
   {
    "duration": 7,
    "start_time": "2023-05-15T08:50:13.438Z"
   },
   {
    "duration": 9,
    "start_time": "2023-05-15T08:50:21.081Z"
   },
   {
    "duration": 3,
    "start_time": "2023-05-15T08:50:33.025Z"
   },
   {
    "duration": 51,
    "start_time": "2023-05-15T08:50:33.030Z"
   },
   {
    "duration": 2,
    "start_time": "2023-05-15T08:50:33.083Z"
   },
   {
    "duration": 10,
    "start_time": "2023-05-15T08:50:33.086Z"
   },
   {
    "duration": 8,
    "start_time": "2023-05-15T08:50:33.097Z"
   },
   {
    "duration": 11,
    "start_time": "2023-05-15T08:50:33.106Z"
   },
   {
    "duration": 12,
    "start_time": "2023-05-15T08:50:33.118Z"
   },
   {
    "duration": 6,
    "start_time": "2023-05-15T08:50:33.132Z"
   },
   {
    "duration": 9,
    "start_time": "2023-05-15T09:02:36.989Z"
   },
   {
    "duration": 8,
    "start_time": "2023-05-15T09:03:42.196Z"
   },
   {
    "duration": 9,
    "start_time": "2023-05-15T09:03:44.790Z"
   },
   {
    "duration": 5,
    "start_time": "2023-05-15T09:04:58.643Z"
   },
   {
    "duration": 11,
    "start_time": "2023-05-15T09:05:00.284Z"
   },
   {
    "duration": 4,
    "start_time": "2023-05-15T09:05:23.084Z"
   },
   {
    "duration": 10,
    "start_time": "2023-05-15T09:05:24.111Z"
   },
   {
    "duration": 11,
    "start_time": "2023-05-15T09:06:50.634Z"
   },
   {
    "duration": 10,
    "start_time": "2023-05-15T09:07:52.617Z"
   },
   {
    "duration": 8,
    "start_time": "2023-05-15T09:08:22.784Z"
   },
   {
    "duration": 3,
    "start_time": "2023-05-15T09:08:39.928Z"
   },
   {
    "duration": 58,
    "start_time": "2023-05-15T09:08:39.933Z"
   },
   {
    "duration": 3,
    "start_time": "2023-05-15T09:08:39.993Z"
   },
   {
    "duration": 12,
    "start_time": "2023-05-15T09:08:39.998Z"
   },
   {
    "duration": 17,
    "start_time": "2023-05-15T09:08:40.012Z"
   },
   {
    "duration": 17,
    "start_time": "2023-05-15T09:08:40.030Z"
   },
   {
    "duration": 34,
    "start_time": "2023-05-15T09:08:40.049Z"
   },
   {
    "duration": 4,
    "start_time": "2023-05-15T09:08:40.085Z"
   },
   {
    "duration": 12,
    "start_time": "2023-05-15T09:08:40.090Z"
   },
   {
    "duration": 20,
    "start_time": "2023-05-15T09:08:40.104Z"
   },
   {
    "duration": 22,
    "start_time": "2023-05-15T09:08:40.126Z"
   },
   {
    "duration": 573,
    "start_time": "2023-05-15T09:10:07.618Z"
   },
   {
    "duration": 5,
    "start_time": "2023-05-15T09:10:53.578Z"
   },
   {
    "duration": 10,
    "start_time": "2023-05-15T09:11:08.144Z"
   },
   {
    "duration": 3,
    "start_time": "2023-05-15T09:12:42.546Z"
   },
   {
    "duration": 52,
    "start_time": "2023-05-15T09:12:42.551Z"
   },
   {
    "duration": 9,
    "start_time": "2023-05-15T09:12:42.605Z"
   },
   {
    "duration": 13,
    "start_time": "2023-05-15T09:12:42.621Z"
   },
   {
    "duration": 6,
    "start_time": "2023-05-15T09:12:42.637Z"
   },
   {
    "duration": 7,
    "start_time": "2023-05-15T09:12:42.645Z"
   },
   {
    "duration": 14,
    "start_time": "2023-05-15T09:12:42.654Z"
   },
   {
    "duration": 19,
    "start_time": "2023-05-15T09:12:42.670Z"
   },
   {
    "duration": 4,
    "start_time": "2023-05-15T09:12:42.692Z"
   },
   {
    "duration": 14,
    "start_time": "2023-05-15T09:12:42.698Z"
   },
   {
    "duration": 13,
    "start_time": "2023-05-15T09:12:42.714Z"
   },
   {
    "duration": 12,
    "start_time": "2023-05-15T09:12:42.730Z"
   },
   {
    "duration": 325,
    "start_time": "2023-05-15T09:12:42.743Z"
   },
   {
    "duration": 243,
    "start_time": "2023-05-15T09:13:56.954Z"
   },
   {
    "duration": 210,
    "start_time": "2023-05-15T09:14:55.305Z"
   },
   {
    "duration": 159,
    "start_time": "2023-05-15T09:15:34.621Z"
   },
   {
    "duration": 148,
    "start_time": "2023-05-15T09:15:46.196Z"
   },
   {
    "duration": 142,
    "start_time": "2023-05-15T09:16:18.722Z"
   },
   {
    "duration": 222,
    "start_time": "2023-05-15T09:19:16.319Z"
   },
   {
    "duration": 9,
    "start_time": "2023-05-15T09:19:48.460Z"
   },
   {
    "duration": 4,
    "start_time": "2023-05-15T09:21:04.468Z"
   },
   {
    "duration": 544,
    "start_time": "2023-05-15T09:21:10.870Z"
   },
   {
    "duration": 244,
    "start_time": "2023-05-15T09:24:39.075Z"
   },
   {
    "duration": 644,
    "start_time": "2023-05-15T09:26:24.603Z"
   },
   {
    "duration": 581,
    "start_time": "2023-05-15T09:29:11.370Z"
   },
   {
    "duration": 7,
    "start_time": "2023-05-15T09:38:24.111Z"
   },
   {
    "duration": 250,
    "start_time": "2023-05-15T09:38:31.074Z"
   },
   {
    "duration": 382,
    "start_time": "2023-05-15T09:39:24.381Z"
   },
   {
    "duration": 230,
    "start_time": "2023-05-15T09:39:49.443Z"
   },
   {
    "duration": 238,
    "start_time": "2023-05-15T09:41:31.149Z"
   },
   {
    "duration": 270,
    "start_time": "2023-05-15T09:44:01.400Z"
   },
   {
    "duration": 321,
    "start_time": "2023-05-15T09:44:42.469Z"
   },
   {
    "duration": 296,
    "start_time": "2023-05-15T09:46:09.281Z"
   },
   {
    "duration": 234,
    "start_time": "2023-05-15T09:49:53.418Z"
   },
   {
    "duration": 333,
    "start_time": "2023-05-15T09:50:12.715Z"
   },
   {
    "duration": 371,
    "start_time": "2023-05-15T09:50:31.344Z"
   },
   {
    "duration": 397,
    "start_time": "2023-05-15T09:50:55.298Z"
   },
   {
    "duration": 319,
    "start_time": "2023-05-15T09:56:43.810Z"
   },
   {
    "duration": 11,
    "start_time": "2023-05-15T09:57:21.764Z"
   },
   {
    "duration": 263,
    "start_time": "2023-05-15T10:03:49.608Z"
   },
   {
    "duration": 478,
    "start_time": "2023-05-15T10:05:39.662Z"
   },
   {
    "duration": 514,
    "start_time": "2023-05-15T10:08:43.937Z"
   },
   {
    "duration": 432,
    "start_time": "2023-05-15T10:11:08.598Z"
   },
   {
    "duration": 630,
    "start_time": "2023-05-15T10:11:13.275Z"
   },
   {
    "duration": 18,
    "start_time": "2023-05-15T10:17:50.687Z"
   },
   {
    "duration": 13,
    "start_time": "2023-05-15T10:17:58.662Z"
   },
   {
    "duration": 28,
    "start_time": "2023-05-15T10:20:15.132Z"
   },
   {
    "duration": 77,
    "start_time": "2023-05-15T10:20:31.825Z"
   },
   {
    "duration": 409,
    "start_time": "2023-05-15T10:20:48.471Z"
   },
   {
    "duration": 402,
    "start_time": "2023-05-15T10:22:25.781Z"
   },
   {
    "duration": 1076,
    "start_time": "2023-05-15T10:22:34.256Z"
   },
   {
    "duration": 1139,
    "start_time": "2023-05-15T10:23:09.798Z"
   },
   {
    "duration": 1206,
    "start_time": "2023-05-15T10:25:02.839Z"
   },
   {
    "duration": 1368,
    "start_time": "2023-05-15T10:31:18.569Z"
   },
   {
    "duration": 1226,
    "start_time": "2023-05-15T10:31:55.299Z"
   },
   {
    "duration": 1062,
    "start_time": "2023-05-15T10:32:27.965Z"
   },
   {
    "duration": 1125,
    "start_time": "2023-05-15T10:33:53.269Z"
   },
   {
    "duration": 1413,
    "start_time": "2023-05-15T10:34:55.337Z"
   },
   {
    "duration": 307,
    "start_time": "2023-05-15T10:36:54.620Z"
   },
   {
    "duration": 1212,
    "start_time": "2023-05-15T10:37:04.367Z"
   },
   {
    "duration": 498,
    "start_time": "2023-05-15T10:37:11.946Z"
   },
   {
    "duration": 1092,
    "start_time": "2023-05-15T10:37:16.021Z"
   },
   {
    "duration": 545,
    "start_time": "2023-05-15T10:40:59.833Z"
   },
   {
    "duration": 7,
    "start_time": "2023-05-15T10:41:25.972Z"
   },
   {
    "duration": 1948,
    "start_time": "2023-05-15T17:13:57.881Z"
   },
   {
    "duration": 192,
    "start_time": "2023-05-15T17:13:59.831Z"
   },
   {
    "duration": 3,
    "start_time": "2023-05-15T17:14:00.025Z"
   },
   {
    "duration": 22,
    "start_time": "2023-05-15T17:14:00.031Z"
   },
   {
    "duration": 53,
    "start_time": "2023-05-15T17:14:00.055Z"
   },
   {
    "duration": 21,
    "start_time": "2023-05-15T17:14:00.109Z"
   },
   {
    "duration": 38,
    "start_time": "2023-05-15T17:14:00.131Z"
   },
   {
    "duration": 30,
    "start_time": "2023-05-15T17:14:00.171Z"
   },
   {
    "duration": 25,
    "start_time": "2023-05-15T17:14:00.203Z"
   },
   {
    "duration": 47,
    "start_time": "2023-05-15T17:14:00.230Z"
   },
   {
    "duration": 806,
    "start_time": "2023-05-15T17:14:00.280Z"
   },
   {
    "duration": 346,
    "start_time": "2023-05-15T17:14:01.088Z"
   },
   {
    "duration": 1359,
    "start_time": "2023-05-15T17:14:01.436Z"
   },
   {
    "duration": 592,
    "start_time": "2023-05-15T17:14:02.796Z"
   },
   {
    "duration": 561,
    "start_time": "2023-05-15T17:14:03.389Z"
   },
   {
    "duration": 9,
    "start_time": "2023-05-15T17:14:03.951Z"
   },
   {
    "duration": 310,
    "start_time": "2023-05-15T17:20:25.249Z"
   },
   {
    "duration": 680,
    "start_time": "2023-05-15T17:20:35.573Z"
   },
   {
    "duration": 548,
    "start_time": "2023-05-15T17:21:46.365Z"
   },
   {
    "duration": 488,
    "start_time": "2023-05-15T17:22:10.977Z"
   },
   {
    "duration": 492,
    "start_time": "2023-05-15T17:22:16.561Z"
   },
   {
    "duration": 474,
    "start_time": "2023-05-15T17:22:25.884Z"
   },
   {
    "duration": 527,
    "start_time": "2023-05-15T17:22:49.352Z"
   },
   {
    "duration": 13,
    "start_time": "2023-05-15T17:38:18.076Z"
   },
   {
    "duration": 145,
    "start_time": "2023-05-15T17:39:03.332Z"
   },
   {
    "duration": 242,
    "start_time": "2023-05-15T17:39:36.032Z"
   },
   {
    "duration": 144,
    "start_time": "2023-05-15T17:40:02.822Z"
   },
   {
    "duration": 140,
    "start_time": "2023-05-15T17:40:23.201Z"
   },
   {
    "duration": 259,
    "start_time": "2023-05-15T17:40:58.234Z"
   },
   {
    "duration": 281,
    "start_time": "2023-05-15T17:42:35.526Z"
   },
   {
    "duration": 266,
    "start_time": "2023-05-15T17:42:46.241Z"
   },
   {
    "duration": 7,
    "start_time": "2023-05-15T17:47:33.073Z"
   },
   {
    "duration": 56,
    "start_time": "2023-05-16T05:47:00.517Z"
   },
   {
    "duration": 1677,
    "start_time": "2023-05-16T05:47:36.284Z"
   },
   {
    "duration": 288,
    "start_time": "2023-05-16T05:47:37.963Z"
   },
   {
    "duration": 3,
    "start_time": "2023-05-16T05:47:38.252Z"
   },
   {
    "duration": 16,
    "start_time": "2023-05-16T05:47:38.257Z"
   },
   {
    "duration": 8,
    "start_time": "2023-05-16T05:47:38.275Z"
   },
   {
    "duration": 36,
    "start_time": "2023-05-16T05:47:38.285Z"
   },
   {
    "duration": 13,
    "start_time": "2023-05-16T05:47:38.323Z"
   },
   {
    "duration": 13,
    "start_time": "2023-05-16T05:47:38.338Z"
   },
   {
    "duration": 12,
    "start_time": "2023-05-16T05:47:38.354Z"
   },
   {
    "duration": 14,
    "start_time": "2023-05-16T05:47:38.368Z"
   },
   {
    "duration": 851,
    "start_time": "2023-05-16T05:47:38.384Z"
   },
   {
    "duration": 332,
    "start_time": "2023-05-16T05:47:39.237Z"
   },
   {
    "duration": 1232,
    "start_time": "2023-05-16T05:47:39.571Z"
   },
   {
    "duration": 556,
    "start_time": "2023-05-16T05:47:40.805Z"
   },
   {
    "duration": 153,
    "start_time": "2023-05-16T05:47:41.363Z"
   },
   {
    "duration": 249,
    "start_time": "2023-05-16T05:47:41.518Z"
   },
   {
    "duration": 559,
    "start_time": "2023-05-16T05:47:41.769Z"
   },
   {
    "duration": 666,
    "start_time": "2023-05-16T05:47:42.331Z"
   },
   {
    "duration": 8,
    "start_time": "2023-05-16T05:47:42.999Z"
   },
   {
    "duration": 64,
    "start_time": "2023-05-16T05:48:19.999Z"
   },
   {
    "duration": 84,
    "start_time": "2023-05-16T05:48:23.423Z"
   },
   {
    "duration": 11,
    "start_time": "2023-05-16T05:48:28.280Z"
   },
   {
    "duration": 4,
    "start_time": "2023-05-16T05:48:41.002Z"
   },
   {
    "duration": 9,
    "start_time": "2023-05-16T06:09:44.427Z"
   },
   {
    "duration": 11,
    "start_time": "2023-05-16T06:17:52.766Z"
   },
   {
    "duration": 80,
    "start_time": "2023-05-16T06:22:53.079Z"
   },
   {
    "duration": 8,
    "start_time": "2023-05-16T06:22:58.058Z"
   },
   {
    "duration": 600,
    "start_time": "2023-05-16T06:29:23.866Z"
   },
   {
    "duration": 591,
    "start_time": "2023-05-16T06:30:33.166Z"
   },
   {
    "duration": 802,
    "start_time": "2023-05-16T06:33:55.465Z"
   },
   {
    "duration": 1357,
    "start_time": "2023-05-16T06:34:21.906Z"
   },
   {
    "duration": 607,
    "start_time": "2023-05-16T06:34:30.766Z"
   },
   {
    "duration": 1366,
    "start_time": "2023-05-16T06:34:38.999Z"
   },
   {
    "duration": 1077,
    "start_time": "2023-05-16T06:34:49.286Z"
   },
   {
    "duration": 996,
    "start_time": "2023-05-16T06:35:04.066Z"
   },
   {
    "duration": 1066,
    "start_time": "2023-05-16T06:35:12.095Z"
   },
   {
    "duration": 187511,
    "start_time": "2023-05-16T06:35:19.257Z"
   },
   {
    "duration": 1781,
    "start_time": "2023-05-16T06:38:38.475Z"
   },
   {
    "duration": 1600,
    "start_time": "2023-05-16T06:38:55.566Z"
   },
   {
    "duration": 4980,
    "start_time": "2023-05-16T06:39:05.285Z"
   },
   {
    "duration": 4405,
    "start_time": "2023-05-16T06:39:23.458Z"
   },
   {
    "duration": 4279,
    "start_time": "2023-05-16T06:39:43.387Z"
   },
   {
    "duration": 2076,
    "start_time": "2023-05-16T06:40:00.688Z"
   },
   {
    "duration": 58,
    "start_time": "2023-05-16T06:46:58.866Z"
   },
   {
    "duration": 105892,
    "start_time": "2023-05-16T06:47:03.974Z"
   },
   {
    "duration": 65175,
    "start_time": "2023-05-16T06:49:54.196Z"
   },
   {
    "duration": 149031,
    "start_time": "2023-05-16T06:51:19.727Z"
   },
   {
    "duration": 209756,
    "start_time": "2023-05-16T06:53:56.828Z"
   },
   {
    "duration": 164053,
    "start_time": "2023-05-16T06:58:15.806Z"
   },
   {
    "duration": 409381,
    "start_time": "2023-05-16T07:02:12.283Z"
   },
   {
    "duration": 25108,
    "start_time": "2023-05-16T07:09:20.779Z"
   },
   {
    "duration": 117138,
    "start_time": "2023-05-16T07:10:03.722Z"
   },
   {
    "duration": 852,
    "start_time": "2023-05-16T07:12:30.143Z"
   },
   {
    "duration": 14,
    "start_time": "2023-05-16T07:12:37.939Z"
   },
   {
    "duration": 28,
    "start_time": "2023-05-16T07:12:52.793Z"
   },
   {
    "duration": 34,
    "start_time": "2023-05-16T07:14:02.859Z"
   },
   {
    "duration": 4,
    "start_time": "2023-05-16T07:16:15.138Z"
   },
   {
    "duration": 256,
    "start_time": "2023-05-16T07:16:15.145Z"
   },
   {
    "duration": 3,
    "start_time": "2023-05-16T07:16:15.403Z"
   },
   {
    "duration": 12,
    "start_time": "2023-05-16T07:16:15.408Z"
   },
   {
    "duration": 7,
    "start_time": "2023-05-16T07:16:15.423Z"
   },
   {
    "duration": 12,
    "start_time": "2023-05-16T07:16:15.432Z"
   },
   {
    "duration": 23,
    "start_time": "2023-05-16T07:16:15.446Z"
   },
   {
    "duration": 18,
    "start_time": "2023-05-16T07:16:15.471Z"
   },
   {
    "duration": 12,
    "start_time": "2023-05-16T07:16:15.491Z"
   },
   {
    "duration": 34,
    "start_time": "2023-05-16T07:16:15.505Z"
   },
   {
    "duration": 797,
    "start_time": "2023-05-16T07:16:15.541Z"
   },
   {
    "duration": 281,
    "start_time": "2023-05-16T07:16:16.340Z"
   },
   {
    "duration": 1356,
    "start_time": "2023-05-16T07:16:16.623Z"
   },
   {
    "duration": 681,
    "start_time": "2023-05-16T07:16:17.983Z"
   },
   {
    "duration": 374,
    "start_time": "2023-05-16T07:16:18.667Z"
   },
   {
    "duration": 356,
    "start_time": "2023-05-16T07:16:19.043Z"
   },
   {
    "duration": 660,
    "start_time": "2023-05-16T07:16:19.402Z"
   },
   {
    "duration": 644,
    "start_time": "2023-05-16T07:16:20.065Z"
   },
   {
    "duration": 6,
    "start_time": "2023-05-16T07:16:20.711Z"
   },
   {
    "duration": 23,
    "start_time": "2023-05-16T07:16:20.720Z"
   },
   {
    "duration": 24,
    "start_time": "2023-05-16T07:16:20.745Z"
   },
   {
    "duration": 17,
    "start_time": "2023-05-16T07:16:20.772Z"
   },
   {
    "duration": 88984,
    "start_time": "2023-05-16T07:16:20.791Z"
   },
   {
    "duration": 322412,
    "start_time": "2023-05-16T07:17:49.778Z"
   },
   {
    "duration": 172508,
    "start_time": "2023-05-16T07:23:12.264Z"
   },
   {
    "duration": 833,
    "start_time": "2023-05-16T07:26:04.773Z"
   },
   {
    "duration": 5,
    "start_time": "2023-05-16T07:26:05.608Z"
   },
   {
    "duration": 165,
    "start_time": "2023-05-16T07:26:05.615Z"
   },
   {
    "duration": 191,
    "start_time": "2023-05-16T07:35:00.490Z"
   },
   {
    "duration": 224,
    "start_time": "2023-05-16T07:35:11.757Z"
   },
   {
    "duration": 166,
    "start_time": "2023-05-16T07:35:19.314Z"
   },
   {
    "duration": 168,
    "start_time": "2023-05-16T07:35:28.698Z"
   },
   {
    "duration": 179,
    "start_time": "2023-05-16T07:39:15.582Z"
   },
   {
    "duration": 14,
    "start_time": "2023-05-16T07:41:52.642Z"
   },
   {
    "duration": 51,
    "start_time": "2023-05-16T20:18:56.197Z"
   },
   {
    "duration": 1667,
    "start_time": "2023-05-16T20:19:01.123Z"
   },
   {
    "duration": 163,
    "start_time": "2023-05-16T20:19:02.793Z"
   },
   {
    "duration": 3,
    "start_time": "2023-05-16T20:19:02.958Z"
   },
   {
    "duration": 21,
    "start_time": "2023-05-16T20:19:02.963Z"
   },
   {
    "duration": 17,
    "start_time": "2023-05-16T20:19:02.987Z"
   },
   {
    "duration": 12,
    "start_time": "2023-05-16T20:19:03.006Z"
   },
   {
    "duration": 9,
    "start_time": "2023-05-16T20:19:03.020Z"
   },
   {
    "duration": 16,
    "start_time": "2023-05-16T20:19:03.031Z"
   },
   {
    "duration": 13,
    "start_time": "2023-05-16T20:19:03.049Z"
   },
   {
    "duration": 38,
    "start_time": "2023-05-16T20:19:03.063Z"
   },
   {
    "duration": 755,
    "start_time": "2023-05-16T20:19:03.103Z"
   },
   {
    "duration": 343,
    "start_time": "2023-05-16T20:19:03.860Z"
   },
   {
    "duration": 1330,
    "start_time": "2023-05-16T20:19:04.205Z"
   },
   {
    "duration": 570,
    "start_time": "2023-05-16T20:19:05.537Z"
   },
   {
    "duration": 159,
    "start_time": "2023-05-16T20:19:06.109Z"
   },
   {
    "duration": 269,
    "start_time": "2023-05-16T20:19:06.270Z"
   },
   {
    "duration": 584,
    "start_time": "2023-05-16T20:19:06.540Z"
   },
   {
    "duration": 691,
    "start_time": "2023-05-16T20:19:07.126Z"
   },
   {
    "duration": 5,
    "start_time": "2023-05-16T20:19:07.820Z"
   },
   {
    "duration": 23,
    "start_time": "2023-05-16T20:19:07.827Z"
   },
   {
    "duration": 5,
    "start_time": "2023-05-16T20:19:07.852Z"
   },
   {
    "duration": 13,
    "start_time": "2023-05-16T20:19:07.859Z"
   },
   {
    "duration": 20,
    "start_time": "2023-05-16T20:19:07.874Z"
   },
   {
    "duration": 27270,
    "start_time": "2023-05-16T20:19:07.895Z"
   },
   {
    "duration": 0,
    "start_time": "2023-05-16T20:19:35.167Z"
   },
   {
    "duration": 0,
    "start_time": "2023-05-16T20:19:35.169Z"
   },
   {
    "duration": 0,
    "start_time": "2023-05-16T20:19:35.171Z"
   },
   {
    "duration": 0,
    "start_time": "2023-05-16T20:19:35.172Z"
   },
   {
    "duration": 0,
    "start_time": "2023-05-16T20:19:35.174Z"
   },
   {
    "duration": 0,
    "start_time": "2023-05-16T20:19:35.175Z"
   },
   {
    "duration": 9,
    "start_time": "2023-05-16T20:20:47.215Z"
   },
   {
    "duration": 4,
    "start_time": "2023-05-16T20:20:50.005Z"
   },
   {
    "duration": 3,
    "start_time": "2023-05-16T20:47:43.878Z"
   },
   {
    "duration": 4,
    "start_time": "2023-05-16T20:48:04.798Z"
   },
   {
    "duration": 4,
    "start_time": "2023-05-16T20:49:00.330Z"
   },
   {
    "duration": 4,
    "start_time": "2023-05-16T20:53:10.690Z"
   },
   {
    "duration": 5,
    "start_time": "2023-05-16T21:27:18.092Z"
   },
   {
    "duration": 5,
    "start_time": "2023-05-16T21:28:28.954Z"
   },
   {
    "duration": 13,
    "start_time": "2023-05-16T21:29:28.062Z"
   },
   {
    "duration": 17,
    "start_time": "2023-05-16T21:31:02.239Z"
   },
   {
    "duration": 17,
    "start_time": "2023-05-16T21:32:28.340Z"
   },
   {
    "duration": 58998,
    "start_time": "2023-05-16T21:32:59.096Z"
   },
   {
    "duration": 4,
    "start_time": "2023-05-16T21:34:17.655Z"
   },
   {
    "duration": 54,
    "start_time": "2023-05-16T21:34:17.661Z"
   },
   {
    "duration": 3,
    "start_time": "2023-05-16T21:34:17.716Z"
   },
   {
    "duration": 10,
    "start_time": "2023-05-16T21:34:17.721Z"
   },
   {
    "duration": 7,
    "start_time": "2023-05-16T21:34:17.733Z"
   },
   {
    "duration": 11,
    "start_time": "2023-05-16T21:34:17.741Z"
   },
   {
    "duration": 6,
    "start_time": "2023-05-16T21:34:17.754Z"
   },
   {
    "duration": 45,
    "start_time": "2023-05-16T21:34:17.762Z"
   },
   {
    "duration": 12,
    "start_time": "2023-05-16T21:34:17.809Z"
   },
   {
    "duration": 16,
    "start_time": "2023-05-16T21:34:17.823Z"
   },
   {
    "duration": 751,
    "start_time": "2023-05-16T21:34:17.842Z"
   },
   {
    "duration": 272,
    "start_time": "2023-05-16T21:34:18.595Z"
   },
   {
    "duration": 1337,
    "start_time": "2023-05-16T21:34:18.868Z"
   },
   {
    "duration": 619,
    "start_time": "2023-05-16T21:34:20.208Z"
   },
   {
    "duration": 307,
    "start_time": "2023-05-16T21:34:20.828Z"
   },
   {
    "duration": 290,
    "start_time": "2023-05-16T21:34:21.136Z"
   },
   {
    "duration": 614,
    "start_time": "2023-05-16T21:34:21.428Z"
   },
   {
    "duration": 666,
    "start_time": "2023-05-16T21:34:22.045Z"
   },
   {
    "duration": 5,
    "start_time": "2023-05-16T21:34:22.713Z"
   },
   {
    "duration": 13,
    "start_time": "2023-05-16T21:34:22.720Z"
   },
   {
    "duration": 11,
    "start_time": "2023-05-16T21:34:22.736Z"
   },
   {
    "duration": 25,
    "start_time": "2023-05-16T21:34:22.749Z"
   },
   {
    "duration": 10,
    "start_time": "2023-05-16T21:34:22.789Z"
   },
   {
    "duration": 113789,
    "start_time": "2023-05-16T21:34:39.224Z"
   },
   {
    "duration": 4,
    "start_time": "2023-05-16T21:38:34.319Z"
   },
   {
    "duration": 113328,
    "start_time": "2023-05-16T21:38:44.586Z"
   },
   {
    "duration": 296393,
    "start_time": "2023-05-16T21:57:23.902Z"
   },
   {
    "duration": 1506,
    "start_time": "2023-05-17T07:35:23.881Z"
   },
   {
    "duration": 141,
    "start_time": "2023-05-17T07:35:25.389Z"
   },
   {
    "duration": 2,
    "start_time": "2023-05-17T07:35:25.531Z"
   },
   {
    "duration": 9,
    "start_time": "2023-05-17T07:35:25.535Z"
   },
   {
    "duration": 7,
    "start_time": "2023-05-17T07:35:25.545Z"
   },
   {
    "duration": 5,
    "start_time": "2023-05-17T07:35:25.553Z"
   },
   {
    "duration": 5,
    "start_time": "2023-05-17T07:35:25.559Z"
   },
   {
    "duration": 9,
    "start_time": "2023-05-17T07:35:25.565Z"
   },
   {
    "duration": 9,
    "start_time": "2023-05-17T07:35:25.575Z"
   },
   {
    "duration": 25,
    "start_time": "2023-05-17T07:35:25.585Z"
   },
   {
    "duration": 642,
    "start_time": "2023-05-17T07:35:25.611Z"
   },
   {
    "duration": 303,
    "start_time": "2023-05-17T07:35:26.254Z"
   },
   {
    "duration": 1219,
    "start_time": "2023-05-17T07:35:26.559Z"
   },
   {
    "duration": 522,
    "start_time": "2023-05-17T07:35:27.781Z"
   },
   {
    "duration": 143,
    "start_time": "2023-05-17T07:35:28.305Z"
   },
   {
    "duration": 242,
    "start_time": "2023-05-17T07:35:28.449Z"
   },
   {
    "duration": 515,
    "start_time": "2023-05-17T07:35:28.692Z"
   },
   {
    "duration": 577,
    "start_time": "2023-05-17T07:35:29.208Z"
   },
   {
    "duration": 3,
    "start_time": "2023-05-17T07:35:29.787Z"
   },
   {
    "duration": 31,
    "start_time": "2023-05-17T07:35:29.791Z"
   },
   {
    "duration": 37,
    "start_time": "2023-05-17T07:35:29.823Z"
   },
   {
    "duration": 33,
    "start_time": "2023-05-17T07:35:29.861Z"
   },
   {
    "duration": 14,
    "start_time": "2023-05-17T07:35:29.895Z"
   },
   {
    "duration": 732,
    "start_time": "2023-05-17T07:36:34.883Z"
   },
   {
    "duration": 770,
    "start_time": "2023-05-17T07:36:50.547Z"
   },
   {
    "duration": 829,
    "start_time": "2023-05-17T07:37:02.678Z"
   },
   {
    "duration": 909,
    "start_time": "2023-05-17T07:37:22.804Z"
   },
   {
    "duration": 957,
    "start_time": "2023-05-17T07:37:28.757Z"
   },
   {
    "duration": 835,
    "start_time": "2023-05-17T07:37:33.377Z"
   },
   {
    "duration": 910,
    "start_time": "2023-05-17T07:37:37.604Z"
   },
   {
    "duration": 885,
    "start_time": "2023-05-17T07:37:42.034Z"
   },
   {
    "duration": 980,
    "start_time": "2023-05-17T07:38:30.432Z"
   },
   {
    "duration": 1139,
    "start_time": "2023-05-17T07:38:51.375Z"
   },
   {
    "duration": 1215,
    "start_time": "2023-05-17T07:38:56.699Z"
   },
   {
    "duration": 1395,
    "start_time": "2023-05-17T07:39:01.920Z"
   },
   {
    "duration": 731,
    "start_time": "2023-05-17T07:39:09.282Z"
   },
   {
    "duration": 906,
    "start_time": "2023-05-17T07:39:13.606Z"
   },
   {
    "duration": 871,
    "start_time": "2023-05-17T07:39:20.839Z"
   },
   {
    "duration": 918,
    "start_time": "2023-05-17T07:39:26.099Z"
   },
   {
    "duration": 1080,
    "start_time": "2023-05-17T07:39:30.832Z"
   },
   {
    "duration": 3619,
    "start_time": "2023-05-17T07:39:35.495Z"
   },
   {
    "duration": 126,
    "start_time": "2023-05-17T07:46:04.692Z"
   },
   {
    "duration": 479455,
    "start_time": "2023-05-17T07:46:33.556Z"
   },
   {
    "duration": 5,
    "start_time": "2023-05-17T07:54:47.579Z"
   },
   {
    "duration": 38074,
    "start_time": "2023-05-17T07:56:02.935Z"
   },
   {
    "duration": 42944,
    "start_time": "2023-05-17T07:58:02.770Z"
   },
   {
    "duration": 5,
    "start_time": "2023-05-17T07:58:59.891Z"
   },
   {
    "duration": 20430,
    "start_time": "2023-05-17T08:00:50.179Z"
   },
   {
    "duration": 4,
    "start_time": "2023-05-17T08:01:21.486Z"
   },
   {
    "duration": 435338,
    "start_time": "2023-05-17T08:04:47.988Z"
   },
   {
    "duration": 4,
    "start_time": "2023-05-17T08:12:18.987Z"
   },
   {
    "duration": 68083,
    "start_time": "2023-05-17T08:14:31.326Z"
   },
   {
    "duration": 4,
    "start_time": "2023-05-17T08:19:22.040Z"
   },
   {
    "duration": 1187,
    "start_time": "2023-05-17T08:22:49.323Z"
   },
   {
    "duration": 139729,
    "start_time": "2023-05-17T08:23:56.406Z"
   },
   {
    "duration": 0,
    "start_time": "2023-05-17T08:26:16.137Z"
   },
   {
    "duration": 3,
    "start_time": "2023-05-17T08:26:32.438Z"
   },
   {
    "duration": 59,
    "start_time": "2023-05-17T08:26:32.443Z"
   },
   {
    "duration": 11,
    "start_time": "2023-05-17T08:26:32.504Z"
   },
   {
    "duration": 6,
    "start_time": "2023-05-17T08:26:32.520Z"
   },
   {
    "duration": 6,
    "start_time": "2023-05-17T08:26:32.528Z"
   },
   {
    "duration": 8,
    "start_time": "2023-05-17T08:26:32.536Z"
   },
   {
    "duration": 13,
    "start_time": "2023-05-17T08:26:32.546Z"
   },
   {
    "duration": 13,
    "start_time": "2023-05-17T08:26:32.560Z"
   },
   {
    "duration": 9,
    "start_time": "2023-05-17T08:26:32.576Z"
   },
   {
    "duration": 17,
    "start_time": "2023-05-17T08:26:32.607Z"
   },
   {
    "duration": 652,
    "start_time": "2023-05-17T08:26:32.626Z"
   },
   {
    "duration": 221,
    "start_time": "2023-05-17T08:26:33.280Z"
   },
   {
    "duration": 1063,
    "start_time": "2023-05-17T08:26:33.515Z"
   },
   {
    "duration": 604,
    "start_time": "2023-05-17T08:26:34.580Z"
   },
   {
    "duration": 138,
    "start_time": "2023-05-17T08:26:35.186Z"
   },
   {
    "duration": 224,
    "start_time": "2023-05-17T08:26:35.325Z"
   },
   {
    "duration": 471,
    "start_time": "2023-05-17T08:26:35.550Z"
   },
   {
    "duration": 480,
    "start_time": "2023-05-17T08:26:36.022Z"
   },
   {
    "duration": 6,
    "start_time": "2023-05-17T08:26:36.505Z"
   },
   {
    "duration": 11,
    "start_time": "2023-05-17T08:26:36.512Z"
   },
   {
    "duration": 17,
    "start_time": "2023-05-17T08:26:36.525Z"
   },
   {
    "duration": 12,
    "start_time": "2023-05-17T08:26:36.543Z"
   },
   {
    "duration": 21,
    "start_time": "2023-05-17T08:26:36.556Z"
   },
   {
    "duration": 41,
    "start_time": "2023-05-17T08:26:36.580Z"
   },
   {
    "duration": 0,
    "start_time": "2023-05-17T08:26:36.622Z"
   },
   {
    "duration": 0,
    "start_time": "2023-05-17T08:26:36.623Z"
   },
   {
    "duration": 0,
    "start_time": "2023-05-17T08:26:36.624Z"
   },
   {
    "duration": 0,
    "start_time": "2023-05-17T08:26:36.625Z"
   },
   {
    "duration": 0,
    "start_time": "2023-05-17T08:26:36.626Z"
   },
   {
    "duration": 0,
    "start_time": "2023-05-17T08:26:36.627Z"
   },
   {
    "duration": 4,
    "start_time": "2023-05-17T08:32:29.996Z"
   },
   {
    "duration": 4,
    "start_time": "2023-05-17T08:32:36.552Z"
   },
   {
    "duration": 260457,
    "start_time": "2023-05-17T08:32:36.557Z"
   },
   {
    "duration": 4,
    "start_time": "2023-05-17T08:36:57.016Z"
   },
   {
    "duration": 41077,
    "start_time": "2023-05-17T08:36:57.029Z"
   },
   {
    "duration": 3,
    "start_time": "2023-05-17T08:37:38.109Z"
   },
   {
    "duration": 1308250,
    "start_time": "2023-05-17T08:37:38.114Z"
   },
   {
    "duration": 0,
    "start_time": "2023-05-17T08:59:26.366Z"
   },
   {
    "duration": 0,
    "start_time": "2023-05-17T08:59:26.367Z"
   },
   {
    "duration": 0,
    "start_time": "2023-05-17T08:59:26.368Z"
   },
   {
    "duration": 0,
    "start_time": "2023-05-17T08:59:26.369Z"
   },
   {
    "duration": 0,
    "start_time": "2023-05-17T08:59:26.371Z"
   },
   {
    "duration": 6,
    "start_time": "2023-05-17T09:00:50.450Z"
   },
   {
    "duration": 5,
    "start_time": "2023-05-17T09:01:14.073Z"
   },
   {
    "duration": 9,
    "start_time": "2023-05-17T09:01:18.937Z"
   },
   {
    "duration": 173614,
    "start_time": "2023-05-17T09:01:18.949Z"
   },
   {
    "duration": 0,
    "start_time": "2023-05-17T09:04:12.566Z"
   },
   {
    "duration": 0,
    "start_time": "2023-05-17T09:04:12.567Z"
   },
   {
    "duration": 0,
    "start_time": "2023-05-17T09:04:12.569Z"
   },
   {
    "duration": 0,
    "start_time": "2023-05-17T09:04:12.570Z"
   },
   {
    "duration": 0,
    "start_time": "2023-05-17T09:04:12.572Z"
   },
   {
    "duration": 0,
    "start_time": "2023-05-17T09:04:12.610Z"
   },
   {
    "duration": 0,
    "start_time": "2023-05-17T09:04:12.612Z"
   },
   {
    "duration": 0,
    "start_time": "2023-05-17T09:04:12.616Z"
   },
   {
    "duration": 15326,
    "start_time": "2023-05-17T09:05:18.534Z"
   },
   {
    "duration": 148929,
    "start_time": "2023-05-17T09:06:08.229Z"
   },
   {
    "duration": 11,
    "start_time": "2023-05-17T09:08:39.756Z"
   },
   {
    "duration": 23,
    "start_time": "2023-05-17T09:08:44.369Z"
   },
   {
    "duration": 35,
    "start_time": "2023-05-17T09:10:17.767Z"
   },
   {
    "duration": 56,
    "start_time": "2023-05-17T09:12:18.565Z"
   },
   {
    "duration": 68,
    "start_time": "2023-05-17T09:13:21.780Z"
   },
   {
    "duration": 10,
    "start_time": "2023-05-17T09:13:43.368Z"
   },
   {
    "duration": 16,
    "start_time": "2023-05-17T09:14:03.524Z"
   },
   {
    "duration": 42953,
    "start_time": "2023-05-17T09:15:37.082Z"
   },
   {
    "duration": 101687,
    "start_time": "2023-05-17T09:16:34.533Z"
   },
   {
    "duration": 6,
    "start_time": "2023-05-17T09:18:59.243Z"
   },
   {
    "duration": 184136,
    "start_time": "2023-05-17T09:21:49.175Z"
   },
   {
    "duration": 4,
    "start_time": "2023-05-17T11:01:43.470Z"
   },
   {
    "duration": 6,
    "start_time": "2023-05-17T11:01:48.378Z"
   },
   {
    "duration": 4,
    "start_time": "2023-05-17T11:02:08.732Z"
   },
   {
    "duration": 9,
    "start_time": "2023-05-17T11:03:31.955Z"
   },
   {
    "duration": 5,
    "start_time": "2023-05-17T11:04:11.895Z"
   },
   {
    "duration": 7,
    "start_time": "2023-05-17T11:04:31.183Z"
   },
   {
    "duration": 8,
    "start_time": "2023-05-17T11:04:56.440Z"
   },
   {
    "duration": 3513,
    "start_time": "2023-05-18T09:34:09.723Z"
   },
   {
    "duration": 141,
    "start_time": "2023-05-18T09:34:13.239Z"
   },
   {
    "duration": 0,
    "start_time": "2023-05-18T09:34:13.383Z"
   },
   {
    "duration": 0,
    "start_time": "2023-05-18T09:34:13.384Z"
   },
   {
    "duration": 0,
    "start_time": "2023-05-18T09:34:13.385Z"
   },
   {
    "duration": 0,
    "start_time": "2023-05-18T09:34:13.386Z"
   },
   {
    "duration": 0,
    "start_time": "2023-05-18T09:34:13.388Z"
   },
   {
    "duration": 0,
    "start_time": "2023-05-18T09:34:13.389Z"
   },
   {
    "duration": 0,
    "start_time": "2023-05-18T09:34:13.390Z"
   },
   {
    "duration": 0,
    "start_time": "2023-05-18T09:34:13.391Z"
   },
   {
    "duration": 0,
    "start_time": "2023-05-18T09:34:13.392Z"
   },
   {
    "duration": 0,
    "start_time": "2023-05-18T09:34:13.393Z"
   },
   {
    "duration": 0,
    "start_time": "2023-05-18T09:34:13.393Z"
   },
   {
    "duration": 0,
    "start_time": "2023-05-18T09:34:13.394Z"
   },
   {
    "duration": 0,
    "start_time": "2023-05-18T09:34:13.396Z"
   },
   {
    "duration": 0,
    "start_time": "2023-05-18T09:34:13.396Z"
   },
   {
    "duration": 0,
    "start_time": "2023-05-18T09:34:13.398Z"
   },
   {
    "duration": 0,
    "start_time": "2023-05-18T09:34:13.399Z"
   },
   {
    "duration": 0,
    "start_time": "2023-05-18T09:34:13.400Z"
   },
   {
    "duration": 0,
    "start_time": "2023-05-18T09:34:13.401Z"
   },
   {
    "duration": 0,
    "start_time": "2023-05-18T09:34:13.402Z"
   },
   {
    "duration": 0,
    "start_time": "2023-05-18T09:34:13.403Z"
   },
   {
    "duration": 0,
    "start_time": "2023-05-18T09:34:13.404Z"
   },
   {
    "duration": 0,
    "start_time": "2023-05-18T09:34:13.405Z"
   },
   {
    "duration": 0,
    "start_time": "2023-05-18T09:34:13.405Z"
   },
   {
    "duration": 0,
    "start_time": "2023-05-18T09:34:13.406Z"
   },
   {
    "duration": 0,
    "start_time": "2023-05-18T09:34:13.407Z"
   },
   {
    "duration": 0,
    "start_time": "2023-05-18T09:34:13.408Z"
   },
   {
    "duration": 0,
    "start_time": "2023-05-18T09:34:13.409Z"
   },
   {
    "duration": 0,
    "start_time": "2023-05-18T09:34:13.410Z"
   },
   {
    "duration": 0,
    "start_time": "2023-05-18T09:34:13.411Z"
   },
   {
    "duration": 0,
    "start_time": "2023-05-18T09:34:13.413Z"
   },
   {
    "duration": 0,
    "start_time": "2023-05-18T09:34:13.413Z"
   },
   {
    "duration": 0,
    "start_time": "2023-05-18T09:34:13.414Z"
   },
   {
    "duration": 0,
    "start_time": "2023-05-18T09:34:13.415Z"
   },
   {
    "duration": 0,
    "start_time": "2023-05-18T09:34:13.416Z"
   },
   {
    "duration": 0,
    "start_time": "2023-05-18T09:34:13.417Z"
   },
   {
    "duration": 142,
    "start_time": "2023-05-18T09:35:24.624Z"
   },
   {
    "duration": 3,
    "start_time": "2023-05-18T09:35:24.768Z"
   },
   {
    "duration": 30,
    "start_time": "2023-05-18T09:35:24.773Z"
   },
   {
    "duration": 9,
    "start_time": "2023-05-18T09:35:24.806Z"
   },
   {
    "duration": 17,
    "start_time": "2023-05-18T09:35:24.817Z"
   },
   {
    "duration": 24,
    "start_time": "2023-05-18T09:35:24.836Z"
   },
   {
    "duration": 11,
    "start_time": "2023-05-18T09:35:24.862Z"
   },
   {
    "duration": 17,
    "start_time": "2023-05-18T09:35:24.875Z"
   },
   {
    "duration": 11,
    "start_time": "2023-05-18T09:35:24.894Z"
   },
   {
    "duration": 726,
    "start_time": "2023-05-18T09:35:24.910Z"
   },
   {
    "duration": 264,
    "start_time": "2023-05-18T09:35:25.637Z"
   },
   {
    "duration": 1432,
    "start_time": "2023-05-18T09:35:25.902Z"
   },
   {
    "duration": 1018,
    "start_time": "2023-05-18T09:35:27.387Z"
   },
   {
    "duration": 589,
    "start_time": "2023-05-18T09:35:28.407Z"
   },
   {
    "duration": 304,
    "start_time": "2023-05-18T09:35:28.997Z"
   },
   {
    "duration": 573,
    "start_time": "2023-05-18T09:35:29.303Z"
   },
   {
    "duration": 597,
    "start_time": "2023-05-18T09:35:29.877Z"
   },
   {
    "duration": 12,
    "start_time": "2023-05-18T09:35:30.476Z"
   },
   {
    "duration": 59,
    "start_time": "2023-05-18T09:35:30.491Z"
   },
   {
    "duration": 35,
    "start_time": "2023-05-18T09:35:30.552Z"
   },
   {
    "duration": 66,
    "start_time": "2023-05-18T09:35:30.589Z"
   },
   {
    "duration": 44,
    "start_time": "2023-05-18T09:35:30.657Z"
   },
   {
    "duration": 56,
    "start_time": "2023-05-18T09:35:30.703Z"
   },
   {
    "duration": 70,
    "start_time": "2023-05-18T09:35:30.761Z"
   },
   {
    "duration": 104,
    "start_time": "2023-05-18T09:35:30.833Z"
   },
   {
    "duration": 1450,
    "start_time": "2023-05-18T09:35:30.938Z"
   },
   {
    "duration": 8,
    "start_time": "2023-05-18T09:35:32.390Z"
   },
   {
    "duration": 2687,
    "start_time": "2023-05-18T09:35:32.401Z"
   },
   {
    "duration": 7,
    "start_time": "2023-05-18T09:35:35.090Z"
   },
   {
    "duration": 2904,
    "start_time": "2023-05-18T09:35:35.099Z"
   },
   {
    "duration": 0,
    "start_time": "2023-05-18T09:35:38.004Z"
   },
   {
    "duration": 0,
    "start_time": "2023-05-18T09:35:38.005Z"
   },
   {
    "duration": 0,
    "start_time": "2023-05-18T09:35:38.007Z"
   },
   {
    "duration": 0,
    "start_time": "2023-05-18T09:35:38.008Z"
   },
   {
    "duration": 0,
    "start_time": "2023-05-18T09:35:38.009Z"
   },
   {
    "duration": 0,
    "start_time": "2023-05-18T09:35:38.010Z"
   },
   {
    "duration": 3097,
    "start_time": "2023-05-18T09:36:36.408Z"
   },
   {
    "duration": 1815,
    "start_time": "2023-05-18T10:03:13.666Z"
   },
   {
    "duration": 150,
    "start_time": "2023-05-18T10:03:15.484Z"
   },
   {
    "duration": 3,
    "start_time": "2023-05-18T10:03:15.637Z"
   },
   {
    "duration": 13,
    "start_time": "2023-05-18T10:03:15.642Z"
   },
   {
    "duration": 9,
    "start_time": "2023-05-18T10:03:15.657Z"
   },
   {
    "duration": 17,
    "start_time": "2023-05-18T10:03:15.668Z"
   },
   {
    "duration": 10,
    "start_time": "2023-05-18T10:03:15.687Z"
   },
   {
    "duration": 13,
    "start_time": "2023-05-18T10:03:15.699Z"
   },
   {
    "duration": 13,
    "start_time": "2023-05-18T10:03:15.714Z"
   },
   {
    "duration": 16,
    "start_time": "2023-05-18T10:03:15.729Z"
   },
   {
    "duration": 794,
    "start_time": "2023-05-18T10:03:15.747Z"
   },
   {
    "duration": 368,
    "start_time": "2023-05-18T10:03:16.543Z"
   },
   {
    "duration": 1460,
    "start_time": "2023-05-18T10:03:16.913Z"
   },
   {
    "duration": 568,
    "start_time": "2023-05-18T10:03:18.376Z"
   },
   {
    "duration": 175,
    "start_time": "2023-05-18T10:03:18.946Z"
   },
   {
    "duration": 295,
    "start_time": "2023-05-18T10:03:19.124Z"
   },
   {
    "duration": 634,
    "start_time": "2023-05-18T10:03:19.421Z"
   },
   {
    "duration": 812,
    "start_time": "2023-05-18T10:03:20.057Z"
   },
   {
    "duration": 5,
    "start_time": "2023-05-18T10:03:20.870Z"
   },
   {
    "duration": 33,
    "start_time": "2023-05-18T10:03:20.876Z"
   },
   {
    "duration": 11,
    "start_time": "2023-05-18T10:03:20.912Z"
   },
   {
    "duration": 15,
    "start_time": "2023-05-18T10:03:20.925Z"
   },
   {
    "duration": 15,
    "start_time": "2023-05-18T10:03:20.942Z"
   },
   {
    "duration": 26,
    "start_time": "2023-05-18T10:03:20.959Z"
   },
   {
    "duration": 13,
    "start_time": "2023-05-18T10:03:20.987Z"
   },
   {
    "duration": 101,
    "start_time": "2023-05-18T10:03:21.002Z"
   },
   {
    "duration": 7389,
    "start_time": "2023-05-18T10:03:21.107Z"
   },
   {
    "duration": 5,
    "start_time": "2023-05-18T10:03:28.498Z"
   },
   {
    "duration": 33884,
    "start_time": "2023-05-18T10:03:28.504Z"
   },
   {
    "duration": 6,
    "start_time": "2023-05-18T10:04:02.390Z"
   },
   {
    "duration": 79966,
    "start_time": "2023-05-18T10:04:02.398Z"
   },
   {
    "duration": 0,
    "start_time": "2023-05-18T10:05:22.365Z"
   },
   {
    "duration": 0,
    "start_time": "2023-05-18T10:05:22.367Z"
   },
   {
    "duration": 0,
    "start_time": "2023-05-18T10:05:22.368Z"
   },
   {
    "duration": 0,
    "start_time": "2023-05-18T10:05:22.369Z"
   },
   {
    "duration": 0,
    "start_time": "2023-05-18T10:05:22.370Z"
   },
   {
    "duration": 0,
    "start_time": "2023-05-18T10:05:22.371Z"
   },
   {
    "duration": 62904,
    "start_time": "2023-05-18T10:06:22.689Z"
   },
   {
    "duration": 60538,
    "start_time": "2023-05-18T10:07:49.464Z"
   },
   {
    "duration": 5,
    "start_time": "2023-05-18T10:09:06.288Z"
   },
   {
    "duration": 2145,
    "start_time": "2023-05-18T10:09:06.296Z"
   },
   {
    "duration": 5,
    "start_time": "2023-05-18T10:09:08.442Z"
   },
   {
    "duration": 51468,
    "start_time": "2023-05-18T10:09:08.449Z"
   },
   {
    "duration": 7,
    "start_time": "2023-05-18T10:09:59.920Z"
   },
   {
    "duration": 27062,
    "start_time": "2023-05-18T10:09:59.930Z"
   },
   {
    "duration": 1536,
    "start_time": "2023-05-18T10:11:33.717Z"
   },
   {
    "duration": 49,
    "start_time": "2023-05-18T10:11:35.255Z"
   },
   {
    "duration": 3,
    "start_time": "2023-05-18T10:11:35.306Z"
   },
   {
    "duration": 16,
    "start_time": "2023-05-18T10:11:35.311Z"
   },
   {
    "duration": 8,
    "start_time": "2023-05-18T10:11:35.330Z"
   },
   {
    "duration": 10,
    "start_time": "2023-05-18T10:11:35.340Z"
   },
   {
    "duration": 8,
    "start_time": "2023-05-18T10:11:35.351Z"
   },
   {
    "duration": 33,
    "start_time": "2023-05-18T10:11:35.361Z"
   },
   {
    "duration": 13,
    "start_time": "2023-05-18T10:11:35.396Z"
   },
   {
    "duration": 14,
    "start_time": "2023-05-18T10:11:35.411Z"
   },
   {
    "duration": 805,
    "start_time": "2023-05-18T10:11:35.428Z"
   },
   {
    "duration": 352,
    "start_time": "2023-05-18T10:11:36.235Z"
   },
   {
    "duration": 1262,
    "start_time": "2023-05-18T10:11:36.589Z"
   },
   {
    "duration": 561,
    "start_time": "2023-05-18T10:11:37.854Z"
   },
   {
    "duration": 172,
    "start_time": "2023-05-18T10:11:38.416Z"
   },
   {
    "duration": 272,
    "start_time": "2023-05-18T10:11:38.590Z"
   },
   {
    "duration": 593,
    "start_time": "2023-05-18T10:11:38.864Z"
   },
   {
    "duration": 676,
    "start_time": "2023-05-18T10:11:39.459Z"
   },
   {
    "duration": 4,
    "start_time": "2023-05-18T10:11:40.137Z"
   },
   {
    "duration": 26,
    "start_time": "2023-05-18T10:11:40.143Z"
   },
   {
    "duration": 44,
    "start_time": "2023-05-18T10:11:40.171Z"
   },
   {
    "duration": 32,
    "start_time": "2023-05-18T10:11:40.218Z"
   },
   {
    "duration": 136,
    "start_time": "2023-05-18T10:11:40.252Z"
   },
   {
    "duration": 41,
    "start_time": "2023-05-18T10:11:40.390Z"
   },
   {
    "duration": 22,
    "start_time": "2023-05-18T10:11:40.433Z"
   },
   {
    "duration": 82,
    "start_time": "2023-05-18T10:11:40.457Z"
   },
   {
    "duration": 44056,
    "start_time": "2023-05-18T10:11:40.541Z"
   },
   {
    "duration": 6,
    "start_time": "2023-05-18T10:12:24.599Z"
   },
   {
    "duration": 117392,
    "start_time": "2023-05-18T10:12:24.606Z"
   },
   {
    "duration": 7,
    "start_time": "2023-05-18T10:14:22.000Z"
   },
   {
    "duration": 123886,
    "start_time": "2023-05-18T10:14:22.008Z"
   },
   {
    "duration": 5,
    "start_time": "2023-05-18T10:16:25.897Z"
   },
   {
    "duration": 2132,
    "start_time": "2023-05-18T10:16:25.904Z"
   },
   {
    "duration": 5,
    "start_time": "2023-05-18T10:16:28.038Z"
   },
   {
    "duration": 93254,
    "start_time": "2023-05-18T10:16:28.046Z"
   },
   {
    "duration": 7,
    "start_time": "2023-05-18T10:18:01.301Z"
   },
   {
    "duration": 22579,
    "start_time": "2023-05-18T10:18:01.309Z"
   }
  ],
  "kernelspec": {
   "display_name": "Python 3 (ipykernel)",
   "language": "python",
   "name": "python3"
  },
  "language_info": {
   "codemirror_mode": {
    "name": "ipython",
    "version": 3
   },
   "file_extension": ".py",
   "mimetype": "text/x-python",
   "name": "python",
   "nbconvert_exporter": "python",
   "pygments_lexer": "ipython3",
   "version": "3.9.13"
  },
  "nbTranslate": {
   "displayLangs": [],
   "hotkey": "alt-t",
   "langInMainMenu": true,
   "sourceLang": "ru",
   "targetLang": "en",
   "useGoogleTranslate": true
  },
  "toc": {
   "base_numbering": 1,
   "nav_menu": {},
   "number_sections": true,
   "sideBar": true,
   "skip_h1_title": true,
   "title_cell": "Содержание",
   "title_sidebar": "Contents",
   "toc_cell": false,
   "toc_position": {
    "height": "calc(100% - 180px)",
    "left": "10px",
    "top": "150px",
    "width": "165px"
   },
   "toc_section_display": true,
   "toc_window_display": true
  }
 },
 "nbformat": 4,
 "nbformat_minor": 2
}
