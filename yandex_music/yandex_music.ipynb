{
 "cells": [
  {
   "cell_type": "markdown",
   "metadata": {},
   "source": [
    "# Yandex music"
   ]
  },
  {
   "cell_type": "markdown",
   "metadata": {
    "lang": "en"
   },
   "source": [
    "The comparison between Moscow and St. Petersburg is surrounded by myths. For example:\n",
    "\n",
    "* Moscow is a metropolis, subject to the rigid rhythm of the working week; \n",
    "* St. Petersburg is the cultural capital, with its own tastes.\n",
    "\n",
    "Using Yandex Music data, you will compare the behavior of users in two capitals.\n",
    "\n",
    "**The purpose of the study** is to test three hypotheses:\n",
    "1. User activity depends on the day of the week. Moreover, in Moscow and St. Petersburg this manifests itself in different ways.\n",
    "2. On Monday morning in Moscow, some genres prevail, and in St. Petersburg - others. Likewise, on Friday evenings, different genres predominate, depending on the city.\n",
    "3. Moscow and St. Petersburg prefer different genres of music. In Moscow people listen to pop music more often, in St. Petersburg they listen to Russian rap.\n",
    "\n",
    "**Progress of research**\n",
    "\n",
    "You will receive data on user behavior from the `yandex_music_project.csv` file. Nothing is known about the quality of the data. Therefore, a review of the data will be needed before testing hypotheses.\n",
    "\n",
    "You will check data for errors and evaluate their impact on the study. Then, during the preprocessing phase, you look to correct the most critical data errors.\n",
    " \n",
    "Thus, the research will take place in three stages:\n",
    " 1. Review of data.\n",
    " 2. Data preprocessing.\n",
    " 3. Testing hypotheses."
   ]
  },
  {
   "cell_type": "markdown",
   "metadata": {
    "deletable": false,
    "editable": false,
    "id": "Ml1hmfXC_Zcs"
   },
   "source": [
    "## Data review"
   ]
  },
  {
   "cell_type": "code",
   "execution_count": 113,
   "metadata": {
    "deletable": false,
    "id": "AXN7PHPN_Zcs"
   },
   "outputs": [],
   "source": [
    "import pandas as pd"
   ]
  },
  {
   "cell_type": "code",
   "execution_count": 114,
   "metadata": {
    "deletable": false,
    "id": "fFVu7vqh_Zct"
   },
   "outputs": [],
   "source": [
    "df = pd.read_csv('/datasets/yandex_music_project.csv')"
   ]
  },
  {
   "cell_type": "code",
   "execution_count": 115,
   "metadata": {
    "deletable": false,
    "id": "oWTVX3gW_Zct"
   },
   "outputs": [
    {
     "data": {
      "text/html": [
       "<div>\n",
       "<style scoped>\n",
       "    .dataframe tbody tr th:only-of-type {\n",
       "        vertical-align: middle;\n",
       "    }\n",
       "\n",
       "    .dataframe tbody tr th {\n",
       "        vertical-align: top;\n",
       "    }\n",
       "\n",
       "    .dataframe thead th {\n",
       "        text-align: right;\n",
       "    }\n",
       "</style>\n",
       "<table border=\"1\" class=\"dataframe\">\n",
       "  <thead>\n",
       "    <tr style=\"text-align: right;\">\n",
       "      <th></th>\n",
       "      <th>userID</th>\n",
       "      <th>Track</th>\n",
       "      <th>artist</th>\n",
       "      <th>genre</th>\n",
       "      <th>City</th>\n",
       "      <th>time</th>\n",
       "      <th>Day</th>\n",
       "    </tr>\n",
       "  </thead>\n",
       "  <tbody>\n",
       "    <tr>\n",
       "      <th>0</th>\n",
       "      <td>FFB692EC</td>\n",
       "      <td>Kamigata To Boots</td>\n",
       "      <td>The Mass Missile</td>\n",
       "      <td>rock</td>\n",
       "      <td>Saint-Petersburg</td>\n",
       "      <td>20:28:33</td>\n",
       "      <td>Wednesday</td>\n",
       "    </tr>\n",
       "    <tr>\n",
       "      <th>1</th>\n",
       "      <td>55204538</td>\n",
       "      <td>Delayed Because of Accident</td>\n",
       "      <td>Andreas Rönnberg</td>\n",
       "      <td>rock</td>\n",
       "      <td>Moscow</td>\n",
       "      <td>14:07:09</td>\n",
       "      <td>Friday</td>\n",
       "    </tr>\n",
       "    <tr>\n",
       "      <th>2</th>\n",
       "      <td>20EC38</td>\n",
       "      <td>Funiculì funiculà</td>\n",
       "      <td>Mario Lanza</td>\n",
       "      <td>pop</td>\n",
       "      <td>Saint-Petersburg</td>\n",
       "      <td>20:58:07</td>\n",
       "      <td>Wednesday</td>\n",
       "    </tr>\n",
       "    <tr>\n",
       "      <th>3</th>\n",
       "      <td>A3DD03C9</td>\n",
       "      <td>Dragons in the Sunset</td>\n",
       "      <td>Fire + Ice</td>\n",
       "      <td>folk</td>\n",
       "      <td>Saint-Petersburg</td>\n",
       "      <td>08:37:09</td>\n",
       "      <td>Monday</td>\n",
       "    </tr>\n",
       "    <tr>\n",
       "      <th>4</th>\n",
       "      <td>E2DC1FAE</td>\n",
       "      <td>Soul People</td>\n",
       "      <td>Space Echo</td>\n",
       "      <td>dance</td>\n",
       "      <td>Moscow</td>\n",
       "      <td>08:34:34</td>\n",
       "      <td>Monday</td>\n",
       "    </tr>\n",
       "    <tr>\n",
       "      <th>5</th>\n",
       "      <td>842029A1</td>\n",
       "      <td>Преданная</td>\n",
       "      <td>IMPERVTOR</td>\n",
       "      <td>rusrap</td>\n",
       "      <td>Saint-Petersburg</td>\n",
       "      <td>13:09:41</td>\n",
       "      <td>Friday</td>\n",
       "    </tr>\n",
       "    <tr>\n",
       "      <th>6</th>\n",
       "      <td>4CB90AA5</td>\n",
       "      <td>True</td>\n",
       "      <td>Roman Messer</td>\n",
       "      <td>dance</td>\n",
       "      <td>Moscow</td>\n",
       "      <td>13:00:07</td>\n",
       "      <td>Wednesday</td>\n",
       "    </tr>\n",
       "    <tr>\n",
       "      <th>7</th>\n",
       "      <td>F03E1C1F</td>\n",
       "      <td>Feeling This Way</td>\n",
       "      <td>Polina Griffith</td>\n",
       "      <td>dance</td>\n",
       "      <td>Moscow</td>\n",
       "      <td>20:47:49</td>\n",
       "      <td>Wednesday</td>\n",
       "    </tr>\n",
       "    <tr>\n",
       "      <th>8</th>\n",
       "      <td>8FA1D3BE</td>\n",
       "      <td>И вновь продолжается бой</td>\n",
       "      <td>NaN</td>\n",
       "      <td>ruspop</td>\n",
       "      <td>Moscow</td>\n",
       "      <td>09:17:40</td>\n",
       "      <td>Friday</td>\n",
       "    </tr>\n",
       "    <tr>\n",
       "      <th>9</th>\n",
       "      <td>E772D5C0</td>\n",
       "      <td>Pessimist</td>\n",
       "      <td>NaN</td>\n",
       "      <td>dance</td>\n",
       "      <td>Saint-Petersburg</td>\n",
       "      <td>21:20:49</td>\n",
       "      <td>Wednesday</td>\n",
       "    </tr>\n",
       "  </tbody>\n",
       "</table>\n",
       "</div>"
      ],
      "text/plain": [
       "     userID                        Track            artist   genre  \\\n",
       "0  FFB692EC            Kamigata To Boots  The Mass Missile    rock   \n",
       "1  55204538  Delayed Because of Accident  Andreas Rönnberg    rock   \n",
       "2    20EC38            Funiculì funiculà       Mario Lanza     pop   \n",
       "3  A3DD03C9        Dragons in the Sunset        Fire + Ice    folk   \n",
       "4  E2DC1FAE                  Soul People        Space Echo   dance   \n",
       "5  842029A1                    Преданная         IMPERVTOR  rusrap   \n",
       "6  4CB90AA5                         True      Roman Messer   dance   \n",
       "7  F03E1C1F             Feeling This Way   Polina Griffith   dance   \n",
       "8  8FA1D3BE     И вновь продолжается бой               NaN  ruspop   \n",
       "9  E772D5C0                    Pessimist               NaN   dance   \n",
       "\n",
       "             City        time        Day  \n",
       "0  Saint-Petersburg  20:28:33  Wednesday  \n",
       "1            Moscow  14:07:09     Friday  \n",
       "2  Saint-Petersburg  20:58:07  Wednesday  \n",
       "3  Saint-Petersburg  08:37:09     Monday  \n",
       "4            Moscow  08:34:34     Monday  \n",
       "5  Saint-Petersburg  13:09:41     Friday  \n",
       "6            Moscow  13:00:07  Wednesday  \n",
       "7            Moscow  20:47:49  Wednesday  \n",
       "8            Moscow  09:17:40     Friday  \n",
       "9  Saint-Petersburg  21:20:49  Wednesday  "
      ]
     },
     "execution_count": 115,
     "metadata": {},
     "output_type": "execute_result"
    }
   ],
   "source": [
    "df.head(10)"
   ]
  },
  {
   "cell_type": "code",
   "execution_count": 116,
   "metadata": {
    "deletable": false,
    "id": "DSf2kIb-_Zct"
   },
   "outputs": [
    {
     "name": "stdout",
     "output_type": "stream",
     "text": [
      "<class 'pandas.core.frame.DataFrame'>\n",
      "RangeIndex: 65079 entries, 0 to 65078\n",
      "Data columns (total 7 columns):\n",
      " #   Column    Non-Null Count  Dtype \n",
      "---  ------    --------------  ----- \n",
      " 0     userID  65079 non-null  object\n",
      " 1   Track     63848 non-null  object\n",
      " 2   artist    57876 non-null  object\n",
      " 3   genre     63881 non-null  object\n",
      " 4     City    65079 non-null  object\n",
      " 5   time      65079 non-null  object\n",
      " 6   Day       65079 non-null  object\n",
      "dtypes: object(7)\n",
      "memory usage: 3.5+ MB\n"
     ]
    }
   ],
   "source": [
    "df.info()"
   ]
  },
  {
   "cell_type": "markdown",
   "metadata": {
    "deletable": false,
    "editable": false,
    "id": "TaQ2Iwbr_Zct"
   },
   "source": [
    "So, the table has seven columns.Type of data in all columns - `Object`.\n",
    "\n",
    "According to data documentation:\n",
    "\n",
    "* `userID` — user ID;\n",
    "* `Track` — name of the track;  \n",
    "* `artist` — name of the performer;\n",
    "* `genre` — name of the genre;\n",
    "* `City` — city of the user;\n",
    "* `time` — start time of listening;\n",
    "* `Day` — day of the week.\n",
    "\n",
    "The number of values in the columns differs.This means that there are missing values."
   ]
  },
  {
   "cell_type": "markdown",
   "metadata": {
    "deletable": false,
    "editable": false,
    "id": "MCB6-dXG_Zct"
   },
   "source": [
    "**Conclusions**\n",
    "\n",
    "In each line of the table - data on the listed track. Part of the columns describes the composition itself: name, artist and genre. The rest of the data is about the user: from which city he/she is when he/she listened to music. There are missing values"
   ]
  },
  {
   "cell_type": "markdown",
   "metadata": {
    "deletable": false,
    "editable": false,
    "id": "SjYF6Ub9_Zct"
   },
   "source": [
    "## Data preprocessing"
   ]
  },
  {
   "cell_type": "markdown",
   "metadata": {
    "deletable": false,
    "editable": false,
    "id": "dIaKXr29_Zct",
    "tags": [
     "start_task"
    ]
   },
   "source": [
    "### Style"
   ]
  },
  {
   "cell_type": "code",
   "execution_count": 121,
   "metadata": {
    "deletable": false,
    "id": "ISlFqs5y_Zct"
   },
   "outputs": [],
   "source": [
    "df = df.rename(\n",
    "    columns={\n",
    "    '  userID': 'user_id',\n",
    "    'Track': 'track',\n",
    "    '  City  ': 'city',\n",
    "    'Day': 'day'\n",
    "    }\n",
    ") # renaming columns"
   ]
  },
  {
   "cell_type": "code",
   "execution_count": 122,
   "metadata": {
    "deletable": false,
    "id": "d4NOAmTW_Zct"
   },
   "outputs": [
    {
     "data": {
      "text/plain": [
       "Index(['user_id', 'track', 'artist', 'genre', 'city', 'time', 'day'], dtype='object')"
      ]
     },
     "execution_count": 122,
     "metadata": {},
     "output_type": "execute_result"
    }
   ],
   "source": [
    "df.columns # check"
   ]
  },
  {
   "cell_type": "markdown",
   "metadata": {
    "deletable": false,
    "editable": false,
    "id": "5ISfbcfY_Zct",
    "tags": [
     "start_task"
    ]
   },
   "source": [
    "### Missing values"
   ]
  },
  {
   "cell_type": "code",
   "execution_count": 123,
   "metadata": {
    "deletable": false,
    "id": "RskX29qr_Zct"
   },
   "outputs": [
    {
     "data": {
      "text/plain": [
       "user_id       0\n",
       "track      1231\n",
       "artist     7203\n",
       "genre      1198\n",
       "city          0\n",
       "time          0\n",
       "day           0\n",
       "dtype: int64"
      ]
     },
     "execution_count": 123,
     "metadata": {},
     "output_type": "execute_result"
    }
   ],
   "source": [
    "df.isna().sum() # counting NaNs"
   ]
  },
  {
   "cell_type": "markdown",
   "metadata": {
    "deletable": false,
    "editable": false,
    "id": "qubhgnlO_Zct"
   },
   "source": [
    "Not all missed values affect the study.So in `track` and` artist`, passes are not important for the analysis. It is enough to replace them with obvious designations.\n",
    "\n",
    "But missing values in column \"genre\" can interfere with the comparison of musical tastes in Moscow and St. Petersburg. \n",
    "In practice, it would be necessary to correctly establish the cause of the passes and restore data.\n",
    "There is no such opportunity in the educational project, however.\n",
    "\n",
    "Hence, we have to:\n",
    "\n",
    "* fill in these gaps with obvious designations;\n",
    "* evaluate how much they damage the calculations."
   ]
  },
  {
   "cell_type": "code",
   "execution_count": 183,
   "metadata": {
    "deletable": false,
    "id": "KplB5qWs_Zct"
   },
   "outputs": [],
   "source": [
    "columns_to_replace = ['track', 'artist', 'genre']\n",
    "for column in columns_to_replace:\n",
    "    df[column] = df[column].fillna('unknown')"
   ]
  },
  {
   "cell_type": "code",
   "execution_count": 184,
   "metadata": {
    "deletable": false,
    "id": "Tq4nYRX4_Zct"
   },
   "outputs": [
    {
     "data": {
      "text/plain": [
       "user_id    0\n",
       "track      0\n",
       "artist     0\n",
       "genre      0\n",
       "city       0\n",
       "time       0\n",
       "day        0\n",
       "dtype: int64"
      ]
     },
     "execution_count": 184,
     "metadata": {},
     "output_type": "execute_result"
    }
   ],
   "source": [
    "df.isna().sum()"
   ]
  },
  {
   "cell_type": "markdown",
   "metadata": {
    "deletable": false,
    "editable": false,
    "id": "BWKRtBJ3_Zct",
    "tags": [
     "start_task"
    ]
   },
   "source": [
    "### Duplicates"
   ]
  },
  {
   "cell_type": "code",
   "execution_count": 126,
   "metadata": {
    "deletable": false,
    "id": "36eES_S0_Zct"
   },
   "outputs": [
    {
     "data": {
      "text/plain": [
       "3826"
      ]
     },
     "execution_count": 126,
     "metadata": {},
     "output_type": "execute_result"
    }
   ],
   "source": [
    "df.duplicated().sum() # explicit duplicates"
   ]
  },
  {
   "cell_type": "code",
   "execution_count": 131,
   "metadata": {
    "deletable": false,
    "id": "exFHq6tt_Zct",
    "scrolled": true
   },
   "outputs": [],
   "source": [
    "df = df.drop_duplicates() # duplicates deletion"
   ]
  },
  {
   "cell_type": "code",
   "execution_count": 185,
   "metadata": {
    "deletable": false,
    "id": "-8PuNWQ0_Zct"
   },
   "outputs": [
    {
     "data": {
      "text/plain": [
       "0"
      ]
     },
     "execution_count": 185,
     "metadata": {},
     "output_type": "execute_result"
    }
   ],
   "source": [
    "df.duplicated().sum() # check"
   ]
  },
  {
   "cell_type": "markdown",
   "metadata": {
    "deletable": false,
    "editable": false,
    "id": "QlFBsxAr_Zct"
   },
   "source": [
    "Now we get rid of implicit duplicates in the `genre` column. For example, the name of the same genre can be recorded a little differently. Such errors will also affect the results of the study."
   ]
  },
  {
   "cell_type": "code",
   "execution_count": 215,
   "metadata": {
    "deletable": false,
    "id": "JIUcqzZN_Zct"
   },
   "outputs": [
    {
     "data": {
      "text/plain": [
       "array(['acid', 'acoustic', 'action', 'adult', 'africa', 'afrikaans',\n",
       "       'alternative', 'alternativepunk', 'ambient', 'americana',\n",
       "       'animated', 'anime', 'arabesk', 'arabic', 'arena',\n",
       "       'argentinetango', 'art', 'audiobook', 'author', 'avantgarde',\n",
       "       'axé', 'baile', 'balkan', 'beats', 'bigroom', 'black', 'bluegrass',\n",
       "       'blues', 'bollywood', 'bossa', 'brazilian', 'breakbeat', 'breaks',\n",
       "       'broadway', 'cantautori', 'cantopop', 'canzone', 'caribbean',\n",
       "       'caucasian', 'celtic', 'chamber', 'chanson', 'children', 'chill',\n",
       "       'chinese', 'choral', 'christian', 'christmas', 'classical',\n",
       "       'classicmetal', 'club', 'colombian', 'comedy', 'conjazz',\n",
       "       'contemporary', 'country', 'cuban', 'dance', 'dancehall',\n",
       "       'dancepop', 'dark', 'death', 'deep', 'deutschrock', 'deutschspr',\n",
       "       'dirty', 'disco', 'dnb', 'documentary', 'downbeat', 'downtempo',\n",
       "       'drum', 'dub', 'dubstep', 'eastern', 'easy', 'electronic',\n",
       "       'electropop', 'emo', 'entehno', 'epicmetal', 'estrada', 'ethnic',\n",
       "       'eurofolk', 'european', 'experimental', 'extrememetal', 'fado',\n",
       "       'fairytail', 'film', 'fitness', 'flamenco', 'folk', 'folklore',\n",
       "       'folkmetal', 'folkrock', 'folktronica', 'forró', 'frankreich',\n",
       "       'französisch', 'french', 'funk', 'future', 'gangsta', 'garage',\n",
       "       'german', 'ghazal', 'gitarre', 'glitch', 'gospel', 'gothic',\n",
       "       'grime', 'grunge', 'gypsy', 'handsup', \"hard'n'heavy\", 'hardcore',\n",
       "       'hardstyle', 'hardtechno', 'hip-hop', 'hiphop', 'historisch',\n",
       "       'holiday', 'horror', 'house', 'hymn', 'idm', 'independent',\n",
       "       'indian', 'indie', 'indipop', 'industrial', 'inspirational',\n",
       "       'instrumental', 'international', 'irish', 'jam', 'japanese',\n",
       "       'jazz', 'jewish', 'jpop', 'jungle', 'k-pop', 'karadeniz',\n",
       "       'karaoke', 'kayokyoku', 'korean', 'laiko', 'latin', 'latino',\n",
       "       'leftfield', 'local', 'lounge', 'loungeelectronic', 'lovers',\n",
       "       'malaysian', 'mandopop', 'marschmusik', 'meditative',\n",
       "       'mediterranean', 'melodic', 'metal', 'metalcore', 'mexican',\n",
       "       'middle', 'minimal', 'miscellaneous', 'modern', 'mood', 'mpb',\n",
       "       'muslim', 'native', 'neoklassik', 'neue', 'new', 'newage',\n",
       "       'newwave', 'nu', 'nujazz', 'numetal', 'oceania', 'old', 'opera',\n",
       "       'orchestral', 'other', 'piano', 'podcasts', 'pop', 'popdance',\n",
       "       'popelectronic', 'popeurodance', 'poprussian', 'post',\n",
       "       'posthardcore', 'postrock', 'power', 'progmetal', 'progressive',\n",
       "       'psychedelic', 'punjabi', 'punk', 'quebecois', 'ragga', 'ram',\n",
       "       'rancheras', 'rap', 'rave', 'reggae', 'reggaeton', 'regional',\n",
       "       'relax', 'religious', 'retro', 'rhythm', 'rnb', 'rnr', 'rock',\n",
       "       'rockabilly', 'rockalternative', 'rockindie', 'rockother',\n",
       "       'romance', 'roots', 'ruspop', 'rusrap', 'rusrock', 'russian',\n",
       "       'salsa', 'samba', 'scenic', 'schlager', 'self', 'sertanejo',\n",
       "       'shanson', 'shoegazing', 'showtunes', 'singer', 'ska', 'skarock',\n",
       "       'slow', 'smooth', 'soft', 'soul', 'soulful', 'sound', 'soundtrack',\n",
       "       'southern', 'specialty', 'speech', 'spiritual', 'sport',\n",
       "       'stonerrock', 'surf', 'swing', 'synthpop', 'synthrock',\n",
       "       'sängerportrait', 'tango', 'tanzorchester', 'taraftar', 'tatar',\n",
       "       'tech', 'techno', 'teen', 'thrash', 'top', 'traditional',\n",
       "       'tradjazz', 'trance', 'tribal', 'trip', 'triphop', 'tropical',\n",
       "       'türk', 'türkçe', 'ukrrock', 'unknown', 'urban', 'uzbek',\n",
       "       'variété', 'vi', 'videogame', 'vocal', 'western', 'world',\n",
       "       'worldbeat', 'ïîï', 'электроника'], dtype=object)"
      ]
     },
     "execution_count": 215,
     "metadata": {},
     "output_type": "execute_result"
    }
   ],
   "source": [
    "df['genre'].sort_values().unique() # unique genres"
   ]
  },
  {
   "cell_type": "code",
   "execution_count": 216,
   "metadata": {
    "deletable": false,
    "id": "ErNDkmns_Zct"
   },
   "outputs": [],
   "source": [
    "df = df.replace(['hip', 'hop', 'hip-hop'], 'hiphop') # implicit duplicates deletion"
   ]
  },
  {
   "cell_type": "code",
   "execution_count": 218,
   "metadata": {
    "deletable": false,
    "id": "wvixALnFG15m"
   },
   "outputs": [
    {
     "data": {
      "text/plain": [
       "array(['acid', 'acoustic', 'action', 'adult', 'africa', 'afrikaans',\n",
       "       'alternative', 'alternativepunk', 'ambient', 'americana',\n",
       "       'animated', 'anime', 'arabesk', 'arabic', 'arena',\n",
       "       'argentinetango', 'art', 'audiobook', 'author', 'avantgarde',\n",
       "       'axé', 'baile', 'balkan', 'beats', 'bigroom', 'black', 'bluegrass',\n",
       "       'blues', 'bollywood', 'bossa', 'brazilian', 'breakbeat', 'breaks',\n",
       "       'broadway', 'cantautori', 'cantopop', 'canzone', 'caribbean',\n",
       "       'caucasian', 'celtic', 'chamber', 'chanson', 'children', 'chill',\n",
       "       'chinese', 'choral', 'christian', 'christmas', 'classical',\n",
       "       'classicmetal', 'club', 'colombian', 'comedy', 'conjazz',\n",
       "       'contemporary', 'country', 'cuban', 'dance', 'dancehall',\n",
       "       'dancepop', 'dark', 'death', 'deep', 'deutschrock', 'deutschspr',\n",
       "       'dirty', 'disco', 'dnb', 'documentary', 'downbeat', 'downtempo',\n",
       "       'drum', 'dub', 'dubstep', 'eastern', 'easy', 'electronic',\n",
       "       'electropop', 'emo', 'entehno', 'epicmetal', 'estrada', 'ethnic',\n",
       "       'eurofolk', 'european', 'experimental', 'extrememetal', 'fado',\n",
       "       'fairytail', 'film', 'fitness', 'flamenco', 'folk', 'folklore',\n",
       "       'folkmetal', 'folkrock', 'folktronica', 'forró', 'frankreich',\n",
       "       'französisch', 'french', 'funk', 'future', 'gangsta', 'garage',\n",
       "       'german', 'ghazal', 'gitarre', 'glitch', 'gospel', 'gothic',\n",
       "       'grime', 'grunge', 'gypsy', 'handsup', \"hard'n'heavy\", 'hardcore',\n",
       "       'hardstyle', 'hardtechno', 'hiphop', 'historisch', 'holiday',\n",
       "       'horror', 'house', 'hymn', 'idm', 'independent', 'indian', 'indie',\n",
       "       'indipop', 'industrial', 'inspirational', 'instrumental',\n",
       "       'international', 'irish', 'jam', 'japanese', 'jazz', 'jewish',\n",
       "       'jpop', 'jungle', 'k-pop', 'karadeniz', 'karaoke', 'kayokyoku',\n",
       "       'korean', 'laiko', 'latin', 'latino', 'leftfield', 'local',\n",
       "       'lounge', 'loungeelectronic', 'lovers', 'malaysian', 'mandopop',\n",
       "       'marschmusik', 'meditative', 'mediterranean', 'melodic', 'metal',\n",
       "       'metalcore', 'mexican', 'middle', 'minimal', 'miscellaneous',\n",
       "       'modern', 'mood', 'mpb', 'muslim', 'native', 'neoklassik', 'neue',\n",
       "       'new', 'newage', 'newwave', 'nu', 'nujazz', 'numetal', 'oceania',\n",
       "       'old', 'opera', 'orchestral', 'other', 'piano', 'podcasts', 'pop',\n",
       "       'popdance', 'popelectronic', 'popeurodance', 'poprussian', 'post',\n",
       "       'posthardcore', 'postrock', 'power', 'progmetal', 'progressive',\n",
       "       'psychedelic', 'punjabi', 'punk', 'quebecois', 'ragga', 'ram',\n",
       "       'rancheras', 'rap', 'rave', 'reggae', 'reggaeton', 'regional',\n",
       "       'relax', 'religious', 'retro', 'rhythm', 'rnb', 'rnr', 'rock',\n",
       "       'rockabilly', 'rockalternative', 'rockindie', 'rockother',\n",
       "       'romance', 'roots', 'ruspop', 'rusrap', 'rusrock', 'russian',\n",
       "       'salsa', 'samba', 'scenic', 'schlager', 'self', 'sertanejo',\n",
       "       'shanson', 'shoegazing', 'showtunes', 'singer', 'ska', 'skarock',\n",
       "       'slow', 'smooth', 'soft', 'soul', 'soulful', 'sound', 'soundtrack',\n",
       "       'southern', 'specialty', 'speech', 'spiritual', 'sport',\n",
       "       'stonerrock', 'surf', 'swing', 'synthpop', 'synthrock',\n",
       "       'sängerportrait', 'tango', 'tanzorchester', 'taraftar', 'tatar',\n",
       "       'tech', 'techno', 'teen', 'thrash', 'top', 'traditional',\n",
       "       'tradjazz', 'trance', 'tribal', 'trip', 'triphop', 'tropical',\n",
       "       'türk', 'türkçe', 'ukrrock', 'unknown', 'urban', 'uzbek',\n",
       "       'variété', 'vi', 'videogame', 'vocal', 'western', 'world',\n",
       "       'worldbeat', 'ïîï', 'электроника'], dtype=object)"
      ]
     },
     "execution_count": 218,
     "metadata": {},
     "output_type": "execute_result"
    }
   ],
   "source": [
    "df['genre'].sort_values().unique() # check"
   ]
  },
  {
   "cell_type": "markdown",
   "metadata": {
    "deletable": false,
    "editable": false,
    "id": "jz6a9-7HQUDd"
   },
   "source": [
    "**Conclusion**\n",
    "\n",
    "Preprocessing has discovered three problems in the data:\n",
    "\n",
    "- violations in the style of the header,\n",
    "- missed values,\n",
    "- duplicates: explicit and implicit.\n",
    "\n",
    "We corrected the headers to simplify the work with the table.\n",
    "Without duplicates, the study will become more accurate.\n",
    "\n",
    "We replaced the missed values with `'unknown'`\n",
    "\n",
    "Now we can proceed to check the hypotheses."
   ]
  },
  {
   "cell_type": "markdown",
   "metadata": {
    "deletable": false,
    "editable": false,
    "id": "WttZHXH0SqKk"
   },
   "source": [
    "## Check Hypothesis"
   ]
  },
  {
   "cell_type": "markdown",
   "metadata": {
    "deletable": false,
    "editable": false,
    "id": "Im936VVi_Zcu"
   },
   "source": [
    "### Comparison of the behavior of users of two capitals"
   ]
  },
  {
   "cell_type": "markdown",
   "metadata": {
    "deletable": false,
    "editable": false,
    "id": "nwt_MuaL_Zcu"
   },
   "source": [
    "The first hypothesis claims that users listen to music differently in Moscow and St. Petersburg. \n",
    "\n",
    "We check this assumption according to the three days of the week - Monday, Wednesday and Friday"
   ]
  },
  {
   "cell_type": "code",
   "execution_count": 141,
   "metadata": {
    "deletable": false,
    "id": "0_Qs96oh_Zcu"
   },
   "outputs": [
    {
     "data": {
      "text/plain": [
       "city\n",
       "Moscow              42741\n",
       "Saint-Petersburg    18512\n",
       "Name: genre, dtype: int64"
      ]
     },
     "execution_count": 141,
     "metadata": {},
     "output_type": "execute_result"
    }
   ],
   "source": [
    "df.groupby('city')['genre'].count()"
   ]
  },
  {
   "cell_type": "markdown",
   "metadata": {
    "deletable": false,
    "editable": false,
    "id": "dzli3w8o_Zcu",
    "tags": [
     "start_task"
    ]
   },
   "source": [
    "In Moscow, there are more music replays than in St. Petersburg. \n",
    "\n",
    "It does not follow from this that Moscow users are more likely to listen to music.\n",
    "It's just that there are more users in Moscow"
   ]
  },
  {
   "cell_type": "code",
   "execution_count": 145,
   "metadata": {
    "deletable": false,
    "id": "uZMKjiJz_Zcu"
   },
   "outputs": [
    {
     "data": {
      "text/plain": [
       "day\n",
       "Friday       21840\n",
       "Monday       21354\n",
       "Wednesday    18059\n",
       "Name: genre, dtype: int64"
      ]
     },
     "execution_count": 145,
     "metadata": {},
     "output_type": "execute_result"
    }
   ],
   "source": [
    "df.groupby('day')['genre'].count()"
   ]
  },
  {
   "cell_type": "markdown",
   "metadata": {
    "deletable": false,
    "editable": false,
    "id": "cC2tNrlL_Zcu"
   },
   "source": [
    "On average, users of two cities are less active on Wednesdays. But the picture can change if you consider each city separately."
   ]
  },
  {
   "cell_type": "code",
   "execution_count": 149,
   "metadata": {
    "deletable": false,
    "id": "Nz3GdQB1_Zcu"
   },
   "outputs": [],
   "source": [
    "def number_tracks(day, city):\n",
    "    track_list = df[(df['day'] == day) & (df['city'] == city)]\n",
    "    track_list_count = track_list['user_id'].count()\n",
    "    return track_list_count"
   ]
  },
  {
   "cell_type": "code",
   "execution_count": 150,
   "metadata": {
    "deletable": false,
    "id": "rJcRATNQ_Zcu"
   },
   "outputs": [
    {
     "data": {
      "text/plain": [
       "15740"
      ]
     },
     "execution_count": 150,
     "metadata": {},
     "output_type": "execute_result"
    }
   ],
   "source": [
    "number_tracks('Monday', 'Moscow') # the number of replays in Moscow on Mondays"
   ]
  },
  {
   "cell_type": "code",
   "execution_count": 151,
   "metadata": {
    "deletable": false,
    "id": "hq_ncZ5T_Zcu"
   },
   "outputs": [
    {
     "data": {
      "text/plain": [
       "5614"
      ]
     },
     "execution_count": 151,
     "metadata": {},
     "output_type": "execute_result"
    }
   ],
   "source": [
    "number_tracks('Monday', 'Saint-Petersburg') # the number of replays in St. Petersburg on Mondays"
   ]
  },
  {
   "cell_type": "code",
   "execution_count": 152,
   "metadata": {
    "deletable": false,
    "id": "_NTy2VPU_Zcu"
   },
   "outputs": [
    {
     "data": {
      "text/plain": [
       "11056"
      ]
     },
     "execution_count": 152,
     "metadata": {},
     "output_type": "execute_result"
    }
   ],
   "source": [
    "number_tracks('Wednesday', 'Moscow') # the number of replays in Moscow on Wednesdays"
   ]
  },
  {
   "cell_type": "code",
   "execution_count": 153,
   "metadata": {
    "deletable": false,
    "id": "j2y3TAwo_Zcu"
   },
   "outputs": [
    {
     "data": {
      "text/plain": [
       "7003"
      ]
     },
     "execution_count": 153,
     "metadata": {},
     "output_type": "execute_result"
    }
   ],
   "source": [
    "number_tracks('Wednesday', 'Saint-Petersburg') # the number of replays in St. Petersburg on Wednesdays"
   ]
  },
  {
   "cell_type": "code",
   "execution_count": 155,
   "metadata": {
    "deletable": false,
    "id": "vYDw5u_K_Zcu"
   },
   "outputs": [
    {
     "data": {
      "text/plain": [
       "15945"
      ]
     },
     "execution_count": 155,
     "metadata": {},
     "output_type": "execute_result"
    }
   ],
   "source": [
    "number_tracks('Friday', 'Moscow') # the number of replays in Moscow on Fridays"
   ]
  },
  {
   "cell_type": "code",
   "execution_count": 154,
   "metadata": {
    "deletable": false,
    "id": "8_yzFtW3_Zcu"
   },
   "outputs": [
    {
     "data": {
      "text/plain": [
       "5895"
      ]
     },
     "execution_count": 154,
     "metadata": {},
     "output_type": "execute_result"
    }
   ],
   "source": [
    "number_tracks ('Friday', 'Saint-Petersburg') # the number of replays in St. Petersburg on Fridays"
   ]
  },
  {
   "cell_type": "code",
   "execution_count": 160,
   "metadata": {
    "deletable": false,
    "id": "APAcLpOr_Zcu"
   },
   "outputs": [
    {
     "data": {
      "text/html": [
       "<div>\n",
       "<style scoped>\n",
       "    .dataframe tbody tr th:only-of-type {\n",
       "        vertical-align: middle;\n",
       "    }\n",
       "\n",
       "    .dataframe tbody tr th {\n",
       "        vertical-align: top;\n",
       "    }\n",
       "\n",
       "    .dataframe thead th {\n",
       "        text-align: right;\n",
       "    }\n",
       "</style>\n",
       "<table border=\"1\" class=\"dataframe\">\n",
       "  <thead>\n",
       "    <tr style=\"text-align: right;\">\n",
       "      <th></th>\n",
       "      <th>city</th>\n",
       "      <th>monday</th>\n",
       "      <th>wednesday</th>\n",
       "      <th>friday</th>\n",
       "    </tr>\n",
       "  </thead>\n",
       "  <tbody>\n",
       "    <tr>\n",
       "      <th>0</th>\n",
       "      <td>Moscow</td>\n",
       "      <td>15740</td>\n",
       "      <td>11056</td>\n",
       "      <td>15945</td>\n",
       "    </tr>\n",
       "    <tr>\n",
       "      <th>1</th>\n",
       "      <td>Saint-Petersburg</td>\n",
       "      <td>5614</td>\n",
       "      <td>7003</td>\n",
       "      <td>5895</td>\n",
       "    </tr>\n",
       "  </tbody>\n",
       "</table>\n",
       "</div>"
      ],
      "text/plain": [
       "               city  monday  wednesday  friday\n",
       "0            Moscow   15740      11056   15945\n",
       "1  Saint-Petersburg    5614       7003    5895"
      ]
     },
     "execution_count": 160,
     "metadata": {},
     "output_type": "execute_result"
    }
   ],
   "source": [
    "columns = ['city', 'monday', 'wednesday', 'friday'] # table with results\n",
    "activity_by_day_and_city = pd.DataFrame([['Moscow', 15740, 11056, 15945], ['Saint-Petersburg', 5614, 7003, 5895]], columns=columns)\n",
    "activity_by_day_and_city"
   ]
  },
  {
   "cell_type": "markdown",
   "metadata": {
    "deletable": false,
    "editable": false,
    "id": "-EgPIHYu_Zcu"
   },
   "source": [
    "**Conclusion**\n",
    "\n",
    "Data show the difference in user behavior:\n",
    "\n",
    "- In Moscow, the peak of replays falls on Monday and Friday, and on Wednesday a decline is noticeable.\n",
    "- In St. Petersburg, on the contrary, they listen to music on Wednesdays more. Activity on Monday and Friday here is inferior to Wednesday.\n",
    "\n",
    "So, the data speaks in favor of the first hypothesis."
   ]
  },
  {
   "cell_type": "markdown",
   "metadata": {
    "deletable": false,
    "editable": false,
    "id": "atZAxtq4_Zcu"
   },
   "source": [
    "### Music at the beginning and at the end of the week"
   ]
  },
  {
   "cell_type": "markdown",
   "metadata": {
    "deletable": false,
    "editable": false,
    "id": "eXrQqXFH_Zcu"
   },
   "source": [
    "According to the second hypothesis, on Monday morning, some genres prevail in Moscow, and others in St. Petersburg. On Friday evening, different genres prevail - depending on the city."
   ]
  },
  {
   "cell_type": "code",
   "execution_count": 203,
   "metadata": {
    "deletable": false,
    "id": "qeaFfM_P_Zcu"
   },
   "outputs": [],
   "source": [
    "moscow_general = df[df['city'] == 'Moscow']"
   ]
  },
  {
   "cell_type": "code",
   "execution_count": 204,
   "metadata": {
    "deletable": false,
    "id": "ORaVRKto_Zcu"
   },
   "outputs": [],
   "source": [
    "spb_general = df[df['city'] == 'Saint-Petersburg']"
   ]
  },
  {
   "cell_type": "code",
   "execution_count": 232,
   "metadata": {
    "deletable": false,
    "id": "laJT9BYl_Zcu"
   },
   "outputs": [],
   "source": [
    "def genre_weekday(table, day, time1, time2):\n",
    "    genre_df = table[table['day'] == day]\n",
    "    genre_df = genre_df[genre_df['time'] > time1]\n",
    "    genre_df = genre_df[genre_df['time'] < time2]\n",
    "    genre_df_grouped = genre_df.groupby('genre')['genre'].count()\n",
    "    genre_df_sorted = genre_df_grouped.sort_values(ascending=False)\n",
    "    return genre_df_sorted[:10]"
   ]
  },
  {
   "cell_type": "code",
   "execution_count": 233,
   "metadata": {
    "deletable": false,
    "id": "yz7itPUQ_Zcu"
   },
   "outputs": [
    {
     "data": {
      "text/plain": [
       "genre\n",
       "pop            781\n",
       "dance          549\n",
       "electronic     480\n",
       "rock           474\n",
       "hiphop         286\n",
       "ruspop         186\n",
       "world          181\n",
       "rusrap         175\n",
       "alternative    164\n",
       "unknown        161\n",
       "Name: genre, dtype: int64"
      ]
     },
     "execution_count": 233,
     "metadata": {},
     "output_type": "execute_result"
    }
   ],
   "source": [
    "genre_weekday(moscow_general, 'Monday', '07:00', '11:00') # top-10 music genres played in Moscow from 07:00 to 11:00 on Monday"
   ]
  },
  {
   "cell_type": "code",
   "execution_count": 234,
   "metadata": {
    "deletable": false,
    "id": "kwUcHPdy_Zcu"
   },
   "outputs": [
    {
     "data": {
      "text/plain": [
       "genre\n",
       "pop            218\n",
       "dance          182\n",
       "rock           162\n",
       "electronic     147\n",
       "hiphop          80\n",
       "ruspop          64\n",
       "alternative     58\n",
       "rusrap          55\n",
       "jazz            44\n",
       "classical       40\n",
       "Name: genre, dtype: int64"
      ]
     },
     "execution_count": 234,
     "metadata": {},
     "output_type": "execute_result"
    }
   ],
   "source": [
    "genre_weekday(spb_general, 'Monday', '07:00', '11:00') # top-10 music genres played in St. Petersburg from 07:00 to 11:00 on Monday"
   ]
  },
  {
   "cell_type": "code",
   "execution_count": 235,
   "metadata": {
    "deletable": false,
    "id": "EzXVRE1o_Zcu"
   },
   "outputs": [
    {
     "data": {
      "text/plain": [
       "genre\n",
       "pop            713\n",
       "rock           517\n",
       "dance          495\n",
       "electronic     482\n",
       "hiphop         273\n",
       "world          208\n",
       "ruspop         170\n",
       "alternative    163\n",
       "classical      163\n",
       "rusrap         142\n",
       "Name: genre, dtype: int64"
      ]
     },
     "execution_count": 235,
     "metadata": {},
     "output_type": "execute_result"
    }
   ],
   "source": [
    "genre_weekday(moscow_general, 'Friday', '17:00', '23:00') # top-10 music genres played in Moscow on Friday evening"
   ]
  },
  {
   "cell_type": "code",
   "execution_count": 236,
   "metadata": {
    "deletable": false,
    "id": "JZaEKu5v_Zcu"
   },
   "outputs": [
    {
     "data": {
      "text/plain": [
       "genre\n",
       "pop            256\n",
       "electronic     216\n",
       "rock           216\n",
       "dance          210\n",
       "hiphop          97\n",
       "alternative     63\n",
       "jazz            61\n",
       "classical       60\n",
       "rusrap          59\n",
       "world           54\n",
       "Name: genre, dtype: int64"
      ]
     },
     "execution_count": 236,
     "metadata": {},
     "output_type": "execute_result"
    }
   ],
   "source": [
    "genre_weekday(spb_general, 'Friday', '17:00', '23:00') # top-10 music genres played in St. Petersburg on Friday evening"
   ]
  },
  {
   "cell_type": "markdown",
   "metadata": {
    "deletable": false,
    "editable": false,
    "id": "wrCe4MNX_Zcu"
   },
   "source": [
    "**Conclusion**\n",
    "\n",
    "If you compare the top 10 genres on Monday morning, we can draw the following conclusions:\n",
    "\n",
    "1. In Moscow and St. Petersburg they listen to similar music. The only difference is that the “World” genre is included in the Moscow rating, but Jazz and Classic in St. Petersburg.\n",
    "\n",
    "2. There were so many missed values in Moscow that the value of \"unknown\" took the tenth place among the most popular genres. Hence, missing values occupy a significant share of the data and threaten the reliability of the study.\n",
    "\n",
    "Friday evening does not change this picture. Some genres rise a little higher, others go down, but in general the top 10 remains the same.\n",
    "\n",
    "Thus, the second hypothesis was confirmed only partially:\n",
    "\n",
    "* Users listen to similar music at the beginning of the week and at the end.\n",
    "\n",
    "* The difference between Moscow and St. Petersburg is not so pronounced. In Moscow, they often listen to Russian popular music, in St. Petersburg - jazz.\n",
    "\n",
    "However, gaps in the data question this result. In Moscow, there are so many of them that the TOP-10 rating could look different if it were not for the lost data about the genres."
   ]
  },
  {
   "cell_type": "markdown",
   "metadata": {
    "deletable": false,
    "editable": false,
    "id": "JolODAqr_Zcu"
   },
   "source": [
    "### Genre preferences in Moscow and St. Petersburg\n",
    "\n",
    "Hypotheses: \n",
    "\n",
    "* Petersburg is the capital of rap, the music of this genre is listened to more often than in Moscow.\n",
    "\n",
    "* Moscow is a city of contrasts in which, nevertheless, pop music prevails."
   ]
  },
  {
   "cell_type": "code",
   "execution_count": 209,
   "metadata": {
    "deletable": false,
    "id": "r19lIPke_Zcu"
   },
   "outputs": [],
   "source": [
    "moscow_genres = moscow_general.groupby('genre')['genre'].count().sort_values(ascending=False)"
   ]
  },
  {
   "cell_type": "code",
   "execution_count": 210,
   "metadata": {
    "deletable": false,
    "id": "WhCSooF8_Zcv"
   },
   "outputs": [
    {
     "data": {
      "text/plain": [
       "genre\n",
       "pop            5892\n",
       "dance          4435\n",
       "rock           3965\n",
       "electronic     3786\n",
       "hiphop         2095\n",
       "classical      1616\n",
       "world          1432\n",
       "alternative    1379\n",
       "ruspop         1372\n",
       "rusrap         1161\n",
       "Name: genre, dtype: int64"
      ]
     },
     "execution_count": 210,
     "metadata": {},
     "output_type": "execute_result"
    }
   ],
   "source": [
    "moscow_genres[:10]"
   ]
  },
  {
   "cell_type": "code",
   "execution_count": 211,
   "metadata": {
    "deletable": false,
    "id": "gluLIpE7_Zcv"
   },
   "outputs": [],
   "source": [
    "spb_genres = spb_general.groupby('genre')['genre'].count().sort_values(ascending=False)"
   ]
  },
  {
   "cell_type": "code",
   "execution_count": 213,
   "metadata": {
    "deletable": false,
    "id": "uaGJHjVU_Zcv"
   },
   "outputs": [
    {
     "data": {
      "text/plain": [
       "genre\n",
       "pop            2431\n",
       "dance          1932\n",
       "rock           1879\n",
       "electronic     1736\n",
       "hiphop          960\n",
       "alternative     649\n",
       "classical       646\n",
       "rusrap          564\n",
       "ruspop          538\n",
       "world           515\n",
       "Name: genre, dtype: int64"
      ]
     },
     "execution_count": 213,
     "metadata": {},
     "output_type": "execute_result"
    }
   ],
   "source": [
    "spb_genres[:10]"
   ]
  },
  {
   "cell_type": "markdown",
   "metadata": {
    "deletable": false,
    "editable": false,
    "id": "nVhnJEm__Zcv"
   },
   "source": [
    "The hypothesis was partially confirmed:\n",
    "\n",
    "* Pop music is the most popular genre in Moscow, as the hypothesis suggested. Moreover, in the top-10 genres there is a similar genre - Russian popular music.\n",
    "\n",
    "* Contrary to the expectations, rap is equally popular in Moscow and St. Petersburg.\n"
   ]
  },
  {
   "cell_type": "markdown",
   "metadata": {
    "deletable": false,
    "editable": false,
    "id": "ykKQ0N65_Zcv"
   },
   "source": [
    "## Results"
   ]
  },
  {
   "cell_type": "markdown",
   "metadata": {
    "deletable": false,
    "editable": false,
    "id": "tjUwbHb3_Zcv"
   },
   "source": [
    "We checked three hypotheses and concluded:\n",
    "\n",
    "1. The day of the week affects the activity of users in Moscow and St. Petersburg. \n",
    "\n",
    "The first hypothesis was fully confirmed.\n",
    "\n",
    "2. Musical preferences do not change much within a week — be it Moscow or Petersburg. Small differences are noticeable at the beginning of the week, on Mondays:\n",
    "\n",
    "* in Moscow they listen to music of the genre “world”,\n",
    "* in St. Petersburg - jazz and classics.\n",
    "\n",
    "Thus, the second hypothesis was confirmed only in part. This result could be different if it were not for the gaps in the data.\n",
    "\n",
    "3. The tastes of users of Moscow and St. Petersburg have much in common. Contrary to expectations, the preferences of genres in St. Petersburg resemble that of Moscow.\n",
    "\n",
    "The third hypothesis was not confirmed. If the differences in preferences exist, they are negligible."
   ]
  }
 ],
 "metadata": {
  "ExecuteTimeLog": [
   {
    "duration": 43,
    "start_time": "2022-12-31T08:51:59.026Z"
   },
   {
    "duration": 356,
    "start_time": "2022-12-31T08:52:17.957Z"
   },
   {
    "duration": 174,
    "start_time": "2022-12-31T08:52:18.315Z"
   },
   {
    "duration": 2,
    "start_time": "2022-12-31T08:52:18.490Z"
   },
   {
    "duration": 9,
    "start_time": "2022-12-31T08:52:18.494Z"
   },
   {
    "duration": 8,
    "start_time": "2022-12-31T08:52:18.504Z"
   },
   {
    "duration": 8,
    "start_time": "2022-12-31T08:52:18.514Z"
   },
   {
    "duration": 14,
    "start_time": "2022-12-31T08:52:18.523Z"
   },
   {
    "duration": 16,
    "start_time": "2022-12-31T08:52:18.538Z"
   },
   {
    "duration": 20,
    "start_time": "2022-12-31T08:52:18.556Z"
   },
   {
    "duration": 13,
    "start_time": "2022-12-31T08:52:18.579Z"
   },
   {
    "duration": 23,
    "start_time": "2022-12-31T08:52:18.593Z"
   },
   {
    "duration": 8,
    "start_time": "2022-12-31T08:52:18.618Z"
   },
   {
    "duration": 5,
    "start_time": "2022-12-31T08:52:18.628Z"
   },
   {
    "duration": 6,
    "start_time": "2022-12-31T08:52:18.635Z"
   },
   {
    "duration": 9,
    "start_time": "2022-12-31T08:52:18.642Z"
   },
   {
    "duration": 7,
    "start_time": "2022-12-31T08:52:18.652Z"
   },
   {
    "duration": 13,
    "start_time": "2022-12-31T08:52:18.660Z"
   },
   {
    "duration": 7,
    "start_time": "2022-12-31T08:52:18.674Z"
   },
   {
    "duration": 6,
    "start_time": "2022-12-31T08:52:18.682Z"
   },
   {
    "duration": 7,
    "start_time": "2022-12-31T08:52:18.689Z"
   },
   {
    "duration": 6,
    "start_time": "2022-12-31T08:52:18.698Z"
   },
   {
    "duration": 11,
    "start_time": "2022-12-31T08:52:18.705Z"
   },
   {
    "duration": 11,
    "start_time": "2022-12-31T08:52:18.718Z"
   },
   {
    "duration": 9,
    "start_time": "2022-12-31T08:52:18.731Z"
   },
   {
    "duration": 6,
    "start_time": "2022-12-31T08:52:18.742Z"
   },
   {
    "duration": 5,
    "start_time": "2022-12-31T08:52:18.750Z"
   },
   {
    "duration": 10,
    "start_time": "2022-12-31T08:52:18.756Z"
   },
   {
    "duration": 10,
    "start_time": "2022-12-31T08:52:18.769Z"
   },
   {
    "duration": 5,
    "start_time": "2022-12-31T08:52:18.781Z"
   },
   {
    "duration": 54,
    "start_time": "2022-12-31T08:52:18.787Z"
   },
   {
    "duration": 0,
    "start_time": "2022-12-31T08:52:18.842Z"
   },
   {
    "duration": 0,
    "start_time": "2022-12-31T08:52:18.843Z"
   },
   {
    "duration": 0,
    "start_time": "2022-12-31T08:52:18.844Z"
   },
   {
    "duration": 0,
    "start_time": "2022-12-31T08:52:18.845Z"
   },
   {
    "duration": 0,
    "start_time": "2022-12-31T08:52:18.846Z"
   },
   {
    "duration": 0,
    "start_time": "2022-12-31T08:52:18.847Z"
   },
   {
    "duration": 0,
    "start_time": "2022-12-31T08:52:18.848Z"
   },
   {
    "duration": 0,
    "start_time": "2022-12-31T08:52:18.850Z"
   },
   {
    "duration": 151,
    "start_time": "2022-12-31T08:52:51.828Z"
   },
   {
    "duration": 10,
    "start_time": "2022-12-31T08:53:15.764Z"
   },
   {
    "duration": 29,
    "start_time": "2022-12-31T08:53:34.447Z"
   },
   {
    "duration": 4,
    "start_time": "2022-12-31T08:56:36.599Z"
   },
   {
    "duration": 4,
    "start_time": "2022-12-31T09:00:08.867Z"
   },
   {
    "duration": 61,
    "start_time": "2022-12-31T09:00:15.035Z"
   },
   {
    "duration": 61,
    "start_time": "2022-12-31T09:00:46.252Z"
   },
   {
    "duration": 3,
    "start_time": "2022-12-31T09:01:14.485Z"
   },
   {
    "duration": 162,
    "start_time": "2022-12-31T09:01:14.490Z"
   },
   {
    "duration": 10,
    "start_time": "2022-12-31T09:01:14.653Z"
   },
   {
    "duration": 42,
    "start_time": "2022-12-31T09:01:14.665Z"
   },
   {
    "duration": 44,
    "start_time": "2022-12-31T09:01:14.709Z"
   },
   {
    "duration": 0,
    "start_time": "2022-12-31T09:01:14.755Z"
   },
   {
    "duration": 3,
    "start_time": "2022-12-31T09:01:22.528Z"
   },
   {
    "duration": 164,
    "start_time": "2022-12-31T09:01:22.532Z"
   },
   {
    "duration": 10,
    "start_time": "2022-12-31T09:01:22.698Z"
   },
   {
    "duration": 31,
    "start_time": "2022-12-31T09:01:22.709Z"
   },
   {
    "duration": 48,
    "start_time": "2022-12-31T09:01:22.742Z"
   },
   {
    "duration": 0,
    "start_time": "2022-12-31T09:01:22.792Z"
   },
   {
    "duration": 45,
    "start_time": "2022-12-31T09:02:09.831Z"
   },
   {
    "duration": 48,
    "start_time": "2022-12-31T09:02:17.088Z"
   },
   {
    "duration": 46,
    "start_time": "2022-12-31T09:02:24.399Z"
   },
   {
    "duration": 43,
    "start_time": "2022-12-31T09:02:29.598Z"
   },
   {
    "duration": 46,
    "start_time": "2022-12-31T09:05:03.847Z"
   },
   {
    "duration": 41,
    "start_time": "2022-12-31T09:05:08.368Z"
   },
   {
    "duration": 28,
    "start_time": "2022-12-31T09:06:09.338Z"
   },
   {
    "duration": 20,
    "start_time": "2022-12-31T09:06:17.056Z"
   },
   {
    "duration": 4,
    "start_time": "2022-12-31T09:06:50.105Z"
   },
   {
    "duration": 5,
    "start_time": "2022-12-31T09:06:55.180Z"
   },
   {
    "duration": 3,
    "start_time": "2022-12-31T09:07:17.611Z"
   },
   {
    "duration": 152,
    "start_time": "2022-12-31T09:07:17.615Z"
   },
   {
    "duration": 10,
    "start_time": "2022-12-31T09:07:17.769Z"
   },
   {
    "duration": 41,
    "start_time": "2022-12-31T09:07:17.780Z"
   },
   {
    "duration": 58,
    "start_time": "2022-12-31T09:07:17.823Z"
   },
   {
    "duration": 0,
    "start_time": "2022-12-31T09:07:17.883Z"
   },
   {
    "duration": 0,
    "start_time": "2022-12-31T09:07:17.884Z"
   },
   {
    "duration": 4,
    "start_time": "2022-12-31T09:07:36.079Z"
   },
   {
    "duration": 2,
    "start_time": "2022-12-31T09:07:41.365Z"
   },
   {
    "duration": 175,
    "start_time": "2022-12-31T09:07:41.369Z"
   },
   {
    "duration": 11,
    "start_time": "2022-12-31T09:07:41.546Z"
   },
   {
    "duration": 32,
    "start_time": "2022-12-31T09:07:41.560Z"
   },
   {
    "duration": 45,
    "start_time": "2022-12-31T09:07:41.594Z"
   },
   {
    "duration": 0,
    "start_time": "2022-12-31T09:07:41.640Z"
   },
   {
    "duration": 0,
    "start_time": "2022-12-31T09:07:41.642Z"
   },
   {
    "duration": 0,
    "start_time": "2022-12-31T09:07:41.642Z"
   },
   {
    "duration": 4,
    "start_time": "2022-12-31T09:07:45.991Z"
   },
   {
    "duration": 12,
    "start_time": "2022-12-31T09:07:52.210Z"
   },
   {
    "duration": 4,
    "start_time": "2022-12-31T09:07:55.942Z"
   },
   {
    "duration": 19,
    "start_time": "2022-12-31T09:08:07.700Z"
   },
   {
    "duration": 4,
    "start_time": "2022-12-31T09:08:11.137Z"
   },
   {
    "duration": 21,
    "start_time": "2022-12-31T09:08:50.776Z"
   },
   {
    "duration": 4,
    "start_time": "2022-12-31T09:08:54.439Z"
   },
   {
    "duration": 35,
    "start_time": "2022-12-31T09:10:05.347Z"
   },
   {
    "duration": 24,
    "start_time": "2022-12-31T09:15:25.038Z"
   },
   {
    "duration": 113,
    "start_time": "2022-12-31T09:15:28.683Z"
   },
   {
    "duration": 25,
    "start_time": "2022-12-31T09:15:31.976Z"
   },
   {
    "duration": 3,
    "start_time": "2022-12-31T09:15:41.293Z"
   },
   {
    "duration": 161,
    "start_time": "2022-12-31T09:15:41.302Z"
   },
   {
    "duration": 10,
    "start_time": "2022-12-31T09:15:41.465Z"
   },
   {
    "duration": 46,
    "start_time": "2022-12-31T09:15:41.477Z"
   },
   {
    "duration": 57,
    "start_time": "2022-12-31T09:15:41.525Z"
   },
   {
    "duration": 0,
    "start_time": "2022-12-31T09:15:41.585Z"
   },
   {
    "duration": 0,
    "start_time": "2022-12-31T09:15:41.586Z"
   },
   {
    "duration": 0,
    "start_time": "2022-12-31T09:15:41.587Z"
   },
   {
    "duration": 0,
    "start_time": "2022-12-31T09:15:41.588Z"
   },
   {
    "duration": 0,
    "start_time": "2022-12-31T09:15:41.589Z"
   },
   {
    "duration": 95,
    "start_time": "2022-12-31T09:15:57.516Z"
   },
   {
    "duration": 712,
    "start_time": "2022-12-31T09:16:37.760Z"
   },
   {
    "duration": 3,
    "start_time": "2022-12-31T09:17:53.248Z"
   },
   {
    "duration": 154,
    "start_time": "2022-12-31T09:17:53.253Z"
   },
   {
    "duration": 13,
    "start_time": "2022-12-31T09:17:53.409Z"
   },
   {
    "duration": 33,
    "start_time": "2022-12-31T09:17:53.423Z"
   },
   {
    "duration": 72,
    "start_time": "2022-12-31T09:17:53.458Z"
   },
   {
    "duration": 0,
    "start_time": "2022-12-31T09:17:53.532Z"
   },
   {
    "duration": 0,
    "start_time": "2022-12-31T09:17:53.533Z"
   },
   {
    "duration": 0,
    "start_time": "2022-12-31T09:17:53.534Z"
   },
   {
    "duration": 0,
    "start_time": "2022-12-31T09:17:53.535Z"
   },
   {
    "duration": 3,
    "start_time": "2022-12-31T09:18:00.294Z"
   },
   {
    "duration": 4,
    "start_time": "2022-12-31T09:18:08.034Z"
   },
   {
    "duration": 10,
    "start_time": "2022-12-31T09:18:10.872Z"
   },
   {
    "duration": 4,
    "start_time": "2022-12-31T09:18:13.532Z"
   },
   {
    "duration": 12,
    "start_time": "2022-12-31T09:20:03.018Z"
   },
   {
    "duration": 4,
    "start_time": "2022-12-31T09:20:05.642Z"
   },
   {
    "duration": 23,
    "start_time": "2022-12-31T09:20:08.409Z"
   },
   {
    "duration": 36,
    "start_time": "2022-12-31T09:20:18.032Z"
   },
   {
    "duration": 16,
    "start_time": "2022-12-31T09:20:27.986Z"
   },
   {
    "duration": 4,
    "start_time": "2022-12-31T09:20:32.344Z"
   },
   {
    "duration": 3,
    "start_time": "2022-12-31T09:20:39.926Z"
   },
   {
    "duration": 24,
    "start_time": "2022-12-31T09:20:42.906Z"
   },
   {
    "duration": 25,
    "start_time": "2022-12-31T09:20:48.049Z"
   },
   {
    "duration": 44,
    "start_time": "2022-12-31T09:20:54.930Z"
   },
   {
    "duration": 4,
    "start_time": "2022-12-31T09:21:03.653Z"
   },
   {
    "duration": 2,
    "start_time": "2022-12-31T09:21:09.124Z"
   },
   {
    "duration": 198,
    "start_time": "2022-12-31T09:21:09.130Z"
   },
   {
    "duration": 10,
    "start_time": "2022-12-31T09:21:09.330Z"
   },
   {
    "duration": 49,
    "start_time": "2022-12-31T09:21:09.341Z"
   },
   {
    "duration": 50,
    "start_time": "2022-12-31T09:21:09.391Z"
   },
   {
    "duration": 0,
    "start_time": "2022-12-31T09:21:09.443Z"
   },
   {
    "duration": 0,
    "start_time": "2022-12-31T09:21:09.444Z"
   },
   {
    "duration": 0,
    "start_time": "2022-12-31T09:21:09.446Z"
   },
   {
    "duration": 0,
    "start_time": "2022-12-31T09:21:09.447Z"
   },
   {
    "duration": 3,
    "start_time": "2022-12-31T09:21:14.345Z"
   },
   {
    "duration": 154,
    "start_time": "2022-12-31T09:21:14.349Z"
   },
   {
    "duration": 10,
    "start_time": "2022-12-31T09:21:14.504Z"
   },
   {
    "duration": 38,
    "start_time": "2022-12-31T09:21:14.515Z"
   },
   {
    "duration": 50,
    "start_time": "2022-12-31T09:21:14.555Z"
   },
   {
    "duration": 0,
    "start_time": "2022-12-31T09:21:14.607Z"
   },
   {
    "duration": 0,
    "start_time": "2022-12-31T09:21:14.608Z"
   },
   {
    "duration": 0,
    "start_time": "2022-12-31T09:21:14.608Z"
   },
   {
    "duration": 4,
    "start_time": "2022-12-31T09:21:19.277Z"
   },
   {
    "duration": 20,
    "start_time": "2022-12-31T09:21:23.050Z"
   },
   {
    "duration": 4,
    "start_time": "2022-12-31T09:21:41.202Z"
   },
   {
    "duration": 10,
    "start_time": "2022-12-31T09:21:44.257Z"
   },
   {
    "duration": 4,
    "start_time": "2022-12-31T09:21:51.829Z"
   },
   {
    "duration": 24,
    "start_time": "2022-12-31T09:21:55.119Z"
   },
   {
    "duration": 39,
    "start_time": "2022-12-31T09:22:02.154Z"
   },
   {
    "duration": 34,
    "start_time": "2022-12-31T09:22:05.184Z"
   },
   {
    "duration": 59,
    "start_time": "2022-12-31T09:24:49.081Z"
   },
   {
    "duration": 8,
    "start_time": "2022-12-31T09:25:10.471Z"
   },
   {
    "duration": 7,
    "start_time": "2022-12-31T09:25:20.543Z"
   },
   {
    "duration": 66,
    "start_time": "2022-12-31T09:25:57.201Z"
   },
   {
    "duration": 52,
    "start_time": "2022-12-31T09:27:43.614Z"
   },
   {
    "duration": 59,
    "start_time": "2022-12-31T09:27:50.603Z"
   },
   {
    "duration": 54,
    "start_time": "2022-12-31T09:27:52.788Z"
   },
   {
    "duration": 6,
    "start_time": "2022-12-31T09:28:34.352Z"
   },
   {
    "duration": 44,
    "start_time": "2022-12-31T09:28:46.931Z"
   },
   {
    "duration": 8,
    "start_time": "2022-12-31T09:28:50.940Z"
   },
   {
    "duration": 71,
    "start_time": "2022-12-31T09:31:20.162Z"
   },
   {
    "duration": 58,
    "start_time": "2022-12-31T09:31:29.959Z"
   },
   {
    "duration": 9,
    "start_time": "2022-12-31T09:31:52.404Z"
   },
   {
    "duration": 10,
    "start_time": "2022-12-31T09:35:11.795Z"
   },
   {
    "duration": 33,
    "start_time": "2022-12-31T09:35:18.908Z"
   },
   {
    "duration": 10,
    "start_time": "2022-12-31T09:35:50.967Z"
   },
   {
    "duration": 34,
    "start_time": "2022-12-31T09:41:54.354Z"
   },
   {
    "duration": 11,
    "start_time": "2022-12-31T09:42:23.054Z"
   },
   {
    "duration": 10,
    "start_time": "2022-12-31T09:42:35.602Z"
   },
   {
    "duration": 11,
    "start_time": "2022-12-31T09:43:19.209Z"
   },
   {
    "duration": 94,
    "start_time": "2022-12-31T09:59:49.509Z"
   },
   {
    "duration": 41,
    "start_time": "2022-12-31T10:00:24.644Z"
   },
   {
    "duration": 43,
    "start_time": "2022-12-31T10:01:08.976Z"
   },
   {
    "duration": 4,
    "start_time": "2022-12-31T10:02:51.032Z"
   },
   {
    "duration": 16,
    "start_time": "2022-12-31T10:04:18.274Z"
   },
   {
    "duration": 16,
    "start_time": "2022-12-31T10:04:45.202Z"
   },
   {
    "duration": 16,
    "start_time": "2022-12-31T10:05:24.102Z"
   },
   {
    "duration": 14,
    "start_time": "2022-12-31T10:05:56.492Z"
   },
   {
    "duration": 14,
    "start_time": "2022-12-31T10:06:51.659Z"
   },
   {
    "duration": 16,
    "start_time": "2022-12-31T10:06:54.709Z"
   },
   {
    "duration": 4,
    "start_time": "2022-12-31T10:17:43.250Z"
   },
   {
    "duration": 4,
    "start_time": "2022-12-31T10:17:47.644Z"
   },
   {
    "duration": 4,
    "start_time": "2022-12-31T10:17:57.205Z"
   },
   {
    "duration": 8,
    "start_time": "2022-12-31T10:18:13.584Z"
   },
   {
    "duration": 8,
    "start_time": "2022-12-31T10:18:21.672Z"
   },
   {
    "duration": 9,
    "start_time": "2022-12-31T10:24:21.044Z"
   },
   {
    "duration": 9,
    "start_time": "2022-12-31T10:24:36.981Z"
   },
   {
    "duration": 18,
    "start_time": "2022-12-31T10:28:24.617Z"
   },
   {
    "duration": 17,
    "start_time": "2022-12-31T10:29:22.237Z"
   },
   {
    "duration": 53,
    "start_time": "2022-12-31T10:47:15.330Z"
   },
   {
    "duration": 4,
    "start_time": "2022-12-31T10:47:32.491Z"
   },
   {
    "duration": 25,
    "start_time": "2022-12-31T10:51:26.340Z"
   },
   {
    "duration": 5,
    "start_time": "2022-12-31T10:51:35.234Z"
   },
   {
    "duration": 25,
    "start_time": "2022-12-31T10:51:40.408Z"
   },
   {
    "duration": 3,
    "start_time": "2022-12-31T10:52:26.126Z"
   },
   {
    "duration": 18,
    "start_time": "2022-12-31T10:52:29.301Z"
   },
   {
    "duration": 4,
    "start_time": "2022-12-31T10:53:06.661Z"
   },
   {
    "duration": 16,
    "start_time": "2022-12-31T10:53:09.925Z"
   },
   {
    "duration": 14,
    "start_time": "2022-12-31T10:53:24.180Z"
   },
   {
    "duration": 17,
    "start_time": "2022-12-31T10:53:26.754Z"
   },
   {
    "duration": 19,
    "start_time": "2022-12-31T10:53:31.072Z"
   },
   {
    "duration": 4,
    "start_time": "2022-12-31T10:55:30.403Z"
   },
   {
    "duration": 12,
    "start_time": "2022-12-31T10:55:33.771Z"
   },
   {
    "duration": 9,
    "start_time": "2022-12-31T10:55:35.491Z"
   },
   {
    "duration": 19,
    "start_time": "2022-12-31T10:55:36.357Z"
   },
   {
    "duration": 11,
    "start_time": "2022-12-31T10:55:37.497Z"
   },
   {
    "duration": 2,
    "start_time": "2022-12-31T10:57:48.021Z"
   },
   {
    "duration": 17,
    "start_time": "2022-12-31T10:58:34.233Z"
   },
   {
    "duration": 21,
    "start_time": "2022-12-31T10:58:37.879Z"
   },
   {
    "duration": 52,
    "start_time": "2022-12-31T10:58:49.898Z"
   },
   {
    "duration": 13,
    "start_time": "2022-12-31T11:01:58.018Z"
   },
   {
    "duration": 12,
    "start_time": "2022-12-31T11:06:42.198Z"
   },
   {
    "duration": 4,
    "start_time": "2022-12-31T11:06:46.023Z"
   },
   {
    "duration": 16,
    "start_time": "2022-12-31T11:06:48.557Z"
   },
   {
    "duration": 4,
    "start_time": "2022-12-31T11:07:42.353Z"
   },
   {
    "duration": 17,
    "start_time": "2022-12-31T11:07:45.088Z"
   },
   {
    "duration": 4,
    "start_time": "2022-12-31T11:08:26.386Z"
   },
   {
    "duration": 12,
    "start_time": "2022-12-31T11:08:28.756Z"
   },
   {
    "duration": 14,
    "start_time": "2022-12-31T11:11:24.580Z"
   },
   {
    "duration": 20,
    "start_time": "2022-12-31T11:11:40.055Z"
   },
   {
    "duration": 16,
    "start_time": "2022-12-31T11:13:03.505Z"
   },
   {
    "duration": 15,
    "start_time": "2022-12-31T11:13:37.022Z"
   },
   {
    "duration": 16,
    "start_time": "2022-12-31T11:16:48.709Z"
   },
   {
    "duration": 16,
    "start_time": "2022-12-31T11:17:01.779Z"
   },
   {
    "duration": 16,
    "start_time": "2022-12-31T11:20:24.939Z"
   },
   {
    "duration": 15,
    "start_time": "2022-12-31T11:22:16.816Z"
   },
   {
    "duration": 29,
    "start_time": "2022-12-31T11:22:30.864Z"
   },
   {
    "duration": 10,
    "start_time": "2022-12-31T11:22:41.249Z"
   },
   {
    "duration": 9,
    "start_time": "2022-12-31T11:22:46.108Z"
   },
   {
    "duration": 17,
    "start_time": "2022-12-31T11:22:56.480Z"
   },
   {
    "duration": 12,
    "start_time": "2022-12-31T11:22:59.192Z"
   },
   {
    "duration": 12,
    "start_time": "2022-12-31T11:31:00.165Z"
   },
   {
    "duration": 10,
    "start_time": "2022-12-31T11:31:14.596Z"
   },
   {
    "duration": 9,
    "start_time": "2022-12-31T11:32:10.969Z"
   },
   {
    "duration": 5,
    "start_time": "2022-12-31T11:32:32.645Z"
   },
   {
    "duration": 7,
    "start_time": "2022-12-31T11:33:06.238Z"
   },
   {
    "duration": 3,
    "start_time": "2022-12-31T11:33:17.854Z"
   },
   {
    "duration": 5,
    "start_time": "2022-12-31T11:33:21.861Z"
   },
   {
    "duration": 9,
    "start_time": "2022-12-31T11:39:34.880Z"
   },
   {
    "duration": 37,
    "start_time": "2022-12-31T11:39:51.117Z"
   },
   {
    "duration": 61,
    "start_time": "2022-12-31T11:40:32.641Z"
   },
   {
    "duration": 8,
    "start_time": "2022-12-31T11:40:54.166Z"
   },
   {
    "duration": 38,
    "start_time": "2022-12-31T11:41:07.748Z"
   },
   {
    "duration": 18,
    "start_time": "2022-12-31T11:42:47.099Z"
   },
   {
    "duration": 18,
    "start_time": "2022-12-31T11:42:49.265Z"
   },
   {
    "duration": 4,
    "start_time": "2022-12-31T11:42:56.118Z"
   },
   {
    "duration": 17,
    "start_time": "2022-12-31T11:42:58.104Z"
   },
   {
    "duration": 11,
    "start_time": "2022-12-31T11:42:59.343Z"
   },
   {
    "duration": 16,
    "start_time": "2022-12-31T11:43:00.697Z"
   },
   {
    "duration": 17,
    "start_time": "2022-12-31T11:43:01.479Z"
   },
   {
    "duration": 16,
    "start_time": "2022-12-31T11:45:58.928Z"
   },
   {
    "duration": 17,
    "start_time": "2022-12-31T11:46:16.200Z"
   },
   {
    "duration": 17,
    "start_time": "2022-12-31T11:46:32.956Z"
   },
   {
    "duration": 12,
    "start_time": "2022-12-31T11:46:33.987Z"
   },
   {
    "duration": 15,
    "start_time": "2022-12-31T11:46:34.941Z"
   },
   {
    "duration": 12,
    "start_time": "2022-12-31T11:46:35.831Z"
   },
   {
    "duration": 4,
    "start_time": "2022-12-31T11:47:02.159Z"
   },
   {
    "duration": 19,
    "start_time": "2022-12-31T11:47:03.769Z"
   },
   {
    "duration": 11,
    "start_time": "2022-12-31T11:47:04.269Z"
   },
   {
    "duration": 14,
    "start_time": "2022-12-31T11:47:04.720Z"
   },
   {
    "duration": 14,
    "start_time": "2022-12-31T11:47:05.185Z"
   }
  ],
  "colab": {
   "collapsed_sections": [
    "E0vqbgi9ay0H",
    "VUC88oWjTJw2"
   ],
   "name": "automatization_template_upd4.ipynb",
   "provenance": []
  },
  "kernelspec": {
   "display_name": "Python 3 (ipykernel)",
   "language": "python",
   "name": "python3"
  },
  "language_info": {
   "codemirror_mode": {
    "name": "ipython",
    "version": 3
   },
   "file_extension": ".py",
   "mimetype": "text/x-python",
   "name": "python",
   "nbconvert_exporter": "python",
   "pygments_lexer": "ipython3",
   "version": "3.9.13"
  },
  "nbTranslate": {
   "displayLangs": [],
   "hotkey": "alt-t",
   "langInMainMenu": true,
   "sourceLang": "ru",
   "targetLang": "en",
   "useGoogleTranslate": true
  },
  "toc": {
   "base_numbering": 1,
   "nav_menu": {
    "height": "215px",
    "width": "403px"
   },
   "number_sections": true,
   "sideBar": true,
   "skip_h1_title": true,
   "title_cell": "Table of Contents",
   "title_sidebar": "Contents",
   "toc_cell": false,
   "toc_position": {
    "height": "calc(100% - 180px)",
    "left": "10px",
    "top": "150px",
    "width": "285.825px"
   },
   "toc_section_display": true,
   "toc_window_display": false
  }
 },
 "nbformat": 4,
 "nbformat_minor": 1
}
