{
 "cells": [
  {
   "cell_type": "markdown",
   "metadata": {},
   "source": [
    "# Data protection"
   ]
  },
  {
   "cell_type": "markdown",
   "metadata": {
    "lang": "en"
   },
   "source": [
    "You need to protect the data of clients of an insurance company. Develop a method for transforming data so that it is difficult to recover personal information from it. Justify the correctness of its operation.\n",
    "\n",
    "It is necessary to protect the data so that the quality of machine learning models does not deteriorate during conversion. There is no need to select the best model."
   ]
  },
  {
   "cell_type": "markdown",
   "metadata": {
    "lang": "en"
   },
   "source": [
    "## Loading data"
   ]
  },
  {
   "cell_type": "code",
   "execution_count": 1,
   "metadata": {},
   "outputs": [],
   "source": [
    "import pandas as pd\n",
    "import numpy as np\n",
    "from sklearn.metrics import r2_score\n",
    "from sklearn.linear_model import LinearRegression"
   ]
  },
  {
   "cell_type": "code",
   "execution_count": 2,
   "metadata": {
    "scrolled": true
   },
   "outputs": [
    {
     "data": {
      "text/html": [
       "<div>\n",
       "<style scoped>\n",
       "    .dataframe tbody tr th:only-of-type {\n",
       "        vertical-align: middle;\n",
       "    }\n",
       "\n",
       "    .dataframe tbody tr th {\n",
       "        vertical-align: top;\n",
       "    }\n",
       "\n",
       "    .dataframe thead th {\n",
       "        text-align: right;\n",
       "    }\n",
       "</style>\n",
       "<table border=\"1\" class=\"dataframe\">\n",
       "  <thead>\n",
       "    <tr style=\"text-align: right;\">\n",
       "      <th></th>\n",
       "      <th>Пол</th>\n",
       "      <th>Возраст</th>\n",
       "      <th>Зарплата</th>\n",
       "      <th>Члены семьи</th>\n",
       "      <th>Страховые выплаты</th>\n",
       "    </tr>\n",
       "  </thead>\n",
       "  <tbody>\n",
       "    <tr>\n",
       "      <th>0</th>\n",
       "      <td>1</td>\n",
       "      <td>41.0</td>\n",
       "      <td>49600.0</td>\n",
       "      <td>1</td>\n",
       "      <td>0</td>\n",
       "    </tr>\n",
       "    <tr>\n",
       "      <th>1</th>\n",
       "      <td>0</td>\n",
       "      <td>46.0</td>\n",
       "      <td>38000.0</td>\n",
       "      <td>1</td>\n",
       "      <td>1</td>\n",
       "    </tr>\n",
       "    <tr>\n",
       "      <th>2</th>\n",
       "      <td>0</td>\n",
       "      <td>29.0</td>\n",
       "      <td>21000.0</td>\n",
       "      <td>0</td>\n",
       "      <td>0</td>\n",
       "    </tr>\n",
       "    <tr>\n",
       "      <th>3</th>\n",
       "      <td>0</td>\n",
       "      <td>21.0</td>\n",
       "      <td>41700.0</td>\n",
       "      <td>2</td>\n",
       "      <td>0</td>\n",
       "    </tr>\n",
       "    <tr>\n",
       "      <th>4</th>\n",
       "      <td>1</td>\n",
       "      <td>28.0</td>\n",
       "      <td>26100.0</td>\n",
       "      <td>0</td>\n",
       "      <td>0</td>\n",
       "    </tr>\n",
       "  </tbody>\n",
       "</table>\n",
       "</div>"
      ],
      "text/plain": [
       "   Пол  Возраст  Зарплата  Члены семьи  Страховые выплаты\n",
       "0    1     41.0   49600.0            1                  0\n",
       "1    0     46.0   38000.0            1                  1\n",
       "2    0     29.0   21000.0            0                  0\n",
       "3    0     21.0   41700.0            2                  0\n",
       "4    1     28.0   26100.0            0                  0"
      ]
     },
     "execution_count": 2,
     "metadata": {},
     "output_type": "execute_result"
    }
   ],
   "source": [
    "data = pd.read_csv('/datasets/insurance.csv')\n",
    "data.head()"
   ]
  },
  {
   "cell_type": "code",
   "execution_count": 3,
   "metadata": {},
   "outputs": [],
   "source": [
    "data['Возраст'] = data['Возраст'].astype('int')"
   ]
  },
  {
   "cell_type": "code",
   "execution_count": 4,
   "metadata": {},
   "outputs": [
    {
     "name": "stdout",
     "output_type": "stream",
     "text": [
      "<class 'pandas.core.frame.DataFrame'>\n",
      "RangeIndex: 5000 entries, 0 to 4999\n",
      "Data columns (total 5 columns):\n",
      " #   Column             Non-Null Count  Dtype  \n",
      "---  ------             --------------  -----  \n",
      " 0   Пол                5000 non-null   int64  \n",
      " 1   Возраст            5000 non-null   int64  \n",
      " 2   Зарплата           5000 non-null   float64\n",
      " 3   Члены семьи        5000 non-null   int64  \n",
      " 4   Страховые выплаты  5000 non-null   int64  \n",
      "dtypes: float64(1), int64(4)\n",
      "memory usage: 195.4 KB\n"
     ]
    }
   ],
   "source": [
    "data.info()"
   ]
  },
  {
   "cell_type": "code",
   "execution_count": 5,
   "metadata": {},
   "outputs": [
    {
     "data": {
      "text/plain": [
       "Пол                  0\n",
       "Возраст              0\n",
       "Зарплата             0\n",
       "Члены семьи          0\n",
       "Страховые выплаты    0\n",
       "dtype: int64"
      ]
     },
     "execution_count": 5,
     "metadata": {},
     "output_type": "execute_result"
    }
   ],
   "source": [
    "data.isna().sum()"
   ]
  },
  {
   "cell_type": "code",
   "execution_count": 6,
   "metadata": {},
   "outputs": [
    {
     "data": {
      "text/plain": [
       "153"
      ]
     },
     "execution_count": 6,
     "metadata": {},
     "output_type": "execute_result"
    }
   ],
   "source": [
    "data.duplicated().sum()"
   ]
  },
  {
   "cell_type": "code",
   "execution_count": 7,
   "metadata": {},
   "outputs": [],
   "source": [
    "data = data.drop_duplicates()"
   ]
  },
  {
   "cell_type": "code",
   "execution_count": 8,
   "metadata": {},
   "outputs": [
    {
     "data": {
      "text/plain": [
       "4847"
      ]
     },
     "execution_count": 8,
     "metadata": {},
     "output_type": "execute_result"
    }
   ],
   "source": [
    "len(data)"
   ]
  },
  {
   "cell_type": "code",
   "execution_count": 9,
   "metadata": {},
   "outputs": [
    {
     "data": {
      "text/html": [
       "<div>\n",
       "<style scoped>\n",
       "    .dataframe tbody tr th:only-of-type {\n",
       "        vertical-align: middle;\n",
       "    }\n",
       "\n",
       "    .dataframe tbody tr th {\n",
       "        vertical-align: top;\n",
       "    }\n",
       "\n",
       "    .dataframe thead th {\n",
       "        text-align: right;\n",
       "    }\n",
       "</style>\n",
       "<table border=\"1\" class=\"dataframe\">\n",
       "  <thead>\n",
       "    <tr style=\"text-align: right;\">\n",
       "      <th></th>\n",
       "      <th>count</th>\n",
       "      <th>mean</th>\n",
       "      <th>std</th>\n",
       "      <th>min</th>\n",
       "      <th>25%</th>\n",
       "      <th>50%</th>\n",
       "      <th>75%</th>\n",
       "      <th>max</th>\n",
       "    </tr>\n",
       "  </thead>\n",
       "  <tbody>\n",
       "    <tr>\n",
       "      <th>Пол</th>\n",
       "      <td>4847.0</td>\n",
       "      <td>0.498453</td>\n",
       "      <td>0.500049</td>\n",
       "      <td>0.0</td>\n",
       "      <td>0.0</td>\n",
       "      <td>0.0</td>\n",
       "      <td>1.0</td>\n",
       "      <td>1.0</td>\n",
       "    </tr>\n",
       "    <tr>\n",
       "      <th>Возраст</th>\n",
       "      <td>4847.0</td>\n",
       "      <td>31.023932</td>\n",
       "      <td>8.487995</td>\n",
       "      <td>18.0</td>\n",
       "      <td>24.0</td>\n",
       "      <td>30.0</td>\n",
       "      <td>37.0</td>\n",
       "      <td>65.0</td>\n",
       "    </tr>\n",
       "    <tr>\n",
       "      <th>Зарплата</th>\n",
       "      <td>4847.0</td>\n",
       "      <td>39895.811842</td>\n",
       "      <td>9972.953985</td>\n",
       "      <td>5300.0</td>\n",
       "      <td>33200.0</td>\n",
       "      <td>40200.0</td>\n",
       "      <td>46600.0</td>\n",
       "      <td>79000.0</td>\n",
       "    </tr>\n",
       "    <tr>\n",
       "      <th>Члены семьи</th>\n",
       "      <td>4847.0</td>\n",
       "      <td>1.203425</td>\n",
       "      <td>1.098664</td>\n",
       "      <td>0.0</td>\n",
       "      <td>0.0</td>\n",
       "      <td>1.0</td>\n",
       "      <td>2.0</td>\n",
       "      <td>6.0</td>\n",
       "    </tr>\n",
       "    <tr>\n",
       "      <th>Страховые выплаты</th>\n",
       "      <td>4847.0</td>\n",
       "      <td>0.152259</td>\n",
       "      <td>0.468934</td>\n",
       "      <td>0.0</td>\n",
       "      <td>0.0</td>\n",
       "      <td>0.0</td>\n",
       "      <td>0.0</td>\n",
       "      <td>5.0</td>\n",
       "    </tr>\n",
       "  </tbody>\n",
       "</table>\n",
       "</div>"
      ],
      "text/plain": [
       "                    count          mean          std     min      25%  \\\n",
       "Пол                4847.0      0.498453     0.500049     0.0      0.0   \n",
       "Возраст            4847.0     31.023932     8.487995    18.0     24.0   \n",
       "Зарплата           4847.0  39895.811842  9972.953985  5300.0  33200.0   \n",
       "Члены семьи        4847.0      1.203425     1.098664     0.0      0.0   \n",
       "Страховые выплаты  4847.0      0.152259     0.468934     0.0      0.0   \n",
       "\n",
       "                       50%      75%      max  \n",
       "Пол                    0.0      1.0      1.0  \n",
       "Возраст               30.0     37.0     65.0  \n",
       "Зарплата           40200.0  46600.0  79000.0  \n",
       "Члены семьи            1.0      2.0      6.0  \n",
       "Страховые выплаты      0.0      0.0      5.0  "
      ]
     },
     "execution_count": 9,
     "metadata": {},
     "output_type": "execute_result"
    }
   ],
   "source": [
    "data.describe().T"
   ]
  },
  {
   "cell_type": "code",
   "execution_count": 10,
   "metadata": {},
   "outputs": [
    {
     "data": {
      "text/plain": [
       "<AxesSubplot:>"
      ]
     },
     "execution_count": 10,
     "metadata": {},
     "output_type": "execute_result"
    },
    {
     "data": {
      "image/png": "[encoded data removed]",
      "text/plain": [
       "<Figure size 432x288 with 1 Axes>"
      ]
     },
     "metadata": {
      "needs_background": "light"
     },
     "output_type": "display_data"
    }
   ],
   "source": [
    "data['Страховые выплаты'].plot(kind='box')"
   ]
  },
  {
   "cell_type": "code",
   "execution_count": 11,
   "metadata": {},
   "outputs": [
    {
     "data": {
      "text/plain": [
       "<AxesSubplot:ylabel='Frequency'>"
      ]
     },
     "execution_count": 11,
     "metadata": {},
     "output_type": "execute_result"
    },
    {
     "data": {
      "image/png": "[encoded data removed]",
      "text/plain": [
       "<Figure size 432x288 with 1 Axes>"
      ]
     },
     "metadata": {
      "needs_background": "light"
     },
     "output_type": "display_data"
    }
   ],
   "source": [
    "data['Страховые выплаты'].plot(kind='hist')"
   ]
  },
  {
   "cell_type": "code",
   "execution_count": 12,
   "metadata": {},
   "outputs": [
    {
     "data": {
      "text/plain": [
       "0    88.384568\n",
       "1     8.727048\n",
       "2     2.351970\n",
       "3     0.371364\n",
       "4     0.144419\n",
       "5     0.020631\n",
       "Name: Страховые выплаты, dtype: float64"
      ]
     },
     "execution_count": 12,
     "metadata": {},
     "output_type": "execute_result"
    }
   ],
   "source": [
    "data['Страховые выплаты'].value_counts(normalize=True).mul(100)"
   ]
  },
  {
   "cell_type": "code",
   "execution_count": 13,
   "metadata": {},
   "outputs": [],
   "source": [
    "data = data.reset_index(drop=True)"
   ]
  },
  {
   "cell_type": "markdown",
   "metadata": {
    "lang": "en"
   },
   "source": [
    "## Matrix multiplication"
   ]
  },
  {
   "cell_type": "markdown",
   "metadata": {},
   "source": [
    "**Question:** will the predictions of the regression model change if we chage the feature matrix by multiplying it with a random _invertible_ matrix?"
   ]
  },
  {
   "cell_type": "markdown",
   "metadata": {
    "lang": "en"
   },
   "source": [
    "Designations:\n",
    "\n",
    "- $X$ — feature matrix (the zero column consists of ones)\n",
    "\n",
    "- $y$ — target feature vector\n",
    "\n",
    "- $P$ — matrix by which features are multiplied\n",
    "\n",
    "- $w$ — vector of linear regression weights (zero element correspond to shift)"
   ]
  },
  {
   "cell_type": "markdown",
   "metadata": {
    "lang": "en"
   },
   "source": [
    "Predictions:\n",
    "\n",
    "$$\n",
    "a = Xw\n",
    "$$\n",
    "\n",
    "Learning Objective:\n",
    "\n",
    "$$\n",
    "w = \\arg\\min_w MSE(Xw, y)\n",
    "$$\n",
    "\n",
    "Training formula:\n",
    "\n",
    "$$\n",
    "w = (X^T X)^{-1} X^T y\n",
    "$$"
   ]
  },
  {
   "cell_type": "markdown",
   "metadata": {
    "lang": "en"
   },
   "source": [
    "**Answer:** The quality of the model will not change\n",
    "\n",
    "**Rationale:** The linear regression parameters of the original problem and the transformed one are related as follows\n",
    "\n",
    "$$\n",
    "w_1 = ((XP)^T (XP))^{-1} (XP)^T y\n",
    "$$\n",
    "\n",
    "$$\n",
    "w_1 = (P^T X^T XP)^{-1} P^T X^T y\n",
    "$$\n",
    "\n",
    "$$\n",
    "w_1 = P^{-1} (X^T X)^{-1} (P^T)^{-1} P^T X^T y\n",
    "$$\n",
    "\n",
    "$$\n",
    "w_1 = P^{-1} (X^T X)^{-1} X^T y\n",
    "$$\n",
    "\n",
    "$$\n",
    "w_1 = P^{-1} w\n",
    "$$\n",
    "\n",
    "Model predictions will remain the same\n",
    "\n",
    "$$\n",
    "a_1 = XP w_1 = XP P^{-1}w = Xw = a\n",
    "$$"
   ]
  },
  {
   "cell_type": "markdown",
   "metadata": {
    "lang": "en"
   },
   "source": [
    "## Conversion algorithm"
   ]
  },
  {
   "cell_type": "markdown",
   "metadata": {
    "lang": "en"
   },
   "source": [
    "**Algorithm**\n",
    "\n",
    "1. creating a random square invertible matrix\n",
    "2. multiplying the feature matrix by the created matrix\n",
    "3. checking for significant differences between the resulting matrix and the original one\n",
    "3. solving linear regression model"
   ]
  },
  {
   "cell_type": "markdown",
   "metadata": {
    "lang": "en"
   },
   "source": [
    "**Rationale**\n",
    "\n",
    "From the reasoning of the previous paragraph it follows that the matrix of features and weights of the model will change, but its predictions will remain the same. Without the knowledge of the generated random matrix, it will be difficult to determine the original feature matrix. Data will be protected"
   ]
  },
  {
   "cell_type": "markdown",
   "metadata": {
    "lang": "en"
   },
   "source": [
    "## Algorithm check"
   ]
  },
  {
   "cell_type": "code",
   "execution_count": 14,
   "metadata": {},
   "outputs": [],
   "source": [
    "X = data.drop(columns='Страховые выплаты').values\n",
    "y = data['Страховые выплаты'].values"
   ]
  },
  {
   "cell_type": "code",
   "execution_count": 15,
   "metadata": {
    "scrolled": true
   },
   "outputs": [
    {
     "data": {
      "text/plain": [
       "array([[ 1.02857143,  0.5       ,  0.28571429, -0.71428571],\n",
       "       [ 0.6       ,  0.        ,  0.5       , -0.5       ],\n",
       "       [-1.77142857, -0.5       , -0.71428571,  1.28571429],\n",
       "       [ 0.2       ,  0.        ,  0.        ,  0.        ]])"
      ]
     },
     "execution_count": 15,
     "metadata": {},
     "output_type": "execute_result"
    }
   ],
   "source": [
    "P = np.random.randint(11, size=(X.shape[1], X.shape[1]))\n",
    "np.linalg.inv(P) # np.linalg.inv() is added to check if the matrix is revertible"
   ]
  },
  {
   "cell_type": "code",
   "execution_count": 16,
   "metadata": {},
   "outputs": [
    {
     "data": {
      "text/plain": [
       "array([[347535., 396970., 347453.,  99213.],\n",
       "       [266375., 304190., 266283.,  76008.],\n",
       "       [147232., 168116., 147174.,  42000.],\n",
       "       ...,\n",
       "       [237474., 271292., 237434.,  67816.],\n",
       "       [229097., 261706., 229053.,  65429.],\n",
       "       [284431., 324918., 284375.,  81213.]])"
      ]
     },
     "execution_count": 16,
     "metadata": {},
     "output_type": "execute_result"
    }
   ],
   "source": [
    "X1 = X @ P\n",
    "X1"
   ]
  },
  {
   "cell_type": "code",
   "execution_count": 17,
   "metadata": {},
   "outputs": [
    {
     "data": {
      "text/plain": [
       "array([[-347534., -396929., -297853.,  -99212.],\n",
       "       [-266375., -304144., -228283.,  -76007.],\n",
       "       [-147232., -168087., -126174.,  -42000.],\n",
       "       ...,\n",
       "       [-237474., -271272., -203534.,  -67814.],\n",
       "       [-229096., -261684., -196353.,  -65426.],\n",
       "       [-284430., -324890., -243775.,  -81212.]])"
      ]
     },
     "execution_count": 17,
     "metadata": {},
     "output_type": "execute_result"
    }
   ],
   "source": [
    "X - X1"
   ]
  },
  {
   "cell_type": "markdown",
   "metadata": {
    "lang": "en"
   },
   "source": [
    "As you can see, the difference between the original and the resulting matrix is ​​far from 0."
   ]
  },
  {
   "cell_type": "code",
   "execution_count": 18,
   "metadata": {},
   "outputs": [
    {
     "data": {
      "text/plain": [
       "0.4302010044851797"
      ]
     },
     "execution_count": 18,
     "metadata": {},
     "output_type": "execute_result"
    }
   ],
   "source": [
    "model = LinearRegression()\n",
    "model.fit(X1, y)\n",
    "predictions = model.predict(X1)\n",
    "r2_score(y, predictions)"
   ]
  },
  {
   "cell_type": "code",
   "execution_count": 19,
   "metadata": {},
   "outputs": [
    {
     "data": {
      "text/plain": [
       "array([ 0.51932881,  0.69230097,  0.09412742, ..., -0.26164511,\n",
       "       -0.19394186,  0.05044763])"
      ]
     },
     "execution_count": 19,
     "metadata": {},
     "output_type": "execute_result"
    }
   ],
   "source": [
    "predictions"
   ]
  },
  {
   "cell_type": "code",
   "execution_count": 20,
   "metadata": {},
   "outputs": [
    {
     "data": {
      "text/plain": [
       "0.4302010044852066"
      ]
     },
     "execution_count": 20,
     "metadata": {},
     "output_type": "execute_result"
    }
   ],
   "source": [
    "model.fit(X, y)\n",
    "predictions = model.predict(X)\n",
    "r2_score(y, predictions)"
   ]
  },
  {
   "cell_type": "code",
   "execution_count": 21,
   "metadata": {},
   "outputs": [
    {
     "data": {
      "text/plain": [
       "array([ 0.51932881,  0.69230097,  0.09412742, ..., -0.26164511,\n",
       "       -0.19394186,  0.05044763])"
      ]
     },
     "execution_count": 21,
     "metadata": {},
     "output_type": "execute_result"
    }
   ],
   "source": [
    "predictions"
   ]
  },
  {
   "cell_type": "markdown",
   "metadata": {
    "lang": "en"
   },
   "source": [
    "**Description of work and conclusion:**\n",
    "\n",
    "\n",
    "Insurance company customer data was downloaded and prepared for analysis:\n",
    "\n",
    "\n",
    "1. changed the client age data type to natural numbers like int\n",
    "2. the dataset was checked for gaps: there are none\n",
    "3. duplicate rows have been removed (153 rows out of 5000)\n",
    "4. It was found that insurance payments were issued to only 12% of clients\n",
    "\n",
    "\n",
    "Multiplying the feature matrix by the invertible matrix will change the weights of the linear regression model, but not its predictions, meaning the quality of the model will not change. The following algorithm is based on this idea.\n",
    "\n",
    "\n",
    "The algorithm for protecting customer data can be described as follows:\n",
    "\n",
    "1. creating a random square matrix with the dimension of the number of features\n",
    "2. checking it for inverse: if its determinant is 0, then create a new matrix\n",
    "3. multiplying the feature matrix by the generated matrix\n",
    "4. checking for a significant difference between the resulting matrix and the original one: if it is close to zero, then create a new matrix\n",
    "5. solving linear regression model\n",
    "\n",
    "This algorithm will protect customer data, since without knowledge of the generated matrix it is difficult to derive the original data. However, as described above, the linear regression results will not change.\n",
    "\n",
    "\n",
    "Checking the results of linear regression on the original data and processed by this algorithm confirms that the predictions remain the same and the R2 metric remains the same."
   ]
  }
 ],
 "metadata": {
  "ExecuteTimeLog": [
   {
    "duration": 1155,
    "start_time": "2023-05-11T07:26:13.118Z"
   },
   {
    "duration": 18,
    "start_time": "2023-05-11T07:26:21.953Z"
   },
   {
    "duration": 13,
    "start_time": "2023-05-11T07:27:01.934Z"
   },
   {
    "duration": 105,
    "start_time": "2023-05-11T07:27:07.190Z"
   },
   {
    "duration": 29,
    "start_time": "2023-05-11T07:27:12.966Z"
   },
   {
    "duration": 34,
    "start_time": "2023-05-11T07:51:28.153Z"
   },
   {
    "duration": 28,
    "start_time": "2023-05-11T07:51:59.144Z"
   },
   {
    "duration": 575,
    "start_time": "2023-05-11T07:53:55.671Z"
   },
   {
    "duration": 168,
    "start_time": "2023-05-11T07:54:39.076Z"
   },
   {
    "duration": 9641,
    "start_time": "2023-05-11T07:54:49.613Z"
   },
   {
    "duration": 435,
    "start_time": "2023-05-11T07:55:03.297Z"
   },
   {
    "duration": 9,
    "start_time": "2023-05-11T07:55:53.496Z"
   },
   {
    "duration": 8,
    "start_time": "2023-05-11T07:56:12.000Z"
   },
   {
    "duration": 7,
    "start_time": "2023-05-11T07:56:35.935Z"
   },
   {
    "duration": 7,
    "start_time": "2023-05-11T07:56:44.268Z"
   },
   {
    "duration": 12,
    "start_time": "2023-05-11T07:57:29.364Z"
   },
   {
    "duration": 8,
    "start_time": "2023-05-11T07:57:54.386Z"
   },
   {
    "duration": 7,
    "start_time": "2023-05-11T08:06:26.143Z"
   },
   {
    "duration": 22,
    "start_time": "2023-05-11T08:07:08.780Z"
   },
   {
    "duration": 6,
    "start_time": "2023-05-11T08:07:21.707Z"
   },
   {
    "duration": 4,
    "start_time": "2023-05-11T08:07:34.839Z"
   },
   {
    "duration": 28,
    "start_time": "2023-05-11T08:07:38.365Z"
   },
   {
    "duration": 105,
    "start_time": "2023-05-11T08:07:44.795Z"
   },
   {
    "duration": 150,
    "start_time": "2023-05-11T08:07:47.402Z"
   },
   {
    "duration": 10,
    "start_time": "2023-05-11T08:07:49.152Z"
   },
   {
    "duration": 14,
    "start_time": "2023-05-11T08:08:36.086Z"
   },
   {
    "duration": 3,
    "start_time": "2023-05-11T08:09:18.382Z"
   },
   {
    "duration": 4,
    "start_time": "2023-05-11T08:17:57.498Z"
   },
   {
    "duration": 5,
    "start_time": "2023-05-11T09:02:14.931Z"
   },
   {
    "duration": 21,
    "start_time": "2023-05-11T09:02:40.824Z"
   },
   {
    "duration": 7,
    "start_time": "2023-05-11T09:02:51.537Z"
   },
   {
    "duration": 3,
    "start_time": "2023-05-11T09:03:50.272Z"
   },
   {
    "duration": 5,
    "start_time": "2023-05-11T09:04:15.573Z"
   },
   {
    "duration": 5,
    "start_time": "2023-05-11T09:07:22.847Z"
   },
   {
    "duration": 6,
    "start_time": "2023-05-11T09:07:24.481Z"
   },
   {
    "duration": 3,
    "start_time": "2023-05-11T09:07:25.971Z"
   },
   {
    "duration": 5,
    "start_time": "2023-05-11T09:07:27.098Z"
   },
   {
    "duration": 4,
    "start_time": "2023-05-11T09:07:29.390Z"
   },
   {
    "duration": 7,
    "start_time": "2023-05-11T09:07:35.955Z"
   },
   {
    "duration": 19,
    "start_time": "2023-05-11T09:08:11.906Z"
   },
   {
    "duration": 15,
    "start_time": "2023-05-11T09:08:37.872Z"
   },
   {
    "duration": 8,
    "start_time": "2023-05-11T09:09:38.941Z"
   },
   {
    "duration": 56,
    "start_time": "2023-05-11T09:09:48.956Z"
   },
   {
    "duration": 11,
    "start_time": "2023-05-11T09:10:46.249Z"
   },
   {
    "duration": 8,
    "start_time": "2023-05-11T09:11:14.383Z"
   },
   {
    "duration": 8,
    "start_time": "2023-05-11T09:11:21.327Z"
   },
   {
    "duration": 30,
    "start_time": "2023-05-11T09:15:08.701Z"
   },
   {
    "duration": 188,
    "start_time": "2023-05-11T09:16:14.931Z"
   },
   {
    "duration": 10,
    "start_time": "2023-05-11T09:17:17.328Z"
   },
   {
    "duration": 10,
    "start_time": "2023-05-11T09:17:36.925Z"
   },
   {
    "duration": 4,
    "start_time": "2023-05-11T09:20:57.878Z"
   },
   {
    "duration": 5,
    "start_time": "2023-05-11T09:21:05.535Z"
   },
   {
    "duration": 5,
    "start_time": "2023-05-11T09:21:25.446Z"
   },
   {
    "duration": 5,
    "start_time": "2023-05-11T09:21:40.816Z"
   },
   {
    "duration": 3,
    "start_time": "2023-05-11T09:22:37.140Z"
   },
   {
    "duration": 14,
    "start_time": "2023-05-11T09:23:31.689Z"
   },
   {
    "duration": 10,
    "start_time": "2023-05-11T09:24:03.212Z"
   },
   {
    "duration": 11,
    "start_time": "2023-05-11T09:25:26.681Z"
   },
   {
    "duration": 5,
    "start_time": "2023-05-11T09:25:46.150Z"
   },
   {
    "duration": 4,
    "start_time": "2023-05-11T09:25:55.753Z"
   },
   {
    "duration": 10,
    "start_time": "2023-05-11T09:27:58.294Z"
   },
   {
    "duration": 3,
    "start_time": "2023-05-11T09:29:40.628Z"
   },
   {
    "duration": 34,
    "start_time": "2023-05-11T09:29:40.633Z"
   },
   {
    "duration": 4,
    "start_time": "2023-05-11T09:29:40.669Z"
   },
   {
    "duration": 15,
    "start_time": "2023-05-11T09:29:40.675Z"
   },
   {
    "duration": 8,
    "start_time": "2023-05-11T09:29:40.694Z"
   },
   {
    "duration": 14,
    "start_time": "2023-05-11T09:29:40.704Z"
   },
   {
    "duration": 7,
    "start_time": "2023-05-11T09:29:40.720Z"
   },
   {
    "duration": 5,
    "start_time": "2023-05-11T09:29:40.729Z"
   },
   {
    "duration": 40,
    "start_time": "2023-05-11T09:29:40.736Z"
   },
   {
    "duration": 154,
    "start_time": "2023-05-11T09:29:40.779Z"
   },
   {
    "duration": 146,
    "start_time": "2023-05-11T09:29:40.935Z"
   },
   {
    "duration": 7,
    "start_time": "2023-05-11T09:29:41.083Z"
   },
   {
    "duration": 21,
    "start_time": "2023-05-11T09:29:41.091Z"
   },
   {
    "duration": 6,
    "start_time": "2023-05-11T09:29:41.115Z"
   },
   {
    "duration": 21,
    "start_time": "2023-05-11T09:29:41.122Z"
   },
   {
    "duration": 66,
    "start_time": "2023-05-11T09:29:41.147Z"
   },
   {
    "duration": 12,
    "start_time": "2023-05-11T09:29:41.215Z"
   },
   {
    "duration": 7,
    "start_time": "2023-05-11T09:29:41.313Z"
   },
   {
    "duration": 95,
    "start_time": "2023-05-11T09:29:41.322Z"
   },
   {
    "duration": 96,
    "start_time": "2023-05-11T09:29:41.422Z"
   },
   {
    "duration": 97,
    "start_time": "2023-05-11T09:29:41.521Z"
   },
   {
    "duration": 90,
    "start_time": "2023-05-11T09:29:41.624Z"
   },
   {
    "duration": 13,
    "start_time": "2023-05-11T09:29:41.716Z"
   },
   {
    "duration": 89,
    "start_time": "2023-05-11T09:29:41.731Z"
   },
   {
    "duration": 59,
    "start_time": "2023-05-11T09:34:30.855Z"
   },
   {
    "duration": 4,
    "start_time": "2023-05-11T09:34:34.023Z"
   },
   {
    "duration": 4,
    "start_time": "2023-05-11T09:34:39.760Z"
   },
   {
    "duration": 15,
    "start_time": "2023-05-11T09:35:09.148Z"
   },
   {
    "duration": 10,
    "start_time": "2023-05-11T09:36:51.856Z"
   },
   {
    "duration": 13,
    "start_time": "2023-05-11T09:37:25.547Z"
   },
   {
    "duration": 5,
    "start_time": "2023-05-11T09:38:28.965Z"
   },
   {
    "duration": 9,
    "start_time": "2023-05-11T09:38:35.311Z"
   },
   {
    "duration": 10,
    "start_time": "2023-05-11T09:39:12.780Z"
   },
   {
    "duration": 13,
    "start_time": "2023-05-11T09:39:49.933Z"
   },
   {
    "duration": 7,
    "start_time": "2023-05-11T09:44:59.659Z"
   },
   {
    "duration": 21,
    "start_time": "2023-05-11T09:45:03.424Z"
   },
   {
    "duration": 7,
    "start_time": "2023-05-11T09:45:09.624Z"
   },
   {
    "duration": 2,
    "start_time": "2023-05-11T09:45:18.770Z"
   },
   {
    "duration": 14,
    "start_time": "2023-05-11T09:45:20.856Z"
   },
   {
    "duration": 12,
    "start_time": "2023-05-11T09:45:27.767Z"
   },
   {
    "duration": 13,
    "start_time": "2023-05-11T09:45:41.425Z"
   },
   {
    "duration": 6,
    "start_time": "2023-05-11T09:45:49.142Z"
   },
   {
    "duration": 11,
    "start_time": "2023-05-11T09:45:52.495Z"
   },
   {
    "duration": 9,
    "start_time": "2023-05-11T09:45:56.063Z"
   },
   {
    "duration": 4,
    "start_time": "2023-05-11T09:45:59.503Z"
   },
   {
    "duration": 5,
    "start_time": "2023-05-11T09:46:01.680Z"
   },
   {
    "duration": 9,
    "start_time": "2023-05-11T09:46:04.019Z"
   },
   {
    "duration": 4,
    "start_time": "2023-05-11T09:50:10.371Z"
   },
   {
    "duration": 13,
    "start_time": "2023-05-11T09:50:21.438Z"
   },
   {
    "duration": 5,
    "start_time": "2023-05-11T09:50:52.519Z"
   },
   {
    "duration": 6,
    "start_time": "2023-05-11T09:50:59.580Z"
   },
   {
    "duration": 34,
    "start_time": "2023-05-11T09:51:29.379Z"
   },
   {
    "duration": 9,
    "start_time": "2023-05-11T09:52:14.023Z"
   },
   {
    "duration": 5,
    "start_time": "2023-05-11T09:53:36.405Z"
   },
   {
    "duration": 13,
    "start_time": "2023-05-11T09:53:41.765Z"
   },
   {
    "duration": 4,
    "start_time": "2023-05-11T09:53:43.003Z"
   },
   {
    "duration": 8,
    "start_time": "2023-05-11T09:53:45.506Z"
   },
   {
    "duration": 6,
    "start_time": "2023-05-11T09:53:50.288Z"
   },
   {
    "duration": 4,
    "start_time": "2023-05-11T09:54:49.694Z"
   },
   {
    "duration": 39,
    "start_time": "2023-05-11T09:54:49.700Z"
   },
   {
    "duration": 4,
    "start_time": "2023-05-11T09:54:49.741Z"
   },
   {
    "duration": 37,
    "start_time": "2023-05-11T09:54:49.747Z"
   },
   {
    "duration": 9,
    "start_time": "2023-05-11T09:54:49.787Z"
   },
   {
    "duration": 22,
    "start_time": "2023-05-11T09:54:49.798Z"
   },
   {
    "duration": 6,
    "start_time": "2023-05-11T09:54:49.822Z"
   },
   {
    "duration": 4,
    "start_time": "2023-05-11T09:54:49.830Z"
   },
   {
    "duration": 41,
    "start_time": "2023-05-11T09:54:49.836Z"
   },
   {
    "duration": 144,
    "start_time": "2023-05-11T09:54:49.879Z"
   },
   {
    "duration": 170,
    "start_time": "2023-05-11T09:54:50.025Z"
   },
   {
    "duration": 8,
    "start_time": "2023-05-11T09:54:50.197Z"
   },
   {
    "duration": 11,
    "start_time": "2023-05-11T09:54:50.207Z"
   },
   {
    "duration": 7,
    "start_time": "2023-05-11T09:54:50.222Z"
   },
   {
    "duration": 12,
    "start_time": "2023-05-11T09:54:50.231Z"
   },
   {
    "duration": 69,
    "start_time": "2023-05-11T09:54:50.245Z"
   },
   {
    "duration": 7,
    "start_time": "2023-05-11T09:54:50.316Z"
   },
   {
    "duration": 88,
    "start_time": "2023-05-11T09:54:50.329Z"
   },
   {
    "duration": 98,
    "start_time": "2023-05-11T09:54:50.419Z"
   },
   {
    "duration": 97,
    "start_time": "2023-05-11T09:54:50.520Z"
   },
   {
    "duration": 5,
    "start_time": "2023-05-11T09:54:50.711Z"
   },
   {
    "duration": 2310,
    "start_time": "2023-05-12T05:48:06.770Z"
   },
   {
    "duration": 98,
    "start_time": "2023-05-12T05:48:09.082Z"
   },
   {
    "duration": 5,
    "start_time": "2023-05-12T05:48:09.182Z"
   },
   {
    "duration": 30,
    "start_time": "2023-05-12T05:48:09.189Z"
   },
   {
    "duration": 16,
    "start_time": "2023-05-12T05:48:09.221Z"
   },
   {
    "duration": 7,
    "start_time": "2023-05-12T05:48:09.238Z"
   },
   {
    "duration": 16,
    "start_time": "2023-05-12T05:48:09.247Z"
   },
   {
    "duration": 4,
    "start_time": "2023-05-12T05:48:09.265Z"
   },
   {
    "duration": 43,
    "start_time": "2023-05-12T05:48:09.271Z"
   },
   {
    "duration": 499,
    "start_time": "2023-05-12T05:48:09.318Z"
   },
   {
    "duration": 158,
    "start_time": "2023-05-12T05:48:09.820Z"
   },
   {
    "duration": 7,
    "start_time": "2023-05-12T05:48:09.980Z"
   },
   {
    "duration": 11,
    "start_time": "2023-05-12T05:48:09.988Z"
   },
   {
    "duration": 22,
    "start_time": "2023-05-12T05:48:10.001Z"
   },
   {
    "duration": 14,
    "start_time": "2023-05-12T05:48:10.025Z"
   },
   {
    "duration": 167,
    "start_time": "2023-05-12T05:48:10.041Z"
   },
   {
    "duration": 13,
    "start_time": "2023-05-12T05:48:10.211Z"
   },
   {
    "duration": 82,
    "start_time": "2023-05-12T05:48:10.226Z"
   },
   {
    "duration": 85,
    "start_time": "2023-05-12T05:48:10.318Z"
   },
   {
    "duration": 24,
    "start_time": "2023-05-12T05:48:10.406Z"
   },
   {
    "duration": 98,
    "start_time": "2023-05-12T05:48:10.512Z"
   }
  ],
  "kernelspec": {
   "display_name": "Python 3 (ipykernel)",
   "language": "python",
   "name": "python3"
  },
  "language_info": {
   "codemirror_mode": {
    "name": "ipython",
    "version": 3
   },
   "file_extension": ".py",
   "mimetype": "text/x-python",
   "name": "python",
   "nbconvert_exporter": "python",
   "pygments_lexer": "ipython3",
   "version": "3.9.13"
  },
  "nbTranslate": {
   "displayLangs": [],
   "hotkey": "alt-t",
   "langInMainMenu": true,
   "sourceLang": "ru",
   "targetLang": "en",
   "useGoogleTranslate": true
  },
  "toc": {
   "base_numbering": 1,
   "nav_menu": {},
   "number_sections": true,
   "sideBar": true,
   "skip_h1_title": true,
   "title_cell": "Содержание",
   "title_sidebar": "Contents",
   "toc_cell": false,
   "toc_position": {
    "height": "calc(100% - 180px)",
    "left": "10px",
    "top": "150px",
    "width": "225.222px"
   },
   "toc_section_display": true,
   "toc_window_display": true
  }
 },
 "nbformat": 4,
 "nbformat_minor": 2
}
