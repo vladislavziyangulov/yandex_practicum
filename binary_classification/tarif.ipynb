{
 "cells": [
  {
   "cell_type": "markdown",
   "metadata": {
    "lang": "en"
   },
   "source": [
    "# Recommendation of tariffs"
   ]
  },
  {
   "cell_type": "markdown",
   "metadata": {
    "lang": "en"
   },
   "source": [
    "At your disposal is data on the behavior of customers who have already switched to 2 tariffs. We need to build a model for the classification task that will select the appropriate tariff for a client.\n",
    "\n",
    "We build a model with the *accuracy* value of at least 0.75."
   ]
  },
  {
   "cell_type": "markdown",
   "metadata": {
    "lang": "en"
   },
   "source": [
    "## Open and examine the file"
   ]
  },
  {
   "cell_type": "code",
   "execution_count": 1,
   "metadata": {},
   "outputs": [
    {
     "data": {
      "text/html": [
       "<div>\n",
       "<style scoped>\n",
       "    .dataframe tbody tr th:only-of-type {\n",
       "        vertical-align: middle;\n",
       "    }\n",
       "\n",
       "    .dataframe tbody tr th {\n",
       "        vertical-align: top;\n",
       "    }\n",
       "\n",
       "    .dataframe thead th {\n",
       "        text-align: right;\n",
       "    }\n",
       "</style>\n",
       "<table border=\"1\" class=\"dataframe\">\n",
       "  <thead>\n",
       "    <tr style=\"text-align: right;\">\n",
       "      <th></th>\n",
       "      <th>calls</th>\n",
       "      <th>minutes</th>\n",
       "      <th>messages</th>\n",
       "      <th>mb_used</th>\n",
       "      <th>is_ultra</th>\n",
       "    </tr>\n",
       "  </thead>\n",
       "  <tbody>\n",
       "    <tr>\n",
       "      <th>0</th>\n",
       "      <td>40.0</td>\n",
       "      <td>311.90</td>\n",
       "      <td>83.0</td>\n",
       "      <td>19915.42</td>\n",
       "      <td>0</td>\n",
       "    </tr>\n",
       "    <tr>\n",
       "      <th>1</th>\n",
       "      <td>85.0</td>\n",
       "      <td>516.75</td>\n",
       "      <td>56.0</td>\n",
       "      <td>22696.96</td>\n",
       "      <td>0</td>\n",
       "    </tr>\n",
       "    <tr>\n",
       "      <th>2</th>\n",
       "      <td>77.0</td>\n",
       "      <td>467.66</td>\n",
       "      <td>86.0</td>\n",
       "      <td>21060.45</td>\n",
       "      <td>0</td>\n",
       "    </tr>\n",
       "    <tr>\n",
       "      <th>3</th>\n",
       "      <td>106.0</td>\n",
       "      <td>745.53</td>\n",
       "      <td>81.0</td>\n",
       "      <td>8437.39</td>\n",
       "      <td>1</td>\n",
       "    </tr>\n",
       "    <tr>\n",
       "      <th>4</th>\n",
       "      <td>66.0</td>\n",
       "      <td>418.74</td>\n",
       "      <td>1.0</td>\n",
       "      <td>14502.75</td>\n",
       "      <td>0</td>\n",
       "    </tr>\n",
       "    <tr>\n",
       "      <th>...</th>\n",
       "      <td>...</td>\n",
       "      <td>...</td>\n",
       "      <td>...</td>\n",
       "      <td>...</td>\n",
       "      <td>...</td>\n",
       "    </tr>\n",
       "    <tr>\n",
       "      <th>3209</th>\n",
       "      <td>122.0</td>\n",
       "      <td>910.98</td>\n",
       "      <td>20.0</td>\n",
       "      <td>35124.90</td>\n",
       "      <td>1</td>\n",
       "    </tr>\n",
       "    <tr>\n",
       "      <th>3210</th>\n",
       "      <td>25.0</td>\n",
       "      <td>190.36</td>\n",
       "      <td>0.0</td>\n",
       "      <td>3275.61</td>\n",
       "      <td>0</td>\n",
       "    </tr>\n",
       "    <tr>\n",
       "      <th>3211</th>\n",
       "      <td>97.0</td>\n",
       "      <td>634.44</td>\n",
       "      <td>70.0</td>\n",
       "      <td>13974.06</td>\n",
       "      <td>0</td>\n",
       "    </tr>\n",
       "    <tr>\n",
       "      <th>3212</th>\n",
       "      <td>64.0</td>\n",
       "      <td>462.32</td>\n",
       "      <td>90.0</td>\n",
       "      <td>31239.78</td>\n",
       "      <td>0</td>\n",
       "    </tr>\n",
       "    <tr>\n",
       "      <th>3213</th>\n",
       "      <td>80.0</td>\n",
       "      <td>566.09</td>\n",
       "      <td>6.0</td>\n",
       "      <td>29480.52</td>\n",
       "      <td>1</td>\n",
       "    </tr>\n",
       "  </tbody>\n",
       "</table>\n",
       "<p>3214 rows × 5 columns</p>\n",
       "</div>"
      ],
      "text/plain": [
       "      calls  minutes  messages   mb_used  is_ultra\n",
       "0      40.0   311.90      83.0  19915.42         0\n",
       "1      85.0   516.75      56.0  22696.96         0\n",
       "2      77.0   467.66      86.0  21060.45         0\n",
       "3     106.0   745.53      81.0   8437.39         1\n",
       "4      66.0   418.74       1.0  14502.75         0\n",
       "...     ...      ...       ...       ...       ...\n",
       "3209  122.0   910.98      20.0  35124.90         1\n",
       "3210   25.0   190.36       0.0   3275.61         0\n",
       "3211   97.0   634.44      70.0  13974.06         0\n",
       "3212   64.0   462.32      90.0  31239.78         0\n",
       "3213   80.0   566.09       6.0  29480.52         1\n",
       "\n",
       "[3214 rows x 5 columns]"
      ]
     },
     "execution_count": 1,
     "metadata": {},
     "output_type": "execute_result"
    }
   ],
   "source": [
    "import pandas as pd\n",
    "\n",
    "df = pd.read_csv('/datasets/users_behavior.csv')\n",
    "df"
   ]
  },
  {
   "cell_type": "code",
   "execution_count": 2,
   "metadata": {},
   "outputs": [
    {
     "data": {
      "text/html": [
       "<div>\n",
       "<style scoped>\n",
       "    .dataframe tbody tr th:only-of-type {\n",
       "        vertical-align: middle;\n",
       "    }\n",
       "\n",
       "    .dataframe tbody tr th {\n",
       "        vertical-align: top;\n",
       "    }\n",
       "\n",
       "    .dataframe thead th {\n",
       "        text-align: right;\n",
       "    }\n",
       "</style>\n",
       "<table border=\"1\" class=\"dataframe\">\n",
       "  <thead>\n",
       "    <tr style=\"text-align: right;\">\n",
       "      <th></th>\n",
       "      <th>count</th>\n",
       "      <th>mean</th>\n",
       "      <th>std</th>\n",
       "      <th>min</th>\n",
       "      <th>25%</th>\n",
       "      <th>50%</th>\n",
       "      <th>75%</th>\n",
       "      <th>max</th>\n",
       "    </tr>\n",
       "  </thead>\n",
       "  <tbody>\n",
       "    <tr>\n",
       "      <th>calls</th>\n",
       "      <td>3214.0</td>\n",
       "      <td>63.038892</td>\n",
       "      <td>33.236368</td>\n",
       "      <td>0.0</td>\n",
       "      <td>40.0000</td>\n",
       "      <td>62.000</td>\n",
       "      <td>82.0000</td>\n",
       "      <td>244.00</td>\n",
       "    </tr>\n",
       "    <tr>\n",
       "      <th>minutes</th>\n",
       "      <td>3214.0</td>\n",
       "      <td>438.208787</td>\n",
       "      <td>234.569872</td>\n",
       "      <td>0.0</td>\n",
       "      <td>274.5750</td>\n",
       "      <td>430.600</td>\n",
       "      <td>571.9275</td>\n",
       "      <td>1632.06</td>\n",
       "    </tr>\n",
       "    <tr>\n",
       "      <th>messages</th>\n",
       "      <td>3214.0</td>\n",
       "      <td>38.281269</td>\n",
       "      <td>36.148326</td>\n",
       "      <td>0.0</td>\n",
       "      <td>9.0000</td>\n",
       "      <td>30.000</td>\n",
       "      <td>57.0000</td>\n",
       "      <td>224.00</td>\n",
       "    </tr>\n",
       "    <tr>\n",
       "      <th>mb_used</th>\n",
       "      <td>3214.0</td>\n",
       "      <td>17207.673836</td>\n",
       "      <td>7570.968246</td>\n",
       "      <td>0.0</td>\n",
       "      <td>12491.9025</td>\n",
       "      <td>16943.235</td>\n",
       "      <td>21424.7000</td>\n",
       "      <td>49745.73</td>\n",
       "    </tr>\n",
       "    <tr>\n",
       "      <th>is_ultra</th>\n",
       "      <td>3214.0</td>\n",
       "      <td>0.306472</td>\n",
       "      <td>0.461100</td>\n",
       "      <td>0.0</td>\n",
       "      <td>0.0000</td>\n",
       "      <td>0.000</td>\n",
       "      <td>1.0000</td>\n",
       "      <td>1.00</td>\n",
       "    </tr>\n",
       "  </tbody>\n",
       "</table>\n",
       "</div>"
      ],
      "text/plain": [
       "           count          mean          std  min         25%        50%  \\\n",
       "calls     3214.0     63.038892    33.236368  0.0     40.0000     62.000   \n",
       "minutes   3214.0    438.208787   234.569872  0.0    274.5750    430.600   \n",
       "messages  3214.0     38.281269    36.148326  0.0      9.0000     30.000   \n",
       "mb_used   3214.0  17207.673836  7570.968246  0.0  12491.9025  16943.235   \n",
       "is_ultra  3214.0      0.306472     0.461100  0.0      0.0000      0.000   \n",
       "\n",
       "                 75%       max  \n",
       "calls        82.0000    244.00  \n",
       "minutes     571.9275   1632.06  \n",
       "messages     57.0000    224.00  \n",
       "mb_used   21424.7000  49745.73  \n",
       "is_ultra      1.0000      1.00  "
      ]
     },
     "execution_count": 2,
     "metadata": {},
     "output_type": "execute_result"
    }
   ],
   "source": [
    "df.describe().T"
   ]
  },
  {
   "cell_type": "code",
   "execution_count": 3,
   "metadata": {},
   "outputs": [
    {
     "data": {
      "text/plain": [
       "calls       0\n",
       "minutes     0\n",
       "messages    0\n",
       "mb_used     0\n",
       "is_ultra    0\n",
       "dtype: int64"
      ]
     },
     "execution_count": 3,
     "metadata": {},
     "output_type": "execute_result"
    }
   ],
   "source": [
    "df.isna().sum()"
   ]
  },
  {
   "cell_type": "code",
   "execution_count": 4,
   "metadata": {},
   "outputs": [
    {
     "data": {
      "text/plain": [
       "0"
      ]
     },
     "execution_count": 4,
     "metadata": {},
     "output_type": "execute_result"
    }
   ],
   "source": [
    "df.duplicated().sum()"
   ]
  },
  {
   "cell_type": "code",
   "execution_count": 5,
   "metadata": {},
   "outputs": [
    {
     "name": "stdout",
     "output_type": "stream",
     "text": [
      "<class 'pandas.core.frame.DataFrame'>\n",
      "RangeIndex: 3214 entries, 0 to 3213\n",
      "Data columns (total 5 columns):\n",
      " #   Column    Non-Null Count  Dtype  \n",
      "---  ------    --------------  -----  \n",
      " 0   calls     3214 non-null   float64\n",
      " 1   minutes   3214 non-null   float64\n",
      " 2   messages  3214 non-null   float64\n",
      " 3   mb_used   3214 non-null   float64\n",
      " 4   is_ultra  3214 non-null   int64  \n",
      "dtypes: float64(4), int64(1)\n",
      "memory usage: 125.7 KB\n"
     ]
    }
   ],
   "source": [
    "df.info()"
   ]
  },
  {
   "cell_type": "markdown",
   "metadata": {
    "lang": "en"
   },
   "source": [
    "## Break the data into samples"
   ]
  },
  {
   "cell_type": "code",
   "execution_count": 6,
   "metadata": {},
   "outputs": [],
   "source": [
    "from sklearn.model_selection import train_test_split\n",
    "\n",
    "features = df.drop(columns=['is_ultra'])\n",
    "target = df['is_ultra']\n",
    "\n",
    "features_train, features_valid, target_train, target_valid = train_test_split(features, target, test_size=0.4, random_state=12345)\n",
    "features_valid, features_test, target_valid, target_test = train_test_split(features_valid, target_valid, test_size=0.5, random_state=12345)"
   ]
  },
  {
   "cell_type": "markdown",
   "metadata": {
    "lang": "en"
   },
   "source": [
    "## Explore models"
   ]
  },
  {
   "cell_type": "code",
   "execution_count": 7,
   "metadata": {},
   "outputs": [
    {
     "name": "stdout",
     "output_type": "stream",
     "text": [
      "Лучший показатель: 0.7107309486780715 Число итераций: 1000\n"
     ]
    }
   ],
   "source": [
    "from sklearn.linear_model import LogisticRegression\n",
    "\n",
    "logreg_result = 0\n",
    "max_iter = 0\n",
    "logreg_best = None\n",
    "for iterations in range(100, 1001, 100):\n",
    "    logreg = LogisticRegression(random_state=12345, solver='lbfgs', max_iter=iterations)\n",
    "    logreg.fit(features_train, target_train)\n",
    "    result = logreg.score(features_valid, target_valid)\n",
    "    if result >= logreg_result:\n",
    "        logreg_result = result\n",
    "        max_iter = iterations\n",
    "        logreg_best = logreg\n",
    "\n",
    "print('Лучший показатель:', logreg_result, 'Число итераций:', max_iter)"
   ]
  },
  {
   "cell_type": "code",
   "execution_count": 8,
   "metadata": {},
   "outputs": [
    {
     "name": "stdout",
     "output_type": "stream",
     "text": [
      "Лучший показатель: 0.7947122861586314 Всего estimators: 40 Глубина: 5\n"
     ]
    }
   ],
   "source": [
    "from sklearn.ensemble import RandomForestClassifier\n",
    "\n",
    "forest_result = 0\n",
    "estimators = 0\n",
    "depth = 0\n",
    "forest_best = None\n",
    "for est in range(10, 51, 10):\n",
    "    for depth in range(1, 6):\n",
    "        forest = RandomForestClassifier(random_state=12345, max_depth=depth, n_estimators=est)\n",
    "        forest.fit(features_train, target_train)\n",
    "        result = forest.score(features_valid, target_valid)\n",
    "        if result >= forest_result:\n",
    "            forest_result = result\n",
    "            estimators = est\n",
    "            depth = depth\n",
    "            forest_best = forest\n",
    "            \n",
    "print('Лучший показатель:', forest_result, 'Всего estimators:', estimators, 'Глубина:', depth)"
   ]
  },
  {
   "cell_type": "markdown",
   "metadata": {
    "lang": "en"
   },
   "source": [
    "The best accuracy rate of 79% was obtained from a random forest model with a depth of 5 and a number of trees of 40."
   ]
  },
  {
   "cell_type": "markdown",
   "metadata": {
    "lang": "en"
   },
   "source": [
    "## Test the model on a test sample"
   ]
  },
  {
   "cell_type": "code",
   "execution_count": 9,
   "metadata": {},
   "outputs": [
    {
     "name": "stdout",
     "output_type": "stream",
     "text": [
      "0.7838258164852255\n"
     ]
    }
   ],
   "source": [
    "forest_test = forest_best.score(features_test, target_test)\n",
    "print(forest_test)"
   ]
  },
  {
   "cell_type": "markdown",
   "metadata": {
    "lang": "en"
   },
   "source": [
    "## Check the models for adequacy"
   ]
  },
  {
   "cell_type": "code",
   "execution_count": 10,
   "metadata": {},
   "outputs": [],
   "source": [
    "ultra = df[df['is_ultra']==1]\n",
    "ultra_x = ultra.drop(columns=['is_ultra'])\n",
    "ultra_y = ultra['is_ultra']\n",
    "\n",
    "smart = df[df['is_ultra']==0]\n",
    "smart_x = smart.drop(columns=['is_ultra'])\n",
    "ultra_y = smart['is_ultra']"
   ]
  },
  {
   "cell_type": "code",
   "execution_count": 11,
   "metadata": {},
   "outputs": [
    {
     "data": {
      "text/html": [
       "<div>\n",
       "<style scoped>\n",
       "    .dataframe tbody tr th:only-of-type {\n",
       "        vertical-align: middle;\n",
       "    }\n",
       "\n",
       "    .dataframe tbody tr th {\n",
       "        vertical-align: top;\n",
       "    }\n",
       "\n",
       "    .dataframe thead th {\n",
       "        text-align: right;\n",
       "    }\n",
       "</style>\n",
       "<table border=\"1\" class=\"dataframe\">\n",
       "  <thead>\n",
       "    <tr style=\"text-align: right;\">\n",
       "      <th></th>\n",
       "      <th>count</th>\n",
       "      <th>mean</th>\n",
       "      <th>std</th>\n",
       "      <th>min</th>\n",
       "      <th>25%</th>\n",
       "      <th>50%</th>\n",
       "      <th>75%</th>\n",
       "      <th>max</th>\n",
       "    </tr>\n",
       "  </thead>\n",
       "  <tbody>\n",
       "    <tr>\n",
       "      <th>calls</th>\n",
       "      <td>985.0</td>\n",
       "      <td>73.392893</td>\n",
       "      <td>43.916853</td>\n",
       "      <td>0.0</td>\n",
       "      <td>41.00</td>\n",
       "      <td>74.00</td>\n",
       "      <td>104.00</td>\n",
       "      <td>244.00</td>\n",
       "    </tr>\n",
       "    <tr>\n",
       "      <th>minutes</th>\n",
       "      <td>985.0</td>\n",
       "      <td>511.224569</td>\n",
       "      <td>308.031100</td>\n",
       "      <td>0.0</td>\n",
       "      <td>276.03</td>\n",
       "      <td>502.55</td>\n",
       "      <td>730.05</td>\n",
       "      <td>1632.06</td>\n",
       "    </tr>\n",
       "    <tr>\n",
       "      <th>messages</th>\n",
       "      <td>985.0</td>\n",
       "      <td>49.363452</td>\n",
       "      <td>47.804457</td>\n",
       "      <td>0.0</td>\n",
       "      <td>6.00</td>\n",
       "      <td>38.00</td>\n",
       "      <td>79.00</td>\n",
       "      <td>224.00</td>\n",
       "    </tr>\n",
       "    <tr>\n",
       "      <th>mb_used</th>\n",
       "      <td>985.0</td>\n",
       "      <td>19468.823228</td>\n",
       "      <td>10087.178654</td>\n",
       "      <td>0.0</td>\n",
       "      <td>11770.28</td>\n",
       "      <td>19308.01</td>\n",
       "      <td>26837.72</td>\n",
       "      <td>49745.73</td>\n",
       "    </tr>\n",
       "    <tr>\n",
       "      <th>is_ultra</th>\n",
       "      <td>985.0</td>\n",
       "      <td>1.000000</td>\n",
       "      <td>0.000000</td>\n",
       "      <td>1.0</td>\n",
       "      <td>1.00</td>\n",
       "      <td>1.00</td>\n",
       "      <td>1.00</td>\n",
       "      <td>1.00</td>\n",
       "    </tr>\n",
       "  </tbody>\n",
       "</table>\n",
       "</div>"
      ],
      "text/plain": [
       "          count          mean           std  min       25%       50%  \\\n",
       "calls     985.0     73.392893     43.916853  0.0     41.00     74.00   \n",
       "minutes   985.0    511.224569    308.031100  0.0    276.03    502.55   \n",
       "messages  985.0     49.363452     47.804457  0.0      6.00     38.00   \n",
       "mb_used   985.0  19468.823228  10087.178654  0.0  11770.28  19308.01   \n",
       "is_ultra  985.0      1.000000      0.000000  1.0      1.00      1.00   \n",
       "\n",
       "               75%       max  \n",
       "calls       104.00    244.00  \n",
       "minutes     730.05   1632.06  \n",
       "messages     79.00    224.00  \n",
       "mb_used   26837.72  49745.73  \n",
       "is_ultra      1.00      1.00  "
      ]
     },
     "execution_count": 11,
     "metadata": {},
     "output_type": "execute_result"
    }
   ],
   "source": [
    "ultra.describe().T"
   ]
  },
  {
   "cell_type": "code",
   "execution_count": 12,
   "metadata": {},
   "outputs": [
    {
     "data": {
      "text/html": [
       "<div>\n",
       "<style scoped>\n",
       "    .dataframe tbody tr th:only-of-type {\n",
       "        vertical-align: middle;\n",
       "    }\n",
       "\n",
       "    .dataframe tbody tr th {\n",
       "        vertical-align: top;\n",
       "    }\n",
       "\n",
       "    .dataframe thead th {\n",
       "        text-align: right;\n",
       "    }\n",
       "</style>\n",
       "<table border=\"1\" class=\"dataframe\">\n",
       "  <thead>\n",
       "    <tr style=\"text-align: right;\">\n",
       "      <th></th>\n",
       "      <th>count</th>\n",
       "      <th>mean</th>\n",
       "      <th>std</th>\n",
       "      <th>min</th>\n",
       "      <th>25%</th>\n",
       "      <th>50%</th>\n",
       "      <th>75%</th>\n",
       "      <th>max</th>\n",
       "    </tr>\n",
       "  </thead>\n",
       "  <tbody>\n",
       "    <tr>\n",
       "      <th>calls</th>\n",
       "      <td>2229.0</td>\n",
       "      <td>58.463437</td>\n",
       "      <td>25.939858</td>\n",
       "      <td>0.0</td>\n",
       "      <td>40.00</td>\n",
       "      <td>60.00</td>\n",
       "      <td>76.00</td>\n",
       "      <td>198.00</td>\n",
       "    </tr>\n",
       "    <tr>\n",
       "      <th>minutes</th>\n",
       "      <td>2229.0</td>\n",
       "      <td>405.942952</td>\n",
       "      <td>184.512604</td>\n",
       "      <td>0.0</td>\n",
       "      <td>274.23</td>\n",
       "      <td>410.56</td>\n",
       "      <td>529.51</td>\n",
       "      <td>1390.22</td>\n",
       "    </tr>\n",
       "    <tr>\n",
       "      <th>messages</th>\n",
       "      <td>2229.0</td>\n",
       "      <td>33.384029</td>\n",
       "      <td>28.227876</td>\n",
       "      <td>0.0</td>\n",
       "      <td>10.00</td>\n",
       "      <td>28.00</td>\n",
       "      <td>51.00</td>\n",
       "      <td>143.00</td>\n",
       "    </tr>\n",
       "    <tr>\n",
       "      <th>mb_used</th>\n",
       "      <td>2229.0</td>\n",
       "      <td>16208.466949</td>\n",
       "      <td>5870.498853</td>\n",
       "      <td>0.0</td>\n",
       "      <td>12643.05</td>\n",
       "      <td>16506.93</td>\n",
       "      <td>20043.06</td>\n",
       "      <td>38552.62</td>\n",
       "    </tr>\n",
       "    <tr>\n",
       "      <th>is_ultra</th>\n",
       "      <td>2229.0</td>\n",
       "      <td>0.000000</td>\n",
       "      <td>0.000000</td>\n",
       "      <td>0.0</td>\n",
       "      <td>0.00</td>\n",
       "      <td>0.00</td>\n",
       "      <td>0.00</td>\n",
       "      <td>0.00</td>\n",
       "    </tr>\n",
       "  </tbody>\n",
       "</table>\n",
       "</div>"
      ],
      "text/plain": [
       "           count          mean          std  min       25%       50%  \\\n",
       "calls     2229.0     58.463437    25.939858  0.0     40.00     60.00   \n",
       "minutes   2229.0    405.942952   184.512604  0.0    274.23    410.56   \n",
       "messages  2229.0     33.384029    28.227876  0.0     10.00     28.00   \n",
       "mb_used   2229.0  16208.466949  5870.498853  0.0  12643.05  16506.93   \n",
       "is_ultra  2229.0      0.000000     0.000000  0.0      0.00      0.00   \n",
       "\n",
       "               75%       max  \n",
       "calls        76.00    198.00  \n",
       "minutes     529.51   1390.22  \n",
       "messages     51.00    143.00  \n",
       "mb_used   20043.06  38552.62  \n",
       "is_ultra      0.00      0.00  "
      ]
     },
     "execution_count": 12,
     "metadata": {},
     "output_type": "execute_result"
    }
   ],
   "source": [
    "smart.describe().T"
   ]
  },
  {
   "cell_type": "code",
   "execution_count": 13,
   "metadata": {},
   "outputs": [
    {
     "data": {
      "text/plain": [
       "0.49746192893401014"
      ]
     },
     "execution_count": 13,
     "metadata": {},
     "output_type": "execute_result"
    }
   ],
   "source": [
    "forest_best.predict(ultra_x).mean()"
   ]
  },
  {
   "cell_type": "code",
   "execution_count": 14,
   "metadata": {},
   "outputs": [
    {
     "data": {
      "text/plain": [
       "0.04979811574697174"
      ]
     },
     "execution_count": 14,
     "metadata": {},
     "output_type": "execute_result"
    }
   ],
   "source": [
    "forest_best.predict(smart_x).mean()"
   ]
  },
  {
   "cell_type": "markdown",
   "metadata": {
    "lang": "ru"
   },
   "source": [
    "<div style=\"background: #B0E0E6; padding: 5px; border: 1px solid SteelBlue; border-radius: 5px;\">\n",
    "    <font color='4682B4'><u><b>Conclusion\n",
    "        \n",
    "</b></u></font>\n",
    "    <br />\n",
    "    <font color='4682B4'>We were given data about users of the \"Ultra\" and \"Smart\" tariffs, their activity in terms of the number and duration of calls, number of SMS messages and traffic package consumed. The task was to train a model to categorize users depending on their activity. This will help us choose the appropriate tariff for the client. Two models with different hyperparameters were examined: a logistic regression model and a random forest. A random forest with a number of trees of 40 and a depth of 5 scored the best; its accuracy is 79%. On the test sample, the model gave a result of 78% </font>\n",
    "</div>"
   ]
  }
 ],
 "metadata": {
  "ExecuteTimeLog": [
   {
    "duration": 51,
    "start_time": "2023-03-15T14:45:41.996Z"
   },
   {
    "duration": 401,
    "start_time": "2023-03-15T14:45:52.598Z"
   },
   {
    "duration": 26,
    "start_time": "2023-03-15T14:46:05.042Z"
   },
   {
    "duration": 34,
    "start_time": "2023-03-15T14:46:27.208Z"
   },
   {
    "duration": 40,
    "start_time": "2023-03-15T14:47:44.928Z"
   },
   {
    "duration": 42,
    "start_time": "2023-03-15T14:47:50.763Z"
   },
   {
    "duration": 34,
    "start_time": "2023-03-15T14:48:17.223Z"
   },
   {
    "duration": 22,
    "start_time": "2023-03-15T14:48:29.543Z"
   },
   {
    "duration": 55,
    "start_time": "2023-03-15T14:48:43.608Z"
   },
   {
    "duration": 6,
    "start_time": "2023-03-15T14:48:49.666Z"
   },
   {
    "duration": 6,
    "start_time": "2023-03-15T14:48:57.210Z"
   },
   {
    "duration": 10,
    "start_time": "2023-03-15T14:49:09.007Z"
   },
   {
    "duration": 8,
    "start_time": "2023-03-15T14:49:17.623Z"
   },
   {
    "duration": 7,
    "start_time": "2023-03-15T14:49:28.952Z"
   },
   {
    "duration": 8,
    "start_time": "2023-03-15T14:49:32.948Z"
   },
   {
    "duration": 7,
    "start_time": "2023-03-15T14:49:49.218Z"
   },
   {
    "duration": 5,
    "start_time": "2023-03-15T14:49:53.050Z"
   },
   {
    "duration": 11,
    "start_time": "2023-03-15T14:50:27.531Z"
   },
   {
    "duration": 624,
    "start_time": "2023-03-15T15:00:07.551Z"
   },
   {
    "duration": 39,
    "start_time": "2023-03-15T15:00:45.828Z"
   },
   {
    "duration": 28,
    "start_time": "2023-03-15T15:00:45.869Z"
   },
   {
    "duration": 7,
    "start_time": "2023-03-15T15:00:45.899Z"
   },
   {
    "duration": 17,
    "start_time": "2023-03-15T15:00:45.908Z"
   },
   {
    "duration": 16,
    "start_time": "2023-03-15T15:00:45.927Z"
   },
   {
    "duration": 10,
    "start_time": "2023-03-15T15:00:48.907Z"
   },
   {
    "duration": 39,
    "start_time": "2023-03-15T15:01:23.328Z"
   },
   {
    "duration": 14,
    "start_time": "2023-03-15T15:01:38.708Z"
   },
   {
    "duration": 11,
    "start_time": "2023-03-15T15:04:41.514Z"
   },
   {
    "duration": 11,
    "start_time": "2023-03-15T15:04:55.934Z"
   },
   {
    "duration": 5,
    "start_time": "2023-03-15T15:05:08.311Z"
   },
   {
    "duration": 4,
    "start_time": "2023-03-15T15:05:24.009Z"
   },
   {
    "duration": 4,
    "start_time": "2023-03-15T15:05:32.808Z"
   },
   {
    "duration": 4,
    "start_time": "2023-03-15T15:05:40.730Z"
   },
   {
    "duration": 5,
    "start_time": "2023-03-15T15:05:47.033Z"
   },
   {
    "duration": 6,
    "start_time": "2023-03-15T15:06:16.217Z"
   },
   {
    "duration": 5,
    "start_time": "2023-03-15T15:06:23.590Z"
   },
   {
    "duration": 11,
    "start_time": "2023-03-15T15:06:31.006Z"
   },
   {
    "duration": 3,
    "start_time": "2023-03-15T15:06:47.832Z"
   },
   {
    "duration": 3,
    "start_time": "2023-03-15T15:06:54.022Z"
   },
   {
    "duration": 4,
    "start_time": "2023-03-15T15:18:28.263Z"
   },
   {
    "duration": 9,
    "start_time": "2023-03-15T15:18:38.078Z"
   },
   {
    "duration": 8,
    "start_time": "2023-03-15T15:18:46.622Z"
   },
   {
    "duration": 5,
    "start_time": "2023-03-15T15:18:54.302Z"
   },
   {
    "duration": 5,
    "start_time": "2023-03-15T15:19:03.031Z"
   },
   {
    "duration": 54,
    "start_time": "2023-03-15T15:27:31.453Z"
   },
   {
    "duration": 32,
    "start_time": "2023-03-15T15:29:39.009Z"
   },
   {
    "duration": 17,
    "start_time": "2023-03-15T15:31:56.202Z"
   },
   {
    "duration": 11,
    "start_time": "2023-03-15T15:32:03.559Z"
   },
   {
    "duration": 11,
    "start_time": "2023-03-15T15:32:07.404Z"
   },
   {
    "duration": 13,
    "start_time": "2023-03-15T15:32:11.903Z"
   },
   {
    "duration": 6,
    "start_time": "2023-03-15T15:32:22.355Z"
   },
   {
    "duration": 7,
    "start_time": "2023-03-15T15:32:31.004Z"
   },
   {
    "duration": 7,
    "start_time": "2023-03-15T15:32:40.025Z"
   },
   {
    "duration": 9,
    "start_time": "2023-03-15T15:32:54.411Z"
   },
   {
    "duration": 4,
    "start_time": "2023-03-15T15:36:57.001Z"
   },
   {
    "duration": 7,
    "start_time": "2023-03-15T15:37:16.720Z"
   },
   {
    "duration": 25,
    "start_time": "2023-03-15T15:38:40.463Z"
   },
   {
    "duration": 35,
    "start_time": "2023-03-15T15:38:52.535Z"
   },
   {
    "duration": 182,
    "start_time": "2023-03-15T15:42:15.271Z"
   },
   {
    "duration": 41,
    "start_time": "2023-03-15T15:43:36.452Z"
   },
   {
    "duration": 31,
    "start_time": "2023-03-15T15:43:55.096Z"
   },
   {
    "duration": 23,
    "start_time": "2023-03-15T15:43:55.667Z"
   },
   {
    "duration": 22,
    "start_time": "2023-03-15T15:43:56.206Z"
   },
   {
    "duration": 22,
    "start_time": "2023-03-15T15:44:05.350Z"
   },
   {
    "duration": 23,
    "start_time": "2023-03-15T15:44:06.260Z"
   },
   {
    "duration": 21,
    "start_time": "2023-03-15T15:44:06.728Z"
   },
   {
    "duration": 24,
    "start_time": "2023-03-15T15:44:07.095Z"
   },
   {
    "duration": 22,
    "start_time": "2023-03-15T15:44:07.409Z"
   },
   {
    "duration": 28,
    "start_time": "2023-03-15T15:44:07.818Z"
   },
   {
    "duration": 9,
    "start_time": "2023-03-15T15:44:25.080Z"
   },
   {
    "duration": 22,
    "start_time": "2023-03-15T15:44:29.929Z"
   },
   {
    "duration": 35,
    "start_time": "2023-03-15T15:44:33.248Z"
   },
   {
    "duration": 38,
    "start_time": "2023-03-15T15:44:34.047Z"
   },
   {
    "duration": 30,
    "start_time": "2023-03-15T15:44:34.715Z"
   },
   {
    "duration": 189,
    "start_time": "2023-03-15T15:46:06.755Z"
   },
   {
    "duration": 173,
    "start_time": "2023-03-15T15:49:28.011Z"
   },
   {
    "duration": 171,
    "start_time": "2023-03-15T15:49:42.096Z"
   },
   {
    "duration": 184,
    "start_time": "2023-03-15T15:49:56.010Z"
   },
   {
    "duration": 1379,
    "start_time": "2023-03-15T15:54:20.798Z"
   },
   {
    "duration": 11,
    "start_time": "2023-03-15T15:57:07.653Z"
   },
   {
    "duration": 14,
    "start_time": "2023-03-15T16:04:07.192Z"
   },
   {
    "duration": 13,
    "start_time": "2023-03-15T16:08:28.292Z"
   },
   {
    "duration": 19,
    "start_time": "2023-03-15T16:09:07.996Z"
   },
   {
    "duration": 15,
    "start_time": "2023-03-15T16:09:30.597Z"
   },
   {
    "duration": 24,
    "start_time": "2023-03-15T16:09:38.365Z"
   },
   {
    "duration": 26,
    "start_time": "2023-03-15T16:09:58.766Z"
   },
   {
    "duration": 24,
    "start_time": "2023-03-15T16:12:47.650Z"
   },
   {
    "duration": 13,
    "start_time": "2023-03-15T16:13:08.076Z"
   },
   {
    "duration": 9,
    "start_time": "2023-03-15T16:14:26.664Z"
   },
   {
    "duration": 12,
    "start_time": "2023-03-15T16:14:44.296Z"
   },
   {
    "duration": 8,
    "start_time": "2023-03-15T16:14:49.900Z"
   },
   {
    "duration": 7,
    "start_time": "2023-03-15T16:18:16.170Z"
   },
   {
    "duration": 34,
    "start_time": "2023-03-15T16:18:27.626Z"
   },
   {
    "duration": 34,
    "start_time": "2023-03-15T16:18:31.427Z"
   },
   {
    "duration": 14,
    "start_time": "2023-03-15T16:19:33.590Z"
   },
   {
    "duration": 13,
    "start_time": "2023-03-15T16:19:50.109Z"
   },
   {
    "duration": 24,
    "start_time": "2023-03-15T16:20:26.356Z"
   },
   {
    "duration": 15,
    "start_time": "2023-03-15T16:20:35.889Z"
   },
   {
    "duration": 21,
    "start_time": "2023-03-15T16:20:45.836Z"
   },
   {
    "duration": 405,
    "start_time": "2023-03-15T17:04:42.088Z"
   },
   {
    "duration": 25,
    "start_time": "2023-03-15T17:04:42.495Z"
   },
   {
    "duration": 19,
    "start_time": "2023-03-15T17:04:42.522Z"
   },
   {
    "duration": 20,
    "start_time": "2023-03-15T17:04:42.542Z"
   },
   {
    "duration": 35,
    "start_time": "2023-03-15T17:04:42.564Z"
   },
   {
    "duration": 1563,
    "start_time": "2023-03-15T17:04:42.601Z"
   },
   {
    "duration": 232,
    "start_time": "2023-03-15T17:04:44.165Z"
   },
   {
    "duration": 1664,
    "start_time": "2023-03-15T17:04:44.399Z"
   },
   {
    "duration": 11,
    "start_time": "2023-03-15T17:04:46.065Z"
   },
   {
    "duration": 21,
    "start_time": "2023-03-15T17:04:46.078Z"
   },
   {
    "duration": 42,
    "start_time": "2023-03-15T17:04:46.101Z"
   },
   {
    "duration": 51,
    "start_time": "2023-03-15T17:04:46.145Z"
   },
   {
    "duration": 14,
    "start_time": "2023-03-15T17:04:46.198Z"
   },
   {
    "duration": 36,
    "start_time": "2023-03-15T17:04:46.215Z"
   }
  ],
  "kernelspec": {
   "display_name": "Python 3 (ipykernel)",
   "language": "python",
   "name": "python3"
  },
  "language_info": {
   "codemirror_mode": {
    "name": "ipython",
    "version": 3
   },
   "file_extension": ".py",
   "mimetype": "text/x-python",
   "name": "python",
   "nbconvert_exporter": "python",
   "pygments_lexer": "ipython3",
   "version": "3.9.13"
  },
  "nbTranslate": {
   "displayLangs": [],
   "hotkey": "alt-t",
   "langInMainMenu": true,
   "sourceLang": "ru",
   "targetLang": "en",
   "useGoogleTranslate": true
  },
  "toc": {
   "base_numbering": 1,
   "nav_menu": {},
   "number_sections": true,
   "sideBar": true,
   "skip_h1_title": true,
   "title_cell": "Table of Contents",
   "title_sidebar": "Contents",
   "toc_cell": false,
   "toc_position": {
    "height": "calc(100% - 180px)",
    "left": "10px",
    "top": "150px",
    "width": "307.194px"
   },
   "toc_section_display": true,
   "toc_window_display": false
  }
 },
 "nbformat": 4,
 "nbformat_minor": 2
}
